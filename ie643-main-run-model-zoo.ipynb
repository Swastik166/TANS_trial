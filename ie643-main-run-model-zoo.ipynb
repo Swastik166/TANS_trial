{
 "cells": [
  {
   "cell_type": "code",
   "execution_count": 1,
   "id": "653bf5e0",
   "metadata": {
    "_cell_guid": "b1076dfc-b9ad-4769-8c92-a6c4dae69d19",
    "_uuid": "8f2839f25d086af736a60e9eeb907d3b93b6e0e5",
    "execution": {
     "iopub.execute_input": "2023-11-27T23:54:55.690093Z",
     "iopub.status.busy": "2023-11-27T23:54:55.689458Z",
     "iopub.status.idle": "2023-11-27T23:54:57.248592Z",
     "shell.execute_reply": "2023-11-27T23:54:57.247646Z"
    },
    "papermill": {
     "duration": 1.566512,
     "end_time": "2023-11-27T23:54:57.250732",
     "exception": false,
     "start_time": "2023-11-27T23:54:55.684220",
     "status": "completed"
    },
    "tags": []
   },
   "outputs": [
    {
     "name": "stdout",
     "output_type": "stream",
     "text": [
      "Cloning into 'TANS_trial'...\r\n",
      "remote: Enumerating objects: 347, done.\u001b[K\r\n",
      "remote: Counting objects: 100% (159/159), done.\u001b[K\r\n",
      "remote: Compressing objects: 100% (152/152), done.\u001b[K\r\n",
      "remote: Total 347 (delta 89), reused 6 (delta 6), pack-reused 188\u001b[K\r\n",
      "Receiving objects: 100% (347/347), 427.75 KiB | 3.51 MiB/s, done.\r\n",
      "Resolving deltas: 100% (158/158), done.\r\n"
     ]
    }
   ],
   "source": [
    "!git clone https://github.com/Swastik166/TANS_trial.git"
   ]
  },
  {
   "cell_type": "code",
   "execution_count": 2,
   "id": "99ee11f1",
   "metadata": {
    "execution": {
     "iopub.execute_input": "2023-11-27T23:54:57.261013Z",
     "iopub.status.busy": "2023-11-27T23:54:57.260381Z",
     "iopub.status.idle": "2023-11-27T23:54:57.469002Z",
     "shell.execute_reply": "2023-11-27T23:54:57.468087Z"
    },
    "papermill": {
     "duration": 0.215661,
     "end_time": "2023-11-27T23:54:57.470910",
     "exception": false,
     "start_time": "2023-11-27T23:54:57.255249",
     "status": "completed"
    },
    "tags": []
   },
   "outputs": [
    {
     "name": "stdout",
     "output_type": "stream",
     "text": [
      "Already up to date.\n"
     ]
    }
   ],
   "source": [
    "%%bash\n",
    "cd /kaggle/working/TANS_trial\n",
    "git pull"
   ]
  },
  {
   "cell_type": "code",
   "execution_count": 3,
   "id": "44407ea0",
   "metadata": {
    "execution": {
     "iopub.execute_input": "2023-11-27T23:54:57.480522Z",
     "iopub.status.busy": "2023-11-27T23:54:57.480228Z",
     "iopub.status.idle": "2023-11-27T23:55:21.944817Z",
     "shell.execute_reply": "2023-11-27T23:55:21.943608Z"
    },
    "papermill": {
     "duration": 24.471877,
     "end_time": "2023-11-27T23:55:21.947119",
     "exception": false,
     "start_time": "2023-11-27T23:54:57.475242",
     "status": "completed"
    },
    "tags": []
   },
   "outputs": [
    {
     "name": "stdout",
     "output_type": "stream",
     "text": [
      "Collecting config\r\n",
      "  Downloading config-0.5.1-py2.py3-none-any.whl (20 kB)\r\n",
      "Installing collected packages: config\r\n",
      "Successfully installed config-0.5.1\r\n",
      "Collecting gdown\r\n",
      "  Downloading gdown-4.7.1-py3-none-any.whl (15 kB)\r\n",
      "Requirement already satisfied: filelock in /opt/conda/lib/python3.10/site-packages (from gdown) (3.12.2)\r\n",
      "Requirement already satisfied: requests[socks] in /opt/conda/lib/python3.10/site-packages (from gdown) (2.31.0)\r\n",
      "Requirement already satisfied: six in /opt/conda/lib/python3.10/site-packages (from gdown) (1.16.0)\r\n",
      "Requirement already satisfied: tqdm in /opt/conda/lib/python3.10/site-packages (from gdown) (4.66.1)\r\n",
      "Requirement already satisfied: beautifulsoup4 in /opt/conda/lib/python3.10/site-packages (from gdown) (4.12.2)\r\n",
      "Requirement already satisfied: soupsieve>1.2 in /opt/conda/lib/python3.10/site-packages (from beautifulsoup4->gdown) (2.3.2.post1)\r\n",
      "Requirement already satisfied: charset-normalizer<4,>=2 in /opt/conda/lib/python3.10/site-packages (from requests[socks]->gdown) (3.2.0)\r\n",
      "Requirement already satisfied: idna<4,>=2.5 in /opt/conda/lib/python3.10/site-packages (from requests[socks]->gdown) (3.4)\r\n",
      "Requirement already satisfied: urllib3<3,>=1.21.1 in /opt/conda/lib/python3.10/site-packages (from requests[socks]->gdown) (1.26.15)\r\n",
      "Requirement already satisfied: certifi>=2017.4.17 in /opt/conda/lib/python3.10/site-packages (from requests[socks]->gdown) (2023.7.22)\r\n",
      "Requirement already satisfied: PySocks!=1.5.7,>=1.5.6 in /opt/conda/lib/python3.10/site-packages (from requests[socks]->gdown) (1.7.1)\r\n",
      "Installing collected packages: gdown\r\n",
      "Successfully installed gdown-4.7.1\r\n"
     ]
    }
   ],
   "source": [
    "!pip install config\n",
    "!pip install gdown"
   ]
  },
  {
   "cell_type": "markdown",
   "id": "4914f06d",
   "metadata": {
    "papermill": {
     "duration": 0.00479,
     "end_time": "2023-11-27T23:55:21.957157",
     "exception": false,
     "start_time": "2023-11-27T23:55:21.952367",
     "status": "completed"
    },
    "tags": []
   },
   "source": [
    "# Creating Model Zoo"
   ]
  },
  {
   "cell_type": "code",
   "execution_count": 4,
   "id": "58931401",
   "metadata": {
    "execution": {
     "iopub.execute_input": "2023-11-27T23:55:21.968297Z",
     "iopub.status.busy": "2023-11-27T23:55:21.968011Z",
     "iopub.status.idle": "2023-11-28T03:40:00.912583Z",
     "shell.execute_reply": "2023-11-28T03:40:00.911365Z"
    },
    "papermill": {
     "duration": 13478.953037,
     "end_time": "2023-11-28T03:40:00.915066",
     "exception": false,
     "start_time": "2023-11-27T23:55:21.962029",
     "status": "completed"
    },
    "tags": []
   },
   "outputs": [
    {
     "name": "stderr",
     "output_type": "stream",
     "text": [
      "/opt/conda/lib/python3.10/site-packages/torch/hub.py:286: UserWarning: You are about to download and run code from an untrusted repository. In a future release, this won't be allowed. To add the repository to your trusted list, change the command to {calling_fn}(..., trust_repo=False) and a command prompt will appear asking for an explicit confirmation of trust, or load(..., trust_repo=True), which will assume that the prompt is to be answered with 'yes'. You can also use load(..., trust_repo='check') which will only prompt for confirmation if the repo is not already trusted. This will eventually be the default behaviour\n",
      "  warnings.warn(\n",
      "Downloading: \"https://github.com/mit-han-lab/once-for-all/zipball/master\" to /root/.cache/torch/hub/master.zip\n",
      "Downloading: \"https://raw.githubusercontent.com/han-cai/files/master/ofa/ofa_nets/ofa_mbv3_d234_e346_k357_w1.2\" to .torch/ofa_nets/ofa_mbv3_d234_e346_k357_w1.2\n"
     ]
    },
    {
     "name": "stdout",
     "output_type": "stream",
     "text": [
      " \n",
      " Using GPU: Tesla P100-PCIE-16GB \n",
      "\n",
      "\n",
      "=====> LOADING dataset and loaders for train, test and validation <=====\n",
      "\n",
      "quesry_dataset sldc_0_10\n",
      "\n",
      "Dataset : sldc_0_10, nclss:10\n",
      "\n",
      "\n",
      "=====> Generating 1th network  <=====\n",
      "\n",
      "\n",
      "=====>Generating sub_net<=====\n",
      "\n",
      "\n",
      "=====> Training started <=====\n",
      "\n",
      "Starting Training for:sldc_0_10 with model topology:[3, 5, 5, 5, 7, 5, 5, 7, 3, 5, 7, 7, 7, 5, 7, 5, 3, 3, 7, 3, 4, 3, 6, 3, 6, 6, 4, 4, 6, 4, 3, 6, 6, 3, 4, 6, 3, 4, 6, 3, 3, 4, 2, 4, 4]\n"
     ]
    },
    {
     "name": "stderr",
     "output_type": "stream",
     "text": [
      "52it [00:15,  3.45it/s]\n",
      "7it [00:00,  8.64it/s]\n"
     ]
    },
    {
     "name": "stdout",
     "output_type": "stream",
     "text": [
      "\n",
      "Epoch: 1/15, Train Loss: 54.50865383 , Val Loss: 26.66105870, Train Accuracy:52.79805353,  Val Accuracy: 85.57692308, Epoch Time: 16.06414533\n"
     ]
    },
    {
     "name": "stderr",
     "output_type": "stream",
     "text": [
      "52it [00:08,  5.87it/s]\n",
      "7it [00:00, 12.90it/s]\n"
     ]
    },
    {
     "name": "stdout",
     "output_type": "stream",
     "text": [
      "\n",
      "Epoch: 2/15, Train Loss: 11.68090883 , Val Loss: 3.73519766, Train Accuracy:92.33576642,  Val Accuracy: 99.03846154, Epoch Time: 9.59220099\n"
     ]
    },
    {
     "name": "stderr",
     "output_type": "stream",
     "text": [
      "52it [00:08,  5.86it/s]\n",
      "7it [00:00, 13.32it/s]\n"
     ]
    },
    {
     "name": "stdout",
     "output_type": "stream",
     "text": [
      "\n",
      "Epoch: 3/15, Train Loss: 3.16385455 , Val Loss: 1.62988860, Train Accuracy:98.23600973,  Val Accuracy: 99.51923077, Epoch Time: 9.59224272\n"
     ]
    },
    {
     "name": "stderr",
     "output_type": "stream",
     "text": [
      "52it [00:08,  5.84it/s]\n",
      "7it [00:00, 12.85it/s]\n"
     ]
    },
    {
     "name": "stdout",
     "output_type": "stream",
     "text": [
      "\n",
      "Epoch: 4/15, Train Loss: 1.10888780 , Val Loss: 1.37390450, Train Accuracy:99.45255474,  Val Accuracy: 99.03846154, Epoch Time: 9.62871265\n"
     ]
    },
    {
     "name": "stderr",
     "output_type": "stream",
     "text": [
      "52it [00:08,  5.85it/s]\n",
      "7it [00:00, 13.19it/s]\n"
     ]
    },
    {
     "name": "stdout",
     "output_type": "stream",
     "text": [
      "\n",
      "Epoch: 5/15, Train Loss: 0.56718816 , Val Loss: 1.15999629, Train Accuracy:99.87834550,  Val Accuracy: 99.51923077, Epoch Time: 9.60871077\n"
     ]
    },
    {
     "name": "stderr",
     "output_type": "stream",
     "text": [
      "52it [00:08,  5.87it/s]\n",
      "7it [00:00, 13.11it/s]\n"
     ]
    },
    {
     "name": "stdout",
     "output_type": "stream",
     "text": [
      "\n",
      "Epoch: 6/15, Train Loss: 0.50819361 , Val Loss: 0.89460025, Train Accuracy:99.69586375,  Val Accuracy: 98.55769231, Epoch Time: 9.59366274\n"
     ]
    },
    {
     "name": "stderr",
     "output_type": "stream",
     "text": [
      "52it [00:08,  5.84it/s]\n",
      "7it [00:00, 13.23it/s]\n"
     ]
    },
    {
     "name": "stdout",
     "output_type": "stream",
     "text": [
      "\n",
      "Epoch: 7/15, Train Loss: 0.24856803 , Val Loss: 0.61974711, Train Accuracy:100.00000000,  Val Accuracy: 99.51923077, Epoch Time: 9.60757923\n"
     ]
    },
    {
     "name": "stderr",
     "output_type": "stream",
     "text": [
      "52it [00:08,  5.87it/s]\n",
      "7it [00:00, 10.28it/s]\n"
     ]
    },
    {
     "name": "stdout",
     "output_type": "stream",
     "text": [
      "\n",
      "Epoch: 8/15, Train Loss: 0.16927009 , Val Loss: 0.66306478, Train Accuracy:100.00000000,  Val Accuracy: 99.51923077, Epoch Time: 9.73331809\n"
     ]
    },
    {
     "name": "stderr",
     "output_type": "stream",
     "text": [
      "52it [00:09,  5.77it/s]\n",
      "7it [00:00, 12.72it/s]\n"
     ]
    },
    {
     "name": "stdout",
     "output_type": "stream",
     "text": [
      "\n",
      "Epoch: 9/15, Train Loss: 0.14583287 , Val Loss: 0.69269762, Train Accuracy:100.00000000,  Val Accuracy: 99.03846154, Epoch Time: 9.75493765\n"
     ]
    },
    {
     "name": "stderr",
     "output_type": "stream",
     "text": [
      "52it [00:08,  5.86it/s]\n",
      "7it [00:00, 12.97it/s]\n"
     ]
    },
    {
     "name": "stdout",
     "output_type": "stream",
     "text": [
      "\n",
      "Epoch: 10/15, Train Loss: 0.15471078 , Val Loss: 0.55650997, Train Accuracy:99.93917275,  Val Accuracy: 99.51923077, Epoch Time: 9.61434507\n"
     ]
    },
    {
     "name": "stderr",
     "output_type": "stream",
     "text": [
      "52it [00:08,  5.86it/s]\n",
      "7it [00:00, 12.57it/s]\n"
     ]
    },
    {
     "name": "stdout",
     "output_type": "stream",
     "text": [
      "\n",
      "Epoch: 11/15, Train Loss: 0.16129818 , Val Loss: 0.45320397, Train Accuracy:100.00000000,  Val Accuracy: 100.00000000, Epoch Time: 9.61512566\n"
     ]
    },
    {
     "name": "stderr",
     "output_type": "stream",
     "text": [
      "52it [00:08,  5.87it/s]\n",
      "7it [00:00, 13.47it/s]\n"
     ]
    },
    {
     "name": "stdout",
     "output_type": "stream",
     "text": [
      "\n",
      "Epoch: 12/15, Train Loss: 0.22367506 , Val Loss: 0.40900799, Train Accuracy:99.87834550,  Val Accuracy: 100.00000000, Epoch Time: 9.57857752\n"
     ]
    },
    {
     "name": "stderr",
     "output_type": "stream",
     "text": [
      "52it [00:08,  5.86it/s]\n",
      "7it [00:00, 12.86it/s]\n"
     ]
    },
    {
     "name": "stdout",
     "output_type": "stream",
     "text": [
      "\n",
      "Epoch: 13/15, Train Loss: 0.37849224 , Val Loss: 0.57551880, Train Accuracy:99.63503650,  Val Accuracy: 99.51923077, Epoch Time: 9.60695338\n"
     ]
    },
    {
     "name": "stderr",
     "output_type": "stream",
     "text": [
      "52it [00:08,  5.85it/s]\n",
      "7it [00:00, 13.08it/s]\n"
     ]
    },
    {
     "name": "stdout",
     "output_type": "stream",
     "text": [
      "\n",
      "Epoch: 14/15, Train Loss: 0.09723572 , Val Loss: 0.48046654, Train Accuracy:100.00000000,  Val Accuracy: 99.51923077, Epoch Time: 9.60541010\n"
     ]
    },
    {
     "name": "stderr",
     "output_type": "stream",
     "text": [
      "52it [00:08,  5.86it/s]\n",
      "7it [00:00, 13.18it/s]\n",
      "Using cache found in /root/.cache/torch/hub/mit-han-lab_once-for-all_master\n"
     ]
    },
    {
     "name": "stdout",
     "output_type": "stream",
     "text": [
      "\n",
      "Epoch: 15/15, Train Loss: 0.09106385 , Val Loss: 0.38244780, Train Accuracy:100.00000000,  Val Accuracy: 99.51923077, Epoch Time: 9.59850287\n",
      "\n",
      "=====>Generating f_emb<=====\n",
      "\n",
      "torch.Size([1536])\n",
      "{'dataset': ['sldc_0_10'], 'topol': [[3, 5, 5, 5, 7, 5, 5, 7, 3, 5, 7, 7, 7, 5, 7, 5, 3, 3, 7, 3, 4, 3, 6, 3, 6, 6, 4, 4, 6, 4, 3, 6, 6, 3, 4, 6, 3, 4, 6, 3, 3, 4, 2, 4, 4]], 'f_emb': [tensor([-0., -0., -0.,  ..., -0., -0., -0.])], 'acc': [99.51923076923077], 'n_params': [6228442]}\n",
      "\n",
      "=====> Generating 2th network  <=====\n",
      "\n",
      "\n",
      "=====>Generating sub_net<=====\n",
      "\n",
      "\n",
      "=====> Training started <=====\n",
      "\n",
      "Starting Training for:sldc_0_10 with model topology:[3, 7, 7, 7, 5, 7, 5, 3, 7, 5, 3, 3, 5, 5, 3, 7, 7, 5, 3, 5, 3, 4, 6, 3, 6, 4, 6, 4, 4, 3, 3, 3, 3, 6, 6, 3, 3, 4, 6, 4, 4, 3, 2, 2, 4]\n"
     ]
    },
    {
     "name": "stderr",
     "output_type": "stream",
     "text": [
      "52it [00:09,  5.76it/s]\n",
      "7it [00:00, 12.32it/s]\n"
     ]
    },
    {
     "name": "stdout",
     "output_type": "stream",
     "text": [
      "\n",
      "Epoch: 1/15, Train Loss: 54.43018729 , Val Loss: 29.15870285, Train Accuracy:53.16301703,  Val Accuracy: 77.40384615, Epoch Time: 9.80430627\n"
     ]
    },
    {
     "name": "stderr",
     "output_type": "stream",
     "text": [
      "52it [00:08,  5.79it/s]\n",
      "7it [00:00, 12.94it/s]\n"
     ]
    },
    {
     "name": "stdout",
     "output_type": "stream",
     "text": [
      "\n",
      "Epoch: 2/15, Train Loss: 12.74781380 , Val Loss: 5.71749495, Train Accuracy:92.03163017,  Val Accuracy: 92.30769231, Epoch Time: 9.73370385\n"
     ]
    },
    {
     "name": "stderr",
     "output_type": "stream",
     "text": [
      "52it [00:09,  5.76it/s]\n",
      "7it [00:00, 12.81it/s]\n"
     ]
    },
    {
     "name": "stdout",
     "output_type": "stream",
     "text": [
      "\n",
      "Epoch: 3/15, Train Loss: 3.90260659 , Val Loss: 3.48497839, Train Accuracy:97.01946472,  Val Accuracy: 98.07692308, Epoch Time: 9.78516293\n"
     ]
    },
    {
     "name": "stderr",
     "output_type": "stream",
     "text": [
      "52it [00:09,  5.77it/s]\n",
      "7it [00:00, 12.70it/s]\n"
     ]
    },
    {
     "name": "stdout",
     "output_type": "stream",
     "text": [
      "\n",
      "Epoch: 4/15, Train Loss: 1.72117698 , Val Loss: 2.70161165, Train Accuracy:99.08759124,  Val Accuracy: 97.11538462, Epoch Time: 9.76892447\n"
     ]
    },
    {
     "name": "stderr",
     "output_type": "stream",
     "text": [
      "52it [00:09,  5.66it/s]\n",
      "7it [00:00, 12.79it/s]\n"
     ]
    },
    {
     "name": "stdout",
     "output_type": "stream",
     "text": [
      "\n",
      "Epoch: 5/15, Train Loss: 1.01789914 , Val Loss: 1.43737012, Train Accuracy:99.45255474,  Val Accuracy: 99.51923077, Epoch Time: 9.94183660\n"
     ]
    },
    {
     "name": "stderr",
     "output_type": "stream",
     "text": [
      "52it [00:09,  5.77it/s]\n",
      "7it [00:00, 12.90it/s]\n"
     ]
    },
    {
     "name": "stdout",
     "output_type": "stream",
     "text": [
      "\n",
      "Epoch: 6/15, Train Loss: 0.53813696 , Val Loss: 1.22096495, Train Accuracy:100.00000000,  Val Accuracy: 98.55769231, Epoch Time: 9.75626230\n"
     ]
    },
    {
     "name": "stderr",
     "output_type": "stream",
     "text": [
      "52it [00:09,  5.77it/s]\n",
      "7it [00:00, 12.99it/s]\n"
     ]
    },
    {
     "name": "stdout",
     "output_type": "stream",
     "text": [
      "\n",
      "Epoch: 7/15, Train Loss: 0.45613810 , Val Loss: 0.88360094, Train Accuracy:99.93917275,  Val Accuracy: 99.03846154, Epoch Time: 9.75266504\n"
     ]
    },
    {
     "name": "stderr",
     "output_type": "stream",
     "text": [
      "52it [00:09,  5.76it/s]\n",
      "7it [00:00, 12.35it/s]\n"
     ]
    },
    {
     "name": "stdout",
     "output_type": "stream",
     "text": [
      "\n",
      "Epoch: 8/15, Train Loss: 0.30352772 , Val Loss: 0.62328485, Train Accuracy:100.00000000,  Val Accuracy: 99.03846154, Epoch Time: 9.78872609\n"
     ]
    },
    {
     "name": "stderr",
     "output_type": "stream",
     "text": [
      "52it [00:08,  5.79it/s]\n",
      "7it [00:00, 13.11it/s]\n"
     ]
    },
    {
     "name": "stdout",
     "output_type": "stream",
     "text": [
      "\n",
      "Epoch: 9/15, Train Loss: 0.17583301 , Val Loss: 0.59371051, Train Accuracy:100.00000000,  Val Accuracy: 99.51923077, Epoch Time: 9.74395895\n"
     ]
    },
    {
     "name": "stderr",
     "output_type": "stream",
     "text": [
      "52it [00:09,  5.77it/s]\n",
      "7it [00:00, 12.85it/s]\n"
     ]
    },
    {
     "name": "stdout",
     "output_type": "stream",
     "text": [
      "\n",
      "Epoch: 10/15, Train Loss: 0.17177556 , Val Loss: 0.62374760, Train Accuracy:100.00000000,  Val Accuracy: 99.03846154, Epoch Time: 9.76100850\n"
     ]
    },
    {
     "name": "stderr",
     "output_type": "stream",
     "text": [
      "52it [00:09,  5.77it/s]\n",
      "7it [00:00, 12.26it/s]\n"
     ]
    },
    {
     "name": "stdout",
     "output_type": "stream",
     "text": [
      "\n",
      "Epoch: 11/15, Train Loss: 0.13499404 , Val Loss: 0.66573173, Train Accuracy:100.00000000,  Val Accuracy: 99.03846154, Epoch Time: 9.84539485\n"
     ]
    },
    {
     "name": "stderr",
     "output_type": "stream",
     "text": [
      "52it [00:08,  5.78it/s]\n",
      "7it [00:00, 12.57it/s]\n"
     ]
    },
    {
     "name": "stdout",
     "output_type": "stream",
     "text": [
      "\n",
      "Epoch: 12/15, Train Loss: 0.10872859 , Val Loss: 0.66413969, Train Accuracy:100.00000000,  Val Accuracy: 99.03846154, Epoch Time: 9.75307775\n"
     ]
    },
    {
     "name": "stderr",
     "output_type": "stream",
     "text": [
      "52it [00:09,  5.67it/s]\n",
      "7it [00:00, 12.53it/s]\n"
     ]
    },
    {
     "name": "stdout",
     "output_type": "stream",
     "text": [
      "\n",
      "Epoch: 13/15, Train Loss: 0.09143190 , Val Loss: 0.62049602, Train Accuracy:100.00000000,  Val Accuracy: 99.03846154, Epoch Time: 9.94873357\n"
     ]
    },
    {
     "name": "stderr",
     "output_type": "stream",
     "text": [
      "52it [00:09,  5.76it/s]\n",
      "7it [00:00, 12.77it/s]\n"
     ]
    },
    {
     "name": "stdout",
     "output_type": "stream",
     "text": [
      "\n",
      "Epoch: 14/15, Train Loss: 0.12344854 , Val Loss: 0.42029952, Train Accuracy:100.00000000,  Val Accuracy: 99.51923077, Epoch Time: 9.78318071\n"
     ]
    },
    {
     "name": "stderr",
     "output_type": "stream",
     "text": [
      "52it [00:09,  5.77it/s]\n",
      "7it [00:00,  8.04it/s]\n",
      "Using cache found in /root/.cache/torch/hub/mit-han-lab_once-for-all_master\n"
     ]
    },
    {
     "name": "stdout",
     "output_type": "stream",
     "text": [
      "\n",
      "Epoch: 15/15, Train Loss: 0.08166205 , Val Loss: 0.54239655, Train Accuracy:100.00000000,  Val Accuracy: 99.03846154, Epoch Time: 10.07528639\n",
      "\n",
      "=====>Generating f_emb<=====\n",
      "\n",
      "torch.Size([1536])\n",
      "{'dataset': ['sldc_0_10', 'sldc_0_10'], 'topol': [[3, 5, 5, 5, 7, 5, 5, 7, 3, 5, 7, 7, 7, 5, 7, 5, 3, 3, 7, 3, 4, 3, 6, 3, 6, 6, 4, 4, 6, 4, 3, 6, 6, 3, 4, 6, 3, 4, 6, 3, 3, 4, 2, 4, 4], [3, 7, 7, 7, 5, 7, 5, 3, 7, 5, 3, 3, 5, 5, 3, 7, 7, 5, 3, 5, 3, 4, 6, 3, 6, 4, 6, 4, 4, 3, 3, 3, 3, 6, 6, 3, 3, 4, 6, 4, 4, 3, 2, 2, 4]], 'f_emb': [tensor([-0., -0., -0.,  ..., -0., -0., -0.]), tensor([-0., -0., -0.,  ..., -0., -0., -0.])], 'acc': [99.51923076923077, 99.03846153846153], 'n_params': [6228442, 5625114]}\n",
      "\n",
      "=====> Generating 3th network  <=====\n",
      "\n",
      "\n",
      "=====>Generating sub_net<=====\n",
      "\n",
      "\n",
      "=====> Training started <=====\n",
      "\n",
      "Starting Training for:sldc_0_10 with model topology:[3, 7, 5, 5, 3, 7, 7, 5, 5, 5, 5, 5, 5, 7, 7, 7, 7, 7, 5, 7, 6, 6, 6, 3, 6, 3, 4, 4, 6, 6, 6, 4, 3, 6, 4, 6, 6, 4, 6, 4, 2, 3, 3, 3, 4]\n"
     ]
    },
    {
     "name": "stderr",
     "output_type": "stream",
     "text": [
      "52it [00:08,  5.85it/s]\n",
      "7it [00:00, 10.01it/s]\n"
     ]
    },
    {
     "name": "stdout",
     "output_type": "stream",
     "text": [
      "\n",
      "Epoch: 1/15, Train Loss: 54.05776082 , Val Loss: 27.65415451, Train Accuracy:52.06812652,  Val Accuracy: 83.17307692, Epoch Time: 9.79392505\n"
     ]
    },
    {
     "name": "stderr",
     "output_type": "stream",
     "text": [
      "52it [00:08,  5.79it/s]\n",
      "7it [00:00, 12.95it/s]\n"
     ]
    },
    {
     "name": "stdout",
     "output_type": "stream",
     "text": [
      "\n",
      "Epoch: 2/15, Train Loss: 11.25011067 , Val Loss: 4.91397228, Train Accuracy:92.21411192,  Val Accuracy: 96.63461538, Epoch Time: 9.71950865\n"
     ]
    },
    {
     "name": "stderr",
     "output_type": "stream",
     "text": [
      "52it [00:08,  5.87it/s]\n",
      "7it [00:00, 10.26it/s]\n"
     ]
    },
    {
     "name": "stdout",
     "output_type": "stream",
     "text": [
      "\n",
      "Epoch: 3/15, Train Loss: 3.11128592 , Val Loss: 3.81611198, Train Accuracy:98.23600973,  Val Accuracy: 97.59615385, Epoch Time: 9.73730683\n"
     ]
    },
    {
     "name": "stderr",
     "output_type": "stream",
     "text": [
      "52it [00:08,  5.79it/s]\n",
      "7it [00:00, 12.94it/s]\n"
     ]
    },
    {
     "name": "stdout",
     "output_type": "stream",
     "text": [
      "\n",
      "Epoch: 4/15, Train Loss: 1.21756786 , Val Loss: 1.27057394, Train Accuracy:99.51338200,  Val Accuracy: 100.00000000, Epoch Time: 9.72989559\n"
     ]
    },
    {
     "name": "stderr",
     "output_type": "stream",
     "text": [
      "52it [00:08,  5.86it/s]\n",
      "7it [00:00, 10.56it/s]\n"
     ]
    },
    {
     "name": "stdout",
     "output_type": "stream",
     "text": [
      "\n",
      "Epoch: 5/15, Train Loss: 0.65181176 , Val Loss: 0.79340458, Train Accuracy:99.69586375,  Val Accuracy: 99.51923077, Epoch Time: 9.74558926\n"
     ]
    },
    {
     "name": "stderr",
     "output_type": "stream",
     "text": [
      "52it [00:08,  5.80it/s]\n",
      "7it [00:00, 12.83it/s]\n"
     ]
    },
    {
     "name": "stdout",
     "output_type": "stream",
     "text": [
      "\n",
      "Epoch: 6/15, Train Loss: 0.40578865 , Val Loss: 0.73005426, Train Accuracy:99.93917275,  Val Accuracy: 99.51923077, Epoch Time: 9.72446275\n"
     ]
    },
    {
     "name": "stderr",
     "output_type": "stream",
     "text": [
      "52it [00:08,  5.78it/s]\n",
      "7it [00:00,  9.42it/s]\n"
     ]
    },
    {
     "name": "stdout",
     "output_type": "stream",
     "text": [
      "\n",
      "Epoch: 7/15, Train Loss: 0.24417146 , Val Loss: 0.41594323, Train Accuracy:99.93917275,  Val Accuracy: 100.00000000, Epoch Time: 9.92793608\n"
     ]
    },
    {
     "name": "stderr",
     "output_type": "stream",
     "text": [
      "52it [00:09,  5.76it/s]\n",
      "7it [00:00, 11.73it/s]\n"
     ]
    },
    {
     "name": "stdout",
     "output_type": "stream",
     "text": [
      "\n",
      "Epoch: 8/15, Train Loss: 0.16914450 , Val Loss: 0.57690832, Train Accuracy:100.00000000,  Val Accuracy: 99.51923077, Epoch Time: 9.82053781\n"
     ]
    },
    {
     "name": "stderr",
     "output_type": "stream",
     "text": [
      "52it [00:08,  5.86it/s]\n",
      "7it [00:00, 10.45it/s]\n"
     ]
    },
    {
     "name": "stdout",
     "output_type": "stream",
     "text": [
      "\n",
      "Epoch: 9/15, Train Loss: 0.18666642 , Val Loss: 0.49326024, Train Accuracy:99.93917275,  Val Accuracy: 99.51923077, Epoch Time: 9.73822594\n"
     ]
    },
    {
     "name": "stderr",
     "output_type": "stream",
     "text": [
      "52it [00:09,  5.78it/s]\n",
      "7it [00:00, 12.87it/s]\n"
     ]
    },
    {
     "name": "stdout",
     "output_type": "stream",
     "text": [
      "\n",
      "Epoch: 10/15, Train Loss: 0.14251935 , Val Loss: 0.63428431, Train Accuracy:100.00000000,  Val Accuracy: 99.51923077, Epoch Time: 9.76193810\n"
     ]
    },
    {
     "name": "stderr",
     "output_type": "stream",
     "text": [
      "52it [00:08,  5.88it/s]\n",
      "7it [00:00,  9.37it/s]\n"
     ]
    },
    {
     "name": "stdout",
     "output_type": "stream",
     "text": [
      "\n",
      "Epoch: 11/15, Train Loss: 0.19040931 , Val Loss: 0.99269627, Train Accuracy:99.87834550,  Val Accuracy: 99.51923077, Epoch Time: 9.83931708\n"
     ]
    },
    {
     "name": "stderr",
     "output_type": "stream",
     "text": [
      "52it [00:08,  5.80it/s]\n",
      "7it [00:00, 12.53it/s]\n",
      "Using cache found in /root/.cache/torch/hub/mit-han-lab_once-for-all_master\n"
     ]
    },
    {
     "name": "stdout",
     "output_type": "stream",
     "text": [
      "\n",
      "Epoch: 12/15, Train Loss: 0.12593805 , Val Loss: 0.81042521, Train Accuracy:100.00000000,  Val Accuracy: 99.51923077, Epoch Time: 9.76010394\n",
      "Early stopping on, 11th, epoch\n",
      "\n",
      "=====>Generating f_emb<=====\n",
      "\n",
      "torch.Size([1536])\n",
      "{'dataset': ['sldc_0_10', 'sldc_0_10', 'sldc_0_10'], 'topol': [[3, 5, 5, 5, 7, 5, 5, 7, 3, 5, 7, 7, 7, 5, 7, 5, 3, 3, 7, 3, 4, 3, 6, 3, 6, 6, 4, 4, 6, 4, 3, 6, 6, 3, 4, 6, 3, 4, 6, 3, 3, 4, 2, 4, 4], [3, 7, 7, 7, 5, 7, 5, 3, 7, 5, 3, 3, 5, 5, 3, 7, 7, 5, 3, 5, 3, 4, 6, 3, 6, 4, 6, 4, 4, 3, 3, 3, 3, 6, 6, 3, 3, 4, 6, 4, 4, 3, 2, 2, 4], [3, 7, 5, 5, 3, 7, 7, 5, 5, 5, 5, 5, 5, 7, 7, 7, 7, 7, 5, 7, 6, 6, 6, 3, 6, 3, 4, 4, 6, 6, 6, 4, 3, 6, 4, 6, 6, 4, 6, 4, 2, 3, 3, 3, 4]], 'f_emb': [tensor([-0., -0., -0.,  ..., -0., -0., -0.]), tensor([-0., -0., -0.,  ..., -0., -0., -0.]), tensor([1226.8495,   -0.0000,   -0.0000,  ...,   -0.0000,   -0.0000,\n",
      "          -0.0000])], 'acc': [99.51923076923077, 99.03846153846153, 99.51923076923077], 'n_params': [6228442, 5625114, 6570290]}\n",
      "\n",
      "=====> Generating 4th network  <=====\n",
      "\n",
      "\n",
      "=====>Generating sub_net<=====\n",
      "\n",
      "\n",
      "=====> Training started <=====\n",
      "\n",
      "Starting Training for:sldc_0_10 with model topology:[7, 5, 3, 3, 5, 3, 5, 5, 5, 5, 3, 7, 7, 5, 7, 3, 3, 5, 3, 5, 3, 4, 6, 6, 6, 3, 6, 3, 6, 3, 6, 4, 4, 6, 6, 4, 6, 6, 6, 4, 2, 2, 2, 3, 2]\n"
     ]
    },
    {
     "name": "stderr",
     "output_type": "stream",
     "text": [
      "52it [00:06,  7.73it/s]\n",
      "7it [00:00, 10.69it/s]\n"
     ]
    },
    {
     "name": "stdout",
     "output_type": "stream",
     "text": [
      "\n",
      "Epoch: 1/15, Train Loss: 54.11189427 , Val Loss: 29.49010318, Train Accuracy:54.13625304,  Val Accuracy: 84.13461538, Epoch Time: 7.61147213\n"
     ]
    },
    {
     "name": "stderr",
     "output_type": "stream",
     "text": [
      "52it [00:06,  7.52it/s]\n",
      "7it [00:00, 10.57it/s]\n"
     ]
    },
    {
     "name": "stdout",
     "output_type": "stream",
     "text": [
      "\n",
      "Epoch: 2/15, Train Loss: 14.05743908 , Val Loss: 5.51370209, Train Accuracy:90.99756691,  Val Accuracy: 97.11538462, Epoch Time: 7.77251816\n"
     ]
    },
    {
     "name": "stderr",
     "output_type": "stream",
     "text": [
      "52it [00:06,  7.57it/s]\n",
      "7it [00:00, 14.88it/s]\n"
     ]
    },
    {
     "name": "stdout",
     "output_type": "stream",
     "text": [
      "\n",
      "Epoch: 3/15, Train Loss: 4.32725036 , Val Loss: 3.08610954, Train Accuracy:97.56690998,  Val Accuracy: 97.59615385, Epoch Time: 7.52470350\n"
     ]
    },
    {
     "name": "stderr",
     "output_type": "stream",
     "text": [
      "52it [00:06,  7.49it/s]\n",
      "7it [00:00, 11.39it/s]\n"
     ]
    },
    {
     "name": "stdout",
     "output_type": "stream",
     "text": [
      "\n",
      "Epoch: 4/15, Train Loss: 2.18160033 , Val Loss: 1.86166031, Train Accuracy:99.14841849,  Val Accuracy: 99.03846154, Epoch Time: 7.81401634\n"
     ]
    },
    {
     "name": "stderr",
     "output_type": "stream",
     "text": [
      "52it [00:06,  7.53it/s]\n",
      "7it [00:00,  7.95it/s]\n"
     ]
    },
    {
     "name": "stdout",
     "output_type": "stream",
     "text": [
      "\n",
      "Epoch: 5/15, Train Loss: 1.09418516 , Val Loss: 0.99721424, Train Accuracy:99.69586375,  Val Accuracy: 99.03846154, Epoch Time: 7.97595334\n"
     ]
    },
    {
     "name": "stderr",
     "output_type": "stream",
     "text": [
      "52it [00:06,  7.53it/s]\n",
      "7it [00:00, 10.40it/s]\n"
     ]
    },
    {
     "name": "stdout",
     "output_type": "stream",
     "text": [
      "\n",
      "Epoch: 6/15, Train Loss: 0.69361888 , Val Loss: 0.94066037, Train Accuracy:99.81751825,  Val Accuracy: 99.03846154, Epoch Time: 7.79591966\n"
     ]
    },
    {
     "name": "stderr",
     "output_type": "stream",
     "text": [
      "52it [00:06,  7.58it/s]\n",
      "7it [00:00, 13.77it/s]\n"
     ]
    },
    {
     "name": "stdout",
     "output_type": "stream",
     "text": [
      "\n",
      "Epoch: 7/15, Train Loss: 0.58624879 , Val Loss: 1.06063173, Train Accuracy:99.81751825,  Val Accuracy: 99.03846154, Epoch Time: 7.55782413\n"
     ]
    },
    {
     "name": "stderr",
     "output_type": "stream",
     "text": [
      "52it [00:06,  7.50it/s]\n",
      "7it [00:00, 12.38it/s]\n"
     ]
    },
    {
     "name": "stdout",
     "output_type": "stream",
     "text": [
      "\n",
      "Epoch: 8/15, Train Loss: 0.45371666 , Val Loss: 0.66606669, Train Accuracy:99.93917275,  Val Accuracy: 99.51923077, Epoch Time: 7.72555041\n"
     ]
    },
    {
     "name": "stderr",
     "output_type": "stream",
     "text": [
      "52it [00:06,  7.73it/s]\n",
      "7it [00:00, 11.08it/s]\n"
     ]
    },
    {
     "name": "stdout",
     "output_type": "stream",
     "text": [
      "\n",
      "Epoch: 9/15, Train Loss: 0.24968418 , Val Loss: 0.60133220, Train Accuracy:99.93917275,  Val Accuracy: 99.03846154, Epoch Time: 7.56968951\n"
     ]
    },
    {
     "name": "stderr",
     "output_type": "stream",
     "text": [
      "52it [00:06,  7.58it/s]\n",
      "7it [00:00, 14.09it/s]\n"
     ]
    },
    {
     "name": "stdout",
     "output_type": "stream",
     "text": [
      "\n",
      "Epoch: 10/15, Train Loss: 0.25814860 , Val Loss: 0.62934937, Train Accuracy:99.93917275,  Val Accuracy: 99.03846154, Epoch Time: 7.54594564\n"
     ]
    },
    {
     "name": "stderr",
     "output_type": "stream",
     "text": [
      "52it [00:06,  7.70it/s]\n",
      "7it [00:00, 14.69it/s]\n"
     ]
    },
    {
     "name": "stdout",
     "output_type": "stream",
     "text": [
      "\n",
      "Epoch: 11/15, Train Loss: 0.20447833 , Val Loss: 0.64626532, Train Accuracy:100.00000000,  Val Accuracy: 99.03846154, Epoch Time: 7.42731357\n"
     ]
    },
    {
     "name": "stderr",
     "output_type": "stream",
     "text": [
      "52it [00:06,  7.67it/s]\n",
      "7it [00:00, 12.47it/s]\n"
     ]
    },
    {
     "name": "stdout",
     "output_type": "stream",
     "text": [
      "\n",
      "Epoch: 12/15, Train Loss: 0.16363275 , Val Loss: 0.56554873, Train Accuracy:100.00000000,  Val Accuracy: 99.03846154, Epoch Time: 7.58587813\n"
     ]
    },
    {
     "name": "stderr",
     "output_type": "stream",
     "text": [
      "52it [00:06,  7.64it/s]\n",
      "7it [00:00, 10.20it/s]\n"
     ]
    },
    {
     "name": "stdout",
     "output_type": "stream",
     "text": [
      "\n",
      "Epoch: 13/15, Train Loss: 0.11815663 , Val Loss: 0.55179607, Train Accuracy:100.00000000,  Val Accuracy: 99.03846154, Epoch Time: 7.68593597\n"
     ]
    },
    {
     "name": "stderr",
     "output_type": "stream",
     "text": [
      "52it [00:06,  7.51it/s]\n",
      "7it [00:00, 14.23it/s]\n"
     ]
    },
    {
     "name": "stdout",
     "output_type": "stream",
     "text": [
      "\n",
      "Epoch: 14/15, Train Loss: 0.11880080 , Val Loss: 0.51707984, Train Accuracy:100.00000000,  Val Accuracy: 99.51923077, Epoch Time: 7.61285734\n"
     ]
    },
    {
     "name": "stderr",
     "output_type": "stream",
     "text": [
      "52it [00:06,  7.70it/s]\n",
      "7it [00:00, 10.22it/s]\n",
      "Using cache found in /root/.cache/torch/hub/mit-han-lab_once-for-all_master\n"
     ]
    },
    {
     "name": "stdout",
     "output_type": "stream",
     "text": [
      "\n",
      "Epoch: 15/15, Train Loss: 0.09843845 , Val Loss: 0.42532918, Train Accuracy:100.00000000,  Val Accuracy: 99.51923077, Epoch Time: 7.63337994\n",
      "\n",
      "=====>Generating f_emb<=====\n",
      "\n",
      "torch.Size([1536])\n",
      "{'dataset': ['sldc_0_10', 'sldc_0_10', 'sldc_0_10', 'sldc_0_10'], 'topol': [[3, 5, 5, 5, 7, 5, 5, 7, 3, 5, 7, 7, 7, 5, 7, 5, 3, 3, 7, 3, 4, 3, 6, 3, 6, 6, 4, 4, 6, 4, 3, 6, 6, 3, 4, 6, 3, 4, 6, 3, 3, 4, 2, 4, 4], [3, 7, 7, 7, 5, 7, 5, 3, 7, 5, 3, 3, 5, 5, 3, 7, 7, 5, 3, 5, 3, 4, 6, 3, 6, 4, 6, 4, 4, 3, 3, 3, 3, 6, 6, 3, 3, 4, 6, 4, 4, 3, 2, 2, 4], [3, 7, 5, 5, 3, 7, 7, 5, 5, 5, 5, 5, 5, 7, 7, 7, 7, 7, 5, 7, 6, 6, 6, 3, 6, 3, 4, 4, 6, 6, 6, 4, 3, 6, 4, 6, 6, 4, 6, 4, 2, 3, 3, 3, 4], [7, 5, 3, 3, 5, 3, 5, 5, 5, 5, 3, 7, 7, 5, 7, 3, 3, 5, 3, 5, 3, 4, 6, 6, 6, 3, 6, 3, 6, 3, 6, 4, 4, 6, 6, 4, 6, 6, 6, 4, 2, 2, 2, 3, 2]], 'f_emb': [tensor([-0., -0., -0.,  ..., -0., -0., -0.]), tensor([-0., -0., -0.,  ..., -0., -0., -0.]), tensor([1226.8495,   -0.0000,   -0.0000,  ...,   -0.0000,   -0.0000,\n",
      "          -0.0000]), tensor([-0., -0., -0.,  ..., -0., -0., -0.])], 'acc': [99.51923076923077, 99.03846153846153, 99.51923076923077, 99.51923076923077], 'n_params': [6228442, 5625114, 6570290, 5347354]}\n",
      "\n",
      "=====> Generating 5th network  <=====\n",
      "\n",
      "\n",
      "=====>Generating sub_net<=====\n",
      "\n",
      "\n",
      "=====> Training started <=====\n",
      "\n",
      "Starting Training for:sldc_0_10 with model topology:[3, 5, 5, 7, 5, 5, 7, 3, 7, 5, 5, 5, 3, 5, 3, 7, 5, 7, 7, 3, 3, 6, 3, 3, 6, 3, 6, 6, 4, 4, 3, 4, 4, 3, 6, 6, 4, 3, 4, 3, 4, 3, 4, 4, 4]\n"
     ]
    },
    {
     "name": "stderr",
     "output_type": "stream",
     "text": [
      "52it [00:09,  5.53it/s]\n",
      "7it [00:00, 12.27it/s]\n"
     ]
    },
    {
     "name": "stdout",
     "output_type": "stream",
     "text": [
      "\n",
      "Epoch: 1/15, Train Loss: 54.97928877 , Val Loss: 28.43798760, Train Accuracy:52.67639903,  Val Accuracy: 84.13461538, Epoch Time: 10.18517995\n"
     ]
    },
    {
     "name": "stderr",
     "output_type": "stream",
     "text": [
      "52it [00:09,  5.63it/s]\n",
      "7it [00:00, 10.05it/s]\n"
     ]
    },
    {
     "name": "stdout",
     "output_type": "stream",
     "text": [
      "\n",
      "Epoch: 2/15, Train Loss: 11.98463846 , Val Loss: 5.43448557, Train Accuracy:92.70072993,  Val Accuracy: 95.67307692, Epoch Time: 10.13350272\n"
     ]
    },
    {
     "name": "stderr",
     "output_type": "stream",
     "text": [
      "52it [00:09,  5.62it/s]\n",
      "7it [00:00, 12.23it/s]\n"
     ]
    },
    {
     "name": "stdout",
     "output_type": "stream",
     "text": [
      "\n",
      "Epoch: 3/15, Train Loss: 3.04630684 , Val Loss: 3.30034528, Train Accuracy:98.23600973,  Val Accuracy: 96.63461538, Epoch Time: 10.01996398\n"
     ]
    },
    {
     "name": "stderr",
     "output_type": "stream",
     "text": [
      "52it [00:09,  5.61it/s]\n",
      "7it [00:00, 11.05it/s]\n"
     ]
    },
    {
     "name": "stdout",
     "output_type": "stream",
     "text": [
      "\n",
      "Epoch: 4/15, Train Loss: 1.33001470 , Val Loss: 1.97917131, Train Accuracy:99.45255474,  Val Accuracy: 98.55769231, Epoch Time: 10.13656855\n"
     ]
    },
    {
     "name": "stderr",
     "output_type": "stream",
     "text": [
      "52it [00:09,  5.63it/s]\n",
      "7it [00:00, 12.57it/s]\n"
     ]
    },
    {
     "name": "stdout",
     "output_type": "stream",
     "text": [
      "\n",
      "Epoch: 5/15, Train Loss: 0.59521015 , Val Loss: 0.94306763, Train Accuracy:99.93917275,  Val Accuracy: 99.03846154, Epoch Time: 10.03126073\n"
     ]
    },
    {
     "name": "stderr",
     "output_type": "stream",
     "text": [
      "52it [00:09,  5.63it/s]\n",
      "7it [00:00, 12.34it/s]\n"
     ]
    },
    {
     "name": "stdout",
     "output_type": "stream",
     "text": [
      "\n",
      "Epoch: 6/15, Train Loss: 0.53495327 , Val Loss: 1.00816413, Train Accuracy:99.75669100,  Val Accuracy: 99.51923077, Epoch Time: 10.00636387\n"
     ]
    },
    {
     "name": "stderr",
     "output_type": "stream",
     "text": [
      "52it [00:09,  5.61it/s]\n",
      "7it [00:00, 12.19it/s]\n"
     ]
    },
    {
     "name": "stdout",
     "output_type": "stream",
     "text": [
      "\n",
      "Epoch: 7/15, Train Loss: 0.35415697 , Val Loss: 1.01799011, Train Accuracy:99.93917275,  Val Accuracy: 99.51923077, Epoch Time: 10.06604528\n"
     ]
    },
    {
     "name": "stderr",
     "output_type": "stream",
     "text": [
      "52it [00:09,  5.60it/s]\n",
      "7it [00:00, 12.35it/s]\n"
     ]
    },
    {
     "name": "stdout",
     "output_type": "stream",
     "text": [
      "\n",
      "Epoch: 8/15, Train Loss: 0.25338304 , Val Loss: 0.54369125, Train Accuracy:100.00000000,  Val Accuracy: 100.00000000, Epoch Time: 10.05205297\n"
     ]
    },
    {
     "name": "stderr",
     "output_type": "stream",
     "text": [
      "52it [00:09,  5.61it/s]\n",
      "7it [00:00, 12.45it/s]\n"
     ]
    },
    {
     "name": "stdout",
     "output_type": "stream",
     "text": [
      "\n",
      "Epoch: 9/15, Train Loss: 0.15141561 , Val Loss: 0.50298316, Train Accuracy:100.00000000,  Val Accuracy: 99.51923077, Epoch Time: 10.03116059\n"
     ]
    },
    {
     "name": "stderr",
     "output_type": "stream",
     "text": [
      "52it [00:09,  5.62it/s]\n",
      "7it [00:00, 12.46it/s]\n"
     ]
    },
    {
     "name": "stdout",
     "output_type": "stream",
     "text": [
      "\n",
      "Epoch: 10/15, Train Loss: 0.16248082 , Val Loss: 0.66591204, Train Accuracy:99.93917275,  Val Accuracy: 99.51923077, Epoch Time: 10.02965164\n"
     ]
    },
    {
     "name": "stderr",
     "output_type": "stream",
     "text": [
      "52it [00:09,  5.62it/s]\n",
      "7it [00:00, 12.15it/s]\n"
     ]
    },
    {
     "name": "stdout",
     "output_type": "stream",
     "text": [
      "\n",
      "Epoch: 11/15, Train Loss: 0.13525565 , Val Loss: 0.51256341, Train Accuracy:100.00000000,  Val Accuracy: 99.51923077, Epoch Time: 10.03133965\n"
     ]
    },
    {
     "name": "stderr",
     "output_type": "stream",
     "text": [
      "52it [00:09,  5.63it/s]\n",
      "7it [00:00, 12.20it/s]\n"
     ]
    },
    {
     "name": "stdout",
     "output_type": "stream",
     "text": [
      "\n",
      "Epoch: 12/15, Train Loss: 0.15438893 , Val Loss: 0.45391628, Train Accuracy:99.93917275,  Val Accuracy: 99.51923077, Epoch Time: 10.01261377\n"
     ]
    },
    {
     "name": "stderr",
     "output_type": "stream",
     "text": [
      "52it [00:09,  5.60it/s]\n",
      "7it [00:00, 12.16it/s]\n"
     ]
    },
    {
     "name": "stdout",
     "output_type": "stream",
     "text": [
      "\n",
      "Epoch: 13/15, Train Loss: 0.08290619 , Val Loss: 0.46942825, Train Accuracy:100.00000000,  Val Accuracy: 99.51923077, Epoch Time: 10.05437350\n"
     ]
    },
    {
     "name": "stderr",
     "output_type": "stream",
     "text": [
      "52it [00:09,  5.62it/s]\n",
      "7it [00:00, 12.39it/s]\n"
     ]
    },
    {
     "name": "stdout",
     "output_type": "stream",
     "text": [
      "\n",
      "Epoch: 14/15, Train Loss: 0.08461211 , Val Loss: 0.39378991, Train Accuracy:100.00000000,  Val Accuracy: 99.51923077, Epoch Time: 10.04557920\n"
     ]
    },
    {
     "name": "stderr",
     "output_type": "stream",
     "text": [
      "52it [00:09,  5.62it/s]\n",
      "7it [00:00, 12.69it/s]\n",
      "Using cache found in /root/.cache/torch/hub/mit-han-lab_once-for-all_master\n"
     ]
    },
    {
     "name": "stdout",
     "output_type": "stream",
     "text": [
      "\n",
      "Epoch: 15/15, Train Loss: 0.06949954 , Val Loss: 0.42712679, Train Accuracy:100.00000000,  Val Accuracy: 99.51923077, Epoch Time: 10.00941396\n",
      "\n",
      "=====>Generating f_emb<=====\n",
      "\n",
      "torch.Size([1536])\n",
      "{'dataset': ['sldc_0_10', 'sldc_0_10', 'sldc_0_10', 'sldc_0_10', 'sldc_0_10'], 'topol': [[3, 5, 5, 5, 7, 5, 5, 7, 3, 5, 7, 7, 7, 5, 7, 5, 3, 3, 7, 3, 4, 3, 6, 3, 6, 6, 4, 4, 6, 4, 3, 6, 6, 3, 4, 6, 3, 4, 6, 3, 3, 4, 2, 4, 4], [3, 7, 7, 7, 5, 7, 5, 3, 7, 5, 3, 3, 5, 5, 3, 7, 7, 5, 3, 5, 3, 4, 6, 3, 6, 4, 6, 4, 4, 3, 3, 3, 3, 6, 6, 3, 3, 4, 6, 4, 4, 3, 2, 2, 4], [3, 7, 5, 5, 3, 7, 7, 5, 5, 5, 5, 5, 5, 7, 7, 7, 7, 7, 5, 7, 6, 6, 6, 3, 6, 3, 4, 4, 6, 6, 6, 4, 3, 6, 4, 6, 6, 4, 6, 4, 2, 3, 3, 3, 4], [7, 5, 3, 3, 5, 3, 5, 5, 5, 5, 3, 7, 7, 5, 7, 3, 3, 5, 3, 5, 3, 4, 6, 6, 6, 3, 6, 3, 6, 3, 6, 4, 4, 6, 6, 4, 6, 6, 6, 4, 2, 2, 2, 3, 2], [3, 5, 5, 7, 5, 5, 7, 3, 7, 5, 5, 5, 3, 5, 3, 7, 5, 7, 7, 3, 3, 6, 3, 3, 6, 3, 6, 6, 4, 4, 3, 4, 4, 3, 6, 6, 4, 3, 4, 3, 4, 3, 4, 4, 4]], 'f_emb': [tensor([-0., -0., -0.,  ..., -0., -0., -0.]), tensor([-0., -0., -0.,  ..., -0., -0., -0.]), tensor([1226.8495,   -0.0000,   -0.0000,  ...,   -0.0000,   -0.0000,\n",
      "          -0.0000]), tensor([-0., -0., -0.,  ..., -0., -0., -0.]), tensor([188.3607,  -0.0000,  -0.0000,  ...,  -0.0000,  -0.0000, 213.2732])], 'acc': [99.51923076923077, 99.03846153846153, 99.51923076923077, 99.51923076923077, 99.51923076923077], 'n_params': [6228442, 5625114, 6570290, 5347354, 5825218]}\n",
      "\n",
      "=====> Generating 6th network  <=====\n",
      "\n",
      "\n",
      "=====>Generating sub_net<=====\n",
      "\n",
      "\n",
      "=====> Training started <=====\n",
      "\n",
      "Starting Training for:sldc_0_10 with model topology:[3, 3, 5, 5, 7, 5, 5, 5, 5, 5, 3, 3, 3, 3, 3, 7, 7, 3, 5, 5, 6, 4, 3, 4, 4, 4, 3, 6, 4, 3, 6, 4, 4, 4, 6, 6, 4, 4, 3, 6, 4, 2, 4, 3, 3]\n"
     ]
    },
    {
     "name": "stderr",
     "output_type": "stream",
     "text": [
      "52it [00:07,  6.98it/s]\n",
      "7it [00:00, 13.71it/s]\n"
     ]
    },
    {
     "name": "stdout",
     "output_type": "stream",
     "text": [
      "\n",
      "Epoch: 1/15, Train Loss: 56.32164844 , Val Loss: 31.36087649, Train Accuracy:44.52554745,  Val Accuracy: 75.48076923, Epoch Time: 8.15756488\n"
     ]
    },
    {
     "name": "stderr",
     "output_type": "stream",
     "text": [
      "52it [00:07,  6.99it/s]\n",
      "7it [00:00, 13.92it/s]\n"
     ]
    },
    {
     "name": "stdout",
     "output_type": "stream",
     "text": [
      "\n",
      "Epoch: 2/15, Train Loss: 14.76335796 , Val Loss: 5.61932130, Train Accuracy:90.14598540,  Val Accuracy: 98.07692308, Epoch Time: 8.16668844\n"
     ]
    },
    {
     "name": "stderr",
     "output_type": "stream",
     "text": [
      "52it [00:07,  7.01it/s]\n",
      "7it [00:00, 13.57it/s]\n"
     ]
    },
    {
     "name": "stdout",
     "output_type": "stream",
     "text": [
      "\n",
      "Epoch: 3/15, Train Loss: 4.14528892 , Val Loss: 2.87920923, Train Accuracy:97.99270073,  Val Accuracy: 98.55769231, Epoch Time: 8.15877056\n"
     ]
    },
    {
     "name": "stderr",
     "output_type": "stream",
     "text": [
      "52it [00:07,  7.00it/s]\n",
      "7it [00:00, 13.75it/s]\n"
     ]
    },
    {
     "name": "stdout",
     "output_type": "stream",
     "text": [
      "\n",
      "Epoch: 4/15, Train Loss: 1.58548200 , Val Loss: 1.51365914, Train Accuracy:99.45255474,  Val Accuracy: 99.51923077, Epoch Time: 8.14292145\n"
     ]
    },
    {
     "name": "stderr",
     "output_type": "stream",
     "text": [
      "52it [00:07,  6.99it/s]\n",
      "7it [00:00, 13.75it/s]\n"
     ]
    },
    {
     "name": "stdout",
     "output_type": "stream",
     "text": [
      "\n",
      "Epoch: 5/15, Train Loss: 1.14566760 , Val Loss: 1.30454883, Train Accuracy:99.75669100,  Val Accuracy: 99.03846154, Epoch Time: 8.15058994\n"
     ]
    },
    {
     "name": "stderr",
     "output_type": "stream",
     "text": [
      "52it [00:07,  6.98it/s]\n",
      "7it [00:00, 13.82it/s]\n"
     ]
    },
    {
     "name": "stdout",
     "output_type": "stream",
     "text": [
      "\n",
      "Epoch: 6/15, Train Loss: 0.61976448 , Val Loss: 0.95725846, Train Accuracy:99.93917275,  Val Accuracy: 99.03846154, Epoch Time: 8.16205072\n"
     ]
    },
    {
     "name": "stderr",
     "output_type": "stream",
     "text": [
      "52it [00:07,  7.00it/s]\n",
      "7it [00:00, 14.03it/s]\n"
     ]
    },
    {
     "name": "stdout",
     "output_type": "stream",
     "text": [
      "\n",
      "Epoch: 7/15, Train Loss: 0.45841995 , Val Loss: 0.74736968, Train Accuracy:99.93917275,  Val Accuracy: 99.51923077, Epoch Time: 8.13018298\n"
     ]
    },
    {
     "name": "stderr",
     "output_type": "stream",
     "text": [
      "52it [00:07,  6.99it/s]\n",
      "7it [00:00, 13.75it/s]\n"
     ]
    },
    {
     "name": "stdout",
     "output_type": "stream",
     "text": [
      "\n",
      "Epoch: 8/15, Train Loss: 0.34706107 , Val Loss: 0.75953919, Train Accuracy:99.87834550,  Val Accuracy: 99.03846154, Epoch Time: 8.13869739\n"
     ]
    },
    {
     "name": "stderr",
     "output_type": "stream",
     "text": [
      "52it [00:07,  7.01it/s]\n",
      "7it [00:00, 14.02it/s]\n"
     ]
    },
    {
     "name": "stdout",
     "output_type": "stream",
     "text": [
      "\n",
      "Epoch: 9/15, Train Loss: 0.35504363 , Val Loss: 0.79888015, Train Accuracy:99.81751825,  Val Accuracy: 99.51923077, Epoch Time: 8.12502384\n"
     ]
    },
    {
     "name": "stderr",
     "output_type": "stream",
     "text": [
      "52it [00:07,  7.00it/s]\n",
      "7it [00:00, 14.20it/s]\n"
     ]
    },
    {
     "name": "stdout",
     "output_type": "stream",
     "text": [
      "\n",
      "Epoch: 10/15, Train Loss: 0.20026881 , Val Loss: 0.70596444, Train Accuracy:100.00000000,  Val Accuracy: 99.51923077, Epoch Time: 8.15231800\n"
     ]
    },
    {
     "name": "stderr",
     "output_type": "stream",
     "text": [
      "52it [00:07,  6.98it/s]\n",
      "7it [00:00, 13.96it/s]\n"
     ]
    },
    {
     "name": "stdout",
     "output_type": "stream",
     "text": [
      "\n",
      "Epoch: 11/15, Train Loss: 0.14588975 , Val Loss: 0.52314233, Train Accuracy:100.00000000,  Val Accuracy: 99.51923077, Epoch Time: 8.14719367\n"
     ]
    },
    {
     "name": "stderr",
     "output_type": "stream",
     "text": [
      "52it [00:07,  6.98it/s]\n",
      "7it [00:00, 13.79it/s]\n"
     ]
    },
    {
     "name": "stdout",
     "output_type": "stream",
     "text": [
      "\n",
      "Epoch: 12/15, Train Loss: 0.19336029 , Val Loss: 0.52547588, Train Accuracy:99.93917275,  Val Accuracy: 99.51923077, Epoch Time: 8.15641189\n"
     ]
    },
    {
     "name": "stderr",
     "output_type": "stream",
     "text": [
      "52it [00:07,  7.00it/s]\n",
      "7it [00:00, 14.12it/s]\n"
     ]
    },
    {
     "name": "stdout",
     "output_type": "stream",
     "text": [
      "\n",
      "Epoch: 13/15, Train Loss: 0.23255524 , Val Loss: 0.67876775, Train Accuracy:100.00000000,  Val Accuracy: 99.51923077, Epoch Time: 8.11228132\n"
     ]
    },
    {
     "name": "stderr",
     "output_type": "stream",
     "text": [
      "52it [00:07,  6.98it/s]\n",
      "7it [00:00, 13.66it/s]\n"
     ]
    },
    {
     "name": "stdout",
     "output_type": "stream",
     "text": [
      "\n",
      "Epoch: 14/15, Train Loss: 0.12045498 , Val Loss: 0.42844773, Train Accuracy:100.00000000,  Val Accuracy: 99.51923077, Epoch Time: 8.16062498\n"
     ]
    },
    {
     "name": "stderr",
     "output_type": "stream",
     "text": [
      "52it [00:07,  6.99it/s]\n",
      "7it [00:00, 13.92it/s]\n",
      "/opt/conda/lib/python3.10/site-packages/torchvision/models/_utils.py:208: UserWarning: The parameter 'pretrained' is deprecated since 0.13 and may be removed in the future, please use 'weights' instead.\n",
      "  warnings.warn(\n",
      "/opt/conda/lib/python3.10/site-packages/torchvision/models/_utils.py:223: UserWarning: Arguments other than a weight enum or `None` for 'weights' are deprecated since 0.13 and may be removed in the future. The current behavior is equivalent to passing `weights=ResNet18_Weights.IMAGENET1K_V1`. You can also use `weights=ResNet18_Weights.DEFAULT` to get the most up-to-date weights.\n",
      "  warnings.warn(msg)\n",
      "Downloading: \"https://download.pytorch.org/models/resnet18-f37072fd.pth\" to /root/.cache/torch/hub/checkpoints/resnet18-f37072fd.pth\n"
     ]
    },
    {
     "name": "stdout",
     "output_type": "stream",
     "text": [
      "\n",
      "Epoch: 15/15, Train Loss: 0.11413203 , Val Loss: 0.49424420, Train Accuracy:100.00000000,  Val Accuracy: 99.51923077, Epoch Time: 8.13602018\n",
      "\n",
      "=====>Generating f_emb<=====\n",
      "\n",
      "torch.Size([1536])\n",
      "{'dataset': ['sldc_0_10', 'sldc_0_10', 'sldc_0_10', 'sldc_0_10', 'sldc_0_10', 'sldc_0_10'], 'topol': [[3, 5, 5, 5, 7, 5, 5, 7, 3, 5, 7, 7, 7, 5, 7, 5, 3, 3, 7, 3, 4, 3, 6, 3, 6, 6, 4, 4, 6, 4, 3, 6, 6, 3, 4, 6, 3, 4, 6, 3, 3, 4, 2, 4, 4], [3, 7, 7, 7, 5, 7, 5, 3, 7, 5, 3, 3, 5, 5, 3, 7, 7, 5, 3, 5, 3, 4, 6, 3, 6, 4, 6, 4, 4, 3, 3, 3, 3, 6, 6, 3, 3, 4, 6, 4, 4, 3, 2, 2, 4], [3, 7, 5, 5, 3, 7, 7, 5, 5, 5, 5, 5, 5, 7, 7, 7, 7, 7, 5, 7, 6, 6, 6, 3, 6, 3, 4, 4, 6, 6, 6, 4, 3, 6, 4, 6, 6, 4, 6, 4, 2, 3, 3, 3, 4], [7, 5, 3, 3, 5, 3, 5, 5, 5, 5, 3, 7, 7, 5, 7, 3, 3, 5, 3, 5, 3, 4, 6, 6, 6, 3, 6, 3, 6, 3, 6, 4, 4, 6, 6, 4, 6, 6, 6, 4, 2, 2, 2, 3, 2], [3, 5, 5, 7, 5, 5, 7, 3, 7, 5, 5, 5, 3, 5, 3, 7, 5, 7, 7, 3, 3, 6, 3, 3, 6, 3, 6, 6, 4, 4, 3, 4, 4, 3, 6, 6, 4, 3, 4, 3, 4, 3, 4, 4, 4], [3, 3, 5, 5, 7, 5, 5, 5, 5, 5, 3, 3, 3, 3, 3, 7, 7, 3, 5, 5, 6, 4, 3, 4, 4, 4, 3, 6, 4, 3, 6, 4, 4, 4, 6, 6, 4, 4, 3, 6, 4, 2, 4, 3, 3]], 'f_emb': [tensor([-0., -0., -0.,  ..., -0., -0., -0.]), tensor([-0., -0., -0.,  ..., -0., -0., -0.]), tensor([1226.8495,   -0.0000,   -0.0000,  ...,   -0.0000,   -0.0000,\n",
      "          -0.0000]), tensor([-0., -0., -0.,  ..., -0., -0., -0.]), tensor([188.3607,  -0.0000,  -0.0000,  ...,  -0.0000,  -0.0000, 213.2732]), tensor([-0., -0., -0.,  ..., -0., -0., -0.])], 'acc': [99.51923076923077, 99.03846153846153, 99.51923076923077, 99.51923076923077, 99.51923076923077, 99.51923076923077], 'n_params': [6228442, 5625114, 6570290, 5347354, 5825218, 4821626]}\n",
      "\n",
      "=====> GENERATING QUERIES <=====\n",
      "\n"
     ]
    },
    {
     "name": "stderr",
     "output_type": "stream",
     "text": [
      "100%|██████████| 44.7M/44.7M [00:00<00:00, 197MB/s]\n"
     ]
    },
    {
     "name": "stdout",
     "output_type": "stream",
     "text": [
      "query_shape_train: 32, each tensor:torch.Size([512])\n"
     ]
    },
    {
     "name": "stderr",
     "output_type": "stream",
     "text": [
      "Using cache found in /root/.cache/torch/hub/mit-han-lab_once-for-all_master\n"
     ]
    },
    {
     "name": "stdout",
     "output_type": "stream",
     "text": [
      "query_shape_test: 32, each tensor:torch.Size([512])\n",
      "x_query:32, x_query-test :32\n",
      "\n",
      "=====>SAVING sldc_0_10 in m_train.pt <=====\n",
      "\n",
      "quesry_dataset corales_0_14\n",
      "\n",
      "Dataset : corales_0_14, nclss:14\n",
      "\n",
      "\n",
      "=====> Generating 1th network  <=====\n",
      "\n",
      "\n",
      "=====>Generating sub_net<=====\n",
      "\n",
      "\n",
      "=====> Training started <=====\n",
      "\n",
      "Starting Training for:corales_0_14 with model topology:[7, 7, 5, 5, 5, 5, 3, 3, 3, 5, 7, 5, 5, 3, 3, 5, 5, 5, 7, 5, 3, 4, 3, 6, 6, 4, 3, 4, 6, 6, 4, 4, 6, 4, 4, 3, 6, 4, 3, 6, 2, 4, 4, 3, 2]\n"
     ]
    },
    {
     "name": "stderr",
     "output_type": "stream",
     "text": [
      "16it [00:02,  6.01it/s]\n",
      "2it [00:00,  4.26it/s]\n"
     ]
    },
    {
     "name": "stdout",
     "output_type": "stream",
     "text": [
      "\n",
      "Epoch: 1/15, Train Loss: 71.41695654 , Val Loss: 73.75337934, Train Accuracy:42.74028630,  Val Accuracy: 37.09677419, Epoch Time: 3.35560250\n"
     ]
    },
    {
     "name": "stderr",
     "output_type": "stream",
     "text": [
      "16it [00:02,  6.59it/s]\n",
      "2it [00:00,  6.71it/s]\n"
     ]
    },
    {
     "name": "stdout",
     "output_type": "stream",
     "text": [
      "\n",
      "Epoch: 2/15, Train Loss: 52.35430659 , Val Loss: 39.75277328, Train Accuracy:79.95910020,  Val Accuracy: 70.96774194, Epoch Time: 2.93856716\n"
     ]
    },
    {
     "name": "stderr",
     "output_type": "stream",
     "text": [
      "16it [00:02,  6.55it/s]\n",
      "2it [00:00,  7.26it/s]\n"
     ]
    },
    {
     "name": "stdout",
     "output_type": "stream",
     "text": [
      "\n",
      "Epoch: 3/15, Train Loss: 20.95130930 , Val Loss: 22.62254471, Train Accuracy:88.95705521,  Val Accuracy: 79.03225806, Epoch Time: 2.91963029\n"
     ]
    },
    {
     "name": "stderr",
     "output_type": "stream",
     "text": [
      "16it [00:02,  6.53it/s]\n",
      "2it [00:00,  6.71it/s]\n"
     ]
    },
    {
     "name": "stdout",
     "output_type": "stream",
     "text": [
      "\n",
      "Epoch: 4/15, Train Loss: 13.98325767 , Val Loss: 15.12790573, Train Accuracy:91.82004090,  Val Accuracy: 88.70967742, Epoch Time: 2.94727397\n"
     ]
    },
    {
     "name": "stderr",
     "output_type": "stream",
     "text": [
      "16it [00:02,  6.35it/s]\n",
      "2it [00:00,  6.85it/s]\n"
     ]
    },
    {
     "name": "stdout",
     "output_type": "stream",
     "text": [
      "\n",
      "Epoch: 5/15, Train Loss: 5.77186546 , Val Loss: 11.02399510, Train Accuracy:97.34151329,  Val Accuracy: 88.70967742, Epoch Time: 3.00711846\n"
     ]
    },
    {
     "name": "stderr",
     "output_type": "stream",
     "text": [
      "16it [00:02,  6.56it/s]\n",
      "2it [00:00,  7.20it/s]\n"
     ]
    },
    {
     "name": "stdout",
     "output_type": "stream",
     "text": [
      "\n",
      "Epoch: 6/15, Train Loss: 4.22665595 , Val Loss: 8.14580235, Train Accuracy:97.54601227,  Val Accuracy: 93.54838710, Epoch Time: 2.94170308\n"
     ]
    },
    {
     "name": "stderr",
     "output_type": "stream",
     "text": [
      "16it [00:02,  6.58it/s]\n",
      "2it [00:00,  7.02it/s]\n"
     ]
    },
    {
     "name": "stdout",
     "output_type": "stream",
     "text": [
      "\n",
      "Epoch: 7/15, Train Loss: 2.40322806 , Val Loss: 7.07162285, Train Accuracy:98.77300613,  Val Accuracy: 93.54838710, Epoch Time: 2.93823767\n"
     ]
    },
    {
     "name": "stderr",
     "output_type": "stream",
     "text": [
      "16it [00:02,  6.55it/s]\n",
      "2it [00:00,  6.85it/s]\n"
     ]
    },
    {
     "name": "stdout",
     "output_type": "stream",
     "text": [
      "\n",
      "Epoch: 8/15, Train Loss: 1.69611429 , Val Loss: 5.25813256, Train Accuracy:99.59100204,  Val Accuracy: 96.77419355, Epoch Time: 2.93327260\n"
     ]
    },
    {
     "name": "stderr",
     "output_type": "stream",
     "text": [
      "16it [00:02,  6.53it/s]\n",
      "2it [00:00,  7.07it/s]\n"
     ]
    },
    {
     "name": "stdout",
     "output_type": "stream",
     "text": [
      "\n",
      "Epoch: 9/15, Train Loss: 1.42893703 , Val Loss: 4.73881096, Train Accuracy:99.79550102,  Val Accuracy: 95.16129032, Epoch Time: 2.93066239\n"
     ]
    },
    {
     "name": "stderr",
     "output_type": "stream",
     "text": [
      "16it [00:02,  6.52it/s]\n",
      "2it [00:00,  7.18it/s]\n"
     ]
    },
    {
     "name": "stdout",
     "output_type": "stream",
     "text": [
      "\n",
      "Epoch: 10/15, Train Loss: 1.35344156 , Val Loss: 4.32634565, Train Accuracy:99.59100204,  Val Accuracy: 95.16129032, Epoch Time: 2.93216395\n"
     ]
    },
    {
     "name": "stderr",
     "output_type": "stream",
     "text": [
      "16it [00:02,  6.51it/s]\n",
      "2it [00:00,  7.26it/s]\n"
     ]
    },
    {
     "name": "stdout",
     "output_type": "stream",
     "text": [
      "\n",
      "Epoch: 11/15, Train Loss: 1.57901470 , Val Loss: 4.46498297, Train Accuracy:99.38650307,  Val Accuracy: 96.77419355, Epoch Time: 2.92965055\n"
     ]
    },
    {
     "name": "stderr",
     "output_type": "stream",
     "text": [
      "16it [00:02,  6.60it/s]\n",
      "2it [00:00,  7.15it/s]\n"
     ]
    },
    {
     "name": "stdout",
     "output_type": "stream",
     "text": [
      "\n",
      "Epoch: 12/15, Train Loss: 1.46731035 , Val Loss: 4.46847823, Train Accuracy:99.38650307,  Val Accuracy: 95.16129032, Epoch Time: 2.92069316\n"
     ]
    },
    {
     "name": "stderr",
     "output_type": "stream",
     "text": [
      "16it [00:02,  6.54it/s]\n",
      "2it [00:00,  6.94it/s]\n"
     ]
    },
    {
     "name": "stdout",
     "output_type": "stream",
     "text": [
      "\n",
      "Epoch: 13/15, Train Loss: 1.95600558 , Val Loss: 7.27580006, Train Accuracy:99.59100204,  Val Accuracy: 91.93548387, Epoch Time: 2.94255447\n"
     ]
    },
    {
     "name": "stderr",
     "output_type": "stream",
     "text": [
      "16it [00:02,  6.52it/s]\n",
      "2it [00:00,  7.11it/s]\n"
     ]
    },
    {
     "name": "stdout",
     "output_type": "stream",
     "text": [
      "\n",
      "Epoch: 14/15, Train Loss: 1.40869508 , Val Loss: 4.96444032, Train Accuracy:99.79550102,  Val Accuracy: 95.16129032, Epoch Time: 2.93247819\n"
     ]
    },
    {
     "name": "stderr",
     "output_type": "stream",
     "text": [
      "16it [00:02,  6.46it/s]\n",
      "2it [00:00,  6.25it/s]\n",
      "Using cache found in /root/.cache/torch/hub/mit-han-lab_once-for-all_master\n"
     ]
    },
    {
     "name": "stdout",
     "output_type": "stream",
     "text": [
      "\n",
      "Epoch: 15/15, Train Loss: 1.23979506 , Val Loss: 4.22224796, Train Accuracy:99.79550102,  Val Accuracy: 98.38709677, Epoch Time: 3.02487183\n",
      "\n",
      "=====>Generating f_emb<=====\n",
      "\n",
      "torch.Size([1536])\n",
      "{'dataset': ['sldc_0_10', 'sldc_0_10', 'sldc_0_10', 'sldc_0_10', 'sldc_0_10', 'sldc_0_10', 'corales_0_14'], 'topol': [[3, 5, 5, 5, 7, 5, 5, 7, 3, 5, 7, 7, 7, 5, 7, 5, 3, 3, 7, 3, 4, 3, 6, 3, 6, 6, 4, 4, 6, 4, 3, 6, 6, 3, 4, 6, 3, 4, 6, 3, 3, 4, 2, 4, 4], [3, 7, 7, 7, 5, 7, 5, 3, 7, 5, 3, 3, 5, 5, 3, 7, 7, 5, 3, 5, 3, 4, 6, 3, 6, 4, 6, 4, 4, 3, 3, 3, 3, 6, 6, 3, 3, 4, 6, 4, 4, 3, 2, 2, 4], [3, 7, 5, 5, 3, 7, 7, 5, 5, 5, 5, 5, 5, 7, 7, 7, 7, 7, 5, 7, 6, 6, 6, 3, 6, 3, 4, 4, 6, 6, 6, 4, 3, 6, 4, 6, 6, 4, 6, 4, 2, 3, 3, 3, 4], [7, 5, 3, 3, 5, 3, 5, 5, 5, 5, 3, 7, 7, 5, 7, 3, 3, 5, 3, 5, 3, 4, 6, 6, 6, 3, 6, 3, 6, 3, 6, 4, 4, 6, 6, 4, 6, 6, 6, 4, 2, 2, 2, 3, 2], [3, 5, 5, 7, 5, 5, 7, 3, 7, 5, 5, 5, 3, 5, 3, 7, 5, 7, 7, 3, 3, 6, 3, 3, 6, 3, 6, 6, 4, 4, 3, 4, 4, 3, 6, 6, 4, 3, 4, 3, 4, 3, 4, 4, 4], [3, 3, 5, 5, 7, 5, 5, 5, 5, 5, 3, 3, 3, 3, 3, 7, 7, 3, 5, 5, 6, 4, 3, 4, 4, 4, 3, 6, 4, 3, 6, 4, 4, 4, 6, 6, 4, 4, 3, 6, 4, 2, 4, 3, 3], [7, 7, 5, 5, 5, 5, 3, 3, 3, 5, 7, 5, 5, 3, 3, 5, 5, 5, 7, 5, 3, 4, 3, 6, 6, 4, 3, 4, 6, 6, 4, 4, 6, 4, 4, 3, 6, 4, 3, 6, 2, 4, 4, 3, 2]], 'f_emb': [tensor([-0., -0., -0.,  ..., -0., -0., -0.]), tensor([-0., -0., -0.,  ..., -0., -0., -0.]), tensor([1226.8495,   -0.0000,   -0.0000,  ...,   -0.0000,   -0.0000,\n",
      "          -0.0000]), tensor([-0., -0., -0.,  ..., -0., -0., -0.]), tensor([188.3607,  -0.0000,  -0.0000,  ...,  -0.0000,  -0.0000, 213.2732]), tensor([-0., -0., -0.,  ..., -0., -0., -0.]), tensor([-0., -0., -0.,  ..., -0., -0., -0.])], 'acc': [99.51923076923077, 99.03846153846153, 99.51923076923077, 99.51923076923077, 99.51923076923077, 99.51923076923077, 98.38709677419355], 'n_params': [6228442, 5625114, 6570290, 5347354, 5825218, 4821626, 4711646]}\n",
      "\n",
      "=====> Generating 2th network  <=====\n",
      "\n",
      "\n",
      "=====>Generating sub_net<=====\n",
      "\n",
      "\n",
      "=====> Training started <=====\n",
      "\n",
      "Starting Training for:corales_0_14 with model topology:[3, 3, 3, 7, 7, 5, 5, 7, 7, 5, 7, 7, 7, 7, 3, 5, 7, 7, 7, 3, 6, 4, 6, 3, 3, 4, 6, 6, 3, 3, 4, 4, 4, 4, 6, 6, 3, 4, 4, 3, 2, 4, 4, 2, 3]\n"
     ]
    },
    {
     "name": "stderr",
     "output_type": "stream",
     "text": [
      "16it [00:02,  6.02it/s]\n",
      "2it [00:00,  6.94it/s]\n"
     ]
    },
    {
     "name": "stdout",
     "output_type": "stream",
     "text": [
      "\n",
      "Epoch: 1/15, Train Loss: 72.79376920 , Val Loss: 75.92748976, Train Accuracy:43.76278119,  Val Accuracy: 27.41935484, Epoch Time: 3.17725968\n"
     ]
    },
    {
     "name": "stderr",
     "output_type": "stream",
     "text": [
      "16it [00:02,  6.61it/s]\n",
      "2it [00:00,  6.93it/s]\n"
     ]
    },
    {
     "name": "stdout",
     "output_type": "stream",
     "text": [
      "\n",
      "Epoch: 2/15, Train Loss: 55.80236670 , Val Loss: 54.54034150, Train Accuracy:75.66462168,  Val Accuracy: 59.67741935, Epoch Time: 2.93681479\n"
     ]
    },
    {
     "name": "stderr",
     "output_type": "stream",
     "text": [
      "16it [00:02,  6.57it/s]\n",
      "2it [00:00,  6.79it/s]\n"
     ]
    },
    {
     "name": "stdout",
     "output_type": "stream",
     "text": [
      "\n",
      "Epoch: 3/15, Train Loss: 33.32150579 , Val Loss: 34.57683921, Train Accuracy:77.30061350,  Val Accuracy: 74.19354839, Epoch Time: 2.94641447\n"
     ]
    },
    {
     "name": "stderr",
     "output_type": "stream",
     "text": [
      "16it [00:02,  6.60it/s]\n",
      "2it [00:00,  7.32it/s]\n"
     ]
    },
    {
     "name": "stdout",
     "output_type": "stream",
     "text": [
      "\n",
      "Epoch: 4/15, Train Loss: 21.01736853 , Val Loss: 19.12204236, Train Accuracy:87.32106339,  Val Accuracy: 82.25806452, Epoch Time: 2.90991879\n"
     ]
    },
    {
     "name": "stderr",
     "output_type": "stream",
     "text": [
      "16it [00:02,  6.58it/s]\n",
      "2it [00:00,  7.54it/s]\n"
     ]
    },
    {
     "name": "stdout",
     "output_type": "stream",
     "text": [
      "\n",
      "Epoch: 5/15, Train Loss: 7.16018888 , Val Loss: 12.96652550, Train Accuracy:95.29652352,  Val Accuracy: 85.48387097, Epoch Time: 2.92667794\n"
     ]
    },
    {
     "name": "stderr",
     "output_type": "stream",
     "text": [
      "16it [00:02,  6.53it/s]\n",
      "2it [00:00,  7.36it/s]\n"
     ]
    },
    {
     "name": "stdout",
     "output_type": "stream",
     "text": [
      "\n",
      "Epoch: 6/15, Train Loss: 5.26297850 , Val Loss: 9.21608612, Train Accuracy:96.11451943,  Val Accuracy: 91.93548387, Epoch Time: 2.91594672\n"
     ]
    },
    {
     "name": "stderr",
     "output_type": "stream",
     "text": [
      "16it [00:02,  6.57it/s]\n",
      "2it [00:00,  6.89it/s]\n"
     ]
    },
    {
     "name": "stdout",
     "output_type": "stream",
     "text": [
      "\n",
      "Epoch: 7/15, Train Loss: 2.34346532 , Val Loss: 7.32668242, Train Accuracy:98.77300613,  Val Accuracy: 95.16129032, Epoch Time: 2.94163442\n"
     ]
    },
    {
     "name": "stderr",
     "output_type": "stream",
     "text": [
      "16it [00:02,  6.50it/s]\n",
      "2it [00:00,  6.83it/s]\n"
     ]
    },
    {
     "name": "stdout",
     "output_type": "stream",
     "text": [
      "\n",
      "Epoch: 8/15, Train Loss: 1.87855885 , Val Loss: 5.97985795, Train Accuracy:99.38650307,  Val Accuracy: 95.16129032, Epoch Time: 2.95500517\n"
     ]
    },
    {
     "name": "stderr",
     "output_type": "stream",
     "text": [
      "16it [00:02,  6.54it/s]\n",
      "2it [00:00,  7.12it/s]\n"
     ]
    },
    {
     "name": "stdout",
     "output_type": "stream",
     "text": [
      "\n",
      "Epoch: 9/15, Train Loss: 1.47443838 , Val Loss: 5.22281787, Train Accuracy:99.59100204,  Val Accuracy: 96.77419355, Epoch Time: 2.92809200\n"
     ]
    },
    {
     "name": "stderr",
     "output_type": "stream",
     "text": [
      "16it [00:02,  6.50it/s]\n",
      "2it [00:00,  7.27it/s]\n"
     ]
    },
    {
     "name": "stdout",
     "output_type": "stream",
     "text": [
      "\n",
      "Epoch: 10/15, Train Loss: 1.38649639 , Val Loss: 5.38148934, Train Accuracy:99.18200409,  Val Accuracy: 93.54838710, Epoch Time: 2.93270397\n"
     ]
    },
    {
     "name": "stderr",
     "output_type": "stream",
     "text": [
      "16it [00:02,  6.59it/s]\n",
      "2it [00:00,  6.91it/s]\n"
     ]
    },
    {
     "name": "stdout",
     "output_type": "stream",
     "text": [
      "\n",
      "Epoch: 11/15, Train Loss: 0.89017244 , Val Loss: 4.63684140, Train Accuracy:100.00000000,  Val Accuracy: 93.54838710, Epoch Time: 2.92935348\n"
     ]
    },
    {
     "name": "stderr",
     "output_type": "stream",
     "text": [
      "16it [00:02,  6.55it/s]\n",
      "2it [00:00,  7.08it/s]\n"
     ]
    },
    {
     "name": "stdout",
     "output_type": "stream",
     "text": [
      "\n",
      "Epoch: 12/15, Train Loss: 0.71053315 , Val Loss: 4.17764597, Train Accuracy:99.79550102,  Val Accuracy: 95.16129032, Epoch Time: 2.93785644\n"
     ]
    },
    {
     "name": "stderr",
     "output_type": "stream",
     "text": [
      "16it [00:02,  6.55it/s]\n",
      "2it [00:00,  7.17it/s]\n"
     ]
    },
    {
     "name": "stdout",
     "output_type": "stream",
     "text": [
      "\n",
      "Epoch: 13/15, Train Loss: 0.44271863 , Val Loss: 4.30675273, Train Accuracy:100.00000000,  Val Accuracy: 95.16129032, Epoch Time: 2.92447376\n"
     ]
    },
    {
     "name": "stderr",
     "output_type": "stream",
     "text": [
      "16it [00:02,  6.53it/s]\n",
      "2it [00:00,  6.52it/s]\n"
     ]
    },
    {
     "name": "stdout",
     "output_type": "stream",
     "text": [
      "\n",
      "Epoch: 14/15, Train Loss: 0.54235125 , Val Loss: 3.75110827, Train Accuracy:100.00000000,  Val Accuracy: 96.77419355, Epoch Time: 2.95315409\n"
     ]
    },
    {
     "name": "stderr",
     "output_type": "stream",
     "text": [
      "16it [00:02,  6.58it/s]\n",
      "2it [00:00,  7.29it/s]\n",
      "Using cache found in /root/.cache/torch/hub/mit-han-lab_once-for-all_master\n"
     ]
    },
    {
     "name": "stdout",
     "output_type": "stream",
     "text": [
      "\n",
      "Epoch: 15/15, Train Loss: 0.35050698 , Val Loss: 3.70839767, Train Accuracy:100.00000000,  Val Accuracy: 96.77419355, Epoch Time: 2.93842268\n",
      "\n",
      "=====>Generating f_emb<=====\n",
      "\n",
      "torch.Size([1536])\n",
      "{'dataset': ['sldc_0_10', 'sldc_0_10', 'sldc_0_10', 'sldc_0_10', 'sldc_0_10', 'sldc_0_10', 'corales_0_14', 'corales_0_14'], 'topol': [[3, 5, 5, 5, 7, 5, 5, 7, 3, 5, 7, 7, 7, 5, 7, 5, 3, 3, 7, 3, 4, 3, 6, 3, 6, 6, 4, 4, 6, 4, 3, 6, 6, 3, 4, 6, 3, 4, 6, 3, 3, 4, 2, 4, 4], [3, 7, 7, 7, 5, 7, 5, 3, 7, 5, 3, 3, 5, 5, 3, 7, 7, 5, 3, 5, 3, 4, 6, 3, 6, 4, 6, 4, 4, 3, 3, 3, 3, 6, 6, 3, 3, 4, 6, 4, 4, 3, 2, 2, 4], [3, 7, 5, 5, 3, 7, 7, 5, 5, 5, 5, 5, 5, 7, 7, 7, 7, 7, 5, 7, 6, 6, 6, 3, 6, 3, 4, 4, 6, 6, 6, 4, 3, 6, 4, 6, 6, 4, 6, 4, 2, 3, 3, 3, 4], [7, 5, 3, 3, 5, 3, 5, 5, 5, 5, 3, 7, 7, 5, 7, 3, 3, 5, 3, 5, 3, 4, 6, 6, 6, 3, 6, 3, 6, 3, 6, 4, 4, 6, 6, 4, 6, 6, 6, 4, 2, 2, 2, 3, 2], [3, 5, 5, 7, 5, 5, 7, 3, 7, 5, 5, 5, 3, 5, 3, 7, 5, 7, 7, 3, 3, 6, 3, 3, 6, 3, 6, 6, 4, 4, 3, 4, 4, 3, 6, 6, 4, 3, 4, 3, 4, 3, 4, 4, 4], [3, 3, 5, 5, 7, 5, 5, 5, 5, 5, 3, 3, 3, 3, 3, 7, 7, 3, 5, 5, 6, 4, 3, 4, 4, 4, 3, 6, 4, 3, 6, 4, 4, 4, 6, 6, 4, 4, 3, 6, 4, 2, 4, 3, 3], [7, 7, 5, 5, 5, 5, 3, 3, 3, 5, 7, 5, 5, 3, 3, 5, 5, 5, 7, 5, 3, 4, 3, 6, 6, 4, 3, 4, 6, 6, 4, 4, 6, 4, 4, 3, 6, 4, 3, 6, 2, 4, 4, 3, 2], [3, 3, 3, 7, 7, 5, 5, 7, 7, 5, 7, 7, 7, 7, 3, 5, 7, 7, 7, 3, 6, 4, 6, 3, 3, 4, 6, 6, 3, 3, 4, 4, 4, 4, 6, 6, 3, 4, 4, 3, 2, 4, 4, 2, 3]], 'f_emb': [tensor([-0., -0., -0.,  ..., -0., -0., -0.]), tensor([-0., -0., -0.,  ..., -0., -0., -0.]), tensor([1226.8495,   -0.0000,   -0.0000,  ...,   -0.0000,   -0.0000,\n",
      "          -0.0000]), tensor([-0., -0., -0.,  ..., -0., -0., -0.]), tensor([188.3607,  -0.0000,  -0.0000,  ...,  -0.0000,  -0.0000, 213.2732]), tensor([-0., -0., -0.,  ..., -0., -0., -0.]), tensor([-0., -0., -0.,  ..., -0., -0., -0.]), tensor([-0.0000, -0.0000, -0.0000,  ..., -0.0000, -0.0000, 9.9611])], 'acc': [99.51923076923077, 99.03846153846153, 99.51923076923077, 99.51923076923077, 99.51923076923077, 99.51923076923077, 98.38709677419355, 96.7741935483871], 'n_params': [6228442, 5625114, 6570290, 5347354, 5825218, 4821626, 4711646, 4554646]}\n",
      "\n",
      "=====> Generating 3th network  <=====\n",
      "\n",
      "\n",
      "=====>Generating sub_net<=====\n",
      "\n",
      "\n",
      "=====> Training started <=====\n",
      "\n",
      "Starting Training for:corales_0_14 with model topology:[5, 5, 3, 5, 7, 3, 5, 7, 7, 5, 3, 7, 7, 3, 3, 7, 3, 3, 7, 3, 4, 4, 6, 6, 3, 6, 3, 6, 3, 4, 4, 6, 3, 4, 6, 3, 6, 6, 4, 4, 4, 2, 4, 4, 4]\n"
     ]
    },
    {
     "name": "stderr",
     "output_type": "stream",
     "text": [
      "16it [00:02,  5.57it/s]\n",
      "2it [00:00,  6.49it/s]\n"
     ]
    },
    {
     "name": "stdout",
     "output_type": "stream",
     "text": [
      "\n",
      "Epoch: 1/15, Train Loss: 73.12210679 , Val Loss: 75.20288563, Train Accuracy:36.60531697,  Val Accuracy: 32.25806452, Epoch Time: 3.39203119\n"
     ]
    },
    {
     "name": "stderr",
     "output_type": "stream",
     "text": [
      "16it [00:02,  5.58it/s]\n",
      "2it [00:00,  6.57it/s]\n"
     ]
    },
    {
     "name": "stdout",
     "output_type": "stream",
     "text": [
      "\n",
      "Epoch: 2/15, Train Loss: 56.21333042 , Val Loss: 49.50559175, Train Accuracy:70.75664622,  Val Accuracy: 69.35483871, Epoch Time: 3.38267708\n"
     ]
    },
    {
     "name": "stderr",
     "output_type": "stream",
     "text": [
      "16it [00:02,  5.60it/s]\n",
      "2it [00:00,  6.55it/s]\n"
     ]
    },
    {
     "name": "stdout",
     "output_type": "stream",
     "text": [
      "\n",
      "Epoch: 3/15, Train Loss: 25.33623591 , Val Loss: 31.88392675, Train Accuracy:83.64008180,  Val Accuracy: 74.19354839, Epoch Time: 3.37047076\n"
     ]
    },
    {
     "name": "stderr",
     "output_type": "stream",
     "text": [
      "16it [00:02,  5.60it/s]\n",
      "2it [00:00,  6.75it/s]\n"
     ]
    },
    {
     "name": "stdout",
     "output_type": "stream",
     "text": [
      "\n",
      "Epoch: 4/15, Train Loss: 15.97747037 , Val Loss: 12.98615918, Train Accuracy:91.41104294,  Val Accuracy: 90.32258065, Epoch Time: 3.35040879\n"
     ]
    },
    {
     "name": "stderr",
     "output_type": "stream",
     "text": [
      "16it [00:02,  5.57it/s]\n",
      "2it [00:00,  6.25it/s]\n"
     ]
    },
    {
     "name": "stdout",
     "output_type": "stream",
     "text": [
      "\n",
      "Epoch: 5/15, Train Loss: 5.59001488 , Val Loss: 9.87062511, Train Accuracy:97.13701431,  Val Accuracy: 93.54838710, Epoch Time: 3.40003228\n"
     ]
    },
    {
     "name": "stderr",
     "output_type": "stream",
     "text": [
      "16it [00:02,  5.49it/s]\n",
      "2it [00:00,  6.86it/s]\n"
     ]
    },
    {
     "name": "stdout",
     "output_type": "stream",
     "text": [
      "\n",
      "Epoch: 6/15, Train Loss: 3.72261515 , Val Loss: 7.53487283, Train Accuracy:98.15950920,  Val Accuracy: 95.16129032, Epoch Time: 3.43490624\n"
     ]
    },
    {
     "name": "stderr",
     "output_type": "stream",
     "text": [
      "16it [00:02,  5.61it/s]\n",
      "2it [00:00,  6.64it/s]\n"
     ]
    },
    {
     "name": "stdout",
     "output_type": "stream",
     "text": [
      "\n",
      "Epoch: 7/15, Train Loss: 2.13223620 , Val Loss: 6.01262778, Train Accuracy:99.38650307,  Val Accuracy: 95.16129032, Epoch Time: 3.38144898\n"
     ]
    },
    {
     "name": "stderr",
     "output_type": "stream",
     "text": [
      "16it [00:02,  5.58it/s]\n",
      "2it [00:00,  6.19it/s]\n"
     ]
    },
    {
     "name": "stdout",
     "output_type": "stream",
     "text": [
      "\n",
      "Epoch: 8/15, Train Loss: 1.75095703 , Val Loss: 4.17010105, Train Accuracy:99.59100204,  Val Accuracy: 98.38709677, Epoch Time: 3.39471412\n"
     ]
    },
    {
     "name": "stderr",
     "output_type": "stream",
     "text": [
      "16it [00:02,  5.59it/s]\n",
      "2it [00:00,  6.97it/s]\n"
     ]
    },
    {
     "name": "stdout",
     "output_type": "stream",
     "text": [
      "\n",
      "Epoch: 9/15, Train Loss: 0.96403085 , Val Loss: 4.01049142, Train Accuracy:99.79550102,  Val Accuracy: 96.77419355, Epoch Time: 3.35412836\n"
     ]
    },
    {
     "name": "stderr",
     "output_type": "stream",
     "text": [
      "16it [00:02,  5.60it/s]\n",
      "2it [00:00,  6.67it/s]\n"
     ]
    },
    {
     "name": "stdout",
     "output_type": "stream",
     "text": [
      "\n",
      "Epoch: 10/15, Train Loss: 0.76775050 , Val Loss: 3.90485860, Train Accuracy:99.79550102,  Val Accuracy: 96.77419355, Epoch Time: 3.35634947\n"
     ]
    },
    {
     "name": "stderr",
     "output_type": "stream",
     "text": [
      "16it [00:02,  5.59it/s]\n",
      "2it [00:00,  6.13it/s]\n"
     ]
    },
    {
     "name": "stdout",
     "output_type": "stream",
     "text": [
      "\n",
      "Epoch: 11/15, Train Loss: 0.71358676 , Val Loss: 3.84984151, Train Accuracy:99.59100204,  Val Accuracy: 96.77419355, Epoch Time: 3.39491701\n"
     ]
    },
    {
     "name": "stderr",
     "output_type": "stream",
     "text": [
      "16it [00:02,  5.59it/s]\n",
      "2it [00:00,  7.16it/s]\n"
     ]
    },
    {
     "name": "stdout",
     "output_type": "stream",
     "text": [
      "\n",
      "Epoch: 12/15, Train Loss: 0.83147257 , Val Loss: 3.42714517, Train Accuracy:99.79550102,  Val Accuracy: 98.38709677, Epoch Time: 3.35345054\n"
     ]
    },
    {
     "name": "stderr",
     "output_type": "stream",
     "text": [
      "16it [00:02,  5.56it/s]\n",
      "2it [00:00,  6.14it/s]\n"
     ]
    },
    {
     "name": "stdout",
     "output_type": "stream",
     "text": [
      "\n",
      "Epoch: 13/15, Train Loss: 0.57600279 , Val Loss: 3.42009000, Train Accuracy:99.79550102,  Val Accuracy: 98.38709677, Epoch Time: 3.41553736\n"
     ]
    },
    {
     "name": "stderr",
     "output_type": "stream",
     "text": [
      "16it [00:02,  5.60it/s]\n",
      "2it [00:00,  6.75it/s]\n"
     ]
    },
    {
     "name": "stdout",
     "output_type": "stream",
     "text": [
      "\n",
      "Epoch: 14/15, Train Loss: 0.62164835 , Val Loss: 3.23404077, Train Accuracy:100.00000000,  Val Accuracy: 98.38709677, Epoch Time: 3.35970020\n"
     ]
    },
    {
     "name": "stderr",
     "output_type": "stream",
     "text": [
      "16it [00:02,  5.62it/s]\n",
      "2it [00:00,  6.80it/s]\n",
      "Using cache found in /root/.cache/torch/hub/mit-han-lab_once-for-all_master\n"
     ]
    },
    {
     "name": "stdout",
     "output_type": "stream",
     "text": [
      "\n",
      "Epoch: 15/15, Train Loss: 0.63341834 , Val Loss: 2.84189698, Train Accuracy:100.00000000,  Val Accuracy: 98.38709677, Epoch Time: 3.34982562\n",
      "\n",
      "=====>Generating f_emb<=====\n",
      "\n",
      "torch.Size([1536])\n",
      "{'dataset': ['sldc_0_10', 'sldc_0_10', 'sldc_0_10', 'sldc_0_10', 'sldc_0_10', 'sldc_0_10', 'corales_0_14', 'corales_0_14', 'corales_0_14'], 'topol': [[3, 5, 5, 5, 7, 5, 5, 7, 3, 5, 7, 7, 7, 5, 7, 5, 3, 3, 7, 3, 4, 3, 6, 3, 6, 6, 4, 4, 6, 4, 3, 6, 6, 3, 4, 6, 3, 4, 6, 3, 3, 4, 2, 4, 4], [3, 7, 7, 7, 5, 7, 5, 3, 7, 5, 3, 3, 5, 5, 3, 7, 7, 5, 3, 5, 3, 4, 6, 3, 6, 4, 6, 4, 4, 3, 3, 3, 3, 6, 6, 3, 3, 4, 6, 4, 4, 3, 2, 2, 4], [3, 7, 5, 5, 3, 7, 7, 5, 5, 5, 5, 5, 5, 7, 7, 7, 7, 7, 5, 7, 6, 6, 6, 3, 6, 3, 4, 4, 6, 6, 6, 4, 3, 6, 4, 6, 6, 4, 6, 4, 2, 3, 3, 3, 4], [7, 5, 3, 3, 5, 3, 5, 5, 5, 5, 3, 7, 7, 5, 7, 3, 3, 5, 3, 5, 3, 4, 6, 6, 6, 3, 6, 3, 6, 3, 6, 4, 4, 6, 6, 4, 6, 6, 6, 4, 2, 2, 2, 3, 2], [3, 5, 5, 7, 5, 5, 7, 3, 7, 5, 5, 5, 3, 5, 3, 7, 5, 7, 7, 3, 3, 6, 3, 3, 6, 3, 6, 6, 4, 4, 3, 4, 4, 3, 6, 6, 4, 3, 4, 3, 4, 3, 4, 4, 4], [3, 3, 5, 5, 7, 5, 5, 5, 5, 5, 3, 3, 3, 3, 3, 7, 7, 3, 5, 5, 6, 4, 3, 4, 4, 4, 3, 6, 4, 3, 6, 4, 4, 4, 6, 6, 4, 4, 3, 6, 4, 2, 4, 3, 3], [7, 7, 5, 5, 5, 5, 3, 3, 3, 5, 7, 5, 5, 3, 3, 5, 5, 5, 7, 5, 3, 4, 3, 6, 6, 4, 3, 4, 6, 6, 4, 4, 6, 4, 4, 3, 6, 4, 3, 6, 2, 4, 4, 3, 2], [3, 3, 3, 7, 7, 5, 5, 7, 7, 5, 7, 7, 7, 7, 3, 5, 7, 7, 7, 3, 6, 4, 6, 3, 3, 4, 6, 6, 3, 3, 4, 4, 4, 4, 6, 6, 3, 4, 4, 3, 2, 4, 4, 2, 3], [5, 5, 3, 5, 7, 3, 5, 7, 7, 5, 3, 7, 7, 3, 3, 7, 3, 3, 7, 3, 4, 4, 6, 6, 3, 6, 3, 6, 3, 4, 4, 6, 3, 4, 6, 3, 6, 6, 4, 4, 4, 2, 4, 4, 4]], 'f_emb': [tensor([-0., -0., -0.,  ..., -0., -0., -0.]), tensor([-0., -0., -0.,  ..., -0., -0., -0.]), tensor([1226.8495,   -0.0000,   -0.0000,  ...,   -0.0000,   -0.0000,\n",
      "          -0.0000]), tensor([-0., -0., -0.,  ..., -0., -0., -0.]), tensor([188.3607,  -0.0000,  -0.0000,  ...,  -0.0000,  -0.0000, 213.2732]), tensor([-0., -0., -0.,  ..., -0., -0., -0.]), tensor([-0., -0., -0.,  ..., -0., -0., -0.]), tensor([-0.0000, -0.0000, -0.0000,  ..., -0.0000, -0.0000, 9.9611]), tensor([38.6843, -0.0000, -0.0000,  ..., -0.0000, -0.0000, -0.0000])], 'acc': [99.51923076923077, 99.03846153846153, 99.51923076923077, 99.51923076923077, 99.51923076923077, 99.51923076923077, 98.38709677419355, 96.7741935483871, 98.38709677419355], 'n_params': [6228442, 5625114, 6570290, 5347354, 5825218, 4821626, 4711646, 4554646, 6688342]}\n",
      "\n",
      "=====> Generating 4th network  <=====\n",
      "\n",
      "\n",
      "=====>Generating sub_net<=====\n",
      "\n",
      "\n",
      "=====> Training started <=====\n",
      "\n",
      "Starting Training for:corales_0_14 with model topology:[3, 5, 3, 5, 3, 3, 7, 7, 3, 3, 5, 7, 5, 3, 7, 7, 3, 3, 3, 7, 3, 4, 6, 6, 4, 4, 6, 6, 3, 3, 3, 6, 3, 6, 3, 4, 3, 4, 6, 6, 4, 4, 4, 3, 2]\n"
     ]
    },
    {
     "name": "stderr",
     "output_type": "stream",
     "text": [
      "16it [00:02,  5.93it/s]\n",
      "2it [00:00,  6.35it/s]\n"
     ]
    },
    {
     "name": "stdout",
     "output_type": "stream",
     "text": [
      "\n",
      "Epoch: 1/15, Train Loss: 72.67744756 , Val Loss: 73.06491518, Train Accuracy:39.46830266,  Val Accuracy: 41.93548387, Epoch Time: 3.26315308\n"
     ]
    },
    {
     "name": "stderr",
     "output_type": "stream",
     "text": [
      "16it [00:02,  5.91it/s]\n",
      "2it [00:00,  6.84it/s]\n"
     ]
    },
    {
     "name": "stdout",
     "output_type": "stream",
     "text": [
      "\n",
      "Epoch: 2/15, Train Loss: 54.35675054 , Val Loss: 47.62212944, Train Accuracy:76.27811861,  Val Accuracy: 64.51612903, Epoch Time: 3.20542240\n"
     ]
    },
    {
     "name": "stderr",
     "output_type": "stream",
     "text": [
      "16it [00:02,  5.95it/s]\n",
      "2it [00:00,  7.12it/s]\n"
     ]
    },
    {
     "name": "stdout",
     "output_type": "stream",
     "text": [
      "\n",
      "Epoch: 3/15, Train Loss: 21.27854612 , Val Loss: 23.98736781, Train Accuracy:88.13905930,  Val Accuracy: 77.41935484, Epoch Time: 3.18805885\n"
     ]
    },
    {
     "name": "stderr",
     "output_type": "stream",
     "text": [
      "16it [00:02,  5.91it/s]\n",
      "2it [00:00,  6.98it/s]\n"
     ]
    },
    {
     "name": "stdout",
     "output_type": "stream",
     "text": [
      "\n",
      "Epoch: 4/15, Train Loss: 13.93288830 , Val Loss: 16.98179990, Train Accuracy:93.04703476,  Val Accuracy: 83.87096774, Epoch Time: 3.19988155\n"
     ]
    },
    {
     "name": "stderr",
     "output_type": "stream",
     "text": [
      "16it [00:02,  5.93it/s]\n",
      "2it [00:00,  7.27it/s]\n"
     ]
    },
    {
     "name": "stdout",
     "output_type": "stream",
     "text": [
      "\n",
      "Epoch: 5/15, Train Loss: 8.07466849 , Val Loss: 8.55922782, Train Accuracy:96.72801636,  Val Accuracy: 93.54838710, Epoch Time: 3.21637869\n"
     ]
    },
    {
     "name": "stderr",
     "output_type": "stream",
     "text": [
      "16it [00:02,  5.94it/s]\n",
      "2it [00:00,  7.06it/s]\n"
     ]
    },
    {
     "name": "stdout",
     "output_type": "stream",
     "text": [
      "\n",
      "Epoch: 6/15, Train Loss: 4.73761860 , Val Loss: 7.94825763, Train Accuracy:97.95501022,  Val Accuracy: 95.16129032, Epoch Time: 3.20374227\n"
     ]
    },
    {
     "name": "stderr",
     "output_type": "stream",
     "text": [
      "16it [00:02,  5.92it/s]\n",
      "2it [00:00,  6.99it/s]\n"
     ]
    },
    {
     "name": "stdout",
     "output_type": "stream",
     "text": [
      "\n",
      "Epoch: 7/15, Train Loss: 2.26156427 , Val Loss: 7.56353137, Train Accuracy:99.59100204,  Val Accuracy: 95.16129032, Epoch Time: 3.21509004\n"
     ]
    },
    {
     "name": "stderr",
     "output_type": "stream",
     "text": [
      "16it [00:02,  5.90it/s]\n",
      "2it [00:00,  7.06it/s]\n"
     ]
    },
    {
     "name": "stdout",
     "output_type": "stream",
     "text": [
      "\n",
      "Epoch: 8/15, Train Loss: 5.80310348 , Val Loss: 24.58089137, Train Accuracy:97.34151329,  Val Accuracy: 70.96774194, Epoch Time: 3.19497061\n"
     ]
    },
    {
     "name": "stderr",
     "output_type": "stream",
     "text": [
      "16it [00:02,  5.88it/s]\n",
      "2it [00:00,  5.55it/s]\n"
     ]
    },
    {
     "name": "stdout",
     "output_type": "stream",
     "text": [
      "\n",
      "Epoch: 9/15, Train Loss: 6.42336669 , Val Loss: 10.74055177, Train Accuracy:96.31901840,  Val Accuracy: 88.70967742, Epoch Time: 3.31695127\n"
     ]
    },
    {
     "name": "stderr",
     "output_type": "stream",
     "text": [
      "16it [00:02,  5.82it/s]\n",
      "2it [00:00,  6.88it/s]\n"
     ]
    },
    {
     "name": "stdout",
     "output_type": "stream",
     "text": [
      "\n",
      "Epoch: 10/15, Train Loss: 3.25652475 , Val Loss: 5.25642495, Train Accuracy:98.97750511,  Val Accuracy: 96.77419355, Epoch Time: 3.26933217\n"
     ]
    },
    {
     "name": "stderr",
     "output_type": "stream",
     "text": [
      "16it [00:02,  5.94it/s]\n",
      "2it [00:00,  6.83it/s]\n"
     ]
    },
    {
     "name": "stdout",
     "output_type": "stream",
     "text": [
      "\n",
      "Epoch: 11/15, Train Loss: 1.77231027 , Val Loss: 5.08024201, Train Accuracy:99.38650307,  Val Accuracy: 95.16129032, Epoch Time: 3.20909977\n"
     ]
    },
    {
     "name": "stderr",
     "output_type": "stream",
     "text": [
      "16it [00:02,  5.91it/s]\n",
      "2it [00:00,  7.02it/s]\n"
     ]
    },
    {
     "name": "stdout",
     "output_type": "stream",
     "text": [
      "\n",
      "Epoch: 12/15, Train Loss: 1.44089969 , Val Loss: 4.27048351, Train Accuracy:99.38650307,  Val Accuracy: 95.16129032, Epoch Time: 3.19619346\n"
     ]
    },
    {
     "name": "stderr",
     "output_type": "stream",
     "text": [
      "16it [00:02,  5.93it/s]\n",
      "2it [00:00,  6.04it/s]\n"
     ]
    },
    {
     "name": "stdout",
     "output_type": "stream",
     "text": [
      "\n",
      "Epoch: 13/15, Train Loss: 1.29279753 , Val Loss: 4.94553803, Train Accuracy:99.59100204,  Val Accuracy: 95.16129032, Epoch Time: 3.26399541\n"
     ]
    },
    {
     "name": "stderr",
     "output_type": "stream",
     "text": [
      "16it [00:02,  5.93it/s]\n",
      "2it [00:00,  6.79it/s]\n"
     ]
    },
    {
     "name": "stdout",
     "output_type": "stream",
     "text": [
      "\n",
      "Epoch: 14/15, Train Loss: 0.96647407 , Val Loss: 5.63455217, Train Accuracy:99.59100204,  Val Accuracy: 96.77419355, Epoch Time: 3.20090985\n"
     ]
    },
    {
     "name": "stderr",
     "output_type": "stream",
     "text": [
      "16it [00:02,  5.92it/s]\n",
      "2it [00:00,  6.58it/s]\n",
      "Using cache found in /root/.cache/torch/hub/mit-han-lab_once-for-all_master\n"
     ]
    },
    {
     "name": "stdout",
     "output_type": "stream",
     "text": [
      "\n",
      "Epoch: 15/15, Train Loss: 1.13997894 , Val Loss: 3.10190903, Train Accuracy:99.38650307,  Val Accuracy: 98.38709677, Epoch Time: 3.23001361\n",
      "\n",
      "=====>Generating f_emb<=====\n",
      "\n",
      "torch.Size([1536])\n",
      "{'dataset': ['sldc_0_10', 'sldc_0_10', 'sldc_0_10', 'sldc_0_10', 'sldc_0_10', 'sldc_0_10', 'corales_0_14', 'corales_0_14', 'corales_0_14', 'corales_0_14'], 'topol': [[3, 5, 5, 5, 7, 5, 5, 7, 3, 5, 7, 7, 7, 5, 7, 5, 3, 3, 7, 3, 4, 3, 6, 3, 6, 6, 4, 4, 6, 4, 3, 6, 6, 3, 4, 6, 3, 4, 6, 3, 3, 4, 2, 4, 4], [3, 7, 7, 7, 5, 7, 5, 3, 7, 5, 3, 3, 5, 5, 3, 7, 7, 5, 3, 5, 3, 4, 6, 3, 6, 4, 6, 4, 4, 3, 3, 3, 3, 6, 6, 3, 3, 4, 6, 4, 4, 3, 2, 2, 4], [3, 7, 5, 5, 3, 7, 7, 5, 5, 5, 5, 5, 5, 7, 7, 7, 7, 7, 5, 7, 6, 6, 6, 3, 6, 3, 4, 4, 6, 6, 6, 4, 3, 6, 4, 6, 6, 4, 6, 4, 2, 3, 3, 3, 4], [7, 5, 3, 3, 5, 3, 5, 5, 5, 5, 3, 7, 7, 5, 7, 3, 3, 5, 3, 5, 3, 4, 6, 6, 6, 3, 6, 3, 6, 3, 6, 4, 4, 6, 6, 4, 6, 6, 6, 4, 2, 2, 2, 3, 2], [3, 5, 5, 7, 5, 5, 7, 3, 7, 5, 5, 5, 3, 5, 3, 7, 5, 7, 7, 3, 3, 6, 3, 3, 6, 3, 6, 6, 4, 4, 3, 4, 4, 3, 6, 6, 4, 3, 4, 3, 4, 3, 4, 4, 4], [3, 3, 5, 5, 7, 5, 5, 5, 5, 5, 3, 3, 3, 3, 3, 7, 7, 3, 5, 5, 6, 4, 3, 4, 4, 4, 3, 6, 4, 3, 6, 4, 4, 4, 6, 6, 4, 4, 3, 6, 4, 2, 4, 3, 3], [7, 7, 5, 5, 5, 5, 3, 3, 3, 5, 7, 5, 5, 3, 3, 5, 5, 5, 7, 5, 3, 4, 3, 6, 6, 4, 3, 4, 6, 6, 4, 4, 6, 4, 4, 3, 6, 4, 3, 6, 2, 4, 4, 3, 2], [3, 3, 3, 7, 7, 5, 5, 7, 7, 5, 7, 7, 7, 7, 3, 5, 7, 7, 7, 3, 6, 4, 6, 3, 3, 4, 6, 6, 3, 3, 4, 4, 4, 4, 6, 6, 3, 4, 4, 3, 2, 4, 4, 2, 3], [5, 5, 3, 5, 7, 3, 5, 7, 7, 5, 3, 7, 7, 3, 3, 7, 3, 3, 7, 3, 4, 4, 6, 6, 3, 6, 3, 6, 3, 4, 4, 6, 3, 4, 6, 3, 6, 6, 4, 4, 4, 2, 4, 4, 4], [3, 5, 3, 5, 3, 3, 7, 7, 3, 3, 5, 7, 5, 3, 7, 7, 3, 3, 3, 7, 3, 4, 6, 6, 4, 4, 6, 6, 3, 3, 3, 6, 3, 6, 3, 4, 3, 4, 6, 6, 4, 4, 4, 3, 2]], 'f_emb': [tensor([-0., -0., -0.,  ..., -0., -0., -0.]), tensor([-0., -0., -0.,  ..., -0., -0., -0.]), tensor([1226.8495,   -0.0000,   -0.0000,  ...,   -0.0000,   -0.0000,\n",
      "          -0.0000]), tensor([-0., -0., -0.,  ..., -0., -0., -0.]), tensor([188.3607,  -0.0000,  -0.0000,  ...,  -0.0000,  -0.0000, 213.2732]), tensor([-0., -0., -0.,  ..., -0., -0., -0.]), tensor([-0., -0., -0.,  ..., -0., -0., -0.]), tensor([-0.0000, -0.0000, -0.0000,  ..., -0.0000, -0.0000, 9.9611]), tensor([38.6843, -0.0000, -0.0000,  ..., -0.0000, -0.0000, -0.0000]), tensor([ 0.5262, -0.3664,  0.4536,  ..., -0.3597, -0.2121, -0.3281])], 'acc': [99.51923076923077, 99.03846153846153, 99.51923076923077, 99.51923076923077, 99.51923076923077, 99.51923076923077, 98.38709677419355, 96.7741935483871, 98.38709677419355, 98.38709677419355], 'n_params': [6228442, 5625114, 6570290, 5347354, 5825218, 4821626, 4711646, 4554646, 6688342, 4317614]}\n",
      "\n",
      "=====> Generating 5th network  <=====\n",
      "\n",
      "\n",
      "=====>Generating sub_net<=====\n",
      "\n",
      "\n",
      "=====> Training started <=====\n",
      "\n",
      "Starting Training for:corales_0_14 with model topology:[3, 7, 7, 5, 7, 3, 7, 5, 7, 7, 7, 5, 7, 5, 3, 7, 5, 5, 5, 5, 6, 3, 6, 6, 4, 6, 6, 4, 6, 6, 6, 3, 3, 3, 3, 3, 6, 6, 4, 4, 3, 4, 2, 2, 3]\n"
     ]
    },
    {
     "name": "stderr",
     "output_type": "stream",
     "text": [
      "16it [00:02,  5.56it/s]\n",
      "2it [00:00,  6.97it/s]\n"
     ]
    },
    {
     "name": "stdout",
     "output_type": "stream",
     "text": [
      "\n",
      "Epoch: 1/15, Train Loss: 73.33759870 , Val Loss: 74.66856742, Train Accuracy:40.49079755,  Val Accuracy: 38.70967742, Epoch Time: 3.37851095\n"
     ]
    },
    {
     "name": "stderr",
     "output_type": "stream",
     "text": [
      "16it [00:02,  5.58it/s]\n",
      "2it [00:00,  6.90it/s]\n"
     ]
    },
    {
     "name": "stdout",
     "output_type": "stream",
     "text": [
      "\n",
      "Epoch: 2/15, Train Loss: 55.46173761 , Val Loss: 45.20578694, Train Accuracy:77.91411043,  Val Accuracy: 75.80645161, Epoch Time: 3.37696481\n"
     ]
    },
    {
     "name": "stderr",
     "output_type": "stream",
     "text": [
      "16it [00:02,  5.51it/s]\n",
      "2it [00:00,  7.10it/s]\n"
     ]
    },
    {
     "name": "stdout",
     "output_type": "stream",
     "text": [
      "\n",
      "Epoch: 3/15, Train Loss: 18.93313517 , Val Loss: 24.72098857, Train Accuracy:90.18404908,  Val Accuracy: 87.09677419, Epoch Time: 3.38230848\n"
     ]
    },
    {
     "name": "stderr",
     "output_type": "stream",
     "text": [
      "16it [00:02,  5.53it/s]\n",
      "2it [00:00,  6.66it/s]\n"
     ]
    },
    {
     "name": "stdout",
     "output_type": "stream",
     "text": [
      "\n",
      "Epoch: 4/15, Train Loss: 12.96958919 , Val Loss: 17.12431282, Train Accuracy:93.45603272,  Val Accuracy: 87.09677419, Epoch Time: 3.40373158\n"
     ]
    },
    {
     "name": "stderr",
     "output_type": "stream",
     "text": [
      "16it [00:02,  5.53it/s]\n",
      "2it [00:00,  6.80it/s]\n"
     ]
    },
    {
     "name": "stdout",
     "output_type": "stream",
     "text": [
      "\n",
      "Epoch: 5/15, Train Loss: 5.57422416 , Val Loss: 11.55316263, Train Accuracy:98.15950920,  Val Accuracy: 91.93548387, Epoch Time: 3.38829017\n"
     ]
    },
    {
     "name": "stderr",
     "output_type": "stream",
     "text": [
      "16it [00:02,  5.54it/s]\n",
      "2it [00:00,  6.21it/s]\n"
     ]
    },
    {
     "name": "stdout",
     "output_type": "stream",
     "text": [
      "\n",
      "Epoch: 6/15, Train Loss: 3.99272204 , Val Loss: 8.71048167, Train Accuracy:98.56850716,  Val Accuracy: 96.77419355, Epoch Time: 3.42717171\n"
     ]
    },
    {
     "name": "stderr",
     "output_type": "stream",
     "text": [
      "16it [00:02,  5.53it/s]\n",
      "2it [00:00,  6.97it/s]\n"
     ]
    },
    {
     "name": "stdout",
     "output_type": "stream",
     "text": [
      "\n",
      "Epoch: 7/15, Train Loss: 2.20154144 , Val Loss: 7.74868786, Train Accuracy:99.18200409,  Val Accuracy: 93.54838710, Epoch Time: 3.37851644\n"
     ]
    },
    {
     "name": "stderr",
     "output_type": "stream",
     "text": [
      "16it [00:02,  5.58it/s]\n",
      "2it [00:00,  6.66it/s]\n"
     ]
    },
    {
     "name": "stdout",
     "output_type": "stream",
     "text": [
      "\n",
      "Epoch: 8/15, Train Loss: 1.80125208 , Val Loss: 6.09321076, Train Accuracy:99.59100204,  Val Accuracy: 93.54838710, Epoch Time: 3.39220142\n"
     ]
    },
    {
     "name": "stderr",
     "output_type": "stream",
     "text": [
      "16it [00:02,  5.54it/s]\n",
      "2it [00:00,  6.80it/s]\n"
     ]
    },
    {
     "name": "stdout",
     "output_type": "stream",
     "text": [
      "\n",
      "Epoch: 9/15, Train Loss: 1.38529034 , Val Loss: 5.94305871, Train Accuracy:99.79550102,  Val Accuracy: 95.16129032, Epoch Time: 3.39938211\n"
     ]
    },
    {
     "name": "stderr",
     "output_type": "stream",
     "text": [
      "16it [00:02,  5.58it/s]\n",
      "2it [00:00,  6.49it/s]\n"
     ]
    },
    {
     "name": "stdout",
     "output_type": "stream",
     "text": [
      "\n",
      "Epoch: 10/15, Train Loss: 1.11198119 , Val Loss: 6.08328724, Train Accuracy:99.79550102,  Val Accuracy: 95.16129032, Epoch Time: 3.39480639\n"
     ]
    },
    {
     "name": "stderr",
     "output_type": "stream",
     "text": [
      "16it [00:02,  5.58it/s]\n",
      "2it [00:00,  6.40it/s]\n"
     ]
    },
    {
     "name": "stdout",
     "output_type": "stream",
     "text": [
      "\n",
      "Epoch: 11/15, Train Loss: 0.77513119 , Val Loss: 5.81572255, Train Accuracy:99.79550102,  Val Accuracy: 96.77419355, Epoch Time: 3.40397167\n"
     ]
    },
    {
     "name": "stderr",
     "output_type": "stream",
     "text": [
      "16it [00:02,  5.55it/s]\n",
      "2it [00:00,  6.74it/s]\n"
     ]
    },
    {
     "name": "stdout",
     "output_type": "stream",
     "text": [
      "\n",
      "Epoch: 12/15, Train Loss: 1.19133552 , Val Loss: 5.65299550, Train Accuracy:99.59100204,  Val Accuracy: 93.54838710, Epoch Time: 3.39634156\n"
     ]
    },
    {
     "name": "stderr",
     "output_type": "stream",
     "text": [
      "16it [00:02,  5.57it/s]\n",
      "2it [00:00,  7.03it/s]\n"
     ]
    },
    {
     "name": "stdout",
     "output_type": "stream",
     "text": [
      "\n",
      "Epoch: 13/15, Train Loss: 0.84327277 , Val Loss: 5.19655232, Train Accuracy:99.59100204,  Val Accuracy: 93.54838710, Epoch Time: 3.38215709\n"
     ]
    },
    {
     "name": "stderr",
     "output_type": "stream",
     "text": [
      "16it [00:02,  5.56it/s]\n",
      "2it [00:00,  6.60it/s]\n"
     ]
    },
    {
     "name": "stdout",
     "output_type": "stream",
     "text": [
      "\n",
      "Epoch: 14/15, Train Loss: 0.80441773 , Val Loss: 4.35338669, Train Accuracy:99.79550102,  Val Accuracy: 96.77419355, Epoch Time: 3.40361786\n"
     ]
    },
    {
     "name": "stderr",
     "output_type": "stream",
     "text": [
      "16it [00:02,  5.55it/s]\n",
      "2it [00:00,  7.01it/s]\n",
      "Using cache found in /root/.cache/torch/hub/mit-han-lab_once-for-all_master\n"
     ]
    },
    {
     "name": "stdout",
     "output_type": "stream",
     "text": [
      "\n",
      "Epoch: 15/15, Train Loss: 0.73581473 , Val Loss: 90.36005926, Train Accuracy:99.59100204,  Val Accuracy: 8.06451613, Epoch Time: 3.38891149\n",
      "\n",
      "=====>Generating f_emb<=====\n",
      "\n",
      "torch.Size([1536])\n",
      "{'dataset': ['sldc_0_10', 'sldc_0_10', 'sldc_0_10', 'sldc_0_10', 'sldc_0_10', 'sldc_0_10', 'corales_0_14', 'corales_0_14', 'corales_0_14', 'corales_0_14', 'corales_0_14'], 'topol': [[3, 5, 5, 5, 7, 5, 5, 7, 3, 5, 7, 7, 7, 5, 7, 5, 3, 3, 7, 3, 4, 3, 6, 3, 6, 6, 4, 4, 6, 4, 3, 6, 6, 3, 4, 6, 3, 4, 6, 3, 3, 4, 2, 4, 4], [3, 7, 7, 7, 5, 7, 5, 3, 7, 5, 3, 3, 5, 5, 3, 7, 7, 5, 3, 5, 3, 4, 6, 3, 6, 4, 6, 4, 4, 3, 3, 3, 3, 6, 6, 3, 3, 4, 6, 4, 4, 3, 2, 2, 4], [3, 7, 5, 5, 3, 7, 7, 5, 5, 5, 5, 5, 5, 7, 7, 7, 7, 7, 5, 7, 6, 6, 6, 3, 6, 3, 4, 4, 6, 6, 6, 4, 3, 6, 4, 6, 6, 4, 6, 4, 2, 3, 3, 3, 4], [7, 5, 3, 3, 5, 3, 5, 5, 5, 5, 3, 7, 7, 5, 7, 3, 3, 5, 3, 5, 3, 4, 6, 6, 6, 3, 6, 3, 6, 3, 6, 4, 4, 6, 6, 4, 6, 6, 6, 4, 2, 2, 2, 3, 2], [3, 5, 5, 7, 5, 5, 7, 3, 7, 5, 5, 5, 3, 5, 3, 7, 5, 7, 7, 3, 3, 6, 3, 3, 6, 3, 6, 6, 4, 4, 3, 4, 4, 3, 6, 6, 4, 3, 4, 3, 4, 3, 4, 4, 4], [3, 3, 5, 5, 7, 5, 5, 5, 5, 5, 3, 3, 3, 3, 3, 7, 7, 3, 5, 5, 6, 4, 3, 4, 4, 4, 3, 6, 4, 3, 6, 4, 4, 4, 6, 6, 4, 4, 3, 6, 4, 2, 4, 3, 3], [7, 7, 5, 5, 5, 5, 3, 3, 3, 5, 7, 5, 5, 3, 3, 5, 5, 5, 7, 5, 3, 4, 3, 6, 6, 4, 3, 4, 6, 6, 4, 4, 6, 4, 4, 3, 6, 4, 3, 6, 2, 4, 4, 3, 2], [3, 3, 3, 7, 7, 5, 5, 7, 7, 5, 7, 7, 7, 7, 3, 5, 7, 7, 7, 3, 6, 4, 6, 3, 3, 4, 6, 6, 3, 3, 4, 4, 4, 4, 6, 6, 3, 4, 4, 3, 2, 4, 4, 2, 3], [5, 5, 3, 5, 7, 3, 5, 7, 7, 5, 3, 7, 7, 3, 3, 7, 3, 3, 7, 3, 4, 4, 6, 6, 3, 6, 3, 6, 3, 4, 4, 6, 3, 4, 6, 3, 6, 6, 4, 4, 4, 2, 4, 4, 4], [3, 5, 3, 5, 3, 3, 7, 7, 3, 3, 5, 7, 5, 3, 7, 7, 3, 3, 3, 7, 3, 4, 6, 6, 4, 4, 6, 6, 3, 3, 3, 6, 3, 6, 3, 4, 3, 4, 6, 6, 4, 4, 4, 3, 2], [3, 7, 7, 5, 7, 3, 7, 5, 7, 7, 7, 5, 7, 5, 3, 7, 5, 5, 5, 5, 6, 3, 6, 6, 4, 6, 6, 4, 6, 6, 6, 3, 3, 3, 3, 3, 6, 6, 4, 4, 3, 4, 2, 2, 3]], 'f_emb': [tensor([-0., -0., -0.,  ..., -0., -0., -0.]), tensor([-0., -0., -0.,  ..., -0., -0., -0.]), tensor([1226.8495,   -0.0000,   -0.0000,  ...,   -0.0000,   -0.0000,\n",
      "          -0.0000]), tensor([-0., -0., -0.,  ..., -0., -0., -0.]), tensor([188.3607,  -0.0000,  -0.0000,  ...,  -0.0000,  -0.0000, 213.2732]), tensor([-0., -0., -0.,  ..., -0., -0., -0.]), tensor([-0., -0., -0.,  ..., -0., -0., -0.]), tensor([-0.0000, -0.0000, -0.0000,  ..., -0.0000, -0.0000, 9.9611]), tensor([38.6843, -0.0000, -0.0000,  ..., -0.0000, -0.0000, -0.0000]), tensor([ 0.5262, -0.3664,  0.4536,  ..., -0.3597, -0.2121, -0.3281]), tensor([-0., -0., -0.,  ..., -0., -0., -0.])], 'acc': [99.51923076923077, 99.03846153846153, 99.51923076923077, 99.51923076923077, 99.51923076923077, 99.51923076923077, 98.38709677419355, 96.7741935483871, 98.38709677419355, 98.38709677419355, 8.064516129032258], 'n_params': [6228442, 5625114, 6570290, 5347354, 5825218, 4821626, 4711646, 4554646, 6688342, 4317614, 5203934]}\n",
      "\n",
      "=====> Generating 6th network  <=====\n",
      "\n",
      "\n",
      "=====>Generating sub_net<=====\n",
      "\n",
      "\n",
      "=====> Training started <=====\n",
      "\n",
      "Starting Training for:corales_0_14 with model topology:[7, 7, 3, 3, 5, 7, 3, 5, 5, 3, 3, 3, 5, 7, 3, 7, 7, 5, 7, 7, 6, 3, 4, 3, 3, 3, 4, 3, 3, 4, 6, 6, 6, 4, 4, 6, 6, 4, 3, 4, 2, 2, 3, 4, 3]\n"
     ]
    },
    {
     "name": "stderr",
     "output_type": "stream",
     "text": [
      "16it [00:02,  5.95it/s]\n",
      "2it [00:00,  7.35it/s]\n"
     ]
    },
    {
     "name": "stdout",
     "output_type": "stream",
     "text": [
      "\n",
      "Epoch: 1/15, Train Loss: 72.56304403 , Val Loss: 74.54997087, Train Accuracy:40.49079755,  Val Accuracy: 30.64516129, Epoch Time: 3.20103550\n"
     ]
    },
    {
     "name": "stderr",
     "output_type": "stream",
     "text": [
      "16it [00:02,  5.86it/s]\n",
      "2it [00:00,  7.06it/s]\n"
     ]
    },
    {
     "name": "stdout",
     "output_type": "stream",
     "text": [
      "\n",
      "Epoch: 2/15, Train Loss: 55.17785195 , Val Loss: 46.77167594, Train Accuracy:73.21063395,  Val Accuracy: 66.12903226, Epoch Time: 3.21887755\n"
     ]
    },
    {
     "name": "stderr",
     "output_type": "stream",
     "text": [
      "16it [00:02,  5.89it/s]\n",
      "2it [00:00,  7.16it/s]\n"
     ]
    },
    {
     "name": "stdout",
     "output_type": "stream",
     "text": [
      "\n",
      "Epoch: 3/15, Train Loss: 20.25354458 , Val Loss: 26.50828069, Train Accuracy:89.57055215,  Val Accuracy: 79.03225806, Epoch Time: 3.19684768\n"
     ]
    },
    {
     "name": "stderr",
     "output_type": "stream",
     "text": [
      "16it [00:02,  5.92it/s]\n",
      "2it [00:00,  7.15it/s]\n"
     ]
    },
    {
     "name": "stdout",
     "output_type": "stream",
     "text": [
      "\n",
      "Epoch: 4/15, Train Loss: 14.02172309 , Val Loss: 22.74154770, Train Accuracy:93.04703476,  Val Accuracy: 79.03225806, Epoch Time: 3.18724775\n"
     ]
    },
    {
     "name": "stderr",
     "output_type": "stream",
     "text": [
      "16it [00:02,  5.89it/s]\n",
      "2it [00:00,  7.04it/s]\n"
     ]
    },
    {
     "name": "stdout",
     "output_type": "stream",
     "text": [
      "\n",
      "Epoch: 5/15, Train Loss: 6.56603168 , Val Loss: 12.28205374, Train Accuracy:97.75051125,  Val Accuracy: 93.54838710, Epoch Time: 3.20564961\n"
     ]
    },
    {
     "name": "stderr",
     "output_type": "stream",
     "text": [
      "16it [00:02,  5.93it/s]\n",
      "2it [00:00,  6.61it/s]\n"
     ]
    },
    {
     "name": "stdout",
     "output_type": "stream",
     "text": [
      "\n",
      "Epoch: 6/15, Train Loss: 4.46504742 , Val Loss: 9.10522482, Train Accuracy:97.75051125,  Val Accuracy: 93.54838710, Epoch Time: 3.20499420\n"
     ]
    },
    {
     "name": "stderr",
     "output_type": "stream",
     "text": [
      "16it [00:02,  5.84it/s]\n",
      "2it [00:00,  6.48it/s]\n"
     ]
    },
    {
     "name": "stdout",
     "output_type": "stream",
     "text": [
      "\n",
      "Epoch: 7/15, Train Loss: 2.35423988 , Val Loss: 6.28282824, Train Accuracy:99.38650307,  Val Accuracy: 95.16129032, Epoch Time: 3.24384427\n"
     ]
    },
    {
     "name": "stderr",
     "output_type": "stream",
     "text": [
      "16it [00:02,  5.70it/s]\n",
      "2it [00:00,  6.78it/s]\n"
     ]
    },
    {
     "name": "stdout",
     "output_type": "stream",
     "text": [
      "\n",
      "Epoch: 8/15, Train Loss: 1.28185228 , Val Loss: 5.56809774, Train Accuracy:99.59100204,  Val Accuracy: 93.54838710, Epoch Time: 3.36980247\n"
     ]
    },
    {
     "name": "stderr",
     "output_type": "stream",
     "text": [
      "16it [00:02,  5.93it/s]\n",
      "2it [00:00,  6.41it/s]\n"
     ]
    },
    {
     "name": "stdout",
     "output_type": "stream",
     "text": [
      "\n",
      "Epoch: 9/15, Train Loss: 1.70934829 , Val Loss: 8.28760704, Train Accuracy:99.59100204,  Val Accuracy: 93.54838710, Epoch Time: 3.22786140\n"
     ]
    },
    {
     "name": "stderr",
     "output_type": "stream",
     "text": [
      "16it [00:02,  5.91it/s]\n",
      "2it [00:00,  6.90it/s]\n"
     ]
    },
    {
     "name": "stdout",
     "output_type": "stream",
     "text": [
      "\n",
      "Epoch: 10/15, Train Loss: 3.69666271 , Val Loss: 5.83513255, Train Accuracy:98.56850716,  Val Accuracy: 93.54838710, Epoch Time: 3.21035767\n"
     ]
    },
    {
     "name": "stderr",
     "output_type": "stream",
     "text": [
      "16it [00:02,  5.89it/s]\n",
      "2it [00:00,  6.71it/s]\n"
     ]
    },
    {
     "name": "stdout",
     "output_type": "stream",
     "text": [
      "\n",
      "Epoch: 11/15, Train Loss: 3.28017601 , Val Loss: 4.16135356, Train Accuracy:98.77300613,  Val Accuracy: 95.16129032, Epoch Time: 3.21131301\n"
     ]
    },
    {
     "name": "stderr",
     "output_type": "stream",
     "text": [
      "16it [00:02,  5.89it/s]\n",
      "2it [00:00,  6.91it/s]\n"
     ]
    },
    {
     "name": "stdout",
     "output_type": "stream",
     "text": [
      "\n",
      "Epoch: 12/15, Train Loss: 1.40647995 , Val Loss: 3.39943399, Train Accuracy:99.18200409,  Val Accuracy: 96.77419355, Epoch Time: 3.21449852\n"
     ]
    },
    {
     "name": "stderr",
     "output_type": "stream",
     "text": [
      "16it [00:02,  5.92it/s]\n",
      "2it [00:00,  7.08it/s]\n"
     ]
    },
    {
     "name": "stdout",
     "output_type": "stream",
     "text": [
      "\n",
      "Epoch: 13/15, Train Loss: 1.04707404 , Val Loss: 3.72249500, Train Accuracy:100.00000000,  Val Accuracy: 96.77419355, Epoch Time: 3.19548225\n"
     ]
    },
    {
     "name": "stderr",
     "output_type": "stream",
     "text": [
      "16it [00:02,  5.88it/s]\n",
      "2it [00:00,  6.90it/s]\n"
     ]
    },
    {
     "name": "stdout",
     "output_type": "stream",
     "text": [
      "\n",
      "Epoch: 14/15, Train Loss: 0.79438029 , Val Loss: 3.49854635, Train Accuracy:100.00000000,  Val Accuracy: 96.77419355, Epoch Time: 3.25575638\n"
     ]
    },
    {
     "name": "stderr",
     "output_type": "stream",
     "text": [
      "16it [00:02,  5.94it/s]\n",
      "2it [00:00,  6.93it/s]\n"
     ]
    },
    {
     "name": "stdout",
     "output_type": "stream",
     "text": [
      "\n",
      "Epoch: 15/15, Train Loss: 0.70806770 , Val Loss: 3.20714016, Train Accuracy:99.79550102,  Val Accuracy: 96.77419355, Epoch Time: 3.21268868\n",
      "\n",
      "=====>Generating f_emb<=====\n",
      "\n",
      "torch.Size([1536])\n",
      "{'dataset': ['sldc_0_10', 'sldc_0_10', 'sldc_0_10', 'sldc_0_10', 'sldc_0_10', 'sldc_0_10', 'corales_0_14', 'corales_0_14', 'corales_0_14', 'corales_0_14', 'corales_0_14', 'corales_0_14'], 'topol': [[3, 5, 5, 5, 7, 5, 5, 7, 3, 5, 7, 7, 7, 5, 7, 5, 3, 3, 7, 3, 4, 3, 6, 3, 6, 6, 4, 4, 6, 4, 3, 6, 6, 3, 4, 6, 3, 4, 6, 3, 3, 4, 2, 4, 4], [3, 7, 7, 7, 5, 7, 5, 3, 7, 5, 3, 3, 5, 5, 3, 7, 7, 5, 3, 5, 3, 4, 6, 3, 6, 4, 6, 4, 4, 3, 3, 3, 3, 6, 6, 3, 3, 4, 6, 4, 4, 3, 2, 2, 4], [3, 7, 5, 5, 3, 7, 7, 5, 5, 5, 5, 5, 5, 7, 7, 7, 7, 7, 5, 7, 6, 6, 6, 3, 6, 3, 4, 4, 6, 6, 6, 4, 3, 6, 4, 6, 6, 4, 6, 4, 2, 3, 3, 3, 4], [7, 5, 3, 3, 5, 3, 5, 5, 5, 5, 3, 7, 7, 5, 7, 3, 3, 5, 3, 5, 3, 4, 6, 6, 6, 3, 6, 3, 6, 3, 6, 4, 4, 6, 6, 4, 6, 6, 6, 4, 2, 2, 2, 3, 2], [3, 5, 5, 7, 5, 5, 7, 3, 7, 5, 5, 5, 3, 5, 3, 7, 5, 7, 7, 3, 3, 6, 3, 3, 6, 3, 6, 6, 4, 4, 3, 4, 4, 3, 6, 6, 4, 3, 4, 3, 4, 3, 4, 4, 4], [3, 3, 5, 5, 7, 5, 5, 5, 5, 5, 3, 3, 3, 3, 3, 7, 7, 3, 5, 5, 6, 4, 3, 4, 4, 4, 3, 6, 4, 3, 6, 4, 4, 4, 6, 6, 4, 4, 3, 6, 4, 2, 4, 3, 3], [7, 7, 5, 5, 5, 5, 3, 3, 3, 5, 7, 5, 5, 3, 3, 5, 5, 5, 7, 5, 3, 4, 3, 6, 6, 4, 3, 4, 6, 6, 4, 4, 6, 4, 4, 3, 6, 4, 3, 6, 2, 4, 4, 3, 2], [3, 3, 3, 7, 7, 5, 5, 7, 7, 5, 7, 7, 7, 7, 3, 5, 7, 7, 7, 3, 6, 4, 6, 3, 3, 4, 6, 6, 3, 3, 4, 4, 4, 4, 6, 6, 3, 4, 4, 3, 2, 4, 4, 2, 3], [5, 5, 3, 5, 7, 3, 5, 7, 7, 5, 3, 7, 7, 3, 3, 7, 3, 3, 7, 3, 4, 4, 6, 6, 3, 6, 3, 6, 3, 4, 4, 6, 3, 4, 6, 3, 6, 6, 4, 4, 4, 2, 4, 4, 4], [3, 5, 3, 5, 3, 3, 7, 7, 3, 3, 5, 7, 5, 3, 7, 7, 3, 3, 3, 7, 3, 4, 6, 6, 4, 4, 6, 6, 3, 3, 3, 6, 3, 6, 3, 4, 3, 4, 6, 6, 4, 4, 4, 3, 2], [3, 7, 7, 5, 7, 3, 7, 5, 7, 7, 7, 5, 7, 5, 3, 7, 5, 5, 5, 5, 6, 3, 6, 6, 4, 6, 6, 4, 6, 6, 6, 3, 3, 3, 3, 3, 6, 6, 4, 4, 3, 4, 2, 2, 3], [7, 7, 3, 3, 5, 7, 3, 5, 5, 3, 3, 3, 5, 7, 3, 7, 7, 5, 7, 7, 6, 3, 4, 3, 3, 3, 4, 3, 3, 4, 6, 6, 6, 4, 4, 6, 6, 4, 3, 4, 2, 2, 3, 4, 3]], 'f_emb': [tensor([-0., -0., -0.,  ..., -0., -0., -0.]), tensor([-0., -0., -0.,  ..., -0., -0., -0.]), tensor([1226.8495,   -0.0000,   -0.0000,  ...,   -0.0000,   -0.0000,\n",
      "          -0.0000]), tensor([-0., -0., -0.,  ..., -0., -0., -0.]), tensor([188.3607,  -0.0000,  -0.0000,  ...,  -0.0000,  -0.0000, 213.2732]), tensor([-0., -0., -0.,  ..., -0., -0., -0.]), tensor([-0., -0., -0.,  ..., -0., -0., -0.]), tensor([-0.0000, -0.0000, -0.0000,  ..., -0.0000, -0.0000, 9.9611]), tensor([38.6843, -0.0000, -0.0000,  ..., -0.0000, -0.0000, -0.0000]), tensor([ 0.5262, -0.3664,  0.4536,  ..., -0.3597, -0.2121, -0.3281]), tensor([-0., -0., -0.,  ..., -0., -0., -0.]), tensor([-0.0000, -0.0000, -0.0000,  ..., 30.1783, -0.0000,  3.6916])], 'acc': [99.51923076923077, 99.03846153846153, 99.51923076923077, 99.51923076923077, 99.51923076923077, 99.51923076923077, 98.38709677419355, 96.7741935483871, 98.38709677419355, 98.38709677419355, 8.064516129032258, 96.7741935483871], 'n_params': [6228442, 5625114, 6570290, 5347354, 5825218, 4821626, 4711646, 4554646, 6688342, 4317614, 5203934, 5550702]}\n",
      "\n",
      "=====> GENERATING QUERIES <=====\n",
      "\n",
      "query_shape_train: 32, each tensor:torch.Size([512])\n"
     ]
    },
    {
     "name": "stderr",
     "output_type": "stream",
     "text": [
      "Using cache found in /root/.cache/torch/hub/mit-han-lab_once-for-all_master\n"
     ]
    },
    {
     "name": "stdout",
     "output_type": "stream",
     "text": [
      "query_shape_test: 32, each tensor:torch.Size([512])\n",
      "x_query:32, x_query-test :32\n",
      "\n",
      "=====>SAVING corales_0_14 in m_train.pt <=====\n",
      "\n",
      "quesry_dataset 6000-store-items-images-classified-by-color_imoore_0_12\n",
      "\n",
      "Dataset : 6000-store-items-images-classified-by-color_imoore_0_12, nclss:12\n",
      "\n",
      "\n",
      "=====> Generating 1th network  <=====\n",
      "\n",
      "\n",
      "=====>Generating sub_net<=====\n",
      "\n",
      "\n",
      "=====> Training started <=====\n",
      "\n",
      "Starting Training for:6000-store-items-images-classified-by-color_imoore_0_12 with model topology:[7, 3, 3, 3, 3, 3, 5, 7, 5, 3, 5, 5, 3, 7, 7, 7, 5, 3, 7, 5, 3, 6, 3, 6, 6, 3, 4, 3, 6, 6, 3, 4, 3, 4, 4, 3, 4, 6, 6, 4, 3, 3, 2, 3, 3]\n"
     ]
    },
    {
     "name": "stderr",
     "output_type": "stream",
     "text": [
      "156it [00:21,  7.34it/s]\n",
      "20it [00:01, 12.69it/s]\n"
     ]
    },
    {
     "name": "stdout",
     "output_type": "stream",
     "text": [
      "\n",
      "Epoch: 1/15, Train Loss: 37.52651199 , Val Loss: 26.22544522, Train Accuracy:65.28892456,  Val Accuracy: 75.32051282, Epoch Time: 23.04642272\n"
     ]
    },
    {
     "name": "stderr",
     "output_type": "stream",
     "text": [
      "156it [00:21,  7.41it/s]\n",
      "20it [00:01, 19.57it/s]\n"
     ]
    },
    {
     "name": "stdout",
     "output_type": "stream",
     "text": [
      "\n",
      "Epoch: 2/15, Train Loss: 19.64262895 , Val Loss: 22.55125935, Train Accuracy:79.89566613,  Val Accuracy: 78.36538462, Epoch Time: 22.33016396\n"
     ]
    },
    {
     "name": "stderr",
     "output_type": "stream",
     "text": [
      "156it [00:21,  7.41it/s]\n",
      "20it [00:01, 19.85it/s]\n"
     ]
    },
    {
     "name": "stdout",
     "output_type": "stream",
     "text": [
      "\n",
      "Epoch: 3/15, Train Loss: 14.98894933 , Val Loss: 25.26388412, Train Accuracy:83.90850722,  Val Accuracy: 76.60256410, Epoch Time: 22.28368664\n"
     ]
    },
    {
     "name": "stderr",
     "output_type": "stream",
     "text": [
      "156it [00:21,  7.42it/s]\n",
      "20it [00:01, 19.42it/s]\n"
     ]
    },
    {
     "name": "stdout",
     "output_type": "stream",
     "text": [
      "\n",
      "Epoch: 4/15, Train Loss: 12.36230480 , Val Loss: 22.17825005, Train Accuracy:86.35634029,  Val Accuracy: 78.52564103, Epoch Time: 22.28901649\n"
     ]
    },
    {
     "name": "stderr",
     "output_type": "stream",
     "text": [
      "156it [00:21,  7.40it/s]\n",
      "20it [00:01, 19.60it/s]\n"
     ]
    },
    {
     "name": "stdout",
     "output_type": "stream",
     "text": [
      "\n",
      "Epoch: 5/15, Train Loss: 9.64408838 , Val Loss: 27.93571525, Train Accuracy:90.08828250,  Val Accuracy: 73.23717949, Epoch Time: 22.31502438\n"
     ]
    },
    {
     "name": "stderr",
     "output_type": "stream",
     "text": [
      "156it [00:21,  7.41it/s]\n",
      "20it [00:01, 19.87it/s]\n"
     ]
    },
    {
     "name": "stdout",
     "output_type": "stream",
     "text": [
      "\n",
      "Epoch: 6/15, Train Loss: 6.64959591 , Val Loss: 24.66947417, Train Accuracy:93.23836276,  Val Accuracy: 77.72435897, Epoch Time: 22.31637621\n"
     ]
    },
    {
     "name": "stderr",
     "output_type": "stream",
     "text": [
      "156it [00:21,  7.39it/s]\n",
      "20it [00:01, 18.30it/s]\n"
     ]
    },
    {
     "name": "stdout",
     "output_type": "stream",
     "text": [
      "\n",
      "Epoch: 7/15, Train Loss: 5.07825305 , Val Loss: 26.09102564, Train Accuracy:94.96388443,  Val Accuracy: 75.80128205, Epoch Time: 22.46782851\n"
     ]
    },
    {
     "name": "stderr",
     "output_type": "stream",
     "text": [
      "156it [00:21,  7.42it/s]\n",
      "20it [00:01, 19.19it/s]\n"
     ]
    },
    {
     "name": "stdout",
     "output_type": "stream",
     "text": [
      "\n",
      "Epoch: 8/15, Train Loss: 3.82523099 , Val Loss: 27.36844034, Train Accuracy:96.24799358,  Val Accuracy: 78.52564103, Epoch Time: 22.26204824\n"
     ]
    },
    {
     "name": "stderr",
     "output_type": "stream",
     "text": [
      "156it [00:21,  7.40it/s]\n",
      "20it [00:01, 19.25it/s]\n",
      "Using cache found in /root/.cache/torch/hub/mit-han-lab_once-for-all_master\n"
     ]
    },
    {
     "name": "stdout",
     "output_type": "stream",
     "text": [
      "\n",
      "Epoch: 9/15, Train Loss: 3.13526744 , Val Loss: 26.92836143, Train Accuracy:96.93017657,  Val Accuracy: 77.08333333, Epoch Time: 22.35833549\n",
      "Early stopping on, 8th, epoch\n",
      "\n",
      "=====>Generating f_emb<=====\n",
      "\n",
      "torch.Size([1536])\n",
      "{'dataset': ['sldc_0_10', 'sldc_0_10', 'sldc_0_10', 'sldc_0_10', 'sldc_0_10', 'sldc_0_10', 'corales_0_14', 'corales_0_14', 'corales_0_14', 'corales_0_14', 'corales_0_14', 'corales_0_14', '6000-store-items-images-classified-by-color_imoore_0_12'], 'topol': [[3, 5, 5, 5, 7, 5, 5, 7, 3, 5, 7, 7, 7, 5, 7, 5, 3, 3, 7, 3, 4, 3, 6, 3, 6, 6, 4, 4, 6, 4, 3, 6, 6, 3, 4, 6, 3, 4, 6, 3, 3, 4, 2, 4, 4], [3, 7, 7, 7, 5, 7, 5, 3, 7, 5, 3, 3, 5, 5, 3, 7, 7, 5, 3, 5, 3, 4, 6, 3, 6, 4, 6, 4, 4, 3, 3, 3, 3, 6, 6, 3, 3, 4, 6, 4, 4, 3, 2, 2, 4], [3, 7, 5, 5, 3, 7, 7, 5, 5, 5, 5, 5, 5, 7, 7, 7, 7, 7, 5, 7, 6, 6, 6, 3, 6, 3, 4, 4, 6, 6, 6, 4, 3, 6, 4, 6, 6, 4, 6, 4, 2, 3, 3, 3, 4], [7, 5, 3, 3, 5, 3, 5, 5, 5, 5, 3, 7, 7, 5, 7, 3, 3, 5, 3, 5, 3, 4, 6, 6, 6, 3, 6, 3, 6, 3, 6, 4, 4, 6, 6, 4, 6, 6, 6, 4, 2, 2, 2, 3, 2], [3, 5, 5, 7, 5, 5, 7, 3, 7, 5, 5, 5, 3, 5, 3, 7, 5, 7, 7, 3, 3, 6, 3, 3, 6, 3, 6, 6, 4, 4, 3, 4, 4, 3, 6, 6, 4, 3, 4, 3, 4, 3, 4, 4, 4], [3, 3, 5, 5, 7, 5, 5, 5, 5, 5, 3, 3, 3, 3, 3, 7, 7, 3, 5, 5, 6, 4, 3, 4, 4, 4, 3, 6, 4, 3, 6, 4, 4, 4, 6, 6, 4, 4, 3, 6, 4, 2, 4, 3, 3], [7, 7, 5, 5, 5, 5, 3, 3, 3, 5, 7, 5, 5, 3, 3, 5, 5, 5, 7, 5, 3, 4, 3, 6, 6, 4, 3, 4, 6, 6, 4, 4, 6, 4, 4, 3, 6, 4, 3, 6, 2, 4, 4, 3, 2], [3, 3, 3, 7, 7, 5, 5, 7, 7, 5, 7, 7, 7, 7, 3, 5, 7, 7, 7, 3, 6, 4, 6, 3, 3, 4, 6, 6, 3, 3, 4, 4, 4, 4, 6, 6, 3, 4, 4, 3, 2, 4, 4, 2, 3], [5, 5, 3, 5, 7, 3, 5, 7, 7, 5, 3, 7, 7, 3, 3, 7, 3, 3, 7, 3, 4, 4, 6, 6, 3, 6, 3, 6, 3, 4, 4, 6, 3, 4, 6, 3, 6, 6, 4, 4, 4, 2, 4, 4, 4], [3, 5, 3, 5, 3, 3, 7, 7, 3, 3, 5, 7, 5, 3, 7, 7, 3, 3, 3, 7, 3, 4, 6, 6, 4, 4, 6, 6, 3, 3, 3, 6, 3, 6, 3, 4, 3, 4, 6, 6, 4, 4, 4, 3, 2], [3, 7, 7, 5, 7, 3, 7, 5, 7, 7, 7, 5, 7, 5, 3, 7, 5, 5, 5, 5, 6, 3, 6, 6, 4, 6, 6, 4, 6, 6, 6, 3, 3, 3, 3, 3, 6, 6, 4, 4, 3, 4, 2, 2, 3], [7, 7, 3, 3, 5, 7, 3, 5, 5, 3, 3, 3, 5, 7, 3, 7, 7, 5, 7, 7, 6, 3, 4, 3, 3, 3, 4, 3, 3, 4, 6, 6, 6, 4, 4, 6, 6, 4, 3, 4, 2, 2, 3, 4, 3], [7, 3, 3, 3, 3, 3, 5, 7, 5, 3, 5, 5, 3, 7, 7, 7, 5, 3, 7, 5, 3, 6, 3, 6, 6, 3, 4, 3, 6, 6, 3, 4, 3, 4, 4, 3, 4, 6, 6, 4, 3, 3, 2, 3, 3]], 'f_emb': [tensor([-0., -0., -0.,  ..., -0., -0., -0.]), tensor([-0., -0., -0.,  ..., -0., -0., -0.]), tensor([1226.8495,   -0.0000,   -0.0000,  ...,   -0.0000,   -0.0000,\n",
      "          -0.0000]), tensor([-0., -0., -0.,  ..., -0., -0., -0.]), tensor([188.3607,  -0.0000,  -0.0000,  ...,  -0.0000,  -0.0000, 213.2732]), tensor([-0., -0., -0.,  ..., -0., -0., -0.]), tensor([-0., -0., -0.,  ..., -0., -0., -0.]), tensor([-0.0000, -0.0000, -0.0000,  ..., -0.0000, -0.0000, 9.9611]), tensor([38.6843, -0.0000, -0.0000,  ..., -0.0000, -0.0000, -0.0000]), tensor([ 0.5262, -0.3664,  0.4536,  ..., -0.3597, -0.2121, -0.3281]), tensor([-0., -0., -0.,  ..., -0., -0., -0.]), tensor([-0.0000, -0.0000, -0.0000,  ..., 30.1783, -0.0000,  3.6916]), tensor([-0., -0., -0.,  ..., -0., -0., -0.])], 'acc': [99.51923076923077, 99.03846153846153, 99.51923076923077, 99.51923076923077, 99.51923076923077, 99.51923076923077, 98.38709677419355, 96.7741935483871, 98.38709677419355, 98.38709677419355, 8.064516129032258, 96.7741935483871, 77.08333333333333], 'n_params': [6228442, 5625114, 6570290, 5347354, 5825218, 4821626, 4711646, 4554646, 6688342, 4317614, 5203934, 5550702, 5717244]}\n",
      "\n",
      "=====> Generating 2th network  <=====\n",
      "\n",
      "\n",
      "=====>Generating sub_net<=====\n",
      "\n",
      "\n",
      "=====> Training started <=====\n",
      "\n",
      "Starting Training for:6000-store-items-images-classified-by-color_imoore_0_12 with model topology:[3, 3, 7, 5, 7, 3, 5, 7, 3, 5, 3, 5, 5, 5, 5, 3, 5, 5, 3, 3, 3, 6, 6, 6, 6, 6, 4, 3, 4, 4, 6, 4, 3, 6, 3, 6, 3, 6, 4, 6, 2, 2, 2, 3, 3]\n"
     ]
    },
    {
     "name": "stderr",
     "output_type": "stream",
     "text": [
      "156it [00:17,  8.93it/s]\n",
      "20it [00:00, 21.35it/s]\n"
     ]
    },
    {
     "name": "stdout",
     "output_type": "stream",
     "text": [
      "\n",
      "Epoch: 1/15, Train Loss: 37.62210217 , Val Loss: 27.86243951, Train Accuracy:64.44622793,  Val Accuracy: 73.87820513, Epoch Time: 18.65384030\n"
     ]
    },
    {
     "name": "stderr",
     "output_type": "stream",
     "text": [
      "156it [00:17,  8.98it/s]\n",
      "20it [00:00, 21.02it/s]\n"
     ]
    },
    {
     "name": "stdout",
     "output_type": "stream",
     "text": [
      "\n",
      "Epoch: 2/15, Train Loss: 21.13265472 , Val Loss: 22.94263148, Train Accuracy:78.47110754,  Val Accuracy: 77.72435897, Epoch Time: 18.55445170\n"
     ]
    },
    {
     "name": "stderr",
     "output_type": "stream",
     "text": [
      "156it [00:17,  8.94it/s]\n",
      "20it [00:00, 21.73it/s]\n"
     ]
    },
    {
     "name": "stdout",
     "output_type": "stream",
     "text": [
      "\n",
      "Epoch: 3/15, Train Loss: 17.47057674 , Val Loss: 22.63578377, Train Accuracy:81.42054575,  Val Accuracy: 78.20512821, Epoch Time: 18.61238790\n"
     ]
    },
    {
     "name": "stderr",
     "output_type": "stream",
     "text": [
      "156it [00:17,  8.97it/s]\n",
      "20it [00:00, 20.64it/s]\n"
     ]
    },
    {
     "name": "stdout",
     "output_type": "stream",
     "text": [
      "\n",
      "Epoch: 4/15, Train Loss: 13.54680203 , Val Loss: 22.83223062, Train Accuracy:85.57383628,  Val Accuracy: 76.28205128, Epoch Time: 18.58377433\n"
     ]
    },
    {
     "name": "stderr",
     "output_type": "stream",
     "text": [
      "156it [00:17,  8.93it/s]\n",
      "20it [00:00, 21.22it/s]\n"
     ]
    },
    {
     "name": "stdout",
     "output_type": "stream",
     "text": [
      "\n",
      "Epoch: 5/15, Train Loss: 10.44230070 , Val Loss: 23.47645797, Train Accuracy:89.02487961,  Val Accuracy: 76.76282051, Epoch Time: 18.63694072\n"
     ]
    },
    {
     "name": "stderr",
     "output_type": "stream",
     "text": [
      "156it [00:17,  8.95it/s]\n",
      "20it [00:01, 19.15it/s]\n"
     ]
    },
    {
     "name": "stdout",
     "output_type": "stream",
     "text": [
      "\n",
      "Epoch: 6/15, Train Loss: 7.53598695 , Val Loss: 25.11670667, Train Accuracy:92.27528090,  Val Accuracy: 76.76282051, Epoch Time: 18.72709990\n"
     ]
    },
    {
     "name": "stderr",
     "output_type": "stream",
     "text": [
      "156it [00:17,  8.97it/s]\n",
      "20it [00:00, 21.31it/s]\n"
     ]
    },
    {
     "name": "stdout",
     "output_type": "stream",
     "text": [
      "\n",
      "Epoch: 7/15, Train Loss: 5.92389415 , Val Loss: 23.37432784, Train Accuracy:93.78009631,  Val Accuracy: 79.48717949, Epoch Time: 18.58956718\n"
     ]
    },
    {
     "name": "stderr",
     "output_type": "stream",
     "text": [
      "156it [00:17,  8.95it/s]\n",
      "20it [00:00, 21.54it/s]\n",
      "Using cache found in /root/.cache/torch/hub/mit-han-lab_once-for-all_master\n"
     ]
    },
    {
     "name": "stdout",
     "output_type": "stream",
     "text": [
      "\n",
      "Epoch: 8/15, Train Loss: 5.82358566 , Val Loss: 26.25253017, Train Accuracy:94.22150883,  Val Accuracy: 76.44230769, Epoch Time: 18.56555271\n",
      "Early stopping on, 7th, epoch\n",
      "\n",
      "=====>Generating f_emb<=====\n",
      "\n",
      "torch.Size([1536])\n",
      "{'dataset': ['sldc_0_10', 'sldc_0_10', 'sldc_0_10', 'sldc_0_10', 'sldc_0_10', 'sldc_0_10', 'corales_0_14', 'corales_0_14', 'corales_0_14', 'corales_0_14', 'corales_0_14', 'corales_0_14', '6000-store-items-images-classified-by-color_imoore_0_12', '6000-store-items-images-classified-by-color_imoore_0_12'], 'topol': [[3, 5, 5, 5, 7, 5, 5, 7, 3, 5, 7, 7, 7, 5, 7, 5, 3, 3, 7, 3, 4, 3, 6, 3, 6, 6, 4, 4, 6, 4, 3, 6, 6, 3, 4, 6, 3, 4, 6, 3, 3, 4, 2, 4, 4], [3, 7, 7, 7, 5, 7, 5, 3, 7, 5, 3, 3, 5, 5, 3, 7, 7, 5, 3, 5, 3, 4, 6, 3, 6, 4, 6, 4, 4, 3, 3, 3, 3, 6, 6, 3, 3, 4, 6, 4, 4, 3, 2, 2, 4], [3, 7, 5, 5, 3, 7, 7, 5, 5, 5, 5, 5, 5, 7, 7, 7, 7, 7, 5, 7, 6, 6, 6, 3, 6, 3, 4, 4, 6, 6, 6, 4, 3, 6, 4, 6, 6, 4, 6, 4, 2, 3, 3, 3, 4], [7, 5, 3, 3, 5, 3, 5, 5, 5, 5, 3, 7, 7, 5, 7, 3, 3, 5, 3, 5, 3, 4, 6, 6, 6, 3, 6, 3, 6, 3, 6, 4, 4, 6, 6, 4, 6, 6, 6, 4, 2, 2, 2, 3, 2], [3, 5, 5, 7, 5, 5, 7, 3, 7, 5, 5, 5, 3, 5, 3, 7, 5, 7, 7, 3, 3, 6, 3, 3, 6, 3, 6, 6, 4, 4, 3, 4, 4, 3, 6, 6, 4, 3, 4, 3, 4, 3, 4, 4, 4], [3, 3, 5, 5, 7, 5, 5, 5, 5, 5, 3, 3, 3, 3, 3, 7, 7, 3, 5, 5, 6, 4, 3, 4, 4, 4, 3, 6, 4, 3, 6, 4, 4, 4, 6, 6, 4, 4, 3, 6, 4, 2, 4, 3, 3], [7, 7, 5, 5, 5, 5, 3, 3, 3, 5, 7, 5, 5, 3, 3, 5, 5, 5, 7, 5, 3, 4, 3, 6, 6, 4, 3, 4, 6, 6, 4, 4, 6, 4, 4, 3, 6, 4, 3, 6, 2, 4, 4, 3, 2], [3, 3, 3, 7, 7, 5, 5, 7, 7, 5, 7, 7, 7, 7, 3, 5, 7, 7, 7, 3, 6, 4, 6, 3, 3, 4, 6, 6, 3, 3, 4, 4, 4, 4, 6, 6, 3, 4, 4, 3, 2, 4, 4, 2, 3], [5, 5, 3, 5, 7, 3, 5, 7, 7, 5, 3, 7, 7, 3, 3, 7, 3, 3, 7, 3, 4, 4, 6, 6, 3, 6, 3, 6, 3, 4, 4, 6, 3, 4, 6, 3, 6, 6, 4, 4, 4, 2, 4, 4, 4], [3, 5, 3, 5, 3, 3, 7, 7, 3, 3, 5, 7, 5, 3, 7, 7, 3, 3, 3, 7, 3, 4, 6, 6, 4, 4, 6, 6, 3, 3, 3, 6, 3, 6, 3, 4, 3, 4, 6, 6, 4, 4, 4, 3, 2], [3, 7, 7, 5, 7, 3, 7, 5, 7, 7, 7, 5, 7, 5, 3, 7, 5, 5, 5, 5, 6, 3, 6, 6, 4, 6, 6, 4, 6, 6, 6, 3, 3, 3, 3, 3, 6, 6, 4, 4, 3, 4, 2, 2, 3], [7, 7, 3, 3, 5, 7, 3, 5, 5, 3, 3, 3, 5, 7, 3, 7, 7, 5, 7, 7, 6, 3, 4, 3, 3, 3, 4, 3, 3, 4, 6, 6, 6, 4, 4, 6, 6, 4, 3, 4, 2, 2, 3, 4, 3], [7, 3, 3, 3, 3, 3, 5, 7, 5, 3, 5, 5, 3, 7, 7, 7, 5, 3, 7, 5, 3, 6, 3, 6, 6, 3, 4, 3, 6, 6, 3, 4, 3, 4, 4, 3, 4, 6, 6, 4, 3, 3, 2, 3, 3], [3, 3, 7, 5, 7, 3, 5, 7, 3, 5, 3, 5, 5, 5, 5, 3, 5, 5, 3, 3, 3, 6, 6, 6, 6, 6, 4, 3, 4, 4, 6, 4, 3, 6, 3, 6, 3, 6, 4, 6, 2, 2, 2, 3, 3]], 'f_emb': [tensor([-0., -0., -0.,  ..., -0., -0., -0.]), tensor([-0., -0., -0.,  ..., -0., -0., -0.]), tensor([1226.8495,   -0.0000,   -0.0000,  ...,   -0.0000,   -0.0000,\n",
      "          -0.0000]), tensor([-0., -0., -0.,  ..., -0., -0., -0.]), tensor([188.3607,  -0.0000,  -0.0000,  ...,  -0.0000,  -0.0000, 213.2732]), tensor([-0., -0., -0.,  ..., -0., -0., -0.]), tensor([-0., -0., -0.,  ..., -0., -0., -0.]), tensor([-0.0000, -0.0000, -0.0000,  ..., -0.0000, -0.0000, 9.9611]), tensor([38.6843, -0.0000, -0.0000,  ..., -0.0000, -0.0000, -0.0000]), tensor([ 0.5262, -0.3664,  0.4536,  ..., -0.3597, -0.2121, -0.3281]), tensor([-0., -0., -0.,  ..., -0., -0., -0.]), tensor([-0.0000, -0.0000, -0.0000,  ..., 30.1783, -0.0000,  3.6916]), tensor([-0., -0., -0.,  ..., -0., -0., -0.]), tensor([-0., -0., -0.,  ..., -0., -0., -0.])], 'acc': [99.51923076923077, 99.03846153846153, 99.51923076923077, 99.51923076923077, 99.51923076923077, 99.51923076923077, 98.38709677419355, 96.7741935483871, 98.38709677419355, 98.38709677419355, 8.064516129032258, 96.7741935483871, 77.08333333333333, 76.4423076923077], 'n_params': [6228442, 5625114, 6570290, 5347354, 5825218, 4821626, 4711646, 4554646, 6688342, 4317614, 5203934, 5550702, 5717244, 5151700]}\n",
      "\n",
      "=====> Generating 3th network  <=====\n",
      "\n",
      "\n",
      "=====>Generating sub_net<=====\n",
      "\n",
      "\n",
      "=====> Training started <=====\n",
      "\n",
      "Starting Training for:6000-store-items-images-classified-by-color_imoore_0_12 with model topology:[5, 3, 5, 5, 5, 5, 7, 7, 3, 7, 7, 7, 3, 3, 7, 3, 7, 5, 5, 3, 3, 3, 6, 4, 6, 4, 4, 3, 6, 4, 6, 6, 3, 6, 4, 4, 3, 4, 3, 4, 3, 3, 4, 4, 4]\n"
     ]
    },
    {
     "name": "stderr",
     "output_type": "stream",
     "text": [
      "156it [00:25,  6.12it/s]\n",
      "20it [00:01, 16.67it/s]\n"
     ]
    },
    {
     "name": "stdout",
     "output_type": "stream",
     "text": [
      "\n",
      "Epoch: 1/15, Train Loss: 36.93666600 , Val Loss: 247.38266981, Train Accuracy:65.12841091,  Val Accuracy: 77.40384615, Epoch Time: 26.93513775\n"
     ]
    },
    {
     "name": "stderr",
     "output_type": "stream",
     "text": [
      "156it [00:25,  6.13it/s]\n",
      "20it [00:01, 16.56it/s]\n"
     ]
    },
    {
     "name": "stdout",
     "output_type": "stream",
     "text": [
      "\n",
      "Epoch: 2/15, Train Loss: 20.52248377 , Val Loss: 26.86423411, Train Accuracy:78.77207063,  Val Accuracy: 79.80769231, Epoch Time: 26.88084054\n"
     ]
    },
    {
     "name": "stderr",
     "output_type": "stream",
     "text": [
      "156it [00:25,  6.13it/s]\n",
      "20it [00:01, 16.76it/s]\n"
     ]
    },
    {
     "name": "stdout",
     "output_type": "stream",
     "text": [
      "\n",
      "Epoch: 3/15, Train Loss: 14.89170935 , Val Loss: 21.44740499, Train Accuracy:84.67094703,  Val Accuracy: 79.48717949, Epoch Time: 26.88404226\n"
     ]
    },
    {
     "name": "stderr",
     "output_type": "stream",
     "text": [
      "156it [00:25,  6.14it/s]\n",
      "20it [00:01, 16.31it/s]\n"
     ]
    },
    {
     "name": "stdout",
     "output_type": "stream",
     "text": [
      "\n",
      "Epoch: 4/15, Train Loss: 11.09473925 , Val Loss: 20.22205701, Train Accuracy:88.36276083,  Val Accuracy: 80.28846154, Epoch Time: 26.84912133\n"
     ]
    },
    {
     "name": "stderr",
     "output_type": "stream",
     "text": [
      "156it [00:25,  6.15it/s]\n",
      "20it [00:01, 16.63it/s]\n"
     ]
    },
    {
     "name": "stdout",
     "output_type": "stream",
     "text": [
      "\n",
      "Epoch: 5/15, Train Loss: 7.72821096 , Val Loss: 24.20119542, Train Accuracy:91.57303371,  Val Accuracy: 76.44230769, Epoch Time: 26.84392285\n"
     ]
    },
    {
     "name": "stderr",
     "output_type": "stream",
     "text": [
      "156it [00:25,  6.14it/s]\n",
      "20it [00:01, 16.92it/s]\n"
     ]
    },
    {
     "name": "stdout",
     "output_type": "stream",
     "text": [
      "\n",
      "Epoch: 6/15, Train Loss: 5.83809752 , Val Loss: 24.42912610, Train Accuracy:93.92054575,  Val Accuracy: 78.36538462, Epoch Time: 26.83000016\n"
     ]
    },
    {
     "name": "stderr",
     "output_type": "stream",
     "text": [
      "156it [00:25,  6.13it/s]\n",
      "20it [00:01, 16.11it/s]\n"
     ]
    },
    {
     "name": "stdout",
     "output_type": "stream",
     "text": [
      "\n",
      "Epoch: 7/15, Train Loss: 3.68875571 , Val Loss: 24.06223570, Train Accuracy:96.44863563,  Val Accuracy: 78.20512821, Epoch Time: 26.91708541\n"
     ]
    },
    {
     "name": "stderr",
     "output_type": "stream",
     "text": [
      "156it [00:25,  6.12it/s]\n",
      "20it [00:01, 16.33it/s]\n"
     ]
    },
    {
     "name": "stdout",
     "output_type": "stream",
     "text": [
      "\n",
      "Epoch: 8/15, Train Loss: 2.68598420 , Val Loss: 27.17288201, Train Accuracy:97.59229535,  Val Accuracy: 78.52564103, Epoch Time: 26.95192719\n"
     ]
    },
    {
     "name": "stderr",
     "output_type": "stream",
     "text": [
      "156it [00:25,  6.13it/s]\n",
      "20it [00:01, 16.63it/s]\n",
      "Using cache found in /root/.cache/torch/hub/mit-han-lab_once-for-all_master\n"
     ]
    },
    {
     "name": "stdout",
     "output_type": "stream",
     "text": [
      "\n",
      "Epoch: 9/15, Train Loss: 2.11581375 , Val Loss: 52.18687439, Train Accuracy:98.05377207,  Val Accuracy: 78.68589744, Epoch Time: 26.87751126\n",
      "Early stopping on, 8th, epoch\n",
      "\n",
      "=====>Generating f_emb<=====\n",
      "\n",
      "torch.Size([1536])\n",
      "{'dataset': ['sldc_0_10', 'sldc_0_10', 'sldc_0_10', 'sldc_0_10', 'sldc_0_10', 'sldc_0_10', 'corales_0_14', 'corales_0_14', 'corales_0_14', 'corales_0_14', 'corales_0_14', 'corales_0_14', '6000-store-items-images-classified-by-color_imoore_0_12', '6000-store-items-images-classified-by-color_imoore_0_12', '6000-store-items-images-classified-by-color_imoore_0_12'], 'topol': [[3, 5, 5, 5, 7, 5, 5, 7, 3, 5, 7, 7, 7, 5, 7, 5, 3, 3, 7, 3, 4, 3, 6, 3, 6, 6, 4, 4, 6, 4, 3, 6, 6, 3, 4, 6, 3, 4, 6, 3, 3, 4, 2, 4, 4], [3, 7, 7, 7, 5, 7, 5, 3, 7, 5, 3, 3, 5, 5, 3, 7, 7, 5, 3, 5, 3, 4, 6, 3, 6, 4, 6, 4, 4, 3, 3, 3, 3, 6, 6, 3, 3, 4, 6, 4, 4, 3, 2, 2, 4], [3, 7, 5, 5, 3, 7, 7, 5, 5, 5, 5, 5, 5, 7, 7, 7, 7, 7, 5, 7, 6, 6, 6, 3, 6, 3, 4, 4, 6, 6, 6, 4, 3, 6, 4, 6, 6, 4, 6, 4, 2, 3, 3, 3, 4], [7, 5, 3, 3, 5, 3, 5, 5, 5, 5, 3, 7, 7, 5, 7, 3, 3, 5, 3, 5, 3, 4, 6, 6, 6, 3, 6, 3, 6, 3, 6, 4, 4, 6, 6, 4, 6, 6, 6, 4, 2, 2, 2, 3, 2], [3, 5, 5, 7, 5, 5, 7, 3, 7, 5, 5, 5, 3, 5, 3, 7, 5, 7, 7, 3, 3, 6, 3, 3, 6, 3, 6, 6, 4, 4, 3, 4, 4, 3, 6, 6, 4, 3, 4, 3, 4, 3, 4, 4, 4], [3, 3, 5, 5, 7, 5, 5, 5, 5, 5, 3, 3, 3, 3, 3, 7, 7, 3, 5, 5, 6, 4, 3, 4, 4, 4, 3, 6, 4, 3, 6, 4, 4, 4, 6, 6, 4, 4, 3, 6, 4, 2, 4, 3, 3], [7, 7, 5, 5, 5, 5, 3, 3, 3, 5, 7, 5, 5, 3, 3, 5, 5, 5, 7, 5, 3, 4, 3, 6, 6, 4, 3, 4, 6, 6, 4, 4, 6, 4, 4, 3, 6, 4, 3, 6, 2, 4, 4, 3, 2], [3, 3, 3, 7, 7, 5, 5, 7, 7, 5, 7, 7, 7, 7, 3, 5, 7, 7, 7, 3, 6, 4, 6, 3, 3, 4, 6, 6, 3, 3, 4, 4, 4, 4, 6, 6, 3, 4, 4, 3, 2, 4, 4, 2, 3], [5, 5, 3, 5, 7, 3, 5, 7, 7, 5, 3, 7, 7, 3, 3, 7, 3, 3, 7, 3, 4, 4, 6, 6, 3, 6, 3, 6, 3, 4, 4, 6, 3, 4, 6, 3, 6, 6, 4, 4, 4, 2, 4, 4, 4], [3, 5, 3, 5, 3, 3, 7, 7, 3, 3, 5, 7, 5, 3, 7, 7, 3, 3, 3, 7, 3, 4, 6, 6, 4, 4, 6, 6, 3, 3, 3, 6, 3, 6, 3, 4, 3, 4, 6, 6, 4, 4, 4, 3, 2], [3, 7, 7, 5, 7, 3, 7, 5, 7, 7, 7, 5, 7, 5, 3, 7, 5, 5, 5, 5, 6, 3, 6, 6, 4, 6, 6, 4, 6, 6, 6, 3, 3, 3, 3, 3, 6, 6, 4, 4, 3, 4, 2, 2, 3], [7, 7, 3, 3, 5, 7, 3, 5, 5, 3, 3, 3, 5, 7, 3, 7, 7, 5, 7, 7, 6, 3, 4, 3, 3, 3, 4, 3, 3, 4, 6, 6, 6, 4, 4, 6, 6, 4, 3, 4, 2, 2, 3, 4, 3], [7, 3, 3, 3, 3, 3, 5, 7, 5, 3, 5, 5, 3, 7, 7, 7, 5, 3, 7, 5, 3, 6, 3, 6, 6, 3, 4, 3, 6, 6, 3, 4, 3, 4, 4, 3, 4, 6, 6, 4, 3, 3, 2, 3, 3], [3, 3, 7, 5, 7, 3, 5, 7, 3, 5, 3, 5, 5, 5, 5, 3, 5, 5, 3, 3, 3, 6, 6, 6, 6, 6, 4, 3, 4, 4, 6, 4, 3, 6, 3, 6, 3, 6, 4, 6, 2, 2, 2, 3, 3], [5, 3, 5, 5, 5, 5, 7, 7, 3, 7, 7, 7, 3, 3, 7, 3, 7, 5, 5, 3, 3, 3, 6, 4, 6, 4, 4, 3, 6, 4, 6, 6, 3, 6, 4, 4, 3, 4, 3, 4, 3, 3, 4, 4, 4]], 'f_emb': [tensor([-0., -0., -0.,  ..., -0., -0., -0.]), tensor([-0., -0., -0.,  ..., -0., -0., -0.]), tensor([1226.8495,   -0.0000,   -0.0000,  ...,   -0.0000,   -0.0000,\n",
      "          -0.0000]), tensor([-0., -0., -0.,  ..., -0., -0., -0.]), tensor([188.3607,  -0.0000,  -0.0000,  ...,  -0.0000,  -0.0000, 213.2732]), tensor([-0., -0., -0.,  ..., -0., -0., -0.]), tensor([-0., -0., -0.,  ..., -0., -0., -0.]), tensor([-0.0000, -0.0000, -0.0000,  ..., -0.0000, -0.0000, 9.9611]), tensor([38.6843, -0.0000, -0.0000,  ..., -0.0000, -0.0000, -0.0000]), tensor([ 0.5262, -0.3664,  0.4536,  ..., -0.3597, -0.2121, -0.3281]), tensor([-0., -0., -0.,  ..., -0., -0., -0.]), tensor([-0.0000, -0.0000, -0.0000,  ..., 30.1783, -0.0000,  3.6916]), tensor([-0., -0., -0.,  ..., -0., -0., -0.]), tensor([-0., -0., -0.,  ..., -0., -0., -0.]), tensor([18.3999, -0.0000, -0.0000,  ..., -0.0000, -0.0000, 45.3672])], 'acc': [99.51923076923077, 99.03846153846153, 99.51923076923077, 99.51923076923077, 99.51923076923077, 99.51923076923077, 98.38709677419355, 96.7741935483871, 98.38709677419355, 98.38709677419355, 8.064516129032258, 96.7741935483871, 77.08333333333333, 76.4423076923077, 78.68589743589743], 'n_params': [6228442, 5625114, 6570290, 5347354, 5825218, 4821626, 4711646, 4554646, 6688342, 4317614, 5203934, 5550702, 5717244, 5151700, 5773028]}\n",
      "\n",
      "=====> Generating 4th network  <=====\n",
      "\n",
      "\n",
      "=====>Generating sub_net<=====\n",
      "\n",
      "\n",
      "=====> Training started <=====\n",
      "\n",
      "Starting Training for:6000-store-items-images-classified-by-color_imoore_0_12 with model topology:[5, 5, 7, 5, 5, 5, 5, 7, 3, 3, 7, 3, 7, 5, 3, 3, 5, 7, 3, 3, 4, 4, 4, 4, 3, 4, 6, 3, 4, 6, 6, 3, 6, 3, 4, 6, 6, 4, 4, 6, 2, 4, 2, 3, 3]\n"
     ]
    },
    {
     "name": "stderr",
     "output_type": "stream",
     "text": [
      "156it [00:20,  7.55it/s]\n",
      "20it [00:01, 19.07it/s]\n"
     ]
    },
    {
     "name": "stdout",
     "output_type": "stream",
     "text": [
      "\n",
      "Epoch: 1/15, Train Loss: 37.74254525 , Val Loss: 25.99586983, Train Accuracy:64.22552167,  Val Accuracy: 75.32051282, Epoch Time: 21.93502426\n"
     ]
    },
    {
     "name": "stderr",
     "output_type": "stream",
     "text": [
      "156it [00:20,  7.54it/s]\n",
      "20it [00:01, 19.45it/s]\n"
     ]
    },
    {
     "name": "stdout",
     "output_type": "stream",
     "text": [
      "\n",
      "Epoch: 2/15, Train Loss: 20.41128794 , Val Loss: 23.70013897, Train Accuracy:78.77207063,  Val Accuracy: 76.76282051, Epoch Time: 21.96288371\n"
     ]
    },
    {
     "name": "stderr",
     "output_type": "stream",
     "text": [
      "156it [00:20,  7.55it/s]\n",
      "20it [00:01, 19.13it/s]\n"
     ]
    },
    {
     "name": "stdout",
     "output_type": "stream",
     "text": [
      "\n",
      "Epoch: 3/15, Train Loss: 16.46155654 , Val Loss: 22.26091089, Train Accuracy:82.84510433,  Val Accuracy: 77.72435897, Epoch Time: 21.93809700\n"
     ]
    },
    {
     "name": "stderr",
     "output_type": "stream",
     "text": [
      "156it [00:20,  7.54it/s]\n",
      "20it [00:01, 19.05it/s]\n"
     ]
    },
    {
     "name": "stdout",
     "output_type": "stream",
     "text": [
      "\n",
      "Epoch: 4/15, Train Loss: 12.92400347 , Val Loss: 21.84182849, Train Accuracy:85.83467095,  Val Accuracy: 78.20512821, Epoch Time: 21.96901155\n"
     ]
    },
    {
     "name": "stderr",
     "output_type": "stream",
     "text": [
      "156it [00:20,  7.54it/s]\n",
      "20it [00:01, 18.83it/s]\n"
     ]
    },
    {
     "name": "stdout",
     "output_type": "stream",
     "text": [
      "\n",
      "Epoch: 5/15, Train Loss: 9.35780095 , Val Loss: 23.58192244, Train Accuracy:89.84751204,  Val Accuracy: 77.08333333, Epoch Time: 21.96480036\n"
     ]
    },
    {
     "name": "stderr",
     "output_type": "stream",
     "text": [
      "156it [00:20,  7.55it/s]\n",
      "20it [00:01, 19.19it/s]\n"
     ]
    },
    {
     "name": "stdout",
     "output_type": "stream",
     "text": [
      "\n",
      "Epoch: 6/15, Train Loss: 7.27139800 , Val Loss: 23.08691021, Train Accuracy:92.19502408,  Val Accuracy: 75.64102564, Epoch Time: 21.95099902\n"
     ]
    },
    {
     "name": "stderr",
     "output_type": "stream",
     "text": [
      "156it [00:20,  7.54it/s]\n",
      "20it [00:01, 18.97it/s]\n"
     ]
    },
    {
     "name": "stdout",
     "output_type": "stream",
     "text": [
      "\n",
      "Epoch: 7/15, Train Loss: 5.88640900 , Val Loss: 26.44607910, Train Accuracy:93.84028892,  Val Accuracy: 76.44230769, Epoch Time: 21.97413158\n"
     ]
    },
    {
     "name": "stderr",
     "output_type": "stream",
     "text": [
      "156it [00:20,  7.53it/s]\n",
      "20it [00:01, 18.64it/s]\n"
     ]
    },
    {
     "name": "stdout",
     "output_type": "stream",
     "text": [
      "\n",
      "Epoch: 8/15, Train Loss: 4.91562811 , Val Loss: 23.89919764, Train Accuracy:94.76324238,  Val Accuracy: 78.68589744, Epoch Time: 22.01809573\n"
     ]
    },
    {
     "name": "stderr",
     "output_type": "stream",
     "text": [
      "156it [00:20,  7.54it/s]\n",
      "20it [00:01, 18.77it/s]\n",
      "Using cache found in /root/.cache/torch/hub/mit-han-lab_once-for-all_master\n"
     ]
    },
    {
     "name": "stdout",
     "output_type": "stream",
     "text": [
      "\n",
      "Epoch: 9/15, Train Loss: 3.52783222 , Val Loss: 25.37152545, Train Accuracy:96.76966292,  Val Accuracy: 77.40384615, Epoch Time: 21.96879601\n",
      "Early stopping on, 8th, epoch\n",
      "\n",
      "=====>Generating f_emb<=====\n",
      "\n",
      "torch.Size([1536])\n",
      "{'dataset': ['sldc_0_10', 'sldc_0_10', 'sldc_0_10', 'sldc_0_10', 'sldc_0_10', 'sldc_0_10', 'corales_0_14', 'corales_0_14', 'corales_0_14', 'corales_0_14', 'corales_0_14', 'corales_0_14', '6000-store-items-images-classified-by-color_imoore_0_12', '6000-store-items-images-classified-by-color_imoore_0_12', '6000-store-items-images-classified-by-color_imoore_0_12', '6000-store-items-images-classified-by-color_imoore_0_12'], 'topol': [[3, 5, 5, 5, 7, 5, 5, 7, 3, 5, 7, 7, 7, 5, 7, 5, 3, 3, 7, 3, 4, 3, 6, 3, 6, 6, 4, 4, 6, 4, 3, 6, 6, 3, 4, 6, 3, 4, 6, 3, 3, 4, 2, 4, 4], [3, 7, 7, 7, 5, 7, 5, 3, 7, 5, 3, 3, 5, 5, 3, 7, 7, 5, 3, 5, 3, 4, 6, 3, 6, 4, 6, 4, 4, 3, 3, 3, 3, 6, 6, 3, 3, 4, 6, 4, 4, 3, 2, 2, 4], [3, 7, 5, 5, 3, 7, 7, 5, 5, 5, 5, 5, 5, 7, 7, 7, 7, 7, 5, 7, 6, 6, 6, 3, 6, 3, 4, 4, 6, 6, 6, 4, 3, 6, 4, 6, 6, 4, 6, 4, 2, 3, 3, 3, 4], [7, 5, 3, 3, 5, 3, 5, 5, 5, 5, 3, 7, 7, 5, 7, 3, 3, 5, 3, 5, 3, 4, 6, 6, 6, 3, 6, 3, 6, 3, 6, 4, 4, 6, 6, 4, 6, 6, 6, 4, 2, 2, 2, 3, 2], [3, 5, 5, 7, 5, 5, 7, 3, 7, 5, 5, 5, 3, 5, 3, 7, 5, 7, 7, 3, 3, 6, 3, 3, 6, 3, 6, 6, 4, 4, 3, 4, 4, 3, 6, 6, 4, 3, 4, 3, 4, 3, 4, 4, 4], [3, 3, 5, 5, 7, 5, 5, 5, 5, 5, 3, 3, 3, 3, 3, 7, 7, 3, 5, 5, 6, 4, 3, 4, 4, 4, 3, 6, 4, 3, 6, 4, 4, 4, 6, 6, 4, 4, 3, 6, 4, 2, 4, 3, 3], [7, 7, 5, 5, 5, 5, 3, 3, 3, 5, 7, 5, 5, 3, 3, 5, 5, 5, 7, 5, 3, 4, 3, 6, 6, 4, 3, 4, 6, 6, 4, 4, 6, 4, 4, 3, 6, 4, 3, 6, 2, 4, 4, 3, 2], [3, 3, 3, 7, 7, 5, 5, 7, 7, 5, 7, 7, 7, 7, 3, 5, 7, 7, 7, 3, 6, 4, 6, 3, 3, 4, 6, 6, 3, 3, 4, 4, 4, 4, 6, 6, 3, 4, 4, 3, 2, 4, 4, 2, 3], [5, 5, 3, 5, 7, 3, 5, 7, 7, 5, 3, 7, 7, 3, 3, 7, 3, 3, 7, 3, 4, 4, 6, 6, 3, 6, 3, 6, 3, 4, 4, 6, 3, 4, 6, 3, 6, 6, 4, 4, 4, 2, 4, 4, 4], [3, 5, 3, 5, 3, 3, 7, 7, 3, 3, 5, 7, 5, 3, 7, 7, 3, 3, 3, 7, 3, 4, 6, 6, 4, 4, 6, 6, 3, 3, 3, 6, 3, 6, 3, 4, 3, 4, 6, 6, 4, 4, 4, 3, 2], [3, 7, 7, 5, 7, 3, 7, 5, 7, 7, 7, 5, 7, 5, 3, 7, 5, 5, 5, 5, 6, 3, 6, 6, 4, 6, 6, 4, 6, 6, 6, 3, 3, 3, 3, 3, 6, 6, 4, 4, 3, 4, 2, 2, 3], [7, 7, 3, 3, 5, 7, 3, 5, 5, 3, 3, 3, 5, 7, 3, 7, 7, 5, 7, 7, 6, 3, 4, 3, 3, 3, 4, 3, 3, 4, 6, 6, 6, 4, 4, 6, 6, 4, 3, 4, 2, 2, 3, 4, 3], [7, 3, 3, 3, 3, 3, 5, 7, 5, 3, 5, 5, 3, 7, 7, 7, 5, 3, 7, 5, 3, 6, 3, 6, 6, 3, 4, 3, 6, 6, 3, 4, 3, 4, 4, 3, 4, 6, 6, 4, 3, 3, 2, 3, 3], [3, 3, 7, 5, 7, 3, 5, 7, 3, 5, 3, 5, 5, 5, 5, 3, 5, 5, 3, 3, 3, 6, 6, 6, 6, 6, 4, 3, 4, 4, 6, 4, 3, 6, 3, 6, 3, 6, 4, 6, 2, 2, 2, 3, 3], [5, 3, 5, 5, 5, 5, 7, 7, 3, 7, 7, 7, 3, 3, 7, 3, 7, 5, 5, 3, 3, 3, 6, 4, 6, 4, 4, 3, 6, 4, 6, 6, 3, 6, 4, 4, 3, 4, 3, 4, 3, 3, 4, 4, 4], [5, 5, 7, 5, 5, 5, 5, 7, 3, 3, 7, 3, 7, 5, 3, 3, 5, 7, 3, 3, 4, 4, 4, 4, 3, 4, 6, 3, 4, 6, 6, 3, 6, 3, 4, 6, 6, 4, 4, 6, 2, 4, 2, 3, 3]], 'f_emb': [tensor([-0., -0., -0.,  ..., -0., -0., -0.]), tensor([-0., -0., -0.,  ..., -0., -0., -0.]), tensor([1226.8495,   -0.0000,   -0.0000,  ...,   -0.0000,   -0.0000,\n",
      "          -0.0000]), tensor([-0., -0., -0.,  ..., -0., -0., -0.]), tensor([188.3607,  -0.0000,  -0.0000,  ...,  -0.0000,  -0.0000, 213.2732]), tensor([-0., -0., -0.,  ..., -0., -0., -0.]), tensor([-0., -0., -0.,  ..., -0., -0., -0.]), tensor([-0.0000, -0.0000, -0.0000,  ..., -0.0000, -0.0000, 9.9611]), tensor([38.6843, -0.0000, -0.0000,  ..., -0.0000, -0.0000, -0.0000]), tensor([ 0.5262, -0.3664,  0.4536,  ..., -0.3597, -0.2121, -0.3281]), tensor([-0., -0., -0.,  ..., -0., -0., -0.]), tensor([-0.0000, -0.0000, -0.0000,  ..., 30.1783, -0.0000,  3.6916]), tensor([-0., -0., -0.,  ..., -0., -0., -0.]), tensor([-0., -0., -0.,  ..., -0., -0., -0.]), tensor([18.3999, -0.0000, -0.0000,  ..., -0.0000, -0.0000, 45.3672]), tensor([ 0.2349,  0.1743,  0.1660,  ...,  0.3616,  0.0957, -0.3534])], 'acc': [99.51923076923077, 99.03846153846153, 99.51923076923077, 99.51923076923077, 99.51923076923077, 99.51923076923077, 98.38709677419355, 96.7741935483871, 98.38709677419355, 98.38709677419355, 8.064516129032258, 96.7741935483871, 77.08333333333333, 76.4423076923077, 78.68589743589743, 77.40384615384616], 'n_params': [6228442, 5625114, 6570290, 5347354, 5825218, 4821626, 4711646, 4554646, 6688342, 4317614, 5203934, 5550702, 5717244, 5151700, 5773028, 5059684]}\n",
      "\n",
      "=====> Generating 5th network  <=====\n",
      "\n",
      "\n",
      "=====>Generating sub_net<=====\n",
      "\n",
      "\n",
      "=====> Training started <=====\n",
      "\n",
      "Starting Training for:6000-store-items-images-classified-by-color_imoore_0_12 with model topology:[7, 5, 3, 3, 7, 7, 7, 7, 5, 7, 5, 3, 7, 3, 5, 7, 3, 5, 7, 5, 4, 4, 4, 6, 4, 3, 3, 6, 3, 6, 4, 6, 6, 6, 6, 6, 3, 4, 6, 4, 2, 2, 2, 4, 3]\n"
     ]
    },
    {
     "name": "stderr",
     "output_type": "stream",
     "text": [
      "156it [00:23,  6.50it/s]\n",
      "20it [00:01, 18.09it/s]\n"
     ]
    },
    {
     "name": "stdout",
     "output_type": "stream",
     "text": [
      "\n",
      "Epoch: 1/15, Train Loss: 37.65173832 , Val Loss: 26.06215690, Train Accuracy:63.86436597,  Val Accuracy: 74.51923077, Epoch Time: 25.33653712\n"
     ]
    },
    {
     "name": "stderr",
     "output_type": "stream",
     "text": [
      "156it [00:23,  6.50it/s]\n",
      "20it [00:01, 17.79it/s]\n"
     ]
    },
    {
     "name": "stdout",
     "output_type": "stream",
     "text": [
      "\n",
      "Epoch: 2/15, Train Loss: 20.57023521 , Val Loss: 22.32968209, Train Accuracy:78.59149278,  Val Accuracy: 78.04487179, Epoch Time: 25.33412194\n"
     ]
    },
    {
     "name": "stderr",
     "output_type": "stream",
     "text": [
      "156it [00:23,  6.50it/s]\n",
      "20it [00:01, 18.19it/s]\n"
     ]
    },
    {
     "name": "stdout",
     "output_type": "stream",
     "text": [
      "\n",
      "Epoch: 3/15, Train Loss: 15.66227616 , Val Loss: 21.99339247, Train Accuracy:83.48715891,  Val Accuracy: 79.16666667, Epoch Time: 25.32521772\n"
     ]
    },
    {
     "name": "stderr",
     "output_type": "stream",
     "text": [
      "156it [00:23,  6.51it/s]\n",
      "20it [00:01, 17.45it/s]\n"
     ]
    },
    {
     "name": "stdout",
     "output_type": "stream",
     "text": [
      "\n",
      "Epoch: 4/15, Train Loss: 13.87373983 , Val Loss: 22.28407031, Train Accuracy:85.61396469,  Val Accuracy: 76.76282051, Epoch Time: 25.32886577\n"
     ]
    },
    {
     "name": "stderr",
     "output_type": "stream",
     "text": [
      "156it [00:23,  6.51it/s]\n",
      "20it [00:01, 17.75it/s]\n"
     ]
    },
    {
     "name": "stdout",
     "output_type": "stream",
     "text": [
      "\n",
      "Epoch: 5/15, Train Loss: 11.00821695 , Val Loss: 23.69050708, Train Accuracy:88.32263242,  Val Accuracy: 76.60256410, Epoch Time: 25.34141469\n"
     ]
    },
    {
     "name": "stderr",
     "output_type": "stream",
     "text": [
      "156it [00:23,  6.51it/s]\n",
      "20it [00:01, 17.64it/s]\n"
     ]
    },
    {
     "name": "stdout",
     "output_type": "stream",
     "text": [
      "\n",
      "Epoch: 6/15, Train Loss: 7.44828012 , Val Loss: 27.65855889, Train Accuracy:92.25521669,  Val Accuracy: 74.19871795, Epoch Time: 25.28450394\n"
     ]
    },
    {
     "name": "stderr",
     "output_type": "stream",
     "text": [
      "156it [00:23,  6.52it/s]\n",
      "20it [00:01, 17.96it/s]\n"
     ]
    },
    {
     "name": "stdout",
     "output_type": "stream",
     "text": [
      "\n",
      "Epoch: 7/15, Train Loss: 5.32047588 , Val Loss: 26.24105523, Train Accuracy:94.28170144,  Val Accuracy: 77.56410256, Epoch Time: 25.32305861\n"
     ]
    },
    {
     "name": "stderr",
     "output_type": "stream",
     "text": [
      "156it [00:24,  6.50it/s]\n",
      "20it [00:01, 17.56it/s]\n",
      "Using cache found in /root/.cache/torch/hub/mit-han-lab_once-for-all_master\n"
     ]
    },
    {
     "name": "stdout",
     "output_type": "stream",
     "text": [
      "\n",
      "Epoch: 8/15, Train Loss: 3.84936927 , Val Loss: 25.94511244, Train Accuracy:96.26805778,  Val Accuracy: 77.24358974, Epoch Time: 25.36348867\n",
      "Early stopping on, 7th, epoch\n",
      "\n",
      "=====>Generating f_emb<=====\n",
      "\n",
      "torch.Size([1536])\n",
      "{'dataset': ['sldc_0_10', 'sldc_0_10', 'sldc_0_10', 'sldc_0_10', 'sldc_0_10', 'sldc_0_10', 'corales_0_14', 'corales_0_14', 'corales_0_14', 'corales_0_14', 'corales_0_14', 'corales_0_14', '6000-store-items-images-classified-by-color_imoore_0_12', '6000-store-items-images-classified-by-color_imoore_0_12', '6000-store-items-images-classified-by-color_imoore_0_12', '6000-store-items-images-classified-by-color_imoore_0_12', '6000-store-items-images-classified-by-color_imoore_0_12'], 'topol': [[3, 5, 5, 5, 7, 5, 5, 7, 3, 5, 7, 7, 7, 5, 7, 5, 3, 3, 7, 3, 4, 3, 6, 3, 6, 6, 4, 4, 6, 4, 3, 6, 6, 3, 4, 6, 3, 4, 6, 3, 3, 4, 2, 4, 4], [3, 7, 7, 7, 5, 7, 5, 3, 7, 5, 3, 3, 5, 5, 3, 7, 7, 5, 3, 5, 3, 4, 6, 3, 6, 4, 6, 4, 4, 3, 3, 3, 3, 6, 6, 3, 3, 4, 6, 4, 4, 3, 2, 2, 4], [3, 7, 5, 5, 3, 7, 7, 5, 5, 5, 5, 5, 5, 7, 7, 7, 7, 7, 5, 7, 6, 6, 6, 3, 6, 3, 4, 4, 6, 6, 6, 4, 3, 6, 4, 6, 6, 4, 6, 4, 2, 3, 3, 3, 4], [7, 5, 3, 3, 5, 3, 5, 5, 5, 5, 3, 7, 7, 5, 7, 3, 3, 5, 3, 5, 3, 4, 6, 6, 6, 3, 6, 3, 6, 3, 6, 4, 4, 6, 6, 4, 6, 6, 6, 4, 2, 2, 2, 3, 2], [3, 5, 5, 7, 5, 5, 7, 3, 7, 5, 5, 5, 3, 5, 3, 7, 5, 7, 7, 3, 3, 6, 3, 3, 6, 3, 6, 6, 4, 4, 3, 4, 4, 3, 6, 6, 4, 3, 4, 3, 4, 3, 4, 4, 4], [3, 3, 5, 5, 7, 5, 5, 5, 5, 5, 3, 3, 3, 3, 3, 7, 7, 3, 5, 5, 6, 4, 3, 4, 4, 4, 3, 6, 4, 3, 6, 4, 4, 4, 6, 6, 4, 4, 3, 6, 4, 2, 4, 3, 3], [7, 7, 5, 5, 5, 5, 3, 3, 3, 5, 7, 5, 5, 3, 3, 5, 5, 5, 7, 5, 3, 4, 3, 6, 6, 4, 3, 4, 6, 6, 4, 4, 6, 4, 4, 3, 6, 4, 3, 6, 2, 4, 4, 3, 2], [3, 3, 3, 7, 7, 5, 5, 7, 7, 5, 7, 7, 7, 7, 3, 5, 7, 7, 7, 3, 6, 4, 6, 3, 3, 4, 6, 6, 3, 3, 4, 4, 4, 4, 6, 6, 3, 4, 4, 3, 2, 4, 4, 2, 3], [5, 5, 3, 5, 7, 3, 5, 7, 7, 5, 3, 7, 7, 3, 3, 7, 3, 3, 7, 3, 4, 4, 6, 6, 3, 6, 3, 6, 3, 4, 4, 6, 3, 4, 6, 3, 6, 6, 4, 4, 4, 2, 4, 4, 4], [3, 5, 3, 5, 3, 3, 7, 7, 3, 3, 5, 7, 5, 3, 7, 7, 3, 3, 3, 7, 3, 4, 6, 6, 4, 4, 6, 6, 3, 3, 3, 6, 3, 6, 3, 4, 3, 4, 6, 6, 4, 4, 4, 3, 2], [3, 7, 7, 5, 7, 3, 7, 5, 7, 7, 7, 5, 7, 5, 3, 7, 5, 5, 5, 5, 6, 3, 6, 6, 4, 6, 6, 4, 6, 6, 6, 3, 3, 3, 3, 3, 6, 6, 4, 4, 3, 4, 2, 2, 3], [7, 7, 3, 3, 5, 7, 3, 5, 5, 3, 3, 3, 5, 7, 3, 7, 7, 5, 7, 7, 6, 3, 4, 3, 3, 3, 4, 3, 3, 4, 6, 6, 6, 4, 4, 6, 6, 4, 3, 4, 2, 2, 3, 4, 3], [7, 3, 3, 3, 3, 3, 5, 7, 5, 3, 5, 5, 3, 7, 7, 7, 5, 3, 7, 5, 3, 6, 3, 6, 6, 3, 4, 3, 6, 6, 3, 4, 3, 4, 4, 3, 4, 6, 6, 4, 3, 3, 2, 3, 3], [3, 3, 7, 5, 7, 3, 5, 7, 3, 5, 3, 5, 5, 5, 5, 3, 5, 5, 3, 3, 3, 6, 6, 6, 6, 6, 4, 3, 4, 4, 6, 4, 3, 6, 3, 6, 3, 6, 4, 6, 2, 2, 2, 3, 3], [5, 3, 5, 5, 5, 5, 7, 7, 3, 7, 7, 7, 3, 3, 7, 3, 7, 5, 5, 3, 3, 3, 6, 4, 6, 4, 4, 3, 6, 4, 6, 6, 3, 6, 4, 4, 3, 4, 3, 4, 3, 3, 4, 4, 4], [5, 5, 7, 5, 5, 5, 5, 7, 3, 3, 7, 3, 7, 5, 3, 3, 5, 7, 3, 3, 4, 4, 4, 4, 3, 4, 6, 3, 4, 6, 6, 3, 6, 3, 4, 6, 6, 4, 4, 6, 2, 4, 2, 3, 3], [7, 5, 3, 3, 7, 7, 7, 7, 5, 7, 5, 3, 7, 3, 5, 7, 3, 5, 7, 5, 4, 4, 4, 6, 4, 3, 3, 6, 3, 6, 4, 6, 6, 6, 6, 6, 3, 4, 6, 4, 2, 2, 2, 4, 3]], 'f_emb': [tensor([-0., -0., -0.,  ..., -0., -0., -0.]), tensor([-0., -0., -0.,  ..., -0., -0., -0.]), tensor([1226.8495,   -0.0000,   -0.0000,  ...,   -0.0000,   -0.0000,\n",
      "          -0.0000]), tensor([-0., -0., -0.,  ..., -0., -0., -0.]), tensor([188.3607,  -0.0000,  -0.0000,  ...,  -0.0000,  -0.0000, 213.2732]), tensor([-0., -0., -0.,  ..., -0., -0., -0.]), tensor([-0., -0., -0.,  ..., -0., -0., -0.]), tensor([-0.0000, -0.0000, -0.0000,  ..., -0.0000, -0.0000, 9.9611]), tensor([38.6843, -0.0000, -0.0000,  ..., -0.0000, -0.0000, -0.0000]), tensor([ 0.5262, -0.3664,  0.4536,  ..., -0.3597, -0.2121, -0.3281]), tensor([-0., -0., -0.,  ..., -0., -0., -0.]), tensor([-0.0000, -0.0000, -0.0000,  ..., 30.1783, -0.0000,  3.6916]), tensor([-0., -0., -0.,  ..., -0., -0., -0.]), tensor([-0., -0., -0.,  ..., -0., -0., -0.]), tensor([18.3999, -0.0000, -0.0000,  ..., -0.0000, -0.0000, 45.3672]), tensor([ 0.2349,  0.1743,  0.1660,  ...,  0.3616,  0.0957, -0.3534]), tensor([-0.2793, -0.3249, -0.3683,  ..., -0.0000, -0.0000, -0.3627])], 'acc': [99.51923076923077, 99.03846153846153, 99.51923076923077, 99.51923076923077, 99.51923076923077, 99.51923076923077, 98.38709677419355, 96.7741935483871, 98.38709677419355, 98.38709677419355, 8.064516129032258, 96.7741935483871, 77.08333333333333, 76.4423076923077, 78.68589743589743, 77.40384615384616, 77.24358974358974], 'n_params': [6228442, 5625114, 6570290, 5347354, 5825218, 4821626, 4711646, 4554646, 6688342, 4317614, 5203934, 5550702, 5717244, 5151700, 5773028, 5059684, 6364428]}\n",
      "\n",
      "=====> Generating 6th network  <=====\n",
      "\n",
      "\n",
      "=====>Generating sub_net<=====\n",
      "\n",
      "\n",
      "=====> Training started <=====\n",
      "\n",
      "Starting Training for:6000-store-items-images-classified-by-color_imoore_0_12 with model topology:[3, 3, 3, 7, 7, 3, 3, 7, 7, 7, 7, 5, 5, 7, 7, 3, 7, 7, 5, 7, 3, 4, 3, 3, 6, 3, 6, 3, 6, 3, 6, 3, 4, 3, 3, 6, 4, 4, 3, 6, 4, 4, 2, 4, 3]\n"
     ]
    },
    {
     "name": "stderr",
     "output_type": "stream",
     "text": [
      "156it [00:24,  6.42it/s]\n",
      "20it [00:01, 17.39it/s]\n"
     ]
    },
    {
     "name": "stdout",
     "output_type": "stream",
     "text": [
      "\n",
      "Epoch: 1/15, Train Loss: 37.02045311 , Val Loss: 26.50375113, Train Accuracy:65.10834671,  Val Accuracy: 72.11538462, Epoch Time: 25.69433069\n"
     ]
    },
    {
     "name": "stderr",
     "output_type": "stream",
     "text": [
      "156it [00:24,  6.42it/s]\n",
      "20it [00:01, 17.71it/s]\n"
     ]
    },
    {
     "name": "stdout",
     "output_type": "stream",
     "text": [
      "\n",
      "Epoch: 2/15, Train Loss: 20.62547959 , Val Loss: 22.39315202, Train Accuracy:78.53130016,  Val Accuracy: 77.56410256, Epoch Time: 25.66455865\n"
     ]
    },
    {
     "name": "stderr",
     "output_type": "stream",
     "text": [
      "156it [00:24,  6.41it/s]\n",
      "20it [00:01, 14.92it/s]\n"
     ]
    },
    {
     "name": "stdout",
     "output_type": "stream",
     "text": [
      "\n",
      "Epoch: 3/15, Train Loss: 15.66003872 , Val Loss: 24.61211320, Train Accuracy:83.42696629,  Val Accuracy: 73.55769231, Epoch Time: 25.91019821\n"
     ]
    },
    {
     "name": "stderr",
     "output_type": "stream",
     "text": [
      "156it [00:24,  6.41it/s]\n",
      "20it [00:01, 17.02it/s]\n"
     ]
    },
    {
     "name": "stdout",
     "output_type": "stream",
     "text": [
      "\n",
      "Epoch: 4/15, Train Loss: 13.17108216 , Val Loss: 21.17509204, Train Accuracy:85.89486356,  Val Accuracy: 78.84615385, Epoch Time: 25.74443007\n"
     ]
    },
    {
     "name": "stderr",
     "output_type": "stream",
     "text": [
      "156it [00:24,  6.41it/s]\n",
      "20it [00:01, 16.49it/s]\n"
     ]
    },
    {
     "name": "stdout",
     "output_type": "stream",
     "text": [
      "\n",
      "Epoch: 5/15, Train Loss: 9.60632093 , Val Loss: 28.81982721, Train Accuracy:90.04815409,  Val Accuracy: 75.96153846, Epoch Time: 25.79894233\n"
     ]
    },
    {
     "name": "stderr",
     "output_type": "stream",
     "text": [
      "156it [00:24,  6.42it/s]\n",
      "20it [00:01, 17.58it/s]\n"
     ]
    },
    {
     "name": "stdout",
     "output_type": "stream",
     "text": [
      "\n",
      "Epoch: 6/15, Train Loss: 6.56144511 , Val Loss: 25.44685609, Train Accuracy:93.33868379,  Val Accuracy: 79.00641026, Epoch Time: 25.65274477\n"
     ]
    },
    {
     "name": "stderr",
     "output_type": "stream",
     "text": [
      "156it [00:24,  6.42it/s]\n",
      "20it [00:01, 17.36it/s]\n"
     ]
    },
    {
     "name": "stdout",
     "output_type": "stream",
     "text": [
      "\n",
      "Epoch: 7/15, Train Loss: 5.66111360 , Val Loss: 27.34875336, Train Accuracy:94.00080257,  Val Accuracy: 76.76282051, Epoch Time: 25.70115447\n"
     ]
    },
    {
     "name": "stderr",
     "output_type": "stream",
     "text": [
      "156it [00:24,  6.41it/s]\n",
      "20it [00:01, 17.64it/s]\n"
     ]
    },
    {
     "name": "stdout",
     "output_type": "stream",
     "text": [
      "\n",
      "Epoch: 8/15, Train Loss: 4.12315617 , Val Loss: 55.46223583, Train Accuracy:95.70626003,  Val Accuracy: 77.88461538, Epoch Time: 25.68941522\n"
     ]
    },
    {
     "name": "stderr",
     "output_type": "stream",
     "text": [
      "156it [00:24,  6.42it/s]\n",
      "20it [00:01, 17.56it/s]\n"
     ]
    },
    {
     "name": "stdout",
     "output_type": "stream",
     "text": [
      "\n",
      "Epoch: 9/15, Train Loss: 3.04400270 , Val Loss: 29.31087837, Train Accuracy:96.84991974,  Val Accuracy: 78.36538462, Epoch Time: 25.67412639\n",
      "Early stopping on, 8th, epoch\n",
      "\n",
      "=====>Generating f_emb<=====\n",
      "\n",
      "torch.Size([1536])\n",
      "{'dataset': ['sldc_0_10', 'sldc_0_10', 'sldc_0_10', 'sldc_0_10', 'sldc_0_10', 'sldc_0_10', 'corales_0_14', 'corales_0_14', 'corales_0_14', 'corales_0_14', 'corales_0_14', 'corales_0_14', '6000-store-items-images-classified-by-color_imoore_0_12', '6000-store-items-images-classified-by-color_imoore_0_12', '6000-store-items-images-classified-by-color_imoore_0_12', '6000-store-items-images-classified-by-color_imoore_0_12', '6000-store-items-images-classified-by-color_imoore_0_12', '6000-store-items-images-classified-by-color_imoore_0_12'], 'topol': [[3, 5, 5, 5, 7, 5, 5, 7, 3, 5, 7, 7, 7, 5, 7, 5, 3, 3, 7, 3, 4, 3, 6, 3, 6, 6, 4, 4, 6, 4, 3, 6, 6, 3, 4, 6, 3, 4, 6, 3, 3, 4, 2, 4, 4], [3, 7, 7, 7, 5, 7, 5, 3, 7, 5, 3, 3, 5, 5, 3, 7, 7, 5, 3, 5, 3, 4, 6, 3, 6, 4, 6, 4, 4, 3, 3, 3, 3, 6, 6, 3, 3, 4, 6, 4, 4, 3, 2, 2, 4], [3, 7, 5, 5, 3, 7, 7, 5, 5, 5, 5, 5, 5, 7, 7, 7, 7, 7, 5, 7, 6, 6, 6, 3, 6, 3, 4, 4, 6, 6, 6, 4, 3, 6, 4, 6, 6, 4, 6, 4, 2, 3, 3, 3, 4], [7, 5, 3, 3, 5, 3, 5, 5, 5, 5, 3, 7, 7, 5, 7, 3, 3, 5, 3, 5, 3, 4, 6, 6, 6, 3, 6, 3, 6, 3, 6, 4, 4, 6, 6, 4, 6, 6, 6, 4, 2, 2, 2, 3, 2], [3, 5, 5, 7, 5, 5, 7, 3, 7, 5, 5, 5, 3, 5, 3, 7, 5, 7, 7, 3, 3, 6, 3, 3, 6, 3, 6, 6, 4, 4, 3, 4, 4, 3, 6, 6, 4, 3, 4, 3, 4, 3, 4, 4, 4], [3, 3, 5, 5, 7, 5, 5, 5, 5, 5, 3, 3, 3, 3, 3, 7, 7, 3, 5, 5, 6, 4, 3, 4, 4, 4, 3, 6, 4, 3, 6, 4, 4, 4, 6, 6, 4, 4, 3, 6, 4, 2, 4, 3, 3], [7, 7, 5, 5, 5, 5, 3, 3, 3, 5, 7, 5, 5, 3, 3, 5, 5, 5, 7, 5, 3, 4, 3, 6, 6, 4, 3, 4, 6, 6, 4, 4, 6, 4, 4, 3, 6, 4, 3, 6, 2, 4, 4, 3, 2], [3, 3, 3, 7, 7, 5, 5, 7, 7, 5, 7, 7, 7, 7, 3, 5, 7, 7, 7, 3, 6, 4, 6, 3, 3, 4, 6, 6, 3, 3, 4, 4, 4, 4, 6, 6, 3, 4, 4, 3, 2, 4, 4, 2, 3], [5, 5, 3, 5, 7, 3, 5, 7, 7, 5, 3, 7, 7, 3, 3, 7, 3, 3, 7, 3, 4, 4, 6, 6, 3, 6, 3, 6, 3, 4, 4, 6, 3, 4, 6, 3, 6, 6, 4, 4, 4, 2, 4, 4, 4], [3, 5, 3, 5, 3, 3, 7, 7, 3, 3, 5, 7, 5, 3, 7, 7, 3, 3, 3, 7, 3, 4, 6, 6, 4, 4, 6, 6, 3, 3, 3, 6, 3, 6, 3, 4, 3, 4, 6, 6, 4, 4, 4, 3, 2], [3, 7, 7, 5, 7, 3, 7, 5, 7, 7, 7, 5, 7, 5, 3, 7, 5, 5, 5, 5, 6, 3, 6, 6, 4, 6, 6, 4, 6, 6, 6, 3, 3, 3, 3, 3, 6, 6, 4, 4, 3, 4, 2, 2, 3], [7, 7, 3, 3, 5, 7, 3, 5, 5, 3, 3, 3, 5, 7, 3, 7, 7, 5, 7, 7, 6, 3, 4, 3, 3, 3, 4, 3, 3, 4, 6, 6, 6, 4, 4, 6, 6, 4, 3, 4, 2, 2, 3, 4, 3], [7, 3, 3, 3, 3, 3, 5, 7, 5, 3, 5, 5, 3, 7, 7, 7, 5, 3, 7, 5, 3, 6, 3, 6, 6, 3, 4, 3, 6, 6, 3, 4, 3, 4, 4, 3, 4, 6, 6, 4, 3, 3, 2, 3, 3], [3, 3, 7, 5, 7, 3, 5, 7, 3, 5, 3, 5, 5, 5, 5, 3, 5, 5, 3, 3, 3, 6, 6, 6, 6, 6, 4, 3, 4, 4, 6, 4, 3, 6, 3, 6, 3, 6, 4, 6, 2, 2, 2, 3, 3], [5, 3, 5, 5, 5, 5, 7, 7, 3, 7, 7, 7, 3, 3, 7, 3, 7, 5, 5, 3, 3, 3, 6, 4, 6, 4, 4, 3, 6, 4, 6, 6, 3, 6, 4, 4, 3, 4, 3, 4, 3, 3, 4, 4, 4], [5, 5, 7, 5, 5, 5, 5, 7, 3, 3, 7, 3, 7, 5, 3, 3, 5, 7, 3, 3, 4, 4, 4, 4, 3, 4, 6, 3, 4, 6, 6, 3, 6, 3, 4, 6, 6, 4, 4, 6, 2, 4, 2, 3, 3], [7, 5, 3, 3, 7, 7, 7, 7, 5, 7, 5, 3, 7, 3, 5, 7, 3, 5, 7, 5, 4, 4, 4, 6, 4, 3, 3, 6, 3, 6, 4, 6, 6, 6, 6, 6, 3, 4, 6, 4, 2, 2, 2, 4, 3], [3, 3, 3, 7, 7, 3, 3, 7, 7, 7, 7, 5, 5, 7, 7, 3, 7, 7, 5, 7, 3, 4, 3, 3, 6, 3, 6, 3, 6, 3, 6, 3, 4, 3, 3, 6, 4, 4, 3, 6, 4, 4, 2, 4, 3]], 'f_emb': [tensor([-0., -0., -0.,  ..., -0., -0., -0.]), tensor([-0., -0., -0.,  ..., -0., -0., -0.]), tensor([1226.8495,   -0.0000,   -0.0000,  ...,   -0.0000,   -0.0000,\n",
      "          -0.0000]), tensor([-0., -0., -0.,  ..., -0., -0., -0.]), tensor([188.3607,  -0.0000,  -0.0000,  ...,  -0.0000,  -0.0000, 213.2732]), tensor([-0., -0., -0.,  ..., -0., -0., -0.]), tensor([-0., -0., -0.,  ..., -0., -0., -0.]), tensor([-0.0000, -0.0000, -0.0000,  ..., -0.0000, -0.0000, 9.9611]), tensor([38.6843, -0.0000, -0.0000,  ..., -0.0000, -0.0000, -0.0000]), tensor([ 0.5262, -0.3664,  0.4536,  ..., -0.3597, -0.2121, -0.3281]), tensor([-0., -0., -0.,  ..., -0., -0., -0.]), tensor([-0.0000, -0.0000, -0.0000,  ..., 30.1783, -0.0000,  3.6916]), tensor([-0., -0., -0.,  ..., -0., -0., -0.]), tensor([-0., -0., -0.,  ..., -0., -0., -0.]), tensor([18.3999, -0.0000, -0.0000,  ..., -0.0000, -0.0000, 45.3672]), tensor([ 0.2349,  0.1743,  0.1660,  ...,  0.3616,  0.0957, -0.3534]), tensor([-0.2793, -0.3249, -0.3683,  ..., -0.0000, -0.0000, -0.3627]), tensor([ 0.0759, -0.3346, -0.2591,  ...,  0.4824, -0.2551, -0.1757])], 'acc': [99.51923076923077, 99.03846153846153, 99.51923076923077, 99.51923076923077, 99.51923076923077, 99.51923076923077, 98.38709677419355, 96.7741935483871, 98.38709677419355, 98.38709677419355, 8.064516129032258, 96.7741935483871, 77.08333333333333, 76.4423076923077, 78.68589743589743, 77.40384615384616, 77.24358974358974, 78.36538461538461], 'n_params': [6228442, 5625114, 6570290, 5347354, 5825218, 4821626, 4711646, 4554646, 6688342, 4317614, 5203934, 5550702, 5717244, 5151700, 5773028, 5059684, 6364428, 4930308]}\n",
      "\n",
      "=====> GENERATING QUERIES <=====\n",
      "\n",
      "query_shape_train: 32, each tensor:torch.Size([512])\n"
     ]
    },
    {
     "name": "stderr",
     "output_type": "stream",
     "text": [
      "Using cache found in /root/.cache/torch/hub/mit-han-lab_once-for-all_master\n"
     ]
    },
    {
     "name": "stdout",
     "output_type": "stream",
     "text": [
      "query_shape_test: 32, each tensor:torch.Size([512])\n",
      "x_query:32, x_query-test :32\n",
      "\n",
      "=====>SAVING 6000-store-items-images-classified-by-color_imoore_0_12 in m_train.pt <=====\n",
      "\n",
      "quesry_dataset fcis-sc-deeplearning-competition_0_10\n",
      "\n",
      "Dataset : fcis-sc-deeplearning-competition_0_10, nclss:10\n",
      "\n",
      "\n",
      "=====> Generating 1th network  <=====\n",
      "\n",
      "\n",
      "=====>Generating sub_net<=====\n",
      "\n",
      "\n",
      "=====> Training started <=====\n",
      "\n",
      "Starting Training for:fcis-sc-deeplearning-competition_0_10 with model topology:[3, 7, 7, 7, 3, 5, 3, 7, 5, 3, 5, 5, 7, 3, 5, 5, 3, 7, 5, 5, 4, 3, 4, 4, 3, 4, 6, 4, 6, 4, 3, 3, 3, 3, 6, 3, 4, 6, 4, 3, 4, 2, 4, 4, 3]\n"
     ]
    },
    {
     "name": "stderr",
     "output_type": "stream",
     "text": [
      "79it [00:13,  5.94it/s]\n",
      "10it [00:01,  6.60it/s]\n"
     ]
    },
    {
     "name": "stdout",
     "output_type": "stream",
     "text": [
      "\n",
      "Epoch: 1/15, Train Loss: 40.40399531 , Val Loss: 15.16879518, Train Accuracy:64.09127302,  Val Accuracy: 86.21794872, Epoch Time: 15.05200934\n"
     ]
    },
    {
     "name": "stderr",
     "output_type": "stream",
     "text": [
      "79it [00:13,  5.97it/s]\n",
      "10it [00:01,  9.86it/s]\n"
     ]
    },
    {
     "name": "stdout",
     "output_type": "stream",
     "text": [
      "\n",
      "Epoch: 2/15, Train Loss: 9.48155514 , Val Loss: 7.60270228, Train Accuracy:91.59327462,  Val Accuracy: 93.26923077, Epoch Time: 14.53344870\n"
     ]
    },
    {
     "name": "stderr",
     "output_type": "stream",
     "text": [
      "79it [00:13,  6.00it/s]\n",
      "10it [00:01,  9.81it/s]\n"
     ]
    },
    {
     "name": "stdout",
     "output_type": "stream",
     "text": [
      "\n",
      "Epoch: 3/15, Train Loss: 4.55241419 , Val Loss: 6.96679831, Train Accuracy:95.91673339,  Val Accuracy: 92.30769231, Epoch Time: 14.38914299\n"
     ]
    },
    {
     "name": "stderr",
     "output_type": "stream",
     "text": [
      "79it [00:13,  6.04it/s]\n",
      "10it [00:01,  9.91it/s]\n"
     ]
    },
    {
     "name": "stdout",
     "output_type": "stream",
     "text": [
      "\n",
      "Epoch: 4/15, Train Loss: 2.81874844 , Val Loss: 8.55163007, Train Accuracy:97.71817454,  Val Accuracy: 91.66666667, Epoch Time: 14.31449342\n"
     ]
    },
    {
     "name": "stderr",
     "output_type": "stream",
     "text": [
      "79it [00:13,  6.00it/s]\n",
      "10it [00:01,  9.96it/s]\n"
     ]
    },
    {
     "name": "stdout",
     "output_type": "stream",
     "text": [
      "\n",
      "Epoch: 5/15, Train Loss: 1.40681038 , Val Loss: 7.35615630, Train Accuracy:99.39951962,  Val Accuracy: 92.62820513, Epoch Time: 14.41892529\n"
     ]
    },
    {
     "name": "stderr",
     "output_type": "stream",
     "text": [
      "79it [00:13,  6.03it/s]\n",
      "10it [00:01,  9.79it/s]\n"
     ]
    },
    {
     "name": "stdout",
     "output_type": "stream",
     "text": [
      "\n",
      "Epoch: 6/15, Train Loss: 1.28814128 , Val Loss: 6.64880530, Train Accuracy:99.23939151,  Val Accuracy: 92.62820513, Epoch Time: 14.34345865\n"
     ]
    },
    {
     "name": "stderr",
     "output_type": "stream",
     "text": [
      "79it [00:13,  5.97it/s]\n",
      "10it [00:01,  7.34it/s]\n"
     ]
    },
    {
     "name": "stdout",
     "output_type": "stream",
     "text": [
      "\n",
      "Epoch: 7/15, Train Loss: 0.98506488 , Val Loss: 5.83024745, Train Accuracy:99.51961569,  Val Accuracy: 94.23076923, Epoch Time: 14.82850432\n"
     ]
    },
    {
     "name": "stderr",
     "output_type": "stream",
     "text": [
      "79it [00:13,  5.98it/s]\n",
      "10it [00:01,  7.69it/s]\n"
     ]
    },
    {
     "name": "stdout",
     "output_type": "stream",
     "text": [
      "\n",
      "Epoch: 8/15, Train Loss: 0.63315619 , Val Loss: 6.76766546, Train Accuracy:99.75980785,  Val Accuracy: 93.58974359, Epoch Time: 14.72709417\n"
     ]
    },
    {
     "name": "stderr",
     "output_type": "stream",
     "text": [
      "79it [00:13,  5.99it/s]\n",
      "10it [00:01,  9.72it/s]\n"
     ]
    },
    {
     "name": "stdout",
     "output_type": "stream",
     "text": [
      "\n",
      "Epoch: 9/15, Train Loss: 0.64185719 , Val Loss: 6.66360080, Train Accuracy:99.63971177,  Val Accuracy: 93.58974359, Epoch Time: 14.43677974\n"
     ]
    },
    {
     "name": "stderr",
     "output_type": "stream",
     "text": [
      "79it [00:13,  5.95it/s]\n",
      "10it [00:01,  9.69it/s]\n"
     ]
    },
    {
     "name": "stdout",
     "output_type": "stream",
     "text": [
      "\n",
      "Epoch: 10/15, Train Loss: 0.52022504 , Val Loss: 7.65892660, Train Accuracy:99.67974380,  Val Accuracy: 92.94871795, Epoch Time: 14.54916120\n"
     ]
    },
    {
     "name": "stderr",
     "output_type": "stream",
     "text": [
      "79it [00:13,  6.02it/s]\n",
      "10it [00:01,  9.71it/s]\n"
     ]
    },
    {
     "name": "stdout",
     "output_type": "stream",
     "text": [
      "\n",
      "Epoch: 11/15, Train Loss: 0.34323677 , Val Loss: 8.76160051, Train Accuracy:99.87990392,  Val Accuracy: 93.58974359, Epoch Time: 14.35450387\n"
     ]
    },
    {
     "name": "stderr",
     "output_type": "stream",
     "text": [
      "79it [00:13,  6.07it/s]\n",
      "10it [00:01,  9.94it/s]\n",
      "Using cache found in /root/.cache/torch/hub/mit-han-lab_once-for-all_master\n"
     ]
    },
    {
     "name": "stdout",
     "output_type": "stream",
     "text": [
      "\n",
      "Epoch: 12/15, Train Loss: 0.48314574 , Val Loss: 6.94414703, Train Accuracy:99.71977582,  Val Accuracy: 94.23076923, Epoch Time: 14.23379159\n",
      "Early stopping on, 11th, epoch\n",
      "\n",
      "=====>Generating f_emb<=====\n",
      "\n",
      "torch.Size([1536])\n",
      "{'dataset': ['sldc_0_10', 'sldc_0_10', 'sldc_0_10', 'sldc_0_10', 'sldc_0_10', 'sldc_0_10', 'corales_0_14', 'corales_0_14', 'corales_0_14', 'corales_0_14', 'corales_0_14', 'corales_0_14', '6000-store-items-images-classified-by-color_imoore_0_12', '6000-store-items-images-classified-by-color_imoore_0_12', '6000-store-items-images-classified-by-color_imoore_0_12', '6000-store-items-images-classified-by-color_imoore_0_12', '6000-store-items-images-classified-by-color_imoore_0_12', '6000-store-items-images-classified-by-color_imoore_0_12', 'fcis-sc-deeplearning-competition_0_10'], 'topol': [[3, 5, 5, 5, 7, 5, 5, 7, 3, 5, 7, 7, 7, 5, 7, 5, 3, 3, 7, 3, 4, 3, 6, 3, 6, 6, 4, 4, 6, 4, 3, 6, 6, 3, 4, 6, 3, 4, 6, 3, 3, 4, 2, 4, 4], [3, 7, 7, 7, 5, 7, 5, 3, 7, 5, 3, 3, 5, 5, 3, 7, 7, 5, 3, 5, 3, 4, 6, 3, 6, 4, 6, 4, 4, 3, 3, 3, 3, 6, 6, 3, 3, 4, 6, 4, 4, 3, 2, 2, 4], [3, 7, 5, 5, 3, 7, 7, 5, 5, 5, 5, 5, 5, 7, 7, 7, 7, 7, 5, 7, 6, 6, 6, 3, 6, 3, 4, 4, 6, 6, 6, 4, 3, 6, 4, 6, 6, 4, 6, 4, 2, 3, 3, 3, 4], [7, 5, 3, 3, 5, 3, 5, 5, 5, 5, 3, 7, 7, 5, 7, 3, 3, 5, 3, 5, 3, 4, 6, 6, 6, 3, 6, 3, 6, 3, 6, 4, 4, 6, 6, 4, 6, 6, 6, 4, 2, 2, 2, 3, 2], [3, 5, 5, 7, 5, 5, 7, 3, 7, 5, 5, 5, 3, 5, 3, 7, 5, 7, 7, 3, 3, 6, 3, 3, 6, 3, 6, 6, 4, 4, 3, 4, 4, 3, 6, 6, 4, 3, 4, 3, 4, 3, 4, 4, 4], [3, 3, 5, 5, 7, 5, 5, 5, 5, 5, 3, 3, 3, 3, 3, 7, 7, 3, 5, 5, 6, 4, 3, 4, 4, 4, 3, 6, 4, 3, 6, 4, 4, 4, 6, 6, 4, 4, 3, 6, 4, 2, 4, 3, 3], [7, 7, 5, 5, 5, 5, 3, 3, 3, 5, 7, 5, 5, 3, 3, 5, 5, 5, 7, 5, 3, 4, 3, 6, 6, 4, 3, 4, 6, 6, 4, 4, 6, 4, 4, 3, 6, 4, 3, 6, 2, 4, 4, 3, 2], [3, 3, 3, 7, 7, 5, 5, 7, 7, 5, 7, 7, 7, 7, 3, 5, 7, 7, 7, 3, 6, 4, 6, 3, 3, 4, 6, 6, 3, 3, 4, 4, 4, 4, 6, 6, 3, 4, 4, 3, 2, 4, 4, 2, 3], [5, 5, 3, 5, 7, 3, 5, 7, 7, 5, 3, 7, 7, 3, 3, 7, 3, 3, 7, 3, 4, 4, 6, 6, 3, 6, 3, 6, 3, 4, 4, 6, 3, 4, 6, 3, 6, 6, 4, 4, 4, 2, 4, 4, 4], [3, 5, 3, 5, 3, 3, 7, 7, 3, 3, 5, 7, 5, 3, 7, 7, 3, 3, 3, 7, 3, 4, 6, 6, 4, 4, 6, 6, 3, 3, 3, 6, 3, 6, 3, 4, 3, 4, 6, 6, 4, 4, 4, 3, 2], [3, 7, 7, 5, 7, 3, 7, 5, 7, 7, 7, 5, 7, 5, 3, 7, 5, 5, 5, 5, 6, 3, 6, 6, 4, 6, 6, 4, 6, 6, 6, 3, 3, 3, 3, 3, 6, 6, 4, 4, 3, 4, 2, 2, 3], [7, 7, 3, 3, 5, 7, 3, 5, 5, 3, 3, 3, 5, 7, 3, 7, 7, 5, 7, 7, 6, 3, 4, 3, 3, 3, 4, 3, 3, 4, 6, 6, 6, 4, 4, 6, 6, 4, 3, 4, 2, 2, 3, 4, 3], [7, 3, 3, 3, 3, 3, 5, 7, 5, 3, 5, 5, 3, 7, 7, 7, 5, 3, 7, 5, 3, 6, 3, 6, 6, 3, 4, 3, 6, 6, 3, 4, 3, 4, 4, 3, 4, 6, 6, 4, 3, 3, 2, 3, 3], [3, 3, 7, 5, 7, 3, 5, 7, 3, 5, 3, 5, 5, 5, 5, 3, 5, 5, 3, 3, 3, 6, 6, 6, 6, 6, 4, 3, 4, 4, 6, 4, 3, 6, 3, 6, 3, 6, 4, 6, 2, 2, 2, 3, 3], [5, 3, 5, 5, 5, 5, 7, 7, 3, 7, 7, 7, 3, 3, 7, 3, 7, 5, 5, 3, 3, 3, 6, 4, 6, 4, 4, 3, 6, 4, 6, 6, 3, 6, 4, 4, 3, 4, 3, 4, 3, 3, 4, 4, 4], [5, 5, 7, 5, 5, 5, 5, 7, 3, 3, 7, 3, 7, 5, 3, 3, 5, 7, 3, 3, 4, 4, 4, 4, 3, 4, 6, 3, 4, 6, 6, 3, 6, 3, 4, 6, 6, 4, 4, 6, 2, 4, 2, 3, 3], [7, 5, 3, 3, 7, 7, 7, 7, 5, 7, 5, 3, 7, 3, 5, 7, 3, 5, 7, 5, 4, 4, 4, 6, 4, 3, 3, 6, 3, 6, 4, 6, 6, 6, 6, 6, 3, 4, 6, 4, 2, 2, 2, 4, 3], [3, 3, 3, 7, 7, 3, 3, 7, 7, 7, 7, 5, 5, 7, 7, 3, 7, 7, 5, 7, 3, 4, 3, 3, 6, 3, 6, 3, 6, 3, 6, 3, 4, 3, 3, 6, 4, 4, 3, 6, 4, 4, 2, 4, 3], [3, 7, 7, 7, 3, 5, 3, 7, 5, 3, 5, 5, 7, 3, 5, 5, 3, 7, 5, 5, 4, 3, 4, 4, 3, 4, 6, 4, 6, 4, 3, 3, 3, 3, 6, 3, 4, 6, 4, 3, 4, 2, 4, 4, 3]], 'f_emb': [tensor([-0., -0., -0.,  ..., -0., -0., -0.]), tensor([-0., -0., -0.,  ..., -0., -0., -0.]), tensor([1226.8495,   -0.0000,   -0.0000,  ...,   -0.0000,   -0.0000,\n",
      "          -0.0000]), tensor([-0., -0., -0.,  ..., -0., -0., -0.]), tensor([188.3607,  -0.0000,  -0.0000,  ...,  -0.0000,  -0.0000, 213.2732]), tensor([-0., -0., -0.,  ..., -0., -0., -0.]), tensor([-0., -0., -0.,  ..., -0., -0., -0.]), tensor([-0.0000, -0.0000, -0.0000,  ..., -0.0000, -0.0000, 9.9611]), tensor([38.6843, -0.0000, -0.0000,  ..., -0.0000, -0.0000, -0.0000]), tensor([ 0.5262, -0.3664,  0.4536,  ..., -0.3597, -0.2121, -0.3281]), tensor([-0., -0., -0.,  ..., -0., -0., -0.]), tensor([-0.0000, -0.0000, -0.0000,  ..., 30.1783, -0.0000,  3.6916]), tensor([-0., -0., -0.,  ..., -0., -0., -0.]), tensor([-0., -0., -0.,  ..., -0., -0., -0.]), tensor([18.3999, -0.0000, -0.0000,  ..., -0.0000, -0.0000, 45.3672]), tensor([ 0.2349,  0.1743,  0.1660,  ...,  0.3616,  0.0957, -0.3534]), tensor([-0.2793, -0.3249, -0.3683,  ..., -0.0000, -0.0000, -0.3627]), tensor([ 0.0759, -0.3346, -0.2591,  ...,  0.4824, -0.2551, -0.1757]), tensor([ 0.4264, -0.1865, -0.1025,  ..., -0.1637,  0.7777, -0.3373])], 'acc': [99.51923076923077, 99.03846153846153, 99.51923076923077, 99.51923076923077, 99.51923076923077, 99.51923076923077, 98.38709677419355, 96.7741935483871, 98.38709677419355, 98.38709677419355, 8.064516129032258, 96.7741935483871, 77.08333333333333, 76.4423076923077, 78.68589743589743, 77.40384615384616, 77.24358974358974, 78.36538461538461, 94.23076923076923], 'n_params': [6228442, 5625114, 6570290, 5347354, 5825218, 4821626, 4711646, 4554646, 6688342, 4317614, 5203934, 5550702, 5717244, 5151700, 5773028, 5059684, 6364428, 4930308, 5608818]}\n",
      "\n",
      "=====> Generating 2th network  <=====\n",
      "\n",
      "\n",
      "=====>Generating sub_net<=====\n",
      "\n",
      "\n",
      "=====> Training started <=====\n",
      "\n",
      "Starting Training for:fcis-sc-deeplearning-competition_0_10 with model topology:[7, 7, 3, 5, 5, 5, 7, 3, 3, 5, 3, 3, 5, 7, 7, 3, 3, 7, 3, 3, 3, 3, 4, 6, 4, 6, 6, 6, 4, 3, 3, 6, 6, 4, 3, 4, 6, 4, 4, 4, 2, 4, 2, 3, 2]\n"
     ]
    },
    {
     "name": "stderr",
     "output_type": "stream",
     "text": [
      "79it [00:11,  6.83it/s]\n",
      "10it [00:01,  9.54it/s]\n"
     ]
    },
    {
     "name": "stdout",
     "output_type": "stream",
     "text": [
      "\n",
      "Epoch: 1/15, Train Loss: 40.17205849 , Val Loss: 16.36531065, Train Accuracy:63.93114492,  Val Accuracy: 84.93589744, Epoch Time: 12.86171460\n"
     ]
    },
    {
     "name": "stderr",
     "output_type": "stream",
     "text": [
      "79it [00:11,  6.78it/s]\n",
      "10it [00:01,  9.80it/s]\n"
     ]
    },
    {
     "name": "stdout",
     "output_type": "stream",
     "text": [
      "\n",
      "Epoch: 2/15, Train Loss: 42.32552106 , Val Loss: 37.68342376, Train Accuracy:53.32265813,  Val Accuracy: 53.52564103, Epoch Time: 12.89346337\n"
     ]
    },
    {
     "name": "stderr",
     "output_type": "stream",
     "text": [
      "79it [00:11,  6.80it/s]\n",
      "10it [00:01,  9.64it/s]\n"
     ]
    },
    {
     "name": "stdout",
     "output_type": "stream",
     "text": [
      "\n",
      "Epoch: 3/15, Train Loss: 28.16986050 , Val Loss: 26.66827698, Train Accuracy:68.29463571,  Val Accuracy: 69.23076923, Epoch Time: 12.88668108\n"
     ]
    },
    {
     "name": "stderr",
     "output_type": "stream",
     "text": [
      "79it [00:11,  6.87it/s]\n",
      "10it [00:01,  9.93it/s]\n"
     ]
    },
    {
     "name": "stdout",
     "output_type": "stream",
     "text": [
      "\n",
      "Epoch: 4/15, Train Loss: 19.99683422 , Val Loss: 23.43903089, Train Accuracy:78.66293034,  Val Accuracy: 73.07692308, Epoch Time: 12.72345924\n"
     ]
    },
    {
     "name": "stderr",
     "output_type": "stream",
     "text": [
      "79it [00:11,  6.87it/s]\n",
      "10it [00:01,  9.93it/s]\n"
     ]
    },
    {
     "name": "stdout",
     "output_type": "stream",
     "text": [
      "\n",
      "Epoch: 5/15, Train Loss: 13.34705379 , Val Loss: 23.24850278, Train Accuracy:86.62930344,  Val Accuracy: 71.47435897, Epoch Time: 12.72740436\n"
     ]
    },
    {
     "name": "stderr",
     "output_type": "stream",
     "text": [
      "79it [00:11,  6.78it/s]\n",
      "10it [00:01,  9.75it/s]\n",
      "Using cache found in /root/.cache/torch/hub/mit-han-lab_once-for-all_master\n"
     ]
    },
    {
     "name": "stdout",
     "output_type": "stream",
     "text": [
      "\n",
      "Epoch: 6/15, Train Loss: 10.86350199 , Val Loss: 19.68801923, Train Accuracy:88.95116093,  Val Accuracy: 75.64102564, Epoch Time: 12.89507914\n",
      "Early stopping on, 5th, epoch\n",
      "\n",
      "=====>Generating f_emb<=====\n",
      "\n",
      "torch.Size([1536])\n",
      "{'dataset': ['sldc_0_10', 'sldc_0_10', 'sldc_0_10', 'sldc_0_10', 'sldc_0_10', 'sldc_0_10', 'corales_0_14', 'corales_0_14', 'corales_0_14', 'corales_0_14', 'corales_0_14', 'corales_0_14', '6000-store-items-images-classified-by-color_imoore_0_12', '6000-store-items-images-classified-by-color_imoore_0_12', '6000-store-items-images-classified-by-color_imoore_0_12', '6000-store-items-images-classified-by-color_imoore_0_12', '6000-store-items-images-classified-by-color_imoore_0_12', '6000-store-items-images-classified-by-color_imoore_0_12', 'fcis-sc-deeplearning-competition_0_10', 'fcis-sc-deeplearning-competition_0_10'], 'topol': [[3, 5, 5, 5, 7, 5, 5, 7, 3, 5, 7, 7, 7, 5, 7, 5, 3, 3, 7, 3, 4, 3, 6, 3, 6, 6, 4, 4, 6, 4, 3, 6, 6, 3, 4, 6, 3, 4, 6, 3, 3, 4, 2, 4, 4], [3, 7, 7, 7, 5, 7, 5, 3, 7, 5, 3, 3, 5, 5, 3, 7, 7, 5, 3, 5, 3, 4, 6, 3, 6, 4, 6, 4, 4, 3, 3, 3, 3, 6, 6, 3, 3, 4, 6, 4, 4, 3, 2, 2, 4], [3, 7, 5, 5, 3, 7, 7, 5, 5, 5, 5, 5, 5, 7, 7, 7, 7, 7, 5, 7, 6, 6, 6, 3, 6, 3, 4, 4, 6, 6, 6, 4, 3, 6, 4, 6, 6, 4, 6, 4, 2, 3, 3, 3, 4], [7, 5, 3, 3, 5, 3, 5, 5, 5, 5, 3, 7, 7, 5, 7, 3, 3, 5, 3, 5, 3, 4, 6, 6, 6, 3, 6, 3, 6, 3, 6, 4, 4, 6, 6, 4, 6, 6, 6, 4, 2, 2, 2, 3, 2], [3, 5, 5, 7, 5, 5, 7, 3, 7, 5, 5, 5, 3, 5, 3, 7, 5, 7, 7, 3, 3, 6, 3, 3, 6, 3, 6, 6, 4, 4, 3, 4, 4, 3, 6, 6, 4, 3, 4, 3, 4, 3, 4, 4, 4], [3, 3, 5, 5, 7, 5, 5, 5, 5, 5, 3, 3, 3, 3, 3, 7, 7, 3, 5, 5, 6, 4, 3, 4, 4, 4, 3, 6, 4, 3, 6, 4, 4, 4, 6, 6, 4, 4, 3, 6, 4, 2, 4, 3, 3], [7, 7, 5, 5, 5, 5, 3, 3, 3, 5, 7, 5, 5, 3, 3, 5, 5, 5, 7, 5, 3, 4, 3, 6, 6, 4, 3, 4, 6, 6, 4, 4, 6, 4, 4, 3, 6, 4, 3, 6, 2, 4, 4, 3, 2], [3, 3, 3, 7, 7, 5, 5, 7, 7, 5, 7, 7, 7, 7, 3, 5, 7, 7, 7, 3, 6, 4, 6, 3, 3, 4, 6, 6, 3, 3, 4, 4, 4, 4, 6, 6, 3, 4, 4, 3, 2, 4, 4, 2, 3], [5, 5, 3, 5, 7, 3, 5, 7, 7, 5, 3, 7, 7, 3, 3, 7, 3, 3, 7, 3, 4, 4, 6, 6, 3, 6, 3, 6, 3, 4, 4, 6, 3, 4, 6, 3, 6, 6, 4, 4, 4, 2, 4, 4, 4], [3, 5, 3, 5, 3, 3, 7, 7, 3, 3, 5, 7, 5, 3, 7, 7, 3, 3, 3, 7, 3, 4, 6, 6, 4, 4, 6, 6, 3, 3, 3, 6, 3, 6, 3, 4, 3, 4, 6, 6, 4, 4, 4, 3, 2], [3, 7, 7, 5, 7, 3, 7, 5, 7, 7, 7, 5, 7, 5, 3, 7, 5, 5, 5, 5, 6, 3, 6, 6, 4, 6, 6, 4, 6, 6, 6, 3, 3, 3, 3, 3, 6, 6, 4, 4, 3, 4, 2, 2, 3], [7, 7, 3, 3, 5, 7, 3, 5, 5, 3, 3, 3, 5, 7, 3, 7, 7, 5, 7, 7, 6, 3, 4, 3, 3, 3, 4, 3, 3, 4, 6, 6, 6, 4, 4, 6, 6, 4, 3, 4, 2, 2, 3, 4, 3], [7, 3, 3, 3, 3, 3, 5, 7, 5, 3, 5, 5, 3, 7, 7, 7, 5, 3, 7, 5, 3, 6, 3, 6, 6, 3, 4, 3, 6, 6, 3, 4, 3, 4, 4, 3, 4, 6, 6, 4, 3, 3, 2, 3, 3], [3, 3, 7, 5, 7, 3, 5, 7, 3, 5, 3, 5, 5, 5, 5, 3, 5, 5, 3, 3, 3, 6, 6, 6, 6, 6, 4, 3, 4, 4, 6, 4, 3, 6, 3, 6, 3, 6, 4, 6, 2, 2, 2, 3, 3], [5, 3, 5, 5, 5, 5, 7, 7, 3, 7, 7, 7, 3, 3, 7, 3, 7, 5, 5, 3, 3, 3, 6, 4, 6, 4, 4, 3, 6, 4, 6, 6, 3, 6, 4, 4, 3, 4, 3, 4, 3, 3, 4, 4, 4], [5, 5, 7, 5, 5, 5, 5, 7, 3, 3, 7, 3, 7, 5, 3, 3, 5, 7, 3, 3, 4, 4, 4, 4, 3, 4, 6, 3, 4, 6, 6, 3, 6, 3, 4, 6, 6, 4, 4, 6, 2, 4, 2, 3, 3], [7, 5, 3, 3, 7, 7, 7, 7, 5, 7, 5, 3, 7, 3, 5, 7, 3, 5, 7, 5, 4, 4, 4, 6, 4, 3, 3, 6, 3, 6, 4, 6, 6, 6, 6, 6, 3, 4, 6, 4, 2, 2, 2, 4, 3], [3, 3, 3, 7, 7, 3, 3, 7, 7, 7, 7, 5, 5, 7, 7, 3, 7, 7, 5, 7, 3, 4, 3, 3, 6, 3, 6, 3, 6, 3, 6, 3, 4, 3, 3, 6, 4, 4, 3, 6, 4, 4, 2, 4, 3], [3, 7, 7, 7, 3, 5, 3, 7, 5, 3, 5, 5, 7, 3, 5, 5, 3, 7, 5, 5, 4, 3, 4, 4, 3, 4, 6, 4, 6, 4, 3, 3, 3, 3, 6, 3, 4, 6, 4, 3, 4, 2, 4, 4, 3], [7, 7, 3, 5, 5, 5, 7, 3, 3, 5, 3, 3, 5, 7, 7, 3, 3, 7, 3, 3, 3, 3, 4, 6, 4, 6, 6, 6, 4, 3, 3, 6, 6, 4, 3, 4, 6, 4, 4, 4, 2, 4, 2, 3, 2]], 'f_emb': [tensor([-0., -0., -0.,  ..., -0., -0., -0.]), tensor([-0., -0., -0.,  ..., -0., -0., -0.]), tensor([1226.8495,   -0.0000,   -0.0000,  ...,   -0.0000,   -0.0000,\n",
      "          -0.0000]), tensor([-0., -0., -0.,  ..., -0., -0., -0.]), tensor([188.3607,  -0.0000,  -0.0000,  ...,  -0.0000,  -0.0000, 213.2732]), tensor([-0., -0., -0.,  ..., -0., -0., -0.]), tensor([-0., -0., -0.,  ..., -0., -0., -0.]), tensor([-0.0000, -0.0000, -0.0000,  ..., -0.0000, -0.0000, 9.9611]), tensor([38.6843, -0.0000, -0.0000,  ..., -0.0000, -0.0000, -0.0000]), tensor([ 0.5262, -0.3664,  0.4536,  ..., -0.3597, -0.2121, -0.3281]), tensor([-0., -0., -0.,  ..., -0., -0., -0.]), tensor([-0.0000, -0.0000, -0.0000,  ..., 30.1783, -0.0000,  3.6916]), tensor([-0., -0., -0.,  ..., -0., -0., -0.]), tensor([-0., -0., -0.,  ..., -0., -0., -0.]), tensor([18.3999, -0.0000, -0.0000,  ..., -0.0000, -0.0000, 45.3672]), tensor([ 0.2349,  0.1743,  0.1660,  ...,  0.3616,  0.0957, -0.3534]), tensor([-0.2793, -0.3249, -0.3683,  ..., -0.0000, -0.0000, -0.3627]), tensor([ 0.0759, -0.3346, -0.2591,  ...,  0.4824, -0.2551, -0.1757]), tensor([ 0.4264, -0.1865, -0.1025,  ..., -0.1637,  0.7777, -0.3373]), tensor([ 0.4347, -0.2336, -0.2793,  ..., -0.3347, -0.3469, -0.1162])], 'acc': [99.51923076923077, 99.03846153846153, 99.51923076923077, 99.51923076923077, 99.51923076923077, 99.51923076923077, 98.38709677419355, 96.7741935483871, 98.38709677419355, 98.38709677419355, 8.064516129032258, 96.7741935483871, 77.08333333333333, 76.4423076923077, 78.68589743589743, 77.40384615384616, 77.24358974358974, 78.36538461538461, 94.23076923076923, 75.64102564102564], 'n_params': [6228442, 5625114, 6570290, 5347354, 5825218, 4821626, 4711646, 4554646, 6688342, 4317614, 5203934, 5550702, 5717244, 5151700, 5773028, 5059684, 6364428, 4930308, 5608818, 4493962]}\n",
      "\n",
      "=====> Generating 3th network  <=====\n",
      "\n",
      "\n",
      "=====>Generating sub_net<=====\n",
      "\n",
      "\n",
      "=====> Training started <=====\n",
      "\n",
      "Starting Training for:fcis-sc-deeplearning-competition_0_10 with model topology:[3, 7, 7, 3, 5, 7, 7, 5, 7, 3, 5, 7, 7, 3, 5, 5, 5, 3, 3, 5, 3, 4, 3, 4, 3, 4, 6, 3, 6, 3, 4, 3, 4, 4, 4, 6, 3, 3, 4, 3, 3, 3, 2, 4, 2]\n"
     ]
    },
    {
     "name": "stderr",
     "output_type": "stream",
     "text": [
      "79it [00:12,  6.57it/s]\n",
      "10it [00:01,  9.98it/s]\n"
     ]
    },
    {
     "name": "stdout",
     "output_type": "stream",
     "text": [
      "\n",
      "Epoch: 1/15, Train Loss: 39.79588711 , Val Loss: 13.75324743, Train Accuracy:64.45156125,  Val Accuracy: 88.14102564, Epoch Time: 13.27092028\n"
     ]
    },
    {
     "name": "stderr",
     "output_type": "stream",
     "text": [
      "79it [00:11,  6.59it/s]\n",
      "10it [00:01,  8.53it/s]\n"
     ]
    },
    {
     "name": "stdout",
     "output_type": "stream",
     "text": [
      "\n",
      "Epoch: 2/15, Train Loss: 16.34355872 , Val Loss: 71.02123404, Train Accuracy:85.02802242,  Val Accuracy: 31.08974359, Epoch Time: 13.37329197\n"
     ]
    },
    {
     "name": "stderr",
     "output_type": "stream",
     "text": [
      "79it [00:12,  6.55it/s]\n",
      "10it [00:01,  9.79it/s]\n"
     ]
    },
    {
     "name": "stdout",
     "output_type": "stream",
     "text": [
      "\n",
      "Epoch: 3/15, Train Loss: 15.81734696 , Val Loss: 11.88460836, Train Accuracy:83.82706165,  Val Accuracy: 86.85897436, Epoch Time: 13.32647896\n"
     ]
    },
    {
     "name": "stderr",
     "output_type": "stream",
     "text": [
      "79it [00:11,  6.64it/s]\n",
      "10it [00:01,  9.89it/s]\n"
     ]
    },
    {
     "name": "stdout",
     "output_type": "stream",
     "text": [
      "\n",
      "Epoch: 4/15, Train Loss: 8.64838692 , Val Loss: 10.20737548, Train Accuracy:91.19295436,  Val Accuracy: 88.78205128, Epoch Time: 13.14371967\n"
     ]
    },
    {
     "name": "stderr",
     "output_type": "stream",
     "text": [
      "79it [00:12,  6.48it/s]\n",
      "10it [00:01,  9.86it/s]\n"
     ]
    },
    {
     "name": "stdout",
     "output_type": "stream",
     "text": [
      "\n",
      "Epoch: 5/15, Train Loss: 6.01166495 , Val Loss: 8.66325766, Train Accuracy:94.23538831,  Val Accuracy: 90.70512821, Epoch Time: 13.47571111\n"
     ]
    },
    {
     "name": "stderr",
     "output_type": "stream",
     "text": [
      "79it [00:11,  6.66it/s]\n",
      "10it [00:01,  9.68it/s]\n"
     ]
    },
    {
     "name": "stdout",
     "output_type": "stream",
     "text": [
      "\n",
      "Epoch: 6/15, Train Loss: 3.12242713 , Val Loss: 9.41387178, Train Accuracy:97.47798239,  Val Accuracy: 90.06410256, Epoch Time: 13.15856504\n"
     ]
    },
    {
     "name": "stderr",
     "output_type": "stream",
     "text": [
      "79it [00:12,  6.51it/s]\n",
      "10it [00:01,  9.65it/s]\n"
     ]
    },
    {
     "name": "stdout",
     "output_type": "stream",
     "text": [
      "\n",
      "Epoch: 7/15, Train Loss: 2.50152910 , Val Loss: 9.84180491, Train Accuracy:98.07846277,  Val Accuracy: 91.02564103, Epoch Time: 13.39541459\n"
     ]
    },
    {
     "name": "stderr",
     "output_type": "stream",
     "text": [
      "79it [00:12,  6.54it/s]\n",
      "10it [00:00, 10.12it/s]\n"
     ]
    },
    {
     "name": "stdout",
     "output_type": "stream",
     "text": [
      "\n",
      "Epoch: 8/15, Train Loss: 1.33045660 , Val Loss: 9.64481599, Train Accuracy:99.39951962,  Val Accuracy: 89.74358974, Epoch Time: 13.32879090\n"
     ]
    },
    {
     "name": "stderr",
     "output_type": "stream",
     "text": [
      "79it [00:11,  6.63it/s]\n",
      "10it [00:01,  9.95it/s]\n"
     ]
    },
    {
     "name": "stdout",
     "output_type": "stream",
     "text": [
      "\n",
      "Epoch: 9/15, Train Loss: 1.80782131 , Val Loss: 9.88446655, Train Accuracy:98.31865492,  Val Accuracy: 90.06410256, Epoch Time: 13.17993546\n"
     ]
    },
    {
     "name": "stderr",
     "output_type": "stream",
     "text": [
      "79it [00:11,  6.59it/s]\n",
      "10it [00:01,  9.85it/s]\n",
      "Using cache found in /root/.cache/torch/hub/mit-han-lab_once-for-all_master\n"
     ]
    },
    {
     "name": "stdout",
     "output_type": "stream",
     "text": [
      "\n",
      "Epoch: 10/15, Train Loss: 1.37708105 , Val Loss: 11.17695756, Train Accuracy:98.71897518,  Val Accuracy: 90.70512821, Epoch Time: 13.21851540\n",
      "Early stopping on, 9th, epoch\n",
      "\n",
      "=====>Generating f_emb<=====\n",
      "\n",
      "torch.Size([1536])\n",
      "{'dataset': ['sldc_0_10', 'sldc_0_10', 'sldc_0_10', 'sldc_0_10', 'sldc_0_10', 'sldc_0_10', 'corales_0_14', 'corales_0_14', 'corales_0_14', 'corales_0_14', 'corales_0_14', 'corales_0_14', '6000-store-items-images-classified-by-color_imoore_0_12', '6000-store-items-images-classified-by-color_imoore_0_12', '6000-store-items-images-classified-by-color_imoore_0_12', '6000-store-items-images-classified-by-color_imoore_0_12', '6000-store-items-images-classified-by-color_imoore_0_12', '6000-store-items-images-classified-by-color_imoore_0_12', 'fcis-sc-deeplearning-competition_0_10', 'fcis-sc-deeplearning-competition_0_10', 'fcis-sc-deeplearning-competition_0_10'], 'topol': [[3, 5, 5, 5, 7, 5, 5, 7, 3, 5, 7, 7, 7, 5, 7, 5, 3, 3, 7, 3, 4, 3, 6, 3, 6, 6, 4, 4, 6, 4, 3, 6, 6, 3, 4, 6, 3, 4, 6, 3, 3, 4, 2, 4, 4], [3, 7, 7, 7, 5, 7, 5, 3, 7, 5, 3, 3, 5, 5, 3, 7, 7, 5, 3, 5, 3, 4, 6, 3, 6, 4, 6, 4, 4, 3, 3, 3, 3, 6, 6, 3, 3, 4, 6, 4, 4, 3, 2, 2, 4], [3, 7, 5, 5, 3, 7, 7, 5, 5, 5, 5, 5, 5, 7, 7, 7, 7, 7, 5, 7, 6, 6, 6, 3, 6, 3, 4, 4, 6, 6, 6, 4, 3, 6, 4, 6, 6, 4, 6, 4, 2, 3, 3, 3, 4], [7, 5, 3, 3, 5, 3, 5, 5, 5, 5, 3, 7, 7, 5, 7, 3, 3, 5, 3, 5, 3, 4, 6, 6, 6, 3, 6, 3, 6, 3, 6, 4, 4, 6, 6, 4, 6, 6, 6, 4, 2, 2, 2, 3, 2], [3, 5, 5, 7, 5, 5, 7, 3, 7, 5, 5, 5, 3, 5, 3, 7, 5, 7, 7, 3, 3, 6, 3, 3, 6, 3, 6, 6, 4, 4, 3, 4, 4, 3, 6, 6, 4, 3, 4, 3, 4, 3, 4, 4, 4], [3, 3, 5, 5, 7, 5, 5, 5, 5, 5, 3, 3, 3, 3, 3, 7, 7, 3, 5, 5, 6, 4, 3, 4, 4, 4, 3, 6, 4, 3, 6, 4, 4, 4, 6, 6, 4, 4, 3, 6, 4, 2, 4, 3, 3], [7, 7, 5, 5, 5, 5, 3, 3, 3, 5, 7, 5, 5, 3, 3, 5, 5, 5, 7, 5, 3, 4, 3, 6, 6, 4, 3, 4, 6, 6, 4, 4, 6, 4, 4, 3, 6, 4, 3, 6, 2, 4, 4, 3, 2], [3, 3, 3, 7, 7, 5, 5, 7, 7, 5, 7, 7, 7, 7, 3, 5, 7, 7, 7, 3, 6, 4, 6, 3, 3, 4, 6, 6, 3, 3, 4, 4, 4, 4, 6, 6, 3, 4, 4, 3, 2, 4, 4, 2, 3], [5, 5, 3, 5, 7, 3, 5, 7, 7, 5, 3, 7, 7, 3, 3, 7, 3, 3, 7, 3, 4, 4, 6, 6, 3, 6, 3, 6, 3, 4, 4, 6, 3, 4, 6, 3, 6, 6, 4, 4, 4, 2, 4, 4, 4], [3, 5, 3, 5, 3, 3, 7, 7, 3, 3, 5, 7, 5, 3, 7, 7, 3, 3, 3, 7, 3, 4, 6, 6, 4, 4, 6, 6, 3, 3, 3, 6, 3, 6, 3, 4, 3, 4, 6, 6, 4, 4, 4, 3, 2], [3, 7, 7, 5, 7, 3, 7, 5, 7, 7, 7, 5, 7, 5, 3, 7, 5, 5, 5, 5, 6, 3, 6, 6, 4, 6, 6, 4, 6, 6, 6, 3, 3, 3, 3, 3, 6, 6, 4, 4, 3, 4, 2, 2, 3], [7, 7, 3, 3, 5, 7, 3, 5, 5, 3, 3, 3, 5, 7, 3, 7, 7, 5, 7, 7, 6, 3, 4, 3, 3, 3, 4, 3, 3, 4, 6, 6, 6, 4, 4, 6, 6, 4, 3, 4, 2, 2, 3, 4, 3], [7, 3, 3, 3, 3, 3, 5, 7, 5, 3, 5, 5, 3, 7, 7, 7, 5, 3, 7, 5, 3, 6, 3, 6, 6, 3, 4, 3, 6, 6, 3, 4, 3, 4, 4, 3, 4, 6, 6, 4, 3, 3, 2, 3, 3], [3, 3, 7, 5, 7, 3, 5, 7, 3, 5, 3, 5, 5, 5, 5, 3, 5, 5, 3, 3, 3, 6, 6, 6, 6, 6, 4, 3, 4, 4, 6, 4, 3, 6, 3, 6, 3, 6, 4, 6, 2, 2, 2, 3, 3], [5, 3, 5, 5, 5, 5, 7, 7, 3, 7, 7, 7, 3, 3, 7, 3, 7, 5, 5, 3, 3, 3, 6, 4, 6, 4, 4, 3, 6, 4, 6, 6, 3, 6, 4, 4, 3, 4, 3, 4, 3, 3, 4, 4, 4], [5, 5, 7, 5, 5, 5, 5, 7, 3, 3, 7, 3, 7, 5, 3, 3, 5, 7, 3, 3, 4, 4, 4, 4, 3, 4, 6, 3, 4, 6, 6, 3, 6, 3, 4, 6, 6, 4, 4, 6, 2, 4, 2, 3, 3], [7, 5, 3, 3, 7, 7, 7, 7, 5, 7, 5, 3, 7, 3, 5, 7, 3, 5, 7, 5, 4, 4, 4, 6, 4, 3, 3, 6, 3, 6, 4, 6, 6, 6, 6, 6, 3, 4, 6, 4, 2, 2, 2, 4, 3], [3, 3, 3, 7, 7, 3, 3, 7, 7, 7, 7, 5, 5, 7, 7, 3, 7, 7, 5, 7, 3, 4, 3, 3, 6, 3, 6, 3, 6, 3, 6, 3, 4, 3, 3, 6, 4, 4, 3, 6, 4, 4, 2, 4, 3], [3, 7, 7, 7, 3, 5, 3, 7, 5, 3, 5, 5, 7, 3, 5, 5, 3, 7, 5, 5, 4, 3, 4, 4, 3, 4, 6, 4, 6, 4, 3, 3, 3, 3, 6, 3, 4, 6, 4, 3, 4, 2, 4, 4, 3], [7, 7, 3, 5, 5, 5, 7, 3, 3, 5, 3, 3, 5, 7, 7, 3, 3, 7, 3, 3, 3, 3, 4, 6, 4, 6, 6, 6, 4, 3, 3, 6, 6, 4, 3, 4, 6, 4, 4, 4, 2, 4, 2, 3, 2], [3, 7, 7, 3, 5, 7, 7, 5, 7, 3, 5, 7, 7, 3, 5, 5, 5, 3, 3, 5, 3, 4, 3, 4, 3, 4, 6, 3, 6, 3, 4, 3, 4, 4, 4, 6, 3, 3, 4, 3, 3, 3, 2, 4, 2]], 'f_emb': [tensor([-0., -0., -0.,  ..., -0., -0., -0.]), tensor([-0., -0., -0.,  ..., -0., -0., -0.]), tensor([1226.8495,   -0.0000,   -0.0000,  ...,   -0.0000,   -0.0000,\n",
      "          -0.0000]), tensor([-0., -0., -0.,  ..., -0., -0., -0.]), tensor([188.3607,  -0.0000,  -0.0000,  ...,  -0.0000,  -0.0000, 213.2732]), tensor([-0., -0., -0.,  ..., -0., -0., -0.]), tensor([-0., -0., -0.,  ..., -0., -0., -0.]), tensor([-0.0000, -0.0000, -0.0000,  ..., -0.0000, -0.0000, 9.9611]), tensor([38.6843, -0.0000, -0.0000,  ..., -0.0000, -0.0000, -0.0000]), tensor([ 0.5262, -0.3664,  0.4536,  ..., -0.3597, -0.2121, -0.3281]), tensor([-0., -0., -0.,  ..., -0., -0., -0.]), tensor([-0.0000, -0.0000, -0.0000,  ..., 30.1783, -0.0000,  3.6916]), tensor([-0., -0., -0.,  ..., -0., -0., -0.]), tensor([-0., -0., -0.,  ..., -0., -0., -0.]), tensor([18.3999, -0.0000, -0.0000,  ..., -0.0000, -0.0000, 45.3672]), tensor([ 0.2349,  0.1743,  0.1660,  ...,  0.3616,  0.0957, -0.3534]), tensor([-0.2793, -0.3249, -0.3683,  ..., -0.0000, -0.0000, -0.3627]), tensor([ 0.0759, -0.3346, -0.2591,  ...,  0.4824, -0.2551, -0.1757]), tensor([ 0.4264, -0.1865, -0.1025,  ..., -0.1637,  0.7777, -0.3373]), tensor([ 0.4347, -0.2336, -0.2793,  ..., -0.3347, -0.3469, -0.1162]), tensor([ 0.0104,  0.4655, -0.3177,  ..., -0.1076,  0.8267, -0.3667])], 'acc': [99.51923076923077, 99.03846153846153, 99.51923076923077, 99.51923076923077, 99.51923076923077, 99.51923076923077, 98.38709677419355, 96.7741935483871, 98.38709677419355, 98.38709677419355, 8.064516129032258, 96.7741935483871, 77.08333333333333, 76.4423076923077, 78.68589743589743, 77.40384615384616, 77.24358974358974, 78.36538461538461, 94.23076923076923, 75.64102564102564, 90.7051282051282], 'n_params': [6228442, 5625114, 6570290, 5347354, 5825218, 4821626, 4711646, 4554646, 6688342, 4317614, 5203934, 5550702, 5717244, 5151700, 5773028, 5059684, 6364428, 4930308, 5608818, 4493962, 4318938]}\n",
      "\n",
      "=====> Generating 4th network  <=====\n",
      "\n",
      "\n",
      "=====>Generating sub_net<=====\n",
      "\n",
      "\n",
      "=====> Training started <=====\n",
      "\n",
      "Starting Training for:fcis-sc-deeplearning-competition_0_10 with model topology:[3, 7, 5, 3, 3, 5, 5, 7, 5, 7, 3, 5, 3, 7, 7, 5, 5, 7, 3, 3, 3, 3, 4, 6, 3, 6, 4, 3, 6, 4, 6, 4, 6, 6, 6, 6, 3, 4, 3, 6, 4, 4, 2, 2, 3]\n"
     ]
    },
    {
     "name": "stderr",
     "output_type": "stream",
     "text": [
      "79it [00:11,  6.59it/s]\n",
      "10it [00:01,  9.75it/s]\n"
     ]
    },
    {
     "name": "stdout",
     "output_type": "stream",
     "text": [
      "\n",
      "Epoch: 1/15, Train Loss: 39.74267016 , Val Loss: 14.64719155, Train Accuracy:64.21136910,  Val Accuracy: 86.21794872, Epoch Time: 13.25652981\n"
     ]
    },
    {
     "name": "stderr",
     "output_type": "stream",
     "text": [
      "79it [00:12,  6.46it/s]\n",
      "10it [00:01,  9.70it/s]\n"
     ]
    },
    {
     "name": "stdout",
     "output_type": "stream",
     "text": [
      "\n",
      "Epoch: 2/15, Train Loss: 9.85394351 , Val Loss: 7.45369664, Train Accuracy:91.87349880,  Val Accuracy: 93.91025641, Epoch Time: 13.48027849\n"
     ]
    },
    {
     "name": "stderr",
     "output_type": "stream",
     "text": [
      "79it [00:12,  6.54it/s]\n",
      "10it [00:01,  9.88it/s]\n"
     ]
    },
    {
     "name": "stdout",
     "output_type": "stream",
     "text": [
      "\n",
      "Epoch: 3/15, Train Loss: 5.11504263 , Val Loss: 7.01026698, Train Accuracy:95.67654123,  Val Accuracy: 92.30769231, Epoch Time: 13.32108402\n"
     ]
    },
    {
     "name": "stderr",
     "output_type": "stream",
     "text": [
      "79it [00:12,  6.51it/s]\n",
      "10it [00:01,  9.94it/s]\n"
     ]
    },
    {
     "name": "stdout",
     "output_type": "stream",
     "text": [
      "\n",
      "Epoch: 4/15, Train Loss: 2.91925408 , Val Loss: 6.19396186, Train Accuracy:97.63811049,  Val Accuracy: 93.26923077, Epoch Time: 13.36002088\n"
     ]
    },
    {
     "name": "stderr",
     "output_type": "stream",
     "text": [
      "79it [00:12,  6.49it/s]\n",
      "10it [00:01,  9.17it/s]\n"
     ]
    },
    {
     "name": "stdout",
     "output_type": "stream",
     "text": [
      "\n",
      "Epoch: 5/15, Train Loss: 1.84717516 , Val Loss: 5.90044550, Train Accuracy:98.75900721,  Val Accuracy: 93.58974359, Epoch Time: 13.50710559\n"
     ]
    },
    {
     "name": "stderr",
     "output_type": "stream",
     "text": [
      "79it [00:12,  6.53it/s]\n",
      "10it [00:01,  9.83it/s]\n"
     ]
    },
    {
     "name": "stdout",
     "output_type": "stream",
     "text": [
      "\n",
      "Epoch: 6/15, Train Loss: 1.25294124 , Val Loss: 6.16253552, Train Accuracy:99.19935949,  Val Accuracy: 93.58974359, Epoch Time: 13.33408141\n"
     ]
    },
    {
     "name": "stderr",
     "output_type": "stream",
     "text": [
      "79it [00:12,  6.57it/s]\n",
      "10it [00:01,  9.74it/s]\n"
     ]
    },
    {
     "name": "stdout",
     "output_type": "stream",
     "text": [
      "\n",
      "Epoch: 7/15, Train Loss: 0.95235892 , Val Loss: 5.53691350, Train Accuracy:99.47958367,  Val Accuracy: 94.87179487, Epoch Time: 13.25720525\n"
     ]
    },
    {
     "name": "stderr",
     "output_type": "stream",
     "text": [
      "79it [00:12,  6.51it/s]\n",
      "10it [00:01,  9.38it/s]\n"
     ]
    },
    {
     "name": "stdout",
     "output_type": "stream",
     "text": [
      "\n",
      "Epoch: 8/15, Train Loss: 4.27077770 , Val Loss: 10.38965207, Train Accuracy:95.71657326,  Val Accuracy: 89.74358974, Epoch Time: 13.44666457\n"
     ]
    },
    {
     "name": "stderr",
     "output_type": "stream",
     "text": [
      "79it [00:12,  6.50it/s]\n",
      "10it [00:00, 10.11it/s]\n"
     ]
    },
    {
     "name": "stdout",
     "output_type": "stream",
     "text": [
      "\n",
      "Epoch: 9/15, Train Loss: 2.66701148 , Val Loss: 7.29585199, Train Accuracy:97.51801441,  Val Accuracy: 91.66666667, Epoch Time: 13.36321712\n"
     ]
    },
    {
     "name": "stderr",
     "output_type": "stream",
     "text": [
      "79it [00:12,  6.52it/s]\n",
      "10it [00:00, 10.03it/s]\n"
     ]
    },
    {
     "name": "stdout",
     "output_type": "stream",
     "text": [
      "\n",
      "Epoch: 10/15, Train Loss: 1.31114898 , Val Loss: 7.97555336, Train Accuracy:98.71897518,  Val Accuracy: 91.02564103, Epoch Time: 13.34594107\n"
     ]
    },
    {
     "name": "stderr",
     "output_type": "stream",
     "text": [
      "79it [00:12,  6.51it/s]\n",
      "10it [00:01,  9.39it/s]\n"
     ]
    },
    {
     "name": "stdout",
     "output_type": "stream",
     "text": [
      "\n",
      "Epoch: 11/15, Train Loss: 0.67949788 , Val Loss: 7.29249380, Train Accuracy:99.63971177,  Val Accuracy: 93.91025641, Epoch Time: 13.43529963\n"
     ]
    },
    {
     "name": "stderr",
     "output_type": "stream",
     "text": [
      "79it [00:12,  6.57it/s]\n",
      "10it [00:01,  9.68it/s]\n",
      "Using cache found in /root/.cache/torch/hub/mit-han-lab_once-for-all_master\n"
     ]
    },
    {
     "name": "stdout",
     "output_type": "stream",
     "text": [
      "\n",
      "Epoch: 12/15, Train Loss: 0.57740694 , Val Loss: 7.42445257, Train Accuracy:99.75980785,  Val Accuracy: 94.23076923, Epoch Time: 13.26576471\n",
      "Early stopping on, 11th, epoch\n",
      "\n",
      "=====>Generating f_emb<=====\n",
      "\n",
      "torch.Size([1536])\n",
      "{'dataset': ['sldc_0_10', 'sldc_0_10', 'sldc_0_10', 'sldc_0_10', 'sldc_0_10', 'sldc_0_10', 'corales_0_14', 'corales_0_14', 'corales_0_14', 'corales_0_14', 'corales_0_14', 'corales_0_14', '6000-store-items-images-classified-by-color_imoore_0_12', '6000-store-items-images-classified-by-color_imoore_0_12', '6000-store-items-images-classified-by-color_imoore_0_12', '6000-store-items-images-classified-by-color_imoore_0_12', '6000-store-items-images-classified-by-color_imoore_0_12', '6000-store-items-images-classified-by-color_imoore_0_12', 'fcis-sc-deeplearning-competition_0_10', 'fcis-sc-deeplearning-competition_0_10', 'fcis-sc-deeplearning-competition_0_10', 'fcis-sc-deeplearning-competition_0_10'], 'topol': [[3, 5, 5, 5, 7, 5, 5, 7, 3, 5, 7, 7, 7, 5, 7, 5, 3, 3, 7, 3, 4, 3, 6, 3, 6, 6, 4, 4, 6, 4, 3, 6, 6, 3, 4, 6, 3, 4, 6, 3, 3, 4, 2, 4, 4], [3, 7, 7, 7, 5, 7, 5, 3, 7, 5, 3, 3, 5, 5, 3, 7, 7, 5, 3, 5, 3, 4, 6, 3, 6, 4, 6, 4, 4, 3, 3, 3, 3, 6, 6, 3, 3, 4, 6, 4, 4, 3, 2, 2, 4], [3, 7, 5, 5, 3, 7, 7, 5, 5, 5, 5, 5, 5, 7, 7, 7, 7, 7, 5, 7, 6, 6, 6, 3, 6, 3, 4, 4, 6, 6, 6, 4, 3, 6, 4, 6, 6, 4, 6, 4, 2, 3, 3, 3, 4], [7, 5, 3, 3, 5, 3, 5, 5, 5, 5, 3, 7, 7, 5, 7, 3, 3, 5, 3, 5, 3, 4, 6, 6, 6, 3, 6, 3, 6, 3, 6, 4, 4, 6, 6, 4, 6, 6, 6, 4, 2, 2, 2, 3, 2], [3, 5, 5, 7, 5, 5, 7, 3, 7, 5, 5, 5, 3, 5, 3, 7, 5, 7, 7, 3, 3, 6, 3, 3, 6, 3, 6, 6, 4, 4, 3, 4, 4, 3, 6, 6, 4, 3, 4, 3, 4, 3, 4, 4, 4], [3, 3, 5, 5, 7, 5, 5, 5, 5, 5, 3, 3, 3, 3, 3, 7, 7, 3, 5, 5, 6, 4, 3, 4, 4, 4, 3, 6, 4, 3, 6, 4, 4, 4, 6, 6, 4, 4, 3, 6, 4, 2, 4, 3, 3], [7, 7, 5, 5, 5, 5, 3, 3, 3, 5, 7, 5, 5, 3, 3, 5, 5, 5, 7, 5, 3, 4, 3, 6, 6, 4, 3, 4, 6, 6, 4, 4, 6, 4, 4, 3, 6, 4, 3, 6, 2, 4, 4, 3, 2], [3, 3, 3, 7, 7, 5, 5, 7, 7, 5, 7, 7, 7, 7, 3, 5, 7, 7, 7, 3, 6, 4, 6, 3, 3, 4, 6, 6, 3, 3, 4, 4, 4, 4, 6, 6, 3, 4, 4, 3, 2, 4, 4, 2, 3], [5, 5, 3, 5, 7, 3, 5, 7, 7, 5, 3, 7, 7, 3, 3, 7, 3, 3, 7, 3, 4, 4, 6, 6, 3, 6, 3, 6, 3, 4, 4, 6, 3, 4, 6, 3, 6, 6, 4, 4, 4, 2, 4, 4, 4], [3, 5, 3, 5, 3, 3, 7, 7, 3, 3, 5, 7, 5, 3, 7, 7, 3, 3, 3, 7, 3, 4, 6, 6, 4, 4, 6, 6, 3, 3, 3, 6, 3, 6, 3, 4, 3, 4, 6, 6, 4, 4, 4, 3, 2], [3, 7, 7, 5, 7, 3, 7, 5, 7, 7, 7, 5, 7, 5, 3, 7, 5, 5, 5, 5, 6, 3, 6, 6, 4, 6, 6, 4, 6, 6, 6, 3, 3, 3, 3, 3, 6, 6, 4, 4, 3, 4, 2, 2, 3], [7, 7, 3, 3, 5, 7, 3, 5, 5, 3, 3, 3, 5, 7, 3, 7, 7, 5, 7, 7, 6, 3, 4, 3, 3, 3, 4, 3, 3, 4, 6, 6, 6, 4, 4, 6, 6, 4, 3, 4, 2, 2, 3, 4, 3], [7, 3, 3, 3, 3, 3, 5, 7, 5, 3, 5, 5, 3, 7, 7, 7, 5, 3, 7, 5, 3, 6, 3, 6, 6, 3, 4, 3, 6, 6, 3, 4, 3, 4, 4, 3, 4, 6, 6, 4, 3, 3, 2, 3, 3], [3, 3, 7, 5, 7, 3, 5, 7, 3, 5, 3, 5, 5, 5, 5, 3, 5, 5, 3, 3, 3, 6, 6, 6, 6, 6, 4, 3, 4, 4, 6, 4, 3, 6, 3, 6, 3, 6, 4, 6, 2, 2, 2, 3, 3], [5, 3, 5, 5, 5, 5, 7, 7, 3, 7, 7, 7, 3, 3, 7, 3, 7, 5, 5, 3, 3, 3, 6, 4, 6, 4, 4, 3, 6, 4, 6, 6, 3, 6, 4, 4, 3, 4, 3, 4, 3, 3, 4, 4, 4], [5, 5, 7, 5, 5, 5, 5, 7, 3, 3, 7, 3, 7, 5, 3, 3, 5, 7, 3, 3, 4, 4, 4, 4, 3, 4, 6, 3, 4, 6, 6, 3, 6, 3, 4, 6, 6, 4, 4, 6, 2, 4, 2, 3, 3], [7, 5, 3, 3, 7, 7, 7, 7, 5, 7, 5, 3, 7, 3, 5, 7, 3, 5, 7, 5, 4, 4, 4, 6, 4, 3, 3, 6, 3, 6, 4, 6, 6, 6, 6, 6, 3, 4, 6, 4, 2, 2, 2, 4, 3], [3, 3, 3, 7, 7, 3, 3, 7, 7, 7, 7, 5, 5, 7, 7, 3, 7, 7, 5, 7, 3, 4, 3, 3, 6, 3, 6, 3, 6, 3, 6, 3, 4, 3, 3, 6, 4, 4, 3, 6, 4, 4, 2, 4, 3], [3, 7, 7, 7, 3, 5, 3, 7, 5, 3, 5, 5, 7, 3, 5, 5, 3, 7, 5, 5, 4, 3, 4, 4, 3, 4, 6, 4, 6, 4, 3, 3, 3, 3, 6, 3, 4, 6, 4, 3, 4, 2, 4, 4, 3], [7, 7, 3, 5, 5, 5, 7, 3, 3, 5, 3, 3, 5, 7, 7, 3, 3, 7, 3, 3, 3, 3, 4, 6, 4, 6, 6, 6, 4, 3, 3, 6, 6, 4, 3, 4, 6, 4, 4, 4, 2, 4, 2, 3, 2], [3, 7, 7, 3, 5, 7, 7, 5, 7, 3, 5, 7, 7, 3, 5, 5, 5, 3, 3, 5, 3, 4, 3, 4, 3, 4, 6, 3, 6, 3, 4, 3, 4, 4, 4, 6, 3, 3, 4, 3, 3, 3, 2, 4, 2], [3, 7, 5, 3, 3, 5, 5, 7, 5, 7, 3, 5, 3, 7, 7, 5, 5, 7, 3, 3, 3, 3, 4, 6, 3, 6, 4, 3, 6, 4, 6, 4, 6, 6, 6, 6, 3, 4, 3, 6, 4, 4, 2, 2, 3]], 'f_emb': [tensor([-0., -0., -0.,  ..., -0., -0., -0.]), tensor([-0., -0., -0.,  ..., -0., -0., -0.]), tensor([1226.8495,   -0.0000,   -0.0000,  ...,   -0.0000,   -0.0000,\n",
      "          -0.0000]), tensor([-0., -0., -0.,  ..., -0., -0., -0.]), tensor([188.3607,  -0.0000,  -0.0000,  ...,  -0.0000,  -0.0000, 213.2732]), tensor([-0., -0., -0.,  ..., -0., -0., -0.]), tensor([-0., -0., -0.,  ..., -0., -0., -0.]), tensor([-0.0000, -0.0000, -0.0000,  ..., -0.0000, -0.0000, 9.9611]), tensor([38.6843, -0.0000, -0.0000,  ..., -0.0000, -0.0000, -0.0000]), tensor([ 0.5262, -0.3664,  0.4536,  ..., -0.3597, -0.2121, -0.3281]), tensor([-0., -0., -0.,  ..., -0., -0., -0.]), tensor([-0.0000, -0.0000, -0.0000,  ..., 30.1783, -0.0000,  3.6916]), tensor([-0., -0., -0.,  ..., -0., -0., -0.]), tensor([-0., -0., -0.,  ..., -0., -0., -0.]), tensor([18.3999, -0.0000, -0.0000,  ..., -0.0000, -0.0000, 45.3672]), tensor([ 0.2349,  0.1743,  0.1660,  ...,  0.3616,  0.0957, -0.3534]), tensor([-0.2793, -0.3249, -0.3683,  ..., -0.0000, -0.0000, -0.3627]), tensor([ 0.0759, -0.3346, -0.2591,  ...,  0.4824, -0.2551, -0.1757]), tensor([ 0.4264, -0.1865, -0.1025,  ..., -0.1637,  0.7777, -0.3373]), tensor([ 0.4347, -0.2336, -0.2793,  ..., -0.3347, -0.3469, -0.1162]), tensor([ 0.0104,  0.4655, -0.3177,  ..., -0.1076,  0.8267, -0.3667]), tensor([ 0.0873,  0.1475, -0.3670,  ..., -0.1698,  0.0327, -0.3572])], 'acc': [99.51923076923077, 99.03846153846153, 99.51923076923077, 99.51923076923077, 99.51923076923077, 99.51923076923077, 98.38709677419355, 96.7741935483871, 98.38709677419355, 98.38709677419355, 8.064516129032258, 96.7741935483871, 77.08333333333333, 76.4423076923077, 78.68589743589743, 77.40384615384616, 77.24358974358974, 78.36538461538461, 94.23076923076923, 75.64102564102564, 90.7051282051282, 94.23076923076923], 'n_params': [6228442, 5625114, 6570290, 5347354, 5825218, 4821626, 4711646, 4554646, 6688342, 4317614, 5203934, 5550702, 5717244, 5151700, 5773028, 5059684, 6364428, 4930308, 5608818, 4493962, 4318938, 4537954]}\n",
      "\n",
      "=====> Generating 5th network  <=====\n",
      "\n",
      "\n",
      "=====>Generating sub_net<=====\n",
      "\n",
      "\n",
      "=====> Training started <=====\n",
      "\n",
      "Starting Training for:fcis-sc-deeplearning-competition_0_10 with model topology:[3, 7, 3, 3, 5, 7, 5, 7, 5, 7, 7, 7, 7, 3, 3, 3, 7, 3, 3, 3, 6, 4, 4, 3, 4, 6, 4, 6, 4, 6, 6, 4, 4, 3, 3, 3, 6, 4, 3, 3, 2, 4, 4, 4, 4]\n"
     ]
    },
    {
     "name": "stderr",
     "output_type": "stream",
     "text": [
      "79it [00:13,  5.67it/s]\n",
      "10it [00:01,  9.55it/s]\n"
     ]
    },
    {
     "name": "stdout",
     "output_type": "stream",
     "text": [
      "\n",
      "Epoch: 1/15, Train Loss: 39.27557802 , Val Loss: 13.29584426, Train Accuracy:65.97277822,  Val Accuracy: 88.46153846, Epoch Time: 15.21505642\n"
     ]
    },
    {
     "name": "stderr",
     "output_type": "stream",
     "text": [
      "79it [00:13,  5.71it/s]\n",
      "10it [00:01,  8.28it/s]\n"
     ]
    },
    {
     "name": "stdout",
     "output_type": "stream",
     "text": [
      "\n",
      "Epoch: 2/15, Train Loss: 10.07907955 , Val Loss: 8.12172234, Train Accuracy:91.11289031,  Val Accuracy: 91.98717949, Epoch Time: 15.29729581\n"
     ]
    },
    {
     "name": "stderr",
     "output_type": "stream",
     "text": [
      "79it [00:13,  5.72it/s]\n",
      "10it [00:01,  9.75it/s]\n"
     ]
    },
    {
     "name": "stdout",
     "output_type": "stream",
     "text": [
      "\n",
      "Epoch: 3/15, Train Loss: 4.68844321 , Val Loss: 7.41060271, Train Accuracy:96.03682946,  Val Accuracy: 92.30769231, Epoch Time: 15.12190986\n"
     ]
    },
    {
     "name": "stderr",
     "output_type": "stream",
     "text": [
      "79it [00:13,  5.73it/s]\n",
      "10it [00:01,  9.85it/s]\n"
     ]
    },
    {
     "name": "stdout",
     "output_type": "stream",
     "text": [
      "\n",
      "Epoch: 4/15, Train Loss: 2.51255531 , Val Loss: 8.31704963, Train Accuracy:98.31865492,  Val Accuracy: 91.98717949, Epoch Time: 15.06497359\n"
     ]
    },
    {
     "name": "stderr",
     "output_type": "stream",
     "text": [
      "79it [00:13,  5.77it/s]\n",
      "10it [00:01,  7.67it/s]\n"
     ]
    },
    {
     "name": "stdout",
     "output_type": "stream",
     "text": [
      "\n",
      "Epoch: 5/15, Train Loss: 1.50679507 , Val Loss: 7.74414705, Train Accuracy:99.23939151,  Val Accuracy: 91.98717949, Epoch Time: 15.23849988\n"
     ]
    },
    {
     "name": "stderr",
     "output_type": "stream",
     "text": [
      "79it [00:13,  5.72it/s]\n",
      "10it [00:01,  9.42it/s]\n"
     ]
    },
    {
     "name": "stdout",
     "output_type": "stream",
     "text": [
      "\n",
      "Epoch: 6/15, Train Loss: 1.10471378 , Val Loss: 7.59442667, Train Accuracy:99.39951962,  Val Accuracy: 93.91025641, Epoch Time: 15.16543150\n"
     ]
    },
    {
     "name": "stderr",
     "output_type": "stream",
     "text": [
      "79it [00:13,  5.73it/s]\n",
      "10it [00:01,  9.77it/s]\n"
     ]
    },
    {
     "name": "stdout",
     "output_type": "stream",
     "text": [
      "\n",
      "Epoch: 7/15, Train Loss: 0.87389741 , Val Loss: 8.18797383, Train Accuracy:99.59967974,  Val Accuracy: 91.98717949, Epoch Time: 15.02305794\n"
     ]
    },
    {
     "name": "stderr",
     "output_type": "stream",
     "text": [
      "79it [00:13,  5.74it/s]\n",
      "10it [00:01,  9.52it/s]\n"
     ]
    },
    {
     "name": "stdout",
     "output_type": "stream",
     "text": [
      "\n",
      "Epoch: 8/15, Train Loss: 0.71026304 , Val Loss: 6.67847516, Train Accuracy:99.67974380,  Val Accuracy: 93.26923077, Epoch Time: 15.04879189\n"
     ]
    },
    {
     "name": "stderr",
     "output_type": "stream",
     "text": [
      "79it [00:13,  5.79it/s]\n",
      "10it [00:01,  9.68it/s]\n"
     ]
    },
    {
     "name": "stdout",
     "output_type": "stream",
     "text": [
      "\n",
      "Epoch: 9/15, Train Loss: 0.54302506 , Val Loss: 7.40186229, Train Accuracy:99.67974380,  Val Accuracy: 93.58974359, Epoch Time: 14.91061497\n"
     ]
    },
    {
     "name": "stderr",
     "output_type": "stream",
     "text": [
      "79it [00:13,  5.73it/s]\n",
      "10it [00:01,  9.29it/s]\n"
     ]
    },
    {
     "name": "stdout",
     "output_type": "stream",
     "text": [
      "\n",
      "Epoch: 10/15, Train Loss: 0.91150393 , Val Loss: 7.20101735, Train Accuracy:99.43955164,  Val Accuracy: 93.91025641, Epoch Time: 15.10688090\n"
     ]
    },
    {
     "name": "stderr",
     "output_type": "stream",
     "text": [
      "79it [00:13,  5.75it/s]\n",
      "10it [00:01,  5.85it/s]\n"
     ]
    },
    {
     "name": "stdout",
     "output_type": "stream",
     "text": [
      "\n",
      "Epoch: 11/15, Train Loss: 0.41541279 , Val Loss: 7.93985673, Train Accuracy:99.91993595,  Val Accuracy: 92.94871795, Epoch Time: 15.68190908\n"
     ]
    },
    {
     "name": "stderr",
     "output_type": "stream",
     "text": [
      "79it [00:13,  5.69it/s]\n",
      "10it [00:01,  9.65it/s]\n"
     ]
    },
    {
     "name": "stdout",
     "output_type": "stream",
     "text": [
      "\n",
      "Epoch: 12/15, Train Loss: 1.04887246 , Val Loss: 9.05400149, Train Accuracy:99.07926341,  Val Accuracy: 91.98717949, Epoch Time: 15.13161826\n"
     ]
    },
    {
     "name": "stderr",
     "output_type": "stream",
     "text": [
      "79it [00:13,  5.73it/s]\n",
      "10it [00:01,  9.93it/s]\n",
      "Using cache found in /root/.cache/torch/hub/mit-han-lab_once-for-all_master\n"
     ]
    },
    {
     "name": "stdout",
     "output_type": "stream",
     "text": [
      "\n",
      "Epoch: 13/15, Train Loss: 0.57564269 , Val Loss: 9.84218228, Train Accuracy:99.75980785,  Val Accuracy: 91.34615385, Epoch Time: 15.07047415\n",
      "Early stopping on, 12th, epoch\n",
      "\n",
      "=====>Generating f_emb<=====\n",
      "\n",
      "torch.Size([1536])\n",
      "{'dataset': ['sldc_0_10', 'sldc_0_10', 'sldc_0_10', 'sldc_0_10', 'sldc_0_10', 'sldc_0_10', 'corales_0_14', 'corales_0_14', 'corales_0_14', 'corales_0_14', 'corales_0_14', 'corales_0_14', '6000-store-items-images-classified-by-color_imoore_0_12', '6000-store-items-images-classified-by-color_imoore_0_12', '6000-store-items-images-classified-by-color_imoore_0_12', '6000-store-items-images-classified-by-color_imoore_0_12', '6000-store-items-images-classified-by-color_imoore_0_12', '6000-store-items-images-classified-by-color_imoore_0_12', 'fcis-sc-deeplearning-competition_0_10', 'fcis-sc-deeplearning-competition_0_10', 'fcis-sc-deeplearning-competition_0_10', 'fcis-sc-deeplearning-competition_0_10', 'fcis-sc-deeplearning-competition_0_10'], 'topol': [[3, 5, 5, 5, 7, 5, 5, 7, 3, 5, 7, 7, 7, 5, 7, 5, 3, 3, 7, 3, 4, 3, 6, 3, 6, 6, 4, 4, 6, 4, 3, 6, 6, 3, 4, 6, 3, 4, 6, 3, 3, 4, 2, 4, 4], [3, 7, 7, 7, 5, 7, 5, 3, 7, 5, 3, 3, 5, 5, 3, 7, 7, 5, 3, 5, 3, 4, 6, 3, 6, 4, 6, 4, 4, 3, 3, 3, 3, 6, 6, 3, 3, 4, 6, 4, 4, 3, 2, 2, 4], [3, 7, 5, 5, 3, 7, 7, 5, 5, 5, 5, 5, 5, 7, 7, 7, 7, 7, 5, 7, 6, 6, 6, 3, 6, 3, 4, 4, 6, 6, 6, 4, 3, 6, 4, 6, 6, 4, 6, 4, 2, 3, 3, 3, 4], [7, 5, 3, 3, 5, 3, 5, 5, 5, 5, 3, 7, 7, 5, 7, 3, 3, 5, 3, 5, 3, 4, 6, 6, 6, 3, 6, 3, 6, 3, 6, 4, 4, 6, 6, 4, 6, 6, 6, 4, 2, 2, 2, 3, 2], [3, 5, 5, 7, 5, 5, 7, 3, 7, 5, 5, 5, 3, 5, 3, 7, 5, 7, 7, 3, 3, 6, 3, 3, 6, 3, 6, 6, 4, 4, 3, 4, 4, 3, 6, 6, 4, 3, 4, 3, 4, 3, 4, 4, 4], [3, 3, 5, 5, 7, 5, 5, 5, 5, 5, 3, 3, 3, 3, 3, 7, 7, 3, 5, 5, 6, 4, 3, 4, 4, 4, 3, 6, 4, 3, 6, 4, 4, 4, 6, 6, 4, 4, 3, 6, 4, 2, 4, 3, 3], [7, 7, 5, 5, 5, 5, 3, 3, 3, 5, 7, 5, 5, 3, 3, 5, 5, 5, 7, 5, 3, 4, 3, 6, 6, 4, 3, 4, 6, 6, 4, 4, 6, 4, 4, 3, 6, 4, 3, 6, 2, 4, 4, 3, 2], [3, 3, 3, 7, 7, 5, 5, 7, 7, 5, 7, 7, 7, 7, 3, 5, 7, 7, 7, 3, 6, 4, 6, 3, 3, 4, 6, 6, 3, 3, 4, 4, 4, 4, 6, 6, 3, 4, 4, 3, 2, 4, 4, 2, 3], [5, 5, 3, 5, 7, 3, 5, 7, 7, 5, 3, 7, 7, 3, 3, 7, 3, 3, 7, 3, 4, 4, 6, 6, 3, 6, 3, 6, 3, 4, 4, 6, 3, 4, 6, 3, 6, 6, 4, 4, 4, 2, 4, 4, 4], [3, 5, 3, 5, 3, 3, 7, 7, 3, 3, 5, 7, 5, 3, 7, 7, 3, 3, 3, 7, 3, 4, 6, 6, 4, 4, 6, 6, 3, 3, 3, 6, 3, 6, 3, 4, 3, 4, 6, 6, 4, 4, 4, 3, 2], [3, 7, 7, 5, 7, 3, 7, 5, 7, 7, 7, 5, 7, 5, 3, 7, 5, 5, 5, 5, 6, 3, 6, 6, 4, 6, 6, 4, 6, 6, 6, 3, 3, 3, 3, 3, 6, 6, 4, 4, 3, 4, 2, 2, 3], [7, 7, 3, 3, 5, 7, 3, 5, 5, 3, 3, 3, 5, 7, 3, 7, 7, 5, 7, 7, 6, 3, 4, 3, 3, 3, 4, 3, 3, 4, 6, 6, 6, 4, 4, 6, 6, 4, 3, 4, 2, 2, 3, 4, 3], [7, 3, 3, 3, 3, 3, 5, 7, 5, 3, 5, 5, 3, 7, 7, 7, 5, 3, 7, 5, 3, 6, 3, 6, 6, 3, 4, 3, 6, 6, 3, 4, 3, 4, 4, 3, 4, 6, 6, 4, 3, 3, 2, 3, 3], [3, 3, 7, 5, 7, 3, 5, 7, 3, 5, 3, 5, 5, 5, 5, 3, 5, 5, 3, 3, 3, 6, 6, 6, 6, 6, 4, 3, 4, 4, 6, 4, 3, 6, 3, 6, 3, 6, 4, 6, 2, 2, 2, 3, 3], [5, 3, 5, 5, 5, 5, 7, 7, 3, 7, 7, 7, 3, 3, 7, 3, 7, 5, 5, 3, 3, 3, 6, 4, 6, 4, 4, 3, 6, 4, 6, 6, 3, 6, 4, 4, 3, 4, 3, 4, 3, 3, 4, 4, 4], [5, 5, 7, 5, 5, 5, 5, 7, 3, 3, 7, 3, 7, 5, 3, 3, 5, 7, 3, 3, 4, 4, 4, 4, 3, 4, 6, 3, 4, 6, 6, 3, 6, 3, 4, 6, 6, 4, 4, 6, 2, 4, 2, 3, 3], [7, 5, 3, 3, 7, 7, 7, 7, 5, 7, 5, 3, 7, 3, 5, 7, 3, 5, 7, 5, 4, 4, 4, 6, 4, 3, 3, 6, 3, 6, 4, 6, 6, 6, 6, 6, 3, 4, 6, 4, 2, 2, 2, 4, 3], [3, 3, 3, 7, 7, 3, 3, 7, 7, 7, 7, 5, 5, 7, 7, 3, 7, 7, 5, 7, 3, 4, 3, 3, 6, 3, 6, 3, 6, 3, 6, 3, 4, 3, 3, 6, 4, 4, 3, 6, 4, 4, 2, 4, 3], [3, 7, 7, 7, 3, 5, 3, 7, 5, 3, 5, 5, 7, 3, 5, 5, 3, 7, 5, 5, 4, 3, 4, 4, 3, 4, 6, 4, 6, 4, 3, 3, 3, 3, 6, 3, 4, 6, 4, 3, 4, 2, 4, 4, 3], [7, 7, 3, 5, 5, 5, 7, 3, 3, 5, 3, 3, 5, 7, 7, 3, 3, 7, 3, 3, 3, 3, 4, 6, 4, 6, 6, 6, 4, 3, 3, 6, 6, 4, 3, 4, 6, 4, 4, 4, 2, 4, 2, 3, 2], [3, 7, 7, 3, 5, 7, 7, 5, 7, 3, 5, 7, 7, 3, 5, 5, 5, 3, 3, 5, 3, 4, 3, 4, 3, 4, 6, 3, 6, 3, 4, 3, 4, 4, 4, 6, 3, 3, 4, 3, 3, 3, 2, 4, 2], [3, 7, 5, 3, 3, 5, 5, 7, 5, 7, 3, 5, 3, 7, 7, 5, 5, 7, 3, 3, 3, 3, 4, 6, 3, 6, 4, 3, 6, 4, 6, 4, 6, 6, 6, 6, 3, 4, 3, 6, 4, 4, 2, 2, 3], [3, 7, 3, 3, 5, 7, 5, 7, 5, 7, 7, 7, 7, 3, 3, 3, 7, 3, 3, 3, 6, 4, 4, 3, 4, 6, 4, 6, 4, 6, 6, 4, 4, 3, 3, 3, 6, 4, 3, 3, 2, 4, 4, 4, 4]], 'f_emb': [tensor([-0., -0., -0.,  ..., -0., -0., -0.]), tensor([-0., -0., -0.,  ..., -0., -0., -0.]), tensor([1226.8495,   -0.0000,   -0.0000,  ...,   -0.0000,   -0.0000,\n",
      "          -0.0000]), tensor([-0., -0., -0.,  ..., -0., -0., -0.]), tensor([188.3607,  -0.0000,  -0.0000,  ...,  -0.0000,  -0.0000, 213.2732]), tensor([-0., -0., -0.,  ..., -0., -0., -0.]), tensor([-0., -0., -0.,  ..., -0., -0., -0.]), tensor([-0.0000, -0.0000, -0.0000,  ..., -0.0000, -0.0000, 9.9611]), tensor([38.6843, -0.0000, -0.0000,  ..., -0.0000, -0.0000, -0.0000]), tensor([ 0.5262, -0.3664,  0.4536,  ..., -0.3597, -0.2121, -0.3281]), tensor([-0., -0., -0.,  ..., -0., -0., -0.]), tensor([-0.0000, -0.0000, -0.0000,  ..., 30.1783, -0.0000,  3.6916]), tensor([-0., -0., -0.,  ..., -0., -0., -0.]), tensor([-0., -0., -0.,  ..., -0., -0., -0.]), tensor([18.3999, -0.0000, -0.0000,  ..., -0.0000, -0.0000, 45.3672]), tensor([ 0.2349,  0.1743,  0.1660,  ...,  0.3616,  0.0957, -0.3534]), tensor([-0.2793, -0.3249, -0.3683,  ..., -0.0000, -0.0000, -0.3627]), tensor([ 0.0759, -0.3346, -0.2591,  ...,  0.4824, -0.2551, -0.1757]), tensor([ 0.4264, -0.1865, -0.1025,  ..., -0.1637,  0.7777, -0.3373]), tensor([ 0.4347, -0.2336, -0.2793,  ..., -0.3347, -0.3469, -0.1162]), tensor([ 0.0104,  0.4655, -0.3177,  ..., -0.1076,  0.8267, -0.3667]), tensor([ 0.0873,  0.1475, -0.3670,  ..., -0.1698,  0.0327, -0.3572]), tensor([322.7029,  -0.0000,  83.4842,  ...,  -0.0000,  -0.0000,  -0.0000])], 'acc': [99.51923076923077, 99.03846153846153, 99.51923076923077, 99.51923076923077, 99.51923076923077, 99.51923076923077, 98.38709677419355, 96.7741935483871, 98.38709677419355, 98.38709677419355, 8.064516129032258, 96.7741935483871, 77.08333333333333, 76.4423076923077, 78.68589743589743, 77.40384615384616, 77.24358974358974, 78.36538461538461, 94.23076923076923, 75.64102564102564, 90.7051282051282, 94.23076923076923, 91.34615384615384], 'n_params': [6228442, 5625114, 6570290, 5347354, 5825218, 4821626, 4711646, 4554646, 6688342, 4317614, 5203934, 5550702, 5717244, 5151700, 5773028, 5059684, 6364428, 4930308, 5608818, 4493962, 4318938, 4537954, 5514050]}\n",
      "\n",
      "=====> Generating 6th network  <=====\n",
      "\n",
      "\n",
      "=====>Generating sub_net<=====\n",
      "\n",
      "\n",
      "=====> Training started <=====\n",
      "\n",
      "Starting Training for:fcis-sc-deeplearning-competition_0_10 with model topology:[5, 5, 7, 5, 7, 3, 7, 7, 7, 5, 7, 3, 5, 3, 5, 7, 3, 7, 7, 5, 4, 3, 6, 6, 6, 3, 6, 3, 6, 3, 3, 6, 4, 4, 3, 3, 3, 3, 3, 3, 3, 2, 3, 4, 2]\n"
     ]
    },
    {
     "name": "stderr",
     "output_type": "stream",
     "text": [
      "79it [00:12,  6.38it/s]\n",
      "10it [00:01,  9.17it/s]\n"
     ]
    },
    {
     "name": "stdout",
     "output_type": "stream",
     "text": [
      "\n",
      "Epoch: 1/15, Train Loss: 40.14927002 , Val Loss: 15.09642465, Train Accuracy:65.17213771,  Val Accuracy: 85.57692308, Epoch Time: 13.70027637\n"
     ]
    },
    {
     "name": "stderr",
     "output_type": "stream",
     "text": [
      "79it [00:12,  6.42it/s]\n",
      "10it [00:01,  9.90it/s]\n"
     ]
    },
    {
     "name": "stdout",
     "output_type": "stream",
     "text": [
      "\n",
      "Epoch: 2/15, Train Loss: 10.41415096 , Val Loss: 7.99151696, Train Accuracy:91.27301841,  Val Accuracy: 91.98717949, Epoch Time: 13.57880902\n"
     ]
    },
    {
     "name": "stderr",
     "output_type": "stream",
     "text": [
      "79it [00:12,  6.25it/s]\n",
      "10it [00:01,  9.79it/s]\n"
     ]
    },
    {
     "name": "stdout",
     "output_type": "stream",
     "text": [
      "\n",
      "Epoch: 3/15, Train Loss: 5.09840142 , Val Loss: 7.05384611, Train Accuracy:96.07686149,  Val Accuracy: 93.58974359, Epoch Time: 13.87162709\n"
     ]
    },
    {
     "name": "stderr",
     "output_type": "stream",
     "text": [
      "79it [00:12,  6.37it/s]\n",
      "10it [00:01,  9.96it/s]\n"
     ]
    },
    {
     "name": "stdout",
     "output_type": "stream",
     "text": [
      "\n",
      "Epoch: 4/15, Train Loss: 3.48460216 , Val Loss: 6.20703416, Train Accuracy:97.59807846,  Val Accuracy: 93.58974359, Epoch Time: 13.63015485\n"
     ]
    },
    {
     "name": "stderr",
     "output_type": "stream",
     "text": [
      "79it [00:12,  6.36it/s]\n",
      "10it [00:01,  7.65it/s]\n"
     ]
    },
    {
     "name": "stdout",
     "output_type": "stream",
     "text": [
      "\n",
      "Epoch: 5/15, Train Loss: 2.07920138 , Val Loss: 6.47594394, Train Accuracy:98.83907126,  Val Accuracy: 94.23076923, Epoch Time: 13.97700763\n"
     ]
    },
    {
     "name": "stderr",
     "output_type": "stream",
     "text": [
      "79it [00:12,  6.38it/s]\n",
      "10it [00:01,  9.92it/s]\n"
     ]
    },
    {
     "name": "stdout",
     "output_type": "stream",
     "text": [
      "\n",
      "Epoch: 6/15, Train Loss: 2.12474114 , Val Loss: 6.49948111, Train Accuracy:98.59887910,  Val Accuracy: 94.23076923, Epoch Time: 13.65612864\n"
     ]
    },
    {
     "name": "stderr",
     "output_type": "stream",
     "text": [
      "79it [00:12,  6.37it/s]\n",
      "10it [00:00, 10.07it/s]\n"
     ]
    },
    {
     "name": "stdout",
     "output_type": "stream",
     "text": [
      "\n",
      "Epoch: 7/15, Train Loss: 1.77408272 , Val Loss: 5.74020137, Train Accuracy:98.43875100,  Val Accuracy: 94.55128205, Epoch Time: 13.61695170\n"
     ]
    },
    {
     "name": "stderr",
     "output_type": "stream",
     "text": [
      "79it [00:12,  6.39it/s]\n",
      "10it [00:01,  9.67it/s]\n"
     ]
    },
    {
     "name": "stdout",
     "output_type": "stream",
     "text": [
      "\n",
      "Epoch: 8/15, Train Loss: 0.84896210 , Val Loss: 6.18052798, Train Accuracy:99.55964772,  Val Accuracy: 94.23076923, Epoch Time: 13.64563179\n"
     ]
    },
    {
     "name": "stderr",
     "output_type": "stream",
     "text": [
      "79it [00:12,  6.30it/s]\n",
      "10it [00:01,  8.05it/s]\n"
     ]
    },
    {
     "name": "stdout",
     "output_type": "stream",
     "text": [
      "\n",
      "Epoch: 9/15, Train Loss: 1.23302930 , Val Loss: 6.01868987, Train Accuracy:98.79903923,  Val Accuracy: 94.23076923, Epoch Time: 13.99781275\n"
     ]
    },
    {
     "name": "stderr",
     "output_type": "stream",
     "text": [
      "79it [00:12,  6.26it/s]\n",
      "10it [00:01,  9.24it/s]\n"
     ]
    },
    {
     "name": "stdout",
     "output_type": "stream",
     "text": [
      "\n",
      "Epoch: 10/15, Train Loss: 0.82318278 , Val Loss: 6.07147478, Train Accuracy:99.55964772,  Val Accuracy: 94.87179487, Epoch Time: 13.90210128\n"
     ]
    },
    {
     "name": "stderr",
     "output_type": "stream",
     "text": [
      "79it [00:12,  6.38it/s]\n",
      "10it [00:01,  6.70it/s]\n"
     ]
    },
    {
     "name": "stdout",
     "output_type": "stream",
     "text": [
      "\n",
      "Epoch: 11/15, Train Loss: 0.44105125 , Val Loss: 5.99415467, Train Accuracy:99.79983987,  Val Accuracy: 95.83333333, Epoch Time: 14.10547042\n"
     ]
    },
    {
     "name": "stderr",
     "output_type": "stream",
     "text": [
      "79it [00:12,  6.24it/s]\n",
      "10it [00:01,  9.96it/s]\n"
     ]
    },
    {
     "name": "stdout",
     "output_type": "stream",
     "text": [
      "\n",
      "Epoch: 12/15, Train Loss: 0.38204699 , Val Loss: 6.50357232, Train Accuracy:99.87990392,  Val Accuracy: 94.23076923, Epoch Time: 13.86983538\n",
      "Early stopping on, 11th, epoch\n",
      "\n",
      "=====>Generating f_emb<=====\n",
      "\n",
      "torch.Size([1536])\n",
      "{'dataset': ['sldc_0_10', 'sldc_0_10', 'sldc_0_10', 'sldc_0_10', 'sldc_0_10', 'sldc_0_10', 'corales_0_14', 'corales_0_14', 'corales_0_14', 'corales_0_14', 'corales_0_14', 'corales_0_14', '6000-store-items-images-classified-by-color_imoore_0_12', '6000-store-items-images-classified-by-color_imoore_0_12', '6000-store-items-images-classified-by-color_imoore_0_12', '6000-store-items-images-classified-by-color_imoore_0_12', '6000-store-items-images-classified-by-color_imoore_0_12', '6000-store-items-images-classified-by-color_imoore_0_12', 'fcis-sc-deeplearning-competition_0_10', 'fcis-sc-deeplearning-competition_0_10', 'fcis-sc-deeplearning-competition_0_10', 'fcis-sc-deeplearning-competition_0_10', 'fcis-sc-deeplearning-competition_0_10', 'fcis-sc-deeplearning-competition_0_10'], 'topol': [[3, 5, 5, 5, 7, 5, 5, 7, 3, 5, 7, 7, 7, 5, 7, 5, 3, 3, 7, 3, 4, 3, 6, 3, 6, 6, 4, 4, 6, 4, 3, 6, 6, 3, 4, 6, 3, 4, 6, 3, 3, 4, 2, 4, 4], [3, 7, 7, 7, 5, 7, 5, 3, 7, 5, 3, 3, 5, 5, 3, 7, 7, 5, 3, 5, 3, 4, 6, 3, 6, 4, 6, 4, 4, 3, 3, 3, 3, 6, 6, 3, 3, 4, 6, 4, 4, 3, 2, 2, 4], [3, 7, 5, 5, 3, 7, 7, 5, 5, 5, 5, 5, 5, 7, 7, 7, 7, 7, 5, 7, 6, 6, 6, 3, 6, 3, 4, 4, 6, 6, 6, 4, 3, 6, 4, 6, 6, 4, 6, 4, 2, 3, 3, 3, 4], [7, 5, 3, 3, 5, 3, 5, 5, 5, 5, 3, 7, 7, 5, 7, 3, 3, 5, 3, 5, 3, 4, 6, 6, 6, 3, 6, 3, 6, 3, 6, 4, 4, 6, 6, 4, 6, 6, 6, 4, 2, 2, 2, 3, 2], [3, 5, 5, 7, 5, 5, 7, 3, 7, 5, 5, 5, 3, 5, 3, 7, 5, 7, 7, 3, 3, 6, 3, 3, 6, 3, 6, 6, 4, 4, 3, 4, 4, 3, 6, 6, 4, 3, 4, 3, 4, 3, 4, 4, 4], [3, 3, 5, 5, 7, 5, 5, 5, 5, 5, 3, 3, 3, 3, 3, 7, 7, 3, 5, 5, 6, 4, 3, 4, 4, 4, 3, 6, 4, 3, 6, 4, 4, 4, 6, 6, 4, 4, 3, 6, 4, 2, 4, 3, 3], [7, 7, 5, 5, 5, 5, 3, 3, 3, 5, 7, 5, 5, 3, 3, 5, 5, 5, 7, 5, 3, 4, 3, 6, 6, 4, 3, 4, 6, 6, 4, 4, 6, 4, 4, 3, 6, 4, 3, 6, 2, 4, 4, 3, 2], [3, 3, 3, 7, 7, 5, 5, 7, 7, 5, 7, 7, 7, 7, 3, 5, 7, 7, 7, 3, 6, 4, 6, 3, 3, 4, 6, 6, 3, 3, 4, 4, 4, 4, 6, 6, 3, 4, 4, 3, 2, 4, 4, 2, 3], [5, 5, 3, 5, 7, 3, 5, 7, 7, 5, 3, 7, 7, 3, 3, 7, 3, 3, 7, 3, 4, 4, 6, 6, 3, 6, 3, 6, 3, 4, 4, 6, 3, 4, 6, 3, 6, 6, 4, 4, 4, 2, 4, 4, 4], [3, 5, 3, 5, 3, 3, 7, 7, 3, 3, 5, 7, 5, 3, 7, 7, 3, 3, 3, 7, 3, 4, 6, 6, 4, 4, 6, 6, 3, 3, 3, 6, 3, 6, 3, 4, 3, 4, 6, 6, 4, 4, 4, 3, 2], [3, 7, 7, 5, 7, 3, 7, 5, 7, 7, 7, 5, 7, 5, 3, 7, 5, 5, 5, 5, 6, 3, 6, 6, 4, 6, 6, 4, 6, 6, 6, 3, 3, 3, 3, 3, 6, 6, 4, 4, 3, 4, 2, 2, 3], [7, 7, 3, 3, 5, 7, 3, 5, 5, 3, 3, 3, 5, 7, 3, 7, 7, 5, 7, 7, 6, 3, 4, 3, 3, 3, 4, 3, 3, 4, 6, 6, 6, 4, 4, 6, 6, 4, 3, 4, 2, 2, 3, 4, 3], [7, 3, 3, 3, 3, 3, 5, 7, 5, 3, 5, 5, 3, 7, 7, 7, 5, 3, 7, 5, 3, 6, 3, 6, 6, 3, 4, 3, 6, 6, 3, 4, 3, 4, 4, 3, 4, 6, 6, 4, 3, 3, 2, 3, 3], [3, 3, 7, 5, 7, 3, 5, 7, 3, 5, 3, 5, 5, 5, 5, 3, 5, 5, 3, 3, 3, 6, 6, 6, 6, 6, 4, 3, 4, 4, 6, 4, 3, 6, 3, 6, 3, 6, 4, 6, 2, 2, 2, 3, 3], [5, 3, 5, 5, 5, 5, 7, 7, 3, 7, 7, 7, 3, 3, 7, 3, 7, 5, 5, 3, 3, 3, 6, 4, 6, 4, 4, 3, 6, 4, 6, 6, 3, 6, 4, 4, 3, 4, 3, 4, 3, 3, 4, 4, 4], [5, 5, 7, 5, 5, 5, 5, 7, 3, 3, 7, 3, 7, 5, 3, 3, 5, 7, 3, 3, 4, 4, 4, 4, 3, 4, 6, 3, 4, 6, 6, 3, 6, 3, 4, 6, 6, 4, 4, 6, 2, 4, 2, 3, 3], [7, 5, 3, 3, 7, 7, 7, 7, 5, 7, 5, 3, 7, 3, 5, 7, 3, 5, 7, 5, 4, 4, 4, 6, 4, 3, 3, 6, 3, 6, 4, 6, 6, 6, 6, 6, 3, 4, 6, 4, 2, 2, 2, 4, 3], [3, 3, 3, 7, 7, 3, 3, 7, 7, 7, 7, 5, 5, 7, 7, 3, 7, 7, 5, 7, 3, 4, 3, 3, 6, 3, 6, 3, 6, 3, 6, 3, 4, 3, 3, 6, 4, 4, 3, 6, 4, 4, 2, 4, 3], [3, 7, 7, 7, 3, 5, 3, 7, 5, 3, 5, 5, 7, 3, 5, 5, 3, 7, 5, 5, 4, 3, 4, 4, 3, 4, 6, 4, 6, 4, 3, 3, 3, 3, 6, 3, 4, 6, 4, 3, 4, 2, 4, 4, 3], [7, 7, 3, 5, 5, 5, 7, 3, 3, 5, 3, 3, 5, 7, 7, 3, 3, 7, 3, 3, 3, 3, 4, 6, 4, 6, 6, 6, 4, 3, 3, 6, 6, 4, 3, 4, 6, 4, 4, 4, 2, 4, 2, 3, 2], [3, 7, 7, 3, 5, 7, 7, 5, 7, 3, 5, 7, 7, 3, 5, 5, 5, 3, 3, 5, 3, 4, 3, 4, 3, 4, 6, 3, 6, 3, 4, 3, 4, 4, 4, 6, 3, 3, 4, 3, 3, 3, 2, 4, 2], [3, 7, 5, 3, 3, 5, 5, 7, 5, 7, 3, 5, 3, 7, 7, 5, 5, 7, 3, 3, 3, 3, 4, 6, 3, 6, 4, 3, 6, 4, 6, 4, 6, 6, 6, 6, 3, 4, 3, 6, 4, 4, 2, 2, 3], [3, 7, 3, 3, 5, 7, 5, 7, 5, 7, 7, 7, 7, 3, 3, 3, 7, 3, 3, 3, 6, 4, 4, 3, 4, 6, 4, 6, 4, 6, 6, 4, 4, 3, 3, 3, 6, 4, 3, 3, 2, 4, 4, 4, 4], [5, 5, 7, 5, 7, 3, 7, 7, 7, 5, 7, 3, 5, 3, 5, 7, 3, 7, 7, 5, 4, 3, 6, 6, 6, 3, 6, 3, 6, 3, 3, 6, 4, 4, 3, 3, 3, 3, 3, 3, 3, 2, 3, 4, 2]], 'f_emb': [tensor([-0., -0., -0.,  ..., -0., -0., -0.]), tensor([-0., -0., -0.,  ..., -0., -0., -0.]), tensor([1226.8495,   -0.0000,   -0.0000,  ...,   -0.0000,   -0.0000,\n",
      "          -0.0000]), tensor([-0., -0., -0.,  ..., -0., -0., -0.]), tensor([188.3607,  -0.0000,  -0.0000,  ...,  -0.0000,  -0.0000, 213.2732]), tensor([-0., -0., -0.,  ..., -0., -0., -0.]), tensor([-0., -0., -0.,  ..., -0., -0., -0.]), tensor([-0.0000, -0.0000, -0.0000,  ..., -0.0000, -0.0000, 9.9611]), tensor([38.6843, -0.0000, -0.0000,  ..., -0.0000, -0.0000, -0.0000]), tensor([ 0.5262, -0.3664,  0.4536,  ..., -0.3597, -0.2121, -0.3281]), tensor([-0., -0., -0.,  ..., -0., -0., -0.]), tensor([-0.0000, -0.0000, -0.0000,  ..., 30.1783, -0.0000,  3.6916]), tensor([-0., -0., -0.,  ..., -0., -0., -0.]), tensor([-0., -0., -0.,  ..., -0., -0., -0.]), tensor([18.3999, -0.0000, -0.0000,  ..., -0.0000, -0.0000, 45.3672]), tensor([ 0.2349,  0.1743,  0.1660,  ...,  0.3616,  0.0957, -0.3534]), tensor([-0.2793, -0.3249, -0.3683,  ..., -0.0000, -0.0000, -0.3627]), tensor([ 0.0759, -0.3346, -0.2591,  ...,  0.4824, -0.2551, -0.1757]), tensor([ 0.4264, -0.1865, -0.1025,  ..., -0.1637,  0.7777, -0.3373]), tensor([ 0.4347, -0.2336, -0.2793,  ..., -0.3347, -0.3469, -0.1162]), tensor([ 0.0104,  0.4655, -0.3177,  ..., -0.1076,  0.8267, -0.3667]), tensor([ 0.0873,  0.1475, -0.3670,  ..., -0.1698,  0.0327, -0.3572]), tensor([322.7029,  -0.0000,  83.4842,  ...,  -0.0000,  -0.0000,  -0.0000]), tensor([-0.3365, -0.0309, -0.3139,  ...,  0.1455, -0.3260, -0.3622])], 'acc': [99.51923076923077, 99.03846153846153, 99.51923076923077, 99.51923076923077, 99.51923076923077, 99.51923076923077, 98.38709677419355, 96.7741935483871, 98.38709677419355, 98.38709677419355, 8.064516129032258, 96.7741935483871, 77.08333333333333, 76.4423076923077, 78.68589743589743, 77.40384615384616, 77.24358974358974, 78.36538461538461, 94.23076923076923, 75.64102564102564, 90.7051282051282, 94.23076923076923, 91.34615384615384, 94.23076923076923], 'n_params': [6228442, 5625114, 6570290, 5347354, 5825218, 4821626, 4711646, 4554646, 6688342, 4317614, 5203934, 5550702, 5717244, 5151700, 5773028, 5059684, 6364428, 4930308, 5608818, 4493962, 4318938, 4537954, 5514050, 3861938]}\n",
      "\n",
      "=====> GENERATING QUERIES <=====\n",
      "\n",
      "query_shape_train: 32, each tensor:torch.Size([512])\n"
     ]
    },
    {
     "name": "stderr",
     "output_type": "stream",
     "text": [
      "Using cache found in /root/.cache/torch/hub/mit-han-lab_once-for-all_master\n"
     ]
    },
    {
     "name": "stdout",
     "output_type": "stream",
     "text": [
      "query_shape_test: 32, each tensor:torch.Size([512])\n",
      "x_query:32, x_query-test :32\n",
      "\n",
      "=====>SAVING fcis-sc-deeplearning-competition_0_10 in m_train.pt <=====\n",
      "\n",
      "quesry_dataset lego-brick-images_joosthazelzet_0_16\n",
      "\n",
      "Dataset : lego-brick-images_joosthazelzet_0_16, nclss:16\n",
      "\n",
      "\n",
      "=====> Generating 1th network  <=====\n",
      "\n",
      "\n",
      "=====>Generating sub_net<=====\n",
      "\n",
      "\n",
      "=====> Training started <=====\n",
      "\n",
      "Starting Training for:lego-brick-images_joosthazelzet_0_16 with model topology:[7, 3, 7, 3, 5, 5, 3, 3, 7, 3, 7, 7, 7, 5, 5, 5, 5, 7, 5, 5, 6, 4, 3, 3, 4, 3, 3, 4, 4, 3, 6, 6, 3, 4, 4, 6, 6, 4, 6, 3, 3, 4, 4, 4, 2]\n"
     ]
    },
    {
     "name": "stderr",
     "output_type": "stream",
     "text": [
      "160it [00:29,  5.47it/s]\n",
      "20it [00:01, 10.79it/s]\n"
     ]
    },
    {
     "name": "stdout",
     "output_type": "stream",
     "text": [
      "\n",
      "Epoch: 1/15, Train Loss: 38.41471405 , Val Loss: 20.45966291, Train Accuracy:65.39290613,  Val Accuracy: 81.66144201, Epoch Time: 31.36032891\n"
     ]
    },
    {
     "name": "stderr",
     "output_type": "stream",
     "text": [
      "160it [00:29,  5.51it/s]\n",
      "20it [00:01, 15.34it/s]\n"
     ]
    },
    {
     "name": "stdout",
     "output_type": "stream",
     "text": [
      "\n",
      "Epoch: 2/15, Train Loss: 5.58741492 , Val Loss: 2.64045222, Train Accuracy:94.35626102,  Val Accuracy: 97.80564263, Epoch Time: 30.58611345\n"
     ]
    },
    {
     "name": "stderr",
     "output_type": "stream",
     "text": [
      "160it [00:29,  5.51it/s]\n",
      "20it [00:01, 15.07it/s]\n"
     ]
    },
    {
     "name": "stdout",
     "output_type": "stream",
     "text": [
      "\n",
      "Epoch: 3/15, Train Loss: 2.44209407 , Val Loss: 5.18220247, Train Accuracy:97.53086420,  Val Accuracy: 94.82758621, Epoch Time: 30.60671425\n"
     ]
    },
    {
     "name": "stderr",
     "output_type": "stream",
     "text": [
      "160it [00:29,  5.51it/s]\n",
      "20it [00:01, 15.25it/s]\n"
     ]
    },
    {
     "name": "stdout",
     "output_type": "stream",
     "text": [
      "\n",
      "Epoch: 4/15, Train Loss: 1.70541621 , Val Loss: 2.56557094, Train Accuracy:98.27552420,  Val Accuracy: 97.02194357, Epoch Time: 30.59678173\n"
     ]
    },
    {
     "name": "stderr",
     "output_type": "stream",
     "text": [
      "160it [00:29,  5.51it/s]\n",
      "20it [00:01, 15.23it/s]\n"
     ]
    },
    {
     "name": "stdout",
     "output_type": "stream",
     "text": [
      "\n",
      "Epoch: 5/15, Train Loss: 0.97707076 , Val Loss: 1.26747898, Train Accuracy:99.17695473,  Val Accuracy: 98.58934169, Epoch Time: 30.62230682\n"
     ]
    },
    {
     "name": "stderr",
     "output_type": "stream",
     "text": [
      "160it [00:29,  5.51it/s]\n",
      "20it [00:01, 15.07it/s]\n"
     ]
    },
    {
     "name": "stdout",
     "output_type": "stream",
     "text": [
      "\n",
      "Epoch: 6/15, Train Loss: 0.62688660 , Val Loss: 2.09229783, Train Accuracy:99.41211052,  Val Accuracy: 96.86520376, Epoch Time: 30.61146736\n"
     ]
    },
    {
     "name": "stderr",
     "output_type": "stream",
     "text": [
      "160it [00:29,  5.52it/s]\n",
      "20it [00:01, 15.14it/s]\n"
     ]
    },
    {
     "name": "stdout",
     "output_type": "stream",
     "text": [
      "\n",
      "Epoch: 7/15, Train Loss: 0.36515663 , Val Loss: 1.10735497, Train Accuracy:99.74524789,  Val Accuracy: 98.43260188, Epoch Time: 30.56573629\n"
     ]
    },
    {
     "name": "stderr",
     "output_type": "stream",
     "text": [
      "160it [00:29,  5.50it/s]\n",
      "20it [00:01, 14.97it/s]\n"
     ]
    },
    {
     "name": "stdout",
     "output_type": "stream",
     "text": [
      "\n",
      "Epoch: 8/15, Train Loss: 0.26101459 , Val Loss: 0.70909364, Train Accuracy:99.84322947,  Val Accuracy: 98.90282132, Epoch Time: 30.68644834\n"
     ]
    },
    {
     "name": "stderr",
     "output_type": "stream",
     "text": [
      "160it [00:29,  5.51it/s]\n",
      "20it [00:01, 15.25it/s]\n"
     ]
    },
    {
     "name": "stdout",
     "output_type": "stream",
     "text": [
      "\n",
      "Epoch: 9/15, Train Loss: 0.41108045 , Val Loss: 1.88345990, Train Accuracy:99.56888105,  Val Accuracy: 97.64890282, Epoch Time: 30.59960151\n"
     ]
    },
    {
     "name": "stderr",
     "output_type": "stream",
     "text": [
      "160it [00:29,  5.51it/s]\n",
      "20it [00:01, 15.17it/s]\n"
     ]
    },
    {
     "name": "stdout",
     "output_type": "stream",
     "text": [
      "\n",
      "Epoch: 10/15, Train Loss: 0.33531351 , Val Loss: 1.76328509, Train Accuracy:99.74524789,  Val Accuracy: 97.33542320, Epoch Time: 30.59887481\n"
     ]
    },
    {
     "name": "stderr",
     "output_type": "stream",
     "text": [
      "160it [00:29,  5.51it/s]\n",
      "20it [00:01, 15.17it/s]\n"
     ]
    },
    {
     "name": "stdout",
     "output_type": "stream",
     "text": [
      "\n",
      "Epoch: 11/15, Train Loss: 0.24290356 , Val Loss: 0.57297051, Train Accuracy:99.78444053,  Val Accuracy: 99.21630094, Epoch Time: 30.62471056\n"
     ]
    },
    {
     "name": "stderr",
     "output_type": "stream",
     "text": [
      "160it [00:29,  5.50it/s]\n",
      "20it [00:01, 15.30it/s]\n"
     ]
    },
    {
     "name": "stdout",
     "output_type": "stream",
     "text": [
      "\n",
      "Epoch: 12/15, Train Loss: 0.08610178 , Val Loss: 0.24757452, Train Accuracy:100.00000000,  Val Accuracy: 99.84326019, Epoch Time: 30.69047832\n"
     ]
    },
    {
     "name": "stderr",
     "output_type": "stream",
     "text": [
      "160it [00:29,  5.51it/s]\n",
      "20it [00:01, 13.61it/s]\n"
     ]
    },
    {
     "name": "stdout",
     "output_type": "stream",
     "text": [
      "\n",
      "Epoch: 13/15, Train Loss: 0.07285305 , Val Loss: 0.27207777, Train Accuracy:100.00000000,  Val Accuracy: 99.52978056, Epoch Time: 30.77904797\n"
     ]
    },
    {
     "name": "stderr",
     "output_type": "stream",
     "text": [
      "160it [00:28,  5.52it/s]\n",
      "20it [00:01, 14.19it/s]\n"
     ]
    },
    {
     "name": "stdout",
     "output_type": "stream",
     "text": [
      "\n",
      "Epoch: 14/15, Train Loss: 0.08911387 , Val Loss: 1.67248199, Train Accuracy:99.98040368,  Val Accuracy: 98.90282132, Epoch Time: 30.65883708\n"
     ]
    },
    {
     "name": "stderr",
     "output_type": "stream",
     "text": [
      "160it [00:29,  5.50it/s]\n",
      "20it [00:01, 15.00it/s]\n",
      "Using cache found in /root/.cache/torch/hub/mit-han-lab_once-for-all_master\n"
     ]
    },
    {
     "name": "stdout",
     "output_type": "stream",
     "text": [
      "\n",
      "Epoch: 15/15, Train Loss: 0.12342028 , Val Loss: 0.27841727, Train Accuracy:99.86282579,  Val Accuracy: 99.52978056, Epoch Time: 30.69355464\n",
      "\n",
      "=====>Generating f_emb<=====\n",
      "\n",
      "torch.Size([1536])\n",
      "{'dataset': ['sldc_0_10', 'sldc_0_10', 'sldc_0_10', 'sldc_0_10', 'sldc_0_10', 'sldc_0_10', 'corales_0_14', 'corales_0_14', 'corales_0_14', 'corales_0_14', 'corales_0_14', 'corales_0_14', '6000-store-items-images-classified-by-color_imoore_0_12', '6000-store-items-images-classified-by-color_imoore_0_12', '6000-store-items-images-classified-by-color_imoore_0_12', '6000-store-items-images-classified-by-color_imoore_0_12', '6000-store-items-images-classified-by-color_imoore_0_12', '6000-store-items-images-classified-by-color_imoore_0_12', 'fcis-sc-deeplearning-competition_0_10', 'fcis-sc-deeplearning-competition_0_10', 'fcis-sc-deeplearning-competition_0_10', 'fcis-sc-deeplearning-competition_0_10', 'fcis-sc-deeplearning-competition_0_10', 'fcis-sc-deeplearning-competition_0_10', 'lego-brick-images_joosthazelzet_0_16'], 'topol': [[3, 5, 5, 5, 7, 5, 5, 7, 3, 5, 7, 7, 7, 5, 7, 5, 3, 3, 7, 3, 4, 3, 6, 3, 6, 6, 4, 4, 6, 4, 3, 6, 6, 3, 4, 6, 3, 4, 6, 3, 3, 4, 2, 4, 4], [3, 7, 7, 7, 5, 7, 5, 3, 7, 5, 3, 3, 5, 5, 3, 7, 7, 5, 3, 5, 3, 4, 6, 3, 6, 4, 6, 4, 4, 3, 3, 3, 3, 6, 6, 3, 3, 4, 6, 4, 4, 3, 2, 2, 4], [3, 7, 5, 5, 3, 7, 7, 5, 5, 5, 5, 5, 5, 7, 7, 7, 7, 7, 5, 7, 6, 6, 6, 3, 6, 3, 4, 4, 6, 6, 6, 4, 3, 6, 4, 6, 6, 4, 6, 4, 2, 3, 3, 3, 4], [7, 5, 3, 3, 5, 3, 5, 5, 5, 5, 3, 7, 7, 5, 7, 3, 3, 5, 3, 5, 3, 4, 6, 6, 6, 3, 6, 3, 6, 3, 6, 4, 4, 6, 6, 4, 6, 6, 6, 4, 2, 2, 2, 3, 2], [3, 5, 5, 7, 5, 5, 7, 3, 7, 5, 5, 5, 3, 5, 3, 7, 5, 7, 7, 3, 3, 6, 3, 3, 6, 3, 6, 6, 4, 4, 3, 4, 4, 3, 6, 6, 4, 3, 4, 3, 4, 3, 4, 4, 4], [3, 3, 5, 5, 7, 5, 5, 5, 5, 5, 3, 3, 3, 3, 3, 7, 7, 3, 5, 5, 6, 4, 3, 4, 4, 4, 3, 6, 4, 3, 6, 4, 4, 4, 6, 6, 4, 4, 3, 6, 4, 2, 4, 3, 3], [7, 7, 5, 5, 5, 5, 3, 3, 3, 5, 7, 5, 5, 3, 3, 5, 5, 5, 7, 5, 3, 4, 3, 6, 6, 4, 3, 4, 6, 6, 4, 4, 6, 4, 4, 3, 6, 4, 3, 6, 2, 4, 4, 3, 2], [3, 3, 3, 7, 7, 5, 5, 7, 7, 5, 7, 7, 7, 7, 3, 5, 7, 7, 7, 3, 6, 4, 6, 3, 3, 4, 6, 6, 3, 3, 4, 4, 4, 4, 6, 6, 3, 4, 4, 3, 2, 4, 4, 2, 3], [5, 5, 3, 5, 7, 3, 5, 7, 7, 5, 3, 7, 7, 3, 3, 7, 3, 3, 7, 3, 4, 4, 6, 6, 3, 6, 3, 6, 3, 4, 4, 6, 3, 4, 6, 3, 6, 6, 4, 4, 4, 2, 4, 4, 4], [3, 5, 3, 5, 3, 3, 7, 7, 3, 3, 5, 7, 5, 3, 7, 7, 3, 3, 3, 7, 3, 4, 6, 6, 4, 4, 6, 6, 3, 3, 3, 6, 3, 6, 3, 4, 3, 4, 6, 6, 4, 4, 4, 3, 2], [3, 7, 7, 5, 7, 3, 7, 5, 7, 7, 7, 5, 7, 5, 3, 7, 5, 5, 5, 5, 6, 3, 6, 6, 4, 6, 6, 4, 6, 6, 6, 3, 3, 3, 3, 3, 6, 6, 4, 4, 3, 4, 2, 2, 3], [7, 7, 3, 3, 5, 7, 3, 5, 5, 3, 3, 3, 5, 7, 3, 7, 7, 5, 7, 7, 6, 3, 4, 3, 3, 3, 4, 3, 3, 4, 6, 6, 6, 4, 4, 6, 6, 4, 3, 4, 2, 2, 3, 4, 3], [7, 3, 3, 3, 3, 3, 5, 7, 5, 3, 5, 5, 3, 7, 7, 7, 5, 3, 7, 5, 3, 6, 3, 6, 6, 3, 4, 3, 6, 6, 3, 4, 3, 4, 4, 3, 4, 6, 6, 4, 3, 3, 2, 3, 3], [3, 3, 7, 5, 7, 3, 5, 7, 3, 5, 3, 5, 5, 5, 5, 3, 5, 5, 3, 3, 3, 6, 6, 6, 6, 6, 4, 3, 4, 4, 6, 4, 3, 6, 3, 6, 3, 6, 4, 6, 2, 2, 2, 3, 3], [5, 3, 5, 5, 5, 5, 7, 7, 3, 7, 7, 7, 3, 3, 7, 3, 7, 5, 5, 3, 3, 3, 6, 4, 6, 4, 4, 3, 6, 4, 6, 6, 3, 6, 4, 4, 3, 4, 3, 4, 3, 3, 4, 4, 4], [5, 5, 7, 5, 5, 5, 5, 7, 3, 3, 7, 3, 7, 5, 3, 3, 5, 7, 3, 3, 4, 4, 4, 4, 3, 4, 6, 3, 4, 6, 6, 3, 6, 3, 4, 6, 6, 4, 4, 6, 2, 4, 2, 3, 3], [7, 5, 3, 3, 7, 7, 7, 7, 5, 7, 5, 3, 7, 3, 5, 7, 3, 5, 7, 5, 4, 4, 4, 6, 4, 3, 3, 6, 3, 6, 4, 6, 6, 6, 6, 6, 3, 4, 6, 4, 2, 2, 2, 4, 3], [3, 3, 3, 7, 7, 3, 3, 7, 7, 7, 7, 5, 5, 7, 7, 3, 7, 7, 5, 7, 3, 4, 3, 3, 6, 3, 6, 3, 6, 3, 6, 3, 4, 3, 3, 6, 4, 4, 3, 6, 4, 4, 2, 4, 3], [3, 7, 7, 7, 3, 5, 3, 7, 5, 3, 5, 5, 7, 3, 5, 5, 3, 7, 5, 5, 4, 3, 4, 4, 3, 4, 6, 4, 6, 4, 3, 3, 3, 3, 6, 3, 4, 6, 4, 3, 4, 2, 4, 4, 3], [7, 7, 3, 5, 5, 5, 7, 3, 3, 5, 3, 3, 5, 7, 7, 3, 3, 7, 3, 3, 3, 3, 4, 6, 4, 6, 6, 6, 4, 3, 3, 6, 6, 4, 3, 4, 6, 4, 4, 4, 2, 4, 2, 3, 2], [3, 7, 7, 3, 5, 7, 7, 5, 7, 3, 5, 7, 7, 3, 5, 5, 5, 3, 3, 5, 3, 4, 3, 4, 3, 4, 6, 3, 6, 3, 4, 3, 4, 4, 4, 6, 3, 3, 4, 3, 3, 3, 2, 4, 2], [3, 7, 5, 3, 3, 5, 5, 7, 5, 7, 3, 5, 3, 7, 7, 5, 5, 7, 3, 3, 3, 3, 4, 6, 3, 6, 4, 3, 6, 4, 6, 4, 6, 6, 6, 6, 3, 4, 3, 6, 4, 4, 2, 2, 3], [3, 7, 3, 3, 5, 7, 5, 7, 5, 7, 7, 7, 7, 3, 3, 3, 7, 3, 3, 3, 6, 4, 4, 3, 4, 6, 4, 6, 4, 6, 6, 4, 4, 3, 3, 3, 6, 4, 3, 3, 2, 4, 4, 4, 4], [5, 5, 7, 5, 7, 3, 7, 7, 7, 5, 7, 3, 5, 3, 5, 7, 3, 7, 7, 5, 4, 3, 6, 6, 6, 3, 6, 3, 6, 3, 3, 6, 4, 4, 3, 3, 3, 3, 3, 3, 3, 2, 3, 4, 2], [7, 3, 7, 3, 5, 5, 3, 3, 7, 3, 7, 7, 7, 5, 5, 5, 5, 7, 5, 5, 6, 4, 3, 3, 4, 3, 3, 4, 4, 3, 6, 6, 3, 4, 4, 6, 6, 4, 6, 3, 3, 4, 4, 4, 2]], 'f_emb': [tensor([-0., -0., -0.,  ..., -0., -0., -0.]), tensor([-0., -0., -0.,  ..., -0., -0., -0.]), tensor([1226.8495,   -0.0000,   -0.0000,  ...,   -0.0000,   -0.0000,\n",
      "          -0.0000]), tensor([-0., -0., -0.,  ..., -0., -0., -0.]), tensor([188.3607,  -0.0000,  -0.0000,  ...,  -0.0000,  -0.0000, 213.2732]), tensor([-0., -0., -0.,  ..., -0., -0., -0.]), tensor([-0., -0., -0.,  ..., -0., -0., -0.]), tensor([-0.0000, -0.0000, -0.0000,  ..., -0.0000, -0.0000, 9.9611]), tensor([38.6843, -0.0000, -0.0000,  ..., -0.0000, -0.0000, -0.0000]), tensor([ 0.5262, -0.3664,  0.4536,  ..., -0.3597, -0.2121, -0.3281]), tensor([-0., -0., -0.,  ..., -0., -0., -0.]), tensor([-0.0000, -0.0000, -0.0000,  ..., 30.1783, -0.0000,  3.6916]), tensor([-0., -0., -0.,  ..., -0., -0., -0.]), tensor([-0., -0., -0.,  ..., -0., -0., -0.]), tensor([18.3999, -0.0000, -0.0000,  ..., -0.0000, -0.0000, 45.3672]), tensor([ 0.2349,  0.1743,  0.1660,  ...,  0.3616,  0.0957, -0.3534]), tensor([-0.2793, -0.3249, -0.3683,  ..., -0.0000, -0.0000, -0.3627]), tensor([ 0.0759, -0.3346, -0.2591,  ...,  0.4824, -0.2551, -0.1757]), tensor([ 0.4264, -0.1865, -0.1025,  ..., -0.1637,  0.7777, -0.3373]), tensor([ 0.4347, -0.2336, -0.2793,  ..., -0.3347, -0.3469, -0.1162]), tensor([ 0.0104,  0.4655, -0.3177,  ..., -0.1076,  0.8267, -0.3667]), tensor([ 0.0873,  0.1475, -0.3670,  ..., -0.1698,  0.0327, -0.3572]), tensor([322.7029,  -0.0000,  83.4842,  ...,  -0.0000,  -0.0000,  -0.0000]), tensor([-0.3365, -0.0309, -0.3139,  ...,  0.1455, -0.3260, -0.3622]), tensor([-0.0000, -0.0000, -0.0000,  ..., -0.0000, -0.0000, 3.1642])], 'acc': [99.51923076923077, 99.03846153846153, 99.51923076923077, 99.51923076923077, 99.51923076923077, 99.51923076923077, 98.38709677419355, 96.7741935483871, 98.38709677419355, 98.38709677419355, 8.064516129032258, 96.7741935483871, 77.08333333333333, 76.4423076923077, 78.68589743589743, 77.40384615384616, 77.24358974358974, 78.36538461538461, 94.23076923076923, 75.64102564102564, 90.7051282051282, 94.23076923076923, 91.34615384615384, 94.23076923076923, 99.52978056426332], 'n_params': [6228442, 5625114, 6570290, 5347354, 5825218, 4821626, 4711646, 4554646, 6688342, 4317614, 5203934, 5550702, 5717244, 5151700, 5773028, 5059684, 6364428, 4930308, 5608818, 4493962, 4318938, 4537954, 5514050, 3861938, 5155304]}\n",
      "\n",
      "=====> Generating 2th network  <=====\n",
      "\n",
      "\n",
      "=====>Generating sub_net<=====\n",
      "\n",
      "\n",
      "=====> Training started <=====\n",
      "\n",
      "Starting Training for:lego-brick-images_joosthazelzet_0_16 with model topology:[5, 5, 3, 7, 3, 7, 7, 5, 3, 7, 7, 5, 5, 7, 7, 7, 5, 7, 5, 3, 4, 4, 3, 3, 4, 3, 4, 6, 3, 3, 3, 4, 6, 6, 4, 6, 6, 4, 3, 4, 4, 4, 4, 3, 4]\n"
     ]
    },
    {
     "name": "stderr",
     "output_type": "stream",
     "text": [
      "160it [00:28,  5.62it/s]\n",
      "20it [00:01, 14.71it/s]\n"
     ]
    },
    {
     "name": "stdout",
     "output_type": "stream",
     "text": [
      "\n",
      "Epoch: 1/15, Train Loss: 31.93283907 , Val Loss: 18.23214975, Train Accuracy:71.01704879,  Val Accuracy: 79.62382445, Epoch Time: 30.13797879\n"
     ]
    },
    {
     "name": "stderr",
     "output_type": "stream",
     "text": [
      "160it [00:28,  5.64it/s]\n",
      "20it [00:01, 14.99it/s]\n"
     ]
    },
    {
     "name": "stdout",
     "output_type": "stream",
     "text": [
      "\n",
      "Epoch: 2/15, Train Loss: 5.52605232 , Val Loss: 2.45329325, Train Accuracy:94.25827944,  Val Accuracy: 97.96238245, Epoch Time: 29.94332719\n"
     ]
    },
    {
     "name": "stderr",
     "output_type": "stream",
     "text": [
      "160it [00:28,  5.63it/s]\n",
      "20it [00:01, 14.94it/s]\n"
     ]
    },
    {
     "name": "stdout",
     "output_type": "stream",
     "text": [
      "\n",
      "Epoch: 3/15, Train Loss: 2.20246573 , Val Loss: 2.75749137, Train Accuracy:97.86400157,  Val Accuracy: 96.86520376, Epoch Time: 30.04052424\n"
     ]
    },
    {
     "name": "stderr",
     "output_type": "stream",
     "text": [
      "160it [00:28,  5.65it/s]\n",
      "20it [00:01, 14.72it/s]\n"
     ]
    },
    {
     "name": "stdout",
     "output_type": "stream",
     "text": [
      "\n",
      "Epoch: 4/15, Train Loss: 1.41025694 , Val Loss: 2.94405975, Train Accuracy:98.64785420,  Val Accuracy: 96.70846395, Epoch Time: 29.97767687\n"
     ]
    },
    {
     "name": "stderr",
     "output_type": "stream",
     "text": [
      "160it [00:28,  5.63it/s]\n",
      "20it [00:01, 14.91it/s]\n"
     ]
    },
    {
     "name": "stdout",
     "output_type": "stream",
     "text": [
      "\n",
      "Epoch: 5/15, Train Loss: 0.96610017 , Val Loss: 0.97415182, Train Accuracy:99.11816578,  Val Accuracy: 99.05956113, Epoch Time: 29.99729085\n"
     ]
    },
    {
     "name": "stderr",
     "output_type": "stream",
     "text": [
      "160it [00:28,  5.63it/s]\n",
      "20it [00:01, 14.91it/s]\n"
     ]
    },
    {
     "name": "stdout",
     "output_type": "stream",
     "text": [
      "\n",
      "Epoch: 6/15, Train Loss: 0.67945439 , Val Loss: 1.18086719, Train Accuracy:99.27493631,  Val Accuracy: 98.58934169, Epoch Time: 30.06464410\n"
     ]
    },
    {
     "name": "stderr",
     "output_type": "stream",
     "text": [
      "160it [00:28,  5.63it/s]\n",
      "20it [00:01, 14.72it/s]\n"
     ]
    },
    {
     "name": "stdout",
     "output_type": "stream",
     "text": [
      "\n",
      "Epoch: 7/15, Train Loss: 0.21466834 , Val Loss: 0.42441333, Train Accuracy:99.82363316,  Val Accuracy: 99.37304075, Epoch Time: 30.07118249\n"
     ]
    },
    {
     "name": "stderr",
     "output_type": "stream",
     "text": [
      "160it [00:28,  5.63it/s]\n",
      "20it [00:01, 14.68it/s]\n"
     ]
    },
    {
     "name": "stdout",
     "output_type": "stream",
     "text": [
      "\n",
      "Epoch: 8/15, Train Loss: 0.22035498 , Val Loss: 0.41713810, Train Accuracy:99.86282579,  Val Accuracy: 99.37304075, Epoch Time: 30.02637410\n"
     ]
    },
    {
     "name": "stderr",
     "output_type": "stream",
     "text": [
      "160it [00:28,  5.63it/s]\n",
      "20it [00:01, 14.93it/s]\n"
     ]
    },
    {
     "name": "stdout",
     "output_type": "stream",
     "text": [
      "\n",
      "Epoch: 9/15, Train Loss: 0.11838340 , Val Loss: 0.59583255, Train Accuracy:99.88242210,  Val Accuracy: 99.21630094, Epoch Time: 30.03387976\n"
     ]
    },
    {
     "name": "stderr",
     "output_type": "stream",
     "text": [
      "160it [00:28,  5.63it/s]\n",
      "20it [00:01, 14.60it/s]\n"
     ]
    },
    {
     "name": "stdout",
     "output_type": "stream",
     "text": [
      "\n",
      "Epoch: 10/15, Train Loss: 0.31982829 , Val Loss: 0.27233578, Train Accuracy:99.78444053,  Val Accuracy: 99.84326019, Epoch Time: 30.03084707\n"
     ]
    },
    {
     "name": "stderr",
     "output_type": "stream",
     "text": [
      "160it [00:28,  5.62it/s]\n",
      "20it [00:01, 14.83it/s]\n"
     ]
    },
    {
     "name": "stdout",
     "output_type": "stream",
     "text": [
      "\n",
      "Epoch: 11/15, Train Loss: 0.19740654 , Val Loss: 0.74787479, Train Accuracy:99.88242210,  Val Accuracy: 99.21630094, Epoch Time: 30.04909253\n"
     ]
    },
    {
     "name": "stderr",
     "output_type": "stream",
     "text": [
      "160it [00:28,  5.63it/s]\n",
      "20it [00:01, 14.57it/s]\n"
     ]
    },
    {
     "name": "stdout",
     "output_type": "stream",
     "text": [
      "\n",
      "Epoch: 12/15, Train Loss: 0.09304705 , Val Loss: 1.03116727, Train Accuracy:99.94121105,  Val Accuracy: 98.90282132, Epoch Time: 30.06111574\n"
     ]
    },
    {
     "name": "stderr",
     "output_type": "stream",
     "text": [
      "160it [00:28,  5.63it/s]\n",
      "20it [00:01, 14.67it/s]\n"
     ]
    },
    {
     "name": "stdout",
     "output_type": "stream",
     "text": [
      "\n",
      "Epoch: 13/15, Train Loss: 0.14288387 , Val Loss: 0.42411057, Train Accuracy:99.90201842,  Val Accuracy: 99.21630094, Epoch Time: 30.01792669\n"
     ]
    },
    {
     "name": "stderr",
     "output_type": "stream",
     "text": [
      "160it [00:28,  5.64it/s]\n",
      "20it [00:01, 14.72it/s]\n"
     ]
    },
    {
     "name": "stdout",
     "output_type": "stream",
     "text": [
      "\n",
      "Epoch: 14/15, Train Loss: 0.03744369 , Val Loss: 0.52604688, Train Accuracy:100.00000000,  Val Accuracy: 99.37304075, Epoch Time: 29.97394967\n"
     ]
    },
    {
     "name": "stderr",
     "output_type": "stream",
     "text": [
      "160it [00:28,  5.63it/s]\n",
      "20it [00:01, 15.02it/s]\n",
      "Using cache found in /root/.cache/torch/hub/mit-han-lab_once-for-all_master\n"
     ]
    },
    {
     "name": "stdout",
     "output_type": "stream",
     "text": [
      "\n",
      "Epoch: 15/15, Train Loss: 0.02820693 , Val Loss: 0.41350257, Train Accuracy:100.00000000,  Val Accuracy: 99.37304075, Epoch Time: 30.03172255\n",
      "Early stopping on, 14th, epoch\n",
      "\n",
      "=====>Generating f_emb<=====\n",
      "\n",
      "torch.Size([1536])\n",
      "{'dataset': ['sldc_0_10', 'sldc_0_10', 'sldc_0_10', 'sldc_0_10', 'sldc_0_10', 'sldc_0_10', 'corales_0_14', 'corales_0_14', 'corales_0_14', 'corales_0_14', 'corales_0_14', 'corales_0_14', '6000-store-items-images-classified-by-color_imoore_0_12', '6000-store-items-images-classified-by-color_imoore_0_12', '6000-store-items-images-classified-by-color_imoore_0_12', '6000-store-items-images-classified-by-color_imoore_0_12', '6000-store-items-images-classified-by-color_imoore_0_12', '6000-store-items-images-classified-by-color_imoore_0_12', 'fcis-sc-deeplearning-competition_0_10', 'fcis-sc-deeplearning-competition_0_10', 'fcis-sc-deeplearning-competition_0_10', 'fcis-sc-deeplearning-competition_0_10', 'fcis-sc-deeplearning-competition_0_10', 'fcis-sc-deeplearning-competition_0_10', 'lego-brick-images_joosthazelzet_0_16', 'lego-brick-images_joosthazelzet_0_16'], 'topol': [[3, 5, 5, 5, 7, 5, 5, 7, 3, 5, 7, 7, 7, 5, 7, 5, 3, 3, 7, 3, 4, 3, 6, 3, 6, 6, 4, 4, 6, 4, 3, 6, 6, 3, 4, 6, 3, 4, 6, 3, 3, 4, 2, 4, 4], [3, 7, 7, 7, 5, 7, 5, 3, 7, 5, 3, 3, 5, 5, 3, 7, 7, 5, 3, 5, 3, 4, 6, 3, 6, 4, 6, 4, 4, 3, 3, 3, 3, 6, 6, 3, 3, 4, 6, 4, 4, 3, 2, 2, 4], [3, 7, 5, 5, 3, 7, 7, 5, 5, 5, 5, 5, 5, 7, 7, 7, 7, 7, 5, 7, 6, 6, 6, 3, 6, 3, 4, 4, 6, 6, 6, 4, 3, 6, 4, 6, 6, 4, 6, 4, 2, 3, 3, 3, 4], [7, 5, 3, 3, 5, 3, 5, 5, 5, 5, 3, 7, 7, 5, 7, 3, 3, 5, 3, 5, 3, 4, 6, 6, 6, 3, 6, 3, 6, 3, 6, 4, 4, 6, 6, 4, 6, 6, 6, 4, 2, 2, 2, 3, 2], [3, 5, 5, 7, 5, 5, 7, 3, 7, 5, 5, 5, 3, 5, 3, 7, 5, 7, 7, 3, 3, 6, 3, 3, 6, 3, 6, 6, 4, 4, 3, 4, 4, 3, 6, 6, 4, 3, 4, 3, 4, 3, 4, 4, 4], [3, 3, 5, 5, 7, 5, 5, 5, 5, 5, 3, 3, 3, 3, 3, 7, 7, 3, 5, 5, 6, 4, 3, 4, 4, 4, 3, 6, 4, 3, 6, 4, 4, 4, 6, 6, 4, 4, 3, 6, 4, 2, 4, 3, 3], [7, 7, 5, 5, 5, 5, 3, 3, 3, 5, 7, 5, 5, 3, 3, 5, 5, 5, 7, 5, 3, 4, 3, 6, 6, 4, 3, 4, 6, 6, 4, 4, 6, 4, 4, 3, 6, 4, 3, 6, 2, 4, 4, 3, 2], [3, 3, 3, 7, 7, 5, 5, 7, 7, 5, 7, 7, 7, 7, 3, 5, 7, 7, 7, 3, 6, 4, 6, 3, 3, 4, 6, 6, 3, 3, 4, 4, 4, 4, 6, 6, 3, 4, 4, 3, 2, 4, 4, 2, 3], [5, 5, 3, 5, 7, 3, 5, 7, 7, 5, 3, 7, 7, 3, 3, 7, 3, 3, 7, 3, 4, 4, 6, 6, 3, 6, 3, 6, 3, 4, 4, 6, 3, 4, 6, 3, 6, 6, 4, 4, 4, 2, 4, 4, 4], [3, 5, 3, 5, 3, 3, 7, 7, 3, 3, 5, 7, 5, 3, 7, 7, 3, 3, 3, 7, 3, 4, 6, 6, 4, 4, 6, 6, 3, 3, 3, 6, 3, 6, 3, 4, 3, 4, 6, 6, 4, 4, 4, 3, 2], [3, 7, 7, 5, 7, 3, 7, 5, 7, 7, 7, 5, 7, 5, 3, 7, 5, 5, 5, 5, 6, 3, 6, 6, 4, 6, 6, 4, 6, 6, 6, 3, 3, 3, 3, 3, 6, 6, 4, 4, 3, 4, 2, 2, 3], [7, 7, 3, 3, 5, 7, 3, 5, 5, 3, 3, 3, 5, 7, 3, 7, 7, 5, 7, 7, 6, 3, 4, 3, 3, 3, 4, 3, 3, 4, 6, 6, 6, 4, 4, 6, 6, 4, 3, 4, 2, 2, 3, 4, 3], [7, 3, 3, 3, 3, 3, 5, 7, 5, 3, 5, 5, 3, 7, 7, 7, 5, 3, 7, 5, 3, 6, 3, 6, 6, 3, 4, 3, 6, 6, 3, 4, 3, 4, 4, 3, 4, 6, 6, 4, 3, 3, 2, 3, 3], [3, 3, 7, 5, 7, 3, 5, 7, 3, 5, 3, 5, 5, 5, 5, 3, 5, 5, 3, 3, 3, 6, 6, 6, 6, 6, 4, 3, 4, 4, 6, 4, 3, 6, 3, 6, 3, 6, 4, 6, 2, 2, 2, 3, 3], [5, 3, 5, 5, 5, 5, 7, 7, 3, 7, 7, 7, 3, 3, 7, 3, 7, 5, 5, 3, 3, 3, 6, 4, 6, 4, 4, 3, 6, 4, 6, 6, 3, 6, 4, 4, 3, 4, 3, 4, 3, 3, 4, 4, 4], [5, 5, 7, 5, 5, 5, 5, 7, 3, 3, 7, 3, 7, 5, 3, 3, 5, 7, 3, 3, 4, 4, 4, 4, 3, 4, 6, 3, 4, 6, 6, 3, 6, 3, 4, 6, 6, 4, 4, 6, 2, 4, 2, 3, 3], [7, 5, 3, 3, 7, 7, 7, 7, 5, 7, 5, 3, 7, 3, 5, 7, 3, 5, 7, 5, 4, 4, 4, 6, 4, 3, 3, 6, 3, 6, 4, 6, 6, 6, 6, 6, 3, 4, 6, 4, 2, 2, 2, 4, 3], [3, 3, 3, 7, 7, 3, 3, 7, 7, 7, 7, 5, 5, 7, 7, 3, 7, 7, 5, 7, 3, 4, 3, 3, 6, 3, 6, 3, 6, 3, 6, 3, 4, 3, 3, 6, 4, 4, 3, 6, 4, 4, 2, 4, 3], [3, 7, 7, 7, 3, 5, 3, 7, 5, 3, 5, 5, 7, 3, 5, 5, 3, 7, 5, 5, 4, 3, 4, 4, 3, 4, 6, 4, 6, 4, 3, 3, 3, 3, 6, 3, 4, 6, 4, 3, 4, 2, 4, 4, 3], [7, 7, 3, 5, 5, 5, 7, 3, 3, 5, 3, 3, 5, 7, 7, 3, 3, 7, 3, 3, 3, 3, 4, 6, 4, 6, 6, 6, 4, 3, 3, 6, 6, 4, 3, 4, 6, 4, 4, 4, 2, 4, 2, 3, 2], [3, 7, 7, 3, 5, 7, 7, 5, 7, 3, 5, 7, 7, 3, 5, 5, 5, 3, 3, 5, 3, 4, 3, 4, 3, 4, 6, 3, 6, 3, 4, 3, 4, 4, 4, 6, 3, 3, 4, 3, 3, 3, 2, 4, 2], [3, 7, 5, 3, 3, 5, 5, 7, 5, 7, 3, 5, 3, 7, 7, 5, 5, 7, 3, 3, 3, 3, 4, 6, 3, 6, 4, 3, 6, 4, 6, 4, 6, 6, 6, 6, 3, 4, 3, 6, 4, 4, 2, 2, 3], [3, 7, 3, 3, 5, 7, 5, 7, 5, 7, 7, 7, 7, 3, 3, 3, 7, 3, 3, 3, 6, 4, 4, 3, 4, 6, 4, 6, 4, 6, 6, 4, 4, 3, 3, 3, 6, 4, 3, 3, 2, 4, 4, 4, 4], [5, 5, 7, 5, 7, 3, 7, 7, 7, 5, 7, 3, 5, 3, 5, 7, 3, 7, 7, 5, 4, 3, 6, 6, 6, 3, 6, 3, 6, 3, 3, 6, 4, 4, 3, 3, 3, 3, 3, 3, 3, 2, 3, 4, 2], [7, 3, 7, 3, 5, 5, 3, 3, 7, 3, 7, 7, 7, 5, 5, 5, 5, 7, 5, 5, 6, 4, 3, 3, 4, 3, 3, 4, 4, 3, 6, 6, 3, 4, 4, 6, 6, 4, 6, 3, 3, 4, 4, 4, 2], [5, 5, 3, 7, 3, 7, 7, 5, 3, 7, 7, 5, 5, 7, 7, 7, 5, 7, 5, 3, 4, 4, 3, 3, 4, 3, 4, 6, 3, 3, 3, 4, 6, 6, 4, 6, 6, 4, 3, 4, 4, 4, 4, 3, 4]], 'f_emb': [tensor([-0., -0., -0.,  ..., -0., -0., -0.]), tensor([-0., -0., -0.,  ..., -0., -0., -0.]), tensor([1226.8495,   -0.0000,   -0.0000,  ...,   -0.0000,   -0.0000,\n",
      "          -0.0000]), tensor([-0., -0., -0.,  ..., -0., -0., -0.]), tensor([188.3607,  -0.0000,  -0.0000,  ...,  -0.0000,  -0.0000, 213.2732]), tensor([-0., -0., -0.,  ..., -0., -0., -0.]), tensor([-0., -0., -0.,  ..., -0., -0., -0.]), tensor([-0.0000, -0.0000, -0.0000,  ..., -0.0000, -0.0000, 9.9611]), tensor([38.6843, -0.0000, -0.0000,  ..., -0.0000, -0.0000, -0.0000]), tensor([ 0.5262, -0.3664,  0.4536,  ..., -0.3597, -0.2121, -0.3281]), tensor([-0., -0., -0.,  ..., -0., -0., -0.]), tensor([-0.0000, -0.0000, -0.0000,  ..., 30.1783, -0.0000,  3.6916]), tensor([-0., -0., -0.,  ..., -0., -0., -0.]), tensor([-0., -0., -0.,  ..., -0., -0., -0.]), tensor([18.3999, -0.0000, -0.0000,  ..., -0.0000, -0.0000, 45.3672]), tensor([ 0.2349,  0.1743,  0.1660,  ...,  0.3616,  0.0957, -0.3534]), tensor([-0.2793, -0.3249, -0.3683,  ..., -0.0000, -0.0000, -0.3627]), tensor([ 0.0759, -0.3346, -0.2591,  ...,  0.4824, -0.2551, -0.1757]), tensor([ 0.4264, -0.1865, -0.1025,  ..., -0.1637,  0.7777, -0.3373]), tensor([ 0.4347, -0.2336, -0.2793,  ..., -0.3347, -0.3469, -0.1162]), tensor([ 0.0104,  0.4655, -0.3177,  ..., -0.1076,  0.8267, -0.3667]), tensor([ 0.0873,  0.1475, -0.3670,  ..., -0.1698,  0.0327, -0.3572]), tensor([322.7029,  -0.0000,  83.4842,  ...,  -0.0000,  -0.0000,  -0.0000]), tensor([-0.3365, -0.0309, -0.3139,  ...,  0.1455, -0.3260, -0.3622]), tensor([-0.0000, -0.0000, -0.0000,  ..., -0.0000, -0.0000, 3.1642]), tensor([    -0.0000,     -0.0000, 159417.2812,  ...,     -0.0000,\n",
      "            -0.0000, 179515.1562])], 'acc': [99.51923076923077, 99.03846153846153, 99.51923076923077, 99.51923076923077, 99.51923076923077, 99.51923076923077, 98.38709677419355, 96.7741935483871, 98.38709677419355, 98.38709677419355, 8.064516129032258, 96.7741935483871, 77.08333333333333, 76.4423076923077, 78.68589743589743, 77.40384615384616, 77.24358974358974, 78.36538461538461, 94.23076923076923, 75.64102564102564, 90.7051282051282, 94.23076923076923, 91.34615384615384, 94.23076923076923, 99.52978056426332, 99.3730407523511], 'n_params': [6228442, 5625114, 6570290, 5347354, 5825218, 4821626, 4711646, 4554646, 6688342, 4317614, 5203934, 5550702, 5717244, 5151700, 5773028, 5059684, 6364428, 4930308, 5608818, 4493962, 4318938, 4537954, 5514050, 3861938, 5155304, 6005320]}\n",
      "\n",
      "=====> Generating 3th network  <=====\n",
      "\n",
      "\n",
      "=====>Generating sub_net<=====\n",
      "\n",
      "\n",
      "=====> Training started <=====\n",
      "\n",
      "Starting Training for:lego-brick-images_joosthazelzet_0_16 with model topology:[5, 5, 3, 5, 7, 3, 5, 5, 3, 5, 7, 3, 5, 3, 3, 5, 7, 7, 5, 5, 4, 3, 6, 4, 6, 6, 6, 4, 3, 6, 6, 6, 4, 4, 4, 4, 3, 4, 3, 6, 2, 4, 2, 4, 3]\n"
     ]
    },
    {
     "name": "stderr",
     "output_type": "stream",
     "text": [
      "160it [00:22,  7.11it/s]\n",
      "20it [00:01, 17.41it/s]\n"
     ]
    },
    {
     "name": "stdout",
     "output_type": "stream",
     "text": [
      "\n",
      "Epoch: 1/15, Train Loss: 32.28906816 , Val Loss: 10.52877768, Train Accuracy:70.64471879,  Val Accuracy: 90.28213166, Epoch Time: 23.89461422\n"
     ]
    },
    {
     "name": "stderr",
     "output_type": "stream",
     "text": [
      "160it [00:22,  7.10it/s]\n",
      "20it [00:01, 16.88it/s]\n"
     ]
    },
    {
     "name": "stdout",
     "output_type": "stream",
     "text": [
      "\n",
      "Epoch: 2/15, Train Loss: 5.26472763 , Val Loss: 3.35536216, Train Accuracy:94.51303155,  Val Accuracy: 97.33542320, Epoch Time: 23.94680309\n"
     ]
    },
    {
     "name": "stderr",
     "output_type": "stream",
     "text": [
      "160it [00:22,  7.11it/s]\n",
      "20it [00:01, 17.30it/s]\n"
     ]
    },
    {
     "name": "stdout",
     "output_type": "stream",
     "text": [
      "\n",
      "Epoch: 3/15, Train Loss: 2.32054451 , Val Loss: 2.94130608, Train Accuracy:97.92279052,  Val Accuracy: 96.86520376, Epoch Time: 23.90045357\n"
     ]
    },
    {
     "name": "stderr",
     "output_type": "stream",
     "text": [
      "160it [00:22,  7.12it/s]\n",
      "20it [00:01, 16.88it/s]\n"
     ]
    },
    {
     "name": "stdout",
     "output_type": "stream",
     "text": [
      "\n",
      "Epoch: 4/15, Train Loss: 1.06836034 , Val Loss: 2.51141622, Train Accuracy:99.13776210,  Val Accuracy: 96.55172414, Epoch Time: 23.93412352\n"
     ]
    },
    {
     "name": "stderr",
     "output_type": "stream",
     "text": [
      "160it [00:22,  7.11it/s]\n",
      "20it [00:01, 17.40it/s]\n"
     ]
    },
    {
     "name": "stdout",
     "output_type": "stream",
     "text": [
      "\n",
      "Epoch: 5/15, Train Loss: 0.94565801 , Val Loss: 0.99297204, Train Accuracy:99.19655105,  Val Accuracy: 98.58934169, Epoch Time: 23.88838577\n"
     ]
    },
    {
     "name": "stderr",
     "output_type": "stream",
     "text": [
      "160it [00:22,  7.12it/s]\n",
      "20it [00:01, 17.16it/s]\n"
     ]
    },
    {
     "name": "stdout",
     "output_type": "stream",
     "text": [
      "\n",
      "Epoch: 6/15, Train Loss: 0.53988663 , Val Loss: 0.91066182, Train Accuracy:99.66686263,  Val Accuracy: 99.05956113, Epoch Time: 23.89531112\n"
     ]
    },
    {
     "name": "stderr",
     "output_type": "stream",
     "text": [
      "160it [00:22,  7.10it/s]\n",
      "20it [00:01, 16.96it/s]\n"
     ]
    },
    {
     "name": "stdout",
     "output_type": "stream",
     "text": [
      "\n",
      "Epoch: 7/15, Train Loss: 0.35124514 , Val Loss: 0.69601195, Train Accuracy:99.76484421,  Val Accuracy: 99.21630094, Epoch Time: 23.94280887\n"
     ]
    },
    {
     "name": "stderr",
     "output_type": "stream",
     "text": [
      "160it [00:22,  7.10it/s]\n",
      "20it [00:01, 16.92it/s]\n"
     ]
    },
    {
     "name": "stdout",
     "output_type": "stream",
     "text": [
      "\n",
      "Epoch: 8/15, Train Loss: 0.23795978 , Val Loss: 1.41417891, Train Accuracy:99.84322947,  Val Accuracy: 98.58934169, Epoch Time: 23.98397946\n"
     ]
    },
    {
     "name": "stderr",
     "output_type": "stream",
     "text": [
      "160it [00:22,  7.12it/s]\n",
      "20it [00:01, 17.25it/s]\n"
     ]
    },
    {
     "name": "stdout",
     "output_type": "stream",
     "text": [
      "\n",
      "Epoch: 9/15, Train Loss: 0.49674538 , Val Loss: 0.66335063, Train Accuracy:99.52968842,  Val Accuracy: 99.37304075, Epoch Time: 23.86962461\n"
     ]
    },
    {
     "name": "stderr",
     "output_type": "stream",
     "text": [
      "160it [00:22,  7.11it/s]\n",
      "20it [00:01, 17.00it/s]\n"
     ]
    },
    {
     "name": "stdout",
     "output_type": "stream",
     "text": [
      "\n",
      "Epoch: 10/15, Train Loss: 0.25791670 , Val Loss: 3.07065057, Train Accuracy:99.82363316,  Val Accuracy: 96.86520376, Epoch Time: 23.93127227\n"
     ]
    },
    {
     "name": "stderr",
     "output_type": "stream",
     "text": [
      "160it [00:22,  7.10it/s]\n",
      "20it [00:01, 17.47it/s]\n"
     ]
    },
    {
     "name": "stdout",
     "output_type": "stream",
     "text": [
      "\n",
      "Epoch: 11/15, Train Loss: 0.21643898 , Val Loss: 0.37149498, Train Accuracy:99.84322947,  Val Accuracy: 99.68652038, Epoch Time: 23.91932678\n"
     ]
    },
    {
     "name": "stderr",
     "output_type": "stream",
     "text": [
      "160it [00:22,  7.11it/s]\n",
      "20it [00:01, 17.25it/s]\n"
     ]
    },
    {
     "name": "stdout",
     "output_type": "stream",
     "text": [
      "\n",
      "Epoch: 12/15, Train Loss: 0.13588223 , Val Loss: 2.14895574, Train Accuracy:99.90201842,  Val Accuracy: 97.49216301, Epoch Time: 23.92824745\n"
     ]
    },
    {
     "name": "stderr",
     "output_type": "stream",
     "text": [
      "160it [00:22,  7.12it/s]\n",
      "20it [00:01, 16.93it/s]\n"
     ]
    },
    {
     "name": "stdout",
     "output_type": "stream",
     "text": [
      "\n",
      "Epoch: 13/15, Train Loss: 0.58407289 , Val Loss: 0.59881809, Train Accuracy:99.52968842,  Val Accuracy: 98.90282132, Epoch Time: 23.89903307\n"
     ]
    },
    {
     "name": "stderr",
     "output_type": "stream",
     "text": [
      "160it [00:22,  7.13it/s]\n",
      "20it [00:01, 16.35it/s]\n"
     ]
    },
    {
     "name": "stdout",
     "output_type": "stream",
     "text": [
      "\n",
      "Epoch: 14/15, Train Loss: 0.08545224 , Val Loss: 0.61259786, Train Accuracy:99.96080737,  Val Accuracy: 99.21630094, Epoch Time: 23.91757298\n"
     ]
    },
    {
     "name": "stderr",
     "output_type": "stream",
     "text": [
      "160it [00:22,  7.11it/s]\n",
      "20it [00:01, 17.43it/s]\n",
      "Using cache found in /root/.cache/torch/hub/mit-han-lab_once-for-all_master\n"
     ]
    },
    {
     "name": "stdout",
     "output_type": "stream",
     "text": [
      "\n",
      "Epoch: 15/15, Train Loss: 0.05240887 , Val Loss: 0.37291108, Train Accuracy:100.00000000,  Val Accuracy: 99.68652038, Epoch Time: 23.91162419\n",
      "\n",
      "=====>Generating f_emb<=====\n",
      "\n",
      "torch.Size([1536])\n",
      "{'dataset': ['sldc_0_10', 'sldc_0_10', 'sldc_0_10', 'sldc_0_10', 'sldc_0_10', 'sldc_0_10', 'corales_0_14', 'corales_0_14', 'corales_0_14', 'corales_0_14', 'corales_0_14', 'corales_0_14', '6000-store-items-images-classified-by-color_imoore_0_12', '6000-store-items-images-classified-by-color_imoore_0_12', '6000-store-items-images-classified-by-color_imoore_0_12', '6000-store-items-images-classified-by-color_imoore_0_12', '6000-store-items-images-classified-by-color_imoore_0_12', '6000-store-items-images-classified-by-color_imoore_0_12', 'fcis-sc-deeplearning-competition_0_10', 'fcis-sc-deeplearning-competition_0_10', 'fcis-sc-deeplearning-competition_0_10', 'fcis-sc-deeplearning-competition_0_10', 'fcis-sc-deeplearning-competition_0_10', 'fcis-sc-deeplearning-competition_0_10', 'lego-brick-images_joosthazelzet_0_16', 'lego-brick-images_joosthazelzet_0_16', 'lego-brick-images_joosthazelzet_0_16'], 'topol': [[3, 5, 5, 5, 7, 5, 5, 7, 3, 5, 7, 7, 7, 5, 7, 5, 3, 3, 7, 3, 4, 3, 6, 3, 6, 6, 4, 4, 6, 4, 3, 6, 6, 3, 4, 6, 3, 4, 6, 3, 3, 4, 2, 4, 4], [3, 7, 7, 7, 5, 7, 5, 3, 7, 5, 3, 3, 5, 5, 3, 7, 7, 5, 3, 5, 3, 4, 6, 3, 6, 4, 6, 4, 4, 3, 3, 3, 3, 6, 6, 3, 3, 4, 6, 4, 4, 3, 2, 2, 4], [3, 7, 5, 5, 3, 7, 7, 5, 5, 5, 5, 5, 5, 7, 7, 7, 7, 7, 5, 7, 6, 6, 6, 3, 6, 3, 4, 4, 6, 6, 6, 4, 3, 6, 4, 6, 6, 4, 6, 4, 2, 3, 3, 3, 4], [7, 5, 3, 3, 5, 3, 5, 5, 5, 5, 3, 7, 7, 5, 7, 3, 3, 5, 3, 5, 3, 4, 6, 6, 6, 3, 6, 3, 6, 3, 6, 4, 4, 6, 6, 4, 6, 6, 6, 4, 2, 2, 2, 3, 2], [3, 5, 5, 7, 5, 5, 7, 3, 7, 5, 5, 5, 3, 5, 3, 7, 5, 7, 7, 3, 3, 6, 3, 3, 6, 3, 6, 6, 4, 4, 3, 4, 4, 3, 6, 6, 4, 3, 4, 3, 4, 3, 4, 4, 4], [3, 3, 5, 5, 7, 5, 5, 5, 5, 5, 3, 3, 3, 3, 3, 7, 7, 3, 5, 5, 6, 4, 3, 4, 4, 4, 3, 6, 4, 3, 6, 4, 4, 4, 6, 6, 4, 4, 3, 6, 4, 2, 4, 3, 3], [7, 7, 5, 5, 5, 5, 3, 3, 3, 5, 7, 5, 5, 3, 3, 5, 5, 5, 7, 5, 3, 4, 3, 6, 6, 4, 3, 4, 6, 6, 4, 4, 6, 4, 4, 3, 6, 4, 3, 6, 2, 4, 4, 3, 2], [3, 3, 3, 7, 7, 5, 5, 7, 7, 5, 7, 7, 7, 7, 3, 5, 7, 7, 7, 3, 6, 4, 6, 3, 3, 4, 6, 6, 3, 3, 4, 4, 4, 4, 6, 6, 3, 4, 4, 3, 2, 4, 4, 2, 3], [5, 5, 3, 5, 7, 3, 5, 7, 7, 5, 3, 7, 7, 3, 3, 7, 3, 3, 7, 3, 4, 4, 6, 6, 3, 6, 3, 6, 3, 4, 4, 6, 3, 4, 6, 3, 6, 6, 4, 4, 4, 2, 4, 4, 4], [3, 5, 3, 5, 3, 3, 7, 7, 3, 3, 5, 7, 5, 3, 7, 7, 3, 3, 3, 7, 3, 4, 6, 6, 4, 4, 6, 6, 3, 3, 3, 6, 3, 6, 3, 4, 3, 4, 6, 6, 4, 4, 4, 3, 2], [3, 7, 7, 5, 7, 3, 7, 5, 7, 7, 7, 5, 7, 5, 3, 7, 5, 5, 5, 5, 6, 3, 6, 6, 4, 6, 6, 4, 6, 6, 6, 3, 3, 3, 3, 3, 6, 6, 4, 4, 3, 4, 2, 2, 3], [7, 7, 3, 3, 5, 7, 3, 5, 5, 3, 3, 3, 5, 7, 3, 7, 7, 5, 7, 7, 6, 3, 4, 3, 3, 3, 4, 3, 3, 4, 6, 6, 6, 4, 4, 6, 6, 4, 3, 4, 2, 2, 3, 4, 3], [7, 3, 3, 3, 3, 3, 5, 7, 5, 3, 5, 5, 3, 7, 7, 7, 5, 3, 7, 5, 3, 6, 3, 6, 6, 3, 4, 3, 6, 6, 3, 4, 3, 4, 4, 3, 4, 6, 6, 4, 3, 3, 2, 3, 3], [3, 3, 7, 5, 7, 3, 5, 7, 3, 5, 3, 5, 5, 5, 5, 3, 5, 5, 3, 3, 3, 6, 6, 6, 6, 6, 4, 3, 4, 4, 6, 4, 3, 6, 3, 6, 3, 6, 4, 6, 2, 2, 2, 3, 3], [5, 3, 5, 5, 5, 5, 7, 7, 3, 7, 7, 7, 3, 3, 7, 3, 7, 5, 5, 3, 3, 3, 6, 4, 6, 4, 4, 3, 6, 4, 6, 6, 3, 6, 4, 4, 3, 4, 3, 4, 3, 3, 4, 4, 4], [5, 5, 7, 5, 5, 5, 5, 7, 3, 3, 7, 3, 7, 5, 3, 3, 5, 7, 3, 3, 4, 4, 4, 4, 3, 4, 6, 3, 4, 6, 6, 3, 6, 3, 4, 6, 6, 4, 4, 6, 2, 4, 2, 3, 3], [7, 5, 3, 3, 7, 7, 7, 7, 5, 7, 5, 3, 7, 3, 5, 7, 3, 5, 7, 5, 4, 4, 4, 6, 4, 3, 3, 6, 3, 6, 4, 6, 6, 6, 6, 6, 3, 4, 6, 4, 2, 2, 2, 4, 3], [3, 3, 3, 7, 7, 3, 3, 7, 7, 7, 7, 5, 5, 7, 7, 3, 7, 7, 5, 7, 3, 4, 3, 3, 6, 3, 6, 3, 6, 3, 6, 3, 4, 3, 3, 6, 4, 4, 3, 6, 4, 4, 2, 4, 3], [3, 7, 7, 7, 3, 5, 3, 7, 5, 3, 5, 5, 7, 3, 5, 5, 3, 7, 5, 5, 4, 3, 4, 4, 3, 4, 6, 4, 6, 4, 3, 3, 3, 3, 6, 3, 4, 6, 4, 3, 4, 2, 4, 4, 3], [7, 7, 3, 5, 5, 5, 7, 3, 3, 5, 3, 3, 5, 7, 7, 3, 3, 7, 3, 3, 3, 3, 4, 6, 4, 6, 6, 6, 4, 3, 3, 6, 6, 4, 3, 4, 6, 4, 4, 4, 2, 4, 2, 3, 2], [3, 7, 7, 3, 5, 7, 7, 5, 7, 3, 5, 7, 7, 3, 5, 5, 5, 3, 3, 5, 3, 4, 3, 4, 3, 4, 6, 3, 6, 3, 4, 3, 4, 4, 4, 6, 3, 3, 4, 3, 3, 3, 2, 4, 2], [3, 7, 5, 3, 3, 5, 5, 7, 5, 7, 3, 5, 3, 7, 7, 5, 5, 7, 3, 3, 3, 3, 4, 6, 3, 6, 4, 3, 6, 4, 6, 4, 6, 6, 6, 6, 3, 4, 3, 6, 4, 4, 2, 2, 3], [3, 7, 3, 3, 5, 7, 5, 7, 5, 7, 7, 7, 7, 3, 3, 3, 7, 3, 3, 3, 6, 4, 4, 3, 4, 6, 4, 6, 4, 6, 6, 4, 4, 3, 3, 3, 6, 4, 3, 3, 2, 4, 4, 4, 4], [5, 5, 7, 5, 7, 3, 7, 7, 7, 5, 7, 3, 5, 3, 5, 7, 3, 7, 7, 5, 4, 3, 6, 6, 6, 3, 6, 3, 6, 3, 3, 6, 4, 4, 3, 3, 3, 3, 3, 3, 3, 2, 3, 4, 2], [7, 3, 7, 3, 5, 5, 3, 3, 7, 3, 7, 7, 7, 5, 5, 5, 5, 7, 5, 5, 6, 4, 3, 3, 4, 3, 3, 4, 4, 3, 6, 6, 3, 4, 4, 6, 6, 4, 6, 3, 3, 4, 4, 4, 2], [5, 5, 3, 7, 3, 7, 7, 5, 3, 7, 7, 5, 5, 7, 7, 7, 5, 7, 5, 3, 4, 4, 3, 3, 4, 3, 4, 6, 3, 3, 3, 4, 6, 6, 4, 6, 6, 4, 3, 4, 4, 4, 4, 3, 4], [5, 5, 3, 5, 7, 3, 5, 5, 3, 5, 7, 3, 5, 3, 3, 5, 7, 7, 5, 5, 4, 3, 6, 4, 6, 6, 6, 4, 3, 6, 6, 6, 4, 4, 4, 4, 3, 4, 3, 6, 2, 4, 2, 4, 3]], 'f_emb': [tensor([-0., -0., -0.,  ..., -0., -0., -0.]), tensor([-0., -0., -0.,  ..., -0., -0., -0.]), tensor([1226.8495,   -0.0000,   -0.0000,  ...,   -0.0000,   -0.0000,\n",
      "          -0.0000]), tensor([-0., -0., -0.,  ..., -0., -0., -0.]), tensor([188.3607,  -0.0000,  -0.0000,  ...,  -0.0000,  -0.0000, 213.2732]), tensor([-0., -0., -0.,  ..., -0., -0., -0.]), tensor([-0., -0., -0.,  ..., -0., -0., -0.]), tensor([-0.0000, -0.0000, -0.0000,  ..., -0.0000, -0.0000, 9.9611]), tensor([38.6843, -0.0000, -0.0000,  ..., -0.0000, -0.0000, -0.0000]), tensor([ 0.5262, -0.3664,  0.4536,  ..., -0.3597, -0.2121, -0.3281]), tensor([-0., -0., -0.,  ..., -0., -0., -0.]), tensor([-0.0000, -0.0000, -0.0000,  ..., 30.1783, -0.0000,  3.6916]), tensor([-0., -0., -0.,  ..., -0., -0., -0.]), tensor([-0., -0., -0.,  ..., -0., -0., -0.]), tensor([18.3999, -0.0000, -0.0000,  ..., -0.0000, -0.0000, 45.3672]), tensor([ 0.2349,  0.1743,  0.1660,  ...,  0.3616,  0.0957, -0.3534]), tensor([-0.2793, -0.3249, -0.3683,  ..., -0.0000, -0.0000, -0.3627]), tensor([ 0.0759, -0.3346, -0.2591,  ...,  0.4824, -0.2551, -0.1757]), tensor([ 0.4264, -0.1865, -0.1025,  ..., -0.1637,  0.7777, -0.3373]), tensor([ 0.4347, -0.2336, -0.2793,  ..., -0.3347, -0.3469, -0.1162]), tensor([ 0.0104,  0.4655, -0.3177,  ..., -0.1076,  0.8267, -0.3667]), tensor([ 0.0873,  0.1475, -0.3670,  ..., -0.1698,  0.0327, -0.3572]), tensor([322.7029,  -0.0000,  83.4842,  ...,  -0.0000,  -0.0000,  -0.0000]), tensor([-0.3365, -0.0309, -0.3139,  ...,  0.1455, -0.3260, -0.3622]), tensor([-0.0000, -0.0000, -0.0000,  ..., -0.0000, -0.0000, 3.1642]), tensor([    -0.0000,     -0.0000, 159417.2812,  ...,     -0.0000,\n",
      "            -0.0000, 179515.1562]), tensor([-0.0014, -0.3527, -0.0000,  ..., -0.0000, -0.0000, -0.0000])], 'acc': [99.51923076923077, 99.03846153846153, 99.51923076923077, 99.51923076923077, 99.51923076923077, 99.51923076923077, 98.38709677419355, 96.7741935483871, 98.38709677419355, 98.38709677419355, 8.064516129032258, 96.7741935483871, 77.08333333333333, 76.4423076923077, 78.68589743589743, 77.40384615384616, 77.24358974358974, 78.36538461538461, 94.23076923076923, 75.64102564102564, 90.7051282051282, 94.23076923076923, 91.34615384615384, 94.23076923076923, 99.52978056426332, 99.3730407523511, 99.68652037617555], 'n_params': [6228442, 5625114, 6570290, 5347354, 5825218, 4821626, 4711646, 4554646, 6688342, 4317614, 5203934, 5550702, 5717244, 5151700, 5773028, 5059684, 6364428, 4930308, 5608818, 4493962, 4318938, 4537954, 5514050, 3861938, 5155304, 6005320, 4798208]}\n",
      "\n",
      "=====> Generating 4th network  <=====\n",
      "\n",
      "\n",
      "=====>Generating sub_net<=====\n",
      "\n",
      "\n",
      "=====> Training started <=====\n",
      "\n",
      "Starting Training for:lego-brick-images_joosthazelzet_0_16 with model topology:[5, 3, 5, 3, 5, 3, 3, 3, 7, 3, 5, 7, 5, 7, 3, 7, 7, 5, 5, 3, 6, 3, 6, 6, 3, 4, 3, 4, 6, 3, 4, 6, 3, 3, 4, 4, 6, 6, 6, 4, 3, 4, 4, 4, 3]\n"
     ]
    },
    {
     "name": "stderr",
     "output_type": "stream",
     "text": [
      "160it [00:27,  5.79it/s]\n",
      "20it [00:01, 15.01it/s]\n"
     ]
    },
    {
     "name": "stdout",
     "output_type": "stream",
     "text": [
      "\n",
      "Epoch: 1/15, Train Loss: 31.09351678 , Val Loss: 7.53923272, Train Accuracy:72.29080933,  Val Accuracy: 93.10344828, Epoch Time: 29.21440101\n"
     ]
    },
    {
     "name": "stderr",
     "output_type": "stream",
     "text": [
      "160it [00:27,  5.80it/s]\n",
      "20it [00:01, 15.27it/s]\n"
     ]
    },
    {
     "name": "stdout",
     "output_type": "stream",
     "text": [
      "\n",
      "Epoch: 2/15, Train Loss: 4.37961240 , Val Loss: 2.49582073, Train Accuracy:95.94356261,  Val Accuracy: 97.49216301, Epoch Time: 29.16753316\n"
     ]
    },
    {
     "name": "stderr",
     "output_type": "stream",
     "text": [
      "160it [00:27,  5.80it/s]\n",
      "20it [00:01, 15.85it/s]\n"
     ]
    },
    {
     "name": "stdout",
     "output_type": "stream",
     "text": [
      "\n",
      "Epoch: 3/15, Train Loss: 2.11526504 , Val Loss: 3.08116100, Train Accuracy:97.94238683,  Val Accuracy: 97.02194357, Epoch Time: 29.14568377\n"
     ]
    },
    {
     "name": "stderr",
     "output_type": "stream",
     "text": [
      "160it [00:27,  5.79it/s]\n",
      "20it [00:01, 15.30it/s]\n"
     ]
    },
    {
     "name": "stdout",
     "output_type": "stream",
     "text": [
      "\n",
      "Epoch: 4/15, Train Loss: 1.21865012 , Val Loss: 1.12151063, Train Accuracy:98.94179894,  Val Accuracy: 98.90282132, Epoch Time: 29.17741275\n"
     ]
    },
    {
     "name": "stderr",
     "output_type": "stream",
     "text": [
      "160it [00:27,  5.81it/s]\n",
      "20it [00:01, 15.61it/s]\n"
     ]
    },
    {
     "name": "stdout",
     "output_type": "stream",
     "text": [
      "\n",
      "Epoch: 5/15, Train Loss: 0.71052189 , Val Loss: 1.03356237, Train Accuracy:99.37291789,  Val Accuracy: 98.90282132, Epoch Time: 29.06738997\n"
     ]
    },
    {
     "name": "stderr",
     "output_type": "stream",
     "text": [
      "160it [00:27,  5.79it/s]\n",
      "20it [00:01, 15.51it/s]\n"
     ]
    },
    {
     "name": "stdout",
     "output_type": "stream",
     "text": [
      "\n",
      "Epoch: 6/15, Train Loss: 0.41831435 , Val Loss: 0.80599272, Train Accuracy:99.68645895,  Val Accuracy: 99.37304075, Epoch Time: 29.19960070\n"
     ]
    },
    {
     "name": "stderr",
     "output_type": "stream",
     "text": [
      "160it [00:27,  5.80it/s]\n",
      "20it [00:01, 15.24it/s]\n"
     ]
    },
    {
     "name": "stdout",
     "output_type": "stream",
     "text": [
      "\n",
      "Epoch: 7/15, Train Loss: 0.51646925 , Val Loss: 6.02124828, Train Accuracy:99.51009210,  Val Accuracy: 93.57366771, Epoch Time: 29.15989780\n"
     ]
    },
    {
     "name": "stderr",
     "output_type": "stream",
     "text": [
      "160it [00:27,  5.79it/s]\n",
      "20it [00:01, 15.43it/s]\n"
     ]
    },
    {
     "name": "stdout",
     "output_type": "stream",
     "text": [
      "\n",
      "Epoch: 8/15, Train Loss: 0.49582028 , Val Loss: 0.86391983, Train Accuracy:99.51009210,  Val Accuracy: 98.90282132, Epoch Time: 29.13287425\n"
     ]
    },
    {
     "name": "stderr",
     "output_type": "stream",
     "text": [
      "160it [00:27,  5.79it/s]\n",
      "20it [00:01, 15.67it/s]\n"
     ]
    },
    {
     "name": "stdout",
     "output_type": "stream",
     "text": [
      "\n",
      "Epoch: 9/15, Train Loss: 0.24707279 , Val Loss: 0.53301885, Train Accuracy:99.84322947,  Val Accuracy: 99.37304075, Epoch Time: 29.15062189\n"
     ]
    },
    {
     "name": "stderr",
     "output_type": "stream",
     "text": [
      "160it [00:27,  5.79it/s]\n",
      "20it [00:01, 15.16it/s]\n"
     ]
    },
    {
     "name": "stdout",
     "output_type": "stream",
     "text": [
      "\n",
      "Epoch: 10/15, Train Loss: 0.36582923 , Val Loss: 1.52200655, Train Accuracy:99.62767000,  Val Accuracy: 97.80564263, Epoch Time: 29.19177604\n"
     ]
    },
    {
     "name": "stderr",
     "output_type": "stream",
     "text": [
      "160it [00:27,  5.79it/s]\n",
      "20it [00:01, 15.17it/s]\n"
     ]
    },
    {
     "name": "stdout",
     "output_type": "stream",
     "text": [
      "\n",
      "Epoch: 11/15, Train Loss: 0.14822907 , Val Loss: 0.38012196, Train Accuracy:99.94121105,  Val Accuracy: 99.52978056, Epoch Time: 29.16334558\n"
     ]
    },
    {
     "name": "stderr",
     "output_type": "stream",
     "text": [
      "160it [00:27,  5.78it/s]\n",
      "20it [00:01, 15.61it/s]\n"
     ]
    },
    {
     "name": "stdout",
     "output_type": "stream",
     "text": [
      "\n",
      "Epoch: 12/15, Train Loss: 0.09073959 , Val Loss: 0.56060460, Train Accuracy:99.96080737,  Val Accuracy: 99.21630094, Epoch Time: 29.26966214\n"
     ]
    },
    {
     "name": "stderr",
     "output_type": "stream",
     "text": [
      "160it [00:27,  5.80it/s]\n",
      "20it [00:01, 14.93it/s]\n"
     ]
    },
    {
     "name": "stdout",
     "output_type": "stream",
     "text": [
      "\n",
      "Epoch: 13/15, Train Loss: 0.08593172 , Val Loss: 0.36407844, Train Accuracy:99.96080737,  Val Accuracy: 99.68652038, Epoch Time: 29.21756339\n"
     ]
    },
    {
     "name": "stderr",
     "output_type": "stream",
     "text": [
      "160it [00:27,  5.80it/s]\n",
      "20it [00:01, 15.47it/s]\n"
     ]
    },
    {
     "name": "stdout",
     "output_type": "stream",
     "text": [
      "\n",
      "Epoch: 14/15, Train Loss: 0.04999425 , Val Loss: 0.43399854, Train Accuracy:100.00000000,  Val Accuracy: 99.52978056, Epoch Time: 29.12218285\n"
     ]
    },
    {
     "name": "stderr",
     "output_type": "stream",
     "text": [
      "160it [00:27,  5.79it/s]\n",
      "20it [00:01, 15.21it/s]\n",
      "Using cache found in /root/.cache/torch/hub/mit-han-lab_once-for-all_master\n"
     ]
    },
    {
     "name": "stdout",
     "output_type": "stream",
     "text": [
      "\n",
      "Epoch: 15/15, Train Loss: 0.05362257 , Val Loss: 0.37404920, Train Accuracy:100.00000000,  Val Accuracy: 99.68652038, Epoch Time: 29.20252347\n",
      "\n",
      "=====>Generating f_emb<=====\n",
      "\n",
      "torch.Size([1536])\n",
      "{'dataset': ['sldc_0_10', 'sldc_0_10', 'sldc_0_10', 'sldc_0_10', 'sldc_0_10', 'sldc_0_10', 'corales_0_14', 'corales_0_14', 'corales_0_14', 'corales_0_14', 'corales_0_14', 'corales_0_14', '6000-store-items-images-classified-by-color_imoore_0_12', '6000-store-items-images-classified-by-color_imoore_0_12', '6000-store-items-images-classified-by-color_imoore_0_12', '6000-store-items-images-classified-by-color_imoore_0_12', '6000-store-items-images-classified-by-color_imoore_0_12', '6000-store-items-images-classified-by-color_imoore_0_12', 'fcis-sc-deeplearning-competition_0_10', 'fcis-sc-deeplearning-competition_0_10', 'fcis-sc-deeplearning-competition_0_10', 'fcis-sc-deeplearning-competition_0_10', 'fcis-sc-deeplearning-competition_0_10', 'fcis-sc-deeplearning-competition_0_10', 'lego-brick-images_joosthazelzet_0_16', 'lego-brick-images_joosthazelzet_0_16', 'lego-brick-images_joosthazelzet_0_16', 'lego-brick-images_joosthazelzet_0_16'], 'topol': [[3, 5, 5, 5, 7, 5, 5, 7, 3, 5, 7, 7, 7, 5, 7, 5, 3, 3, 7, 3, 4, 3, 6, 3, 6, 6, 4, 4, 6, 4, 3, 6, 6, 3, 4, 6, 3, 4, 6, 3, 3, 4, 2, 4, 4], [3, 7, 7, 7, 5, 7, 5, 3, 7, 5, 3, 3, 5, 5, 3, 7, 7, 5, 3, 5, 3, 4, 6, 3, 6, 4, 6, 4, 4, 3, 3, 3, 3, 6, 6, 3, 3, 4, 6, 4, 4, 3, 2, 2, 4], [3, 7, 5, 5, 3, 7, 7, 5, 5, 5, 5, 5, 5, 7, 7, 7, 7, 7, 5, 7, 6, 6, 6, 3, 6, 3, 4, 4, 6, 6, 6, 4, 3, 6, 4, 6, 6, 4, 6, 4, 2, 3, 3, 3, 4], [7, 5, 3, 3, 5, 3, 5, 5, 5, 5, 3, 7, 7, 5, 7, 3, 3, 5, 3, 5, 3, 4, 6, 6, 6, 3, 6, 3, 6, 3, 6, 4, 4, 6, 6, 4, 6, 6, 6, 4, 2, 2, 2, 3, 2], [3, 5, 5, 7, 5, 5, 7, 3, 7, 5, 5, 5, 3, 5, 3, 7, 5, 7, 7, 3, 3, 6, 3, 3, 6, 3, 6, 6, 4, 4, 3, 4, 4, 3, 6, 6, 4, 3, 4, 3, 4, 3, 4, 4, 4], [3, 3, 5, 5, 7, 5, 5, 5, 5, 5, 3, 3, 3, 3, 3, 7, 7, 3, 5, 5, 6, 4, 3, 4, 4, 4, 3, 6, 4, 3, 6, 4, 4, 4, 6, 6, 4, 4, 3, 6, 4, 2, 4, 3, 3], [7, 7, 5, 5, 5, 5, 3, 3, 3, 5, 7, 5, 5, 3, 3, 5, 5, 5, 7, 5, 3, 4, 3, 6, 6, 4, 3, 4, 6, 6, 4, 4, 6, 4, 4, 3, 6, 4, 3, 6, 2, 4, 4, 3, 2], [3, 3, 3, 7, 7, 5, 5, 7, 7, 5, 7, 7, 7, 7, 3, 5, 7, 7, 7, 3, 6, 4, 6, 3, 3, 4, 6, 6, 3, 3, 4, 4, 4, 4, 6, 6, 3, 4, 4, 3, 2, 4, 4, 2, 3], [5, 5, 3, 5, 7, 3, 5, 7, 7, 5, 3, 7, 7, 3, 3, 7, 3, 3, 7, 3, 4, 4, 6, 6, 3, 6, 3, 6, 3, 4, 4, 6, 3, 4, 6, 3, 6, 6, 4, 4, 4, 2, 4, 4, 4], [3, 5, 3, 5, 3, 3, 7, 7, 3, 3, 5, 7, 5, 3, 7, 7, 3, 3, 3, 7, 3, 4, 6, 6, 4, 4, 6, 6, 3, 3, 3, 6, 3, 6, 3, 4, 3, 4, 6, 6, 4, 4, 4, 3, 2], [3, 7, 7, 5, 7, 3, 7, 5, 7, 7, 7, 5, 7, 5, 3, 7, 5, 5, 5, 5, 6, 3, 6, 6, 4, 6, 6, 4, 6, 6, 6, 3, 3, 3, 3, 3, 6, 6, 4, 4, 3, 4, 2, 2, 3], [7, 7, 3, 3, 5, 7, 3, 5, 5, 3, 3, 3, 5, 7, 3, 7, 7, 5, 7, 7, 6, 3, 4, 3, 3, 3, 4, 3, 3, 4, 6, 6, 6, 4, 4, 6, 6, 4, 3, 4, 2, 2, 3, 4, 3], [7, 3, 3, 3, 3, 3, 5, 7, 5, 3, 5, 5, 3, 7, 7, 7, 5, 3, 7, 5, 3, 6, 3, 6, 6, 3, 4, 3, 6, 6, 3, 4, 3, 4, 4, 3, 4, 6, 6, 4, 3, 3, 2, 3, 3], [3, 3, 7, 5, 7, 3, 5, 7, 3, 5, 3, 5, 5, 5, 5, 3, 5, 5, 3, 3, 3, 6, 6, 6, 6, 6, 4, 3, 4, 4, 6, 4, 3, 6, 3, 6, 3, 6, 4, 6, 2, 2, 2, 3, 3], [5, 3, 5, 5, 5, 5, 7, 7, 3, 7, 7, 7, 3, 3, 7, 3, 7, 5, 5, 3, 3, 3, 6, 4, 6, 4, 4, 3, 6, 4, 6, 6, 3, 6, 4, 4, 3, 4, 3, 4, 3, 3, 4, 4, 4], [5, 5, 7, 5, 5, 5, 5, 7, 3, 3, 7, 3, 7, 5, 3, 3, 5, 7, 3, 3, 4, 4, 4, 4, 3, 4, 6, 3, 4, 6, 6, 3, 6, 3, 4, 6, 6, 4, 4, 6, 2, 4, 2, 3, 3], [7, 5, 3, 3, 7, 7, 7, 7, 5, 7, 5, 3, 7, 3, 5, 7, 3, 5, 7, 5, 4, 4, 4, 6, 4, 3, 3, 6, 3, 6, 4, 6, 6, 6, 6, 6, 3, 4, 6, 4, 2, 2, 2, 4, 3], [3, 3, 3, 7, 7, 3, 3, 7, 7, 7, 7, 5, 5, 7, 7, 3, 7, 7, 5, 7, 3, 4, 3, 3, 6, 3, 6, 3, 6, 3, 6, 3, 4, 3, 3, 6, 4, 4, 3, 6, 4, 4, 2, 4, 3], [3, 7, 7, 7, 3, 5, 3, 7, 5, 3, 5, 5, 7, 3, 5, 5, 3, 7, 5, 5, 4, 3, 4, 4, 3, 4, 6, 4, 6, 4, 3, 3, 3, 3, 6, 3, 4, 6, 4, 3, 4, 2, 4, 4, 3], [7, 7, 3, 5, 5, 5, 7, 3, 3, 5, 3, 3, 5, 7, 7, 3, 3, 7, 3, 3, 3, 3, 4, 6, 4, 6, 6, 6, 4, 3, 3, 6, 6, 4, 3, 4, 6, 4, 4, 4, 2, 4, 2, 3, 2], [3, 7, 7, 3, 5, 7, 7, 5, 7, 3, 5, 7, 7, 3, 5, 5, 5, 3, 3, 5, 3, 4, 3, 4, 3, 4, 6, 3, 6, 3, 4, 3, 4, 4, 4, 6, 3, 3, 4, 3, 3, 3, 2, 4, 2], [3, 7, 5, 3, 3, 5, 5, 7, 5, 7, 3, 5, 3, 7, 7, 5, 5, 7, 3, 3, 3, 3, 4, 6, 3, 6, 4, 3, 6, 4, 6, 4, 6, 6, 6, 6, 3, 4, 3, 6, 4, 4, 2, 2, 3], [3, 7, 3, 3, 5, 7, 5, 7, 5, 7, 7, 7, 7, 3, 3, 3, 7, 3, 3, 3, 6, 4, 4, 3, 4, 6, 4, 6, 4, 6, 6, 4, 4, 3, 3, 3, 6, 4, 3, 3, 2, 4, 4, 4, 4], [5, 5, 7, 5, 7, 3, 7, 7, 7, 5, 7, 3, 5, 3, 5, 7, 3, 7, 7, 5, 4, 3, 6, 6, 6, 3, 6, 3, 6, 3, 3, 6, 4, 4, 3, 3, 3, 3, 3, 3, 3, 2, 3, 4, 2], [7, 3, 7, 3, 5, 5, 3, 3, 7, 3, 7, 7, 7, 5, 5, 5, 5, 7, 5, 5, 6, 4, 3, 3, 4, 3, 3, 4, 4, 3, 6, 6, 3, 4, 4, 6, 6, 4, 6, 3, 3, 4, 4, 4, 2], [5, 5, 3, 7, 3, 7, 7, 5, 3, 7, 7, 5, 5, 7, 7, 7, 5, 7, 5, 3, 4, 4, 3, 3, 4, 3, 4, 6, 3, 3, 3, 4, 6, 6, 4, 6, 6, 4, 3, 4, 4, 4, 4, 3, 4], [5, 5, 3, 5, 7, 3, 5, 5, 3, 5, 7, 3, 5, 3, 3, 5, 7, 7, 5, 5, 4, 3, 6, 4, 6, 6, 6, 4, 3, 6, 6, 6, 4, 4, 4, 4, 3, 4, 3, 6, 2, 4, 2, 4, 3], [5, 3, 5, 3, 5, 3, 3, 3, 7, 3, 5, 7, 5, 7, 3, 7, 7, 5, 5, 3, 6, 3, 6, 6, 3, 4, 3, 4, 6, 3, 4, 6, 3, 3, 4, 4, 6, 6, 6, 4, 3, 4, 4, 4, 3]], 'f_emb': [tensor([-0., -0., -0.,  ..., -0., -0., -0.]), tensor([-0., -0., -0.,  ..., -0., -0., -0.]), tensor([1226.8495,   -0.0000,   -0.0000,  ...,   -0.0000,   -0.0000,\n",
      "          -0.0000]), tensor([-0., -0., -0.,  ..., -0., -0., -0.]), tensor([188.3607,  -0.0000,  -0.0000,  ...,  -0.0000,  -0.0000, 213.2732]), tensor([-0., -0., -0.,  ..., -0., -0., -0.]), tensor([-0., -0., -0.,  ..., -0., -0., -0.]), tensor([-0.0000, -0.0000, -0.0000,  ..., -0.0000, -0.0000, 9.9611]), tensor([38.6843, -0.0000, -0.0000,  ..., -0.0000, -0.0000, -0.0000]), tensor([ 0.5262, -0.3664,  0.4536,  ..., -0.3597, -0.2121, -0.3281]), tensor([-0., -0., -0.,  ..., -0., -0., -0.]), tensor([-0.0000, -0.0000, -0.0000,  ..., 30.1783, -0.0000,  3.6916]), tensor([-0., -0., -0.,  ..., -0., -0., -0.]), tensor([-0., -0., -0.,  ..., -0., -0., -0.]), tensor([18.3999, -0.0000, -0.0000,  ..., -0.0000, -0.0000, 45.3672]), tensor([ 0.2349,  0.1743,  0.1660,  ...,  0.3616,  0.0957, -0.3534]), tensor([-0.2793, -0.3249, -0.3683,  ..., -0.0000, -0.0000, -0.3627]), tensor([ 0.0759, -0.3346, -0.2591,  ...,  0.4824, -0.2551, -0.1757]), tensor([ 0.4264, -0.1865, -0.1025,  ..., -0.1637,  0.7777, -0.3373]), tensor([ 0.4347, -0.2336, -0.2793,  ..., -0.3347, -0.3469, -0.1162]), tensor([ 0.0104,  0.4655, -0.3177,  ..., -0.1076,  0.8267, -0.3667]), tensor([ 0.0873,  0.1475, -0.3670,  ..., -0.1698,  0.0327, -0.3572]), tensor([322.7029,  -0.0000,  83.4842,  ...,  -0.0000,  -0.0000,  -0.0000]), tensor([-0.3365, -0.0309, -0.3139,  ...,  0.1455, -0.3260, -0.3622]), tensor([-0.0000, -0.0000, -0.0000,  ..., -0.0000, -0.0000, 3.1642]), tensor([    -0.0000,     -0.0000, 159417.2812,  ...,     -0.0000,\n",
      "            -0.0000, 179515.1562]), tensor([-0.0014, -0.3527, -0.0000,  ..., -0.0000, -0.0000, -0.0000]), tensor([6770305.5000,      -0.0000,      -0.0000,  ...,      -0.0000,\n",
      "             -0.0000,      -0.0000])], 'acc': [99.51923076923077, 99.03846153846153, 99.51923076923077, 99.51923076923077, 99.51923076923077, 99.51923076923077, 98.38709677419355, 96.7741935483871, 98.38709677419355, 98.38709677419355, 8.064516129032258, 96.7741935483871, 77.08333333333333, 76.4423076923077, 78.68589743589743, 77.40384615384616, 77.24358974358974, 78.36538461538461, 94.23076923076923, 75.64102564102564, 90.7051282051282, 94.23076923076923, 91.34615384615384, 94.23076923076923, 99.52978056426332, 99.3730407523511, 99.68652037617555, 99.68652037617555], 'n_params': [6228442, 5625114, 6570290, 5347354, 5825218, 4821626, 4711646, 4554646, 6688342, 4317614, 5203934, 5550702, 5717244, 5151700, 5773028, 5059684, 6364428, 4930308, 5608818, 4493962, 4318938, 4537954, 5514050, 3861938, 5155304, 6005320, 4798208, 6420784]}\n",
      "\n",
      "=====> Generating 5th network  <=====\n",
      "\n",
      "\n",
      "=====>Generating sub_net<=====\n",
      "\n",
      "\n",
      "=====> Training started <=====\n",
      "\n",
      "Starting Training for:lego-brick-images_joosthazelzet_0_16 with model topology:[7, 5, 3, 7, 3, 5, 3, 5, 3, 5, 7, 3, 7, 7, 5, 7, 7, 3, 3, 3, 3, 3, 6, 4, 3, 4, 4, 3, 3, 3, 3, 4, 3, 3, 3, 3, 6, 6, 4, 4, 2, 4, 2, 4, 2]\n"
     ]
    },
    {
     "name": "stderr",
     "output_type": "stream",
     "text": [
      "160it [00:19,  8.04it/s]\n",
      "20it [00:01, 17.38it/s]\n"
     ]
    },
    {
     "name": "stdout",
     "output_type": "stream",
     "text": [
      "\n",
      "Epoch: 1/15, Train Loss: 32.60805121 , Val Loss: 17.08368597, Train Accuracy:71.66372722,  Val Accuracy: 86.36363636, Epoch Time: 21.34850430\n"
     ]
    },
    {
     "name": "stderr",
     "output_type": "stream",
     "text": [
      "160it [00:19,  8.04it/s]\n",
      "20it [00:01, 17.27it/s]\n"
     ]
    },
    {
     "name": "stdout",
     "output_type": "stream",
     "text": [
      "\n",
      "Epoch: 2/15, Train Loss: 6.00972602 , Val Loss: 3.12842313, Train Accuracy:93.57240839,  Val Accuracy: 97.02194357, Epoch Time: 21.27300048\n"
     ]
    },
    {
     "name": "stderr",
     "output_type": "stream",
     "text": [
      "160it [00:19,  8.05it/s]\n",
      "20it [00:01, 18.29it/s]\n"
     ]
    },
    {
     "name": "stdout",
     "output_type": "stream",
     "text": [
      "\n",
      "Epoch: 3/15, Train Loss: 2.31813678 , Val Loss: 1.36478040, Train Accuracy:97.80521262,  Val Accuracy: 98.74608150, Epoch Time: 21.19852042\n"
     ]
    },
    {
     "name": "stderr",
     "output_type": "stream",
     "text": [
      "160it [00:19,  8.05it/s]\n",
      "20it [00:01, 18.95it/s]\n"
     ]
    },
    {
     "name": "stdout",
     "output_type": "stream",
     "text": [
      "\n",
      "Epoch: 4/15, Train Loss: 1.15211998 , Val Loss: 1.76511356, Train Accuracy:99.00058789,  Val Accuracy: 98.27586207, Epoch Time: 21.15101910\n"
     ]
    },
    {
     "name": "stderr",
     "output_type": "stream",
     "text": [
      "160it [00:19,  8.06it/s]\n",
      "20it [00:01, 17.98it/s]\n"
     ]
    },
    {
     "name": "stdout",
     "output_type": "stream",
     "text": [
      "\n",
      "Epoch: 5/15, Train Loss: 0.99057415 , Val Loss: 1.84633557, Train Accuracy:99.05937684,  Val Accuracy: 97.96238245, Epoch Time: 21.20037556\n"
     ]
    },
    {
     "name": "stderr",
     "output_type": "stream",
     "text": [
      "160it [00:19,  8.07it/s]\n",
      "20it [00:01, 18.38it/s]\n"
     ]
    },
    {
     "name": "stdout",
     "output_type": "stream",
     "text": [
      "\n",
      "Epoch: 6/15, Train Loss: 0.77448793 , Val Loss: 1.12995442, Train Accuracy:99.31412894,  Val Accuracy: 98.58934169, Epoch Time: 21.16405845\n"
     ]
    },
    {
     "name": "stderr",
     "output_type": "stream",
     "text": [
      "160it [00:19,  8.05it/s]\n",
      "20it [00:01, 16.19it/s]\n"
     ]
    },
    {
     "name": "stdout",
     "output_type": "stream",
     "text": [
      "\n",
      "Epoch: 7/15, Train Loss: 0.51145786 , Val Loss: 0.66488876, Train Accuracy:99.60807368,  Val Accuracy: 99.84326019, Epoch Time: 21.37467003\n"
     ]
    },
    {
     "name": "stderr",
     "output_type": "stream",
     "text": [
      "160it [00:19,  8.01it/s]\n",
      "20it [00:01, 18.71it/s]\n"
     ]
    },
    {
     "name": "stdout",
     "output_type": "stream",
     "text": [
      "\n",
      "Epoch: 8/15, Train Loss: 0.48029915 , Val Loss: 0.45675110, Train Accuracy:99.54928473,  Val Accuracy: 99.52978056, Epoch Time: 21.28541684\n"
     ]
    },
    {
     "name": "stderr",
     "output_type": "stream",
     "text": [
      "160it [00:19,  8.07it/s]\n",
      "20it [00:01, 17.70it/s]\n"
     ]
    },
    {
     "name": "stdout",
     "output_type": "stream",
     "text": [
      "\n",
      "Epoch: 9/15, Train Loss: 0.15139792 , Val Loss: 0.32449530, Train Accuracy:99.92161474,  Val Accuracy: 99.52978056, Epoch Time: 21.22945166\n"
     ]
    },
    {
     "name": "stderr",
     "output_type": "stream",
     "text": [
      "160it [00:19,  8.05it/s]\n",
      "20it [00:01, 18.38it/s]\n"
     ]
    },
    {
     "name": "stdout",
     "output_type": "stream",
     "text": [
      "\n",
      "Epoch: 10/15, Train Loss: 0.32630565 , Val Loss: 0.39828013, Train Accuracy:99.66686263,  Val Accuracy: 99.37304075, Epoch Time: 21.18261075\n"
     ]
    },
    {
     "name": "stderr",
     "output_type": "stream",
     "text": [
      "160it [00:19,  8.08it/s]\n",
      "20it [00:01, 17.40it/s]\n"
     ]
    },
    {
     "name": "stdout",
     "output_type": "stream",
     "text": [
      "\n",
      "Epoch: 11/15, Train Loss: 0.31739485 , Val Loss: 13.96344801, Train Accuracy:99.82363316,  Val Accuracy: 88.40125392, Epoch Time: 21.18054867\n"
     ]
    },
    {
     "name": "stderr",
     "output_type": "stream",
     "text": [
      "160it [00:19,  8.09it/s]\n",
      "20it [00:01, 17.97it/s]\n"
     ]
    },
    {
     "name": "stdout",
     "output_type": "stream",
     "text": [
      "\n",
      "Epoch: 12/15, Train Loss: 0.13654050 , Val Loss: 0.18065715, Train Accuracy:99.98040368,  Val Accuracy: 99.84326019, Epoch Time: 21.12433982\n"
     ]
    },
    {
     "name": "stderr",
     "output_type": "stream",
     "text": [
      "160it [00:19,  8.05it/s]\n",
      "20it [00:01, 18.25it/s]\n"
     ]
    },
    {
     "name": "stdout",
     "output_type": "stream",
     "text": [
      "\n",
      "Epoch: 13/15, Train Loss: 0.07213382 , Val Loss: 0.14533691, Train Accuracy:99.98040368,  Val Accuracy: 99.84326019, Epoch Time: 21.20023465\n"
     ]
    },
    {
     "name": "stderr",
     "output_type": "stream",
     "text": [
      "160it [00:19,  8.05it/s]\n",
      "20it [00:01, 18.40it/s]\n"
     ]
    },
    {
     "name": "stdout",
     "output_type": "stream",
     "text": [
      "\n",
      "Epoch: 14/15, Train Loss: 0.04941415 , Val Loss: 0.15080494, Train Accuracy:100.00000000,  Val Accuracy: 99.68652038, Epoch Time: 21.17494702\n"
     ]
    },
    {
     "name": "stderr",
     "output_type": "stream",
     "text": [
      "160it [00:19,  8.07it/s]\n",
      "20it [00:01, 18.51it/s]\n",
      "Using cache found in /root/.cache/torch/hub/mit-han-lab_once-for-all_master\n"
     ]
    },
    {
     "name": "stdout",
     "output_type": "stream",
     "text": [
      "\n",
      "Epoch: 15/15, Train Loss: 0.04999476 , Val Loss: 0.12420223, Train Accuracy:100.00000000,  Val Accuracy: 100.00000000, Epoch Time: 21.15185571\n",
      "\n",
      "=====>Generating f_emb<=====\n",
      "\n",
      "torch.Size([1536])\n",
      "{'dataset': ['sldc_0_10', 'sldc_0_10', 'sldc_0_10', 'sldc_0_10', 'sldc_0_10', 'sldc_0_10', 'corales_0_14', 'corales_0_14', 'corales_0_14', 'corales_0_14', 'corales_0_14', 'corales_0_14', '6000-store-items-images-classified-by-color_imoore_0_12', '6000-store-items-images-classified-by-color_imoore_0_12', '6000-store-items-images-classified-by-color_imoore_0_12', '6000-store-items-images-classified-by-color_imoore_0_12', '6000-store-items-images-classified-by-color_imoore_0_12', '6000-store-items-images-classified-by-color_imoore_0_12', 'fcis-sc-deeplearning-competition_0_10', 'fcis-sc-deeplearning-competition_0_10', 'fcis-sc-deeplearning-competition_0_10', 'fcis-sc-deeplearning-competition_0_10', 'fcis-sc-deeplearning-competition_0_10', 'fcis-sc-deeplearning-competition_0_10', 'lego-brick-images_joosthazelzet_0_16', 'lego-brick-images_joosthazelzet_0_16', 'lego-brick-images_joosthazelzet_0_16', 'lego-brick-images_joosthazelzet_0_16', 'lego-brick-images_joosthazelzet_0_16'], 'topol': [[3, 5, 5, 5, 7, 5, 5, 7, 3, 5, 7, 7, 7, 5, 7, 5, 3, 3, 7, 3, 4, 3, 6, 3, 6, 6, 4, 4, 6, 4, 3, 6, 6, 3, 4, 6, 3, 4, 6, 3, 3, 4, 2, 4, 4], [3, 7, 7, 7, 5, 7, 5, 3, 7, 5, 3, 3, 5, 5, 3, 7, 7, 5, 3, 5, 3, 4, 6, 3, 6, 4, 6, 4, 4, 3, 3, 3, 3, 6, 6, 3, 3, 4, 6, 4, 4, 3, 2, 2, 4], [3, 7, 5, 5, 3, 7, 7, 5, 5, 5, 5, 5, 5, 7, 7, 7, 7, 7, 5, 7, 6, 6, 6, 3, 6, 3, 4, 4, 6, 6, 6, 4, 3, 6, 4, 6, 6, 4, 6, 4, 2, 3, 3, 3, 4], [7, 5, 3, 3, 5, 3, 5, 5, 5, 5, 3, 7, 7, 5, 7, 3, 3, 5, 3, 5, 3, 4, 6, 6, 6, 3, 6, 3, 6, 3, 6, 4, 4, 6, 6, 4, 6, 6, 6, 4, 2, 2, 2, 3, 2], [3, 5, 5, 7, 5, 5, 7, 3, 7, 5, 5, 5, 3, 5, 3, 7, 5, 7, 7, 3, 3, 6, 3, 3, 6, 3, 6, 6, 4, 4, 3, 4, 4, 3, 6, 6, 4, 3, 4, 3, 4, 3, 4, 4, 4], [3, 3, 5, 5, 7, 5, 5, 5, 5, 5, 3, 3, 3, 3, 3, 7, 7, 3, 5, 5, 6, 4, 3, 4, 4, 4, 3, 6, 4, 3, 6, 4, 4, 4, 6, 6, 4, 4, 3, 6, 4, 2, 4, 3, 3], [7, 7, 5, 5, 5, 5, 3, 3, 3, 5, 7, 5, 5, 3, 3, 5, 5, 5, 7, 5, 3, 4, 3, 6, 6, 4, 3, 4, 6, 6, 4, 4, 6, 4, 4, 3, 6, 4, 3, 6, 2, 4, 4, 3, 2], [3, 3, 3, 7, 7, 5, 5, 7, 7, 5, 7, 7, 7, 7, 3, 5, 7, 7, 7, 3, 6, 4, 6, 3, 3, 4, 6, 6, 3, 3, 4, 4, 4, 4, 6, 6, 3, 4, 4, 3, 2, 4, 4, 2, 3], [5, 5, 3, 5, 7, 3, 5, 7, 7, 5, 3, 7, 7, 3, 3, 7, 3, 3, 7, 3, 4, 4, 6, 6, 3, 6, 3, 6, 3, 4, 4, 6, 3, 4, 6, 3, 6, 6, 4, 4, 4, 2, 4, 4, 4], [3, 5, 3, 5, 3, 3, 7, 7, 3, 3, 5, 7, 5, 3, 7, 7, 3, 3, 3, 7, 3, 4, 6, 6, 4, 4, 6, 6, 3, 3, 3, 6, 3, 6, 3, 4, 3, 4, 6, 6, 4, 4, 4, 3, 2], [3, 7, 7, 5, 7, 3, 7, 5, 7, 7, 7, 5, 7, 5, 3, 7, 5, 5, 5, 5, 6, 3, 6, 6, 4, 6, 6, 4, 6, 6, 6, 3, 3, 3, 3, 3, 6, 6, 4, 4, 3, 4, 2, 2, 3], [7, 7, 3, 3, 5, 7, 3, 5, 5, 3, 3, 3, 5, 7, 3, 7, 7, 5, 7, 7, 6, 3, 4, 3, 3, 3, 4, 3, 3, 4, 6, 6, 6, 4, 4, 6, 6, 4, 3, 4, 2, 2, 3, 4, 3], [7, 3, 3, 3, 3, 3, 5, 7, 5, 3, 5, 5, 3, 7, 7, 7, 5, 3, 7, 5, 3, 6, 3, 6, 6, 3, 4, 3, 6, 6, 3, 4, 3, 4, 4, 3, 4, 6, 6, 4, 3, 3, 2, 3, 3], [3, 3, 7, 5, 7, 3, 5, 7, 3, 5, 3, 5, 5, 5, 5, 3, 5, 5, 3, 3, 3, 6, 6, 6, 6, 6, 4, 3, 4, 4, 6, 4, 3, 6, 3, 6, 3, 6, 4, 6, 2, 2, 2, 3, 3], [5, 3, 5, 5, 5, 5, 7, 7, 3, 7, 7, 7, 3, 3, 7, 3, 7, 5, 5, 3, 3, 3, 6, 4, 6, 4, 4, 3, 6, 4, 6, 6, 3, 6, 4, 4, 3, 4, 3, 4, 3, 3, 4, 4, 4], [5, 5, 7, 5, 5, 5, 5, 7, 3, 3, 7, 3, 7, 5, 3, 3, 5, 7, 3, 3, 4, 4, 4, 4, 3, 4, 6, 3, 4, 6, 6, 3, 6, 3, 4, 6, 6, 4, 4, 6, 2, 4, 2, 3, 3], [7, 5, 3, 3, 7, 7, 7, 7, 5, 7, 5, 3, 7, 3, 5, 7, 3, 5, 7, 5, 4, 4, 4, 6, 4, 3, 3, 6, 3, 6, 4, 6, 6, 6, 6, 6, 3, 4, 6, 4, 2, 2, 2, 4, 3], [3, 3, 3, 7, 7, 3, 3, 7, 7, 7, 7, 5, 5, 7, 7, 3, 7, 7, 5, 7, 3, 4, 3, 3, 6, 3, 6, 3, 6, 3, 6, 3, 4, 3, 3, 6, 4, 4, 3, 6, 4, 4, 2, 4, 3], [3, 7, 7, 7, 3, 5, 3, 7, 5, 3, 5, 5, 7, 3, 5, 5, 3, 7, 5, 5, 4, 3, 4, 4, 3, 4, 6, 4, 6, 4, 3, 3, 3, 3, 6, 3, 4, 6, 4, 3, 4, 2, 4, 4, 3], [7, 7, 3, 5, 5, 5, 7, 3, 3, 5, 3, 3, 5, 7, 7, 3, 3, 7, 3, 3, 3, 3, 4, 6, 4, 6, 6, 6, 4, 3, 3, 6, 6, 4, 3, 4, 6, 4, 4, 4, 2, 4, 2, 3, 2], [3, 7, 7, 3, 5, 7, 7, 5, 7, 3, 5, 7, 7, 3, 5, 5, 5, 3, 3, 5, 3, 4, 3, 4, 3, 4, 6, 3, 6, 3, 4, 3, 4, 4, 4, 6, 3, 3, 4, 3, 3, 3, 2, 4, 2], [3, 7, 5, 3, 3, 5, 5, 7, 5, 7, 3, 5, 3, 7, 7, 5, 5, 7, 3, 3, 3, 3, 4, 6, 3, 6, 4, 3, 6, 4, 6, 4, 6, 6, 6, 6, 3, 4, 3, 6, 4, 4, 2, 2, 3], [3, 7, 3, 3, 5, 7, 5, 7, 5, 7, 7, 7, 7, 3, 3, 3, 7, 3, 3, 3, 6, 4, 4, 3, 4, 6, 4, 6, 4, 6, 6, 4, 4, 3, 3, 3, 6, 4, 3, 3, 2, 4, 4, 4, 4], [5, 5, 7, 5, 7, 3, 7, 7, 7, 5, 7, 3, 5, 3, 5, 7, 3, 7, 7, 5, 4, 3, 6, 6, 6, 3, 6, 3, 6, 3, 3, 6, 4, 4, 3, 3, 3, 3, 3, 3, 3, 2, 3, 4, 2], [7, 3, 7, 3, 5, 5, 3, 3, 7, 3, 7, 7, 7, 5, 5, 5, 5, 7, 5, 5, 6, 4, 3, 3, 4, 3, 3, 4, 4, 3, 6, 6, 3, 4, 4, 6, 6, 4, 6, 3, 3, 4, 4, 4, 2], [5, 5, 3, 7, 3, 7, 7, 5, 3, 7, 7, 5, 5, 7, 7, 7, 5, 7, 5, 3, 4, 4, 3, 3, 4, 3, 4, 6, 3, 3, 3, 4, 6, 6, 4, 6, 6, 4, 3, 4, 4, 4, 4, 3, 4], [5, 5, 3, 5, 7, 3, 5, 5, 3, 5, 7, 3, 5, 3, 3, 5, 7, 7, 5, 5, 4, 3, 6, 4, 6, 6, 6, 4, 3, 6, 6, 6, 4, 4, 4, 4, 3, 4, 3, 6, 2, 4, 2, 4, 3], [5, 3, 5, 3, 5, 3, 3, 3, 7, 3, 5, 7, 5, 7, 3, 7, 7, 5, 5, 3, 6, 3, 6, 6, 3, 4, 3, 4, 6, 3, 4, 6, 3, 3, 4, 4, 6, 6, 6, 4, 3, 4, 4, 4, 3], [7, 5, 3, 7, 3, 5, 3, 5, 3, 5, 7, 3, 7, 7, 5, 7, 7, 3, 3, 3, 3, 3, 6, 4, 3, 4, 4, 3, 3, 3, 3, 4, 3, 3, 3, 3, 6, 6, 4, 4, 2, 4, 2, 4, 2]], 'f_emb': [tensor([-0., -0., -0.,  ..., -0., -0., -0.]), tensor([-0., -0., -0.,  ..., -0., -0., -0.]), tensor([1226.8495,   -0.0000,   -0.0000,  ...,   -0.0000,   -0.0000,\n",
      "          -0.0000]), tensor([-0., -0., -0.,  ..., -0., -0., -0.]), tensor([188.3607,  -0.0000,  -0.0000,  ...,  -0.0000,  -0.0000, 213.2732]), tensor([-0., -0., -0.,  ..., -0., -0., -0.]), tensor([-0., -0., -0.,  ..., -0., -0., -0.]), tensor([-0.0000, -0.0000, -0.0000,  ..., -0.0000, -0.0000, 9.9611]), tensor([38.6843, -0.0000, -0.0000,  ..., -0.0000, -0.0000, -0.0000]), tensor([ 0.5262, -0.3664,  0.4536,  ..., -0.3597, -0.2121, -0.3281]), tensor([-0., -0., -0.,  ..., -0., -0., -0.]), tensor([-0.0000, -0.0000, -0.0000,  ..., 30.1783, -0.0000,  3.6916]), tensor([-0., -0., -0.,  ..., -0., -0., -0.]), tensor([-0., -0., -0.,  ..., -0., -0., -0.]), tensor([18.3999, -0.0000, -0.0000,  ..., -0.0000, -0.0000, 45.3672]), tensor([ 0.2349,  0.1743,  0.1660,  ...,  0.3616,  0.0957, -0.3534]), tensor([-0.2793, -0.3249, -0.3683,  ..., -0.0000, -0.0000, -0.3627]), tensor([ 0.0759, -0.3346, -0.2591,  ...,  0.4824, -0.2551, -0.1757]), tensor([ 0.4264, -0.1865, -0.1025,  ..., -0.1637,  0.7777, -0.3373]), tensor([ 0.4347, -0.2336, -0.2793,  ..., -0.3347, -0.3469, -0.1162]), tensor([ 0.0104,  0.4655, -0.3177,  ..., -0.1076,  0.8267, -0.3667]), tensor([ 0.0873,  0.1475, -0.3670,  ..., -0.1698,  0.0327, -0.3572]), tensor([322.7029,  -0.0000,  83.4842,  ...,  -0.0000,  -0.0000,  -0.0000]), tensor([-0.3365, -0.0309, -0.3139,  ...,  0.1455, -0.3260, -0.3622]), tensor([-0.0000, -0.0000, -0.0000,  ..., -0.0000, -0.0000, 3.1642]), tensor([    -0.0000,     -0.0000, 159417.2812,  ...,     -0.0000,\n",
      "            -0.0000, 179515.1562]), tensor([-0.0014, -0.3527, -0.0000,  ..., -0.0000, -0.0000, -0.0000]), tensor([6770305.5000,      -0.0000,      -0.0000,  ...,      -0.0000,\n",
      "             -0.0000,      -0.0000]), tensor([1609.9169,   -0.0000,   -0.0000,  ...,   -0.0000,   -0.0000,\n",
      "          -0.0000])], 'acc': [99.51923076923077, 99.03846153846153, 99.51923076923077, 99.51923076923077, 99.51923076923077, 99.51923076923077, 98.38709677419355, 96.7741935483871, 98.38709677419355, 98.38709677419355, 8.064516129032258, 96.7741935483871, 77.08333333333333, 76.4423076923077, 78.68589743589743, 77.40384615384616, 77.24358974358974, 78.36538461538461, 94.23076923076923, 75.64102564102564, 90.7051282051282, 94.23076923076923, 91.34615384615384, 94.23076923076923, 99.52978056426332, 99.3730407523511, 99.68652037617555, 99.68652037617555, 100.0], 'n_params': [6228442, 5625114, 6570290, 5347354, 5825218, 4821626, 4711646, 4554646, 6688342, 4317614, 5203934, 5550702, 5717244, 5151700, 5773028, 5059684, 6364428, 4930308, 5608818, 4493962, 4318938, 4537954, 5514050, 3861938, 5155304, 6005320, 4798208, 6420784, 4792312]}\n",
      "\n",
      "=====> Generating 6th network  <=====\n",
      "\n",
      "\n",
      "=====>Generating sub_net<=====\n",
      "\n",
      "\n",
      "=====> Training started <=====\n",
      "\n",
      "Starting Training for:lego-brick-images_joosthazelzet_0_16 with model topology:[5, 7, 7, 5, 5, 5, 7, 7, 7, 3, 5, 5, 5, 5, 3, 3, 5, 7, 3, 5, 3, 4, 4, 3, 3, 6, 6, 4, 4, 3, 4, 3, 3, 6, 4, 6, 4, 3, 3, 3, 2, 2, 4, 2, 2]\n"
     ]
    },
    {
     "name": "stderr",
     "output_type": "stream",
     "text": [
      "160it [00:18,  8.51it/s]\n",
      "20it [00:01, 19.24it/s]\n"
     ]
    },
    {
     "name": "stdout",
     "output_type": "stream",
     "text": [
      "\n",
      "Epoch: 1/15, Train Loss: 34.87989655 , Val Loss: 38.80005632, Train Accuracy:70.37037037,  Val Accuracy: 57.21003135, Epoch Time: 20.11296296\n"
     ]
    },
    {
     "name": "stderr",
     "output_type": "stream",
     "text": [
      "160it [00:18,  8.51it/s]\n",
      "20it [00:01, 18.37it/s]\n"
     ]
    },
    {
     "name": "stdout",
     "output_type": "stream",
     "text": [
      "\n",
      "Epoch: 2/15, Train Loss: 5.94818052 , Val Loss: 3.22039377, Train Accuracy:93.80756418,  Val Accuracy: 96.39498433, Epoch Time: 20.12566328\n"
     ]
    },
    {
     "name": "stderr",
     "output_type": "stream",
     "text": [
      "160it [00:18,  8.52it/s]\n",
      "20it [00:01, 19.65it/s]\n"
     ]
    },
    {
     "name": "stdout",
     "output_type": "stream",
     "text": [
      "\n",
      "Epoch: 3/15, Train Loss: 2.65415158 , Val Loss: 2.77645428, Train Accuracy:97.33490104,  Val Accuracy: 97.33542320, Epoch Time: 20.01790547\n"
     ]
    },
    {
     "name": "stderr",
     "output_type": "stream",
     "text": [
      "160it [00:18,  8.51it/s]\n",
      "20it [00:01, 18.70it/s]\n"
     ]
    },
    {
     "name": "stdout",
     "output_type": "stream",
     "text": [
      "\n",
      "Epoch: 4/15, Train Loss: 2.27031647 , Val Loss: 2.82501491, Train Accuracy:97.90319420,  Val Accuracy: 96.86520376, Epoch Time: 20.11002302\n"
     ]
    },
    {
     "name": "stderr",
     "output_type": "stream",
     "text": [
      "160it [00:18,  8.52it/s]\n",
      "20it [00:01, 16.44it/s]\n"
     ]
    },
    {
     "name": "stdout",
     "output_type": "stream",
     "text": [
      "\n",
      "Epoch: 5/15, Train Loss: 1.20116686 , Val Loss: 1.68496489, Train Accuracy:98.74583578,  Val Accuracy: 97.33542320, Epoch Time: 20.27339888\n"
     ]
    },
    {
     "name": "stderr",
     "output_type": "stream",
     "text": [
      "160it [00:18,  8.53it/s]\n",
      "20it [00:01, 18.46it/s]\n"
     ]
    },
    {
     "name": "stdout",
     "output_type": "stream",
     "text": [
      "\n",
      "Epoch: 6/15, Train Loss: 0.69223883 , Val Loss: 1.18321854, Train Accuracy:99.49049579,  Val Accuracy: 98.74608150, Epoch Time: 20.07102323\n"
     ]
    },
    {
     "name": "stderr",
     "output_type": "stream",
     "text": [
      "160it [00:18,  8.50it/s]\n",
      "20it [00:01, 18.97it/s]\n"
     ]
    },
    {
     "name": "stdout",
     "output_type": "stream",
     "text": [
      "\n",
      "Epoch: 7/15, Train Loss: 0.54174956 , Val Loss: 1.88579062, Train Accuracy:99.56888105,  Val Accuracy: 98.11912226, Epoch Time: 20.12308741\n"
     ]
    },
    {
     "name": "stderr",
     "output_type": "stream",
     "text": [
      "160it [00:18,  8.51it/s]\n",
      "20it [00:01, 18.55it/s]\n"
     ]
    },
    {
     "name": "stdout",
     "output_type": "stream",
     "text": [
      "\n",
      "Epoch: 8/15, Train Loss: 0.45704211 , Val Loss: 0.93957730, Train Accuracy:99.64726631,  Val Accuracy: 98.90282132, Epoch Time: 20.12020159\n"
     ]
    },
    {
     "name": "stderr",
     "output_type": "stream",
     "text": [
      "160it [00:18,  8.50it/s]\n",
      "20it [00:01, 19.18it/s]\n"
     ]
    },
    {
     "name": "stdout",
     "output_type": "stream",
     "text": [
      "\n",
      "Epoch: 9/15, Train Loss: 0.43024955 , Val Loss: 0.96171182, Train Accuracy:99.62767000,  Val Accuracy: 99.21630094, Epoch Time: 20.10436416\n"
     ]
    },
    {
     "name": "stderr",
     "output_type": "stream",
     "text": [
      "160it [00:18,  8.49it/s]\n",
      "20it [00:01, 18.59it/s]\n"
     ]
    },
    {
     "name": "stdout",
     "output_type": "stream",
     "text": [
      "\n",
      "Epoch: 10/15, Train Loss: 0.18157547 , Val Loss: 0.55240896, Train Accuracy:99.98040368,  Val Accuracy: 99.37304075, Epoch Time: 20.14354539\n"
     ]
    },
    {
     "name": "stderr",
     "output_type": "stream",
     "text": [
      "160it [00:18,  8.48it/s]\n",
      "20it [00:01, 18.62it/s]\n"
     ]
    },
    {
     "name": "stdout",
     "output_type": "stream",
     "text": [
      "\n",
      "Epoch: 11/15, Train Loss: 0.14882957 , Val Loss: 0.44032167, Train Accuracy:99.96080737,  Val Accuracy: 99.84326019, Epoch Time: 20.17672920\n"
     ]
    },
    {
     "name": "stderr",
     "output_type": "stream",
     "text": [
      "160it [00:18,  8.49it/s]\n",
      "20it [00:01, 18.80it/s]\n"
     ]
    },
    {
     "name": "stdout",
     "output_type": "stream",
     "text": [
      "\n",
      "Epoch: 12/15, Train Loss: 0.07994856 , Val Loss: 0.39859382, Train Accuracy:100.00000000,  Val Accuracy: 99.52978056, Epoch Time: 20.19322562\n"
     ]
    },
    {
     "name": "stderr",
     "output_type": "stream",
     "text": [
      "160it [00:18,  8.52it/s]\n",
      "20it [00:01, 18.85it/s]\n"
     ]
    },
    {
     "name": "stdout",
     "output_type": "stream",
     "text": [
      "\n",
      "Epoch: 13/15, Train Loss: 0.08408844 , Val Loss: 0.34019595, Train Accuracy:100.00000000,  Val Accuracy: 99.68652038, Epoch Time: 20.08028936\n"
     ]
    },
    {
     "name": "stderr",
     "output_type": "stream",
     "text": [
      "160it [00:18,  8.53it/s]\n",
      "20it [00:01, 17.96it/s]\n"
     ]
    },
    {
     "name": "stdout",
     "output_type": "stream",
     "text": [
      "\n",
      "Epoch: 14/15, Train Loss: 0.15255280 , Val Loss: 0.74760699, Train Accuracy:99.94121105,  Val Accuracy: 99.21630094, Epoch Time: 20.14251375\n"
     ]
    },
    {
     "name": "stderr",
     "output_type": "stream",
     "text": [
      "160it [00:18,  8.52it/s]\n",
      "20it [00:01, 18.90it/s]\n"
     ]
    },
    {
     "name": "stdout",
     "output_type": "stream",
     "text": [
      "\n",
      "Epoch: 15/15, Train Loss: 0.11163784 , Val Loss: 0.47568396, Train Accuracy:99.94121105,  Val Accuracy: 99.37304075, Epoch Time: 20.07805777\n",
      "\n",
      "=====>Generating f_emb<=====\n",
      "\n",
      "torch.Size([1536])\n",
      "{'dataset': ['sldc_0_10', 'sldc_0_10', 'sldc_0_10', 'sldc_0_10', 'sldc_0_10', 'sldc_0_10', 'corales_0_14', 'corales_0_14', 'corales_0_14', 'corales_0_14', 'corales_0_14', 'corales_0_14', '6000-store-items-images-classified-by-color_imoore_0_12', '6000-store-items-images-classified-by-color_imoore_0_12', '6000-store-items-images-classified-by-color_imoore_0_12', '6000-store-items-images-classified-by-color_imoore_0_12', '6000-store-items-images-classified-by-color_imoore_0_12', '6000-store-items-images-classified-by-color_imoore_0_12', 'fcis-sc-deeplearning-competition_0_10', 'fcis-sc-deeplearning-competition_0_10', 'fcis-sc-deeplearning-competition_0_10', 'fcis-sc-deeplearning-competition_0_10', 'fcis-sc-deeplearning-competition_0_10', 'fcis-sc-deeplearning-competition_0_10', 'lego-brick-images_joosthazelzet_0_16', 'lego-brick-images_joosthazelzet_0_16', 'lego-brick-images_joosthazelzet_0_16', 'lego-brick-images_joosthazelzet_0_16', 'lego-brick-images_joosthazelzet_0_16', 'lego-brick-images_joosthazelzet_0_16'], 'topol': [[3, 5, 5, 5, 7, 5, 5, 7, 3, 5, 7, 7, 7, 5, 7, 5, 3, 3, 7, 3, 4, 3, 6, 3, 6, 6, 4, 4, 6, 4, 3, 6, 6, 3, 4, 6, 3, 4, 6, 3, 3, 4, 2, 4, 4], [3, 7, 7, 7, 5, 7, 5, 3, 7, 5, 3, 3, 5, 5, 3, 7, 7, 5, 3, 5, 3, 4, 6, 3, 6, 4, 6, 4, 4, 3, 3, 3, 3, 6, 6, 3, 3, 4, 6, 4, 4, 3, 2, 2, 4], [3, 7, 5, 5, 3, 7, 7, 5, 5, 5, 5, 5, 5, 7, 7, 7, 7, 7, 5, 7, 6, 6, 6, 3, 6, 3, 4, 4, 6, 6, 6, 4, 3, 6, 4, 6, 6, 4, 6, 4, 2, 3, 3, 3, 4], [7, 5, 3, 3, 5, 3, 5, 5, 5, 5, 3, 7, 7, 5, 7, 3, 3, 5, 3, 5, 3, 4, 6, 6, 6, 3, 6, 3, 6, 3, 6, 4, 4, 6, 6, 4, 6, 6, 6, 4, 2, 2, 2, 3, 2], [3, 5, 5, 7, 5, 5, 7, 3, 7, 5, 5, 5, 3, 5, 3, 7, 5, 7, 7, 3, 3, 6, 3, 3, 6, 3, 6, 6, 4, 4, 3, 4, 4, 3, 6, 6, 4, 3, 4, 3, 4, 3, 4, 4, 4], [3, 3, 5, 5, 7, 5, 5, 5, 5, 5, 3, 3, 3, 3, 3, 7, 7, 3, 5, 5, 6, 4, 3, 4, 4, 4, 3, 6, 4, 3, 6, 4, 4, 4, 6, 6, 4, 4, 3, 6, 4, 2, 4, 3, 3], [7, 7, 5, 5, 5, 5, 3, 3, 3, 5, 7, 5, 5, 3, 3, 5, 5, 5, 7, 5, 3, 4, 3, 6, 6, 4, 3, 4, 6, 6, 4, 4, 6, 4, 4, 3, 6, 4, 3, 6, 2, 4, 4, 3, 2], [3, 3, 3, 7, 7, 5, 5, 7, 7, 5, 7, 7, 7, 7, 3, 5, 7, 7, 7, 3, 6, 4, 6, 3, 3, 4, 6, 6, 3, 3, 4, 4, 4, 4, 6, 6, 3, 4, 4, 3, 2, 4, 4, 2, 3], [5, 5, 3, 5, 7, 3, 5, 7, 7, 5, 3, 7, 7, 3, 3, 7, 3, 3, 7, 3, 4, 4, 6, 6, 3, 6, 3, 6, 3, 4, 4, 6, 3, 4, 6, 3, 6, 6, 4, 4, 4, 2, 4, 4, 4], [3, 5, 3, 5, 3, 3, 7, 7, 3, 3, 5, 7, 5, 3, 7, 7, 3, 3, 3, 7, 3, 4, 6, 6, 4, 4, 6, 6, 3, 3, 3, 6, 3, 6, 3, 4, 3, 4, 6, 6, 4, 4, 4, 3, 2], [3, 7, 7, 5, 7, 3, 7, 5, 7, 7, 7, 5, 7, 5, 3, 7, 5, 5, 5, 5, 6, 3, 6, 6, 4, 6, 6, 4, 6, 6, 6, 3, 3, 3, 3, 3, 6, 6, 4, 4, 3, 4, 2, 2, 3], [7, 7, 3, 3, 5, 7, 3, 5, 5, 3, 3, 3, 5, 7, 3, 7, 7, 5, 7, 7, 6, 3, 4, 3, 3, 3, 4, 3, 3, 4, 6, 6, 6, 4, 4, 6, 6, 4, 3, 4, 2, 2, 3, 4, 3], [7, 3, 3, 3, 3, 3, 5, 7, 5, 3, 5, 5, 3, 7, 7, 7, 5, 3, 7, 5, 3, 6, 3, 6, 6, 3, 4, 3, 6, 6, 3, 4, 3, 4, 4, 3, 4, 6, 6, 4, 3, 3, 2, 3, 3], [3, 3, 7, 5, 7, 3, 5, 7, 3, 5, 3, 5, 5, 5, 5, 3, 5, 5, 3, 3, 3, 6, 6, 6, 6, 6, 4, 3, 4, 4, 6, 4, 3, 6, 3, 6, 3, 6, 4, 6, 2, 2, 2, 3, 3], [5, 3, 5, 5, 5, 5, 7, 7, 3, 7, 7, 7, 3, 3, 7, 3, 7, 5, 5, 3, 3, 3, 6, 4, 6, 4, 4, 3, 6, 4, 6, 6, 3, 6, 4, 4, 3, 4, 3, 4, 3, 3, 4, 4, 4], [5, 5, 7, 5, 5, 5, 5, 7, 3, 3, 7, 3, 7, 5, 3, 3, 5, 7, 3, 3, 4, 4, 4, 4, 3, 4, 6, 3, 4, 6, 6, 3, 6, 3, 4, 6, 6, 4, 4, 6, 2, 4, 2, 3, 3], [7, 5, 3, 3, 7, 7, 7, 7, 5, 7, 5, 3, 7, 3, 5, 7, 3, 5, 7, 5, 4, 4, 4, 6, 4, 3, 3, 6, 3, 6, 4, 6, 6, 6, 6, 6, 3, 4, 6, 4, 2, 2, 2, 4, 3], [3, 3, 3, 7, 7, 3, 3, 7, 7, 7, 7, 5, 5, 7, 7, 3, 7, 7, 5, 7, 3, 4, 3, 3, 6, 3, 6, 3, 6, 3, 6, 3, 4, 3, 3, 6, 4, 4, 3, 6, 4, 4, 2, 4, 3], [3, 7, 7, 7, 3, 5, 3, 7, 5, 3, 5, 5, 7, 3, 5, 5, 3, 7, 5, 5, 4, 3, 4, 4, 3, 4, 6, 4, 6, 4, 3, 3, 3, 3, 6, 3, 4, 6, 4, 3, 4, 2, 4, 4, 3], [7, 7, 3, 5, 5, 5, 7, 3, 3, 5, 3, 3, 5, 7, 7, 3, 3, 7, 3, 3, 3, 3, 4, 6, 4, 6, 6, 6, 4, 3, 3, 6, 6, 4, 3, 4, 6, 4, 4, 4, 2, 4, 2, 3, 2], [3, 7, 7, 3, 5, 7, 7, 5, 7, 3, 5, 7, 7, 3, 5, 5, 5, 3, 3, 5, 3, 4, 3, 4, 3, 4, 6, 3, 6, 3, 4, 3, 4, 4, 4, 6, 3, 3, 4, 3, 3, 3, 2, 4, 2], [3, 7, 5, 3, 3, 5, 5, 7, 5, 7, 3, 5, 3, 7, 7, 5, 5, 7, 3, 3, 3, 3, 4, 6, 3, 6, 4, 3, 6, 4, 6, 4, 6, 6, 6, 6, 3, 4, 3, 6, 4, 4, 2, 2, 3], [3, 7, 3, 3, 5, 7, 5, 7, 5, 7, 7, 7, 7, 3, 3, 3, 7, 3, 3, 3, 6, 4, 4, 3, 4, 6, 4, 6, 4, 6, 6, 4, 4, 3, 3, 3, 6, 4, 3, 3, 2, 4, 4, 4, 4], [5, 5, 7, 5, 7, 3, 7, 7, 7, 5, 7, 3, 5, 3, 5, 7, 3, 7, 7, 5, 4, 3, 6, 6, 6, 3, 6, 3, 6, 3, 3, 6, 4, 4, 3, 3, 3, 3, 3, 3, 3, 2, 3, 4, 2], [7, 3, 7, 3, 5, 5, 3, 3, 7, 3, 7, 7, 7, 5, 5, 5, 5, 7, 5, 5, 6, 4, 3, 3, 4, 3, 3, 4, 4, 3, 6, 6, 3, 4, 4, 6, 6, 4, 6, 3, 3, 4, 4, 4, 2], [5, 5, 3, 7, 3, 7, 7, 5, 3, 7, 7, 5, 5, 7, 7, 7, 5, 7, 5, 3, 4, 4, 3, 3, 4, 3, 4, 6, 3, 3, 3, 4, 6, 6, 4, 6, 6, 4, 3, 4, 4, 4, 4, 3, 4], [5, 5, 3, 5, 7, 3, 5, 5, 3, 5, 7, 3, 5, 3, 3, 5, 7, 7, 5, 5, 4, 3, 6, 4, 6, 6, 6, 4, 3, 6, 6, 6, 4, 4, 4, 4, 3, 4, 3, 6, 2, 4, 2, 4, 3], [5, 3, 5, 3, 5, 3, 3, 3, 7, 3, 5, 7, 5, 7, 3, 7, 7, 5, 5, 3, 6, 3, 6, 6, 3, 4, 3, 4, 6, 3, 4, 6, 3, 3, 4, 4, 6, 6, 6, 4, 3, 4, 4, 4, 3], [7, 5, 3, 7, 3, 5, 3, 5, 3, 5, 7, 3, 7, 7, 5, 7, 7, 3, 3, 3, 3, 3, 6, 4, 3, 4, 4, 3, 3, 3, 3, 4, 3, 3, 3, 3, 6, 6, 4, 4, 2, 4, 2, 4, 2], [5, 7, 7, 5, 5, 5, 7, 7, 7, 3, 5, 5, 5, 5, 3, 3, 5, 7, 3, 5, 3, 4, 4, 3, 3, 6, 6, 4, 4, 3, 4, 3, 3, 6, 4, 6, 4, 3, 3, 3, 2, 2, 4, 2, 2]], 'f_emb': [tensor([-0., -0., -0.,  ..., -0., -0., -0.]), tensor([-0., -0., -0.,  ..., -0., -0., -0.]), tensor([1226.8495,   -0.0000,   -0.0000,  ...,   -0.0000,   -0.0000,\n",
      "          -0.0000]), tensor([-0., -0., -0.,  ..., -0., -0., -0.]), tensor([188.3607,  -0.0000,  -0.0000,  ...,  -0.0000,  -0.0000, 213.2732]), tensor([-0., -0., -0.,  ..., -0., -0., -0.]), tensor([-0., -0., -0.,  ..., -0., -0., -0.]), tensor([-0.0000, -0.0000, -0.0000,  ..., -0.0000, -0.0000, 9.9611]), tensor([38.6843, -0.0000, -0.0000,  ..., -0.0000, -0.0000, -0.0000]), tensor([ 0.5262, -0.3664,  0.4536,  ..., -0.3597, -0.2121, -0.3281]), tensor([-0., -0., -0.,  ..., -0., -0., -0.]), tensor([-0.0000, -0.0000, -0.0000,  ..., 30.1783, -0.0000,  3.6916]), tensor([-0., -0., -0.,  ..., -0., -0., -0.]), tensor([-0., -0., -0.,  ..., -0., -0., -0.]), tensor([18.3999, -0.0000, -0.0000,  ..., -0.0000, -0.0000, 45.3672]), tensor([ 0.2349,  0.1743,  0.1660,  ...,  0.3616,  0.0957, -0.3534]), tensor([-0.2793, -0.3249, -0.3683,  ..., -0.0000, -0.0000, -0.3627]), tensor([ 0.0759, -0.3346, -0.2591,  ...,  0.4824, -0.2551, -0.1757]), tensor([ 0.4264, -0.1865, -0.1025,  ..., -0.1637,  0.7777, -0.3373]), tensor([ 0.4347, -0.2336, -0.2793,  ..., -0.3347, -0.3469, -0.1162]), tensor([ 0.0104,  0.4655, -0.3177,  ..., -0.1076,  0.8267, -0.3667]), tensor([ 0.0873,  0.1475, -0.3670,  ..., -0.1698,  0.0327, -0.3572]), tensor([322.7029,  -0.0000,  83.4842,  ...,  -0.0000,  -0.0000,  -0.0000]), tensor([-0.3365, -0.0309, -0.3139,  ...,  0.1455, -0.3260, -0.3622]), tensor([-0.0000, -0.0000, -0.0000,  ..., -0.0000, -0.0000, 3.1642]), tensor([    -0.0000,     -0.0000, 159417.2812,  ...,     -0.0000,\n",
      "            -0.0000, 179515.1562]), tensor([-0.0014, -0.3527, -0.0000,  ..., -0.0000, -0.0000, -0.0000]), tensor([6770305.5000,      -0.0000,      -0.0000,  ...,      -0.0000,\n",
      "             -0.0000,      -0.0000]), tensor([1609.9169,   -0.0000,   -0.0000,  ...,   -0.0000,   -0.0000,\n",
      "          -0.0000]), tensor([-0., -0., -0.,  ..., -0., -0., -0.])], 'acc': [99.51923076923077, 99.03846153846153, 99.51923076923077, 99.51923076923077, 99.51923076923077, 99.51923076923077, 98.38709677419355, 96.7741935483871, 98.38709677419355, 98.38709677419355, 8.064516129032258, 96.7741935483871, 77.08333333333333, 76.4423076923077, 78.68589743589743, 77.40384615384616, 77.24358974358974, 78.36538461538461, 94.23076923076923, 75.64102564102564, 90.7051282051282, 94.23076923076923, 91.34615384615384, 94.23076923076923, 99.52978056426332, 99.3730407523511, 99.68652037617555, 99.68652037617555, 100.0, 99.3730407523511], 'n_params': [6228442, 5625114, 6570290, 5347354, 5825218, 4821626, 4711646, 4554646, 6688342, 4317614, 5203934, 5550702, 5717244, 5151700, 5773028, 5059684, 6364428, 4930308, 5608818, 4493962, 4318938, 4537954, 5514050, 3861938, 5155304, 6005320, 4798208, 6420784, 4792312, 3845304]}\n",
      "\n",
      "=====> GENERATING QUERIES <=====\n",
      "\n",
      "query_shape_train: 32, each tensor:torch.Size([512])\n"
     ]
    },
    {
     "name": "stderr",
     "output_type": "stream",
     "text": [
      "Using cache found in /root/.cache/torch/hub/mit-han-lab_once-for-all_master\n"
     ]
    },
    {
     "name": "stdout",
     "output_type": "stream",
     "text": [
      "query_shape_test: 32, each tensor:torch.Size([512])\n",
      "x_query:32, x_query-test :32\n",
      "\n",
      "=====>SAVING lego-brick-images_joosthazelzet_0_16 in m_train.pt <=====\n",
      "\n",
      "quesry_dataset oregon-wildlife_virtualdvid_0_20\n",
      "\n",
      "Dataset : oregon-wildlife_virtualdvid_0_20, nclss:20\n",
      "\n",
      "\n",
      "=====> Generating 1th network  <=====\n",
      "\n",
      "\n",
      "=====>Generating sub_net<=====\n",
      "\n",
      "\n",
      "=====> Training started <=====\n",
      "\n",
      "Starting Training for:oregon-wildlife_virtualdvid_0_20 with model topology:[5, 5, 7, 3, 3, 3, 5, 3, 5, 5, 3, 3, 5, 7, 5, 3, 5, 3, 7, 7, 3, 3, 4, 4, 3, 3, 3, 3, 4, 6, 6, 4, 3, 4, 6, 4, 4, 4, 3, 3, 4, 4, 3, 2, 3]\n"
     ]
    },
    {
     "name": "stderr",
     "output_type": "stream",
     "text": [
      "177it [00:41,  4.25it/s]\n",
      "23it [00:05,  3.85it/s]\n"
     ]
    },
    {
     "name": "stdout",
     "output_type": "stream",
     "text": [
      "\n",
      "Epoch: 1/15, Train Loss: 36.65944089 , Val Loss: 16.90044752, Train Accuracy:70.91069850,  Val Accuracy: 83.75706215, Epoch Time: 47.81804180\n"
     ]
    },
    {
     "name": "stderr",
     "output_type": "stream",
     "text": [
      "177it [00:35,  5.00it/s]\n",
      "23it [00:04,  5.17it/s]\n"
     ]
    },
    {
     "name": "stdout",
     "output_type": "stream",
     "text": [
      "\n",
      "Epoch: 2/15, Train Loss: 12.40382947 , Val Loss: 14.41056274, Train Accuracy:87.63925729,  Val Accuracy: 85.45197740, Epoch Time: 40.14469814\n"
     ]
    },
    {
     "name": "stderr",
     "output_type": "stream",
     "text": [
      "177it [00:36,  4.91it/s]\n",
      "23it [00:04,  5.09it/s]\n"
     ]
    },
    {
     "name": "stdout",
     "output_type": "stream",
     "text": [
      "\n",
      "Epoch: 3/15, Train Loss: 7.40286252 , Val Loss: 13.50479906, Train Accuracy:93.08576481,  Val Accuracy: 87.28813559, Epoch Time: 40.79009795\n"
     ]
    },
    {
     "name": "stderr",
     "output_type": "stream",
     "text": [
      "177it [00:35,  4.98it/s]\n",
      "23it [00:04,  5.25it/s]\n"
     ]
    },
    {
     "name": "stdout",
     "output_type": "stream",
     "text": [
      "\n",
      "Epoch: 4/15, Train Loss: 4.65810264 , Val Loss: 13.96208495, Train Accuracy:95.57913351,  Val Accuracy: 86.72316384, Epoch Time: 40.16695714\n"
     ]
    },
    {
     "name": "stderr",
     "output_type": "stream",
     "text": [
      "177it [00:36,  4.81it/s]\n",
      "23it [00:04,  5.30it/s]\n"
     ]
    },
    {
     "name": "stdout",
     "output_type": "stream",
     "text": [
      "\n",
      "Epoch: 5/15, Train Loss: 3.18375324 , Val Loss: 14.38532093, Train Accuracy:97.34748011,  Val Accuracy: 87.00564972, Epoch Time: 41.38887382\n"
     ]
    },
    {
     "name": "stderr",
     "output_type": "stream",
     "text": [
      "177it [00:36,  4.91it/s]\n",
      "23it [00:04,  5.21it/s]\n"
     ]
    },
    {
     "name": "stdout",
     "output_type": "stream",
     "text": [
      "\n",
      "Epoch: 6/15, Train Loss: 2.10928179 , Val Loss: 14.19058357, Train Accuracy:98.62068966,  Val Accuracy: 87.71186441, Epoch Time: 40.75014448\n"
     ]
    },
    {
     "name": "stderr",
     "output_type": "stream",
     "text": [
      "177it [00:36,  4.86it/s]\n",
      "23it [00:04,  5.33it/s]\n"
     ]
    },
    {
     "name": "stdout",
     "output_type": "stream",
     "text": [
      "\n",
      "Epoch: 7/15, Train Loss: 1.49900806 , Val Loss: 15.38122019, Train Accuracy:98.92130858,  Val Accuracy: 86.44067797, Epoch Time: 40.97539926\n"
     ]
    },
    {
     "name": "stderr",
     "output_type": "stream",
     "text": [
      "177it [00:37,  4.75it/s]\n",
      "23it [00:05,  4.41it/s]\n"
     ]
    },
    {
     "name": "stdout",
     "output_type": "stream",
     "text": [
      "\n",
      "Epoch: 8/15, Train Loss: 1.52185157 , Val Loss: 17.58922977, Train Accuracy:99.09814324,  Val Accuracy: 84.88700565, Epoch Time: 42.73287225\n",
      "Early stopping on, 7th, epoch\n",
      "\n",
      "=====>Generating f_emb<=====\n",
      "\n",
      "torch.Size([1536])\n",
      "{'dataset': ['sldc_0_10', 'sldc_0_10', 'sldc_0_10', 'sldc_0_10', 'sldc_0_10', 'sldc_0_10', 'corales_0_14', 'corales_0_14', 'corales_0_14', 'corales_0_14', 'corales_0_14', 'corales_0_14', '6000-store-items-images-classified-by-color_imoore_0_12', '6000-store-items-images-classified-by-color_imoore_0_12', '6000-store-items-images-classified-by-color_imoore_0_12', '6000-store-items-images-classified-by-color_imoore_0_12', '6000-store-items-images-classified-by-color_imoore_0_12', '6000-store-items-images-classified-by-color_imoore_0_12', 'fcis-sc-deeplearning-competition_0_10', 'fcis-sc-deeplearning-competition_0_10', 'fcis-sc-deeplearning-competition_0_10', 'fcis-sc-deeplearning-competition_0_10', 'fcis-sc-deeplearning-competition_0_10', 'fcis-sc-deeplearning-competition_0_10', 'lego-brick-images_joosthazelzet_0_16', 'lego-brick-images_joosthazelzet_0_16', 'lego-brick-images_joosthazelzet_0_16', 'lego-brick-images_joosthazelzet_0_16', 'lego-brick-images_joosthazelzet_0_16', 'lego-brick-images_joosthazelzet_0_16', 'oregon-wildlife_virtualdvid_0_20'], 'topol': [[3, 5, 5, 5, 7, 5, 5, 7, 3, 5, 7, 7, 7, 5, 7, 5, 3, 3, 7, 3, 4, 3, 6, 3, 6, 6, 4, 4, 6, 4, 3, 6, 6, 3, 4, 6, 3, 4, 6, 3, 3, 4, 2, 4, 4], [3, 7, 7, 7, 5, 7, 5, 3, 7, 5, 3, 3, 5, 5, 3, 7, 7, 5, 3, 5, 3, 4, 6, 3, 6, 4, 6, 4, 4, 3, 3, 3, 3, 6, 6, 3, 3, 4, 6, 4, 4, 3, 2, 2, 4], [3, 7, 5, 5, 3, 7, 7, 5, 5, 5, 5, 5, 5, 7, 7, 7, 7, 7, 5, 7, 6, 6, 6, 3, 6, 3, 4, 4, 6, 6, 6, 4, 3, 6, 4, 6, 6, 4, 6, 4, 2, 3, 3, 3, 4], [7, 5, 3, 3, 5, 3, 5, 5, 5, 5, 3, 7, 7, 5, 7, 3, 3, 5, 3, 5, 3, 4, 6, 6, 6, 3, 6, 3, 6, 3, 6, 4, 4, 6, 6, 4, 6, 6, 6, 4, 2, 2, 2, 3, 2], [3, 5, 5, 7, 5, 5, 7, 3, 7, 5, 5, 5, 3, 5, 3, 7, 5, 7, 7, 3, 3, 6, 3, 3, 6, 3, 6, 6, 4, 4, 3, 4, 4, 3, 6, 6, 4, 3, 4, 3, 4, 3, 4, 4, 4], [3, 3, 5, 5, 7, 5, 5, 5, 5, 5, 3, 3, 3, 3, 3, 7, 7, 3, 5, 5, 6, 4, 3, 4, 4, 4, 3, 6, 4, 3, 6, 4, 4, 4, 6, 6, 4, 4, 3, 6, 4, 2, 4, 3, 3], [7, 7, 5, 5, 5, 5, 3, 3, 3, 5, 7, 5, 5, 3, 3, 5, 5, 5, 7, 5, 3, 4, 3, 6, 6, 4, 3, 4, 6, 6, 4, 4, 6, 4, 4, 3, 6, 4, 3, 6, 2, 4, 4, 3, 2], [3, 3, 3, 7, 7, 5, 5, 7, 7, 5, 7, 7, 7, 7, 3, 5, 7, 7, 7, 3, 6, 4, 6, 3, 3, 4, 6, 6, 3, 3, 4, 4, 4, 4, 6, 6, 3, 4, 4, 3, 2, 4, 4, 2, 3], [5, 5, 3, 5, 7, 3, 5, 7, 7, 5, 3, 7, 7, 3, 3, 7, 3, 3, 7, 3, 4, 4, 6, 6, 3, 6, 3, 6, 3, 4, 4, 6, 3, 4, 6, 3, 6, 6, 4, 4, 4, 2, 4, 4, 4], [3, 5, 3, 5, 3, 3, 7, 7, 3, 3, 5, 7, 5, 3, 7, 7, 3, 3, 3, 7, 3, 4, 6, 6, 4, 4, 6, 6, 3, 3, 3, 6, 3, 6, 3, 4, 3, 4, 6, 6, 4, 4, 4, 3, 2], [3, 7, 7, 5, 7, 3, 7, 5, 7, 7, 7, 5, 7, 5, 3, 7, 5, 5, 5, 5, 6, 3, 6, 6, 4, 6, 6, 4, 6, 6, 6, 3, 3, 3, 3, 3, 6, 6, 4, 4, 3, 4, 2, 2, 3], [7, 7, 3, 3, 5, 7, 3, 5, 5, 3, 3, 3, 5, 7, 3, 7, 7, 5, 7, 7, 6, 3, 4, 3, 3, 3, 4, 3, 3, 4, 6, 6, 6, 4, 4, 6, 6, 4, 3, 4, 2, 2, 3, 4, 3], [7, 3, 3, 3, 3, 3, 5, 7, 5, 3, 5, 5, 3, 7, 7, 7, 5, 3, 7, 5, 3, 6, 3, 6, 6, 3, 4, 3, 6, 6, 3, 4, 3, 4, 4, 3, 4, 6, 6, 4, 3, 3, 2, 3, 3], [3, 3, 7, 5, 7, 3, 5, 7, 3, 5, 3, 5, 5, 5, 5, 3, 5, 5, 3, 3, 3, 6, 6, 6, 6, 6, 4, 3, 4, 4, 6, 4, 3, 6, 3, 6, 3, 6, 4, 6, 2, 2, 2, 3, 3], [5, 3, 5, 5, 5, 5, 7, 7, 3, 7, 7, 7, 3, 3, 7, 3, 7, 5, 5, 3, 3, 3, 6, 4, 6, 4, 4, 3, 6, 4, 6, 6, 3, 6, 4, 4, 3, 4, 3, 4, 3, 3, 4, 4, 4], [5, 5, 7, 5, 5, 5, 5, 7, 3, 3, 7, 3, 7, 5, 3, 3, 5, 7, 3, 3, 4, 4, 4, 4, 3, 4, 6, 3, 4, 6, 6, 3, 6, 3, 4, 6, 6, 4, 4, 6, 2, 4, 2, 3, 3], [7, 5, 3, 3, 7, 7, 7, 7, 5, 7, 5, 3, 7, 3, 5, 7, 3, 5, 7, 5, 4, 4, 4, 6, 4, 3, 3, 6, 3, 6, 4, 6, 6, 6, 6, 6, 3, 4, 6, 4, 2, 2, 2, 4, 3], [3, 3, 3, 7, 7, 3, 3, 7, 7, 7, 7, 5, 5, 7, 7, 3, 7, 7, 5, 7, 3, 4, 3, 3, 6, 3, 6, 3, 6, 3, 6, 3, 4, 3, 3, 6, 4, 4, 3, 6, 4, 4, 2, 4, 3], [3, 7, 7, 7, 3, 5, 3, 7, 5, 3, 5, 5, 7, 3, 5, 5, 3, 7, 5, 5, 4, 3, 4, 4, 3, 4, 6, 4, 6, 4, 3, 3, 3, 3, 6, 3, 4, 6, 4, 3, 4, 2, 4, 4, 3], [7, 7, 3, 5, 5, 5, 7, 3, 3, 5, 3, 3, 5, 7, 7, 3, 3, 7, 3, 3, 3, 3, 4, 6, 4, 6, 6, 6, 4, 3, 3, 6, 6, 4, 3, 4, 6, 4, 4, 4, 2, 4, 2, 3, 2], [3, 7, 7, 3, 5, 7, 7, 5, 7, 3, 5, 7, 7, 3, 5, 5, 5, 3, 3, 5, 3, 4, 3, 4, 3, 4, 6, 3, 6, 3, 4, 3, 4, 4, 4, 6, 3, 3, 4, 3, 3, 3, 2, 4, 2], [3, 7, 5, 3, 3, 5, 5, 7, 5, 7, 3, 5, 3, 7, 7, 5, 5, 7, 3, 3, 3, 3, 4, 6, 3, 6, 4, 3, 6, 4, 6, 4, 6, 6, 6, 6, 3, 4, 3, 6, 4, 4, 2, 2, 3], [3, 7, 3, 3, 5, 7, 5, 7, 5, 7, 7, 7, 7, 3, 3, 3, 7, 3, 3, 3, 6, 4, 4, 3, 4, 6, 4, 6, 4, 6, 6, 4, 4, 3, 3, 3, 6, 4, 3, 3, 2, 4, 4, 4, 4], [5, 5, 7, 5, 7, 3, 7, 7, 7, 5, 7, 3, 5, 3, 5, 7, 3, 7, 7, 5, 4, 3, 6, 6, 6, 3, 6, 3, 6, 3, 3, 6, 4, 4, 3, 3, 3, 3, 3, 3, 3, 2, 3, 4, 2], [7, 3, 7, 3, 5, 5, 3, 3, 7, 3, 7, 7, 7, 5, 5, 5, 5, 7, 5, 5, 6, 4, 3, 3, 4, 3, 3, 4, 4, 3, 6, 6, 3, 4, 4, 6, 6, 4, 6, 3, 3, 4, 4, 4, 2], [5, 5, 3, 7, 3, 7, 7, 5, 3, 7, 7, 5, 5, 7, 7, 7, 5, 7, 5, 3, 4, 4, 3, 3, 4, 3, 4, 6, 3, 3, 3, 4, 6, 6, 4, 6, 6, 4, 3, 4, 4, 4, 4, 3, 4], [5, 5, 3, 5, 7, 3, 5, 5, 3, 5, 7, 3, 5, 3, 3, 5, 7, 7, 5, 5, 4, 3, 6, 4, 6, 6, 6, 4, 3, 6, 6, 6, 4, 4, 4, 4, 3, 4, 3, 6, 2, 4, 2, 4, 3], [5, 3, 5, 3, 5, 3, 3, 3, 7, 3, 5, 7, 5, 7, 3, 7, 7, 5, 5, 3, 6, 3, 6, 6, 3, 4, 3, 4, 6, 3, 4, 6, 3, 3, 4, 4, 6, 6, 6, 4, 3, 4, 4, 4, 3], [7, 5, 3, 7, 3, 5, 3, 5, 3, 5, 7, 3, 7, 7, 5, 7, 7, 3, 3, 3, 3, 3, 6, 4, 3, 4, 4, 3, 3, 3, 3, 4, 3, 3, 3, 3, 6, 6, 4, 4, 2, 4, 2, 4, 2], [5, 7, 7, 5, 5, 5, 7, 7, 7, 3, 5, 5, 5, 5, 3, 3, 5, 7, 3, 5, 3, 4, 4, 3, 3, 6, 6, 4, 4, 3, 4, 3, 3, 6, 4, 6, 4, 3, 3, 3, 2, 2, 4, 2, 2], [5, 5, 7, 3, 3, 3, 5, 3, 5, 5, 3, 3, 5, 7, 5, 3, 5, 3, 7, 7, 3, 3, 4, 4, 3, 3, 3, 3, 4, 6, 6, 4, 3, 4, 6, 4, 4, 4, 3, 3, 4, 4, 3, 2, 3]], 'f_emb': [tensor([-0., -0., -0.,  ..., -0., -0., -0.]), tensor([-0., -0., -0.,  ..., -0., -0., -0.]), tensor([1226.8495,   -0.0000,   -0.0000,  ...,   -0.0000,   -0.0000,\n",
      "          -0.0000]), tensor([-0., -0., -0.,  ..., -0., -0., -0.]), tensor([188.3607,  -0.0000,  -0.0000,  ...,  -0.0000,  -0.0000, 213.2732]), tensor([-0., -0., -0.,  ..., -0., -0., -0.]), tensor([-0., -0., -0.,  ..., -0., -0., -0.]), tensor([-0.0000, -0.0000, -0.0000,  ..., -0.0000, -0.0000, 9.9611]), tensor([38.6843, -0.0000, -0.0000,  ..., -0.0000, -0.0000, -0.0000]), tensor([ 0.5262, -0.3664,  0.4536,  ..., -0.3597, -0.2121, -0.3281]), tensor([-0., -0., -0.,  ..., -0., -0., -0.]), tensor([-0.0000, -0.0000, -0.0000,  ..., 30.1783, -0.0000,  3.6916]), tensor([-0., -0., -0.,  ..., -0., -0., -0.]), tensor([-0., -0., -0.,  ..., -0., -0., -0.]), tensor([18.3999, -0.0000, -0.0000,  ..., -0.0000, -0.0000, 45.3672]), tensor([ 0.2349,  0.1743,  0.1660,  ...,  0.3616,  0.0957, -0.3534]), tensor([-0.2793, -0.3249, -0.3683,  ..., -0.0000, -0.0000, -0.3627]), tensor([ 0.0759, -0.3346, -0.2591,  ...,  0.4824, -0.2551, -0.1757]), tensor([ 0.4264, -0.1865, -0.1025,  ..., -0.1637,  0.7777, -0.3373]), tensor([ 0.4347, -0.2336, -0.2793,  ..., -0.3347, -0.3469, -0.1162]), tensor([ 0.0104,  0.4655, -0.3177,  ..., -0.1076,  0.8267, -0.3667]), tensor([ 0.0873,  0.1475, -0.3670,  ..., -0.1698,  0.0327, -0.3572]), tensor([322.7029,  -0.0000,  83.4842,  ...,  -0.0000,  -0.0000,  -0.0000]), tensor([-0.3365, -0.0309, -0.3139,  ...,  0.1455, -0.3260, -0.3622]), tensor([-0.0000, -0.0000, -0.0000,  ..., -0.0000, -0.0000, 3.1642]), tensor([    -0.0000,     -0.0000, 159417.2812,  ...,     -0.0000,\n",
      "            -0.0000, 179515.1562]), tensor([-0.0014, -0.3527, -0.0000,  ..., -0.0000, -0.0000, -0.0000]), tensor([6770305.5000,      -0.0000,      -0.0000,  ...,      -0.0000,\n",
      "             -0.0000,      -0.0000]), tensor([1609.9169,   -0.0000,   -0.0000,  ...,   -0.0000,   -0.0000,\n"
     ]
    },
    {
     "name": "stderr",
     "output_type": "stream",
     "text": [
      "Using cache found in /root/.cache/torch/hub/mit-han-lab_once-for-all_master\n"
     ]
    },
    {
     "name": "stdout",
     "output_type": "stream",
     "text": [
      "          -0.0000]), tensor([-0., -0., -0.,  ..., -0., -0., -0.]), tensor([-0.0067, -0.3482, -0.3706,  ..., -0.3683, -0.0611,  0.0504])], 'acc': [99.51923076923077, 99.03846153846153, 99.51923076923077, 99.51923076923077, 99.51923076923077, 99.51923076923077, 98.38709677419355, 96.7741935483871, 98.38709677419355, 98.38709677419355, 8.064516129032258, 96.7741935483871, 77.08333333333333, 76.4423076923077, 78.68589743589743, 77.40384615384616, 77.24358974358974, 78.36538461538461, 94.23076923076923, 75.64102564102564, 90.7051282051282, 94.23076923076923, 91.34615384615384, 94.23076923076923, 99.52978056426332, 99.3730407523511, 99.68652037617555, 99.68652037617555, 100.0, 99.3730407523511, 84.88700564971751], 'n_params': [6228442, 5625114, 6570290, 5347354, 5825218, 4821626, 4711646, 4554646, 6688342, 4317614, 5203934, 5550702, 5717244, 5151700, 5773028, 5059684, 6364428, 4930308, 5608818, 4493962, 4318938, 4537954, 5514050, 3861938, 5155304, 6005320, 4798208, 6420784, 4792312, 3845304, 4249220]}\n",
      "\n",
      "=====> Generating 2th network  <=====\n",
      "\n",
      "\n",
      "=====>Generating sub_net<=====\n",
      "\n",
      "\n",
      "=====> Training started <=====\n",
      "\n",
      "Starting Training for:oregon-wildlife_virtualdvid_0_20 with model topology:[3, 5, 5, 5, 7, 5, 7, 7, 5, 5, 5, 5, 5, 7, 3, 5, 7, 7, 3, 5, 6, 6, 4, 6, 3, 3, 3, 4, 4, 3, 6, 4, 4, 3, 3, 6, 6, 3, 3, 6, 3, 4, 3, 2, 2]\n"
     ]
    },
    {
     "name": "stderr",
     "output_type": "stream",
     "text": [
      "177it [00:36,  4.85it/s]\n",
      "23it [00:04,  4.96it/s]\n"
     ]
    },
    {
     "name": "stdout",
     "output_type": "stream",
     "text": [
      "\n",
      "Epoch: 1/15, Train Loss: 37.09975484 , Val Loss: 17.08103525, Train Accuracy:70.75154730,  Val Accuracy: 84.60451977, Epoch Time: 41.36160874\n"
     ]
    },
    {
     "name": "stderr",
     "output_type": "stream",
     "text": [
      "177it [00:36,  4.91it/s]\n",
      "23it [00:04,  5.18it/s]\n"
     ]
    },
    {
     "name": "stdout",
     "output_type": "stream",
     "text": [
      "\n",
      "Epoch: 2/15, Train Loss: 12.46511143 , Val Loss: 14.52777338, Train Accuracy:88.57648099,  Val Accuracy: 86.58192090, Epoch Time: 40.73950028\n"
     ]
    },
    {
     "name": "stderr",
     "output_type": "stream",
     "text": [
      "177it [00:36,  4.92it/s]\n",
      "23it [00:04,  4.96it/s]\n"
     ]
    },
    {
     "name": "stdout",
     "output_type": "stream",
     "text": [
      "\n",
      "Epoch: 3/15, Train Loss: 8.05000972 , Val Loss: 14.54241188, Train Accuracy:92.62599469,  Val Accuracy: 86.72316384, Epoch Time: 40.86253929\n"
     ]
    },
    {
     "name": "stderr",
     "output_type": "stream",
     "text": [
      "177it [00:36,  4.90it/s]\n",
      "23it [00:04,  5.20it/s]\n"
     ]
    },
    {
     "name": "stdout",
     "output_type": "stream",
     "text": [
      "\n",
      "Epoch: 4/15, Train Loss: 5.32026040 , Val Loss: 14.65824893, Train Accuracy:95.52608311,  Val Accuracy: 86.15819209, Epoch Time: 40.83223510\n"
     ]
    },
    {
     "name": "stderr",
     "output_type": "stream",
     "text": [
      "177it [00:36,  4.84it/s]\n",
      "23it [00:04,  5.26it/s]\n"
     ]
    },
    {
     "name": "stdout",
     "output_type": "stream",
     "text": [
      "\n",
      "Epoch: 5/15, Train Loss: 3.33177421 , Val Loss: 14.70607873, Train Accuracy:97.38284704,  Val Accuracy: 87.42937853, Epoch Time: 41.20670509\n"
     ]
    },
    {
     "name": "stderr",
     "output_type": "stream",
     "text": [
      "177it [00:35,  4.93it/s]\n",
      "23it [00:04,  5.13it/s]\n"
     ]
    },
    {
     "name": "stdout",
     "output_type": "stream",
     "text": [
      "\n",
      "Epoch: 6/15, Train Loss: 2.19545107 , Val Loss: 14.53173213, Train Accuracy:98.62068966,  Val Accuracy: 87.00564972, Epoch Time: 40.64355302\n"
     ]
    },
    {
     "name": "stderr",
     "output_type": "stream",
     "text": [
      "177it [00:37,  4.69it/s]\n",
      "23it [00:04,  4.64it/s]\n"
     ]
    },
    {
     "name": "stdout",
     "output_type": "stream",
     "text": [
      "\n",
      "Epoch: 7/15, Train Loss: 1.59940890 , Val Loss: 15.15234955, Train Accuracy:99.02740937,  Val Accuracy: 87.99435028, Epoch Time: 42.94097352\n",
      "Early stopping on, 6th, epoch\n",
      "\n",
      "=====>Generating f_emb<=====\n",
      "\n",
      "torch.Size([1536])\n",
      "{'dataset': ['sldc_0_10', 'sldc_0_10', 'sldc_0_10', 'sldc_0_10', 'sldc_0_10', 'sldc_0_10', 'corales_0_14', 'corales_0_14', 'corales_0_14', 'corales_0_14', 'corales_0_14', 'corales_0_14', '6000-store-items-images-classified-by-color_imoore_0_12', '6000-store-items-images-classified-by-color_imoore_0_12', '6000-store-items-images-classified-by-color_imoore_0_12', '6000-store-items-images-classified-by-color_imoore_0_12', '6000-store-items-images-classified-by-color_imoore_0_12', '6000-store-items-images-classified-by-color_imoore_0_12', 'fcis-sc-deeplearning-competition_0_10', 'fcis-sc-deeplearning-competition_0_10', 'fcis-sc-deeplearning-competition_0_10', 'fcis-sc-deeplearning-competition_0_10', 'fcis-sc-deeplearning-competition_0_10', 'fcis-sc-deeplearning-competition_0_10', 'lego-brick-images_joosthazelzet_0_16', 'lego-brick-images_joosthazelzet_0_16', 'lego-brick-images_joosthazelzet_0_16', 'lego-brick-images_joosthazelzet_0_16', 'lego-brick-images_joosthazelzet_0_16', 'lego-brick-images_joosthazelzet_0_16', 'oregon-wildlife_virtualdvid_0_20', 'oregon-wildlife_virtualdvid_0_20'], 'topol': [[3, 5, 5, 5, 7, 5, 5, 7, 3, 5, 7, 7, 7, 5, 7, 5, 3, 3, 7, 3, 4, 3, 6, 3, 6, 6, 4, 4, 6, 4, 3, 6, 6, 3, 4, 6, 3, 4, 6, 3, 3, 4, 2, 4, 4], [3, 7, 7, 7, 5, 7, 5, 3, 7, 5, 3, 3, 5, 5, 3, 7, 7, 5, 3, 5, 3, 4, 6, 3, 6, 4, 6, 4, 4, 3, 3, 3, 3, 6, 6, 3, 3, 4, 6, 4, 4, 3, 2, 2, 4], [3, 7, 5, 5, 3, 7, 7, 5, 5, 5, 5, 5, 5, 7, 7, 7, 7, 7, 5, 7, 6, 6, 6, 3, 6, 3, 4, 4, 6, 6, 6, 4, 3, 6, 4, 6, 6, 4, 6, 4, 2, 3, 3, 3, 4], [7, 5, 3, 3, 5, 3, 5, 5, 5, 5, 3, 7, 7, 5, 7, 3, 3, 5, 3, 5, 3, 4, 6, 6, 6, 3, 6, 3, 6, 3, 6, 4, 4, 6, 6, 4, 6, 6, 6, 4, 2, 2, 2, 3, 2], [3, 5, 5, 7, 5, 5, 7, 3, 7, 5, 5, 5, 3, 5, 3, 7, 5, 7, 7, 3, 3, 6, 3, 3, 6, 3, 6, 6, 4, 4, 3, 4, 4, 3, 6, 6, 4, 3, 4, 3, 4, 3, 4, 4, 4], [3, 3, 5, 5, 7, 5, 5, 5, 5, 5, 3, 3, 3, 3, 3, 7, 7, 3, 5, 5, 6, 4, 3, 4, 4, 4, 3, 6, 4, 3, 6, 4, 4, 4, 6, 6, 4, 4, 3, 6, 4, 2, 4, 3, 3], [7, 7, 5, 5, 5, 5, 3, 3, 3, 5, 7, 5, 5, 3, 3, 5, 5, 5, 7, 5, 3, 4, 3, 6, 6, 4, 3, 4, 6, 6, 4, 4, 6, 4, 4, 3, 6, 4, 3, 6, 2, 4, 4, 3, 2], [3, 3, 3, 7, 7, 5, 5, 7, 7, 5, 7, 7, 7, 7, 3, 5, 7, 7, 7, 3, 6, 4, 6, 3, 3, 4, 6, 6, 3, 3, 4, 4, 4, 4, 6, 6, 3, 4, 4, 3, 2, 4, 4, 2, 3], [5, 5, 3, 5, 7, 3, 5, 7, 7, 5, 3, 7, 7, 3, 3, 7, 3, 3, 7, 3, 4, 4, 6, 6, 3, 6, 3, 6, 3, 4, 4, 6, 3, 4, 6, 3, 6, 6, 4, 4, 4, 2, 4, 4, 4], [3, 5, 3, 5, 3, 3, 7, 7, 3, 3, 5, 7, 5, 3, 7, 7, 3, 3, 3, 7, 3, 4, 6, 6, 4, 4, 6, 6, 3, 3, 3, 6, 3, 6, 3, 4, 3, 4, 6, 6, 4, 4, 4, 3, 2], [3, 7, 7, 5, 7, 3, 7, 5, 7, 7, 7, 5, 7, 5, 3, 7, 5, 5, 5, 5, 6, 3, 6, 6, 4, 6, 6, 4, 6, 6, 6, 3, 3, 3, 3, 3, 6, 6, 4, 4, 3, 4, 2, 2, 3], [7, 7, 3, 3, 5, 7, 3, 5, 5, 3, 3, 3, 5, 7, 3, 7, 7, 5, 7, 7, 6, 3, 4, 3, 3, 3, 4, 3, 3, 4, 6, 6, 6, 4, 4, 6, 6, 4, 3, 4, 2, 2, 3, 4, 3], [7, 3, 3, 3, 3, 3, 5, 7, 5, 3, 5, 5, 3, 7, 7, 7, 5, 3, 7, 5, 3, 6, 3, 6, 6, 3, 4, 3, 6, 6, 3, 4, 3, 4, 4, 3, 4, 6, 6, 4, 3, 3, 2, 3, 3], [3, 3, 7, 5, 7, 3, 5, 7, 3, 5, 3, 5, 5, 5, 5, 3, 5, 5, 3, 3, 3, 6, 6, 6, 6, 6, 4, 3, 4, 4, 6, 4, 3, 6, 3, 6, 3, 6, 4, 6, 2, 2, 2, 3, 3], [5, 3, 5, 5, 5, 5, 7, 7, 3, 7, 7, 7, 3, 3, 7, 3, 7, 5, 5, 3, 3, 3, 6, 4, 6, 4, 4, 3, 6, 4, 6, 6, 3, 6, 4, 4, 3, 4, 3, 4, 3, 3, 4, 4, 4], [5, 5, 7, 5, 5, 5, 5, 7, 3, 3, 7, 3, 7, 5, 3, 3, 5, 7, 3, 3, 4, 4, 4, 4, 3, 4, 6, 3, 4, 6, 6, 3, 6, 3, 4, 6, 6, 4, 4, 6, 2, 4, 2, 3, 3], [7, 5, 3, 3, 7, 7, 7, 7, 5, 7, 5, 3, 7, 3, 5, 7, 3, 5, 7, 5, 4, 4, 4, 6, 4, 3, 3, 6, 3, 6, 4, 6, 6, 6, 6, 6, 3, 4, 6, 4, 2, 2, 2, 4, 3], [3, 3, 3, 7, 7, 3, 3, 7, 7, 7, 7, 5, 5, 7, 7, 3, 7, 7, 5, 7, 3, 4, 3, 3, 6, 3, 6, 3, 6, 3, 6, 3, 4, 3, 3, 6, 4, 4, 3, 6, 4, 4, 2, 4, 3], [3, 7, 7, 7, 3, 5, 3, 7, 5, 3, 5, 5, 7, 3, 5, 5, 3, 7, 5, 5, 4, 3, 4, 4, 3, 4, 6, 4, 6, 4, 3, 3, 3, 3, 6, 3, 4, 6, 4, 3, 4, 2, 4, 4, 3], [7, 7, 3, 5, 5, 5, 7, 3, 3, 5, 3, 3, 5, 7, 7, 3, 3, 7, 3, 3, 3, 3, 4, 6, 4, 6, 6, 6, 4, 3, 3, 6, 6, 4, 3, 4, 6, 4, 4, 4, 2, 4, 2, 3, 2], [3, 7, 7, 3, 5, 7, 7, 5, 7, 3, 5, 7, 7, 3, 5, 5, 5, 3, 3, 5, 3, 4, 3, 4, 3, 4, 6, 3, 6, 3, 4, 3, 4, 4, 4, 6, 3, 3, 4, 3, 3, 3, 2, 4, 2], [3, 7, 5, 3, 3, 5, 5, 7, 5, 7, 3, 5, 3, 7, 7, 5, 5, 7, 3, 3, 3, 3, 4, 6, 3, 6, 4, 3, 6, 4, 6, 4, 6, 6, 6, 6, 3, 4, 3, 6, 4, 4, 2, 2, 3], [3, 7, 3, 3, 5, 7, 5, 7, 5, 7, 7, 7, 7, 3, 3, 3, 7, 3, 3, 3, 6, 4, 4, 3, 4, 6, 4, 6, 4, 6, 6, 4, 4, 3, 3, 3, 6, 4, 3, 3, 2, 4, 4, 4, 4], [5, 5, 7, 5, 7, 3, 7, 7, 7, 5, 7, 3, 5, 3, 5, 7, 3, 7, 7, 5, 4, 3, 6, 6, 6, 3, 6, 3, 6, 3, 3, 6, 4, 4, 3, 3, 3, 3, 3, 3, 3, 2, 3, 4, 2], [7, 3, 7, 3, 5, 5, 3, 3, 7, 3, 7, 7, 7, 5, 5, 5, 5, 7, 5, 5, 6, 4, 3, 3, 4, 3, 3, 4, 4, 3, 6, 6, 3, 4, 4, 6, 6, 4, 6, 3, 3, 4, 4, 4, 2], [5, 5, 3, 7, 3, 7, 7, 5, 3, 7, 7, 5, 5, 7, 7, 7, 5, 7, 5, 3, 4, 4, 3, 3, 4, 3, 4, 6, 3, 3, 3, 4, 6, 6, 4, 6, 6, 4, 3, 4, 4, 4, 4, 3, 4], [5, 5, 3, 5, 7, 3, 5, 5, 3, 5, 7, 3, 5, 3, 3, 5, 7, 7, 5, 5, 4, 3, 6, 4, 6, 6, 6, 4, 3, 6, 6, 6, 4, 4, 4, 4, 3, 4, 3, 6, 2, 4, 2, 4, 3], [5, 3, 5, 3, 5, 3, 3, 3, 7, 3, 5, 7, 5, 7, 3, 7, 7, 5, 5, 3, 6, 3, 6, 6, 3, 4, 3, 4, 6, 3, 4, 6, 3, 3, 4, 4, 6, 6, 6, 4, 3, 4, 4, 4, 3], [7, 5, 3, 7, 3, 5, 3, 5, 3, 5, 7, 3, 7, 7, 5, 7, 7, 3, 3, 3, 3, 3, 6, 4, 3, 4, 4, 3, 3, 3, 3, 4, 3, 3, 3, 3, 6, 6, 4, 4, 2, 4, 2, 4, 2], [5, 7, 7, 5, 5, 5, 7, 7, 7, 3, 5, 5, 5, 5, 3, 3, 5, 7, 3, 5, 3, 4, 4, 3, 3, 6, 6, 4, 4, 3, 4, 3, 3, 6, 4, 6, 4, 3, 3, 3, 2, 2, 4, 2, 2], [5, 5, 7, 3, 3, 3, 5, 3, 5, 5, 3, 3, 5, 7, 5, 3, 5, 3, 7, 7, 3, 3, 4, 4, 3, 3, 3, 3, 4, 6, 6, 4, 3, 4, 6, 4, 4, 4, 3, 3, 4, 4, 3, 2, 3], [3, 5, 5, 5, 7, 5, 7, 7, 5, 5, 5, 5, 5, 7, 3, 5, 7, 7, 3, 5, 6, 6, 4, 6, 3, 3, 3, 4, 4, 3, 6, 4, 4, 3, 3, 6, 6, 3, 3, 6, 3, 4, 3, 2, 2]], 'f_emb': [tensor([-0., -0., -0.,  ..., -0., -0., -0.]), tensor([-0., -0., -0.,  ..., -0., -0., -0.]), tensor([1226.8495,   -0.0000,   -0.0000,  ...,   -0.0000,   -0.0000,\n",
      "          -0.0000]), tensor([-0., -0., -0.,  ..., -0., -0., -0.]), tensor([188.3607,  -0.0000,  -0.0000,  ...,  -0.0000,  -0.0000, 213.2732]), tensor([-0., -0., -0.,  ..., -0., -0., -0.]), tensor([-0., -0., -0.,  ..., -0., -0., -0.]), tensor([-0.0000, -0.0000, -0.0000,  ..., -0.0000, -0.0000, 9.9611]), tensor([38.6843, -0.0000, -0.0000,  ..., -0.0000, -0.0000, -0.0000]), tensor([ 0.5262, -0.3664,  0.4536,  ..., -0.3597, -0.2121, -0.3281]), tensor([-0., -0., -0.,  ..., -0., -0., -0.]), tensor([-0.0000, -0.0000, -0.0000,  ..., 30.1783, -0.0000,  3.6916]), tensor([-0., -0., -0.,  ..., -0., -0., -0.]), tensor([-0., -0., -0.,  ..., -0., -0., -0.]), tensor([18.3999, -0.0000, -0.0000,  ..., -0.0000, -0.0000, 45.3672]), tensor([ 0.2349,  0.1743,  0.1660,  ...,  0.3616,  0.0957, -0.3534]), tensor([-0.2793, -0.3249, -0.3683,  ..., -0.0000, -0.0000, -0.3627]), tensor([ 0.0759, -0.3346, -0.2591,  ...,  0.4824, -0.2551, -0.1757]), tensor([ 0.4264, -0.1865, -0.1025,  ..., -0.1637,  0.7777, -0.3373]), tensor([ 0.4347, -0.2336, -0.2793,  ..., -0.3347, -0.3469, -0.1162]), tensor([ 0.0104,  0.4655, -0.3177,  ..., -0.1076,  0.8267, -0.3667]), tensor([ 0.0873,  0.1475, -0.3670,  ..., -0.1698,  0.0327, -0.3572]), tensor([322.7029,  -0.0000,  83.4842,  ...,  -0.0000,  -0.0000,  -0.0000]), tensor([-0.3365, -0.0309, -0.3139,  ...,  0.1455, -0.3260, -0.3622]), tensor([-0.0000, -0.0000, -0.0000,  ..., -0.0000, -0.0000, 3.1642]), tensor([    -0.0000,     -0.0000, 159417.2812,  ...,     -0.0000,\n",
      "            -0.0000, 179515.1562]), tensor([-0.0014, -0.3527, -0.0000,  ..., -0.0000, -0.0000, -0.0000]), tensor([6770305.5000,      -0.0000,      -0.0000,  ...,      -0.0000,\n",
      "             -0.0000,      -0.0000]), tensor([1609.9169,   -0.0000,   -0.0000,  ...,   -0.0000,   -0.0000,\n"
     ]
    },
    {
     "name": "stderr",
     "output_type": "stream",
     "text": [
      "Using cache found in /root/.cache/torch/hub/mit-han-lab_once-for-all_master\n"
     ]
    },
    {
     "name": "stdout",
     "output_type": "stream",
     "text": [
      "          -0.0000]), tensor([-0., -0., -0.,  ..., -0., -0., -0.]), tensor([-0.0067, -0.3482, -0.3706,  ..., -0.3683, -0.0611,  0.0504]), tensor([ 1.4714, -0.0000, -0.0945,  ..., -0.2832, -0.0000, -0.3679])], 'acc': [99.51923076923077, 99.03846153846153, 99.51923076923077, 99.51923076923077, 99.51923076923077, 99.51923076923077, 98.38709677419355, 96.7741935483871, 98.38709677419355, 98.38709677419355, 8.064516129032258, 96.7741935483871, 77.08333333333333, 76.4423076923077, 78.68589743589743, 77.40384615384616, 77.24358974358974, 78.36538461538461, 94.23076923076923, 75.64102564102564, 90.7051282051282, 94.23076923076923, 91.34615384615384, 94.23076923076923, 99.52978056426332, 99.3730407523511, 99.68652037617555, 99.68652037617555, 100.0, 99.3730407523511, 84.88700564971751, 87.99435028248588], 'n_params': [6228442, 5625114, 6570290, 5347354, 5825218, 4821626, 4711646, 4554646, 6688342, 4317614, 5203934, 5550702, 5717244, 5151700, 5773028, 5059684, 6364428, 4930308, 5608818, 4493962, 4318938, 4537954, 5514050, 3861938, 5155304, 6005320, 4798208, 6420784, 4792312, 3845304, 4249220, 3881348]}\n",
      "\n",
      "=====> Generating 3th network  <=====\n",
      "\n",
      "\n",
      "=====>Generating sub_net<=====\n",
      "\n",
      "\n",
      "=====> Training started <=====\n",
      "\n",
      "Starting Training for:oregon-wildlife_virtualdvid_0_20 with model topology:[3, 3, 7, 5, 5, 5, 7, 7, 7, 5, 3, 3, 3, 3, 7, 5, 5, 5, 3, 3, 3, 3, 3, 6, 4, 4, 6, 4, 3, 6, 4, 3, 6, 4, 3, 6, 6, 3, 4, 6, 2, 4, 2, 3, 4]\n"
     ]
    },
    {
     "name": "stderr",
     "output_type": "stream",
     "text": [
      "177it [00:37,  4.77it/s]\n",
      "23it [00:04,  5.05it/s]\n"
     ]
    },
    {
     "name": "stdout",
     "output_type": "stream",
     "text": [
      "\n",
      "Epoch: 1/15, Train Loss: 34.07963942 , Val Loss: 16.37204326, Train Accuracy:73.26259947,  Val Accuracy: 83.61581921, Epoch Time: 41.92192316\n"
     ]
    },
    {
     "name": "stderr",
     "output_type": "stream",
     "text": [
      "177it [00:36,  4.83it/s]\n",
      "23it [00:04,  5.07it/s]\n"
     ]
    },
    {
     "name": "stdout",
     "output_type": "stream",
     "text": [
      "\n",
      "Epoch: 2/15, Train Loss: 11.39589559 , Val Loss: 14.62509044, Train Accuracy:87.88682582,  Val Accuracy: 84.88700565, Epoch Time: 41.39563489\n"
     ]
    },
    {
     "name": "stderr",
     "output_type": "stream",
     "text": [
      "177it [00:35,  5.02it/s]\n",
      "23it [00:04,  4.67it/s]\n"
     ]
    },
    {
     "name": "stdout",
     "output_type": "stream",
     "text": [
      "\n",
      "Epoch: 3/15, Train Loss: 6.47844160 , Val Loss: 13.43424571, Train Accuracy:93.93457118,  Val Accuracy: 86.58192090, Epoch Time: 40.45468044\n"
     ]
    },
    {
     "name": "stderr",
     "output_type": "stream",
     "text": [
      "177it [00:35,  4.99it/s]\n",
      "23it [00:04,  5.31it/s]\n"
     ]
    },
    {
     "name": "stdout",
     "output_type": "stream",
     "text": [
      "\n",
      "Epoch: 4/15, Train Loss: 3.83873896 , Val Loss: 13.88835217, Train Accuracy:96.51635721,  Val Accuracy: 86.44067797, Epoch Time: 40.05676746\n"
     ]
    },
    {
     "name": "stderr",
     "output_type": "stream",
     "text": [
      "177it [00:35,  5.02it/s]\n",
      "23it [00:04,  5.09it/s]\n"
     ]
    },
    {
     "name": "stdout",
     "output_type": "stream",
     "text": [
      "\n",
      "Epoch: 5/15, Train Loss: 2.36996722 , Val Loss: 14.38970068, Train Accuracy:98.07250221,  Val Accuracy: 86.58192090, Epoch Time: 40.05292583\n"
     ]
    },
    {
     "name": "stderr",
     "output_type": "stream",
     "text": [
      "177it [00:35,  4.94it/s]\n",
      "23it [00:04,  5.16it/s]\n"
     ]
    },
    {
     "name": "stdout",
     "output_type": "stream",
     "text": [
      "\n",
      "Epoch: 6/15, Train Loss: 1.63819455 , Val Loss: 14.64179663, Train Accuracy:98.67374005,  Val Accuracy: 86.01694915, Epoch Time: 40.56042504\n"
     ]
    },
    {
     "name": "stderr",
     "output_type": "stream",
     "text": [
      "177it [00:37,  4.73it/s]\n",
      "23it [00:04,  5.12it/s]\n"
     ]
    },
    {
     "name": "stdout",
     "output_type": "stream",
     "text": [
      "\n",
      "Epoch: 7/15, Train Loss: 1.19183380 , Val Loss: 16.26897296, Train Accuracy:99.13351017,  Val Accuracy: 84.74576271, Epoch Time: 42.18329620\n"
     ]
    },
    {
     "name": "stderr",
     "output_type": "stream",
     "text": [
      "177it [00:35,  4.96it/s]\n",
      "23it [00:04,  5.10it/s]\n"
     ]
    },
    {
     "name": "stdout",
     "output_type": "stream",
     "text": [
      "\n",
      "Epoch: 8/15, Train Loss: 0.86239625 , Val Loss: 15.72490022, Train Accuracy:99.36339523,  Val Accuracy: 86.72316384, Epoch Time: 40.40777349\n",
      "Early stopping on, 7th, epoch\n",
      "\n",
      "=====>Generating f_emb<=====\n",
      "\n",
      "torch.Size([1536])\n",
      "{'dataset': ['sldc_0_10', 'sldc_0_10', 'sldc_0_10', 'sldc_0_10', 'sldc_0_10', 'sldc_0_10', 'corales_0_14', 'corales_0_14', 'corales_0_14', 'corales_0_14', 'corales_0_14', 'corales_0_14', '6000-store-items-images-classified-by-color_imoore_0_12', '6000-store-items-images-classified-by-color_imoore_0_12', '6000-store-items-images-classified-by-color_imoore_0_12', '6000-store-items-images-classified-by-color_imoore_0_12', '6000-store-items-images-classified-by-color_imoore_0_12', '6000-store-items-images-classified-by-color_imoore_0_12', 'fcis-sc-deeplearning-competition_0_10', 'fcis-sc-deeplearning-competition_0_10', 'fcis-sc-deeplearning-competition_0_10', 'fcis-sc-deeplearning-competition_0_10', 'fcis-sc-deeplearning-competition_0_10', 'fcis-sc-deeplearning-competition_0_10', 'lego-brick-images_joosthazelzet_0_16', 'lego-brick-images_joosthazelzet_0_16', 'lego-brick-images_joosthazelzet_0_16', 'lego-brick-images_joosthazelzet_0_16', 'lego-brick-images_joosthazelzet_0_16', 'lego-brick-images_joosthazelzet_0_16', 'oregon-wildlife_virtualdvid_0_20', 'oregon-wildlife_virtualdvid_0_20', 'oregon-wildlife_virtualdvid_0_20'], 'topol': [[3, 5, 5, 5, 7, 5, 5, 7, 3, 5, 7, 7, 7, 5, 7, 5, 3, 3, 7, 3, 4, 3, 6, 3, 6, 6, 4, 4, 6, 4, 3, 6, 6, 3, 4, 6, 3, 4, 6, 3, 3, 4, 2, 4, 4], [3, 7, 7, 7, 5, 7, 5, 3, 7, 5, 3, 3, 5, 5, 3, 7, 7, 5, 3, 5, 3, 4, 6, 3, 6, 4, 6, 4, 4, 3, 3, 3, 3, 6, 6, 3, 3, 4, 6, 4, 4, 3, 2, 2, 4], [3, 7, 5, 5, 3, 7, 7, 5, 5, 5, 5, 5, 5, 7, 7, 7, 7, 7, 5, 7, 6, 6, 6, 3, 6, 3, 4, 4, 6, 6, 6, 4, 3, 6, 4, 6, 6, 4, 6, 4, 2, 3, 3, 3, 4], [7, 5, 3, 3, 5, 3, 5, 5, 5, 5, 3, 7, 7, 5, 7, 3, 3, 5, 3, 5, 3, 4, 6, 6, 6, 3, 6, 3, 6, 3, 6, 4, 4, 6, 6, 4, 6, 6, 6, 4, 2, 2, 2, 3, 2], [3, 5, 5, 7, 5, 5, 7, 3, 7, 5, 5, 5, 3, 5, 3, 7, 5, 7, 7, 3, 3, 6, 3, 3, 6, 3, 6, 6, 4, 4, 3, 4, 4, 3, 6, 6, 4, 3, 4, 3, 4, 3, 4, 4, 4], [3, 3, 5, 5, 7, 5, 5, 5, 5, 5, 3, 3, 3, 3, 3, 7, 7, 3, 5, 5, 6, 4, 3, 4, 4, 4, 3, 6, 4, 3, 6, 4, 4, 4, 6, 6, 4, 4, 3, 6, 4, 2, 4, 3, 3], [7, 7, 5, 5, 5, 5, 3, 3, 3, 5, 7, 5, 5, 3, 3, 5, 5, 5, 7, 5, 3, 4, 3, 6, 6, 4, 3, 4, 6, 6, 4, 4, 6, 4, 4, 3, 6, 4, 3, 6, 2, 4, 4, 3, 2], [3, 3, 3, 7, 7, 5, 5, 7, 7, 5, 7, 7, 7, 7, 3, 5, 7, 7, 7, 3, 6, 4, 6, 3, 3, 4, 6, 6, 3, 3, 4, 4, 4, 4, 6, 6, 3, 4, 4, 3, 2, 4, 4, 2, 3], [5, 5, 3, 5, 7, 3, 5, 7, 7, 5, 3, 7, 7, 3, 3, 7, 3, 3, 7, 3, 4, 4, 6, 6, 3, 6, 3, 6, 3, 4, 4, 6, 3, 4, 6, 3, 6, 6, 4, 4, 4, 2, 4, 4, 4], [3, 5, 3, 5, 3, 3, 7, 7, 3, 3, 5, 7, 5, 3, 7, 7, 3, 3, 3, 7, 3, 4, 6, 6, 4, 4, 6, 6, 3, 3, 3, 6, 3, 6, 3, 4, 3, 4, 6, 6, 4, 4, 4, 3, 2], [3, 7, 7, 5, 7, 3, 7, 5, 7, 7, 7, 5, 7, 5, 3, 7, 5, 5, 5, 5, 6, 3, 6, 6, 4, 6, 6, 4, 6, 6, 6, 3, 3, 3, 3, 3, 6, 6, 4, 4, 3, 4, 2, 2, 3], [7, 7, 3, 3, 5, 7, 3, 5, 5, 3, 3, 3, 5, 7, 3, 7, 7, 5, 7, 7, 6, 3, 4, 3, 3, 3, 4, 3, 3, 4, 6, 6, 6, 4, 4, 6, 6, 4, 3, 4, 2, 2, 3, 4, 3], [7, 3, 3, 3, 3, 3, 5, 7, 5, 3, 5, 5, 3, 7, 7, 7, 5, 3, 7, 5, 3, 6, 3, 6, 6, 3, 4, 3, 6, 6, 3, 4, 3, 4, 4, 3, 4, 6, 6, 4, 3, 3, 2, 3, 3], [3, 3, 7, 5, 7, 3, 5, 7, 3, 5, 3, 5, 5, 5, 5, 3, 5, 5, 3, 3, 3, 6, 6, 6, 6, 6, 4, 3, 4, 4, 6, 4, 3, 6, 3, 6, 3, 6, 4, 6, 2, 2, 2, 3, 3], [5, 3, 5, 5, 5, 5, 7, 7, 3, 7, 7, 7, 3, 3, 7, 3, 7, 5, 5, 3, 3, 3, 6, 4, 6, 4, 4, 3, 6, 4, 6, 6, 3, 6, 4, 4, 3, 4, 3, 4, 3, 3, 4, 4, 4], [5, 5, 7, 5, 5, 5, 5, 7, 3, 3, 7, 3, 7, 5, 3, 3, 5, 7, 3, 3, 4, 4, 4, 4, 3, 4, 6, 3, 4, 6, 6, 3, 6, 3, 4, 6, 6, 4, 4, 6, 2, 4, 2, 3, 3], [7, 5, 3, 3, 7, 7, 7, 7, 5, 7, 5, 3, 7, 3, 5, 7, 3, 5, 7, 5, 4, 4, 4, 6, 4, 3, 3, 6, 3, 6, 4, 6, 6, 6, 6, 6, 3, 4, 6, 4, 2, 2, 2, 4, 3], [3, 3, 3, 7, 7, 3, 3, 7, 7, 7, 7, 5, 5, 7, 7, 3, 7, 7, 5, 7, 3, 4, 3, 3, 6, 3, 6, 3, 6, 3, 6, 3, 4, 3, 3, 6, 4, 4, 3, 6, 4, 4, 2, 4, 3], [3, 7, 7, 7, 3, 5, 3, 7, 5, 3, 5, 5, 7, 3, 5, 5, 3, 7, 5, 5, 4, 3, 4, 4, 3, 4, 6, 4, 6, 4, 3, 3, 3, 3, 6, 3, 4, 6, 4, 3, 4, 2, 4, 4, 3], [7, 7, 3, 5, 5, 5, 7, 3, 3, 5, 3, 3, 5, 7, 7, 3, 3, 7, 3, 3, 3, 3, 4, 6, 4, 6, 6, 6, 4, 3, 3, 6, 6, 4, 3, 4, 6, 4, 4, 4, 2, 4, 2, 3, 2], [3, 7, 7, 3, 5, 7, 7, 5, 7, 3, 5, 7, 7, 3, 5, 5, 5, 3, 3, 5, 3, 4, 3, 4, 3, 4, 6, 3, 6, 3, 4, 3, 4, 4, 4, 6, 3, 3, 4, 3, 3, 3, 2, 4, 2], [3, 7, 5, 3, 3, 5, 5, 7, 5, 7, 3, 5, 3, 7, 7, 5, 5, 7, 3, 3, 3, 3, 4, 6, 3, 6, 4, 3, 6, 4, 6, 4, 6, 6, 6, 6, 3, 4, 3, 6, 4, 4, 2, 2, 3], [3, 7, 3, 3, 5, 7, 5, 7, 5, 7, 7, 7, 7, 3, 3, 3, 7, 3, 3, 3, 6, 4, 4, 3, 4, 6, 4, 6, 4, 6, 6, 4, 4, 3, 3, 3, 6, 4, 3, 3, 2, 4, 4, 4, 4], [5, 5, 7, 5, 7, 3, 7, 7, 7, 5, 7, 3, 5, 3, 5, 7, 3, 7, 7, 5, 4, 3, 6, 6, 6, 3, 6, 3, 6, 3, 3, 6, 4, 4, 3, 3, 3, 3, 3, 3, 3, 2, 3, 4, 2], [7, 3, 7, 3, 5, 5, 3, 3, 7, 3, 7, 7, 7, 5, 5, 5, 5, 7, 5, 5, 6, 4, 3, 3, 4, 3, 3, 4, 4, 3, 6, 6, 3, 4, 4, 6, 6, 4, 6, 3, 3, 4, 4, 4, 2], [5, 5, 3, 7, 3, 7, 7, 5, 3, 7, 7, 5, 5, 7, 7, 7, 5, 7, 5, 3, 4, 4, 3, 3, 4, 3, 4, 6, 3, 3, 3, 4, 6, 6, 4, 6, 6, 4, 3, 4, 4, 4, 4, 3, 4], [5, 5, 3, 5, 7, 3, 5, 5, 3, 5, 7, 3, 5, 3, 3, 5, 7, 7, 5, 5, 4, 3, 6, 4, 6, 6, 6, 4, 3, 6, 6, 6, 4, 4, 4, 4, 3, 4, 3, 6, 2, 4, 2, 4, 3], [5, 3, 5, 3, 5, 3, 3, 3, 7, 3, 5, 7, 5, 7, 3, 7, 7, 5, 5, 3, 6, 3, 6, 6, 3, 4, 3, 4, 6, 3, 4, 6, 3, 3, 4, 4, 6, 6, 6, 4, 3, 4, 4, 4, 3], [7, 5, 3, 7, 3, 5, 3, 5, 3, 5, 7, 3, 7, 7, 5, 7, 7, 3, 3, 3, 3, 3, 6, 4, 3, 4, 4, 3, 3, 3, 3, 4, 3, 3, 3, 3, 6, 6, 4, 4, 2, 4, 2, 4, 2], [5, 7, 7, 5, 5, 5, 7, 7, 7, 3, 5, 5, 5, 5, 3, 3, 5, 7, 3, 5, 3, 4, 4, 3, 3, 6, 6, 4, 4, 3, 4, 3, 3, 6, 4, 6, 4, 3, 3, 3, 2, 2, 4, 2, 2], [5, 5, 7, 3, 3, 3, 5, 3, 5, 5, 3, 3, 5, 7, 5, 3, 5, 3, 7, 7, 3, 3, 4, 4, 3, 3, 3, 3, 4, 6, 6, 4, 3, 4, 6, 4, 4, 4, 3, 3, 4, 4, 3, 2, 3], [3, 5, 5, 5, 7, 5, 7, 7, 5, 5, 5, 5, 5, 7, 3, 5, 7, 7, 3, 5, 6, 6, 4, 6, 3, 3, 3, 4, 4, 3, 6, 4, 4, 3, 3, 6, 6, 3, 3, 6, 3, 4, 3, 2, 2], [3, 3, 7, 5, 5, 5, 7, 7, 7, 5, 3, 3, 3, 3, 7, 5, 5, 5, 3, 3, 3, 3, 3, 6, 4, 4, 6, 4, 3, 6, 4, 3, 6, 4, 3, 6, 6, 3, 4, 6, 2, 4, 2, 3, 4]], 'f_emb': [tensor([-0., -0., -0.,  ..., -0., -0., -0.]), tensor([-0., -0., -0.,  ..., -0., -0., -0.]), tensor([1226.8495,   -0.0000,   -0.0000,  ...,   -0.0000,   -0.0000,\n",
      "          -0.0000]), tensor([-0., -0., -0.,  ..., -0., -0., -0.]), tensor([188.3607,  -0.0000,  -0.0000,  ...,  -0.0000,  -0.0000, 213.2732]), tensor([-0., -0., -0.,  ..., -0., -0., -0.]), tensor([-0., -0., -0.,  ..., -0., -0., -0.]), tensor([-0.0000, -0.0000, -0.0000,  ..., -0.0000, -0.0000, 9.9611]), tensor([38.6843, -0.0000, -0.0000,  ..., -0.0000, -0.0000, -0.0000]), tensor([ 0.5262, -0.3664,  0.4536,  ..., -0.3597, -0.2121, -0.3281]), tensor([-0., -0., -0.,  ..., -0., -0., -0.]), tensor([-0.0000, -0.0000, -0.0000,  ..., 30.1783, -0.0000,  3.6916]), tensor([-0., -0., -0.,  ..., -0., -0., -0.]), tensor([-0., -0., -0.,  ..., -0., -0., -0.]), tensor([18.3999, -0.0000, -0.0000,  ..., -0.0000, -0.0000, 45.3672]), tensor([ 0.2349,  0.1743,  0.1660,  ...,  0.3616,  0.0957, -0.3534]), tensor([-0.2793, -0.3249, -0.3683,  ..., -0.0000, -0.0000, -0.3627]), tensor([ 0.0759, -0.3346, -0.2591,  ...,  0.4824, -0.2551, -0.1757]), tensor([ 0.4264, -0.1865, -0.1025,  ..., -0.1637,  0.7777, -0.3373]), tensor([ 0.4347, -0.2336, -0.2793,  ..., -0.3347, -0.3469, -0.1162]), tensor([ 0.0104,  0.4655, -0.3177,  ..., -0.1076,  0.8267, -0.3667]), tensor([ 0.0873,  0.1475, -0.3670,  ..., -0.1698,  0.0327, -0.3572]), tensor([322.7029,  -0.0000,  83.4842,  ...,  -0.0000,  -0.0000,  -0.0000]), tensor([-0.3365, -0.0309, -0.3139,  ...,  0.1455, -0.3260, -0.3622]), tensor([-0.0000, -0.0000, -0.0000,  ..., -0.0000, -0.0000, 3.1642]), tensor([    -0.0000,     -0.0000, 159417.2812,  ...,     -0.0000,\n",
      "            -0.0000, 179515.1562]), tensor([-0.0014, -0.3527, -0.0000,  ..., -0.0000, -0.0000, -0.0000]), tensor([6770305.5000,      -0.0000,      -0.0000,  ...,      -0.0000,\n",
      "             -0.0000,      -0.0000]), tensor([1609.9169,   -0.0000,   -0.0000,  ...,   -0.0000,   -0.0000,\n"
     ]
    },
    {
     "name": "stderr",
     "output_type": "stream",
     "text": [
      "Using cache found in /root/.cache/torch/hub/mit-han-lab_once-for-all_master\n"
     ]
    },
    {
     "name": "stdout",
     "output_type": "stream",
     "text": [
      "          -0.0000]), tensor([-0., -0., -0.,  ..., -0., -0., -0.]), tensor([-0.0067, -0.3482, -0.3706,  ..., -0.3683, -0.0611,  0.0504]), tensor([ 1.4714, -0.0000, -0.0945,  ..., -0.2832, -0.0000, -0.3679]), tensor([ 1.7539, 21.7252, -0.0000,  ..., -0.0000, -0.0000, 13.5089])], 'acc': [99.51923076923077, 99.03846153846153, 99.51923076923077, 99.51923076923077, 99.51923076923077, 99.51923076923077, 98.38709677419355, 96.7741935483871, 98.38709677419355, 98.38709677419355, 8.064516129032258, 96.7741935483871, 77.08333333333333, 76.4423076923077, 78.68589743589743, 77.40384615384616, 77.24358974358974, 78.36538461538461, 94.23076923076923, 75.64102564102564, 90.7051282051282, 94.23076923076923, 91.34615384615384, 94.23076923076923, 99.52978056426332, 99.3730407523511, 99.68652037617555, 99.68652037617555, 100.0, 99.3730407523511, 84.88700564971751, 87.99435028248588, 86.7231638418079], 'n_params': [6228442, 5625114, 6570290, 5347354, 5825218, 4821626, 4711646, 4554646, 6688342, 4317614, 5203934, 5550702, 5717244, 5151700, 5773028, 5059684, 6364428, 4930308, 5608818, 4493962, 4318938, 4537954, 5514050, 3861938, 5155304, 6005320, 4798208, 6420784, 4792312, 3845304, 4249220, 3881348, 5982340]}\n",
      "\n",
      "=====> Generating 4th network  <=====\n",
      "\n",
      "\n",
      "=====>Generating sub_net<=====\n",
      "\n",
      "\n",
      "=====> Training started <=====\n",
      "\n",
      "Starting Training for:oregon-wildlife_virtualdvid_0_20 with model topology:[5, 3, 3, 3, 7, 5, 7, 3, 5, 5, 3, 3, 3, 5, 3, 5, 7, 3, 5, 3, 6, 3, 4, 6, 3, 6, 4, 3, 4, 3, 4, 4, 6, 3, 4, 4, 3, 3, 6, 6, 2, 3, 3, 2, 2]\n"
     ]
    },
    {
     "name": "stderr",
     "output_type": "stream",
     "text": [
      "177it [00:35,  4.94it/s]\n",
      "23it [00:04,  5.16it/s]\n"
     ]
    },
    {
     "name": "stdout",
     "output_type": "stream",
     "text": [
      "\n",
      "Epoch: 1/15, Train Loss: 38.27570619 , Val Loss: 17.53492067, Train Accuracy:69.51370469,  Val Accuracy: 82.90960452, Epoch Time: 40.60893416\n"
     ]
    },
    {
     "name": "stderr",
     "output_type": "stream",
     "text": [
      "177it [00:35,  4.98it/s]\n",
      "23it [00:04,  4.79it/s]\n"
     ]
    },
    {
     "name": "stdout",
     "output_type": "stream",
     "text": [
      "\n",
      "Epoch: 2/15, Train Loss: 13.21050006 , Val Loss: 14.93868692, Train Accuracy:87.16180371,  Val Accuracy: 85.87570621, Epoch Time: 40.57123947\n"
     ]
    },
    {
     "name": "stderr",
     "output_type": "stream",
     "text": [
      "177it [00:36,  4.89it/s]\n",
      "23it [00:04,  5.05it/s]\n"
     ]
    },
    {
     "name": "stdout",
     "output_type": "stream",
     "text": [
      "\n",
      "Epoch: 3/15, Train Loss: 8.76802256 , Val Loss: 14.39912253, Train Accuracy:91.74182140,  Val Accuracy: 84.88700565, Epoch Time: 40.99403739\n"
     ]
    },
    {
     "name": "stderr",
     "output_type": "stream",
     "text": [
      "177it [00:35,  4.98it/s]\n",
      "23it [00:04,  5.09it/s]\n"
     ]
    },
    {
     "name": "stdout",
     "output_type": "stream",
     "text": [
      "\n",
      "Epoch: 4/15, Train Loss: 5.71929888 , Val Loss: 14.75204711, Train Accuracy:94.99557913,  Val Accuracy: 85.02824859, Epoch Time: 40.32782936\n"
     ]
    },
    {
     "name": "stderr",
     "output_type": "stream",
     "text": [
      "177it [00:36,  4.89it/s]\n",
      "23it [00:04,  5.06it/s]\n"
     ]
    },
    {
     "name": "stdout",
     "output_type": "stream",
     "text": [
      "\n",
      "Epoch: 5/15, Train Loss: 3.77639418 , Val Loss: 15.65244854, Train Accuracy:97.25906278,  Val Accuracy: 85.16949153, Epoch Time: 41.00732684\n"
     ]
    },
    {
     "name": "stderr",
     "output_type": "stream",
     "text": [
      "177it [00:36,  4.84it/s]\n",
      "23it [00:05,  4.38it/s]\n"
     ]
    },
    {
     "name": "stdout",
     "output_type": "stream",
     "text": [
      "\n",
      "Epoch: 6/15, Train Loss: 2.44520500 , Val Loss: 15.07580343, Train Accuracy:98.40848806,  Val Accuracy: 85.87570621, Epoch Time: 42.06660056\n"
     ]
    },
    {
     "name": "stderr",
     "output_type": "stream",
     "text": [
      "177it [00:38,  4.63it/s]\n",
      "23it [00:05,  4.50it/s]\n"
     ]
    },
    {
     "name": "stdout",
     "output_type": "stream",
     "text": [
      "\n",
      "Epoch: 7/15, Train Loss: 1.80589169 , Val Loss: 16.99830972, Train Accuracy:98.99204244,  Val Accuracy: 84.46327684, Epoch Time: 43.63532400\n"
     ]
    },
    {
     "name": "stderr",
     "output_type": "stream",
     "text": [
      "177it [00:36,  4.85it/s]\n",
      "23it [00:04,  5.06it/s]\n"
     ]
    },
    {
     "name": "stdout",
     "output_type": "stream",
     "text": [
      "\n",
      "Epoch: 8/15, Train Loss: 1.43897848 , Val Loss: 17.06675966, Train Accuracy:99.23961096,  Val Accuracy: 85.73446328, Epoch Time: 41.28138471\n",
      "Early stopping on, 7th, epoch\n",
      "\n",
      "=====>Generating f_emb<=====\n",
      "\n",
      "torch.Size([1536])\n",
      "{'dataset': ['sldc_0_10', 'sldc_0_10', 'sldc_0_10', 'sldc_0_10', 'sldc_0_10', 'sldc_0_10', 'corales_0_14', 'corales_0_14', 'corales_0_14', 'corales_0_14', 'corales_0_14', 'corales_0_14', '6000-store-items-images-classified-by-color_imoore_0_12', '6000-store-items-images-classified-by-color_imoore_0_12', '6000-store-items-images-classified-by-color_imoore_0_12', '6000-store-items-images-classified-by-color_imoore_0_12', '6000-store-items-images-classified-by-color_imoore_0_12', '6000-store-items-images-classified-by-color_imoore_0_12', 'fcis-sc-deeplearning-competition_0_10', 'fcis-sc-deeplearning-competition_0_10', 'fcis-sc-deeplearning-competition_0_10', 'fcis-sc-deeplearning-competition_0_10', 'fcis-sc-deeplearning-competition_0_10', 'fcis-sc-deeplearning-competition_0_10', 'lego-brick-images_joosthazelzet_0_16', 'lego-brick-images_joosthazelzet_0_16', 'lego-brick-images_joosthazelzet_0_16', 'lego-brick-images_joosthazelzet_0_16', 'lego-brick-images_joosthazelzet_0_16', 'lego-brick-images_joosthazelzet_0_16', 'oregon-wildlife_virtualdvid_0_20', 'oregon-wildlife_virtualdvid_0_20', 'oregon-wildlife_virtualdvid_0_20', 'oregon-wildlife_virtualdvid_0_20'], 'topol': [[3, 5, 5, 5, 7, 5, 5, 7, 3, 5, 7, 7, 7, 5, 7, 5, 3, 3, 7, 3, 4, 3, 6, 3, 6, 6, 4, 4, 6, 4, 3, 6, 6, 3, 4, 6, 3, 4, 6, 3, 3, 4, 2, 4, 4], [3, 7, 7, 7, 5, 7, 5, 3, 7, 5, 3, 3, 5, 5, 3, 7, 7, 5, 3, 5, 3, 4, 6, 3, 6, 4, 6, 4, 4, 3, 3, 3, 3, 6, 6, 3, 3, 4, 6, 4, 4, 3, 2, 2, 4], [3, 7, 5, 5, 3, 7, 7, 5, 5, 5, 5, 5, 5, 7, 7, 7, 7, 7, 5, 7, 6, 6, 6, 3, 6, 3, 4, 4, 6, 6, 6, 4, 3, 6, 4, 6, 6, 4, 6, 4, 2, 3, 3, 3, 4], [7, 5, 3, 3, 5, 3, 5, 5, 5, 5, 3, 7, 7, 5, 7, 3, 3, 5, 3, 5, 3, 4, 6, 6, 6, 3, 6, 3, 6, 3, 6, 4, 4, 6, 6, 4, 6, 6, 6, 4, 2, 2, 2, 3, 2], [3, 5, 5, 7, 5, 5, 7, 3, 7, 5, 5, 5, 3, 5, 3, 7, 5, 7, 7, 3, 3, 6, 3, 3, 6, 3, 6, 6, 4, 4, 3, 4, 4, 3, 6, 6, 4, 3, 4, 3, 4, 3, 4, 4, 4], [3, 3, 5, 5, 7, 5, 5, 5, 5, 5, 3, 3, 3, 3, 3, 7, 7, 3, 5, 5, 6, 4, 3, 4, 4, 4, 3, 6, 4, 3, 6, 4, 4, 4, 6, 6, 4, 4, 3, 6, 4, 2, 4, 3, 3], [7, 7, 5, 5, 5, 5, 3, 3, 3, 5, 7, 5, 5, 3, 3, 5, 5, 5, 7, 5, 3, 4, 3, 6, 6, 4, 3, 4, 6, 6, 4, 4, 6, 4, 4, 3, 6, 4, 3, 6, 2, 4, 4, 3, 2], [3, 3, 3, 7, 7, 5, 5, 7, 7, 5, 7, 7, 7, 7, 3, 5, 7, 7, 7, 3, 6, 4, 6, 3, 3, 4, 6, 6, 3, 3, 4, 4, 4, 4, 6, 6, 3, 4, 4, 3, 2, 4, 4, 2, 3], [5, 5, 3, 5, 7, 3, 5, 7, 7, 5, 3, 7, 7, 3, 3, 7, 3, 3, 7, 3, 4, 4, 6, 6, 3, 6, 3, 6, 3, 4, 4, 6, 3, 4, 6, 3, 6, 6, 4, 4, 4, 2, 4, 4, 4], [3, 5, 3, 5, 3, 3, 7, 7, 3, 3, 5, 7, 5, 3, 7, 7, 3, 3, 3, 7, 3, 4, 6, 6, 4, 4, 6, 6, 3, 3, 3, 6, 3, 6, 3, 4, 3, 4, 6, 6, 4, 4, 4, 3, 2], [3, 7, 7, 5, 7, 3, 7, 5, 7, 7, 7, 5, 7, 5, 3, 7, 5, 5, 5, 5, 6, 3, 6, 6, 4, 6, 6, 4, 6, 6, 6, 3, 3, 3, 3, 3, 6, 6, 4, 4, 3, 4, 2, 2, 3], [7, 7, 3, 3, 5, 7, 3, 5, 5, 3, 3, 3, 5, 7, 3, 7, 7, 5, 7, 7, 6, 3, 4, 3, 3, 3, 4, 3, 3, 4, 6, 6, 6, 4, 4, 6, 6, 4, 3, 4, 2, 2, 3, 4, 3], [7, 3, 3, 3, 3, 3, 5, 7, 5, 3, 5, 5, 3, 7, 7, 7, 5, 3, 7, 5, 3, 6, 3, 6, 6, 3, 4, 3, 6, 6, 3, 4, 3, 4, 4, 3, 4, 6, 6, 4, 3, 3, 2, 3, 3], [3, 3, 7, 5, 7, 3, 5, 7, 3, 5, 3, 5, 5, 5, 5, 3, 5, 5, 3, 3, 3, 6, 6, 6, 6, 6, 4, 3, 4, 4, 6, 4, 3, 6, 3, 6, 3, 6, 4, 6, 2, 2, 2, 3, 3], [5, 3, 5, 5, 5, 5, 7, 7, 3, 7, 7, 7, 3, 3, 7, 3, 7, 5, 5, 3, 3, 3, 6, 4, 6, 4, 4, 3, 6, 4, 6, 6, 3, 6, 4, 4, 3, 4, 3, 4, 3, 3, 4, 4, 4], [5, 5, 7, 5, 5, 5, 5, 7, 3, 3, 7, 3, 7, 5, 3, 3, 5, 7, 3, 3, 4, 4, 4, 4, 3, 4, 6, 3, 4, 6, 6, 3, 6, 3, 4, 6, 6, 4, 4, 6, 2, 4, 2, 3, 3], [7, 5, 3, 3, 7, 7, 7, 7, 5, 7, 5, 3, 7, 3, 5, 7, 3, 5, 7, 5, 4, 4, 4, 6, 4, 3, 3, 6, 3, 6, 4, 6, 6, 6, 6, 6, 3, 4, 6, 4, 2, 2, 2, 4, 3], [3, 3, 3, 7, 7, 3, 3, 7, 7, 7, 7, 5, 5, 7, 7, 3, 7, 7, 5, 7, 3, 4, 3, 3, 6, 3, 6, 3, 6, 3, 6, 3, 4, 3, 3, 6, 4, 4, 3, 6, 4, 4, 2, 4, 3], [3, 7, 7, 7, 3, 5, 3, 7, 5, 3, 5, 5, 7, 3, 5, 5, 3, 7, 5, 5, 4, 3, 4, 4, 3, 4, 6, 4, 6, 4, 3, 3, 3, 3, 6, 3, 4, 6, 4, 3, 4, 2, 4, 4, 3], [7, 7, 3, 5, 5, 5, 7, 3, 3, 5, 3, 3, 5, 7, 7, 3, 3, 7, 3, 3, 3, 3, 4, 6, 4, 6, 6, 6, 4, 3, 3, 6, 6, 4, 3, 4, 6, 4, 4, 4, 2, 4, 2, 3, 2], [3, 7, 7, 3, 5, 7, 7, 5, 7, 3, 5, 7, 7, 3, 5, 5, 5, 3, 3, 5, 3, 4, 3, 4, 3, 4, 6, 3, 6, 3, 4, 3, 4, 4, 4, 6, 3, 3, 4, 3, 3, 3, 2, 4, 2], [3, 7, 5, 3, 3, 5, 5, 7, 5, 7, 3, 5, 3, 7, 7, 5, 5, 7, 3, 3, 3, 3, 4, 6, 3, 6, 4, 3, 6, 4, 6, 4, 6, 6, 6, 6, 3, 4, 3, 6, 4, 4, 2, 2, 3], [3, 7, 3, 3, 5, 7, 5, 7, 5, 7, 7, 7, 7, 3, 3, 3, 7, 3, 3, 3, 6, 4, 4, 3, 4, 6, 4, 6, 4, 6, 6, 4, 4, 3, 3, 3, 6, 4, 3, 3, 2, 4, 4, 4, 4], [5, 5, 7, 5, 7, 3, 7, 7, 7, 5, 7, 3, 5, 3, 5, 7, 3, 7, 7, 5, 4, 3, 6, 6, 6, 3, 6, 3, 6, 3, 3, 6, 4, 4, 3, 3, 3, 3, 3, 3, 3, 2, 3, 4, 2], [7, 3, 7, 3, 5, 5, 3, 3, 7, 3, 7, 7, 7, 5, 5, 5, 5, 7, 5, 5, 6, 4, 3, 3, 4, 3, 3, 4, 4, 3, 6, 6, 3, 4, 4, 6, 6, 4, 6, 3, 3, 4, 4, 4, 2], [5, 5, 3, 7, 3, 7, 7, 5, 3, 7, 7, 5, 5, 7, 7, 7, 5, 7, 5, 3, 4, 4, 3, 3, 4, 3, 4, 6, 3, 3, 3, 4, 6, 6, 4, 6, 6, 4, 3, 4, 4, 4, 4, 3, 4], [5, 5, 3, 5, 7, 3, 5, 5, 3, 5, 7, 3, 5, 3, 3, 5, 7, 7, 5, 5, 4, 3, 6, 4, 6, 6, 6, 4, 3, 6, 6, 6, 4, 4, 4, 4, 3, 4, 3, 6, 2, 4, 2, 4, 3], [5, 3, 5, 3, 5, 3, 3, 3, 7, 3, 5, 7, 5, 7, 3, 7, 7, 5, 5, 3, 6, 3, 6, 6, 3, 4, 3, 4, 6, 3, 4, 6, 3, 3, 4, 4, 6, 6, 6, 4, 3, 4, 4, 4, 3], [7, 5, 3, 7, 3, 5, 3, 5, 3, 5, 7, 3, 7, 7, 5, 7, 7, 3, 3, 3, 3, 3, 6, 4, 3, 4, 4, 3, 3, 3, 3, 4, 3, 3, 3, 3, 6, 6, 4, 4, 2, 4, 2, 4, 2], [5, 7, 7, 5, 5, 5, 7, 7, 7, 3, 5, 5, 5, 5, 3, 3, 5, 7, 3, 5, 3, 4, 4, 3, 3, 6, 6, 4, 4, 3, 4, 3, 3, 6, 4, 6, 4, 3, 3, 3, 2, 2, 4, 2, 2], [5, 5, 7, 3, 3, 3, 5, 3, 5, 5, 3, 3, 5, 7, 5, 3, 5, 3, 7, 7, 3, 3, 4, 4, 3, 3, 3, 3, 4, 6, 6, 4, 3, 4, 6, 4, 4, 4, 3, 3, 4, 4, 3, 2, 3], [3, 5, 5, 5, 7, 5, 7, 7, 5, 5, 5, 5, 5, 7, 3, 5, 7, 7, 3, 5, 6, 6, 4, 6, 3, 3, 3, 4, 4, 3, 6, 4, 4, 3, 3, 6, 6, 3, 3, 6, 3, 4, 3, 2, 2], [3, 3, 7, 5, 5, 5, 7, 7, 7, 5, 3, 3, 3, 3, 7, 5, 5, 5, 3, 3, 3, 3, 3, 6, 4, 4, 6, 4, 3, 6, 4, 3, 6, 4, 3, 6, 6, 3, 4, 6, 2, 4, 2, 3, 4], [5, 3, 3, 3, 7, 5, 7, 3, 5, 5, 3, 3, 3, 5, 3, 5, 7, 3, 5, 3, 6, 3, 4, 6, 3, 6, 4, 3, 4, 3, 4, 4, 6, 3, 4, 4, 3, 3, 6, 6, 2, 3, 3, 2, 2]], 'f_emb': [tensor([-0., -0., -0.,  ..., -0., -0., -0.]), tensor([-0., -0., -0.,  ..., -0., -0., -0.]), tensor([1226.8495,   -0.0000,   -0.0000,  ...,   -0.0000,   -0.0000,\n",
      "          -0.0000]), tensor([-0., -0., -0.,  ..., -0., -0., -0.]), tensor([188.3607,  -0.0000,  -0.0000,  ...,  -0.0000,  -0.0000, 213.2732]), tensor([-0., -0., -0.,  ..., -0., -0., -0.]), tensor([-0., -0., -0.,  ..., -0., -0., -0.]), tensor([-0.0000, -0.0000, -0.0000,  ..., -0.0000, -0.0000, 9.9611]), tensor([38.6843, -0.0000, -0.0000,  ..., -0.0000, -0.0000, -0.0000]), tensor([ 0.5262, -0.3664,  0.4536,  ..., -0.3597, -0.2121, -0.3281]), tensor([-0., -0., -0.,  ..., -0., -0., -0.]), tensor([-0.0000, -0.0000, -0.0000,  ..., 30.1783, -0.0000,  3.6916]), tensor([-0., -0., -0.,  ..., -0., -0., -0.]), tensor([-0., -0., -0.,  ..., -0., -0., -0.]), tensor([18.3999, -0.0000, -0.0000,  ..., -0.0000, -0.0000, 45.3672]), tensor([ 0.2349,  0.1743,  0.1660,  ...,  0.3616,  0.0957, -0.3534]), tensor([-0.2793, -0.3249, -0.3683,  ..., -0.0000, -0.0000, -0.3627]), tensor([ 0.0759, -0.3346, -0.2591,  ...,  0.4824, -0.2551, -0.1757]), tensor([ 0.4264, -0.1865, -0.1025,  ..., -0.1637,  0.7777, -0.3373]), tensor([ 0.4347, -0.2336, -0.2793,  ..., -0.3347, -0.3469, -0.1162]), tensor([ 0.0104,  0.4655, -0.3177,  ..., -0.1076,  0.8267, -0.3667]), tensor([ 0.0873,  0.1475, -0.3670,  ..., -0.1698,  0.0327, -0.3572]), tensor([322.7029,  -0.0000,  83.4842,  ...,  -0.0000,  -0.0000,  -0.0000]), tensor([-0.3365, -0.0309, -0.3139,  ...,  0.1455, -0.3260, -0.3622]), tensor([-0.0000, -0.0000, -0.0000,  ..., -0.0000, -0.0000, 3.1642]), tensor([    -0.0000,     -0.0000, 159417.2812,  ...,     -0.0000,\n",
      "            -0.0000, 179515.1562]), tensor([-0.0014, -0.3527, -0.0000,  ..., -0.0000, -0.0000, -0.0000]), tensor([6770305.5000,      -0.0000,      -0.0000,  ...,      -0.0000,\n",
      "             -0.0000,      -0.0000]), tensor([1609.9169,   -0.0000,   -0.0000,  ...,   -0.0000,   -0.0000,\n"
     ]
    },
    {
     "name": "stderr",
     "output_type": "stream",
     "text": [
      "Using cache found in /root/.cache/torch/hub/mit-han-lab_once-for-all_master\n"
     ]
    },
    {
     "name": "stdout",
     "output_type": "stream",
     "text": [
      "          -0.0000]), tensor([-0., -0., -0.,  ..., -0., -0., -0.]), tensor([-0.0067, -0.3482, -0.3706,  ..., -0.3683, -0.0611,  0.0504]), tensor([ 1.4714, -0.0000, -0.0945,  ..., -0.2832, -0.0000, -0.3679]), tensor([ 1.7539, 21.7252, -0.0000,  ..., -0.0000, -0.0000, 13.5089]), tensor([-0.3179, -0.3455, -0.3743,  ..., -0.2527,  0.1497, -0.0043])], 'acc': [99.51923076923077, 99.03846153846153, 99.51923076923077, 99.51923076923077, 99.51923076923077, 99.51923076923077, 98.38709677419355, 96.7741935483871, 98.38709677419355, 98.38709677419355, 8.064516129032258, 96.7741935483871, 77.08333333333333, 76.4423076923077, 78.68589743589743, 77.40384615384616, 77.24358974358974, 78.36538461538461, 94.23076923076923, 75.64102564102564, 90.7051282051282, 94.23076923076923, 91.34615384615384, 94.23076923076923, 99.52978056426332, 99.3730407523511, 99.68652037617555, 99.68652037617555, 100.0, 99.3730407523511, 84.88700564971751, 87.99435028248588, 86.7231638418079, 85.73446327683615], 'n_params': [6228442, 5625114, 6570290, 5347354, 5825218, 4821626, 4711646, 4554646, 6688342, 4317614, 5203934, 5550702, 5717244, 5151700, 5773028, 5059684, 6364428, 4930308, 5608818, 4493962, 4318938, 4537954, 5514050, 3861938, 5155304, 6005320, 4798208, 6420784, 4792312, 3845304, 4249220, 3881348, 5982340, 3517428]}\n",
      "\n",
      "=====> Generating 5th network  <=====\n",
      "\n",
      "\n",
      "=====>Generating sub_net<=====\n",
      "\n",
      "\n",
      "=====> Training started <=====\n",
      "\n",
      "Starting Training for:oregon-wildlife_virtualdvid_0_20 with model topology:[3, 7, 3, 5, 3, 7, 5, 3, 7, 7, 3, 5, 5, 3, 7, 5, 5, 7, 7, 7, 4, 6, 6, 3, 6, 6, 4, 4, 3, 6, 6, 6, 3, 3, 3, 4, 4, 6, 3, 3, 2, 4, 3, 4, 3]\n"
     ]
    },
    {
     "name": "stderr",
     "output_type": "stream",
     "text": [
      "177it [00:40,  4.33it/s]\n",
      "23it [00:05,  4.19it/s]\n"
     ]
    },
    {
     "name": "stdout",
     "output_type": "stream",
     "text": [
      "\n",
      "Epoch: 1/15, Train Loss: 34.20418567 , Val Loss: 15.88563598, Train Accuracy:73.12113174,  Val Accuracy: 83.89830508, Epoch Time: 46.67676377\n"
     ]
    },
    {
     "name": "stderr",
     "output_type": "stream",
     "text": [
      "177it [00:37,  4.76it/s]\n",
      "23it [00:04,  4.97it/s]\n"
     ]
    },
    {
     "name": "stdout",
     "output_type": "stream",
     "text": [
      "\n",
      "Epoch: 2/15, Train Loss: 11.12225361 , Val Loss: 13.74052906, Train Accuracy:88.91246684,  Val Accuracy: 85.45197740, Epoch Time: 42.02864718\n"
     ]
    },
    {
     "name": "stderr",
     "output_type": "stream",
     "text": [
      "177it [00:39,  4.51it/s]\n",
      "23it [00:04,  4.71it/s]\n"
     ]
    },
    {
     "name": "stdout",
     "output_type": "stream",
     "text": [
      "\n",
      "Epoch: 3/15, Train Loss: 6.52329226 , Val Loss: 13.98314746, Train Accuracy:93.81078691,  Val Accuracy: 85.59322034, Epoch Time: 44.40370846\n"
     ]
    },
    {
     "name": "stderr",
     "output_type": "stream",
     "text": [
      "177it [00:36,  4.79it/s]\n",
      "23it [00:04,  5.11it/s]\n"
     ]
    },
    {
     "name": "stdout",
     "output_type": "stream",
     "text": [
      "\n",
      "Epoch: 4/15, Train Loss: 3.89321947 , Val Loss: 13.67606889, Train Accuracy:96.64014147,  Val Accuracy: 86.29943503, Epoch Time: 41.68795633\n"
     ]
    },
    {
     "name": "stderr",
     "output_type": "stream",
     "text": [
      "177it [00:37,  4.74it/s]\n",
      "23it [00:04,  5.03it/s]\n"
     ]
    },
    {
     "name": "stdout",
     "output_type": "stream",
     "text": [
      "\n",
      "Epoch: 5/15, Train Loss: 2.45841138 , Val Loss: 14.45674653, Train Accuracy:98.05481874,  Val Accuracy: 87.28813559, Epoch Time: 42.18301821\n"
     ]
    },
    {
     "name": "stderr",
     "output_type": "stream",
     "text": [
      "177it [00:36,  4.79it/s]\n",
      "23it [00:04,  4.86it/s]\n"
     ]
    },
    {
     "name": "stdout",
     "output_type": "stream",
     "text": [
      "\n",
      "Epoch: 6/15, Train Loss: 1.54632783 , Val Loss: 14.56367456, Train Accuracy:99.09814324,  Val Accuracy: 86.15819209, Epoch Time: 41.94077277\n"
     ]
    },
    {
     "name": "stderr",
     "output_type": "stream",
     "text": [
      "177it [00:36,  4.81it/s]\n",
      "23it [00:04,  4.83it/s]\n"
     ]
    },
    {
     "name": "stdout",
     "output_type": "stream",
     "text": [
      "\n",
      "Epoch: 7/15, Train Loss: 1.15177012 , Val Loss: 15.03078423, Train Accuracy:99.32802829,  Val Accuracy: 87.14689266, Epoch Time: 41.82356453\n"
     ]
    },
    {
     "name": "stderr",
     "output_type": "stream",
     "text": [
      "177it [00:38,  4.55it/s]\n",
      "23it [00:05,  4.49it/s]\n"
     ]
    },
    {
     "name": "stdout",
     "output_type": "stream",
     "text": [
      "\n",
      "Epoch: 8/15, Train Loss: 0.86693943 , Val Loss: 15.82729048, Train Accuracy:99.48717949,  Val Accuracy: 87.28813559, Epoch Time: 44.27961516\n"
     ]
    },
    {
     "name": "stderr",
     "output_type": "stream",
     "text": [
      "177it [00:37,  4.74it/s]\n",
      "23it [00:04,  4.74it/s]\n"
     ]
    },
    {
     "name": "stdout",
     "output_type": "stream",
     "text": [
      "\n",
      "Epoch: 9/15, Train Loss: 0.65868211 , Val Loss: 15.70698039, Train Accuracy:99.62864721,  Val Accuracy: 87.99435028, Epoch Time: 42.43499637\n",
      "Early stopping on, 8th, epoch\n",
      "\n",
      "=====>Generating f_emb<=====\n",
      "\n",
      "torch.Size([1536])\n",
      "{'dataset': ['sldc_0_10', 'sldc_0_10', 'sldc_0_10', 'sldc_0_10', 'sldc_0_10', 'sldc_0_10', 'corales_0_14', 'corales_0_14', 'corales_0_14', 'corales_0_14', 'corales_0_14', 'corales_0_14', '6000-store-items-images-classified-by-color_imoore_0_12', '6000-store-items-images-classified-by-color_imoore_0_12', '6000-store-items-images-classified-by-color_imoore_0_12', '6000-store-items-images-classified-by-color_imoore_0_12', '6000-store-items-images-classified-by-color_imoore_0_12', '6000-store-items-images-classified-by-color_imoore_0_12', 'fcis-sc-deeplearning-competition_0_10', 'fcis-sc-deeplearning-competition_0_10', 'fcis-sc-deeplearning-competition_0_10', 'fcis-sc-deeplearning-competition_0_10', 'fcis-sc-deeplearning-competition_0_10', 'fcis-sc-deeplearning-competition_0_10', 'lego-brick-images_joosthazelzet_0_16', 'lego-brick-images_joosthazelzet_0_16', 'lego-brick-images_joosthazelzet_0_16', 'lego-brick-images_joosthazelzet_0_16', 'lego-brick-images_joosthazelzet_0_16', 'lego-brick-images_joosthazelzet_0_16', 'oregon-wildlife_virtualdvid_0_20', 'oregon-wildlife_virtualdvid_0_20', 'oregon-wildlife_virtualdvid_0_20', 'oregon-wildlife_virtualdvid_0_20', 'oregon-wildlife_virtualdvid_0_20'], 'topol': [[3, 5, 5, 5, 7, 5, 5, 7, 3, 5, 7, 7, 7, 5, 7, 5, 3, 3, 7, 3, 4, 3, 6, 3, 6, 6, 4, 4, 6, 4, 3, 6, 6, 3, 4, 6, 3, 4, 6, 3, 3, 4, 2, 4, 4], [3, 7, 7, 7, 5, 7, 5, 3, 7, 5, 3, 3, 5, 5, 3, 7, 7, 5, 3, 5, 3, 4, 6, 3, 6, 4, 6, 4, 4, 3, 3, 3, 3, 6, 6, 3, 3, 4, 6, 4, 4, 3, 2, 2, 4], [3, 7, 5, 5, 3, 7, 7, 5, 5, 5, 5, 5, 5, 7, 7, 7, 7, 7, 5, 7, 6, 6, 6, 3, 6, 3, 4, 4, 6, 6, 6, 4, 3, 6, 4, 6, 6, 4, 6, 4, 2, 3, 3, 3, 4], [7, 5, 3, 3, 5, 3, 5, 5, 5, 5, 3, 7, 7, 5, 7, 3, 3, 5, 3, 5, 3, 4, 6, 6, 6, 3, 6, 3, 6, 3, 6, 4, 4, 6, 6, 4, 6, 6, 6, 4, 2, 2, 2, 3, 2], [3, 5, 5, 7, 5, 5, 7, 3, 7, 5, 5, 5, 3, 5, 3, 7, 5, 7, 7, 3, 3, 6, 3, 3, 6, 3, 6, 6, 4, 4, 3, 4, 4, 3, 6, 6, 4, 3, 4, 3, 4, 3, 4, 4, 4], [3, 3, 5, 5, 7, 5, 5, 5, 5, 5, 3, 3, 3, 3, 3, 7, 7, 3, 5, 5, 6, 4, 3, 4, 4, 4, 3, 6, 4, 3, 6, 4, 4, 4, 6, 6, 4, 4, 3, 6, 4, 2, 4, 3, 3], [7, 7, 5, 5, 5, 5, 3, 3, 3, 5, 7, 5, 5, 3, 3, 5, 5, 5, 7, 5, 3, 4, 3, 6, 6, 4, 3, 4, 6, 6, 4, 4, 6, 4, 4, 3, 6, 4, 3, 6, 2, 4, 4, 3, 2], [3, 3, 3, 7, 7, 5, 5, 7, 7, 5, 7, 7, 7, 7, 3, 5, 7, 7, 7, 3, 6, 4, 6, 3, 3, 4, 6, 6, 3, 3, 4, 4, 4, 4, 6, 6, 3, 4, 4, 3, 2, 4, 4, 2, 3], [5, 5, 3, 5, 7, 3, 5, 7, 7, 5, 3, 7, 7, 3, 3, 7, 3, 3, 7, 3, 4, 4, 6, 6, 3, 6, 3, 6, 3, 4, 4, 6, 3, 4, 6, 3, 6, 6, 4, 4, 4, 2, 4, 4, 4], [3, 5, 3, 5, 3, 3, 7, 7, 3, 3, 5, 7, 5, 3, 7, 7, 3, 3, 3, 7, 3, 4, 6, 6, 4, 4, 6, 6, 3, 3, 3, 6, 3, 6, 3, 4, 3, 4, 6, 6, 4, 4, 4, 3, 2], [3, 7, 7, 5, 7, 3, 7, 5, 7, 7, 7, 5, 7, 5, 3, 7, 5, 5, 5, 5, 6, 3, 6, 6, 4, 6, 6, 4, 6, 6, 6, 3, 3, 3, 3, 3, 6, 6, 4, 4, 3, 4, 2, 2, 3], [7, 7, 3, 3, 5, 7, 3, 5, 5, 3, 3, 3, 5, 7, 3, 7, 7, 5, 7, 7, 6, 3, 4, 3, 3, 3, 4, 3, 3, 4, 6, 6, 6, 4, 4, 6, 6, 4, 3, 4, 2, 2, 3, 4, 3], [7, 3, 3, 3, 3, 3, 5, 7, 5, 3, 5, 5, 3, 7, 7, 7, 5, 3, 7, 5, 3, 6, 3, 6, 6, 3, 4, 3, 6, 6, 3, 4, 3, 4, 4, 3, 4, 6, 6, 4, 3, 3, 2, 3, 3], [3, 3, 7, 5, 7, 3, 5, 7, 3, 5, 3, 5, 5, 5, 5, 3, 5, 5, 3, 3, 3, 6, 6, 6, 6, 6, 4, 3, 4, 4, 6, 4, 3, 6, 3, 6, 3, 6, 4, 6, 2, 2, 2, 3, 3], [5, 3, 5, 5, 5, 5, 7, 7, 3, 7, 7, 7, 3, 3, 7, 3, 7, 5, 5, 3, 3, 3, 6, 4, 6, 4, 4, 3, 6, 4, 6, 6, 3, 6, 4, 4, 3, 4, 3, 4, 3, 3, 4, 4, 4], [5, 5, 7, 5, 5, 5, 5, 7, 3, 3, 7, 3, 7, 5, 3, 3, 5, 7, 3, 3, 4, 4, 4, 4, 3, 4, 6, 3, 4, 6, 6, 3, 6, 3, 4, 6, 6, 4, 4, 6, 2, 4, 2, 3, 3], [7, 5, 3, 3, 7, 7, 7, 7, 5, 7, 5, 3, 7, 3, 5, 7, 3, 5, 7, 5, 4, 4, 4, 6, 4, 3, 3, 6, 3, 6, 4, 6, 6, 6, 6, 6, 3, 4, 6, 4, 2, 2, 2, 4, 3], [3, 3, 3, 7, 7, 3, 3, 7, 7, 7, 7, 5, 5, 7, 7, 3, 7, 7, 5, 7, 3, 4, 3, 3, 6, 3, 6, 3, 6, 3, 6, 3, 4, 3, 3, 6, 4, 4, 3, 6, 4, 4, 2, 4, 3], [3, 7, 7, 7, 3, 5, 3, 7, 5, 3, 5, 5, 7, 3, 5, 5, 3, 7, 5, 5, 4, 3, 4, 4, 3, 4, 6, 4, 6, 4, 3, 3, 3, 3, 6, 3, 4, 6, 4, 3, 4, 2, 4, 4, 3], [7, 7, 3, 5, 5, 5, 7, 3, 3, 5, 3, 3, 5, 7, 7, 3, 3, 7, 3, 3, 3, 3, 4, 6, 4, 6, 6, 6, 4, 3, 3, 6, 6, 4, 3, 4, 6, 4, 4, 4, 2, 4, 2, 3, 2], [3, 7, 7, 3, 5, 7, 7, 5, 7, 3, 5, 7, 7, 3, 5, 5, 5, 3, 3, 5, 3, 4, 3, 4, 3, 4, 6, 3, 6, 3, 4, 3, 4, 4, 4, 6, 3, 3, 4, 3, 3, 3, 2, 4, 2], [3, 7, 5, 3, 3, 5, 5, 7, 5, 7, 3, 5, 3, 7, 7, 5, 5, 7, 3, 3, 3, 3, 4, 6, 3, 6, 4, 3, 6, 4, 6, 4, 6, 6, 6, 6, 3, 4, 3, 6, 4, 4, 2, 2, 3], [3, 7, 3, 3, 5, 7, 5, 7, 5, 7, 7, 7, 7, 3, 3, 3, 7, 3, 3, 3, 6, 4, 4, 3, 4, 6, 4, 6, 4, 6, 6, 4, 4, 3, 3, 3, 6, 4, 3, 3, 2, 4, 4, 4, 4], [5, 5, 7, 5, 7, 3, 7, 7, 7, 5, 7, 3, 5, 3, 5, 7, 3, 7, 7, 5, 4, 3, 6, 6, 6, 3, 6, 3, 6, 3, 3, 6, 4, 4, 3, 3, 3, 3, 3, 3, 3, 2, 3, 4, 2], [7, 3, 7, 3, 5, 5, 3, 3, 7, 3, 7, 7, 7, 5, 5, 5, 5, 7, 5, 5, 6, 4, 3, 3, 4, 3, 3, 4, 4, 3, 6, 6, 3, 4, 4, 6, 6, 4, 6, 3, 3, 4, 4, 4, 2], [5, 5, 3, 7, 3, 7, 7, 5, 3, 7, 7, 5, 5, 7, 7, 7, 5, 7, 5, 3, 4, 4, 3, 3, 4, 3, 4, 6, 3, 3, 3, 4, 6, 6, 4, 6, 6, 4, 3, 4, 4, 4, 4, 3, 4], [5, 5, 3, 5, 7, 3, 5, 5, 3, 5, 7, 3, 5, 3, 3, 5, 7, 7, 5, 5, 4, 3, 6, 4, 6, 6, 6, 4, 3, 6, 6, 6, 4, 4, 4, 4, 3, 4, 3, 6, 2, 4, 2, 4, 3], [5, 3, 5, 3, 5, 3, 3, 3, 7, 3, 5, 7, 5, 7, 3, 7, 7, 5, 5, 3, 6, 3, 6, 6, 3, 4, 3, 4, 6, 3, 4, 6, 3, 3, 4, 4, 6, 6, 6, 4, 3, 4, 4, 4, 3], [7, 5, 3, 7, 3, 5, 3, 5, 3, 5, 7, 3, 7, 7, 5, 7, 7, 3, 3, 3, 3, 3, 6, 4, 3, 4, 4, 3, 3, 3, 3, 4, 3, 3, 3, 3, 6, 6, 4, 4, 2, 4, 2, 4, 2], [5, 7, 7, 5, 5, 5, 7, 7, 7, 3, 5, 5, 5, 5, 3, 3, 5, 7, 3, 5, 3, 4, 4, 3, 3, 6, 6, 4, 4, 3, 4, 3, 3, 6, 4, 6, 4, 3, 3, 3, 2, 2, 4, 2, 2], [5, 5, 7, 3, 3, 3, 5, 3, 5, 5, 3, 3, 5, 7, 5, 3, 5, 3, 7, 7, 3, 3, 4, 4, 3, 3, 3, 3, 4, 6, 6, 4, 3, 4, 6, 4, 4, 4, 3, 3, 4, 4, 3, 2, 3], [3, 5, 5, 5, 7, 5, 7, 7, 5, 5, 5, 5, 5, 7, 3, 5, 7, 7, 3, 5, 6, 6, 4, 6, 3, 3, 3, 4, 4, 3, 6, 4, 4, 3, 3, 6, 6, 3, 3, 6, 3, 4, 3, 2, 2], [3, 3, 7, 5, 5, 5, 7, 7, 7, 5, 3, 3, 3, 3, 7, 5, 5, 5, 3, 3, 3, 3, 3, 6, 4, 4, 6, 4, 3, 6, 4, 3, 6, 4, 3, 6, 6, 3, 4, 6, 2, 4, 2, 3, 4], [5, 3, 3, 3, 7, 5, 7, 3, 5, 5, 3, 3, 3, 5, 3, 5, 7, 3, 5, 3, 6, 3, 4, 6, 3, 6, 4, 3, 4, 3, 4, 4, 6, 3, 4, 4, 3, 3, 6, 6, 2, 3, 3, 2, 2], [3, 7, 3, 5, 3, 7, 5, 3, 7, 7, 3, 5, 5, 3, 7, 5, 5, 7, 7, 7, 4, 6, 6, 3, 6, 6, 4, 4, 3, 6, 6, 6, 3, 3, 3, 4, 4, 6, 3, 3, 2, 4, 3, 4, 3]], 'f_emb': [tensor([-0., -0., -0.,  ..., -0., -0., -0.]), tensor([-0., -0., -0.,  ..., -0., -0., -0.]), tensor([1226.8495,   -0.0000,   -0.0000,  ...,   -0.0000,   -0.0000,\n",
      "          -0.0000]), tensor([-0., -0., -0.,  ..., -0., -0., -0.]), tensor([188.3607,  -0.0000,  -0.0000,  ...,  -0.0000,  -0.0000, 213.2732]), tensor([-0., -0., -0.,  ..., -0., -0., -0.]), tensor([-0., -0., -0.,  ..., -0., -0., -0.]), tensor([-0.0000, -0.0000, -0.0000,  ..., -0.0000, -0.0000, 9.9611]), tensor([38.6843, -0.0000, -0.0000,  ..., -0.0000, -0.0000, -0.0000]), tensor([ 0.5262, -0.3664,  0.4536,  ..., -0.3597, -0.2121, -0.3281]), tensor([-0., -0., -0.,  ..., -0., -0., -0.]), tensor([-0.0000, -0.0000, -0.0000,  ..., 30.1783, -0.0000,  3.6916]), tensor([-0., -0., -0.,  ..., -0., -0., -0.]), tensor([-0., -0., -0.,  ..., -0., -0., -0.]), tensor([18.3999, -0.0000, -0.0000,  ..., -0.0000, -0.0000, 45.3672]), tensor([ 0.2349,  0.1743,  0.1660,  ...,  0.3616,  0.0957, -0.3534]), tensor([-0.2793, -0.3249, -0.3683,  ..., -0.0000, -0.0000, -0.3627]), tensor([ 0.0759, -0.3346, -0.2591,  ...,  0.4824, -0.2551, -0.1757]), tensor([ 0.4264, -0.1865, -0.1025,  ..., -0.1637,  0.7777, -0.3373]), tensor([ 0.4347, -0.2336, -0.2793,  ..., -0.3347, -0.3469, -0.1162]), tensor([ 0.0104,  0.4655, -0.3177,  ..., -0.1076,  0.8267, -0.3667]), tensor([ 0.0873,  0.1475, -0.3670,  ..., -0.1698,  0.0327, -0.3572]), tensor([322.7029,  -0.0000,  83.4842,  ...,  -0.0000,  -0.0000,  -0.0000]), tensor([-0.3365, -0.0309, -0.3139,  ...,  0.1455, -0.3260, -0.3622]), tensor([-0.0000, -0.0000, -0.0000,  ..., -0.0000, -0.0000, 3.1642]), tensor([    -0.0000,     -0.0000, 159417.2812,  ...,     -0.0000,\n",
      "            -0.0000, 179515.1562]), tensor([-0.0014, -0.3527, -0.0000,  ..., -0.0000, -0.0000, -0.0000]), tensor([6770305.5000,      -0.0000,      -0.0000,  ...,      -0.0000,\n",
      "             -0.0000,      -0.0000]), tensor([1609.9169,   -0.0000,   -0.0000,  ...,   -0.0000,   -0.0000,\n"
     ]
    },
    {
     "name": "stderr",
     "output_type": "stream",
     "text": [
      "Using cache found in /root/.cache/torch/hub/mit-han-lab_once-for-all_master\n"
     ]
    },
    {
     "name": "stdout",
     "output_type": "stream",
     "text": [
      "          -0.0000]), tensor([-0., -0., -0.,  ..., -0., -0., -0.]), tensor([-0.0067, -0.3482, -0.3706,  ..., -0.3683, -0.0611,  0.0504]), tensor([ 1.4714, -0.0000, -0.0945,  ..., -0.2832, -0.0000, -0.3679]), tensor([ 1.7539, 21.7252, -0.0000,  ..., -0.0000, -0.0000, 13.5089]), tensor([-0.3179, -0.3455, -0.3743,  ..., -0.2527,  0.1497, -0.0043]), tensor([-0.3241, -0.2744, -0.1231,  ..., -0.1582, -0.2237, -0.0000])], 'acc': [99.51923076923077, 99.03846153846153, 99.51923076923077, 99.51923076923077, 99.51923076923077, 99.51923076923077, 98.38709677419355, 96.7741935483871, 98.38709677419355, 98.38709677419355, 8.064516129032258, 96.7741935483871, 77.08333333333333, 76.4423076923077, 78.68589743589743, 77.40384615384616, 77.24358974358974, 78.36538461538461, 94.23076923076923, 75.64102564102564, 90.7051282051282, 94.23076923076923, 91.34615384615384, 94.23076923076923, 99.52978056426332, 99.3730407523511, 99.68652037617555, 99.68652037617555, 100.0, 99.3730407523511, 84.88700564971751, 87.99435028248588, 86.7231638418079, 85.73446327683615, 87.99435028248588], 'n_params': [6228442, 5625114, 6570290, 5347354, 5825218, 4821626, 4711646, 4554646, 6688342, 4317614, 5203934, 5550702, 5717244, 5151700, 5773028, 5059684, 6364428, 4930308, 5608818, 4493962, 4318938, 4537954, 5514050, 3861938, 5155304, 6005320, 4798208, 6420784, 4792312, 3845304, 4249220, 3881348, 5982340, 3517428, 5327428]}\n",
      "\n",
      "=====> Generating 6th network  <=====\n",
      "\n",
      "\n",
      "=====>Generating sub_net<=====\n",
      "\n",
      "\n",
      "=====> Training started <=====\n",
      "\n",
      "Starting Training for:oregon-wildlife_virtualdvid_0_20 with model topology:[3, 3, 3, 5, 3, 3, 3, 5, 7, 3, 7, 5, 3, 7, 5, 3, 7, 7, 3, 7, 6, 3, 3, 6, 3, 6, 6, 3, 6, 6, 4, 4, 4, 3, 6, 3, 6, 3, 3, 6, 2, 3, 4, 4, 4]\n"
     ]
    },
    {
     "name": "stderr",
     "output_type": "stream",
     "text": [
      "177it [00:36,  4.85it/s]\n",
      "23it [00:04,  5.06it/s]\n"
     ]
    },
    {
     "name": "stdout",
     "output_type": "stream",
     "text": [
      "\n",
      "Epoch: 1/15, Train Loss: 33.14978381 , Val Loss: 16.27198833, Train Accuracy:73.88152078,  Val Accuracy: 83.75706215, Epoch Time: 41.28643322\n"
     ]
    },
    {
     "name": "stderr",
     "output_type": "stream",
     "text": [
      "177it [00:36,  4.83it/s]\n",
      "23it [00:04,  5.05it/s]\n"
     ]
    },
    {
     "name": "stdout",
     "output_type": "stream",
     "text": [
      "\n",
      "Epoch: 2/15, Train Loss: 10.52528245 , Val Loss: 14.32733732, Train Accuracy:89.23076923,  Val Accuracy: 85.16949153, Epoch Time: 41.48969269\n"
     ]
    },
    {
     "name": "stderr",
     "output_type": "stream",
     "text": [
      "177it [00:36,  4.87it/s]\n",
      "23it [00:04,  5.16it/s]\n"
     ]
    },
    {
     "name": "stdout",
     "output_type": "stream",
     "text": [
      "\n",
      "Epoch: 3/15, Train Loss: 6.02130003 , Val Loss: 14.68213673, Train Accuracy:94.14677277,  Val Accuracy: 86.29943503, Epoch Time: 41.03607655\n"
     ]
    },
    {
     "name": "stderr",
     "output_type": "stream",
     "text": [
      "177it [00:38,  4.66it/s]\n",
      "23it [00:04,  4.77it/s]\n"
     ]
    },
    {
     "name": "stdout",
     "output_type": "stream",
     "text": [
      "\n",
      "Epoch: 4/15, Train Loss: 3.34358994 , Val Loss: 14.90977679, Train Accuracy:97.17064545,  Val Accuracy: 86.29943503, Epoch Time: 43.10530400\n"
     ]
    },
    {
     "name": "stderr",
     "output_type": "stream",
     "text": [
      "177it [00:37,  4.73it/s]\n",
      "23it [00:04,  5.12it/s]\n"
     ]
    },
    {
     "name": "stdout",
     "output_type": "stream",
     "text": [
      "\n",
      "Epoch: 5/15, Train Loss: 1.91556822 , Val Loss: 15.28903533, Train Accuracy:98.74447392,  Val Accuracy: 85.45197740, Epoch Time: 42.20337677\n"
     ]
    },
    {
     "name": "stderr",
     "output_type": "stream",
     "text": [
      "177it [00:36,  4.83it/s]\n",
      "23it [00:04,  5.10it/s]\n"
     ]
    },
    {
     "name": "stdout",
     "output_type": "stream",
     "text": [
      "\n",
      "Epoch: 6/15, Train Loss: 1.41151992 , Val Loss: 15.37078005, Train Accuracy:98.72679045,  Val Accuracy: 87.14689266, Epoch Time: 41.36345100\n"
     ]
    },
    {
     "name": "stderr",
     "output_type": "stream",
     "text": [
      "177it [00:37,  4.68it/s]\n",
      "23it [00:04,  4.82it/s]\n"
     ]
    },
    {
     "name": "stdout",
     "output_type": "stream",
     "text": [
      "\n",
      "Epoch: 7/15, Train Loss: 0.95533832 , Val Loss: 16.63775176, Train Accuracy:99.36339523,  Val Accuracy: 86.44067797, Epoch Time: 42.82773662\n",
      "Early stopping on, 6th, epoch\n",
      "\n",
      "=====>Generating f_emb<=====\n",
      "\n",
      "torch.Size([1536])\n",
      "{'dataset': ['sldc_0_10', 'sldc_0_10', 'sldc_0_10', 'sldc_0_10', 'sldc_0_10', 'sldc_0_10', 'corales_0_14', 'corales_0_14', 'corales_0_14', 'corales_0_14', 'corales_0_14', 'corales_0_14', '6000-store-items-images-classified-by-color_imoore_0_12', '6000-store-items-images-classified-by-color_imoore_0_12', '6000-store-items-images-classified-by-color_imoore_0_12', '6000-store-items-images-classified-by-color_imoore_0_12', '6000-store-items-images-classified-by-color_imoore_0_12', '6000-store-items-images-classified-by-color_imoore_0_12', 'fcis-sc-deeplearning-competition_0_10', 'fcis-sc-deeplearning-competition_0_10', 'fcis-sc-deeplearning-competition_0_10', 'fcis-sc-deeplearning-competition_0_10', 'fcis-sc-deeplearning-competition_0_10', 'fcis-sc-deeplearning-competition_0_10', 'lego-brick-images_joosthazelzet_0_16', 'lego-brick-images_joosthazelzet_0_16', 'lego-brick-images_joosthazelzet_0_16', 'lego-brick-images_joosthazelzet_0_16', 'lego-brick-images_joosthazelzet_0_16', 'lego-brick-images_joosthazelzet_0_16', 'oregon-wildlife_virtualdvid_0_20', 'oregon-wildlife_virtualdvid_0_20', 'oregon-wildlife_virtualdvid_0_20', 'oregon-wildlife_virtualdvid_0_20', 'oregon-wildlife_virtualdvid_0_20', 'oregon-wildlife_virtualdvid_0_20'], 'topol': [[3, 5, 5, 5, 7, 5, 5, 7, 3, 5, 7, 7, 7, 5, 7, 5, 3, 3, 7, 3, 4, 3, 6, 3, 6, 6, 4, 4, 6, 4, 3, 6, 6, 3, 4, 6, 3, 4, 6, 3, 3, 4, 2, 4, 4], [3, 7, 7, 7, 5, 7, 5, 3, 7, 5, 3, 3, 5, 5, 3, 7, 7, 5, 3, 5, 3, 4, 6, 3, 6, 4, 6, 4, 4, 3, 3, 3, 3, 6, 6, 3, 3, 4, 6, 4, 4, 3, 2, 2, 4], [3, 7, 5, 5, 3, 7, 7, 5, 5, 5, 5, 5, 5, 7, 7, 7, 7, 7, 5, 7, 6, 6, 6, 3, 6, 3, 4, 4, 6, 6, 6, 4, 3, 6, 4, 6, 6, 4, 6, 4, 2, 3, 3, 3, 4], [7, 5, 3, 3, 5, 3, 5, 5, 5, 5, 3, 7, 7, 5, 7, 3, 3, 5, 3, 5, 3, 4, 6, 6, 6, 3, 6, 3, 6, 3, 6, 4, 4, 6, 6, 4, 6, 6, 6, 4, 2, 2, 2, 3, 2], [3, 5, 5, 7, 5, 5, 7, 3, 7, 5, 5, 5, 3, 5, 3, 7, 5, 7, 7, 3, 3, 6, 3, 3, 6, 3, 6, 6, 4, 4, 3, 4, 4, 3, 6, 6, 4, 3, 4, 3, 4, 3, 4, 4, 4], [3, 3, 5, 5, 7, 5, 5, 5, 5, 5, 3, 3, 3, 3, 3, 7, 7, 3, 5, 5, 6, 4, 3, 4, 4, 4, 3, 6, 4, 3, 6, 4, 4, 4, 6, 6, 4, 4, 3, 6, 4, 2, 4, 3, 3], [7, 7, 5, 5, 5, 5, 3, 3, 3, 5, 7, 5, 5, 3, 3, 5, 5, 5, 7, 5, 3, 4, 3, 6, 6, 4, 3, 4, 6, 6, 4, 4, 6, 4, 4, 3, 6, 4, 3, 6, 2, 4, 4, 3, 2], [3, 3, 3, 7, 7, 5, 5, 7, 7, 5, 7, 7, 7, 7, 3, 5, 7, 7, 7, 3, 6, 4, 6, 3, 3, 4, 6, 6, 3, 3, 4, 4, 4, 4, 6, 6, 3, 4, 4, 3, 2, 4, 4, 2, 3], [5, 5, 3, 5, 7, 3, 5, 7, 7, 5, 3, 7, 7, 3, 3, 7, 3, 3, 7, 3, 4, 4, 6, 6, 3, 6, 3, 6, 3, 4, 4, 6, 3, 4, 6, 3, 6, 6, 4, 4, 4, 2, 4, 4, 4], [3, 5, 3, 5, 3, 3, 7, 7, 3, 3, 5, 7, 5, 3, 7, 7, 3, 3, 3, 7, 3, 4, 6, 6, 4, 4, 6, 6, 3, 3, 3, 6, 3, 6, 3, 4, 3, 4, 6, 6, 4, 4, 4, 3, 2], [3, 7, 7, 5, 7, 3, 7, 5, 7, 7, 7, 5, 7, 5, 3, 7, 5, 5, 5, 5, 6, 3, 6, 6, 4, 6, 6, 4, 6, 6, 6, 3, 3, 3, 3, 3, 6, 6, 4, 4, 3, 4, 2, 2, 3], [7, 7, 3, 3, 5, 7, 3, 5, 5, 3, 3, 3, 5, 7, 3, 7, 7, 5, 7, 7, 6, 3, 4, 3, 3, 3, 4, 3, 3, 4, 6, 6, 6, 4, 4, 6, 6, 4, 3, 4, 2, 2, 3, 4, 3], [7, 3, 3, 3, 3, 3, 5, 7, 5, 3, 5, 5, 3, 7, 7, 7, 5, 3, 7, 5, 3, 6, 3, 6, 6, 3, 4, 3, 6, 6, 3, 4, 3, 4, 4, 3, 4, 6, 6, 4, 3, 3, 2, 3, 3], [3, 3, 7, 5, 7, 3, 5, 7, 3, 5, 3, 5, 5, 5, 5, 3, 5, 5, 3, 3, 3, 6, 6, 6, 6, 6, 4, 3, 4, 4, 6, 4, 3, 6, 3, 6, 3, 6, 4, 6, 2, 2, 2, 3, 3], [5, 3, 5, 5, 5, 5, 7, 7, 3, 7, 7, 7, 3, 3, 7, 3, 7, 5, 5, 3, 3, 3, 6, 4, 6, 4, 4, 3, 6, 4, 6, 6, 3, 6, 4, 4, 3, 4, 3, 4, 3, 3, 4, 4, 4], [5, 5, 7, 5, 5, 5, 5, 7, 3, 3, 7, 3, 7, 5, 3, 3, 5, 7, 3, 3, 4, 4, 4, 4, 3, 4, 6, 3, 4, 6, 6, 3, 6, 3, 4, 6, 6, 4, 4, 6, 2, 4, 2, 3, 3], [7, 5, 3, 3, 7, 7, 7, 7, 5, 7, 5, 3, 7, 3, 5, 7, 3, 5, 7, 5, 4, 4, 4, 6, 4, 3, 3, 6, 3, 6, 4, 6, 6, 6, 6, 6, 3, 4, 6, 4, 2, 2, 2, 4, 3], [3, 3, 3, 7, 7, 3, 3, 7, 7, 7, 7, 5, 5, 7, 7, 3, 7, 7, 5, 7, 3, 4, 3, 3, 6, 3, 6, 3, 6, 3, 6, 3, 4, 3, 3, 6, 4, 4, 3, 6, 4, 4, 2, 4, 3], [3, 7, 7, 7, 3, 5, 3, 7, 5, 3, 5, 5, 7, 3, 5, 5, 3, 7, 5, 5, 4, 3, 4, 4, 3, 4, 6, 4, 6, 4, 3, 3, 3, 3, 6, 3, 4, 6, 4, 3, 4, 2, 4, 4, 3], [7, 7, 3, 5, 5, 5, 7, 3, 3, 5, 3, 3, 5, 7, 7, 3, 3, 7, 3, 3, 3, 3, 4, 6, 4, 6, 6, 6, 4, 3, 3, 6, 6, 4, 3, 4, 6, 4, 4, 4, 2, 4, 2, 3, 2], [3, 7, 7, 3, 5, 7, 7, 5, 7, 3, 5, 7, 7, 3, 5, 5, 5, 3, 3, 5, 3, 4, 3, 4, 3, 4, 6, 3, 6, 3, 4, 3, 4, 4, 4, 6, 3, 3, 4, 3, 3, 3, 2, 4, 2], [3, 7, 5, 3, 3, 5, 5, 7, 5, 7, 3, 5, 3, 7, 7, 5, 5, 7, 3, 3, 3, 3, 4, 6, 3, 6, 4, 3, 6, 4, 6, 4, 6, 6, 6, 6, 3, 4, 3, 6, 4, 4, 2, 2, 3], [3, 7, 3, 3, 5, 7, 5, 7, 5, 7, 7, 7, 7, 3, 3, 3, 7, 3, 3, 3, 6, 4, 4, 3, 4, 6, 4, 6, 4, 6, 6, 4, 4, 3, 3, 3, 6, 4, 3, 3, 2, 4, 4, 4, 4], [5, 5, 7, 5, 7, 3, 7, 7, 7, 5, 7, 3, 5, 3, 5, 7, 3, 7, 7, 5, 4, 3, 6, 6, 6, 3, 6, 3, 6, 3, 3, 6, 4, 4, 3, 3, 3, 3, 3, 3, 3, 2, 3, 4, 2], [7, 3, 7, 3, 5, 5, 3, 3, 7, 3, 7, 7, 7, 5, 5, 5, 5, 7, 5, 5, 6, 4, 3, 3, 4, 3, 3, 4, 4, 3, 6, 6, 3, 4, 4, 6, 6, 4, 6, 3, 3, 4, 4, 4, 2], [5, 5, 3, 7, 3, 7, 7, 5, 3, 7, 7, 5, 5, 7, 7, 7, 5, 7, 5, 3, 4, 4, 3, 3, 4, 3, 4, 6, 3, 3, 3, 4, 6, 6, 4, 6, 6, 4, 3, 4, 4, 4, 4, 3, 4], [5, 5, 3, 5, 7, 3, 5, 5, 3, 5, 7, 3, 5, 3, 3, 5, 7, 7, 5, 5, 4, 3, 6, 4, 6, 6, 6, 4, 3, 6, 6, 6, 4, 4, 4, 4, 3, 4, 3, 6, 2, 4, 2, 4, 3], [5, 3, 5, 3, 5, 3, 3, 3, 7, 3, 5, 7, 5, 7, 3, 7, 7, 5, 5, 3, 6, 3, 6, 6, 3, 4, 3, 4, 6, 3, 4, 6, 3, 3, 4, 4, 6, 6, 6, 4, 3, 4, 4, 4, 3], [7, 5, 3, 7, 3, 5, 3, 5, 3, 5, 7, 3, 7, 7, 5, 7, 7, 3, 3, 3, 3, 3, 6, 4, 3, 4, 4, 3, 3, 3, 3, 4, 3, 3, 3, 3, 6, 6, 4, 4, 2, 4, 2, 4, 2], [5, 7, 7, 5, 5, 5, 7, 7, 7, 3, 5, 5, 5, 5, 3, 3, 5, 7, 3, 5, 3, 4, 4, 3, 3, 6, 6, 4, 4, 3, 4, 3, 3, 6, 4, 6, 4, 3, 3, 3, 2, 2, 4, 2, 2], [5, 5, 7, 3, 3, 3, 5, 3, 5, 5, 3, 3, 5, 7, 5, 3, 5, 3, 7, 7, 3, 3, 4, 4, 3, 3, 3, 3, 4, 6, 6, 4, 3, 4, 6, 4, 4, 4, 3, 3, 4, 4, 3, 2, 3], [3, 5, 5, 5, 7, 5, 7, 7, 5, 5, 5, 5, 5, 7, 3, 5, 7, 7, 3, 5, 6, 6, 4, 6, 3, 3, 3, 4, 4, 3, 6, 4, 4, 3, 3, 6, 6, 3, 3, 6, 3, 4, 3, 2, 2], [3, 3, 7, 5, 5, 5, 7, 7, 7, 5, 3, 3, 3, 3, 7, 5, 5, 5, 3, 3, 3, 3, 3, 6, 4, 4, 6, 4, 3, 6, 4, 3, 6, 4, 3, 6, 6, 3, 4, 6, 2, 4, 2, 3, 4], [5, 3, 3, 3, 7, 5, 7, 3, 5, 5, 3, 3, 3, 5, 3, 5, 7, 3, 5, 3, 6, 3, 4, 6, 3, 6, 4, 3, 4, 3, 4, 4, 6, 3, 4, 4, 3, 3, 6, 6, 2, 3, 3, 2, 2], [3, 7, 3, 5, 3, 7, 5, 3, 7, 7, 3, 5, 5, 3, 7, 5, 5, 7, 7, 7, 4, 6, 6, 3, 6, 6, 4, 4, 3, 6, 6, 6, 3, 3, 3, 4, 4, 6, 3, 3, 2, 4, 3, 4, 3], [3, 3, 3, 5, 3, 3, 3, 5, 7, 3, 7, 5, 3, 7, 5, 3, 7, 7, 3, 7, 6, 3, 3, 6, 3, 6, 6, 3, 6, 6, 4, 4, 4, 3, 6, 3, 6, 3, 3, 6, 2, 3, 4, 4, 4]], 'f_emb': [tensor([-0., -0., -0.,  ..., -0., -0., -0.]), tensor([-0., -0., -0.,  ..., -0., -0., -0.]), tensor([1226.8495,   -0.0000,   -0.0000,  ...,   -0.0000,   -0.0000,\n",
      "          -0.0000]), tensor([-0., -0., -0.,  ..., -0., -0., -0.]), tensor([188.3607,  -0.0000,  -0.0000,  ...,  -0.0000,  -0.0000, 213.2732]), tensor([-0., -0., -0.,  ..., -0., -0., -0.]), tensor([-0., -0., -0.,  ..., -0., -0., -0.]), tensor([-0.0000, -0.0000, -0.0000,  ..., -0.0000, -0.0000, 9.9611]), tensor([38.6843, -0.0000, -0.0000,  ..., -0.0000, -0.0000, -0.0000]), tensor([ 0.5262, -0.3664,  0.4536,  ..., -0.3597, -0.2121, -0.3281]), tensor([-0., -0., -0.,  ..., -0., -0., -0.]), tensor([-0.0000, -0.0000, -0.0000,  ..., 30.1783, -0.0000,  3.6916]), tensor([-0., -0., -0.,  ..., -0., -0., -0.]), tensor([-0., -0., -0.,  ..., -0., -0., -0.]), tensor([18.3999, -0.0000, -0.0000,  ..., -0.0000, -0.0000, 45.3672]), tensor([ 0.2349,  0.1743,  0.1660,  ...,  0.3616,  0.0957, -0.3534]), tensor([-0.2793, -0.3249, -0.3683,  ..., -0.0000, -0.0000, -0.3627]), tensor([ 0.0759, -0.3346, -0.2591,  ...,  0.4824, -0.2551, -0.1757]), tensor([ 0.4264, -0.1865, -0.1025,  ..., -0.1637,  0.7777, -0.3373]), tensor([ 0.4347, -0.2336, -0.2793,  ..., -0.3347, -0.3469, -0.1162]), tensor([ 0.0104,  0.4655, -0.3177,  ..., -0.1076,  0.8267, -0.3667]), tensor([ 0.0873,  0.1475, -0.3670,  ..., -0.1698,  0.0327, -0.3572]), tensor([322.7029,  -0.0000,  83.4842,  ...,  -0.0000,  -0.0000,  -0.0000]), tensor([-0.3365, -0.0309, -0.3139,  ...,  0.1455, -0.3260, -0.3622]), tensor([-0.0000, -0.0000, -0.0000,  ..., -0.0000, -0.0000, 3.1642]), tensor([    -0.0000,     -0.0000, 159417.2812,  ...,     -0.0000,\n",
      "            -0.0000, 179515.1562]), tensor([-0.0014, -0.3527, -0.0000,  ..., -0.0000, -0.0000, -0.0000]), tensor([6770305.5000,      -0.0000,      -0.0000,  ...,      -0.0000,\n",
      "             -0.0000,      -0.0000]), tensor([1609.9169,   -0.0000,   -0.0000,  ...,   -0.0000,   -0.0000,\n",
      "          -0.0000]), tensor([-0., -0., -0.,  ..., -0., -0., -0.]), tensor([-0.0067, -0.3482, -0.3706,  ..., -0.3683, -0.0611,  0.0504]), tensor([ 1.4714, -0.0000, -0.0945,  ..., -0.2832, -0.0000, -0.3679]), tensor([ 1.7539, 21.7252, -0.0000,  ..., -0.0000, -0.0000, 13.5089]), tensor([-0.3179, -0.3455, -0.3743,  ..., -0.2527,  0.1497, -0.0043]), tensor([-0.3241, -0.2744, -0.1231,  ..., -0.1582, -0.2237, -0.0000]), tensor([-0.1600,  3.9948, -0.0000,  ..., -0.0000, -0.0000,  8.6842])], 'acc': [99.51923076923077, 99.03846153846153, 99.51923076923077, 99.51923076923077, 99.51923076923077, 99.51923076923077, 98.38709677419355, 96.7741935483871, 98.38709677419355, 98.38709677419355, 8.064516129032258, 96.7741935483871, 77.08333333333333, 76.4423076923077, 78.68589743589743, 77.40384615384616, 77.24358974358974, 78.36538461538461, 94.23076923076923, 75.64102564102564, 90.7051282051282, 94.23076923076923, 91.34615384615384, 94.23076923076923, 99.52978056426332, 99.3730407523511, 99.68652037617555, 99.68652037617555, 100.0, 99.3730407523511, 84.88700564971751, 87.99435028248588, 86.7231638418079, 85.73446327683615, 87.99435028248588, 86.44067796610169], 'n_params': [6228442, 5625114, 6570290, 5347354, 5825218, 4821626, 4711646, 4554646, 6688342, 4317614, 5203934, 5550702, 5717244, 5151700, 5773028, 5059684, 6364428, 4930308, 5608818, 4493962, 4318938, 4537954, 5514050, 3861938, 5155304, 6005320, 4798208, 6420784, 4792312, 3845304, 4249220, 3881348, 5982340, 3517428, 5327428, 6367692]}\n",
      "\n",
      "=====> GENERATING QUERIES <=====\n",
      "\n",
      "query_shape_train: 32, each tensor:torch.Size([512])\n"
     ]
    },
    {
     "name": "stderr",
     "output_type": "stream",
     "text": [
      "Using cache found in /root/.cache/torch/hub/mit-han-lab_once-for-all_master\n"
     ]
    },
    {
     "name": "stdout",
     "output_type": "stream",
     "text": [
      "query_shape_test: 32, each tensor:torch.Size([512])\n",
      "x_query:32, x_query-test :32\n",
      "\n",
      "=====>SAVING oregon-wildlife_virtualdvid_0_20 in m_train.pt <=====\n",
      "\n",
      "quesry_dataset perritos_0_10\n",
      "\n",
      "Dataset : perritos_0_10, nclss:10\n",
      "\n",
      "\n",
      "=====> Generating 1th network  <=====\n",
      "\n",
      "\n",
      "=====>Generating sub_net<=====\n",
      "\n",
      "\n",
      "=====> Training started <=====\n",
      "\n",
      "Starting Training for:perritos_0_10 with model topology:[5, 7, 3, 7, 3, 7, 5, 5, 5, 7, 7, 3, 3, 3, 7, 3, 5, 5, 3, 5, 6, 4, 6, 6, 6, 4, 6, 3, 4, 4, 3, 3, 6, 6, 4, 3, 4, 3, 6, 4, 2, 2, 3, 4, 3]\n"
     ]
    },
    {
     "name": "stderr",
     "output_type": "stream",
     "text": [
      "226it [00:33,  6.66it/s]\n",
      "29it [00:04,  6.74it/s]\n"
     ]
    },
    {
     "name": "stdout",
     "output_type": "stream",
     "text": [
      "\n",
      "Epoch: 1/15, Train Loss: 14.50269541 , Val Loss: 4.57166483, Train Accuracy:89.64800443,  Val Accuracy: 95.56541020, Epoch Time: 38.54865551\n"
     ]
    },
    {
     "name": "stderr",
     "output_type": "stream",
     "text": [
      "226it [00:33,  6.68it/s]\n",
      "29it [00:02, 12.73it/s]\n"
     ]
    },
    {
     "name": "stdout",
     "output_type": "stream",
     "text": [
      "\n",
      "Epoch: 2/15, Train Loss: 3.85961862 , Val Loss: 3.78964582, Train Accuracy:96.49390244,  Val Accuracy: 95.56541020, Epoch Time: 36.34225917\n"
     ]
    },
    {
     "name": "stderr",
     "output_type": "stream",
     "text": [
      "226it [00:33,  6.67it/s]\n",
      "29it [00:02, 13.47it/s]\n"
     ]
    },
    {
     "name": "stdout",
     "output_type": "stream",
     "text": [
      "\n",
      "Epoch: 3/15, Train Loss: 2.21777147 , Val Loss: 3.80231655, Train Accuracy:97.94900222,  Val Accuracy: 95.67627494, Epoch Time: 36.35004091\n"
     ]
    },
    {
     "name": "stderr",
     "output_type": "stream",
     "text": [
      "226it [00:33,  6.70it/s]\n",
      "29it [00:02, 12.81it/s]\n"
     ]
    },
    {
     "name": "stdout",
     "output_type": "stream",
     "text": [
      "\n",
      "Epoch: 4/15, Train Loss: 1.30656525 , Val Loss: 3.39212202, Train Accuracy:98.91906874,  Val Accuracy: 95.78713969, Epoch Time: 36.30428123\n"
     ]
    },
    {
     "name": "stderr",
     "output_type": "stream",
     "text": [
      "226it [00:33,  6.70it/s]\n",
      "29it [00:02, 13.28it/s]\n"
     ]
    },
    {
     "name": "stdout",
     "output_type": "stream",
     "text": [
      "\n",
      "Epoch: 5/15, Train Loss: 0.69874072 , Val Loss: 3.81498699, Train Accuracy:99.59811530,  Val Accuracy: 95.89800443, Epoch Time: 36.15962672\n"
     ]
    },
    {
     "name": "stderr",
     "output_type": "stream",
     "text": [
      "226it [00:33,  6.69it/s]\n",
      "29it [00:02, 13.39it/s]\n"
     ]
    },
    {
     "name": "stdout",
     "output_type": "stream",
     "text": [
      "\n",
      "Epoch: 6/15, Train Loss: 0.50527279 , Val Loss: 3.91574177, Train Accuracy:99.77827051,  Val Accuracy: 96.45232816, Epoch Time: 36.21274519\n"
     ]
    },
    {
     "name": "stderr",
     "output_type": "stream",
     "text": [
      "226it [00:33,  6.69it/s]\n",
      "29it [00:02, 13.43it/s]\n"
     ]
    },
    {
     "name": "stdout",
     "output_type": "stream",
     "text": [
      "\n",
      "Epoch: 7/15, Train Loss: 0.41541308 , Val Loss: 3.81311413, Train Accuracy:99.72283814,  Val Accuracy: 96.11973392, Epoch Time: 36.24779773\n"
     ]
    },
    {
     "name": "stderr",
     "output_type": "stream",
     "text": [
      "226it [00:33,  6.67it/s]\n",
      "29it [00:02, 13.19it/s]\n"
     ]
    },
    {
     "name": "stdout",
     "output_type": "stream",
     "text": [
      "\n",
      "Epoch: 8/15, Train Loss: 0.30209566 , Val Loss: 3.97574469, Train Accuracy:99.86141907,  Val Accuracy: 96.34146341, Epoch Time: 36.31141663\n"
     ]
    },
    {
     "name": "stderr",
     "output_type": "stream",
     "text": [
      "226it [00:33,  6.69it/s]\n",
      "29it [00:02, 11.26it/s]\n"
     ]
    },
    {
     "name": "stdout",
     "output_type": "stream",
     "text": [
      "\n",
      "Epoch: 9/15, Train Loss: 0.21092146 , Val Loss: 3.68325694, Train Accuracy:99.91685144,  Val Accuracy: 96.67405765, Epoch Time: 36.68004942\n",
      "Early stopping on, 8th, epoch\n",
      "\n",
      "=====>Generating f_emb<=====\n",
      "\n",
      "torch.Size([1536])\n",
      "{'dataset': ['sldc_0_10', 'sldc_0_10', 'sldc_0_10', 'sldc_0_10', 'sldc_0_10', 'sldc_0_10', 'corales_0_14', 'corales_0_14', 'corales_0_14', 'corales_0_14', 'corales_0_14', 'corales_0_14', '6000-store-items-images-classified-by-color_imoore_0_12', '6000-store-items-images-classified-by-color_imoore_0_12', '6000-store-items-images-classified-by-color_imoore_0_12', '6000-store-items-images-classified-by-color_imoore_0_12', '6000-store-items-images-classified-by-color_imoore_0_12', '6000-store-items-images-classified-by-color_imoore_0_12', 'fcis-sc-deeplearning-competition_0_10', 'fcis-sc-deeplearning-competition_0_10', 'fcis-sc-deeplearning-competition_0_10', 'fcis-sc-deeplearning-competition_0_10', 'fcis-sc-deeplearning-competition_0_10', 'fcis-sc-deeplearning-competition_0_10', 'lego-brick-images_joosthazelzet_0_16', 'lego-brick-images_joosthazelzet_0_16', 'lego-brick-images_joosthazelzet_0_16', 'lego-brick-images_joosthazelzet_0_16', 'lego-brick-images_joosthazelzet_0_16', 'lego-brick-images_joosthazelzet_0_16', 'oregon-wildlife_virtualdvid_0_20', 'oregon-wildlife_virtualdvid_0_20', 'oregon-wildlife_virtualdvid_0_20', 'oregon-wildlife_virtualdvid_0_20', 'oregon-wildlife_virtualdvid_0_20', 'oregon-wildlife_virtualdvid_0_20', 'perritos_0_10'], 'topol': [[3, 5, 5, 5, 7, 5, 5, 7, 3, 5, 7, 7, 7, 5, 7, 5, 3, 3, 7, 3, 4, 3, 6, 3, 6, 6, 4, 4, 6, 4, 3, 6, 6, 3, 4, 6, 3, 4, 6, 3, 3, 4, 2, 4, 4], [3, 7, 7, 7, 5, 7, 5, 3, 7, 5, 3, 3, 5, 5, 3, 7, 7, 5, 3, 5, 3, 4, 6, 3, 6, 4, 6, 4, 4, 3, 3, 3, 3, 6, 6, 3, 3, 4, 6, 4, 4, 3, 2, 2, 4], [3, 7, 5, 5, 3, 7, 7, 5, 5, 5, 5, 5, 5, 7, 7, 7, 7, 7, 5, 7, 6, 6, 6, 3, 6, 3, 4, 4, 6, 6, 6, 4, 3, 6, 4, 6, 6, 4, 6, 4, 2, 3, 3, 3, 4], [7, 5, 3, 3, 5, 3, 5, 5, 5, 5, 3, 7, 7, 5, 7, 3, 3, 5, 3, 5, 3, 4, 6, 6, 6, 3, 6, 3, 6, 3, 6, 4, 4, 6, 6, 4, 6, 6, 6, 4, 2, 2, 2, 3, 2], [3, 5, 5, 7, 5, 5, 7, 3, 7, 5, 5, 5, 3, 5, 3, 7, 5, 7, 7, 3, 3, 6, 3, 3, 6, 3, 6, 6, 4, 4, 3, 4, 4, 3, 6, 6, 4, 3, 4, 3, 4, 3, 4, 4, 4], [3, 3, 5, 5, 7, 5, 5, 5, 5, 5, 3, 3, 3, 3, 3, 7, 7, 3, 5, 5, 6, 4, 3, 4, 4, 4, 3, 6, 4, 3, 6, 4, 4, 4, 6, 6, 4, 4, 3, 6, 4, 2, 4, 3, 3], [7, 7, 5, 5, 5, 5, 3, 3, 3, 5, 7, 5, 5, 3, 3, 5, 5, 5, 7, 5, 3, 4, 3, 6, 6, 4, 3, 4, 6, 6, 4, 4, 6, 4, 4, 3, 6, 4, 3, 6, 2, 4, 4, 3, 2], [3, 3, 3, 7, 7, 5, 5, 7, 7, 5, 7, 7, 7, 7, 3, 5, 7, 7, 7, 3, 6, 4, 6, 3, 3, 4, 6, 6, 3, 3, 4, 4, 4, 4, 6, 6, 3, 4, 4, 3, 2, 4, 4, 2, 3], [5, 5, 3, 5, 7, 3, 5, 7, 7, 5, 3, 7, 7, 3, 3, 7, 3, 3, 7, 3, 4, 4, 6, 6, 3, 6, 3, 6, 3, 4, 4, 6, 3, 4, 6, 3, 6, 6, 4, 4, 4, 2, 4, 4, 4], [3, 5, 3, 5, 3, 3, 7, 7, 3, 3, 5, 7, 5, 3, 7, 7, 3, 3, 3, 7, 3, 4, 6, 6, 4, 4, 6, 6, 3, 3, 3, 6, 3, 6, 3, 4, 3, 4, 6, 6, 4, 4, 4, 3, 2], [3, 7, 7, 5, 7, 3, 7, 5, 7, 7, 7, 5, 7, 5, 3, 7, 5, 5, 5, 5, 6, 3, 6, 6, 4, 6, 6, 4, 6, 6, 6, 3, 3, 3, 3, 3, 6, 6, 4, 4, 3, 4, 2, 2, 3], [7, 7, 3, 3, 5, 7, 3, 5, 5, 3, 3, 3, 5, 7, 3, 7, 7, 5, 7, 7, 6, 3, 4, 3, 3, 3, 4, 3, 3, 4, 6, 6, 6, 4, 4, 6, 6, 4, 3, 4, 2, 2, 3, 4, 3], [7, 3, 3, 3, 3, 3, 5, 7, 5, 3, 5, 5, 3, 7, 7, 7, 5, 3, 7, 5, 3, 6, 3, 6, 6, 3, 4, 3, 6, 6, 3, 4, 3, 4, 4, 3, 4, 6, 6, 4, 3, 3, 2, 3, 3], [3, 3, 7, 5, 7, 3, 5, 7, 3, 5, 3, 5, 5, 5, 5, 3, 5, 5, 3, 3, 3, 6, 6, 6, 6, 6, 4, 3, 4, 4, 6, 4, 3, 6, 3, 6, 3, 6, 4, 6, 2, 2, 2, 3, 3], [5, 3, 5, 5, 5, 5, 7, 7, 3, 7, 7, 7, 3, 3, 7, 3, 7, 5, 5, 3, 3, 3, 6, 4, 6, 4, 4, 3, 6, 4, 6, 6, 3, 6, 4, 4, 3, 4, 3, 4, 3, 3, 4, 4, 4], [5, 5, 7, 5, 5, 5, 5, 7, 3, 3, 7, 3, 7, 5, 3, 3, 5, 7, 3, 3, 4, 4, 4, 4, 3, 4, 6, 3, 4, 6, 6, 3, 6, 3, 4, 6, 6, 4, 4, 6, 2, 4, 2, 3, 3], [7, 5, 3, 3, 7, 7, 7, 7, 5, 7, 5, 3, 7, 3, 5, 7, 3, 5, 7, 5, 4, 4, 4, 6, 4, 3, 3, 6, 3, 6, 4, 6, 6, 6, 6, 6, 3, 4, 6, 4, 2, 2, 2, 4, 3], [3, 3, 3, 7, 7, 3, 3, 7, 7, 7, 7, 5, 5, 7, 7, 3, 7, 7, 5, 7, 3, 4, 3, 3, 6, 3, 6, 3, 6, 3, 6, 3, 4, 3, 3, 6, 4, 4, 3, 6, 4, 4, 2, 4, 3], [3, 7, 7, 7, 3, 5, 3, 7, 5, 3, 5, 5, 7, 3, 5, 5, 3, 7, 5, 5, 4, 3, 4, 4, 3, 4, 6, 4, 6, 4, 3, 3, 3, 3, 6, 3, 4, 6, 4, 3, 4, 2, 4, 4, 3], [7, 7, 3, 5, 5, 5, 7, 3, 3, 5, 3, 3, 5, 7, 7, 3, 3, 7, 3, 3, 3, 3, 4, 6, 4, 6, 6, 6, 4, 3, 3, 6, 6, 4, 3, 4, 6, 4, 4, 4, 2, 4, 2, 3, 2], [3, 7, 7, 3, 5, 7, 7, 5, 7, 3, 5, 7, 7, 3, 5, 5, 5, 3, 3, 5, 3, 4, 3, 4, 3, 4, 6, 3, 6, 3, 4, 3, 4, 4, 4, 6, 3, 3, 4, 3, 3, 3, 2, 4, 2], [3, 7, 5, 3, 3, 5, 5, 7, 5, 7, 3, 5, 3, 7, 7, 5, 5, 7, 3, 3, 3, 3, 4, 6, 3, 6, 4, 3, 6, 4, 6, 4, 6, 6, 6, 6, 3, 4, 3, 6, 4, 4, 2, 2, 3], [3, 7, 3, 3, 5, 7, 5, 7, 5, 7, 7, 7, 7, 3, 3, 3, 7, 3, 3, 3, 6, 4, 4, 3, 4, 6, 4, 6, 4, 6, 6, 4, 4, 3, 3, 3, 6, 4, 3, 3, 2, 4, 4, 4, 4], [5, 5, 7, 5, 7, 3, 7, 7, 7, 5, 7, 3, 5, 3, 5, 7, 3, 7, 7, 5, 4, 3, 6, 6, 6, 3, 6, 3, 6, 3, 3, 6, 4, 4, 3, 3, 3, 3, 3, 3, 3, 2, 3, 4, 2], [7, 3, 7, 3, 5, 5, 3, 3, 7, 3, 7, 7, 7, 5, 5, 5, 5, 7, 5, 5, 6, 4, 3, 3, 4, 3, 3, 4, 4, 3, 6, 6, 3, 4, 4, 6, 6, 4, 6, 3, 3, 4, 4, 4, 2], [5, 5, 3, 7, 3, 7, 7, 5, 3, 7, 7, 5, 5, 7, 7, 7, 5, 7, 5, 3, 4, 4, 3, 3, 4, 3, 4, 6, 3, 3, 3, 4, 6, 6, 4, 6, 6, 4, 3, 4, 4, 4, 4, 3, 4], [5, 5, 3, 5, 7, 3, 5, 5, 3, 5, 7, 3, 5, 3, 3, 5, 7, 7, 5, 5, 4, 3, 6, 4, 6, 6, 6, 4, 3, 6, 6, 6, 4, 4, 4, 4, 3, 4, 3, 6, 2, 4, 2, 4, 3], [5, 3, 5, 3, 5, 3, 3, 3, 7, 3, 5, 7, 5, 7, 3, 7, 7, 5, 5, 3, 6, 3, 6, 6, 3, 4, 3, 4, 6, 3, 4, 6, 3, 3, 4, 4, 6, 6, 6, 4, 3, 4, 4, 4, 3], [7, 5, 3, 7, 3, 5, 3, 5, 3, 5, 7, 3, 7, 7, 5, 7, 7, 3, 3, 3, 3, 3, 6, 4, 3, 4, 4, 3, 3, 3, 3, 4, 3, 3, 3, 3, 6, 6, 4, 4, 2, 4, 2, 4, 2], [5, 7, 7, 5, 5, 5, 7, 7, 7, 3, 5, 5, 5, 5, 3, 3, 5, 7, 3, 5, 3, 4, 4, 3, 3, 6, 6, 4, 4, 3, 4, 3, 3, 6, 4, 6, 4, 3, 3, 3, 2, 2, 4, 2, 2], [5, 5, 7, 3, 3, 3, 5, 3, 5, 5, 3, 3, 5, 7, 5, 3, 5, 3, 7, 7, 3, 3, 4, 4, 3, 3, 3, 3, 4, 6, 6, 4, 3, 4, 6, 4, 4, 4, 3, 3, 4, 4, 3, 2, 3], [3, 5, 5, 5, 7, 5, 7, 7, 5, 5, 5, 5, 5, 7, 3, 5, 7, 7, 3, 5, 6, 6, 4, 6, 3, 3, 3, 4, 4, 3, 6, 4, 4, 3, 3, 6, 6, 3, 3, 6, 3, 4, 3, 2, 2], [3, 3, 7, 5, 5, 5, 7, 7, 7, 5, 3, 3, 3, 3, 7, 5, 5, 5, 3, 3, 3, 3, 3, 6, 4, 4, 6, 4, 3, 6, 4, 3, 6, 4, 3, 6, 6, 3, 4, 6, 2, 4, 2, 3, 4], [5, 3, 3, 3, 7, 5, 7, 3, 5, 5, 3, 3, 3, 5, 3, 5, 7, 3, 5, 3, 6, 3, 4, 6, 3, 6, 4, 3, 4, 3, 4, 4, 6, 3, 4, 4, 3, 3, 6, 6, 2, 3, 3, 2, 2], [3, 7, 3, 5, 3, 7, 5, 3, 7, 7, 3, 5, 5, 3, 7, 5, 5, 7, 7, 7, 4, 6, 6, 3, 6, 6, 4, 4, 3, 6, 6, 6, 3, 3, 3, 4, 4, 6, 3, 3, 2, 4, 3, 4, 3], [3, 3, 3, 5, 3, 3, 3, 5, 7, 3, 7, 5, 3, 7, 5, 3, 7, 7, 3, 7, 6, 3, 3, 6, 3, 6, 6, 3, 6, 6, 4, 4, 4, 3, 6, 3, 6, 3, 3, 6, 2, 3, 4, 4, 4], [5, 7, 3, 7, 3, 7, 5, 5, 5, 7, 7, 3, 3, 3, 7, 3, 5, 5, 3, 5, 6, 4, 6, 6, 6, 4, 6, 3, 4, 4, 3, 3, 6, 6, 4, 3, 4, 3, 6, 4, 2, 2, 3, 4, 3]], 'f_emb': [tensor([-0., -0., -0.,  ..., -0., -0., -0.]), tensor([-0., -0., -0.,  ..., -0., -0., -0.]), tensor([1226.8495,   -0.0000,   -0.0000,  ...,   -0.0000,   -0.0000,\n",
      "          -0.0000]), tensor([-0., -0., -0.,  ..., -0., -0., -0.]), tensor([188.3607,  -0.0000,  -0.0000,  ...,  -0.0000,  -0.0000, 213.2732]), tensor([-0., -0., -0.,  ..., -0., -0., -0.]), tensor([-0., -0., -0.,  ..., -0., -0., -0.]), tensor([-0.0000, -0.0000, -0.0000,  ..., -0.0000, -0.0000, 9.9611]), tensor([38.6843, -0.0000, -0.0000,  ..., -0.0000, -0.0000, -0.0000]), tensor([ 0.5262, -0.3664,  0.4536,  ..., -0.3597, -0.2121, -0.3281]), tensor([-0., -0., -0.,  ..., -0., -0., -0.]), tensor([-0.0000, -0.0000, -0.0000,  ..., 30.1783, -0.0000,  3.6916]), tensor([-0., -0., -0.,  ..., -0., -0., -0.]), tensor([-0., -0., -0.,  ..., -0., -0., -0.]), tensor([18.3999, -0.0000, -0.0000,  ..., -0.0000, -0.0000, 45.3672]), tensor([ 0.2349,  0.1743,  0.1660,  ...,  0.3616,  0.0957, -0.3534]), tensor([-0.2793, -0.3249, -0.3683,  ..., -0.0000, -0.0000, -0.3627]), tensor([ 0.0759, -0.3346, -0.2591,  ...,  0.4824, -0.2551, -0.1757]), tensor([ 0.4264, -0.1865, -0.1025,  ..., -0.1637,  0.7777, -0.3373]), tensor([ 0.4347, -0.2336, -0.2793,  ..., -0.3347, -0.3469, -0.1162]), tensor([ 0.0104,  0.4655, -0.3177,  ..., -0.1076,  0.8267, -0.3667]), tensor([ 0.0873,  0.1475, -0.3670,  ..., -0.1698,  0.0327, -0.3572]), tensor([322.7029,  -0.0000,  83.4842,  ...,  -0.0000,  -0.0000,  -0.0000]), tensor([-0.3365, -0.0309, -0.3139,  ...,  0.1455, -0.3260, -0.3622]), tensor([-0.0000, -0.0000, -0.0000,  ..., -0.0000, -0.0000, 3.1642]), tensor([    -0.0000,     -0.0000, 159417.2812,  ...,     -0.0000,\n",
      "            -0.0000, 179515.1562]), tensor([-0.0014, -0.3527, -0.0000,  ..., -0.0000, -0.0000, -0.0000]), tensor([6770305.5000,      -0.0000,      -0.0000,  ...,      -0.0000,\n",
      "             -0.0000,      -0.0000]), tensor([1609.9169,   -0.0000,   -0.0000,  ...,   -0.0000,   -0.0000,\n"
     ]
    },
    {
     "name": "stderr",
     "output_type": "stream",
     "text": [
      "Using cache found in /root/.cache/torch/hub/mit-han-lab_once-for-all_master\n"
     ]
    },
    {
     "name": "stdout",
     "output_type": "stream",
     "text": [
      "          -0.0000]), tensor([-0., -0., -0.,  ..., -0., -0., -0.]), tensor([-0.0067, -0.3482, -0.3706,  ..., -0.3683, -0.0611,  0.0504]), tensor([ 1.4714, -0.0000, -0.0945,  ..., -0.2832, -0.0000, -0.3679]), tensor([ 1.7539, 21.7252, -0.0000,  ..., -0.0000, -0.0000, 13.5089]), tensor([-0.3179, -0.3455, -0.3743,  ..., -0.2527,  0.1497, -0.0043]), tensor([-0.3241, -0.2744, -0.1231,  ..., -0.1582, -0.2237, -0.0000]), tensor([-0.1600,  3.9948, -0.0000,  ..., -0.0000, -0.0000,  8.6842]), tensor([-0.1209,  0.0394, -0.3112,  ..., -0.2695, -0.1538, -0.1348])], 'acc': [99.51923076923077, 99.03846153846153, 99.51923076923077, 99.51923076923077, 99.51923076923077, 99.51923076923077, 98.38709677419355, 96.7741935483871, 98.38709677419355, 98.38709677419355, 8.064516129032258, 96.7741935483871, 77.08333333333333, 76.4423076923077, 78.68589743589743, 77.40384615384616, 77.24358974358974, 78.36538461538461, 94.23076923076923, 75.64102564102564, 90.7051282051282, 94.23076923076923, 91.34615384615384, 94.23076923076923, 99.52978056426332, 99.3730407523511, 99.68652037617555, 99.68652037617555, 100.0, 99.3730407523511, 84.88700564971751, 87.99435028248588, 86.7231638418079, 85.73446327683615, 87.99435028248588, 86.44067796610169, 96.6740576496674], 'n_params': [6228442, 5625114, 6570290, 5347354, 5825218, 4821626, 4711646, 4554646, 6688342, 4317614, 5203934, 5550702, 5717244, 5151700, 5773028, 5059684, 6364428, 4930308, 5608818, 4493962, 4318938, 4537954, 5514050, 3861938, 5155304, 6005320, 4798208, 6420784, 4792312, 3845304, 4249220, 3881348, 5982340, 3517428, 5327428, 6367692, 5599490]}\n",
      "\n",
      "=====> Generating 2th network  <=====\n",
      "\n",
      "\n",
      "=====>Generating sub_net<=====\n",
      "\n",
      "\n",
      "=====> Training started <=====\n",
      "\n",
      "Starting Training for:perritos_0_10 with model topology:[3, 3, 3, 3, 5, 7, 5, 3, 3, 7, 3, 3, 5, 3, 3, 3, 3, 3, 3, 3, 6, 3, 6, 4, 4, 3, 6, 6, 3, 6, 6, 3, 6, 6, 6, 3, 4, 3, 3, 4, 4, 3, 2, 4, 2]\n"
     ]
    },
    {
     "name": "stderr",
     "output_type": "stream",
     "text": [
      "226it [00:32,  6.88it/s]\n",
      "29it [00:02, 13.04it/s]\n"
     ]
    },
    {
     "name": "stdout",
     "output_type": "stream",
     "text": [
      "\n",
      "Epoch: 1/15, Train Loss: 14.91746345 , Val Loss: 4.39665166, Train Accuracy:89.16297118,  Val Accuracy: 95.67627494, Epoch Time: 35.32008338\n"
     ]
    },
    {
     "name": "stderr",
     "output_type": "stream",
     "text": [
      "226it [00:32,  6.87it/s]\n",
      "29it [00:02, 13.32it/s]\n"
     ]
    },
    {
     "name": "stdout",
     "output_type": "stream",
     "text": [
      "\n",
      "Epoch: 2/15, Train Loss: 4.15882347 , Val Loss: 3.70590051, Train Accuracy:96.05044346,  Val Accuracy: 96.67405765, Epoch Time: 35.35193181\n"
     ]
    },
    {
     "name": "stderr",
     "output_type": "stream",
     "text": [
      "226it [00:32,  6.87it/s]\n",
      "29it [00:02, 13.20it/s]\n"
     ]
    },
    {
     "name": "stdout",
     "output_type": "stream",
     "text": [
      "\n",
      "Epoch: 3/15, Train Loss: 2.67361934 , Val Loss: 3.74804325, Train Accuracy:97.71341463,  Val Accuracy: 95.89800443, Epoch Time: 35.34527612\n"
     ]
    },
    {
     "name": "stderr",
     "output_type": "stream",
     "text": [
      "226it [00:32,  6.88it/s]\n",
      "29it [00:02, 13.15it/s]\n"
     ]
    },
    {
     "name": "stdout",
     "output_type": "stream",
     "text": [
      "\n",
      "Epoch: 4/15, Train Loss: 1.68229781 , Val Loss: 3.51019609, Train Accuracy:98.66962306,  Val Accuracy: 96.23059867, Epoch Time: 35.31918955\n"
     ]
    },
    {
     "name": "stderr",
     "output_type": "stream",
     "text": [
      "226it [00:32,  6.88it/s]\n",
      "29it [00:02, 13.10it/s]\n"
     ]
    },
    {
     "name": "stdout",
     "output_type": "stream",
     "text": [
      "\n",
      "Epoch: 5/15, Train Loss: 1.02429011 , Val Loss: 3.44084478, Train Accuracy:99.25166297,  Val Accuracy: 96.56319290, Epoch Time: 35.37314153\n"
     ]
    },
    {
     "name": "stderr",
     "output_type": "stream",
     "text": [
      "226it [00:32,  6.87it/s]\n",
      "29it [00:02, 12.98it/s]\n"
     ]
    },
    {
     "name": "stdout",
     "output_type": "stream",
     "text": [
      "\n",
      "Epoch: 6/15, Train Loss: 0.67508320 , Val Loss: 3.11777228, Train Accuracy:99.63968958,  Val Accuracy: 97.00665188, Epoch Time: 35.36180711\n"
     ]
    },
    {
     "name": "stderr",
     "output_type": "stream",
     "text": [
      "226it [00:32,  6.88it/s]\n",
      "29it [00:02, 13.34it/s]\n"
     ]
    },
    {
     "name": "stdout",
     "output_type": "stream",
     "text": [
      "\n",
      "Epoch: 7/15, Train Loss: 0.48371156 , Val Loss: 3.57964952, Train Accuracy:99.77827051,  Val Accuracy: 96.45232816, Epoch Time: 35.31833911\n"
     ]
    },
    {
     "name": "stderr",
     "output_type": "stream",
     "text": [
      "226it [00:32,  6.91it/s]\n",
      "29it [00:02, 13.56it/s]\n"
     ]
    },
    {
     "name": "stdout",
     "output_type": "stream",
     "text": [
      "\n",
      "Epoch: 8/15, Train Loss: 0.37022866 , Val Loss: 3.31758426, Train Accuracy:99.83370288,  Val Accuracy: 97.11751663, Epoch Time: 35.11469793\n"
     ]
    },
    {
     "name": "stderr",
     "output_type": "stream",
     "text": [
      "226it [00:32,  6.87it/s]\n",
      "29it [00:02, 13.32it/s]\n"
     ]
    },
    {
     "name": "stdout",
     "output_type": "stream",
     "text": [
      "\n",
      "Epoch: 9/15, Train Loss: 0.27879658 , Val Loss: 3.55355403, Train Accuracy:99.90299335,  Val Accuracy: 97.00665188, Epoch Time: 35.33634806\n"
     ]
    },
    {
     "name": "stderr",
     "output_type": "stream",
     "text": [
      "226it [00:32,  6.90it/s]\n",
      "29it [00:02, 13.71it/s]\n"
     ]
    },
    {
     "name": "stdout",
     "output_type": "stream",
     "text": [
      "\n",
      "Epoch: 10/15, Train Loss: 0.22472615 , Val Loss: 3.48062306, Train Accuracy:99.97228381,  Val Accuracy: 96.78492239, Epoch Time: 35.11236596\n"
     ]
    },
    {
     "name": "stderr",
     "output_type": "stream",
     "text": [
      "226it [00:32,  6.90it/s]\n",
      "29it [00:02, 12.97it/s]\n"
     ]
    },
    {
     "name": "stdout",
     "output_type": "stream",
     "text": [
      "\n",
      "Epoch: 11/15, Train Loss: 0.18008565 , Val Loss: 3.60009269, Train Accuracy:99.93070953,  Val Accuracy: 97.11751663, Epoch Time: 35.26103425\n",
      "Early stopping on, 10th, epoch\n",
      "\n",
      "=====>Generating f_emb<=====\n",
      "\n",
      "torch.Size([1536])\n",
      "{'dataset': ['sldc_0_10', 'sldc_0_10', 'sldc_0_10', 'sldc_0_10', 'sldc_0_10', 'sldc_0_10', 'corales_0_14', 'corales_0_14', 'corales_0_14', 'corales_0_14', 'corales_0_14', 'corales_0_14', '6000-store-items-images-classified-by-color_imoore_0_12', '6000-store-items-images-classified-by-color_imoore_0_12', '6000-store-items-images-classified-by-color_imoore_0_12', '6000-store-items-images-classified-by-color_imoore_0_12', '6000-store-items-images-classified-by-color_imoore_0_12', '6000-store-items-images-classified-by-color_imoore_0_12', 'fcis-sc-deeplearning-competition_0_10', 'fcis-sc-deeplearning-competition_0_10', 'fcis-sc-deeplearning-competition_0_10', 'fcis-sc-deeplearning-competition_0_10', 'fcis-sc-deeplearning-competition_0_10', 'fcis-sc-deeplearning-competition_0_10', 'lego-brick-images_joosthazelzet_0_16', 'lego-brick-images_joosthazelzet_0_16', 'lego-brick-images_joosthazelzet_0_16', 'lego-brick-images_joosthazelzet_0_16', 'lego-brick-images_joosthazelzet_0_16', 'lego-brick-images_joosthazelzet_0_16', 'oregon-wildlife_virtualdvid_0_20', 'oregon-wildlife_virtualdvid_0_20', 'oregon-wildlife_virtualdvid_0_20', 'oregon-wildlife_virtualdvid_0_20', 'oregon-wildlife_virtualdvid_0_20', 'oregon-wildlife_virtualdvid_0_20', 'perritos_0_10', 'perritos_0_10'], 'topol': [[3, 5, 5, 5, 7, 5, 5, 7, 3, 5, 7, 7, 7, 5, 7, 5, 3, 3, 7, 3, 4, 3, 6, 3, 6, 6, 4, 4, 6, 4, 3, 6, 6, 3, 4, 6, 3, 4, 6, 3, 3, 4, 2, 4, 4], [3, 7, 7, 7, 5, 7, 5, 3, 7, 5, 3, 3, 5, 5, 3, 7, 7, 5, 3, 5, 3, 4, 6, 3, 6, 4, 6, 4, 4, 3, 3, 3, 3, 6, 6, 3, 3, 4, 6, 4, 4, 3, 2, 2, 4], [3, 7, 5, 5, 3, 7, 7, 5, 5, 5, 5, 5, 5, 7, 7, 7, 7, 7, 5, 7, 6, 6, 6, 3, 6, 3, 4, 4, 6, 6, 6, 4, 3, 6, 4, 6, 6, 4, 6, 4, 2, 3, 3, 3, 4], [7, 5, 3, 3, 5, 3, 5, 5, 5, 5, 3, 7, 7, 5, 7, 3, 3, 5, 3, 5, 3, 4, 6, 6, 6, 3, 6, 3, 6, 3, 6, 4, 4, 6, 6, 4, 6, 6, 6, 4, 2, 2, 2, 3, 2], [3, 5, 5, 7, 5, 5, 7, 3, 7, 5, 5, 5, 3, 5, 3, 7, 5, 7, 7, 3, 3, 6, 3, 3, 6, 3, 6, 6, 4, 4, 3, 4, 4, 3, 6, 6, 4, 3, 4, 3, 4, 3, 4, 4, 4], [3, 3, 5, 5, 7, 5, 5, 5, 5, 5, 3, 3, 3, 3, 3, 7, 7, 3, 5, 5, 6, 4, 3, 4, 4, 4, 3, 6, 4, 3, 6, 4, 4, 4, 6, 6, 4, 4, 3, 6, 4, 2, 4, 3, 3], [7, 7, 5, 5, 5, 5, 3, 3, 3, 5, 7, 5, 5, 3, 3, 5, 5, 5, 7, 5, 3, 4, 3, 6, 6, 4, 3, 4, 6, 6, 4, 4, 6, 4, 4, 3, 6, 4, 3, 6, 2, 4, 4, 3, 2], [3, 3, 3, 7, 7, 5, 5, 7, 7, 5, 7, 7, 7, 7, 3, 5, 7, 7, 7, 3, 6, 4, 6, 3, 3, 4, 6, 6, 3, 3, 4, 4, 4, 4, 6, 6, 3, 4, 4, 3, 2, 4, 4, 2, 3], [5, 5, 3, 5, 7, 3, 5, 7, 7, 5, 3, 7, 7, 3, 3, 7, 3, 3, 7, 3, 4, 4, 6, 6, 3, 6, 3, 6, 3, 4, 4, 6, 3, 4, 6, 3, 6, 6, 4, 4, 4, 2, 4, 4, 4], [3, 5, 3, 5, 3, 3, 7, 7, 3, 3, 5, 7, 5, 3, 7, 7, 3, 3, 3, 7, 3, 4, 6, 6, 4, 4, 6, 6, 3, 3, 3, 6, 3, 6, 3, 4, 3, 4, 6, 6, 4, 4, 4, 3, 2], [3, 7, 7, 5, 7, 3, 7, 5, 7, 7, 7, 5, 7, 5, 3, 7, 5, 5, 5, 5, 6, 3, 6, 6, 4, 6, 6, 4, 6, 6, 6, 3, 3, 3, 3, 3, 6, 6, 4, 4, 3, 4, 2, 2, 3], [7, 7, 3, 3, 5, 7, 3, 5, 5, 3, 3, 3, 5, 7, 3, 7, 7, 5, 7, 7, 6, 3, 4, 3, 3, 3, 4, 3, 3, 4, 6, 6, 6, 4, 4, 6, 6, 4, 3, 4, 2, 2, 3, 4, 3], [7, 3, 3, 3, 3, 3, 5, 7, 5, 3, 5, 5, 3, 7, 7, 7, 5, 3, 7, 5, 3, 6, 3, 6, 6, 3, 4, 3, 6, 6, 3, 4, 3, 4, 4, 3, 4, 6, 6, 4, 3, 3, 2, 3, 3], [3, 3, 7, 5, 7, 3, 5, 7, 3, 5, 3, 5, 5, 5, 5, 3, 5, 5, 3, 3, 3, 6, 6, 6, 6, 6, 4, 3, 4, 4, 6, 4, 3, 6, 3, 6, 3, 6, 4, 6, 2, 2, 2, 3, 3], [5, 3, 5, 5, 5, 5, 7, 7, 3, 7, 7, 7, 3, 3, 7, 3, 7, 5, 5, 3, 3, 3, 6, 4, 6, 4, 4, 3, 6, 4, 6, 6, 3, 6, 4, 4, 3, 4, 3, 4, 3, 3, 4, 4, 4], [5, 5, 7, 5, 5, 5, 5, 7, 3, 3, 7, 3, 7, 5, 3, 3, 5, 7, 3, 3, 4, 4, 4, 4, 3, 4, 6, 3, 4, 6, 6, 3, 6, 3, 4, 6, 6, 4, 4, 6, 2, 4, 2, 3, 3], [7, 5, 3, 3, 7, 7, 7, 7, 5, 7, 5, 3, 7, 3, 5, 7, 3, 5, 7, 5, 4, 4, 4, 6, 4, 3, 3, 6, 3, 6, 4, 6, 6, 6, 6, 6, 3, 4, 6, 4, 2, 2, 2, 4, 3], [3, 3, 3, 7, 7, 3, 3, 7, 7, 7, 7, 5, 5, 7, 7, 3, 7, 7, 5, 7, 3, 4, 3, 3, 6, 3, 6, 3, 6, 3, 6, 3, 4, 3, 3, 6, 4, 4, 3, 6, 4, 4, 2, 4, 3], [3, 7, 7, 7, 3, 5, 3, 7, 5, 3, 5, 5, 7, 3, 5, 5, 3, 7, 5, 5, 4, 3, 4, 4, 3, 4, 6, 4, 6, 4, 3, 3, 3, 3, 6, 3, 4, 6, 4, 3, 4, 2, 4, 4, 3], [7, 7, 3, 5, 5, 5, 7, 3, 3, 5, 3, 3, 5, 7, 7, 3, 3, 7, 3, 3, 3, 3, 4, 6, 4, 6, 6, 6, 4, 3, 3, 6, 6, 4, 3, 4, 6, 4, 4, 4, 2, 4, 2, 3, 2], [3, 7, 7, 3, 5, 7, 7, 5, 7, 3, 5, 7, 7, 3, 5, 5, 5, 3, 3, 5, 3, 4, 3, 4, 3, 4, 6, 3, 6, 3, 4, 3, 4, 4, 4, 6, 3, 3, 4, 3, 3, 3, 2, 4, 2], [3, 7, 5, 3, 3, 5, 5, 7, 5, 7, 3, 5, 3, 7, 7, 5, 5, 7, 3, 3, 3, 3, 4, 6, 3, 6, 4, 3, 6, 4, 6, 4, 6, 6, 6, 6, 3, 4, 3, 6, 4, 4, 2, 2, 3], [3, 7, 3, 3, 5, 7, 5, 7, 5, 7, 7, 7, 7, 3, 3, 3, 7, 3, 3, 3, 6, 4, 4, 3, 4, 6, 4, 6, 4, 6, 6, 4, 4, 3, 3, 3, 6, 4, 3, 3, 2, 4, 4, 4, 4], [5, 5, 7, 5, 7, 3, 7, 7, 7, 5, 7, 3, 5, 3, 5, 7, 3, 7, 7, 5, 4, 3, 6, 6, 6, 3, 6, 3, 6, 3, 3, 6, 4, 4, 3, 3, 3, 3, 3, 3, 3, 2, 3, 4, 2], [7, 3, 7, 3, 5, 5, 3, 3, 7, 3, 7, 7, 7, 5, 5, 5, 5, 7, 5, 5, 6, 4, 3, 3, 4, 3, 3, 4, 4, 3, 6, 6, 3, 4, 4, 6, 6, 4, 6, 3, 3, 4, 4, 4, 2], [5, 5, 3, 7, 3, 7, 7, 5, 3, 7, 7, 5, 5, 7, 7, 7, 5, 7, 5, 3, 4, 4, 3, 3, 4, 3, 4, 6, 3, 3, 3, 4, 6, 6, 4, 6, 6, 4, 3, 4, 4, 4, 4, 3, 4], [5, 5, 3, 5, 7, 3, 5, 5, 3, 5, 7, 3, 5, 3, 3, 5, 7, 7, 5, 5, 4, 3, 6, 4, 6, 6, 6, 4, 3, 6, 6, 6, 4, 4, 4, 4, 3, 4, 3, 6, 2, 4, 2, 4, 3], [5, 3, 5, 3, 5, 3, 3, 3, 7, 3, 5, 7, 5, 7, 3, 7, 7, 5, 5, 3, 6, 3, 6, 6, 3, 4, 3, 4, 6, 3, 4, 6, 3, 3, 4, 4, 6, 6, 6, 4, 3, 4, 4, 4, 3], [7, 5, 3, 7, 3, 5, 3, 5, 3, 5, 7, 3, 7, 7, 5, 7, 7, 3, 3, 3, 3, 3, 6, 4, 3, 4, 4, 3, 3, 3, 3, 4, 3, 3, 3, 3, 6, 6, 4, 4, 2, 4, 2, 4, 2], [5, 7, 7, 5, 5, 5, 7, 7, 7, 3, 5, 5, 5, 5, 3, 3, 5, 7, 3, 5, 3, 4, 4, 3, 3, 6, 6, 4, 4, 3, 4, 3, 3, 6, 4, 6, 4, 3, 3, 3, 2, 2, 4, 2, 2], [5, 5, 7, 3, 3, 3, 5, 3, 5, 5, 3, 3, 5, 7, 5, 3, 5, 3, 7, 7, 3, 3, 4, 4, 3, 3, 3, 3, 4, 6, 6, 4, 3, 4, 6, 4, 4, 4, 3, 3, 4, 4, 3, 2, 3], [3, 5, 5, 5, 7, 5, 7, 7, 5, 5, 5, 5, 5, 7, 3, 5, 7, 7, 3, 5, 6, 6, 4, 6, 3, 3, 3, 4, 4, 3, 6, 4, 4, 3, 3, 6, 6, 3, 3, 6, 3, 4, 3, 2, 2], [3, 3, 7, 5, 5, 5, 7, 7, 7, 5, 3, 3, 3, 3, 7, 5, 5, 5, 3, 3, 3, 3, 3, 6, 4, 4, 6, 4, 3, 6, 4, 3, 6, 4, 3, 6, 6, 3, 4, 6, 2, 4, 2, 3, 4], [5, 3, 3, 3, 7, 5, 7, 3, 5, 5, 3, 3, 3, 5, 3, 5, 7, 3, 5, 3, 6, 3, 4, 6, 3, 6, 4, 3, 4, 3, 4, 4, 6, 3, 4, 4, 3, 3, 6, 6, 2, 3, 3, 2, 2], [3, 7, 3, 5, 3, 7, 5, 3, 7, 7, 3, 5, 5, 3, 7, 5, 5, 7, 7, 7, 4, 6, 6, 3, 6, 6, 4, 4, 3, 6, 6, 6, 3, 3, 3, 4, 4, 6, 3, 3, 2, 4, 3, 4, 3], [3, 3, 3, 5, 3, 3, 3, 5, 7, 3, 7, 5, 3, 7, 5, 3, 7, 7, 3, 7, 6, 3, 3, 6, 3, 6, 6, 3, 6, 6, 4, 4, 4, 3, 6, 3, 6, 3, 3, 6, 2, 3, 4, 4, 4], [5, 7, 3, 7, 3, 7, 5, 5, 5, 7, 7, 3, 3, 3, 7, 3, 5, 5, 3, 5, 6, 4, 6, 6, 6, 4, 6, 3, 4, 4, 3, 3, 6, 6, 4, 3, 4, 3, 6, 4, 2, 2, 3, 4, 3], [3, 3, 3, 3, 5, 7, 5, 3, 3, 7, 3, 3, 5, 3, 3, 3, 3, 3, 3, 3, 6, 3, 6, 4, 4, 3, 6, 6, 3, 6, 6, 3, 6, 6, 6, 3, 4, 3, 3, 4, 4, 3, 2, 4, 2]], 'f_emb': [tensor([-0., -0., -0.,  ..., -0., -0., -0.]), tensor([-0., -0., -0.,  ..., -0., -0., -0.]), tensor([1226.8495,   -0.0000,   -0.0000,  ...,   -0.0000,   -0.0000,\n",
      "          -0.0000]), tensor([-0., -0., -0.,  ..., -0., -0., -0.]), tensor([188.3607,  -0.0000,  -0.0000,  ...,  -0.0000,  -0.0000, 213.2732]), tensor([-0., -0., -0.,  ..., -0., -0., -0.]), tensor([-0., -0., -0.,  ..., -0., -0., -0.]), tensor([-0.0000, -0.0000, -0.0000,  ..., -0.0000, -0.0000, 9.9611]), tensor([38.6843, -0.0000, -0.0000,  ..., -0.0000, -0.0000, -0.0000]), tensor([ 0.5262, -0.3664,  0.4536,  ..., -0.3597, -0.2121, -0.3281]), tensor([-0., -0., -0.,  ..., -0., -0., -0.]), tensor([-0.0000, -0.0000, -0.0000,  ..., 30.1783, -0.0000,  3.6916]), tensor([-0., -0., -0.,  ..., -0., -0., -0.]), tensor([-0., -0., -0.,  ..., -0., -0., -0.]), tensor([18.3999, -0.0000, -0.0000,  ..., -0.0000, -0.0000, 45.3672]), tensor([ 0.2349,  0.1743,  0.1660,  ...,  0.3616,  0.0957, -0.3534]), tensor([-0.2793, -0.3249, -0.3683,  ..., -0.0000, -0.0000, -0.3627]), tensor([ 0.0759, -0.3346, -0.2591,  ...,  0.4824, -0.2551, -0.1757]), tensor([ 0.4264, -0.1865, -0.1025,  ..., -0.1637,  0.7777, -0.3373]), tensor([ 0.4347, -0.2336, -0.2793,  ..., -0.3347, -0.3469, -0.1162]), tensor([ 0.0104,  0.4655, -0.3177,  ..., -0.1076,  0.8267, -0.3667]), tensor([ 0.0873,  0.1475, -0.3670,  ..., -0.1698,  0.0327, -0.3572]), tensor([322.7029,  -0.0000,  83.4842,  ...,  -0.0000,  -0.0000,  -0.0000]), tensor([-0.3365, -0.0309, -0.3139,  ...,  0.1455, -0.3260, -0.3622]), tensor([-0.0000, -0.0000, -0.0000,  ..., -0.0000, -0.0000, 3.1642]), tensor([    -0.0000,     -0.0000, 159417.2812,  ...,     -0.0000,\n",
      "            -0.0000, 179515.1562]), tensor([-0.0014, -0.3527, -0.0000,  ..., -0.0000, -0.0000, -0.0000]), tensor([6770305.5000,      -0.0000,      -0.0000,  ...,      -0.0000,\n",
      "             -0.0000,      -0.0000]), tensor([1609.9169,   -0.0000,   -0.0000,  ...,   -0.0000,   -0.0000,\n"
     ]
    },
    {
     "name": "stderr",
     "output_type": "stream",
     "text": [
      "Using cache found in /root/.cache/torch/hub/mit-han-lab_once-for-all_master\n"
     ]
    },
    {
     "name": "stdout",
     "output_type": "stream",
     "text": [
      "          -0.0000]), tensor([-0., -0., -0.,  ..., -0., -0., -0.]), tensor([-0.0067, -0.3482, -0.3706,  ..., -0.3683, -0.0611,  0.0504]), tensor([ 1.4714, -0.0000, -0.0945,  ..., -0.2832, -0.0000, -0.3679]), tensor([ 1.7539, 21.7252, -0.0000,  ..., -0.0000, -0.0000, 13.5089]), tensor([-0.3179, -0.3455, -0.3743,  ..., -0.2527,  0.1497, -0.0043]), tensor([-0.3241, -0.2744, -0.1231,  ..., -0.1582, -0.2237, -0.0000]), tensor([-0.1600,  3.9948, -0.0000,  ..., -0.0000, -0.0000,  8.6842]), tensor([-0.1209,  0.0394, -0.3112,  ..., -0.2695, -0.1538, -0.1348]), tensor([255.8073,  -0.0000, 140.1278,  ...,  -0.0000,  -0.0000,  -0.0000])], 'acc': [99.51923076923077, 99.03846153846153, 99.51923076923077, 99.51923076923077, 99.51923076923077, 99.51923076923077, 98.38709677419355, 96.7741935483871, 98.38709677419355, 98.38709677419355, 8.064516129032258, 96.7741935483871, 77.08333333333333, 76.4423076923077, 78.68589743589743, 77.40384615384616, 77.24358974358974, 78.36538461538461, 94.23076923076923, 75.64102564102564, 90.7051282051282, 94.23076923076923, 91.34615384615384, 94.23076923076923, 99.52978056426332, 99.3730407523511, 99.68652037617555, 99.68652037617555, 100.0, 99.3730407523511, 84.88700564971751, 87.99435028248588, 86.7231638418079, 85.73446327683615, 87.99435028248588, 86.44067796610169, 96.6740576496674, 97.11751662971176], 'n_params': [6228442, 5625114, 6570290, 5347354, 5825218, 4821626, 4711646, 4554646, 6688342, 4317614, 5203934, 5550702, 5717244, 5151700, 5773028, 5059684, 6364428, 4930308, 5608818, 4493962, 4318938, 4537954, 5514050, 3861938, 5155304, 6005320, 4798208, 6420784, 4792312, 3845304, 4249220, 3881348, 5982340, 3517428, 5327428, 6367692, 5599490, 4745802]}\n",
      "\n",
      "=====> Generating 3th network  <=====\n",
      "\n",
      "\n",
      "=====>Generating sub_net<=====\n",
      "\n",
      "\n",
      "=====> Training started <=====\n",
      "\n",
      "Starting Training for:perritos_0_10 with model topology:[5, 5, 7, 3, 3, 3, 7, 5, 7, 7, 3, 7, 5, 3, 5, 7, 7, 5, 5, 5, 4, 4, 3, 4, 3, 3, 6, 6, 6, 3, 4, 6, 6, 3, 3, 4, 6, 6, 6, 3, 2, 3, 3, 2, 3]\n"
     ]
    },
    {
     "name": "stderr",
     "output_type": "stream",
     "text": [
      "226it [00:29,  7.64it/s]\n",
      "29it [00:02, 13.85it/s]\n"
     ]
    },
    {
     "name": "stdout",
     "output_type": "stream",
     "text": [
      "\n",
      "Epoch: 1/15, Train Loss: 15.36329482 , Val Loss: 5.06637087, Train Accuracy:88.10975610,  Val Accuracy: 95.23281596, Epoch Time: 31.96248388\n"
     ]
    },
    {
     "name": "stderr",
     "output_type": "stream",
     "text": [
      "226it [00:29,  7.57it/s]\n",
      "29it [00:02, 13.84it/s]\n"
     ]
    },
    {
     "name": "stdout",
     "output_type": "stream",
     "text": [
      "\n",
      "Epoch: 2/15, Train Loss: 3.93274703 , Val Loss: 3.76194399, Train Accuracy:96.16130820,  Val Accuracy: 96.11973392, Epoch Time: 32.19239378\n"
     ]
    },
    {
     "name": "stderr",
     "output_type": "stream",
     "text": [
      "226it [00:29,  7.61it/s]\n",
      "29it [00:02, 11.40it/s]\n"
     ]
    },
    {
     "name": "stdout",
     "output_type": "stream",
     "text": [
      "\n",
      "Epoch: 3/15, Train Loss: 2.19235743 , Val Loss: 3.46857044, Train Accuracy:97.96286031,  Val Accuracy: 96.45232816, Epoch Time: 32.49474072\n"
     ]
    },
    {
     "name": "stderr",
     "output_type": "stream",
     "text": [
      "226it [00:29,  7.59it/s]\n",
      "29it [00:02, 13.56it/s]\n"
     ]
    },
    {
     "name": "stdout",
     "output_type": "stream",
     "text": [
      "\n",
      "Epoch: 4/15, Train Loss: 1.41556888 , Val Loss: 3.42838847, Train Accuracy:98.73891353,  Val Accuracy: 96.89578714, Epoch Time: 32.18873358\n"
     ]
    },
    {
     "name": "stderr",
     "output_type": "stream",
     "text": [
      "226it [00:29,  7.61it/s]\n",
      "29it [00:02, 13.59it/s]\n"
     ]
    },
    {
     "name": "stdout",
     "output_type": "stream",
     "text": [
      "\n",
      "Epoch: 5/15, Train Loss: 0.90007780 , Val Loss: 3.47749290, Train Accuracy:99.30709534,  Val Accuracy: 96.78492239, Epoch Time: 32.08704448\n"
     ]
    },
    {
     "name": "stderr",
     "output_type": "stream",
     "text": [
      "226it [00:29,  7.63it/s]\n",
      "29it [00:02, 14.03it/s]\n"
     ]
    },
    {
     "name": "stdout",
     "output_type": "stream",
     "text": [
      "\n",
      "Epoch: 6/15, Train Loss: 0.53276437 , Val Loss: 3.68983605, Train Accuracy:99.75055432,  Val Accuracy: 96.78492239, Epoch Time: 31.94497657\n"
     ]
    },
    {
     "name": "stderr",
     "output_type": "stream",
     "text": [
      "226it [00:29,  7.64it/s]\n",
      "29it [00:02, 13.64it/s]\n"
     ]
    },
    {
     "name": "stdout",
     "output_type": "stream",
     "text": [
      "\n",
      "Epoch: 7/15, Train Loss: 0.44805211 , Val Loss: 3.54901570, Train Accuracy:99.73669623,  Val Accuracy: 97.00665188, Epoch Time: 31.93191338\n"
     ]
    },
    {
     "name": "stderr",
     "output_type": "stream",
     "text": [
      "226it [00:29,  7.62it/s]\n",
      "29it [00:02, 14.11it/s]\n"
     ]
    },
    {
     "name": "stdout",
     "output_type": "stream",
     "text": [
      "\n",
      "Epoch: 8/15, Train Loss: 0.39805003 , Val Loss: 3.71247671, Train Accuracy:99.81984479,  Val Accuracy: 95.89800443, Epoch Time: 31.96907377\n"
     ]
    },
    {
     "name": "stderr",
     "output_type": "stream",
     "text": [
      "226it [00:29,  7.64it/s]\n",
      "29it [00:02, 13.73it/s]\n"
     ]
    },
    {
     "name": "stdout",
     "output_type": "stream",
     "text": [
      "\n",
      "Epoch: 9/15, Train Loss: 0.24961431 , Val Loss: 3.72630962, Train Accuracy:99.83370288,  Val Accuracy: 97.00665188, Epoch Time: 31.92823124\n",
      "Early stopping on, 8th, epoch\n",
      "\n",
      "=====>Generating f_emb<=====\n",
      "\n",
      "torch.Size([1536])\n",
      "{'dataset': ['sldc_0_10', 'sldc_0_10', 'sldc_0_10', 'sldc_0_10', 'sldc_0_10', 'sldc_0_10', 'corales_0_14', 'corales_0_14', 'corales_0_14', 'corales_0_14', 'corales_0_14', 'corales_0_14', '6000-store-items-images-classified-by-color_imoore_0_12', '6000-store-items-images-classified-by-color_imoore_0_12', '6000-store-items-images-classified-by-color_imoore_0_12', '6000-store-items-images-classified-by-color_imoore_0_12', '6000-store-items-images-classified-by-color_imoore_0_12', '6000-store-items-images-classified-by-color_imoore_0_12', 'fcis-sc-deeplearning-competition_0_10', 'fcis-sc-deeplearning-competition_0_10', 'fcis-sc-deeplearning-competition_0_10', 'fcis-sc-deeplearning-competition_0_10', 'fcis-sc-deeplearning-competition_0_10', 'fcis-sc-deeplearning-competition_0_10', 'lego-brick-images_joosthazelzet_0_16', 'lego-brick-images_joosthazelzet_0_16', 'lego-brick-images_joosthazelzet_0_16', 'lego-brick-images_joosthazelzet_0_16', 'lego-brick-images_joosthazelzet_0_16', 'lego-brick-images_joosthazelzet_0_16', 'oregon-wildlife_virtualdvid_0_20', 'oregon-wildlife_virtualdvid_0_20', 'oregon-wildlife_virtualdvid_0_20', 'oregon-wildlife_virtualdvid_0_20', 'oregon-wildlife_virtualdvid_0_20', 'oregon-wildlife_virtualdvid_0_20', 'perritos_0_10', 'perritos_0_10', 'perritos_0_10'], 'topol': [[3, 5, 5, 5, 7, 5, 5, 7, 3, 5, 7, 7, 7, 5, 7, 5, 3, 3, 7, 3, 4, 3, 6, 3, 6, 6, 4, 4, 6, 4, 3, 6, 6, 3, 4, 6, 3, 4, 6, 3, 3, 4, 2, 4, 4], [3, 7, 7, 7, 5, 7, 5, 3, 7, 5, 3, 3, 5, 5, 3, 7, 7, 5, 3, 5, 3, 4, 6, 3, 6, 4, 6, 4, 4, 3, 3, 3, 3, 6, 6, 3, 3, 4, 6, 4, 4, 3, 2, 2, 4], [3, 7, 5, 5, 3, 7, 7, 5, 5, 5, 5, 5, 5, 7, 7, 7, 7, 7, 5, 7, 6, 6, 6, 3, 6, 3, 4, 4, 6, 6, 6, 4, 3, 6, 4, 6, 6, 4, 6, 4, 2, 3, 3, 3, 4], [7, 5, 3, 3, 5, 3, 5, 5, 5, 5, 3, 7, 7, 5, 7, 3, 3, 5, 3, 5, 3, 4, 6, 6, 6, 3, 6, 3, 6, 3, 6, 4, 4, 6, 6, 4, 6, 6, 6, 4, 2, 2, 2, 3, 2], [3, 5, 5, 7, 5, 5, 7, 3, 7, 5, 5, 5, 3, 5, 3, 7, 5, 7, 7, 3, 3, 6, 3, 3, 6, 3, 6, 6, 4, 4, 3, 4, 4, 3, 6, 6, 4, 3, 4, 3, 4, 3, 4, 4, 4], [3, 3, 5, 5, 7, 5, 5, 5, 5, 5, 3, 3, 3, 3, 3, 7, 7, 3, 5, 5, 6, 4, 3, 4, 4, 4, 3, 6, 4, 3, 6, 4, 4, 4, 6, 6, 4, 4, 3, 6, 4, 2, 4, 3, 3], [7, 7, 5, 5, 5, 5, 3, 3, 3, 5, 7, 5, 5, 3, 3, 5, 5, 5, 7, 5, 3, 4, 3, 6, 6, 4, 3, 4, 6, 6, 4, 4, 6, 4, 4, 3, 6, 4, 3, 6, 2, 4, 4, 3, 2], [3, 3, 3, 7, 7, 5, 5, 7, 7, 5, 7, 7, 7, 7, 3, 5, 7, 7, 7, 3, 6, 4, 6, 3, 3, 4, 6, 6, 3, 3, 4, 4, 4, 4, 6, 6, 3, 4, 4, 3, 2, 4, 4, 2, 3], [5, 5, 3, 5, 7, 3, 5, 7, 7, 5, 3, 7, 7, 3, 3, 7, 3, 3, 7, 3, 4, 4, 6, 6, 3, 6, 3, 6, 3, 4, 4, 6, 3, 4, 6, 3, 6, 6, 4, 4, 4, 2, 4, 4, 4], [3, 5, 3, 5, 3, 3, 7, 7, 3, 3, 5, 7, 5, 3, 7, 7, 3, 3, 3, 7, 3, 4, 6, 6, 4, 4, 6, 6, 3, 3, 3, 6, 3, 6, 3, 4, 3, 4, 6, 6, 4, 4, 4, 3, 2], [3, 7, 7, 5, 7, 3, 7, 5, 7, 7, 7, 5, 7, 5, 3, 7, 5, 5, 5, 5, 6, 3, 6, 6, 4, 6, 6, 4, 6, 6, 6, 3, 3, 3, 3, 3, 6, 6, 4, 4, 3, 4, 2, 2, 3], [7, 7, 3, 3, 5, 7, 3, 5, 5, 3, 3, 3, 5, 7, 3, 7, 7, 5, 7, 7, 6, 3, 4, 3, 3, 3, 4, 3, 3, 4, 6, 6, 6, 4, 4, 6, 6, 4, 3, 4, 2, 2, 3, 4, 3], [7, 3, 3, 3, 3, 3, 5, 7, 5, 3, 5, 5, 3, 7, 7, 7, 5, 3, 7, 5, 3, 6, 3, 6, 6, 3, 4, 3, 6, 6, 3, 4, 3, 4, 4, 3, 4, 6, 6, 4, 3, 3, 2, 3, 3], [3, 3, 7, 5, 7, 3, 5, 7, 3, 5, 3, 5, 5, 5, 5, 3, 5, 5, 3, 3, 3, 6, 6, 6, 6, 6, 4, 3, 4, 4, 6, 4, 3, 6, 3, 6, 3, 6, 4, 6, 2, 2, 2, 3, 3], [5, 3, 5, 5, 5, 5, 7, 7, 3, 7, 7, 7, 3, 3, 7, 3, 7, 5, 5, 3, 3, 3, 6, 4, 6, 4, 4, 3, 6, 4, 6, 6, 3, 6, 4, 4, 3, 4, 3, 4, 3, 3, 4, 4, 4], [5, 5, 7, 5, 5, 5, 5, 7, 3, 3, 7, 3, 7, 5, 3, 3, 5, 7, 3, 3, 4, 4, 4, 4, 3, 4, 6, 3, 4, 6, 6, 3, 6, 3, 4, 6, 6, 4, 4, 6, 2, 4, 2, 3, 3], [7, 5, 3, 3, 7, 7, 7, 7, 5, 7, 5, 3, 7, 3, 5, 7, 3, 5, 7, 5, 4, 4, 4, 6, 4, 3, 3, 6, 3, 6, 4, 6, 6, 6, 6, 6, 3, 4, 6, 4, 2, 2, 2, 4, 3], [3, 3, 3, 7, 7, 3, 3, 7, 7, 7, 7, 5, 5, 7, 7, 3, 7, 7, 5, 7, 3, 4, 3, 3, 6, 3, 6, 3, 6, 3, 6, 3, 4, 3, 3, 6, 4, 4, 3, 6, 4, 4, 2, 4, 3], [3, 7, 7, 7, 3, 5, 3, 7, 5, 3, 5, 5, 7, 3, 5, 5, 3, 7, 5, 5, 4, 3, 4, 4, 3, 4, 6, 4, 6, 4, 3, 3, 3, 3, 6, 3, 4, 6, 4, 3, 4, 2, 4, 4, 3], [7, 7, 3, 5, 5, 5, 7, 3, 3, 5, 3, 3, 5, 7, 7, 3, 3, 7, 3, 3, 3, 3, 4, 6, 4, 6, 6, 6, 4, 3, 3, 6, 6, 4, 3, 4, 6, 4, 4, 4, 2, 4, 2, 3, 2], [3, 7, 7, 3, 5, 7, 7, 5, 7, 3, 5, 7, 7, 3, 5, 5, 5, 3, 3, 5, 3, 4, 3, 4, 3, 4, 6, 3, 6, 3, 4, 3, 4, 4, 4, 6, 3, 3, 4, 3, 3, 3, 2, 4, 2], [3, 7, 5, 3, 3, 5, 5, 7, 5, 7, 3, 5, 3, 7, 7, 5, 5, 7, 3, 3, 3, 3, 4, 6, 3, 6, 4, 3, 6, 4, 6, 4, 6, 6, 6, 6, 3, 4, 3, 6, 4, 4, 2, 2, 3], [3, 7, 3, 3, 5, 7, 5, 7, 5, 7, 7, 7, 7, 3, 3, 3, 7, 3, 3, 3, 6, 4, 4, 3, 4, 6, 4, 6, 4, 6, 6, 4, 4, 3, 3, 3, 6, 4, 3, 3, 2, 4, 4, 4, 4], [5, 5, 7, 5, 7, 3, 7, 7, 7, 5, 7, 3, 5, 3, 5, 7, 3, 7, 7, 5, 4, 3, 6, 6, 6, 3, 6, 3, 6, 3, 3, 6, 4, 4, 3, 3, 3, 3, 3, 3, 3, 2, 3, 4, 2], [7, 3, 7, 3, 5, 5, 3, 3, 7, 3, 7, 7, 7, 5, 5, 5, 5, 7, 5, 5, 6, 4, 3, 3, 4, 3, 3, 4, 4, 3, 6, 6, 3, 4, 4, 6, 6, 4, 6, 3, 3, 4, 4, 4, 2], [5, 5, 3, 7, 3, 7, 7, 5, 3, 7, 7, 5, 5, 7, 7, 7, 5, 7, 5, 3, 4, 4, 3, 3, 4, 3, 4, 6, 3, 3, 3, 4, 6, 6, 4, 6, 6, 4, 3, 4, 4, 4, 4, 3, 4], [5, 5, 3, 5, 7, 3, 5, 5, 3, 5, 7, 3, 5, 3, 3, 5, 7, 7, 5, 5, 4, 3, 6, 4, 6, 6, 6, 4, 3, 6, 6, 6, 4, 4, 4, 4, 3, 4, 3, 6, 2, 4, 2, 4, 3], [5, 3, 5, 3, 5, 3, 3, 3, 7, 3, 5, 7, 5, 7, 3, 7, 7, 5, 5, 3, 6, 3, 6, 6, 3, 4, 3, 4, 6, 3, 4, 6, 3, 3, 4, 4, 6, 6, 6, 4, 3, 4, 4, 4, 3], [7, 5, 3, 7, 3, 5, 3, 5, 3, 5, 7, 3, 7, 7, 5, 7, 7, 3, 3, 3, 3, 3, 6, 4, 3, 4, 4, 3, 3, 3, 3, 4, 3, 3, 3, 3, 6, 6, 4, 4, 2, 4, 2, 4, 2], [5, 7, 7, 5, 5, 5, 7, 7, 7, 3, 5, 5, 5, 5, 3, 3, 5, 7, 3, 5, 3, 4, 4, 3, 3, 6, 6, 4, 4, 3, 4, 3, 3, 6, 4, 6, 4, 3, 3, 3, 2, 2, 4, 2, 2], [5, 5, 7, 3, 3, 3, 5, 3, 5, 5, 3, 3, 5, 7, 5, 3, 5, 3, 7, 7, 3, 3, 4, 4, 3, 3, 3, 3, 4, 6, 6, 4, 3, 4, 6, 4, 4, 4, 3, 3, 4, 4, 3, 2, 3], [3, 5, 5, 5, 7, 5, 7, 7, 5, 5, 5, 5, 5, 7, 3, 5, 7, 7, 3, 5, 6, 6, 4, 6, 3, 3, 3, 4, 4, 3, 6, 4, 4, 3, 3, 6, 6, 3, 3, 6, 3, 4, 3, 2, 2], [3, 3, 7, 5, 5, 5, 7, 7, 7, 5, 3, 3, 3, 3, 7, 5, 5, 5, 3, 3, 3, 3, 3, 6, 4, 4, 6, 4, 3, 6, 4, 3, 6, 4, 3, 6, 6, 3, 4, 6, 2, 4, 2, 3, 4], [5, 3, 3, 3, 7, 5, 7, 3, 5, 5, 3, 3, 3, 5, 3, 5, 7, 3, 5, 3, 6, 3, 4, 6, 3, 6, 4, 3, 4, 3, 4, 4, 6, 3, 4, 4, 3, 3, 6, 6, 2, 3, 3, 2, 2], [3, 7, 3, 5, 3, 7, 5, 3, 7, 7, 3, 5, 5, 3, 7, 5, 5, 7, 7, 7, 4, 6, 6, 3, 6, 6, 4, 4, 3, 6, 6, 6, 3, 3, 3, 4, 4, 6, 3, 3, 2, 4, 3, 4, 3], [3, 3, 3, 5, 3, 3, 3, 5, 7, 3, 7, 5, 3, 7, 5, 3, 7, 7, 3, 7, 6, 3, 3, 6, 3, 6, 6, 3, 6, 6, 4, 4, 4, 3, 6, 3, 6, 3, 3, 6, 2, 3, 4, 4, 4], [5, 7, 3, 7, 3, 7, 5, 5, 5, 7, 7, 3, 3, 3, 7, 3, 5, 5, 3, 5, 6, 4, 6, 6, 6, 4, 6, 3, 4, 4, 3, 3, 6, 6, 4, 3, 4, 3, 6, 4, 2, 2, 3, 4, 3], [3, 3, 3, 3, 5, 7, 5, 3, 3, 7, 3, 3, 5, 3, 3, 3, 3, 3, 3, 3, 6, 3, 6, 4, 4, 3, 6, 6, 3, 6, 6, 3, 6, 6, 6, 3, 4, 3, 3, 4, 4, 3, 2, 4, 2], [5, 5, 7, 3, 3, 3, 7, 5, 7, 7, 3, 7, 5, 3, 5, 7, 7, 5, 5, 5, 4, 4, 3, 4, 3, 3, 6, 6, 6, 3, 4, 6, 6, 3, 3, 4, 6, 6, 6, 3, 2, 3, 3, 2, 3]], 'f_emb': [tensor([-0., -0., -0.,  ..., -0., -0., -0.]), tensor([-0., -0., -0.,  ..., -0., -0., -0.]), tensor([1226.8495,   -0.0000,   -0.0000,  ...,   -0.0000,   -0.0000,\n",
      "          -0.0000]), tensor([-0., -0., -0.,  ..., -0., -0., -0.]), tensor([188.3607,  -0.0000,  -0.0000,  ...,  -0.0000,  -0.0000, 213.2732]), tensor([-0., -0., -0.,  ..., -0., -0., -0.]), tensor([-0., -0., -0.,  ..., -0., -0., -0.]), tensor([-0.0000, -0.0000, -0.0000,  ..., -0.0000, -0.0000, 9.9611]), tensor([38.6843, -0.0000, -0.0000,  ..., -0.0000, -0.0000, -0.0000]), tensor([ 0.5262, -0.3664,  0.4536,  ..., -0.3597, -0.2121, -0.3281]), tensor([-0., -0., -0.,  ..., -0., -0., -0.]), tensor([-0.0000, -0.0000, -0.0000,  ..., 30.1783, -0.0000,  3.6916]), tensor([-0., -0., -0.,  ..., -0., -0., -0.]), tensor([-0., -0., -0.,  ..., -0., -0., -0.]), tensor([18.3999, -0.0000, -0.0000,  ..., -0.0000, -0.0000, 45.3672]), tensor([ 0.2349,  0.1743,  0.1660,  ...,  0.3616,  0.0957, -0.3534]), tensor([-0.2793, -0.3249, -0.3683,  ..., -0.0000, -0.0000, -0.3627]), tensor([ 0.0759, -0.3346, -0.2591,  ...,  0.4824, -0.2551, -0.1757]), tensor([ 0.4264, -0.1865, -0.1025,  ..., -0.1637,  0.7777, -0.3373]), tensor([ 0.4347, -0.2336, -0.2793,  ..., -0.3347, -0.3469, -0.1162]), tensor([ 0.0104,  0.4655, -0.3177,  ..., -0.1076,  0.8267, -0.3667]), tensor([ 0.0873,  0.1475, -0.3670,  ..., -0.1698,  0.0327, -0.3572]), tensor([322.7029,  -0.0000,  83.4842,  ...,  -0.0000,  -0.0000,  -0.0000]), tensor([-0.3365, -0.0309, -0.3139,  ...,  0.1455, -0.3260, -0.3622]), tensor([-0.0000, -0.0000, -0.0000,  ..., -0.0000, -0.0000, 3.1642]), tensor([    -0.0000,     -0.0000, 159417.2812,  ...,     -0.0000,\n",
      "            -0.0000, 179515.1562]), tensor([-0.0014, -0.3527, -0.0000,  ..., -0.0000, -0.0000, -0.0000]), tensor([6770305.5000,      -0.0000,      -0.0000,  ...,      -0.0000,\n",
      "             -0.0000,      -0.0000]), tensor([1609.9169,   -0.0000,   -0.0000,  ...,   -0.0000,   -0.0000,\n"
     ]
    },
    {
     "name": "stderr",
     "output_type": "stream",
     "text": [
      "Using cache found in /root/.cache/torch/hub/mit-han-lab_once-for-all_master\n"
     ]
    },
    {
     "name": "stdout",
     "output_type": "stream",
     "text": [
      "          -0.0000]), tensor([-0., -0., -0.,  ..., -0., -0., -0.]), tensor([-0.0067, -0.3482, -0.3706,  ..., -0.3683, -0.0611,  0.0504]), tensor([ 1.4714, -0.0000, -0.0945,  ..., -0.2832, -0.0000, -0.3679]), tensor([ 1.7539, 21.7252, -0.0000,  ..., -0.0000, -0.0000, 13.5089]), tensor([-0.3179, -0.3455, -0.3743,  ..., -0.2527,  0.1497, -0.0043]), tensor([-0.3241, -0.2744, -0.1231,  ..., -0.1582, -0.2237, -0.0000]), tensor([-0.1600,  3.9948, -0.0000,  ..., -0.0000, -0.0000,  8.6842]), tensor([-0.1209,  0.0394, -0.3112,  ..., -0.2695, -0.1538, -0.1348]), tensor([255.8073,  -0.0000, 140.1278,  ...,  -0.0000,  -0.0000,  -0.0000]), tensor([-0., -0., -0.,  ..., -0., -0., -0.])], 'acc': [99.51923076923077, 99.03846153846153, 99.51923076923077, 99.51923076923077, 99.51923076923077, 99.51923076923077, 98.38709677419355, 96.7741935483871, 98.38709677419355, 98.38709677419355, 8.064516129032258, 96.7741935483871, 77.08333333333333, 76.4423076923077, 78.68589743589743, 77.40384615384616, 77.24358974358974, 78.36538461538461, 94.23076923076923, 75.64102564102564, 90.7051282051282, 94.23076923076923, 91.34615384615384, 94.23076923076923, 99.52978056426332, 99.3730407523511, 99.68652037617555, 99.68652037617555, 100.0, 99.3730407523511, 84.88700564971751, 87.99435028248588, 86.7231638418079, 85.73446327683615, 87.99435028248588, 86.44067796610169, 96.6740576496674, 97.11751662971176, 97.00665188470066], 'n_params': [6228442, 5625114, 6570290, 5347354, 5825218, 4821626, 4711646, 4554646, 6688342, 4317614, 5203934, 5550702, 5717244, 5151700, 5773028, 5059684, 6364428, 4930308, 5608818, 4493962, 4318938, 4537954, 5514050, 3861938, 5155304, 6005320, 4798208, 6420784, 4792312, 3845304, 4249220, 3881348, 5982340, 3517428, 5327428, 6367692, 5599490, 4745802, 5815994]}\n",
      "\n",
      "=====> Generating 4th network  <=====\n",
      "\n",
      "\n",
      "=====>Generating sub_net<=====\n",
      "\n",
      "\n",
      "=====> Training started <=====\n",
      "\n",
      "Starting Training for:perritos_0_10 with model topology:[3, 3, 3, 3, 5, 3, 5, 3, 7, 3, 5, 5, 7, 3, 5, 7, 3, 5, 5, 7, 4, 3, 6, 4, 3, 6, 6, 4, 4, 4, 3, 6, 6, 3, 3, 6, 3, 3, 6, 6, 3, 2, 2, 4, 3]\n"
     ]
    },
    {
     "name": "stderr",
     "output_type": "stream",
     "text": [
      "226it [00:28,  7.91it/s]\n",
      "29it [00:02, 13.64it/s]\n"
     ]
    },
    {
     "name": "stdout",
     "output_type": "stream",
     "text": [
      "\n",
      "Epoch: 1/15, Train Loss: 15.11354892 , Val Loss: 4.81698417, Train Accuracy:89.06596452,  Val Accuracy: 95.89800443, Epoch Time: 30.96601105\n"
     ]
    },
    {
     "name": "stderr",
     "output_type": "stream",
     "text": [
      "226it [00:28,  7.85it/s]\n",
      "29it [00:02, 13.86it/s]\n"
     ]
    },
    {
     "name": "stdout",
     "output_type": "stream",
     "text": [
      "\n",
      "Epoch: 2/15, Train Loss: 4.13368024 , Val Loss: 4.29608775, Train Accuracy:96.13359202,  Val Accuracy: 95.23281596, Epoch Time: 31.11353707\n"
     ]
    },
    {
     "name": "stderr",
     "output_type": "stream",
     "text": [
      "226it [00:28,  7.88it/s]\n",
      "29it [00:02, 13.75it/s]\n"
     ]
    },
    {
     "name": "stdout",
     "output_type": "stream",
     "text": [
      "\n",
      "Epoch: 3/15, Train Loss: 2.39080363 , Val Loss: 3.45824328, Train Accuracy:97.87971175,  Val Accuracy: 96.34146341, Epoch Time: 31.06080461\n"
     ]
    },
    {
     "name": "stderr",
     "output_type": "stream",
     "text": [
      "226it [00:28,  7.89it/s]\n",
      "29it [00:02, 13.81it/s]\n"
     ]
    },
    {
     "name": "stdout",
     "output_type": "stream",
     "text": [
      "\n",
      "Epoch: 4/15, Train Loss: 1.43047794 , Val Loss: 3.54347895, Train Accuracy:98.75277162,  Val Accuracy: 97.11751663, Epoch Time: 31.01855969\n"
     ]
    },
    {
     "name": "stderr",
     "output_type": "stream",
     "text": [
      "226it [00:28,  7.86it/s]\n",
      "29it [00:02, 14.03it/s]\n"
     ]
    },
    {
     "name": "stdout",
     "output_type": "stream",
     "text": [
      "\n",
      "Epoch: 5/15, Train Loss: 0.91235273 , Val Loss: 3.65335735, Train Accuracy:99.43181818,  Val Accuracy: 97.33924612, Epoch Time: 31.06610942\n"
     ]
    },
    {
     "name": "stderr",
     "output_type": "stream",
     "text": [
      "226it [00:28,  7.88it/s]\n",
      "29it [00:02, 14.16it/s]\n"
     ]
    },
    {
     "name": "stdout",
     "output_type": "stream",
     "text": [
      "\n",
      "Epoch: 6/15, Train Loss: 0.55834638 , Val Loss: 3.38493842, Train Accuracy:99.68126386,  Val Accuracy: 97.45011086, Epoch Time: 30.98891902\n"
     ]
    },
    {
     "name": "stderr",
     "output_type": "stream",
     "text": [
      "226it [00:28,  7.89it/s]\n",
      "29it [00:02, 13.88it/s]\n"
     ]
    },
    {
     "name": "stdout",
     "output_type": "stream",
     "text": [
      "\n",
      "Epoch: 7/15, Train Loss: 0.38828988 , Val Loss: 3.39905604, Train Accuracy:99.83370288,  Val Accuracy: 97.45011086, Epoch Time: 30.99387884\n"
     ]
    },
    {
     "name": "stderr",
     "output_type": "stream",
     "text": [
      "226it [00:28,  7.89it/s]\n",
      "29it [00:02, 13.73it/s]\n"
     ]
    },
    {
     "name": "stdout",
     "output_type": "stream",
     "text": [
      "\n",
      "Epoch: 8/15, Train Loss: 0.30123615 , Val Loss: 3.37302727, Train Accuracy:99.87527716,  Val Accuracy: 97.67184035, Epoch Time: 31.00504947\n"
     ]
    },
    {
     "name": "stderr",
     "output_type": "stream",
     "text": [
      "226it [00:28,  7.90it/s]\n",
      "29it [00:02, 13.74it/s]\n"
     ]
    },
    {
     "name": "stdout",
     "output_type": "stream",
     "text": [
      "\n",
      "Epoch: 9/15, Train Loss: 0.22359966 , Val Loss: 3.20088709, Train Accuracy:99.90299335,  Val Accuracy: 97.67184035, Epoch Time: 30.95156169\n"
     ]
    },
    {
     "name": "stderr",
     "output_type": "stream",
     "text": [
      "226it [00:28,  7.87it/s]\n",
      "29it [00:02, 13.55it/s]\n"
     ]
    },
    {
     "name": "stdout",
     "output_type": "stream",
     "text": [
      "\n",
      "Epoch: 10/15, Train Loss: 0.16906677 , Val Loss: 3.74926701, Train Accuracy:99.93070953,  Val Accuracy: 97.22838137, Epoch Time: 31.07525706\n"
     ]
    },
    {
     "name": "stderr",
     "output_type": "stream",
     "text": [
      "226it [00:28,  7.88it/s]\n",
      "29it [00:02,  9.76it/s]\n"
     ]
    },
    {
     "name": "stdout",
     "output_type": "stream",
     "text": [
      "\n",
      "Epoch: 11/15, Train Loss: 0.14267407 , Val Loss: 3.61594090, Train Accuracy:99.97228381,  Val Accuracy: 97.22838137, Epoch Time: 31.88979077\n"
     ]
    },
    {
     "name": "stderr",
     "output_type": "stream",
     "text": [
      "226it [00:28,  7.84it/s]\n",
      "29it [00:02, 14.05it/s]\n"
     ]
    },
    {
     "name": "stdout",
     "output_type": "stream",
     "text": [
      "\n",
      "Epoch: 12/15, Train Loss: 0.15517255 , Val Loss: 3.72309109, Train Accuracy:99.90299335,  Val Accuracy: 97.45011086, Epoch Time: 31.11425209\n"
     ]
    },
    {
     "name": "stderr",
     "output_type": "stream",
     "text": [
      "226it [00:28,  7.88it/s]\n",
      "29it [00:02, 13.64it/s]\n"
     ]
    },
    {
     "name": "stdout",
     "output_type": "stream",
     "text": [
      "\n",
      "Epoch: 13/15, Train Loss: 0.12845627 , Val Loss: 3.56198064, Train Accuracy:99.94456763,  Val Accuracy: 97.56097561, Epoch Time: 31.05553341\n"
     ]
    },
    {
     "name": "stderr",
     "output_type": "stream",
     "text": [
      "226it [00:28,  7.90it/s]\n",
      "29it [00:02, 13.72it/s]\n"
     ]
    },
    {
     "name": "stdout",
     "output_type": "stream",
     "text": [
      "\n",
      "Epoch: 14/15, Train Loss: 0.11049174 , Val Loss: 3.83706256, Train Accuracy:99.94456763,  Val Accuracy: 97.22838137, Epoch Time: 30.95912552\n",
      "Early stopping on, 13th, epoch\n",
      "\n",
      "=====>Generating f_emb<=====\n",
      "\n",
      "torch.Size([1536])\n",
      "{'dataset': ['sldc_0_10', 'sldc_0_10', 'sldc_0_10', 'sldc_0_10', 'sldc_0_10', 'sldc_0_10', 'corales_0_14', 'corales_0_14', 'corales_0_14', 'corales_0_14', 'corales_0_14', 'corales_0_14', '6000-store-items-images-classified-by-color_imoore_0_12', '6000-store-items-images-classified-by-color_imoore_0_12', '6000-store-items-images-classified-by-color_imoore_0_12', '6000-store-items-images-classified-by-color_imoore_0_12', '6000-store-items-images-classified-by-color_imoore_0_12', '6000-store-items-images-classified-by-color_imoore_0_12', 'fcis-sc-deeplearning-competition_0_10', 'fcis-sc-deeplearning-competition_0_10', 'fcis-sc-deeplearning-competition_0_10', 'fcis-sc-deeplearning-competition_0_10', 'fcis-sc-deeplearning-competition_0_10', 'fcis-sc-deeplearning-competition_0_10', 'lego-brick-images_joosthazelzet_0_16', 'lego-brick-images_joosthazelzet_0_16', 'lego-brick-images_joosthazelzet_0_16', 'lego-brick-images_joosthazelzet_0_16', 'lego-brick-images_joosthazelzet_0_16', 'lego-brick-images_joosthazelzet_0_16', 'oregon-wildlife_virtualdvid_0_20', 'oregon-wildlife_virtualdvid_0_20', 'oregon-wildlife_virtualdvid_0_20', 'oregon-wildlife_virtualdvid_0_20', 'oregon-wildlife_virtualdvid_0_20', 'oregon-wildlife_virtualdvid_0_20', 'perritos_0_10', 'perritos_0_10', 'perritos_0_10', 'perritos_0_10'], 'topol': [[3, 5, 5, 5, 7, 5, 5, 7, 3, 5, 7, 7, 7, 5, 7, 5, 3, 3, 7, 3, 4, 3, 6, 3, 6, 6, 4, 4, 6, 4, 3, 6, 6, 3, 4, 6, 3, 4, 6, 3, 3, 4, 2, 4, 4], [3, 7, 7, 7, 5, 7, 5, 3, 7, 5, 3, 3, 5, 5, 3, 7, 7, 5, 3, 5, 3, 4, 6, 3, 6, 4, 6, 4, 4, 3, 3, 3, 3, 6, 6, 3, 3, 4, 6, 4, 4, 3, 2, 2, 4], [3, 7, 5, 5, 3, 7, 7, 5, 5, 5, 5, 5, 5, 7, 7, 7, 7, 7, 5, 7, 6, 6, 6, 3, 6, 3, 4, 4, 6, 6, 6, 4, 3, 6, 4, 6, 6, 4, 6, 4, 2, 3, 3, 3, 4], [7, 5, 3, 3, 5, 3, 5, 5, 5, 5, 3, 7, 7, 5, 7, 3, 3, 5, 3, 5, 3, 4, 6, 6, 6, 3, 6, 3, 6, 3, 6, 4, 4, 6, 6, 4, 6, 6, 6, 4, 2, 2, 2, 3, 2], [3, 5, 5, 7, 5, 5, 7, 3, 7, 5, 5, 5, 3, 5, 3, 7, 5, 7, 7, 3, 3, 6, 3, 3, 6, 3, 6, 6, 4, 4, 3, 4, 4, 3, 6, 6, 4, 3, 4, 3, 4, 3, 4, 4, 4], [3, 3, 5, 5, 7, 5, 5, 5, 5, 5, 3, 3, 3, 3, 3, 7, 7, 3, 5, 5, 6, 4, 3, 4, 4, 4, 3, 6, 4, 3, 6, 4, 4, 4, 6, 6, 4, 4, 3, 6, 4, 2, 4, 3, 3], [7, 7, 5, 5, 5, 5, 3, 3, 3, 5, 7, 5, 5, 3, 3, 5, 5, 5, 7, 5, 3, 4, 3, 6, 6, 4, 3, 4, 6, 6, 4, 4, 6, 4, 4, 3, 6, 4, 3, 6, 2, 4, 4, 3, 2], [3, 3, 3, 7, 7, 5, 5, 7, 7, 5, 7, 7, 7, 7, 3, 5, 7, 7, 7, 3, 6, 4, 6, 3, 3, 4, 6, 6, 3, 3, 4, 4, 4, 4, 6, 6, 3, 4, 4, 3, 2, 4, 4, 2, 3], [5, 5, 3, 5, 7, 3, 5, 7, 7, 5, 3, 7, 7, 3, 3, 7, 3, 3, 7, 3, 4, 4, 6, 6, 3, 6, 3, 6, 3, 4, 4, 6, 3, 4, 6, 3, 6, 6, 4, 4, 4, 2, 4, 4, 4], [3, 5, 3, 5, 3, 3, 7, 7, 3, 3, 5, 7, 5, 3, 7, 7, 3, 3, 3, 7, 3, 4, 6, 6, 4, 4, 6, 6, 3, 3, 3, 6, 3, 6, 3, 4, 3, 4, 6, 6, 4, 4, 4, 3, 2], [3, 7, 7, 5, 7, 3, 7, 5, 7, 7, 7, 5, 7, 5, 3, 7, 5, 5, 5, 5, 6, 3, 6, 6, 4, 6, 6, 4, 6, 6, 6, 3, 3, 3, 3, 3, 6, 6, 4, 4, 3, 4, 2, 2, 3], [7, 7, 3, 3, 5, 7, 3, 5, 5, 3, 3, 3, 5, 7, 3, 7, 7, 5, 7, 7, 6, 3, 4, 3, 3, 3, 4, 3, 3, 4, 6, 6, 6, 4, 4, 6, 6, 4, 3, 4, 2, 2, 3, 4, 3], [7, 3, 3, 3, 3, 3, 5, 7, 5, 3, 5, 5, 3, 7, 7, 7, 5, 3, 7, 5, 3, 6, 3, 6, 6, 3, 4, 3, 6, 6, 3, 4, 3, 4, 4, 3, 4, 6, 6, 4, 3, 3, 2, 3, 3], [3, 3, 7, 5, 7, 3, 5, 7, 3, 5, 3, 5, 5, 5, 5, 3, 5, 5, 3, 3, 3, 6, 6, 6, 6, 6, 4, 3, 4, 4, 6, 4, 3, 6, 3, 6, 3, 6, 4, 6, 2, 2, 2, 3, 3], [5, 3, 5, 5, 5, 5, 7, 7, 3, 7, 7, 7, 3, 3, 7, 3, 7, 5, 5, 3, 3, 3, 6, 4, 6, 4, 4, 3, 6, 4, 6, 6, 3, 6, 4, 4, 3, 4, 3, 4, 3, 3, 4, 4, 4], [5, 5, 7, 5, 5, 5, 5, 7, 3, 3, 7, 3, 7, 5, 3, 3, 5, 7, 3, 3, 4, 4, 4, 4, 3, 4, 6, 3, 4, 6, 6, 3, 6, 3, 4, 6, 6, 4, 4, 6, 2, 4, 2, 3, 3], [7, 5, 3, 3, 7, 7, 7, 7, 5, 7, 5, 3, 7, 3, 5, 7, 3, 5, 7, 5, 4, 4, 4, 6, 4, 3, 3, 6, 3, 6, 4, 6, 6, 6, 6, 6, 3, 4, 6, 4, 2, 2, 2, 4, 3], [3, 3, 3, 7, 7, 3, 3, 7, 7, 7, 7, 5, 5, 7, 7, 3, 7, 7, 5, 7, 3, 4, 3, 3, 6, 3, 6, 3, 6, 3, 6, 3, 4, 3, 3, 6, 4, 4, 3, 6, 4, 4, 2, 4, 3], [3, 7, 7, 7, 3, 5, 3, 7, 5, 3, 5, 5, 7, 3, 5, 5, 3, 7, 5, 5, 4, 3, 4, 4, 3, 4, 6, 4, 6, 4, 3, 3, 3, 3, 6, 3, 4, 6, 4, 3, 4, 2, 4, 4, 3], [7, 7, 3, 5, 5, 5, 7, 3, 3, 5, 3, 3, 5, 7, 7, 3, 3, 7, 3, 3, 3, 3, 4, 6, 4, 6, 6, 6, 4, 3, 3, 6, 6, 4, 3, 4, 6, 4, 4, 4, 2, 4, 2, 3, 2], [3, 7, 7, 3, 5, 7, 7, 5, 7, 3, 5, 7, 7, 3, 5, 5, 5, 3, 3, 5, 3, 4, 3, 4, 3, 4, 6, 3, 6, 3, 4, 3, 4, 4, 4, 6, 3, 3, 4, 3, 3, 3, 2, 4, 2], [3, 7, 5, 3, 3, 5, 5, 7, 5, 7, 3, 5, 3, 7, 7, 5, 5, 7, 3, 3, 3, 3, 4, 6, 3, 6, 4, 3, 6, 4, 6, 4, 6, 6, 6, 6, 3, 4, 3, 6, 4, 4, 2, 2, 3], [3, 7, 3, 3, 5, 7, 5, 7, 5, 7, 7, 7, 7, 3, 3, 3, 7, 3, 3, 3, 6, 4, 4, 3, 4, 6, 4, 6, 4, 6, 6, 4, 4, 3, 3, 3, 6, 4, 3, 3, 2, 4, 4, 4, 4], [5, 5, 7, 5, 7, 3, 7, 7, 7, 5, 7, 3, 5, 3, 5, 7, 3, 7, 7, 5, 4, 3, 6, 6, 6, 3, 6, 3, 6, 3, 3, 6, 4, 4, 3, 3, 3, 3, 3, 3, 3, 2, 3, 4, 2], [7, 3, 7, 3, 5, 5, 3, 3, 7, 3, 7, 7, 7, 5, 5, 5, 5, 7, 5, 5, 6, 4, 3, 3, 4, 3, 3, 4, 4, 3, 6, 6, 3, 4, 4, 6, 6, 4, 6, 3, 3, 4, 4, 4, 2], [5, 5, 3, 7, 3, 7, 7, 5, 3, 7, 7, 5, 5, 7, 7, 7, 5, 7, 5, 3, 4, 4, 3, 3, 4, 3, 4, 6, 3, 3, 3, 4, 6, 6, 4, 6, 6, 4, 3, 4, 4, 4, 4, 3, 4], [5, 5, 3, 5, 7, 3, 5, 5, 3, 5, 7, 3, 5, 3, 3, 5, 7, 7, 5, 5, 4, 3, 6, 4, 6, 6, 6, 4, 3, 6, 6, 6, 4, 4, 4, 4, 3, 4, 3, 6, 2, 4, 2, 4, 3], [5, 3, 5, 3, 5, 3, 3, 3, 7, 3, 5, 7, 5, 7, 3, 7, 7, 5, 5, 3, 6, 3, 6, 6, 3, 4, 3, 4, 6, 3, 4, 6, 3, 3, 4, 4, 6, 6, 6, 4, 3, 4, 4, 4, 3], [7, 5, 3, 7, 3, 5, 3, 5, 3, 5, 7, 3, 7, 7, 5, 7, 7, 3, 3, 3, 3, 3, 6, 4, 3, 4, 4, 3, 3, 3, 3, 4, 3, 3, 3, 3, 6, 6, 4, 4, 2, 4, 2, 4, 2], [5, 7, 7, 5, 5, 5, 7, 7, 7, 3, 5, 5, 5, 5, 3, 3, 5, 7, 3, 5, 3, 4, 4, 3, 3, 6, 6, 4, 4, 3, 4, 3, 3, 6, 4, 6, 4, 3, 3, 3, 2, 2, 4, 2, 2], [5, 5, 7, 3, 3, 3, 5, 3, 5, 5, 3, 3, 5, 7, 5, 3, 5, 3, 7, 7, 3, 3, 4, 4, 3, 3, 3, 3, 4, 6, 6, 4, 3, 4, 6, 4, 4, 4, 3, 3, 4, 4, 3, 2, 3], [3, 5, 5, 5, 7, 5, 7, 7, 5, 5, 5, 5, 5, 7, 3, 5, 7, 7, 3, 5, 6, 6, 4, 6, 3, 3, 3, 4, 4, 3, 6, 4, 4, 3, 3, 6, 6, 3, 3, 6, 3, 4, 3, 2, 2], [3, 3, 7, 5, 5, 5, 7, 7, 7, 5, 3, 3, 3, 3, 7, 5, 5, 5, 3, 3, 3, 3, 3, 6, 4, 4, 6, 4, 3, 6, 4, 3, 6, 4, 3, 6, 6, 3, 4, 6, 2, 4, 2, 3, 4], [5, 3, 3, 3, 7, 5, 7, 3, 5, 5, 3, 3, 3, 5, 3, 5, 7, 3, 5, 3, 6, 3, 4, 6, 3, 6, 4, 3, 4, 3, 4, 4, 6, 3, 4, 4, 3, 3, 6, 6, 2, 3, 3, 2, 2], [3, 7, 3, 5, 3, 7, 5, 3, 7, 7, 3, 5, 5, 3, 7, 5, 5, 7, 7, 7, 4, 6, 6, 3, 6, 6, 4, 4, 3, 6, 6, 6, 3, 3, 3, 4, 4, 6, 3, 3, 2, 4, 3, 4, 3], [3, 3, 3, 5, 3, 3, 3, 5, 7, 3, 7, 5, 3, 7, 5, 3, 7, 7, 3, 7, 6, 3, 3, 6, 3, 6, 6, 3, 6, 6, 4, 4, 4, 3, 6, 3, 6, 3, 3, 6, 2, 3, 4, 4, 4], [5, 7, 3, 7, 3, 7, 5, 5, 5, 7, 7, 3, 3, 3, 7, 3, 5, 5, 3, 5, 6, 4, 6, 6, 6, 4, 6, 3, 4, 4, 3, 3, 6, 6, 4, 3, 4, 3, 6, 4, 2, 2, 3, 4, 3], [3, 3, 3, 3, 5, 7, 5, 3, 3, 7, 3, 3, 5, 3, 3, 3, 3, 3, 3, 3, 6, 3, 6, 4, 4, 3, 6, 6, 3, 6, 6, 3, 6, 6, 6, 3, 4, 3, 3, 4, 4, 3, 2, 4, 2], [5, 5, 7, 3, 3, 3, 7, 5, 7, 7, 3, 7, 5, 3, 5, 7, 7, 5, 5, 5, 4, 4, 3, 4, 3, 3, 6, 6, 6, 3, 4, 6, 6, 3, 3, 4, 6, 6, 6, 3, 2, 3, 3, 2, 3], [3, 3, 3, 3, 5, 3, 5, 3, 7, 3, 5, 5, 7, 3, 5, 7, 3, 5, 5, 7, 4, 3, 6, 4, 3, 6, 6, 4, 4, 4, 3, 6, 6, 3, 3, 6, 3, 3, 6, 6, 3, 2, 2, 4, 3]], 'f_emb': [tensor([-0., -0., -0.,  ..., -0., -0., -0.]), tensor([-0., -0., -0.,  ..., -0., -0., -0.]), tensor([1226.8495,   -0.0000,   -0.0000,  ...,   -0.0000,   -0.0000,\n",
      "          -0.0000]), tensor([-0., -0., -0.,  ..., -0., -0., -0.]), tensor([188.3607,  -0.0000,  -0.0000,  ...,  -0.0000,  -0.0000, 213.2732]), tensor([-0., -0., -0.,  ..., -0., -0., -0.]), tensor([-0., -0., -0.,  ..., -0., -0., -0.]), tensor([-0.0000, -0.0000, -0.0000,  ..., -0.0000, -0.0000, 9.9611]), tensor([38.6843, -0.0000, -0.0000,  ..., -0.0000, -0.0000, -0.0000]), tensor([ 0.5262, -0.3664,  0.4536,  ..., -0.3597, -0.2121, -0.3281]), tensor([-0., -0., -0.,  ..., -0., -0., -0.]), tensor([-0.0000, -0.0000, -0.0000,  ..., 30.1783, -0.0000,  3.6916]), tensor([-0., -0., -0.,  ..., -0., -0., -0.]), tensor([-0., -0., -0.,  ..., -0., -0., -0.]), tensor([18.3999, -0.0000, -0.0000,  ..., -0.0000, -0.0000, 45.3672]), tensor([ 0.2349,  0.1743,  0.1660,  ...,  0.3616,  0.0957, -0.3534]), tensor([-0.2793, -0.3249, -0.3683,  ..., -0.0000, -0.0000, -0.3627]), tensor([ 0.0759, -0.3346, -0.2591,  ...,  0.4824, -0.2551, -0.1757]), tensor([ 0.4264, -0.1865, -0.1025,  ..., -0.1637,  0.7777, -0.3373]), tensor([ 0.4347, -0.2336, -0.2793,  ..., -0.3347, -0.3469, -0.1162]), tensor([ 0.0104,  0.4655, -0.3177,  ..., -0.1076,  0.8267, -0.3667]), tensor([ 0.0873,  0.1475, -0.3670,  ..., -0.1698,  0.0327, -0.3572]), tensor([322.7029,  -0.0000,  83.4842,  ...,  -0.0000,  -0.0000,  -0.0000]), tensor([-0.3365, -0.0309, -0.3139,  ...,  0.1455, -0.3260, -0.3622]), tensor([-0.0000, -0.0000, -0.0000,  ..., -0.0000, -0.0000, 3.1642]), tensor([    -0.0000,     -0.0000, 159417.2812,  ...,     -0.0000,\n",
      "            -0.0000, 179515.1562]), tensor([-0.0014, -0.3527, -0.0000,  ..., -0.0000, -0.0000, -0.0000]), tensor([6770305.5000,      -0.0000,      -0.0000,  ...,      -0.0000,\n",
      "             -0.0000,      -0.0000]), tensor([1609.9169,   -0.0000,   -0.0000,  ...,   -0.0000,   -0.0000,\n"
     ]
    },
    {
     "name": "stderr",
     "output_type": "stream",
     "text": [
      "Using cache found in /root/.cache/torch/hub/mit-han-lab_once-for-all_master\n"
     ]
    },
    {
     "name": "stdout",
     "output_type": "stream",
     "text": [
      "          -0.0000]), tensor([-0., -0., -0.,  ..., -0., -0., -0.]), tensor([-0.0067, -0.3482, -0.3706,  ..., -0.3683, -0.0611,  0.0504]), tensor([ 1.4714, -0.0000, -0.0945,  ..., -0.2832, -0.0000, -0.3679]), tensor([ 1.7539, 21.7252, -0.0000,  ..., -0.0000, -0.0000, 13.5089]), tensor([-0.3179, -0.3455, -0.3743,  ..., -0.2527,  0.1497, -0.0043]), tensor([-0.3241, -0.2744, -0.1231,  ..., -0.1582, -0.2237, -0.0000]), tensor([-0.1600,  3.9948, -0.0000,  ..., -0.0000, -0.0000,  8.6842]), tensor([-0.1209,  0.0394, -0.3112,  ..., -0.2695, -0.1538, -0.1348]), tensor([255.8073,  -0.0000, 140.1278,  ...,  -0.0000,  -0.0000,  -0.0000]), tensor([-0., -0., -0.,  ..., -0., -0., -0.]), tensor([-0.0667, -0.2547, -0.3669,  ...,  0.1411, -0.0529, -0.0764])], 'acc': [99.51923076923077, 99.03846153846153, 99.51923076923077, 99.51923076923077, 99.51923076923077, 99.51923076923077, 98.38709677419355, 96.7741935483871, 98.38709677419355, 98.38709677419355, 8.064516129032258, 96.7741935483871, 77.08333333333333, 76.4423076923077, 78.68589743589743, 77.40384615384616, 77.24358974358974, 78.36538461538461, 94.23076923076923, 75.64102564102564, 90.7051282051282, 94.23076923076923, 91.34615384615384, 94.23076923076923, 99.52978056426332, 99.3730407523511, 99.68652037617555, 99.68652037617555, 100.0, 99.3730407523511, 84.88700564971751, 87.99435028248588, 86.7231638418079, 85.73446327683615, 87.99435028248588, 86.44067796610169, 96.6740576496674, 97.11751662971176, 97.00665188470066, 97.22838137472284], 'n_params': [6228442, 5625114, 6570290, 5347354, 5825218, 4821626, 4711646, 4554646, 6688342, 4317614, 5203934, 5550702, 5717244, 5151700, 5773028, 5059684, 6364428, 4930308, 5608818, 4493962, 4318938, 4537954, 5514050, 3861938, 5155304, 6005320, 4798208, 6420784, 4792312, 3845304, 4249220, 3881348, 5982340, 3517428, 5327428, 6367692, 5599490, 4745802, 5815994, 5362738]}\n",
      "\n",
      "=====> Generating 5th network  <=====\n",
      "\n",
      "\n",
      "=====>Generating sub_net<=====\n",
      "\n",
      "\n",
      "=====> Training started <=====\n",
      "\n",
      "Starting Training for:perritos_0_10 with model topology:[3, 7, 5, 5, 7, 5, 7, 3, 3, 5, 5, 3, 5, 3, 5, 3, 3, 7, 3, 3, 3, 4, 4, 6, 6, 6, 3, 6, 6, 4, 3, 6, 6, 6, 6, 4, 3, 3, 3, 6, 3, 4, 4, 4, 2]\n"
     ]
    },
    {
     "name": "stderr",
     "output_type": "stream",
     "text": [
      "226it [00:37,  6.10it/s]\n",
      "29it [00:02, 13.28it/s]\n"
     ]
    },
    {
     "name": "stdout",
     "output_type": "stream",
     "text": [
      "\n",
      "Epoch: 1/15, Train Loss: 15.20517630 , Val Loss: 4.49263572, Train Accuracy:88.48392461,  Val Accuracy: 95.56541020, Epoch Time: 39.53951716\n"
     ]
    },
    {
     "name": "stderr",
     "output_type": "stream",
     "text": [
      "226it [00:37,  6.09it/s]\n",
      "29it [00:02, 13.38it/s]\n"
     ]
    },
    {
     "name": "stdout",
     "output_type": "stream",
     "text": [
      "\n",
      "Epoch: 2/15, Train Loss: 4.27567941 , Val Loss: 4.03083920, Train Accuracy:96.10587583,  Val Accuracy: 95.45454545, Epoch Time: 39.54577017\n"
     ]
    },
    {
     "name": "stderr",
     "output_type": "stream",
     "text": [
      "226it [00:37,  6.10it/s]\n",
      "29it [00:02, 13.43it/s]\n"
     ]
    },
    {
     "name": "stdout",
     "output_type": "stream",
     "text": [
      "\n",
      "Epoch: 3/15, Train Loss: 2.38883164 , Val Loss: 3.39323298, Train Accuracy:97.85199557,  Val Accuracy: 97.22838137, Epoch Time: 39.45113564\n"
     ]
    },
    {
     "name": "stderr",
     "output_type": "stream",
     "text": [
      "226it [00:37,  6.09it/s]\n",
      "29it [00:02, 13.42it/s]\n"
     ]
    },
    {
     "name": "stdout",
     "output_type": "stream",
     "text": [
      "\n",
      "Epoch: 4/15, Train Loss: 1.47258595 , Val Loss: 3.10456533, Train Accuracy:98.83592018,  Val Accuracy: 96.89578714, Epoch Time: 39.51849055\n"
     ]
    },
    {
     "name": "stderr",
     "output_type": "stream",
     "text": [
      "226it [00:37,  6.11it/s]\n",
      "29it [00:02, 13.25it/s]\n"
     ]
    },
    {
     "name": "stdout",
     "output_type": "stream",
     "text": [
      "\n",
      "Epoch: 5/15, Train Loss: 0.98448065 , Val Loss: 3.44081926, Train Accuracy:99.30709534,  Val Accuracy: 96.56319290, Epoch Time: 39.44921851\n"
     ]
    },
    {
     "name": "stderr",
     "output_type": "stream",
     "text": [
      "226it [00:37,  6.07it/s]\n",
      "29it [00:02, 13.23it/s]\n"
     ]
    },
    {
     "name": "stdout",
     "output_type": "stream",
     "text": [
      "\n",
      "Epoch: 6/15, Train Loss: 0.66068003 , Val Loss: 3.39762306, Train Accuracy:99.61197339,  Val Accuracy: 96.23059867, Epoch Time: 39.68578863\n"
     ]
    },
    {
     "name": "stderr",
     "output_type": "stream",
     "text": [
      "226it [00:37,  6.09it/s]\n",
      "29it [00:02, 13.12it/s]\n"
     ]
    },
    {
     "name": "stdout",
     "output_type": "stream",
     "text": [
      "\n",
      "Epoch: 7/15, Train Loss: 0.40117519 , Val Loss: 3.12399148, Train Accuracy:99.80598670,  Val Accuracy: 97.22838137, Epoch Time: 39.59702730\n"
     ]
    },
    {
     "name": "stderr",
     "output_type": "stream",
     "text": [
      "226it [00:37,  6.08it/s]\n",
      "29it [00:02, 13.01it/s]\n"
     ]
    },
    {
     "name": "stdout",
     "output_type": "stream",
     "text": [
      "\n",
      "Epoch: 8/15, Train Loss: 0.37278146 , Val Loss: 3.32254809, Train Accuracy:99.81984479,  Val Accuracy: 96.78492239, Epoch Time: 39.64689612\n"
     ]
    },
    {
     "name": "stderr",
     "output_type": "stream",
     "text": [
      "226it [00:37,  6.09it/s]\n",
      "29it [00:02, 13.25it/s]\n"
     ]
    },
    {
     "name": "stdout",
     "output_type": "stream",
     "text": [
      "\n",
      "Epoch: 9/15, Train Loss: 0.31004381 , Val Loss: 3.40539758, Train Accuracy:99.81984479,  Val Accuracy: 96.67405765, Epoch Time: 39.57805300\n",
      "Early stopping on, 8th, epoch\n",
      "\n",
      "=====>Generating f_emb<=====\n",
      "\n",
      "torch.Size([1536])\n",
      "{'dataset': ['sldc_0_10', 'sldc_0_10', 'sldc_0_10', 'sldc_0_10', 'sldc_0_10', 'sldc_0_10', 'corales_0_14', 'corales_0_14', 'corales_0_14', 'corales_0_14', 'corales_0_14', 'corales_0_14', '6000-store-items-images-classified-by-color_imoore_0_12', '6000-store-items-images-classified-by-color_imoore_0_12', '6000-store-items-images-classified-by-color_imoore_0_12', '6000-store-items-images-classified-by-color_imoore_0_12', '6000-store-items-images-classified-by-color_imoore_0_12', '6000-store-items-images-classified-by-color_imoore_0_12', 'fcis-sc-deeplearning-competition_0_10', 'fcis-sc-deeplearning-competition_0_10', 'fcis-sc-deeplearning-competition_0_10', 'fcis-sc-deeplearning-competition_0_10', 'fcis-sc-deeplearning-competition_0_10', 'fcis-sc-deeplearning-competition_0_10', 'lego-brick-images_joosthazelzet_0_16', 'lego-brick-images_joosthazelzet_0_16', 'lego-brick-images_joosthazelzet_0_16', 'lego-brick-images_joosthazelzet_0_16', 'lego-brick-images_joosthazelzet_0_16', 'lego-brick-images_joosthazelzet_0_16', 'oregon-wildlife_virtualdvid_0_20', 'oregon-wildlife_virtualdvid_0_20', 'oregon-wildlife_virtualdvid_0_20', 'oregon-wildlife_virtualdvid_0_20', 'oregon-wildlife_virtualdvid_0_20', 'oregon-wildlife_virtualdvid_0_20', 'perritos_0_10', 'perritos_0_10', 'perritos_0_10', 'perritos_0_10', 'perritos_0_10'], 'topol': [[3, 5, 5, 5, 7, 5, 5, 7, 3, 5, 7, 7, 7, 5, 7, 5, 3, 3, 7, 3, 4, 3, 6, 3, 6, 6, 4, 4, 6, 4, 3, 6, 6, 3, 4, 6, 3, 4, 6, 3, 3, 4, 2, 4, 4], [3, 7, 7, 7, 5, 7, 5, 3, 7, 5, 3, 3, 5, 5, 3, 7, 7, 5, 3, 5, 3, 4, 6, 3, 6, 4, 6, 4, 4, 3, 3, 3, 3, 6, 6, 3, 3, 4, 6, 4, 4, 3, 2, 2, 4], [3, 7, 5, 5, 3, 7, 7, 5, 5, 5, 5, 5, 5, 7, 7, 7, 7, 7, 5, 7, 6, 6, 6, 3, 6, 3, 4, 4, 6, 6, 6, 4, 3, 6, 4, 6, 6, 4, 6, 4, 2, 3, 3, 3, 4], [7, 5, 3, 3, 5, 3, 5, 5, 5, 5, 3, 7, 7, 5, 7, 3, 3, 5, 3, 5, 3, 4, 6, 6, 6, 3, 6, 3, 6, 3, 6, 4, 4, 6, 6, 4, 6, 6, 6, 4, 2, 2, 2, 3, 2], [3, 5, 5, 7, 5, 5, 7, 3, 7, 5, 5, 5, 3, 5, 3, 7, 5, 7, 7, 3, 3, 6, 3, 3, 6, 3, 6, 6, 4, 4, 3, 4, 4, 3, 6, 6, 4, 3, 4, 3, 4, 3, 4, 4, 4], [3, 3, 5, 5, 7, 5, 5, 5, 5, 5, 3, 3, 3, 3, 3, 7, 7, 3, 5, 5, 6, 4, 3, 4, 4, 4, 3, 6, 4, 3, 6, 4, 4, 4, 6, 6, 4, 4, 3, 6, 4, 2, 4, 3, 3], [7, 7, 5, 5, 5, 5, 3, 3, 3, 5, 7, 5, 5, 3, 3, 5, 5, 5, 7, 5, 3, 4, 3, 6, 6, 4, 3, 4, 6, 6, 4, 4, 6, 4, 4, 3, 6, 4, 3, 6, 2, 4, 4, 3, 2], [3, 3, 3, 7, 7, 5, 5, 7, 7, 5, 7, 7, 7, 7, 3, 5, 7, 7, 7, 3, 6, 4, 6, 3, 3, 4, 6, 6, 3, 3, 4, 4, 4, 4, 6, 6, 3, 4, 4, 3, 2, 4, 4, 2, 3], [5, 5, 3, 5, 7, 3, 5, 7, 7, 5, 3, 7, 7, 3, 3, 7, 3, 3, 7, 3, 4, 4, 6, 6, 3, 6, 3, 6, 3, 4, 4, 6, 3, 4, 6, 3, 6, 6, 4, 4, 4, 2, 4, 4, 4], [3, 5, 3, 5, 3, 3, 7, 7, 3, 3, 5, 7, 5, 3, 7, 7, 3, 3, 3, 7, 3, 4, 6, 6, 4, 4, 6, 6, 3, 3, 3, 6, 3, 6, 3, 4, 3, 4, 6, 6, 4, 4, 4, 3, 2], [3, 7, 7, 5, 7, 3, 7, 5, 7, 7, 7, 5, 7, 5, 3, 7, 5, 5, 5, 5, 6, 3, 6, 6, 4, 6, 6, 4, 6, 6, 6, 3, 3, 3, 3, 3, 6, 6, 4, 4, 3, 4, 2, 2, 3], [7, 7, 3, 3, 5, 7, 3, 5, 5, 3, 3, 3, 5, 7, 3, 7, 7, 5, 7, 7, 6, 3, 4, 3, 3, 3, 4, 3, 3, 4, 6, 6, 6, 4, 4, 6, 6, 4, 3, 4, 2, 2, 3, 4, 3], [7, 3, 3, 3, 3, 3, 5, 7, 5, 3, 5, 5, 3, 7, 7, 7, 5, 3, 7, 5, 3, 6, 3, 6, 6, 3, 4, 3, 6, 6, 3, 4, 3, 4, 4, 3, 4, 6, 6, 4, 3, 3, 2, 3, 3], [3, 3, 7, 5, 7, 3, 5, 7, 3, 5, 3, 5, 5, 5, 5, 3, 5, 5, 3, 3, 3, 6, 6, 6, 6, 6, 4, 3, 4, 4, 6, 4, 3, 6, 3, 6, 3, 6, 4, 6, 2, 2, 2, 3, 3], [5, 3, 5, 5, 5, 5, 7, 7, 3, 7, 7, 7, 3, 3, 7, 3, 7, 5, 5, 3, 3, 3, 6, 4, 6, 4, 4, 3, 6, 4, 6, 6, 3, 6, 4, 4, 3, 4, 3, 4, 3, 3, 4, 4, 4], [5, 5, 7, 5, 5, 5, 5, 7, 3, 3, 7, 3, 7, 5, 3, 3, 5, 7, 3, 3, 4, 4, 4, 4, 3, 4, 6, 3, 4, 6, 6, 3, 6, 3, 4, 6, 6, 4, 4, 6, 2, 4, 2, 3, 3], [7, 5, 3, 3, 7, 7, 7, 7, 5, 7, 5, 3, 7, 3, 5, 7, 3, 5, 7, 5, 4, 4, 4, 6, 4, 3, 3, 6, 3, 6, 4, 6, 6, 6, 6, 6, 3, 4, 6, 4, 2, 2, 2, 4, 3], [3, 3, 3, 7, 7, 3, 3, 7, 7, 7, 7, 5, 5, 7, 7, 3, 7, 7, 5, 7, 3, 4, 3, 3, 6, 3, 6, 3, 6, 3, 6, 3, 4, 3, 3, 6, 4, 4, 3, 6, 4, 4, 2, 4, 3], [3, 7, 7, 7, 3, 5, 3, 7, 5, 3, 5, 5, 7, 3, 5, 5, 3, 7, 5, 5, 4, 3, 4, 4, 3, 4, 6, 4, 6, 4, 3, 3, 3, 3, 6, 3, 4, 6, 4, 3, 4, 2, 4, 4, 3], [7, 7, 3, 5, 5, 5, 7, 3, 3, 5, 3, 3, 5, 7, 7, 3, 3, 7, 3, 3, 3, 3, 4, 6, 4, 6, 6, 6, 4, 3, 3, 6, 6, 4, 3, 4, 6, 4, 4, 4, 2, 4, 2, 3, 2], [3, 7, 7, 3, 5, 7, 7, 5, 7, 3, 5, 7, 7, 3, 5, 5, 5, 3, 3, 5, 3, 4, 3, 4, 3, 4, 6, 3, 6, 3, 4, 3, 4, 4, 4, 6, 3, 3, 4, 3, 3, 3, 2, 4, 2], [3, 7, 5, 3, 3, 5, 5, 7, 5, 7, 3, 5, 3, 7, 7, 5, 5, 7, 3, 3, 3, 3, 4, 6, 3, 6, 4, 3, 6, 4, 6, 4, 6, 6, 6, 6, 3, 4, 3, 6, 4, 4, 2, 2, 3], [3, 7, 3, 3, 5, 7, 5, 7, 5, 7, 7, 7, 7, 3, 3, 3, 7, 3, 3, 3, 6, 4, 4, 3, 4, 6, 4, 6, 4, 6, 6, 4, 4, 3, 3, 3, 6, 4, 3, 3, 2, 4, 4, 4, 4], [5, 5, 7, 5, 7, 3, 7, 7, 7, 5, 7, 3, 5, 3, 5, 7, 3, 7, 7, 5, 4, 3, 6, 6, 6, 3, 6, 3, 6, 3, 3, 6, 4, 4, 3, 3, 3, 3, 3, 3, 3, 2, 3, 4, 2], [7, 3, 7, 3, 5, 5, 3, 3, 7, 3, 7, 7, 7, 5, 5, 5, 5, 7, 5, 5, 6, 4, 3, 3, 4, 3, 3, 4, 4, 3, 6, 6, 3, 4, 4, 6, 6, 4, 6, 3, 3, 4, 4, 4, 2], [5, 5, 3, 7, 3, 7, 7, 5, 3, 7, 7, 5, 5, 7, 7, 7, 5, 7, 5, 3, 4, 4, 3, 3, 4, 3, 4, 6, 3, 3, 3, 4, 6, 6, 4, 6, 6, 4, 3, 4, 4, 4, 4, 3, 4], [5, 5, 3, 5, 7, 3, 5, 5, 3, 5, 7, 3, 5, 3, 3, 5, 7, 7, 5, 5, 4, 3, 6, 4, 6, 6, 6, 4, 3, 6, 6, 6, 4, 4, 4, 4, 3, 4, 3, 6, 2, 4, 2, 4, 3], [5, 3, 5, 3, 5, 3, 3, 3, 7, 3, 5, 7, 5, 7, 3, 7, 7, 5, 5, 3, 6, 3, 6, 6, 3, 4, 3, 4, 6, 3, 4, 6, 3, 3, 4, 4, 6, 6, 6, 4, 3, 4, 4, 4, 3], [7, 5, 3, 7, 3, 5, 3, 5, 3, 5, 7, 3, 7, 7, 5, 7, 7, 3, 3, 3, 3, 3, 6, 4, 3, 4, 4, 3, 3, 3, 3, 4, 3, 3, 3, 3, 6, 6, 4, 4, 2, 4, 2, 4, 2], [5, 7, 7, 5, 5, 5, 7, 7, 7, 3, 5, 5, 5, 5, 3, 3, 5, 7, 3, 5, 3, 4, 4, 3, 3, 6, 6, 4, 4, 3, 4, 3, 3, 6, 4, 6, 4, 3, 3, 3, 2, 2, 4, 2, 2], [5, 5, 7, 3, 3, 3, 5, 3, 5, 5, 3, 3, 5, 7, 5, 3, 5, 3, 7, 7, 3, 3, 4, 4, 3, 3, 3, 3, 4, 6, 6, 4, 3, 4, 6, 4, 4, 4, 3, 3, 4, 4, 3, 2, 3], [3, 5, 5, 5, 7, 5, 7, 7, 5, 5, 5, 5, 5, 7, 3, 5, 7, 7, 3, 5, 6, 6, 4, 6, 3, 3, 3, 4, 4, 3, 6, 4, 4, 3, 3, 6, 6, 3, 3, 6, 3, 4, 3, 2, 2], [3, 3, 7, 5, 5, 5, 7, 7, 7, 5, 3, 3, 3, 3, 7, 5, 5, 5, 3, 3, 3, 3, 3, 6, 4, 4, 6, 4, 3, 6, 4, 3, 6, 4, 3, 6, 6, 3, 4, 6, 2, 4, 2, 3, 4], [5, 3, 3, 3, 7, 5, 7, 3, 5, 5, 3, 3, 3, 5, 3, 5, 7, 3, 5, 3, 6, 3, 4, 6, 3, 6, 4, 3, 4, 3, 4, 4, 6, 3, 4, 4, 3, 3, 6, 6, 2, 3, 3, 2, 2], [3, 7, 3, 5, 3, 7, 5, 3, 7, 7, 3, 5, 5, 3, 7, 5, 5, 7, 7, 7, 4, 6, 6, 3, 6, 6, 4, 4, 3, 6, 6, 6, 3, 3, 3, 4, 4, 6, 3, 3, 2, 4, 3, 4, 3], [3, 3, 3, 5, 3, 3, 3, 5, 7, 3, 7, 5, 3, 7, 5, 3, 7, 7, 3, 7, 6, 3, 3, 6, 3, 6, 6, 3, 6, 6, 4, 4, 4, 3, 6, 3, 6, 3, 3, 6, 2, 3, 4, 4, 4], [5, 7, 3, 7, 3, 7, 5, 5, 5, 7, 7, 3, 3, 3, 7, 3, 5, 5, 3, 5, 6, 4, 6, 6, 6, 4, 6, 3, 4, 4, 3, 3, 6, 6, 4, 3, 4, 3, 6, 4, 2, 2, 3, 4, 3], [3, 3, 3, 3, 5, 7, 5, 3, 3, 7, 3, 3, 5, 3, 3, 3, 3, 3, 3, 3, 6, 3, 6, 4, 4, 3, 6, 6, 3, 6, 6, 3, 6, 6, 6, 3, 4, 3, 3, 4, 4, 3, 2, 4, 2], [5, 5, 7, 3, 3, 3, 7, 5, 7, 7, 3, 7, 5, 3, 5, 7, 7, 5, 5, 5, 4, 4, 3, 4, 3, 3, 6, 6, 6, 3, 4, 6, 6, 3, 3, 4, 6, 6, 6, 3, 2, 3, 3, 2, 3], [3, 3, 3, 3, 5, 3, 5, 3, 7, 3, 5, 5, 7, 3, 5, 7, 3, 5, 5, 7, 4, 3, 6, 4, 3, 6, 6, 4, 4, 4, 3, 6, 6, 3, 3, 6, 3, 3, 6, 6, 3, 2, 2, 4, 3], [3, 7, 5, 5, 7, 5, 7, 3, 3, 5, 5, 3, 5, 3, 5, 3, 3, 7, 3, 3, 3, 4, 4, 6, 6, 6, 3, 6, 6, 4, 3, 6, 6, 6, 6, 4, 3, 3, 3, 6, 3, 4, 4, 4, 2]], 'f_emb': [tensor([-0., -0., -0.,  ..., -0., -0., -0.]), tensor([-0., -0., -0.,  ..., -0., -0., -0.]), tensor([1226.8495,   -0.0000,   -0.0000,  ...,   -0.0000,   -0.0000,\n",
      "          -0.0000]), tensor([-0., -0., -0.,  ..., -0., -0., -0.]), tensor([188.3607,  -0.0000,  -0.0000,  ...,  -0.0000,  -0.0000, 213.2732]), tensor([-0., -0., -0.,  ..., -0., -0., -0.]), tensor([-0., -0., -0.,  ..., -0., -0., -0.]), tensor([-0.0000, -0.0000, -0.0000,  ..., -0.0000, -0.0000, 9.9611]), tensor([38.6843, -0.0000, -0.0000,  ..., -0.0000, -0.0000, -0.0000]), tensor([ 0.5262, -0.3664,  0.4536,  ..., -0.3597, -0.2121, -0.3281]), tensor([-0., -0., -0.,  ..., -0., -0., -0.]), tensor([-0.0000, -0.0000, -0.0000,  ..., 30.1783, -0.0000,  3.6916]), tensor([-0., -0., -0.,  ..., -0., -0., -0.]), tensor([-0., -0., -0.,  ..., -0., -0., -0.]), tensor([18.3999, -0.0000, -0.0000,  ..., -0.0000, -0.0000, 45.3672]), tensor([ 0.2349,  0.1743,  0.1660,  ...,  0.3616,  0.0957, -0.3534]), tensor([-0.2793, -0.3249, -0.3683,  ..., -0.0000, -0.0000, -0.3627]), tensor([ 0.0759, -0.3346, -0.2591,  ...,  0.4824, -0.2551, -0.1757]), tensor([ 0.4264, -0.1865, -0.1025,  ..., -0.1637,  0.7777, -0.3373]), tensor([ 0.4347, -0.2336, -0.2793,  ..., -0.3347, -0.3469, -0.1162]), tensor([ 0.0104,  0.4655, -0.3177,  ..., -0.1076,  0.8267, -0.3667]), tensor([ 0.0873,  0.1475, -0.3670,  ..., -0.1698,  0.0327, -0.3572]), tensor([322.7029,  -0.0000,  83.4842,  ...,  -0.0000,  -0.0000,  -0.0000]), tensor([-0.3365, -0.0309, -0.3139,  ...,  0.1455, -0.3260, -0.3622]), tensor([-0.0000, -0.0000, -0.0000,  ..., -0.0000, -0.0000, 3.1642]), tensor([    -0.0000,     -0.0000, 159417.2812,  ...,     -0.0000,\n",
      "            -0.0000, 179515.1562]), tensor([-0.0014, -0.3527, -0.0000,  ..., -0.0000, -0.0000, -0.0000]), tensor([6770305.5000,      -0.0000,      -0.0000,  ...,      -0.0000,\n",
      "             -0.0000,      -0.0000]), tensor([1609.9169,   -0.0000,   -0.0000,  ...,   -0.0000,   -0.0000,\n"
     ]
    },
    {
     "name": "stderr",
     "output_type": "stream",
     "text": [
      "Using cache found in /root/.cache/torch/hub/mit-han-lab_once-for-all_master\n"
     ]
    },
    {
     "name": "stdout",
     "output_type": "stream",
     "text": [
      "          -0.0000]), tensor([-0., -0., -0.,  ..., -0., -0., -0.]), tensor([-0.0067, -0.3482, -0.3706,  ..., -0.3683, -0.0611,  0.0504]), tensor([ 1.4714, -0.0000, -0.0945,  ..., -0.2832, -0.0000, -0.3679]), tensor([ 1.7539, 21.7252, -0.0000,  ..., -0.0000, -0.0000, 13.5089]), tensor([-0.3179, -0.3455, -0.3743,  ..., -0.2527,  0.1497, -0.0043]), tensor([-0.3241, -0.2744, -0.1231,  ..., -0.1582, -0.2237, -0.0000]), tensor([-0.1600,  3.9948, -0.0000,  ..., -0.0000, -0.0000,  8.6842]), tensor([-0.1209,  0.0394, -0.3112,  ..., -0.2695, -0.1538, -0.1348]), tensor([255.8073,  -0.0000, 140.1278,  ...,  -0.0000,  -0.0000,  -0.0000]), tensor([-0., -0., -0.,  ..., -0., -0., -0.]), tensor([-0.0667, -0.2547, -0.3669,  ...,  0.1411, -0.0529, -0.0764]), tensor([ 0.0093, -0.3176, -0.3739,  ..., -0.1065,  0.4898, -0.3551])], 'acc': [99.51923076923077, 99.03846153846153, 99.51923076923077, 99.51923076923077, 99.51923076923077, 99.51923076923077, 98.38709677419355, 96.7741935483871, 98.38709677419355, 98.38709677419355, 8.064516129032258, 96.7741935483871, 77.08333333333333, 76.4423076923077, 78.68589743589743, 77.40384615384616, 77.24358974358974, 78.36538461538461, 94.23076923076923, 75.64102564102564, 90.7051282051282, 94.23076923076923, 91.34615384615384, 94.23076923076923, 99.52978056426332, 99.3730407523511, 99.68652037617555, 99.68652037617555, 100.0, 99.3730407523511, 84.88700564971751, 87.99435028248588, 86.7231638418079, 85.73446327683615, 87.99435028248588, 86.44067796610169, 96.6740576496674, 97.11751662971176, 97.00665188470066, 97.22838137472284, 96.6740576496674], 'n_params': [6228442, 5625114, 6570290, 5347354, 5825218, 4821626, 4711646, 4554646, 6688342, 4317614, 5203934, 5550702, 5717244, 5151700, 5773028, 5059684, 6364428, 4930308, 5608818, 4493962, 4318938, 4537954, 5514050, 3861938, 5155304, 6005320, 4798208, 6420784, 4792312, 3845304, 4249220, 3881348, 5982340, 3517428, 5327428, 6367692, 5599490, 4745802, 5815994, 5362738, 5007786]}\n",
      "\n",
      "=====> Generating 6th network  <=====\n",
      "\n",
      "\n",
      "=====>Generating sub_net<=====\n",
      "\n",
      "\n",
      "=====> Training started <=====\n",
      "\n",
      "Starting Training for:perritos_0_10 with model topology:[5, 7, 3, 3, 7, 5, 7, 5, 3, 3, 5, 5, 7, 3, 3, 7, 7, 3, 5, 5, 6, 3, 6, 6, 6, 3, 6, 6, 4, 3, 6, 3, 3, 3, 3, 3, 4, 6, 3, 3, 2, 2, 4, 2, 3]\n"
     ]
    },
    {
     "name": "stderr",
     "output_type": "stream",
     "text": [
      "226it [00:30,  7.45it/s]\n",
      "29it [00:02, 13.64it/s]\n"
     ]
    },
    {
     "name": "stdout",
     "output_type": "stream",
     "text": [
      "\n",
      "Epoch: 1/15, Train Loss: 16.05518520 , Val Loss: 5.52718963, Train Accuracy:87.69401330,  Val Accuracy: 94.34589800, Epoch Time: 32.72735596\n"
     ]
    },
    {
     "name": "stderr",
     "output_type": "stream",
     "text": [
      "226it [00:30,  7.45it/s]\n",
      "29it [00:02, 14.24it/s]\n"
     ]
    },
    {
     "name": "stdout",
     "output_type": "stream",
     "text": [
      "\n",
      "Epoch: 2/15, Train Loss: 4.55949201 , Val Loss: 4.66125120, Train Accuracy:95.34368071,  Val Accuracy: 94.56762749, Epoch Time: 32.63110137\n"
     ]
    },
    {
     "name": "stderr",
     "output_type": "stream",
     "text": [
      "226it [00:30,  7.43it/s]\n",
      "29it [00:02, 13.35it/s]\n"
     ]
    },
    {
     "name": "stdout",
     "output_type": "stream",
     "text": [
      "\n",
      "Epoch: 3/15, Train Loss: 2.57341676 , Val Loss: 4.38705996, Train Accuracy:97.51940133,  Val Accuracy: 95.12195122, Epoch Time: 32.84805226\n"
     ]
    },
    {
     "name": "stderr",
     "output_type": "stream",
     "text": [
      "226it [00:30,  7.45it/s]\n",
      "29it [00:02, 14.10it/s]\n"
     ]
    },
    {
     "name": "stdout",
     "output_type": "stream",
     "text": [
      "\n",
      "Epoch: 4/15, Train Loss: 1.63523476 , Val Loss: 4.35850653, Train Accuracy:98.72505543,  Val Accuracy: 95.45454545, Epoch Time: 32.68384409\n"
     ]
    },
    {
     "name": "stderr",
     "output_type": "stream",
     "text": [
      "226it [00:30,  7.43it/s]\n",
      "29it [00:02, 14.26it/s]\n"
     ]
    },
    {
     "name": "stdout",
     "output_type": "stream",
     "text": [
      "\n",
      "Epoch: 5/15, Train Loss: 0.97830353 , Val Loss: 4.00598467, Train Accuracy:99.41796009,  Val Accuracy: 96.45232816, Epoch Time: 32.71874595\n"
     ]
    },
    {
     "name": "stderr",
     "output_type": "stream",
     "text": [
      "226it [00:30,  7.44it/s]\n",
      "29it [00:02, 13.85it/s]\n"
     ]
    },
    {
     "name": "stdout",
     "output_type": "stream",
     "text": [
      "\n",
      "Epoch: 6/15, Train Loss: 0.68730574 , Val Loss: 5.29659701, Train Accuracy:99.57039911,  Val Accuracy: 94.34589800, Epoch Time: 32.70970488\n"
     ]
    },
    {
     "name": "stderr",
     "output_type": "stream",
     "text": [
      "226it [00:30,  7.45it/s]\n",
      "29it [00:02, 13.93it/s]\n"
     ]
    },
    {
     "name": "stdout",
     "output_type": "stream",
     "text": [
      "\n",
      "Epoch: 7/15, Train Loss: 0.53506550 , Val Loss: 4.19212129, Train Accuracy:99.75055432,  Val Accuracy: 95.67627494, Epoch Time: 32.68526196\n"
     ]
    },
    {
     "name": "stderr",
     "output_type": "stream",
     "text": [
      "226it [00:30,  7.44it/s]\n",
      "29it [00:02, 13.61it/s]\n"
     ]
    },
    {
     "name": "stdout",
     "output_type": "stream",
     "text": [
      "\n",
      "Epoch: 8/15, Train Loss: 0.38842834 , Val Loss: 4.62953535, Train Accuracy:99.81984479,  Val Accuracy: 95.45454545, Epoch Time: 32.72794938\n"
     ]
    },
    {
     "name": "stderr",
     "output_type": "stream",
     "text": [
      "226it [00:30,  7.44it/s]\n",
      "29it [00:02, 14.01it/s]\n"
     ]
    },
    {
     "name": "stdout",
     "output_type": "stream",
     "text": [
      "\n",
      "Epoch: 9/15, Train Loss: 0.32177792 , Val Loss: 4.45719382, Train Accuracy:99.80598670,  Val Accuracy: 95.45454545, Epoch Time: 32.68585539\n"
     ]
    },
    {
     "name": "stderr",
     "output_type": "stream",
     "text": [
      "226it [00:30,  7.43it/s]\n",
      "29it [00:02, 13.88it/s]\n"
     ]
    },
    {
     "name": "stdout",
     "output_type": "stream",
     "text": [
      "\n",
      "Epoch: 10/15, Train Loss: 0.27523882 , Val Loss: 4.33815948, Train Accuracy:99.90299335,  Val Accuracy: 95.56541020, Epoch Time: 32.77836919\n",
      "Early stopping on, 9th, epoch\n",
      "\n",
      "=====>Generating f_emb<=====\n",
      "\n",
      "torch.Size([1536])\n",
      "{'dataset': ['sldc_0_10', 'sldc_0_10', 'sldc_0_10', 'sldc_0_10', 'sldc_0_10', 'sldc_0_10', 'corales_0_14', 'corales_0_14', 'corales_0_14', 'corales_0_14', 'corales_0_14', 'corales_0_14', '6000-store-items-images-classified-by-color_imoore_0_12', '6000-store-items-images-classified-by-color_imoore_0_12', '6000-store-items-images-classified-by-color_imoore_0_12', '6000-store-items-images-classified-by-color_imoore_0_12', '6000-store-items-images-classified-by-color_imoore_0_12', '6000-store-items-images-classified-by-color_imoore_0_12', 'fcis-sc-deeplearning-competition_0_10', 'fcis-sc-deeplearning-competition_0_10', 'fcis-sc-deeplearning-competition_0_10', 'fcis-sc-deeplearning-competition_0_10', 'fcis-sc-deeplearning-competition_0_10', 'fcis-sc-deeplearning-competition_0_10', 'lego-brick-images_joosthazelzet_0_16', 'lego-brick-images_joosthazelzet_0_16', 'lego-brick-images_joosthazelzet_0_16', 'lego-brick-images_joosthazelzet_0_16', 'lego-brick-images_joosthazelzet_0_16', 'lego-brick-images_joosthazelzet_0_16', 'oregon-wildlife_virtualdvid_0_20', 'oregon-wildlife_virtualdvid_0_20', 'oregon-wildlife_virtualdvid_0_20', 'oregon-wildlife_virtualdvid_0_20', 'oregon-wildlife_virtualdvid_0_20', 'oregon-wildlife_virtualdvid_0_20', 'perritos_0_10', 'perritos_0_10', 'perritos_0_10', 'perritos_0_10', 'perritos_0_10', 'perritos_0_10'], 'topol': [[3, 5, 5, 5, 7, 5, 5, 7, 3, 5, 7, 7, 7, 5, 7, 5, 3, 3, 7, 3, 4, 3, 6, 3, 6, 6, 4, 4, 6, 4, 3, 6, 6, 3, 4, 6, 3, 4, 6, 3, 3, 4, 2, 4, 4], [3, 7, 7, 7, 5, 7, 5, 3, 7, 5, 3, 3, 5, 5, 3, 7, 7, 5, 3, 5, 3, 4, 6, 3, 6, 4, 6, 4, 4, 3, 3, 3, 3, 6, 6, 3, 3, 4, 6, 4, 4, 3, 2, 2, 4], [3, 7, 5, 5, 3, 7, 7, 5, 5, 5, 5, 5, 5, 7, 7, 7, 7, 7, 5, 7, 6, 6, 6, 3, 6, 3, 4, 4, 6, 6, 6, 4, 3, 6, 4, 6, 6, 4, 6, 4, 2, 3, 3, 3, 4], [7, 5, 3, 3, 5, 3, 5, 5, 5, 5, 3, 7, 7, 5, 7, 3, 3, 5, 3, 5, 3, 4, 6, 6, 6, 3, 6, 3, 6, 3, 6, 4, 4, 6, 6, 4, 6, 6, 6, 4, 2, 2, 2, 3, 2], [3, 5, 5, 7, 5, 5, 7, 3, 7, 5, 5, 5, 3, 5, 3, 7, 5, 7, 7, 3, 3, 6, 3, 3, 6, 3, 6, 6, 4, 4, 3, 4, 4, 3, 6, 6, 4, 3, 4, 3, 4, 3, 4, 4, 4], [3, 3, 5, 5, 7, 5, 5, 5, 5, 5, 3, 3, 3, 3, 3, 7, 7, 3, 5, 5, 6, 4, 3, 4, 4, 4, 3, 6, 4, 3, 6, 4, 4, 4, 6, 6, 4, 4, 3, 6, 4, 2, 4, 3, 3], [7, 7, 5, 5, 5, 5, 3, 3, 3, 5, 7, 5, 5, 3, 3, 5, 5, 5, 7, 5, 3, 4, 3, 6, 6, 4, 3, 4, 6, 6, 4, 4, 6, 4, 4, 3, 6, 4, 3, 6, 2, 4, 4, 3, 2], [3, 3, 3, 7, 7, 5, 5, 7, 7, 5, 7, 7, 7, 7, 3, 5, 7, 7, 7, 3, 6, 4, 6, 3, 3, 4, 6, 6, 3, 3, 4, 4, 4, 4, 6, 6, 3, 4, 4, 3, 2, 4, 4, 2, 3], [5, 5, 3, 5, 7, 3, 5, 7, 7, 5, 3, 7, 7, 3, 3, 7, 3, 3, 7, 3, 4, 4, 6, 6, 3, 6, 3, 6, 3, 4, 4, 6, 3, 4, 6, 3, 6, 6, 4, 4, 4, 2, 4, 4, 4], [3, 5, 3, 5, 3, 3, 7, 7, 3, 3, 5, 7, 5, 3, 7, 7, 3, 3, 3, 7, 3, 4, 6, 6, 4, 4, 6, 6, 3, 3, 3, 6, 3, 6, 3, 4, 3, 4, 6, 6, 4, 4, 4, 3, 2], [3, 7, 7, 5, 7, 3, 7, 5, 7, 7, 7, 5, 7, 5, 3, 7, 5, 5, 5, 5, 6, 3, 6, 6, 4, 6, 6, 4, 6, 6, 6, 3, 3, 3, 3, 3, 6, 6, 4, 4, 3, 4, 2, 2, 3], [7, 7, 3, 3, 5, 7, 3, 5, 5, 3, 3, 3, 5, 7, 3, 7, 7, 5, 7, 7, 6, 3, 4, 3, 3, 3, 4, 3, 3, 4, 6, 6, 6, 4, 4, 6, 6, 4, 3, 4, 2, 2, 3, 4, 3], [7, 3, 3, 3, 3, 3, 5, 7, 5, 3, 5, 5, 3, 7, 7, 7, 5, 3, 7, 5, 3, 6, 3, 6, 6, 3, 4, 3, 6, 6, 3, 4, 3, 4, 4, 3, 4, 6, 6, 4, 3, 3, 2, 3, 3], [3, 3, 7, 5, 7, 3, 5, 7, 3, 5, 3, 5, 5, 5, 5, 3, 5, 5, 3, 3, 3, 6, 6, 6, 6, 6, 4, 3, 4, 4, 6, 4, 3, 6, 3, 6, 3, 6, 4, 6, 2, 2, 2, 3, 3], [5, 3, 5, 5, 5, 5, 7, 7, 3, 7, 7, 7, 3, 3, 7, 3, 7, 5, 5, 3, 3, 3, 6, 4, 6, 4, 4, 3, 6, 4, 6, 6, 3, 6, 4, 4, 3, 4, 3, 4, 3, 3, 4, 4, 4], [5, 5, 7, 5, 5, 5, 5, 7, 3, 3, 7, 3, 7, 5, 3, 3, 5, 7, 3, 3, 4, 4, 4, 4, 3, 4, 6, 3, 4, 6, 6, 3, 6, 3, 4, 6, 6, 4, 4, 6, 2, 4, 2, 3, 3], [7, 5, 3, 3, 7, 7, 7, 7, 5, 7, 5, 3, 7, 3, 5, 7, 3, 5, 7, 5, 4, 4, 4, 6, 4, 3, 3, 6, 3, 6, 4, 6, 6, 6, 6, 6, 3, 4, 6, 4, 2, 2, 2, 4, 3], [3, 3, 3, 7, 7, 3, 3, 7, 7, 7, 7, 5, 5, 7, 7, 3, 7, 7, 5, 7, 3, 4, 3, 3, 6, 3, 6, 3, 6, 3, 6, 3, 4, 3, 3, 6, 4, 4, 3, 6, 4, 4, 2, 4, 3], [3, 7, 7, 7, 3, 5, 3, 7, 5, 3, 5, 5, 7, 3, 5, 5, 3, 7, 5, 5, 4, 3, 4, 4, 3, 4, 6, 4, 6, 4, 3, 3, 3, 3, 6, 3, 4, 6, 4, 3, 4, 2, 4, 4, 3], [7, 7, 3, 5, 5, 5, 7, 3, 3, 5, 3, 3, 5, 7, 7, 3, 3, 7, 3, 3, 3, 3, 4, 6, 4, 6, 6, 6, 4, 3, 3, 6, 6, 4, 3, 4, 6, 4, 4, 4, 2, 4, 2, 3, 2], [3, 7, 7, 3, 5, 7, 7, 5, 7, 3, 5, 7, 7, 3, 5, 5, 5, 3, 3, 5, 3, 4, 3, 4, 3, 4, 6, 3, 6, 3, 4, 3, 4, 4, 4, 6, 3, 3, 4, 3, 3, 3, 2, 4, 2], [3, 7, 5, 3, 3, 5, 5, 7, 5, 7, 3, 5, 3, 7, 7, 5, 5, 7, 3, 3, 3, 3, 4, 6, 3, 6, 4, 3, 6, 4, 6, 4, 6, 6, 6, 6, 3, 4, 3, 6, 4, 4, 2, 2, 3], [3, 7, 3, 3, 5, 7, 5, 7, 5, 7, 7, 7, 7, 3, 3, 3, 7, 3, 3, 3, 6, 4, 4, 3, 4, 6, 4, 6, 4, 6, 6, 4, 4, 3, 3, 3, 6, 4, 3, 3, 2, 4, 4, 4, 4], [5, 5, 7, 5, 7, 3, 7, 7, 7, 5, 7, 3, 5, 3, 5, 7, 3, 7, 7, 5, 4, 3, 6, 6, 6, 3, 6, 3, 6, 3, 3, 6, 4, 4, 3, 3, 3, 3, 3, 3, 3, 2, 3, 4, 2], [7, 3, 7, 3, 5, 5, 3, 3, 7, 3, 7, 7, 7, 5, 5, 5, 5, 7, 5, 5, 6, 4, 3, 3, 4, 3, 3, 4, 4, 3, 6, 6, 3, 4, 4, 6, 6, 4, 6, 3, 3, 4, 4, 4, 2], [5, 5, 3, 7, 3, 7, 7, 5, 3, 7, 7, 5, 5, 7, 7, 7, 5, 7, 5, 3, 4, 4, 3, 3, 4, 3, 4, 6, 3, 3, 3, 4, 6, 6, 4, 6, 6, 4, 3, 4, 4, 4, 4, 3, 4], [5, 5, 3, 5, 7, 3, 5, 5, 3, 5, 7, 3, 5, 3, 3, 5, 7, 7, 5, 5, 4, 3, 6, 4, 6, 6, 6, 4, 3, 6, 6, 6, 4, 4, 4, 4, 3, 4, 3, 6, 2, 4, 2, 4, 3], [5, 3, 5, 3, 5, 3, 3, 3, 7, 3, 5, 7, 5, 7, 3, 7, 7, 5, 5, 3, 6, 3, 6, 6, 3, 4, 3, 4, 6, 3, 4, 6, 3, 3, 4, 4, 6, 6, 6, 4, 3, 4, 4, 4, 3], [7, 5, 3, 7, 3, 5, 3, 5, 3, 5, 7, 3, 7, 7, 5, 7, 7, 3, 3, 3, 3, 3, 6, 4, 3, 4, 4, 3, 3, 3, 3, 4, 3, 3, 3, 3, 6, 6, 4, 4, 2, 4, 2, 4, 2], [5, 7, 7, 5, 5, 5, 7, 7, 7, 3, 5, 5, 5, 5, 3, 3, 5, 7, 3, 5, 3, 4, 4, 3, 3, 6, 6, 4, 4, 3, 4, 3, 3, 6, 4, 6, 4, 3, 3, 3, 2, 2, 4, 2, 2], [5, 5, 7, 3, 3, 3, 5, 3, 5, 5, 3, 3, 5, 7, 5, 3, 5, 3, 7, 7, 3, 3, 4, 4, 3, 3, 3, 3, 4, 6, 6, 4, 3, 4, 6, 4, 4, 4, 3, 3, 4, 4, 3, 2, 3], [3, 5, 5, 5, 7, 5, 7, 7, 5, 5, 5, 5, 5, 7, 3, 5, 7, 7, 3, 5, 6, 6, 4, 6, 3, 3, 3, 4, 4, 3, 6, 4, 4, 3, 3, 6, 6, 3, 3, 6, 3, 4, 3, 2, 2], [3, 3, 7, 5, 5, 5, 7, 7, 7, 5, 3, 3, 3, 3, 7, 5, 5, 5, 3, 3, 3, 3, 3, 6, 4, 4, 6, 4, 3, 6, 4, 3, 6, 4, 3, 6, 6, 3, 4, 6, 2, 4, 2, 3, 4], [5, 3, 3, 3, 7, 5, 7, 3, 5, 5, 3, 3, 3, 5, 3, 5, 7, 3, 5, 3, 6, 3, 4, 6, 3, 6, 4, 3, 4, 3, 4, 4, 6, 3, 4, 4, 3, 3, 6, 6, 2, 3, 3, 2, 2], [3, 7, 3, 5, 3, 7, 5, 3, 7, 7, 3, 5, 5, 3, 7, 5, 5, 7, 7, 7, 4, 6, 6, 3, 6, 6, 4, 4, 3, 6, 6, 6, 3, 3, 3, 4, 4, 6, 3, 3, 2, 4, 3, 4, 3], [3, 3, 3, 5, 3, 3, 3, 5, 7, 3, 7, 5, 3, 7, 5, 3, 7, 7, 3, 7, 6, 3, 3, 6, 3, 6, 6, 3, 6, 6, 4, 4, 4, 3, 6, 3, 6, 3, 3, 6, 2, 3, 4, 4, 4], [5, 7, 3, 7, 3, 7, 5, 5, 5, 7, 7, 3, 3, 3, 7, 3, 5, 5, 3, 5, 6, 4, 6, 6, 6, 4, 6, 3, 4, 4, 3, 3, 6, 6, 4, 3, 4, 3, 6, 4, 2, 2, 3, 4, 3], [3, 3, 3, 3, 5, 7, 5, 3, 3, 7, 3, 3, 5, 3, 3, 3, 3, 3, 3, 3, 6, 3, 6, 4, 4, 3, 6, 6, 3, 6, 6, 3, 6, 6, 6, 3, 4, 3, 3, 4, 4, 3, 2, 4, 2], [5, 5, 7, 3, 3, 3, 7, 5, 7, 7, 3, 7, 5, 3, 5, 7, 7, 5, 5, 5, 4, 4, 3, 4, 3, 3, 6, 6, 6, 3, 4, 6, 6, 3, 3, 4, 6, 6, 6, 3, 2, 3, 3, 2, 3], [3, 3, 3, 3, 5, 3, 5, 3, 7, 3, 5, 5, 7, 3, 5, 7, 3, 5, 5, 7, 4, 3, 6, 4, 3, 6, 6, 4, 4, 4, 3, 6, 6, 3, 3, 6, 3, 3, 6, 6, 3, 2, 2, 4, 3], [3, 7, 5, 5, 7, 5, 7, 3, 3, 5, 5, 3, 5, 3, 5, 3, 3, 7, 3, 3, 3, 4, 4, 6, 6, 6, 3, 6, 6, 4, 3, 6, 6, 6, 6, 4, 3, 3, 3, 6, 3, 4, 4, 4, 2], [5, 7, 3, 3, 7, 5, 7, 5, 3, 3, 5, 5, 7, 3, 3, 7, 7, 3, 5, 5, 6, 3, 6, 6, 6, 3, 6, 6, 4, 3, 6, 3, 3, 3, 3, 3, 4, 6, 3, 3, 2, 2, 4, 2, 3]], 'f_emb': [tensor([-0., -0., -0.,  ..., -0., -0., -0.]), tensor([-0., -0., -0.,  ..., -0., -0., -0.]), tensor([1226.8495,   -0.0000,   -0.0000,  ...,   -0.0000,   -0.0000,\n",
      "          -0.0000]), tensor([-0., -0., -0.,  ..., -0., -0., -0.]), tensor([188.3607,  -0.0000,  -0.0000,  ...,  -0.0000,  -0.0000, 213.2732]), tensor([-0., -0., -0.,  ..., -0., -0., -0.]), tensor([-0., -0., -0.,  ..., -0., -0., -0.]), tensor([-0.0000, -0.0000, -0.0000,  ..., -0.0000, -0.0000, 9.9611]), tensor([38.6843, -0.0000, -0.0000,  ..., -0.0000, -0.0000, -0.0000]), tensor([ 0.5262, -0.3664,  0.4536,  ..., -0.3597, -0.2121, -0.3281]), tensor([-0., -0., -0.,  ..., -0., -0., -0.]), tensor([-0.0000, -0.0000, -0.0000,  ..., 30.1783, -0.0000,  3.6916]), tensor([-0., -0., -0.,  ..., -0., -0., -0.]), tensor([-0., -0., -0.,  ..., -0., -0., -0.]), tensor([18.3999, -0.0000, -0.0000,  ..., -0.0000, -0.0000, 45.3672]), tensor([ 0.2349,  0.1743,  0.1660,  ...,  0.3616,  0.0957, -0.3534]), tensor([-0.2793, -0.3249, -0.3683,  ..., -0.0000, -0.0000, -0.3627]), tensor([ 0.0759, -0.3346, -0.2591,  ...,  0.4824, -0.2551, -0.1757]), tensor([ 0.4264, -0.1865, -0.1025,  ..., -0.1637,  0.7777, -0.3373]), tensor([ 0.4347, -0.2336, -0.2793,  ..., -0.3347, -0.3469, -0.1162]), tensor([ 0.0104,  0.4655, -0.3177,  ..., -0.1076,  0.8267, -0.3667]), tensor([ 0.0873,  0.1475, -0.3670,  ..., -0.1698,  0.0327, -0.3572]), tensor([322.7029,  -0.0000,  83.4842,  ...,  -0.0000,  -0.0000,  -0.0000]), tensor([-0.3365, -0.0309, -0.3139,  ...,  0.1455, -0.3260, -0.3622]), tensor([-0.0000, -0.0000, -0.0000,  ..., -0.0000, -0.0000, 3.1642]), tensor([    -0.0000,     -0.0000, 159417.2812,  ...,     -0.0000,\n",
      "            -0.0000, 179515.1562]), tensor([-0.0014, -0.3527, -0.0000,  ..., -0.0000, -0.0000, -0.0000]), tensor([6770305.5000,      -0.0000,      -0.0000,  ...,      -0.0000,\n",
      "             -0.0000,      -0.0000]), tensor([1609.9169,   -0.0000,   -0.0000,  ...,   -0.0000,   -0.0000,\n",
      "          -0.0000]), tensor([-0., -0., -0.,  ..., -0., -0., -0.]), tensor([-0.0067, -0.3482, -0.3706,  ..., -0.3683, -0.0611,  0.0504]), tensor([ 1.4714, -0.0000, -0.0945,  ..., -0.2832, -0.0000, -0.3679]), tensor([ 1.7539, 21.7252, -0.0000,  ..., -0.0000, -0.0000, 13.5089]), tensor([-0.3179, -0.3455, -0.3743,  ..., -0.2527,  0.1497, -0.0043]), tensor([-0.3241, -0.2744, -0.1231,  ..., -0.1582, -0.2237, -0.0000]), tensor([-0.1600,  3.9948, -0.0000,  ..., -0.0000, -0.0000,  8.6842]), tensor([-0.1209,  0.0394, -0.3112,  ..., -0.2695, -0.1538, -0.1348]), tensor([255.8073,  -0.0000, 140.1278,  ...,  -0.0000,  -0.0000,  -0.0000]), tensor([-0., -0., -0.,  ..., -0., -0., -0.]), tensor([-0.0667, -0.2547, -0.3669,  ...,  0.1411, -0.0529, -0.0764]), tensor([ 0.0093, -0.3176, -0.3739,  ..., -0.1065,  0.4898, -0.3551]), tensor([-0.3701, -0.1757, -0.3706,  ..., -0.3319, -0.2591,  0.1290])], 'acc': [99.51923076923077, 99.03846153846153, 99.51923076923077, 99.51923076923077, 99.51923076923077, 99.51923076923077, 98.38709677419355, 96.7741935483871, 98.38709677419355, 98.38709677419355, 8.064516129032258, 96.7741935483871, 77.08333333333333, 76.4423076923077, 78.68589743589743, 77.40384615384616, 77.24358974358974, 78.36538461538461, 94.23076923076923, 75.64102564102564, 90.7051282051282, 94.23076923076923, 91.34615384615384, 94.23076923076923, 99.52978056426332, 99.3730407523511, 99.68652037617555, 99.68652037617555, 100.0, 99.3730407523511, 84.88700564971751, 87.99435028248588, 86.7231638418079, 85.73446327683615, 87.99435028248588, 86.44067796610169, 96.6740576496674, 97.11751662971176, 97.00665188470066, 97.22838137472284, 96.6740576496674, 95.56541019955654], 'n_params': [6228442, 5625114, 6570290, 5347354, 5825218, 4821626, 4711646, 4554646, 6688342, 4317614, 5203934, 5550702, 5717244, 5151700, 5773028, 5059684, 6364428, 4930308, 5608818, 4493962, 4318938, 4537954, 5514050, 3861938, 5155304, 6005320, 4798208, 6420784, 4792312, 3845304, 4249220, 3881348, 5982340, 3517428, 5327428, 6367692, 5599490, 4745802, 5815994, 5362738, 5007786, 4598522]}\n",
      "\n",
      "=====> GENERATING QUERIES <=====\n",
      "\n",
      "query_shape_train: 32, each tensor:torch.Size([512])\n"
     ]
    },
    {
     "name": "stderr",
     "output_type": "stream",
     "text": [
      "Using cache found in /root/.cache/torch/hub/mit-han-lab_once-for-all_master\n"
     ]
    },
    {
     "name": "stdout",
     "output_type": "stream",
     "text": [
      "query_shape_test: 32, each tensor:torch.Size([512])\n",
      "x_query:32, x_query-test :32\n",
      "\n",
      "=====>SAVING perritos_0_10 in m_train.pt <=====\n",
      "\n",
      "quesry_dataset khu-deep-learning-competition_0_10\n",
      "\n",
      "Dataset : khu-deep-learning-competition_0_10, nclss:10\n",
      "\n",
      "\n",
      "=====> Generating 1th network  <=====\n",
      "\n",
      "\n",
      "=====>Generating sub_net<=====\n",
      "\n",
      "\n",
      "=====> Training started <=====\n",
      "\n",
      "Starting Training for:khu-deep-learning-competition_0_10 with model topology:[3, 7, 5, 5, 5, 3, 7, 5, 7, 5, 3, 3, 5, 3, 3, 7, 3, 7, 3, 5, 3, 4, 3, 6, 4, 3, 3, 4, 4, 6, 6, 3, 3, 3, 6, 6, 4, 4, 3, 6, 4, 4, 4, 3, 4]\n"
     ]
    },
    {
     "name": "stderr",
     "output_type": "stream",
     "text": [
      "125it [00:20,  6.03it/s]\n",
      "16it [00:01, 10.96it/s]\n"
     ]
    },
    {
     "name": "stdout",
     "output_type": "stream",
     "text": [
      "\n",
      "Epoch: 1/15, Train Loss: 25.92999308 , Val Loss: 8.42722962, Train Accuracy:80.47500000,  Val Accuracy: 90.00000000, Epoch Time: 22.42423439\n"
     ]
    },
    {
     "name": "stderr",
     "output_type": "stream",
     "text": [
      "125it [00:20,  6.05it/s]\n",
      "16it [00:01, 15.16it/s]\n"
     ]
    },
    {
     "name": "stdout",
     "output_type": "stream",
     "text": [
      "\n",
      "Epoch: 2/15, Train Loss: 5.37937441 , Val Loss: 7.39283879, Train Accuracy:94.72500000,  Val Accuracy: 93.40000000, Epoch Time: 21.96425176\n"
     ]
    },
    {
     "name": "stderr",
     "output_type": "stream",
     "text": [
      "125it [00:20,  6.06it/s]\n",
      "16it [00:01, 14.67it/s]\n"
     ]
    },
    {
     "name": "stdout",
     "output_type": "stream",
     "text": [
      "\n",
      "Epoch: 3/15, Train Loss: 2.39150190 , Val Loss: 5.49771167, Train Accuracy:97.87500000,  Val Accuracy: 93.80000000, Epoch Time: 21.96644664\n"
     ]
    },
    {
     "name": "stderr",
     "output_type": "stream",
     "text": [
      "125it [00:20,  6.06it/s]\n",
      "16it [00:01, 15.35it/s]\n"
     ]
    },
    {
     "name": "stdout",
     "output_type": "stream",
     "text": [
      "\n",
      "Epoch: 4/15, Train Loss: 1.27711115 , Val Loss: 5.03475672, Train Accuracy:99.02500000,  Val Accuracy: 94.80000000, Epoch Time: 21.93341422\n"
     ]
    },
    {
     "name": "stderr",
     "output_type": "stream",
     "text": [
      "125it [00:20,  6.05it/s]\n",
      "16it [00:01, 14.36it/s]\n"
     ]
    },
    {
     "name": "stdout",
     "output_type": "stream",
     "text": [
      "\n",
      "Epoch: 5/15, Train Loss: 0.83197408 , Val Loss: 5.48491579, Train Accuracy:99.37500000,  Val Accuracy: 94.40000000, Epoch Time: 22.01052332\n"
     ]
    },
    {
     "name": "stderr",
     "output_type": "stream",
     "text": [
      "125it [00:20,  6.06it/s]\n",
      "16it [00:01, 15.24it/s]\n"
     ]
    },
    {
     "name": "stdout",
     "output_type": "stream",
     "text": [
      "\n",
      "Epoch: 6/15, Train Loss: 0.60646616 , Val Loss: 5.53229323, Train Accuracy:99.62500000,  Val Accuracy: 93.40000000, Epoch Time: 21.89351201\n"
     ]
    },
    {
     "name": "stderr",
     "output_type": "stream",
     "text": [
      "125it [00:20,  6.06it/s]\n",
      "16it [00:01, 14.60it/s]\n"
     ]
    },
    {
     "name": "stdout",
     "output_type": "stream",
     "text": [
      "\n",
      "Epoch: 7/15, Train Loss: 0.34470730 , Val Loss: 6.31349690, Train Accuracy:99.80000000,  Val Accuracy: 93.00000000, Epoch Time: 21.95621681\n"
     ]
    },
    {
     "name": "stderr",
     "output_type": "stream",
     "text": [
      "125it [00:20,  6.05it/s]\n",
      "16it [00:01, 15.17it/s]\n"
     ]
    },
    {
     "name": "stdout",
     "output_type": "stream",
     "text": [
      "\n",
      "Epoch: 8/15, Train Loss: 0.30803636 , Val Loss: 6.22217472, Train Accuracy:99.82500000,  Val Accuracy: 93.20000000, Epoch Time: 21.94103074\n"
     ]
    },
    {
     "name": "stderr",
     "output_type": "stream",
     "text": [
      "125it [00:20,  6.06it/s]\n",
      "16it [00:01, 14.29it/s]\n"
     ]
    },
    {
     "name": "stdout",
     "output_type": "stream",
     "text": [
      "\n",
      "Epoch: 9/15, Train Loss: 0.19946854 , Val Loss: 5.89110300, Train Accuracy:99.92500000,  Val Accuracy: 94.00000000, Epoch Time: 21.97736168\n",
      "Early stopping on, 8th, epoch\n",
      "\n",
      "=====>Generating f_emb<=====\n",
      "\n",
      "torch.Size([1536])\n",
      "{'dataset': ['sldc_0_10', 'sldc_0_10', 'sldc_0_10', 'sldc_0_10', 'sldc_0_10', 'sldc_0_10', 'corales_0_14', 'corales_0_14', 'corales_0_14', 'corales_0_14', 'corales_0_14', 'corales_0_14', '6000-store-items-images-classified-by-color_imoore_0_12', '6000-store-items-images-classified-by-color_imoore_0_12', '6000-store-items-images-classified-by-color_imoore_0_12', '6000-store-items-images-classified-by-color_imoore_0_12', '6000-store-items-images-classified-by-color_imoore_0_12', '6000-store-items-images-classified-by-color_imoore_0_12', 'fcis-sc-deeplearning-competition_0_10', 'fcis-sc-deeplearning-competition_0_10', 'fcis-sc-deeplearning-competition_0_10', 'fcis-sc-deeplearning-competition_0_10', 'fcis-sc-deeplearning-competition_0_10', 'fcis-sc-deeplearning-competition_0_10', 'lego-brick-images_joosthazelzet_0_16', 'lego-brick-images_joosthazelzet_0_16', 'lego-brick-images_joosthazelzet_0_16', 'lego-brick-images_joosthazelzet_0_16', 'lego-brick-images_joosthazelzet_0_16', 'lego-brick-images_joosthazelzet_0_16', 'oregon-wildlife_virtualdvid_0_20', 'oregon-wildlife_virtualdvid_0_20', 'oregon-wildlife_virtualdvid_0_20', 'oregon-wildlife_virtualdvid_0_20', 'oregon-wildlife_virtualdvid_0_20', 'oregon-wildlife_virtualdvid_0_20', 'perritos_0_10', 'perritos_0_10', 'perritos_0_10', 'perritos_0_10', 'perritos_0_10', 'perritos_0_10', 'khu-deep-learning-competition_0_10'], 'topol': [[3, 5, 5, 5, 7, 5, 5, 7, 3, 5, 7, 7, 7, 5, 7, 5, 3, 3, 7, 3, 4, 3, 6, 3, 6, 6, 4, 4, 6, 4, 3, 6, 6, 3, 4, 6, 3, 4, 6, 3, 3, 4, 2, 4, 4], [3, 7, 7, 7, 5, 7, 5, 3, 7, 5, 3, 3, 5, 5, 3, 7, 7, 5, 3, 5, 3, 4, 6, 3, 6, 4, 6, 4, 4, 3, 3, 3, 3, 6, 6, 3, 3, 4, 6, 4, 4, 3, 2, 2, 4], [3, 7, 5, 5, 3, 7, 7, 5, 5, 5, 5, 5, 5, 7, 7, 7, 7, 7, 5, 7, 6, 6, 6, 3, 6, 3, 4, 4, 6, 6, 6, 4, 3, 6, 4, 6, 6, 4, 6, 4, 2, 3, 3, 3, 4], [7, 5, 3, 3, 5, 3, 5, 5, 5, 5, 3, 7, 7, 5, 7, 3, 3, 5, 3, 5, 3, 4, 6, 6, 6, 3, 6, 3, 6, 3, 6, 4, 4, 6, 6, 4, 6, 6, 6, 4, 2, 2, 2, 3, 2], [3, 5, 5, 7, 5, 5, 7, 3, 7, 5, 5, 5, 3, 5, 3, 7, 5, 7, 7, 3, 3, 6, 3, 3, 6, 3, 6, 6, 4, 4, 3, 4, 4, 3, 6, 6, 4, 3, 4, 3, 4, 3, 4, 4, 4], [3, 3, 5, 5, 7, 5, 5, 5, 5, 5, 3, 3, 3, 3, 3, 7, 7, 3, 5, 5, 6, 4, 3, 4, 4, 4, 3, 6, 4, 3, 6, 4, 4, 4, 6, 6, 4, 4, 3, 6, 4, 2, 4, 3, 3], [7, 7, 5, 5, 5, 5, 3, 3, 3, 5, 7, 5, 5, 3, 3, 5, 5, 5, 7, 5, 3, 4, 3, 6, 6, 4, 3, 4, 6, 6, 4, 4, 6, 4, 4, 3, 6, 4, 3, 6, 2, 4, 4, 3, 2], [3, 3, 3, 7, 7, 5, 5, 7, 7, 5, 7, 7, 7, 7, 3, 5, 7, 7, 7, 3, 6, 4, 6, 3, 3, 4, 6, 6, 3, 3, 4, 4, 4, 4, 6, 6, 3, 4, 4, 3, 2, 4, 4, 2, 3], [5, 5, 3, 5, 7, 3, 5, 7, 7, 5, 3, 7, 7, 3, 3, 7, 3, 3, 7, 3, 4, 4, 6, 6, 3, 6, 3, 6, 3, 4, 4, 6, 3, 4, 6, 3, 6, 6, 4, 4, 4, 2, 4, 4, 4], [3, 5, 3, 5, 3, 3, 7, 7, 3, 3, 5, 7, 5, 3, 7, 7, 3, 3, 3, 7, 3, 4, 6, 6, 4, 4, 6, 6, 3, 3, 3, 6, 3, 6, 3, 4, 3, 4, 6, 6, 4, 4, 4, 3, 2], [3, 7, 7, 5, 7, 3, 7, 5, 7, 7, 7, 5, 7, 5, 3, 7, 5, 5, 5, 5, 6, 3, 6, 6, 4, 6, 6, 4, 6, 6, 6, 3, 3, 3, 3, 3, 6, 6, 4, 4, 3, 4, 2, 2, 3], [7, 7, 3, 3, 5, 7, 3, 5, 5, 3, 3, 3, 5, 7, 3, 7, 7, 5, 7, 7, 6, 3, 4, 3, 3, 3, 4, 3, 3, 4, 6, 6, 6, 4, 4, 6, 6, 4, 3, 4, 2, 2, 3, 4, 3], [7, 3, 3, 3, 3, 3, 5, 7, 5, 3, 5, 5, 3, 7, 7, 7, 5, 3, 7, 5, 3, 6, 3, 6, 6, 3, 4, 3, 6, 6, 3, 4, 3, 4, 4, 3, 4, 6, 6, 4, 3, 3, 2, 3, 3], [3, 3, 7, 5, 7, 3, 5, 7, 3, 5, 3, 5, 5, 5, 5, 3, 5, 5, 3, 3, 3, 6, 6, 6, 6, 6, 4, 3, 4, 4, 6, 4, 3, 6, 3, 6, 3, 6, 4, 6, 2, 2, 2, 3, 3], [5, 3, 5, 5, 5, 5, 7, 7, 3, 7, 7, 7, 3, 3, 7, 3, 7, 5, 5, 3, 3, 3, 6, 4, 6, 4, 4, 3, 6, 4, 6, 6, 3, 6, 4, 4, 3, 4, 3, 4, 3, 3, 4, 4, 4], [5, 5, 7, 5, 5, 5, 5, 7, 3, 3, 7, 3, 7, 5, 3, 3, 5, 7, 3, 3, 4, 4, 4, 4, 3, 4, 6, 3, 4, 6, 6, 3, 6, 3, 4, 6, 6, 4, 4, 6, 2, 4, 2, 3, 3], [7, 5, 3, 3, 7, 7, 7, 7, 5, 7, 5, 3, 7, 3, 5, 7, 3, 5, 7, 5, 4, 4, 4, 6, 4, 3, 3, 6, 3, 6, 4, 6, 6, 6, 6, 6, 3, 4, 6, 4, 2, 2, 2, 4, 3], [3, 3, 3, 7, 7, 3, 3, 7, 7, 7, 7, 5, 5, 7, 7, 3, 7, 7, 5, 7, 3, 4, 3, 3, 6, 3, 6, 3, 6, 3, 6, 3, 4, 3, 3, 6, 4, 4, 3, 6, 4, 4, 2, 4, 3], [3, 7, 7, 7, 3, 5, 3, 7, 5, 3, 5, 5, 7, 3, 5, 5, 3, 7, 5, 5, 4, 3, 4, 4, 3, 4, 6, 4, 6, 4, 3, 3, 3, 3, 6, 3, 4, 6, 4, 3, 4, 2, 4, 4, 3], [7, 7, 3, 5, 5, 5, 7, 3, 3, 5, 3, 3, 5, 7, 7, 3, 3, 7, 3, 3, 3, 3, 4, 6, 4, 6, 6, 6, 4, 3, 3, 6, 6, 4, 3, 4, 6, 4, 4, 4, 2, 4, 2, 3, 2], [3, 7, 7, 3, 5, 7, 7, 5, 7, 3, 5, 7, 7, 3, 5, 5, 5, 3, 3, 5, 3, 4, 3, 4, 3, 4, 6, 3, 6, 3, 4, 3, 4, 4, 4, 6, 3, 3, 4, 3, 3, 3, 2, 4, 2], [3, 7, 5, 3, 3, 5, 5, 7, 5, 7, 3, 5, 3, 7, 7, 5, 5, 7, 3, 3, 3, 3, 4, 6, 3, 6, 4, 3, 6, 4, 6, 4, 6, 6, 6, 6, 3, 4, 3, 6, 4, 4, 2, 2, 3], [3, 7, 3, 3, 5, 7, 5, 7, 5, 7, 7, 7, 7, 3, 3, 3, 7, 3, 3, 3, 6, 4, 4, 3, 4, 6, 4, 6, 4, 6, 6, 4, 4, 3, 3, 3, 6, 4, 3, 3, 2, 4, 4, 4, 4], [5, 5, 7, 5, 7, 3, 7, 7, 7, 5, 7, 3, 5, 3, 5, 7, 3, 7, 7, 5, 4, 3, 6, 6, 6, 3, 6, 3, 6, 3, 3, 6, 4, 4, 3, 3, 3, 3, 3, 3, 3, 2, 3, 4, 2], [7, 3, 7, 3, 5, 5, 3, 3, 7, 3, 7, 7, 7, 5, 5, 5, 5, 7, 5, 5, 6, 4, 3, 3, 4, 3, 3, 4, 4, 3, 6, 6, 3, 4, 4, 6, 6, 4, 6, 3, 3, 4, 4, 4, 2], [5, 5, 3, 7, 3, 7, 7, 5, 3, 7, 7, 5, 5, 7, 7, 7, 5, 7, 5, 3, 4, 4, 3, 3, 4, 3, 4, 6, 3, 3, 3, 4, 6, 6, 4, 6, 6, 4, 3, 4, 4, 4, 4, 3, 4], [5, 5, 3, 5, 7, 3, 5, 5, 3, 5, 7, 3, 5, 3, 3, 5, 7, 7, 5, 5, 4, 3, 6, 4, 6, 6, 6, 4, 3, 6, 6, 6, 4, 4, 4, 4, 3, 4, 3, 6, 2, 4, 2, 4, 3], [5, 3, 5, 3, 5, 3, 3, 3, 7, 3, 5, 7, 5, 7, 3, 7, 7, 5, 5, 3, 6, 3, 6, 6, 3, 4, 3, 4, 6, 3, 4, 6, 3, 3, 4, 4, 6, 6, 6, 4, 3, 4, 4, 4, 3], [7, 5, 3, 7, 3, 5, 3, 5, 3, 5, 7, 3, 7, 7, 5, 7, 7, 3, 3, 3, 3, 3, 6, 4, 3, 4, 4, 3, 3, 3, 3, 4, 3, 3, 3, 3, 6, 6, 4, 4, 2, 4, 2, 4, 2], [5, 7, 7, 5, 5, 5, 7, 7, 7, 3, 5, 5, 5, 5, 3, 3, 5, 7, 3, 5, 3, 4, 4, 3, 3, 6, 6, 4, 4, 3, 4, 3, 3, 6, 4, 6, 4, 3, 3, 3, 2, 2, 4, 2, 2], [5, 5, 7, 3, 3, 3, 5, 3, 5, 5, 3, 3, 5, 7, 5, 3, 5, 3, 7, 7, 3, 3, 4, 4, 3, 3, 3, 3, 4, 6, 6, 4, 3, 4, 6, 4, 4, 4, 3, 3, 4, 4, 3, 2, 3], [3, 5, 5, 5, 7, 5, 7, 7, 5, 5, 5, 5, 5, 7, 3, 5, 7, 7, 3, 5, 6, 6, 4, 6, 3, 3, 3, 4, 4, 3, 6, 4, 4, 3, 3, 6, 6, 3, 3, 6, 3, 4, 3, 2, 2], [3, 3, 7, 5, 5, 5, 7, 7, 7, 5, 3, 3, 3, 3, 7, 5, 5, 5, 3, 3, 3, 3, 3, 6, 4, 4, 6, 4, 3, 6, 4, 3, 6, 4, 3, 6, 6, 3, 4, 6, 2, 4, 2, 3, 4], [5, 3, 3, 3, 7, 5, 7, 3, 5, 5, 3, 3, 3, 5, 3, 5, 7, 3, 5, 3, 6, 3, 4, 6, 3, 6, 4, 3, 4, 3, 4, 4, 6, 3, 4, 4, 3, 3, 6, 6, 2, 3, 3, 2, 2], [3, 7, 3, 5, 3, 7, 5, 3, 7, 7, 3, 5, 5, 3, 7, 5, 5, 7, 7, 7, 4, 6, 6, 3, 6, 6, 4, 4, 3, 6, 6, 6, 3, 3, 3, 4, 4, 6, 3, 3, 2, 4, 3, 4, 3], [3, 3, 3, 5, 3, 3, 3, 5, 7, 3, 7, 5, 3, 7, 5, 3, 7, 7, 3, 7, 6, 3, 3, 6, 3, 6, 6, 3, 6, 6, 4, 4, 4, 3, 6, 3, 6, 3, 3, 6, 2, 3, 4, 4, 4], [5, 7, 3, 7, 3, 7, 5, 5, 5, 7, 7, 3, 3, 3, 7, 3, 5, 5, 3, 5, 6, 4, 6, 6, 6, 4, 6, 3, 4, 4, 3, 3, 6, 6, 4, 3, 4, 3, 6, 4, 2, 2, 3, 4, 3], [3, 3, 3, 3, 5, 7, 5, 3, 3, 7, 3, 3, 5, 3, 3, 3, 3, 3, 3, 3, 6, 3, 6, 4, 4, 3, 6, 6, 3, 6, 6, 3, 6, 6, 6, 3, 4, 3, 3, 4, 4, 3, 2, 4, 2], [5, 5, 7, 3, 3, 3, 7, 5, 7, 7, 3, 7, 5, 3, 5, 7, 7, 5, 5, 5, 4, 4, 3, 4, 3, 3, 6, 6, 6, 3, 4, 6, 6, 3, 3, 4, 6, 6, 6, 3, 2, 3, 3, 2, 3], [3, 3, 3, 3, 5, 3, 5, 3, 7, 3, 5, 5, 7, 3, 5, 7, 3, 5, 5, 7, 4, 3, 6, 4, 3, 6, 6, 4, 4, 4, 3, 6, 6, 3, 3, 6, 3, 3, 6, 6, 3, 2, 2, 4, 3], [3, 7, 5, 5, 7, 5, 7, 3, 3, 5, 5, 3, 5, 3, 5, 3, 3, 7, 3, 3, 3, 4, 4, 6, 6, 6, 3, 6, 6, 4, 3, 6, 6, 6, 6, 4, 3, 3, 3, 6, 3, 4, 4, 4, 2], [5, 7, 3, 3, 7, 5, 7, 5, 3, 3, 5, 5, 7, 3, 3, 7, 7, 3, 5, 5, 6, 3, 6, 6, 6, 3, 6, 6, 4, 3, 6, 3, 3, 3, 3, 3, 4, 6, 3, 3, 2, 2, 4, 2, 3], [3, 7, 5, 5, 5, 3, 7, 5, 7, 5, 3, 3, 5, 3, 3, 7, 3, 7, 3, 5, 3, 4, 3, 6, 4, 3, 3, 4, 4, 6, 6, 3, 3, 3, 6, 6, 4, 4, 3, 6, 4, 4, 4, 3, 4]], 'f_emb': [tensor([-0., -0., -0.,  ..., -0., -0., -0.]), tensor([-0., -0., -0.,  ..., -0., -0., -0.]), tensor([1226.8495,   -0.0000,   -0.0000,  ...,   -0.0000,   -0.0000,\n",
      "          -0.0000]), tensor([-0., -0., -0.,  ..., -0., -0., -0.]), tensor([188.3607,  -0.0000,  -0.0000,  ...,  -0.0000,  -0.0000, 213.2732]), tensor([-0., -0., -0.,  ..., -0., -0., -0.]), tensor([-0., -0., -0.,  ..., -0., -0., -0.]), tensor([-0.0000, -0.0000, -0.0000,  ..., -0.0000, -0.0000, 9.9611]), tensor([38.6843, -0.0000, -0.0000,  ..., -0.0000, -0.0000, -0.0000]), tensor([ 0.5262, -0.3664,  0.4536,  ..., -0.3597, -0.2121, -0.3281]), tensor([-0., -0., -0.,  ..., -0., -0., -0.]), tensor([-0.0000, -0.0000, -0.0000,  ..., 30.1783, -0.0000,  3.6916]), tensor([-0., -0., -0.,  ..., -0., -0., -0.]), tensor([-0., -0., -0.,  ..., -0., -0., -0.]), tensor([18.3999, -0.0000, -0.0000,  ..., -0.0000, -0.0000, 45.3672]), tensor([ 0.2349,  0.1743,  0.1660,  ...,  0.3616,  0.0957, -0.3534]), tensor([-0.2793, -0.3249, -0.3683,  ..., -0.0000, -0.0000, -0.3627]), tensor([ 0.0759, -0.3346, -0.2591,  ...,  0.4824, -0.2551, -0.1757]), tensor([ 0.4264, -0.1865, -0.1025,  ..., -0.1637,  0.7777, -0.3373]), tensor([ 0.4347, -0.2336, -0.2793,  ..., -0.3347, -0.3469, -0.1162]), tensor([ 0.0104,  0.4655, -0.3177,  ..., -0.1076,  0.8267, -0.3667]), tensor([ 0.0873,  0.1475, -0.3670,  ..., -0.1698,  0.0327, -0.3572]), tensor([322.7029,  -0.0000,  83.4842,  ...,  -0.0000,  -0.0000,  -0.0000]), tensor([-0.3365, -0.0309, -0.3139,  ...,  0.1455, -0.3260, -0.3622]), tensor([-0.0000, -0.0000, -0.0000,  ..., -0.0000, -0.0000, 3.1642]), tensor([    -0.0000,     -0.0000, 159417.2812,  ...,     -0.0000,\n",
      "            -0.0000, 179515.1562]), tensor([-0.0014, -0.3527, -0.0000,  ..., -0.0000, -0.0000, -0.0000]), tensor([6770305.5000,      -0.0000,      -0.0000,  ...,      -0.0000,\n",
      "             -0.0000,      -0.0000]), tensor([1609.9169,   -0.0000,   -0.0000,  ...,   -0.0000,   -0.0000,\n"
     ]
    },
    {
     "name": "stderr",
     "output_type": "stream",
     "text": [
      "Using cache found in /root/.cache/torch/hub/mit-han-lab_once-for-all_master\n"
     ]
    },
    {
     "name": "stdout",
     "output_type": "stream",
     "text": [
      "          -0.0000]), tensor([-0., -0., -0.,  ..., -0., -0., -0.]), tensor([-0.0067, -0.3482, -0.3706,  ..., -0.3683, -0.0611,  0.0504]), tensor([ 1.4714, -0.0000, -0.0945,  ..., -0.2832, -0.0000, -0.3679]), tensor([ 1.7539, 21.7252, -0.0000,  ..., -0.0000, -0.0000, 13.5089]), tensor([-0.3179, -0.3455, -0.3743,  ..., -0.2527,  0.1497, -0.0043]), tensor([-0.3241, -0.2744, -0.1231,  ..., -0.1582, -0.2237, -0.0000]), tensor([-0.1600,  3.9948, -0.0000,  ..., -0.0000, -0.0000,  8.6842]), tensor([-0.1209,  0.0394, -0.3112,  ..., -0.2695, -0.1538, -0.1348]), tensor([255.8073,  -0.0000, 140.1278,  ...,  -0.0000,  -0.0000,  -0.0000]), tensor([-0., -0., -0.,  ..., -0., -0., -0.]), tensor([-0.0667, -0.2547, -0.3669,  ...,  0.1411, -0.0529, -0.0764]), tensor([ 0.0093, -0.3176, -0.3739,  ..., -0.1065,  0.4898, -0.3551]), tensor([-0.3701, -0.1757, -0.3706,  ..., -0.3319, -0.2591,  0.1290]), tensor([-0.3745, -0.1032, -0.1967,  ..., -0.0000, -0.0000, -0.0593])], 'acc': [99.51923076923077, 99.03846153846153, 99.51923076923077, 99.51923076923077, 99.51923076923077, 99.51923076923077, 98.38709677419355, 96.7741935483871, 98.38709677419355, 98.38709677419355, 8.064516129032258, 96.7741935483871, 77.08333333333333, 76.4423076923077, 78.68589743589743, 77.40384615384616, 77.24358974358974, 78.36538461538461, 94.23076923076923, 75.64102564102564, 90.7051282051282, 94.23076923076923, 91.34615384615384, 94.23076923076923, 99.52978056426332, 99.3730407523511, 99.68652037617555, 99.68652037617555, 100.0, 99.3730407523511, 84.88700564971751, 87.99435028248588, 86.7231638418079, 85.73446327683615, 87.99435028248588, 86.44067796610169, 96.6740576496674, 97.11751662971176, 97.00665188470066, 97.22838137472284, 96.6740576496674, 95.56541019955654, 94.0], 'n_params': [6228442, 5625114, 6570290, 5347354, 5825218, 4821626, 4711646, 4554646, 6688342, 4317614, 5203934, 5550702, 5717244, 5151700, 5773028, 5059684, 6364428, 4930308, 5608818, 4493962, 4318938, 4537954, 5514050, 3861938, 5155304, 6005320, 4798208, 6420784, 4792312, 3845304, 4249220, 3881348, 5982340, 3517428, 5327428, 6367692, 5599490, 4745802, 5815994, 5362738, 5007786, 4598522, 5921562]}\n",
      "\n",
      "=====> Generating 2th network  <=====\n",
      "\n",
      "\n",
      "=====>Generating sub_net<=====\n",
      "\n",
      "\n",
      "=====> Training started <=====\n",
      "\n",
      "Starting Training for:khu-deep-learning-competition_0_10 with model topology:[5, 3, 5, 3, 5, 3, 7, 3, 3, 5, 5, 3, 5, 7, 5, 7, 7, 5, 3, 7, 4, 4, 6, 3, 3, 6, 3, 3, 3, 3, 4, 4, 3, 6, 4, 3, 6, 3, 3, 3, 4, 3, 3, 2, 2]\n"
     ]
    },
    {
     "name": "stderr",
     "output_type": "stream",
     "text": [
      "125it [00:17,  6.98it/s]\n",
      "16it [00:00, 16.48it/s]\n"
     ]
    },
    {
     "name": "stdout",
     "output_type": "stream",
     "text": [
      "\n",
      "Epoch: 1/15, Train Loss: 28.48322836 , Val Loss: 12.36255508, Train Accuracy:76.20000000,  Val Accuracy: 88.40000000, Epoch Time: 19.13616824\n"
     ]
    },
    {
     "name": "stderr",
     "output_type": "stream",
     "text": [
      "125it [00:17,  6.97it/s]\n",
      "16it [00:00, 16.35it/s]\n"
     ]
    },
    {
     "name": "stdout",
     "output_type": "stream",
     "text": [
      "\n",
      "Epoch: 2/15, Train Loss: 6.04527797 , Val Loss: 7.54137199, Train Accuracy:94.25000000,  Val Accuracy: 91.40000000, Epoch Time: 19.16446495\n"
     ]
    },
    {
     "name": "stderr",
     "output_type": "stream",
     "text": [
      "125it [00:17,  6.97it/s]\n",
      "16it [00:00, 16.88it/s]\n"
     ]
    },
    {
     "name": "stdout",
     "output_type": "stream",
     "text": [
      "\n",
      "Epoch: 3/15, Train Loss: 3.45413683 , Val Loss: 6.15254009, Train Accuracy:96.95000000,  Val Accuracy: 93.00000000, Epoch Time: 19.11534309\n"
     ]
    },
    {
     "name": "stderr",
     "output_type": "stream",
     "text": [
      "125it [00:17,  6.99it/s]\n",
      "16it [00:00, 16.47it/s]\n"
     ]
    },
    {
     "name": "stdout",
     "output_type": "stream",
     "text": [
      "\n",
      "Epoch: 4/15, Train Loss: 2.07210932 , Val Loss: 5.58678175, Train Accuracy:98.37500000,  Val Accuracy: 93.60000000, Epoch Time: 19.12131095\n"
     ]
    },
    {
     "name": "stderr",
     "output_type": "stream",
     "text": [
      "125it [00:17,  6.98it/s]\n",
      "16it [00:00, 17.22it/s]\n"
     ]
    },
    {
     "name": "stdout",
     "output_type": "stream",
     "text": [
      "\n",
      "Epoch: 5/15, Train Loss: 0.97729400 , Val Loss: 5.32180760, Train Accuracy:99.52500000,  Val Accuracy: 94.80000000, Epoch Time: 19.09970927\n"
     ]
    },
    {
     "name": "stderr",
     "output_type": "stream",
     "text": [
      "125it [00:17,  6.98it/s]\n",
      "16it [00:01, 15.01it/s]\n"
     ]
    },
    {
     "name": "stdout",
     "output_type": "stream",
     "text": [
      "\n",
      "Epoch: 6/15, Train Loss: 0.69035897 , Val Loss: 5.33702719, Train Accuracy:99.70000000,  Val Accuracy: 95.20000000, Epoch Time: 19.27891088\n"
     ]
    },
    {
     "name": "stderr",
     "output_type": "stream",
     "text": [
      "125it [00:17,  6.97it/s]\n",
      "16it [00:00, 16.55it/s]\n"
     ]
    },
    {
     "name": "stdout",
     "output_type": "stream",
     "text": [
      "\n",
      "Epoch: 7/15, Train Loss: 0.43826861 , Val Loss: 4.89285221, Train Accuracy:99.90000000,  Val Accuracy: 95.40000000, Epoch Time: 19.12224412\n"
     ]
    },
    {
     "name": "stderr",
     "output_type": "stream",
     "text": [
      "125it [00:17,  6.99it/s]\n",
      "16it [00:00, 16.11it/s]\n"
     ]
    },
    {
     "name": "stdout",
     "output_type": "stream",
     "text": [
      "\n",
      "Epoch: 8/15, Train Loss: 0.40655154 , Val Loss: 6.29823931, Train Accuracy:99.82500000,  Val Accuracy: 94.40000000, Epoch Time: 19.17102933\n"
     ]
    },
    {
     "name": "stderr",
     "output_type": "stream",
     "text": [
      "125it [00:17,  6.97it/s]\n",
      "16it [00:00, 17.05it/s]\n"
     ]
    },
    {
     "name": "stdout",
     "output_type": "stream",
     "text": [
      "\n",
      "Epoch: 9/15, Train Loss: 0.31867885 , Val Loss: 4.89201078, Train Accuracy:99.92500000,  Val Accuracy: 95.00000000, Epoch Time: 19.09587169\n"
     ]
    },
    {
     "name": "stderr",
     "output_type": "stream",
     "text": [
      "125it [00:17,  6.98it/s]\n",
      "16it [00:01, 15.74it/s]\n"
     ]
    },
    {
     "name": "stdout",
     "output_type": "stream",
     "text": [
      "\n",
      "Epoch: 10/15, Train Loss: 0.21567677 , Val Loss: 5.57104134, Train Accuracy:99.97500000,  Val Accuracy: 94.40000000, Epoch Time: 19.14612651\n"
     ]
    },
    {
     "name": "stderr",
     "output_type": "stream",
     "text": [
      "125it [00:17,  7.00it/s]\n",
      "16it [00:00, 17.03it/s]\n"
     ]
    },
    {
     "name": "stdout",
     "output_type": "stream",
     "text": [
      "\n",
      "Epoch: 11/15, Train Loss: 0.18993549 , Val Loss: 5.86314052, Train Accuracy:99.92500000,  Val Accuracy: 94.20000000, Epoch Time: 19.04263973\n"
     ]
    },
    {
     "name": "stderr",
     "output_type": "stream",
     "text": [
      "125it [00:17,  6.97it/s]\n",
      "16it [00:00, 16.31it/s]\n"
     ]
    },
    {
     "name": "stdout",
     "output_type": "stream",
     "text": [
      "\n",
      "Epoch: 12/15, Train Loss: 0.15611444 , Val Loss: 6.04843491, Train Accuracy:100.00000000,  Val Accuracy: 94.40000000, Epoch Time: 19.15628862\n"
     ]
    },
    {
     "name": "stderr",
     "output_type": "stream",
     "text": [
      "125it [00:17,  6.98it/s]\n",
      "16it [00:00, 17.16it/s]\n"
     ]
    },
    {
     "name": "stdout",
     "output_type": "stream",
     "text": [
      "\n",
      "Epoch: 13/15, Train Loss: 0.14410462 , Val Loss: 5.91475896, Train Accuracy:100.00000000,  Val Accuracy: 94.40000000, Epoch Time: 19.10721564\n"
     ]
    },
    {
     "name": "stderr",
     "output_type": "stream",
     "text": [
      "125it [00:17,  6.99it/s]\n",
      "16it [00:00, 16.08it/s]\n"
     ]
    },
    {
     "name": "stdout",
     "output_type": "stream",
     "text": [
      "\n",
      "Epoch: 14/15, Train Loss: 0.12640049 , Val Loss: 5.78788691, Train Accuracy:100.00000000,  Val Accuracy: 94.60000000, Epoch Time: 19.13599801\n",
      "Early stopping on, 13th, epoch\n",
      "\n",
      "=====>Generating f_emb<=====\n",
      "\n",
      "torch.Size([1536])\n",
      "{'dataset': ['sldc_0_10', 'sldc_0_10', 'sldc_0_10', 'sldc_0_10', 'sldc_0_10', 'sldc_0_10', 'corales_0_14', 'corales_0_14', 'corales_0_14', 'corales_0_14', 'corales_0_14', 'corales_0_14', '6000-store-items-images-classified-by-color_imoore_0_12', '6000-store-items-images-classified-by-color_imoore_0_12', '6000-store-items-images-classified-by-color_imoore_0_12', '6000-store-items-images-classified-by-color_imoore_0_12', '6000-store-items-images-classified-by-color_imoore_0_12', '6000-store-items-images-classified-by-color_imoore_0_12', 'fcis-sc-deeplearning-competition_0_10', 'fcis-sc-deeplearning-competition_0_10', 'fcis-sc-deeplearning-competition_0_10', 'fcis-sc-deeplearning-competition_0_10', 'fcis-sc-deeplearning-competition_0_10', 'fcis-sc-deeplearning-competition_0_10', 'lego-brick-images_joosthazelzet_0_16', 'lego-brick-images_joosthazelzet_0_16', 'lego-brick-images_joosthazelzet_0_16', 'lego-brick-images_joosthazelzet_0_16', 'lego-brick-images_joosthazelzet_0_16', 'lego-brick-images_joosthazelzet_0_16', 'oregon-wildlife_virtualdvid_0_20', 'oregon-wildlife_virtualdvid_0_20', 'oregon-wildlife_virtualdvid_0_20', 'oregon-wildlife_virtualdvid_0_20', 'oregon-wildlife_virtualdvid_0_20', 'oregon-wildlife_virtualdvid_0_20', 'perritos_0_10', 'perritos_0_10', 'perritos_0_10', 'perritos_0_10', 'perritos_0_10', 'perritos_0_10', 'khu-deep-learning-competition_0_10', 'khu-deep-learning-competition_0_10'], 'topol': [[3, 5, 5, 5, 7, 5, 5, 7, 3, 5, 7, 7, 7, 5, 7, 5, 3, 3, 7, 3, 4, 3, 6, 3, 6, 6, 4, 4, 6, 4, 3, 6, 6, 3, 4, 6, 3, 4, 6, 3, 3, 4, 2, 4, 4], [3, 7, 7, 7, 5, 7, 5, 3, 7, 5, 3, 3, 5, 5, 3, 7, 7, 5, 3, 5, 3, 4, 6, 3, 6, 4, 6, 4, 4, 3, 3, 3, 3, 6, 6, 3, 3, 4, 6, 4, 4, 3, 2, 2, 4], [3, 7, 5, 5, 3, 7, 7, 5, 5, 5, 5, 5, 5, 7, 7, 7, 7, 7, 5, 7, 6, 6, 6, 3, 6, 3, 4, 4, 6, 6, 6, 4, 3, 6, 4, 6, 6, 4, 6, 4, 2, 3, 3, 3, 4], [7, 5, 3, 3, 5, 3, 5, 5, 5, 5, 3, 7, 7, 5, 7, 3, 3, 5, 3, 5, 3, 4, 6, 6, 6, 3, 6, 3, 6, 3, 6, 4, 4, 6, 6, 4, 6, 6, 6, 4, 2, 2, 2, 3, 2], [3, 5, 5, 7, 5, 5, 7, 3, 7, 5, 5, 5, 3, 5, 3, 7, 5, 7, 7, 3, 3, 6, 3, 3, 6, 3, 6, 6, 4, 4, 3, 4, 4, 3, 6, 6, 4, 3, 4, 3, 4, 3, 4, 4, 4], [3, 3, 5, 5, 7, 5, 5, 5, 5, 5, 3, 3, 3, 3, 3, 7, 7, 3, 5, 5, 6, 4, 3, 4, 4, 4, 3, 6, 4, 3, 6, 4, 4, 4, 6, 6, 4, 4, 3, 6, 4, 2, 4, 3, 3], [7, 7, 5, 5, 5, 5, 3, 3, 3, 5, 7, 5, 5, 3, 3, 5, 5, 5, 7, 5, 3, 4, 3, 6, 6, 4, 3, 4, 6, 6, 4, 4, 6, 4, 4, 3, 6, 4, 3, 6, 2, 4, 4, 3, 2], [3, 3, 3, 7, 7, 5, 5, 7, 7, 5, 7, 7, 7, 7, 3, 5, 7, 7, 7, 3, 6, 4, 6, 3, 3, 4, 6, 6, 3, 3, 4, 4, 4, 4, 6, 6, 3, 4, 4, 3, 2, 4, 4, 2, 3], [5, 5, 3, 5, 7, 3, 5, 7, 7, 5, 3, 7, 7, 3, 3, 7, 3, 3, 7, 3, 4, 4, 6, 6, 3, 6, 3, 6, 3, 4, 4, 6, 3, 4, 6, 3, 6, 6, 4, 4, 4, 2, 4, 4, 4], [3, 5, 3, 5, 3, 3, 7, 7, 3, 3, 5, 7, 5, 3, 7, 7, 3, 3, 3, 7, 3, 4, 6, 6, 4, 4, 6, 6, 3, 3, 3, 6, 3, 6, 3, 4, 3, 4, 6, 6, 4, 4, 4, 3, 2], [3, 7, 7, 5, 7, 3, 7, 5, 7, 7, 7, 5, 7, 5, 3, 7, 5, 5, 5, 5, 6, 3, 6, 6, 4, 6, 6, 4, 6, 6, 6, 3, 3, 3, 3, 3, 6, 6, 4, 4, 3, 4, 2, 2, 3], [7, 7, 3, 3, 5, 7, 3, 5, 5, 3, 3, 3, 5, 7, 3, 7, 7, 5, 7, 7, 6, 3, 4, 3, 3, 3, 4, 3, 3, 4, 6, 6, 6, 4, 4, 6, 6, 4, 3, 4, 2, 2, 3, 4, 3], [7, 3, 3, 3, 3, 3, 5, 7, 5, 3, 5, 5, 3, 7, 7, 7, 5, 3, 7, 5, 3, 6, 3, 6, 6, 3, 4, 3, 6, 6, 3, 4, 3, 4, 4, 3, 4, 6, 6, 4, 3, 3, 2, 3, 3], [3, 3, 7, 5, 7, 3, 5, 7, 3, 5, 3, 5, 5, 5, 5, 3, 5, 5, 3, 3, 3, 6, 6, 6, 6, 6, 4, 3, 4, 4, 6, 4, 3, 6, 3, 6, 3, 6, 4, 6, 2, 2, 2, 3, 3], [5, 3, 5, 5, 5, 5, 7, 7, 3, 7, 7, 7, 3, 3, 7, 3, 7, 5, 5, 3, 3, 3, 6, 4, 6, 4, 4, 3, 6, 4, 6, 6, 3, 6, 4, 4, 3, 4, 3, 4, 3, 3, 4, 4, 4], [5, 5, 7, 5, 5, 5, 5, 7, 3, 3, 7, 3, 7, 5, 3, 3, 5, 7, 3, 3, 4, 4, 4, 4, 3, 4, 6, 3, 4, 6, 6, 3, 6, 3, 4, 6, 6, 4, 4, 6, 2, 4, 2, 3, 3], [7, 5, 3, 3, 7, 7, 7, 7, 5, 7, 5, 3, 7, 3, 5, 7, 3, 5, 7, 5, 4, 4, 4, 6, 4, 3, 3, 6, 3, 6, 4, 6, 6, 6, 6, 6, 3, 4, 6, 4, 2, 2, 2, 4, 3], [3, 3, 3, 7, 7, 3, 3, 7, 7, 7, 7, 5, 5, 7, 7, 3, 7, 7, 5, 7, 3, 4, 3, 3, 6, 3, 6, 3, 6, 3, 6, 3, 4, 3, 3, 6, 4, 4, 3, 6, 4, 4, 2, 4, 3], [3, 7, 7, 7, 3, 5, 3, 7, 5, 3, 5, 5, 7, 3, 5, 5, 3, 7, 5, 5, 4, 3, 4, 4, 3, 4, 6, 4, 6, 4, 3, 3, 3, 3, 6, 3, 4, 6, 4, 3, 4, 2, 4, 4, 3], [7, 7, 3, 5, 5, 5, 7, 3, 3, 5, 3, 3, 5, 7, 7, 3, 3, 7, 3, 3, 3, 3, 4, 6, 4, 6, 6, 6, 4, 3, 3, 6, 6, 4, 3, 4, 6, 4, 4, 4, 2, 4, 2, 3, 2], [3, 7, 7, 3, 5, 7, 7, 5, 7, 3, 5, 7, 7, 3, 5, 5, 5, 3, 3, 5, 3, 4, 3, 4, 3, 4, 6, 3, 6, 3, 4, 3, 4, 4, 4, 6, 3, 3, 4, 3, 3, 3, 2, 4, 2], [3, 7, 5, 3, 3, 5, 5, 7, 5, 7, 3, 5, 3, 7, 7, 5, 5, 7, 3, 3, 3, 3, 4, 6, 3, 6, 4, 3, 6, 4, 6, 4, 6, 6, 6, 6, 3, 4, 3, 6, 4, 4, 2, 2, 3], [3, 7, 3, 3, 5, 7, 5, 7, 5, 7, 7, 7, 7, 3, 3, 3, 7, 3, 3, 3, 6, 4, 4, 3, 4, 6, 4, 6, 4, 6, 6, 4, 4, 3, 3, 3, 6, 4, 3, 3, 2, 4, 4, 4, 4], [5, 5, 7, 5, 7, 3, 7, 7, 7, 5, 7, 3, 5, 3, 5, 7, 3, 7, 7, 5, 4, 3, 6, 6, 6, 3, 6, 3, 6, 3, 3, 6, 4, 4, 3, 3, 3, 3, 3, 3, 3, 2, 3, 4, 2], [7, 3, 7, 3, 5, 5, 3, 3, 7, 3, 7, 7, 7, 5, 5, 5, 5, 7, 5, 5, 6, 4, 3, 3, 4, 3, 3, 4, 4, 3, 6, 6, 3, 4, 4, 6, 6, 4, 6, 3, 3, 4, 4, 4, 2], [5, 5, 3, 7, 3, 7, 7, 5, 3, 7, 7, 5, 5, 7, 7, 7, 5, 7, 5, 3, 4, 4, 3, 3, 4, 3, 4, 6, 3, 3, 3, 4, 6, 6, 4, 6, 6, 4, 3, 4, 4, 4, 4, 3, 4], [5, 5, 3, 5, 7, 3, 5, 5, 3, 5, 7, 3, 5, 3, 3, 5, 7, 7, 5, 5, 4, 3, 6, 4, 6, 6, 6, 4, 3, 6, 6, 6, 4, 4, 4, 4, 3, 4, 3, 6, 2, 4, 2, 4, 3], [5, 3, 5, 3, 5, 3, 3, 3, 7, 3, 5, 7, 5, 7, 3, 7, 7, 5, 5, 3, 6, 3, 6, 6, 3, 4, 3, 4, 6, 3, 4, 6, 3, 3, 4, 4, 6, 6, 6, 4, 3, 4, 4, 4, 3], [7, 5, 3, 7, 3, 5, 3, 5, 3, 5, 7, 3, 7, 7, 5, 7, 7, 3, 3, 3, 3, 3, 6, 4, 3, 4, 4, 3, 3, 3, 3, 4, 3, 3, 3, 3, 6, 6, 4, 4, 2, 4, 2, 4, 2], [5, 7, 7, 5, 5, 5, 7, 7, 7, 3, 5, 5, 5, 5, 3, 3, 5, 7, 3, 5, 3, 4, 4, 3, 3, 6, 6, 4, 4, 3, 4, 3, 3, 6, 4, 6, 4, 3, 3, 3, 2, 2, 4, 2, 2], [5, 5, 7, 3, 3, 3, 5, 3, 5, 5, 3, 3, 5, 7, 5, 3, 5, 3, 7, 7, 3, 3, 4, 4, 3, 3, 3, 3, 4, 6, 6, 4, 3, 4, 6, 4, 4, 4, 3, 3, 4, 4, 3, 2, 3], [3, 5, 5, 5, 7, 5, 7, 7, 5, 5, 5, 5, 5, 7, 3, 5, 7, 7, 3, 5, 6, 6, 4, 6, 3, 3, 3, 4, 4, 3, 6, 4, 4, 3, 3, 6, 6, 3, 3, 6, 3, 4, 3, 2, 2], [3, 3, 7, 5, 5, 5, 7, 7, 7, 5, 3, 3, 3, 3, 7, 5, 5, 5, 3, 3, 3, 3, 3, 6, 4, 4, 6, 4, 3, 6, 4, 3, 6, 4, 3, 6, 6, 3, 4, 6, 2, 4, 2, 3, 4], [5, 3, 3, 3, 7, 5, 7, 3, 5, 5, 3, 3, 3, 5, 3, 5, 7, 3, 5, 3, 6, 3, 4, 6, 3, 6, 4, 3, 4, 3, 4, 4, 6, 3, 4, 4, 3, 3, 6, 6, 2, 3, 3, 2, 2], [3, 7, 3, 5, 3, 7, 5, 3, 7, 7, 3, 5, 5, 3, 7, 5, 5, 7, 7, 7, 4, 6, 6, 3, 6, 6, 4, 4, 3, 6, 6, 6, 3, 3, 3, 4, 4, 6, 3, 3, 2, 4, 3, 4, 3], [3, 3, 3, 5, 3, 3, 3, 5, 7, 3, 7, 5, 3, 7, 5, 3, 7, 7, 3, 7, 6, 3, 3, 6, 3, 6, 6, 3, 6, 6, 4, 4, 4, 3, 6, 3, 6, 3, 3, 6, 2, 3, 4, 4, 4], [5, 7, 3, 7, 3, 7, 5, 5, 5, 7, 7, 3, 3, 3, 7, 3, 5, 5, 3, 5, 6, 4, 6, 6, 6, 4, 6, 3, 4, 4, 3, 3, 6, 6, 4, 3, 4, 3, 6, 4, 2, 2, 3, 4, 3], [3, 3, 3, 3, 5, 7, 5, 3, 3, 7, 3, 3, 5, 3, 3, 3, 3, 3, 3, 3, 6, 3, 6, 4, 4, 3, 6, 6, 3, 6, 6, 3, 6, 6, 6, 3, 4, 3, 3, 4, 4, 3, 2, 4, 2], [5, 5, 7, 3, 3, 3, 7, 5, 7, 7, 3, 7, 5, 3, 5, 7, 7, 5, 5, 5, 4, 4, 3, 4, 3, 3, 6, 6, 6, 3, 4, 6, 6, 3, 3, 4, 6, 6, 6, 3, 2, 3, 3, 2, 3], [3, 3, 3, 3, 5, 3, 5, 3, 7, 3, 5, 5, 7, 3, 5, 7, 3, 5, 5, 7, 4, 3, 6, 4, 3, 6, 6, 4, 4, 4, 3, 6, 6, 3, 3, 6, 3, 3, 6, 6, 3, 2, 2, 4, 3], [3, 7, 5, 5, 7, 5, 7, 3, 3, 5, 5, 3, 5, 3, 5, 3, 3, 7, 3, 3, 3, 4, 4, 6, 6, 6, 3, 6, 6, 4, 3, 6, 6, 6, 6, 4, 3, 3, 3, 6, 3, 4, 4, 4, 2], [5, 7, 3, 3, 7, 5, 7, 5, 3, 3, 5, 5, 7, 3, 3, 7, 7, 3, 5, 5, 6, 3, 6, 6, 6, 3, 6, 6, 4, 3, 6, 3, 3, 3, 3, 3, 4, 6, 3, 3, 2, 2, 4, 2, 3], [3, 7, 5, 5, 5, 3, 7, 5, 7, 5, 3, 3, 5, 3, 3, 7, 3, 7, 3, 5, 3, 4, 3, 6, 4, 3, 3, 4, 4, 6, 6, 3, 3, 3, 6, 6, 4, 4, 3, 6, 4, 4, 4, 3, 4], [5, 3, 5, 3, 5, 3, 7, 3, 3, 5, 5, 3, 5, 7, 5, 7, 7, 5, 3, 7, 4, 4, 6, 3, 3, 6, 3, 3, 3, 3, 4, 4, 3, 6, 4, 3, 6, 3, 3, 3, 4, 3, 3, 2, 2]], 'f_emb': [tensor([-0., -0., -0.,  ..., -0., -0., -0.]), tensor([-0., -0., -0.,  ..., -0., -0., -0.]), tensor([1226.8495,   -0.0000,   -0.0000,  ...,   -0.0000,   -0.0000,\n",
      "          -0.0000]), tensor([-0., -0., -0.,  ..., -0., -0., -0.]), tensor([188.3607,  -0.0000,  -0.0000,  ...,  -0.0000,  -0.0000, 213.2732]), tensor([-0., -0., -0.,  ..., -0., -0., -0.]), tensor([-0., -0., -0.,  ..., -0., -0., -0.]), tensor([-0.0000, -0.0000, -0.0000,  ..., -0.0000, -0.0000, 9.9611]), tensor([38.6843, -0.0000, -0.0000,  ..., -0.0000, -0.0000, -0.0000]), tensor([ 0.5262, -0.3664,  0.4536,  ..., -0.3597, -0.2121, -0.3281]), tensor([-0., -0., -0.,  ..., -0., -0., -0.]), tensor([-0.0000, -0.0000, -0.0000,  ..., 30.1783, -0.0000,  3.6916]), tensor([-0., -0., -0.,  ..., -0., -0., -0.]), tensor([-0., -0., -0.,  ..., -0., -0., -0.]), tensor([18.3999, -0.0000, -0.0000,  ..., -0.0000, -0.0000, 45.3672]), tensor([ 0.2349,  0.1743,  0.1660,  ...,  0.3616,  0.0957, -0.3534]), tensor([-0.2793, -0.3249, -0.3683,  ..., -0.0000, -0.0000, -0.3627]), tensor([ 0.0759, -0.3346, -0.2591,  ...,  0.4824, -0.2551, -0.1757]), tensor([ 0.4264, -0.1865, -0.1025,  ..., -0.1637,  0.7777, -0.3373]), tensor([ 0.4347, -0.2336, -0.2793,  ..., -0.3347, -0.3469, -0.1162]), tensor([ 0.0104,  0.4655, -0.3177,  ..., -0.1076,  0.8267, -0.3667]), tensor([ 0.0873,  0.1475, -0.3670,  ..., -0.1698,  0.0327, -0.3572]), tensor([322.7029,  -0.0000,  83.4842,  ...,  -0.0000,  -0.0000,  -0.0000]), tensor([-0.3365, -0.0309, -0.3139,  ...,  0.1455, -0.3260, -0.3622]), tensor([-0.0000, -0.0000, -0.0000,  ..., -0.0000, -0.0000, 3.1642]), tensor([    -0.0000,     -0.0000, 159417.2812,  ...,     -0.0000,\n",
      "            -0.0000, 179515.1562]), tensor([-0.0014, -0.3527, -0.0000,  ..., -0.0000, -0.0000, -0.0000]), tensor([6770305.5000,      -0.0000,      -0.0000,  ...,      -0.0000,\n",
      "             -0.0000,      -0.0000]), tensor([1609.9169,   -0.0000,   -0.0000,  ...,   -0.0000,   -0.0000,\n"
     ]
    },
    {
     "name": "stderr",
     "output_type": "stream",
     "text": [
      "Using cache found in /root/.cache/torch/hub/mit-han-lab_once-for-all_master\n"
     ]
    },
    {
     "name": "stdout",
     "output_type": "stream",
     "text": [
      "          -0.0000]), tensor([-0., -0., -0.,  ..., -0., -0., -0.]), tensor([-0.0067, -0.3482, -0.3706,  ..., -0.3683, -0.0611,  0.0504]), tensor([ 1.4714, -0.0000, -0.0945,  ..., -0.2832, -0.0000, -0.3679]), tensor([ 1.7539, 21.7252, -0.0000,  ..., -0.0000, -0.0000, 13.5089]), tensor([-0.3179, -0.3455, -0.3743,  ..., -0.2527,  0.1497, -0.0043]), tensor([-0.3241, -0.2744, -0.1231,  ..., -0.1582, -0.2237, -0.0000]), tensor([-0.1600,  3.9948, -0.0000,  ..., -0.0000, -0.0000,  8.6842]), tensor([-0.1209,  0.0394, -0.3112,  ..., -0.2695, -0.1538, -0.1348]), tensor([255.8073,  -0.0000, 140.1278,  ...,  -0.0000,  -0.0000,  -0.0000]), tensor([-0., -0., -0.,  ..., -0., -0., -0.]), tensor([-0.0667, -0.2547, -0.3669,  ...,  0.1411, -0.0529, -0.0764]), tensor([ 0.0093, -0.3176, -0.3739,  ..., -0.1065,  0.4898, -0.3551]), tensor([-0.3701, -0.1757, -0.3706,  ..., -0.3319, -0.2591,  0.1290]), tensor([-0.3745, -0.1032, -0.1967,  ..., -0.0000, -0.0000, -0.0593]), tensor([-0.3677, -0.2142, -0.0000,  ..., -0.0000, -0.0000, -0.3277])], 'acc': [99.51923076923077, 99.03846153846153, 99.51923076923077, 99.51923076923077, 99.51923076923077, 99.51923076923077, 98.38709677419355, 96.7741935483871, 98.38709677419355, 98.38709677419355, 8.064516129032258, 96.7741935483871, 77.08333333333333, 76.4423076923077, 78.68589743589743, 77.40384615384616, 77.24358974358974, 78.36538461538461, 94.23076923076923, 75.64102564102564, 90.7051282051282, 94.23076923076923, 91.34615384615384, 94.23076923076923, 99.52978056426332, 99.3730407523511, 99.68652037617555, 99.68652037617555, 100.0, 99.3730407523511, 84.88700564971751, 87.99435028248588, 86.7231638418079, 85.73446327683615, 87.99435028248588, 86.44067796610169, 96.6740576496674, 97.11751662971176, 97.00665188470066, 97.22838137472284, 96.6740576496674, 95.56541019955654, 94.0, 94.6], 'n_params': [6228442, 5625114, 6570290, 5347354, 5825218, 4821626, 4711646, 4554646, 6688342, 4317614, 5203934, 5550702, 5717244, 5151700, 5773028, 5059684, 6364428, 4930308, 5608818, 4493962, 4318938, 4537954, 5514050, 3861938, 5155304, 6005320, 4798208, 6420784, 4792312, 3845304, 4249220, 3881348, 5982340, 3517428, 5327428, 6367692, 5599490, 4745802, 5815994, 5362738, 5007786, 4598522, 5921562, 4126858]}\n",
      "\n",
      "=====> Generating 3th network  <=====\n",
      "\n",
      "\n",
      "=====>Generating sub_net<=====\n",
      "\n",
      "\n",
      "=====> Training started <=====\n",
      "\n",
      "Starting Training for:khu-deep-learning-competition_0_10 with model topology:[7, 7, 5, 3, 7, 7, 3, 7, 5, 5, 7, 3, 3, 5, 7, 7, 5, 5, 5, 3, 4, 3, 4, 6, 3, 4, 6, 3, 3, 6, 3, 6, 3, 4, 3, 3, 6, 4, 3, 3, 3, 2, 4, 2, 2]\n"
     ]
    },
    {
     "name": "stderr",
     "output_type": "stream",
     "text": [
      "125it [00:17,  7.03it/s]\n",
      "16it [00:00, 17.45it/s]\n"
     ]
    },
    {
     "name": "stdout",
     "output_type": "stream",
     "text": [
      "\n",
      "Epoch: 1/15, Train Loss: 27.07729895 , Val Loss: 12.62534051, Train Accuracy:80.05000000,  Val Accuracy: 87.40000000, Epoch Time: 18.95100832\n"
     ]
    },
    {
     "name": "stderr",
     "output_type": "stream",
     "text": [
      "125it [00:17,  7.04it/s]\n",
      "16it [00:00, 16.65it/s]\n"
     ]
    },
    {
     "name": "stdout",
     "output_type": "stream",
     "text": [
      "\n",
      "Epoch: 2/15, Train Loss: 6.08244928 , Val Loss: 7.88733598, Train Accuracy:93.95000000,  Val Accuracy: 91.20000000, Epoch Time: 18.96276045\n"
     ]
    },
    {
     "name": "stderr",
     "output_type": "stream",
     "text": [
      "125it [00:17,  7.04it/s]\n",
      "16it [00:00, 17.55it/s]\n"
     ]
    },
    {
     "name": "stdout",
     "output_type": "stream",
     "text": [
      "\n",
      "Epoch: 3/15, Train Loss: 2.91234565 , Val Loss: 5.72855830, Train Accuracy:97.80000000,  Val Accuracy: 93.80000000, Epoch Time: 18.90357041\n"
     ]
    },
    {
     "name": "stderr",
     "output_type": "stream",
     "text": [
      "125it [00:17,  7.03it/s]\n",
      "16it [00:01, 15.73it/s]\n"
     ]
    },
    {
     "name": "stdout",
     "output_type": "stream",
     "text": [
      "\n",
      "Epoch: 4/15, Train Loss: 1.56184727 , Val Loss: 5.62308731, Train Accuracy:98.82500000,  Val Accuracy: 93.60000000, Epoch Time: 19.06041598\n"
     ]
    },
    {
     "name": "stderr",
     "output_type": "stream",
     "text": [
      "125it [00:17,  7.04it/s]\n",
      "16it [00:00, 17.38it/s]\n"
     ]
    },
    {
     "name": "stdout",
     "output_type": "stream",
     "text": [
      "\n",
      "Epoch: 5/15, Train Loss: 0.92555241 , Val Loss: 6.11396093, Train Accuracy:99.55000000,  Val Accuracy: 93.40000000, Epoch Time: 18.91358542\n"
     ]
    },
    {
     "name": "stderr",
     "output_type": "stream",
     "text": [
      "125it [00:17,  7.03it/s]\n",
      "16it [00:00, 16.52it/s]\n"
     ]
    },
    {
     "name": "stdout",
     "output_type": "stream",
     "text": [
      "\n",
      "Epoch: 6/15, Train Loss: 0.59072899 , Val Loss: 5.69578952, Train Accuracy:99.82500000,  Val Accuracy: 94.20000000, Epoch Time: 19.03528643\n"
     ]
    },
    {
     "name": "stderr",
     "output_type": "stream",
     "text": [
      "125it [00:17,  7.03it/s]\n",
      "16it [00:01, 14.41it/s]\n"
     ]
    },
    {
     "name": "stdout",
     "output_type": "stream",
     "text": [
      "\n",
      "Epoch: 7/15, Train Loss: 0.43337066 , Val Loss: 6.31554136, Train Accuracy:99.80000000,  Val Accuracy: 94.00000000, Epoch Time: 19.10153413\n"
     ]
    },
    {
     "name": "stderr",
     "output_type": "stream",
     "text": [
      "125it [00:17,  7.00it/s]\n",
      "16it [00:00, 16.83it/s]\n"
     ]
    },
    {
     "name": "stdout",
     "output_type": "stream",
     "text": [
      "\n",
      "Epoch: 8/15, Train Loss: 0.36595771 , Val Loss: 6.11062200, Train Accuracy:99.85000000,  Val Accuracy: 94.00000000, Epoch Time: 19.04666114\n"
     ]
    },
    {
     "name": "stderr",
     "output_type": "stream",
     "text": [
      "125it [00:17,  7.04it/s]\n",
      "16it [00:00, 17.03it/s]\n"
     ]
    },
    {
     "name": "stdout",
     "output_type": "stream",
     "text": [
      "\n",
      "Epoch: 9/15, Train Loss: 0.29666089 , Val Loss: 5.88754681, Train Accuracy:99.90000000,  Val Accuracy: 94.00000000, Epoch Time: 18.91485858\n",
      "Early stopping on, 8th, epoch\n",
      "\n",
      "=====>Generating f_emb<=====\n",
      "\n",
      "torch.Size([1536])\n",
      "{'dataset': ['sldc_0_10', 'sldc_0_10', 'sldc_0_10', 'sldc_0_10', 'sldc_0_10', 'sldc_0_10', 'corales_0_14', 'corales_0_14', 'corales_0_14', 'corales_0_14', 'corales_0_14', 'corales_0_14', '6000-store-items-images-classified-by-color_imoore_0_12', '6000-store-items-images-classified-by-color_imoore_0_12', '6000-store-items-images-classified-by-color_imoore_0_12', '6000-store-items-images-classified-by-color_imoore_0_12', '6000-store-items-images-classified-by-color_imoore_0_12', '6000-store-items-images-classified-by-color_imoore_0_12', 'fcis-sc-deeplearning-competition_0_10', 'fcis-sc-deeplearning-competition_0_10', 'fcis-sc-deeplearning-competition_0_10', 'fcis-sc-deeplearning-competition_0_10', 'fcis-sc-deeplearning-competition_0_10', 'fcis-sc-deeplearning-competition_0_10', 'lego-brick-images_joosthazelzet_0_16', 'lego-brick-images_joosthazelzet_0_16', 'lego-brick-images_joosthazelzet_0_16', 'lego-brick-images_joosthazelzet_0_16', 'lego-brick-images_joosthazelzet_0_16', 'lego-brick-images_joosthazelzet_0_16', 'oregon-wildlife_virtualdvid_0_20', 'oregon-wildlife_virtualdvid_0_20', 'oregon-wildlife_virtualdvid_0_20', 'oregon-wildlife_virtualdvid_0_20', 'oregon-wildlife_virtualdvid_0_20', 'oregon-wildlife_virtualdvid_0_20', 'perritos_0_10', 'perritos_0_10', 'perritos_0_10', 'perritos_0_10', 'perritos_0_10', 'perritos_0_10', 'khu-deep-learning-competition_0_10', 'khu-deep-learning-competition_0_10', 'khu-deep-learning-competition_0_10'], 'topol': [[3, 5, 5, 5, 7, 5, 5, 7, 3, 5, 7, 7, 7, 5, 7, 5, 3, 3, 7, 3, 4, 3, 6, 3, 6, 6, 4, 4, 6, 4, 3, 6, 6, 3, 4, 6, 3, 4, 6, 3, 3, 4, 2, 4, 4], [3, 7, 7, 7, 5, 7, 5, 3, 7, 5, 3, 3, 5, 5, 3, 7, 7, 5, 3, 5, 3, 4, 6, 3, 6, 4, 6, 4, 4, 3, 3, 3, 3, 6, 6, 3, 3, 4, 6, 4, 4, 3, 2, 2, 4], [3, 7, 5, 5, 3, 7, 7, 5, 5, 5, 5, 5, 5, 7, 7, 7, 7, 7, 5, 7, 6, 6, 6, 3, 6, 3, 4, 4, 6, 6, 6, 4, 3, 6, 4, 6, 6, 4, 6, 4, 2, 3, 3, 3, 4], [7, 5, 3, 3, 5, 3, 5, 5, 5, 5, 3, 7, 7, 5, 7, 3, 3, 5, 3, 5, 3, 4, 6, 6, 6, 3, 6, 3, 6, 3, 6, 4, 4, 6, 6, 4, 6, 6, 6, 4, 2, 2, 2, 3, 2], [3, 5, 5, 7, 5, 5, 7, 3, 7, 5, 5, 5, 3, 5, 3, 7, 5, 7, 7, 3, 3, 6, 3, 3, 6, 3, 6, 6, 4, 4, 3, 4, 4, 3, 6, 6, 4, 3, 4, 3, 4, 3, 4, 4, 4], [3, 3, 5, 5, 7, 5, 5, 5, 5, 5, 3, 3, 3, 3, 3, 7, 7, 3, 5, 5, 6, 4, 3, 4, 4, 4, 3, 6, 4, 3, 6, 4, 4, 4, 6, 6, 4, 4, 3, 6, 4, 2, 4, 3, 3], [7, 7, 5, 5, 5, 5, 3, 3, 3, 5, 7, 5, 5, 3, 3, 5, 5, 5, 7, 5, 3, 4, 3, 6, 6, 4, 3, 4, 6, 6, 4, 4, 6, 4, 4, 3, 6, 4, 3, 6, 2, 4, 4, 3, 2], [3, 3, 3, 7, 7, 5, 5, 7, 7, 5, 7, 7, 7, 7, 3, 5, 7, 7, 7, 3, 6, 4, 6, 3, 3, 4, 6, 6, 3, 3, 4, 4, 4, 4, 6, 6, 3, 4, 4, 3, 2, 4, 4, 2, 3], [5, 5, 3, 5, 7, 3, 5, 7, 7, 5, 3, 7, 7, 3, 3, 7, 3, 3, 7, 3, 4, 4, 6, 6, 3, 6, 3, 6, 3, 4, 4, 6, 3, 4, 6, 3, 6, 6, 4, 4, 4, 2, 4, 4, 4], [3, 5, 3, 5, 3, 3, 7, 7, 3, 3, 5, 7, 5, 3, 7, 7, 3, 3, 3, 7, 3, 4, 6, 6, 4, 4, 6, 6, 3, 3, 3, 6, 3, 6, 3, 4, 3, 4, 6, 6, 4, 4, 4, 3, 2], [3, 7, 7, 5, 7, 3, 7, 5, 7, 7, 7, 5, 7, 5, 3, 7, 5, 5, 5, 5, 6, 3, 6, 6, 4, 6, 6, 4, 6, 6, 6, 3, 3, 3, 3, 3, 6, 6, 4, 4, 3, 4, 2, 2, 3], [7, 7, 3, 3, 5, 7, 3, 5, 5, 3, 3, 3, 5, 7, 3, 7, 7, 5, 7, 7, 6, 3, 4, 3, 3, 3, 4, 3, 3, 4, 6, 6, 6, 4, 4, 6, 6, 4, 3, 4, 2, 2, 3, 4, 3], [7, 3, 3, 3, 3, 3, 5, 7, 5, 3, 5, 5, 3, 7, 7, 7, 5, 3, 7, 5, 3, 6, 3, 6, 6, 3, 4, 3, 6, 6, 3, 4, 3, 4, 4, 3, 4, 6, 6, 4, 3, 3, 2, 3, 3], [3, 3, 7, 5, 7, 3, 5, 7, 3, 5, 3, 5, 5, 5, 5, 3, 5, 5, 3, 3, 3, 6, 6, 6, 6, 6, 4, 3, 4, 4, 6, 4, 3, 6, 3, 6, 3, 6, 4, 6, 2, 2, 2, 3, 3], [5, 3, 5, 5, 5, 5, 7, 7, 3, 7, 7, 7, 3, 3, 7, 3, 7, 5, 5, 3, 3, 3, 6, 4, 6, 4, 4, 3, 6, 4, 6, 6, 3, 6, 4, 4, 3, 4, 3, 4, 3, 3, 4, 4, 4], [5, 5, 7, 5, 5, 5, 5, 7, 3, 3, 7, 3, 7, 5, 3, 3, 5, 7, 3, 3, 4, 4, 4, 4, 3, 4, 6, 3, 4, 6, 6, 3, 6, 3, 4, 6, 6, 4, 4, 6, 2, 4, 2, 3, 3], [7, 5, 3, 3, 7, 7, 7, 7, 5, 7, 5, 3, 7, 3, 5, 7, 3, 5, 7, 5, 4, 4, 4, 6, 4, 3, 3, 6, 3, 6, 4, 6, 6, 6, 6, 6, 3, 4, 6, 4, 2, 2, 2, 4, 3], [3, 3, 3, 7, 7, 3, 3, 7, 7, 7, 7, 5, 5, 7, 7, 3, 7, 7, 5, 7, 3, 4, 3, 3, 6, 3, 6, 3, 6, 3, 6, 3, 4, 3, 3, 6, 4, 4, 3, 6, 4, 4, 2, 4, 3], [3, 7, 7, 7, 3, 5, 3, 7, 5, 3, 5, 5, 7, 3, 5, 5, 3, 7, 5, 5, 4, 3, 4, 4, 3, 4, 6, 4, 6, 4, 3, 3, 3, 3, 6, 3, 4, 6, 4, 3, 4, 2, 4, 4, 3], [7, 7, 3, 5, 5, 5, 7, 3, 3, 5, 3, 3, 5, 7, 7, 3, 3, 7, 3, 3, 3, 3, 4, 6, 4, 6, 6, 6, 4, 3, 3, 6, 6, 4, 3, 4, 6, 4, 4, 4, 2, 4, 2, 3, 2], [3, 7, 7, 3, 5, 7, 7, 5, 7, 3, 5, 7, 7, 3, 5, 5, 5, 3, 3, 5, 3, 4, 3, 4, 3, 4, 6, 3, 6, 3, 4, 3, 4, 4, 4, 6, 3, 3, 4, 3, 3, 3, 2, 4, 2], [3, 7, 5, 3, 3, 5, 5, 7, 5, 7, 3, 5, 3, 7, 7, 5, 5, 7, 3, 3, 3, 3, 4, 6, 3, 6, 4, 3, 6, 4, 6, 4, 6, 6, 6, 6, 3, 4, 3, 6, 4, 4, 2, 2, 3], [3, 7, 3, 3, 5, 7, 5, 7, 5, 7, 7, 7, 7, 3, 3, 3, 7, 3, 3, 3, 6, 4, 4, 3, 4, 6, 4, 6, 4, 6, 6, 4, 4, 3, 3, 3, 6, 4, 3, 3, 2, 4, 4, 4, 4], [5, 5, 7, 5, 7, 3, 7, 7, 7, 5, 7, 3, 5, 3, 5, 7, 3, 7, 7, 5, 4, 3, 6, 6, 6, 3, 6, 3, 6, 3, 3, 6, 4, 4, 3, 3, 3, 3, 3, 3, 3, 2, 3, 4, 2], [7, 3, 7, 3, 5, 5, 3, 3, 7, 3, 7, 7, 7, 5, 5, 5, 5, 7, 5, 5, 6, 4, 3, 3, 4, 3, 3, 4, 4, 3, 6, 6, 3, 4, 4, 6, 6, 4, 6, 3, 3, 4, 4, 4, 2], [5, 5, 3, 7, 3, 7, 7, 5, 3, 7, 7, 5, 5, 7, 7, 7, 5, 7, 5, 3, 4, 4, 3, 3, 4, 3, 4, 6, 3, 3, 3, 4, 6, 6, 4, 6, 6, 4, 3, 4, 4, 4, 4, 3, 4], [5, 5, 3, 5, 7, 3, 5, 5, 3, 5, 7, 3, 5, 3, 3, 5, 7, 7, 5, 5, 4, 3, 6, 4, 6, 6, 6, 4, 3, 6, 6, 6, 4, 4, 4, 4, 3, 4, 3, 6, 2, 4, 2, 4, 3], [5, 3, 5, 3, 5, 3, 3, 3, 7, 3, 5, 7, 5, 7, 3, 7, 7, 5, 5, 3, 6, 3, 6, 6, 3, 4, 3, 4, 6, 3, 4, 6, 3, 3, 4, 4, 6, 6, 6, 4, 3, 4, 4, 4, 3], [7, 5, 3, 7, 3, 5, 3, 5, 3, 5, 7, 3, 7, 7, 5, 7, 7, 3, 3, 3, 3, 3, 6, 4, 3, 4, 4, 3, 3, 3, 3, 4, 3, 3, 3, 3, 6, 6, 4, 4, 2, 4, 2, 4, 2], [5, 7, 7, 5, 5, 5, 7, 7, 7, 3, 5, 5, 5, 5, 3, 3, 5, 7, 3, 5, 3, 4, 4, 3, 3, 6, 6, 4, 4, 3, 4, 3, 3, 6, 4, 6, 4, 3, 3, 3, 2, 2, 4, 2, 2], [5, 5, 7, 3, 3, 3, 5, 3, 5, 5, 3, 3, 5, 7, 5, 3, 5, 3, 7, 7, 3, 3, 4, 4, 3, 3, 3, 3, 4, 6, 6, 4, 3, 4, 6, 4, 4, 4, 3, 3, 4, 4, 3, 2, 3], [3, 5, 5, 5, 7, 5, 7, 7, 5, 5, 5, 5, 5, 7, 3, 5, 7, 7, 3, 5, 6, 6, 4, 6, 3, 3, 3, 4, 4, 3, 6, 4, 4, 3, 3, 6, 6, 3, 3, 6, 3, 4, 3, 2, 2], [3, 3, 7, 5, 5, 5, 7, 7, 7, 5, 3, 3, 3, 3, 7, 5, 5, 5, 3, 3, 3, 3, 3, 6, 4, 4, 6, 4, 3, 6, 4, 3, 6, 4, 3, 6, 6, 3, 4, 6, 2, 4, 2, 3, 4], [5, 3, 3, 3, 7, 5, 7, 3, 5, 5, 3, 3, 3, 5, 3, 5, 7, 3, 5, 3, 6, 3, 4, 6, 3, 6, 4, 3, 4, 3, 4, 4, 6, 3, 4, 4, 3, 3, 6, 6, 2, 3, 3, 2, 2], [3, 7, 3, 5, 3, 7, 5, 3, 7, 7, 3, 5, 5, 3, 7, 5, 5, 7, 7, 7, 4, 6, 6, 3, 6, 6, 4, 4, 3, 6, 6, 6, 3, 3, 3, 4, 4, 6, 3, 3, 2, 4, 3, 4, 3], [3, 3, 3, 5, 3, 3, 3, 5, 7, 3, 7, 5, 3, 7, 5, 3, 7, 7, 3, 7, 6, 3, 3, 6, 3, 6, 6, 3, 6, 6, 4, 4, 4, 3, 6, 3, 6, 3, 3, 6, 2, 3, 4, 4, 4], [5, 7, 3, 7, 3, 7, 5, 5, 5, 7, 7, 3, 3, 3, 7, 3, 5, 5, 3, 5, 6, 4, 6, 6, 6, 4, 6, 3, 4, 4, 3, 3, 6, 6, 4, 3, 4, 3, 6, 4, 2, 2, 3, 4, 3], [3, 3, 3, 3, 5, 7, 5, 3, 3, 7, 3, 3, 5, 3, 3, 3, 3, 3, 3, 3, 6, 3, 6, 4, 4, 3, 6, 6, 3, 6, 6, 3, 6, 6, 6, 3, 4, 3, 3, 4, 4, 3, 2, 4, 2], [5, 5, 7, 3, 3, 3, 7, 5, 7, 7, 3, 7, 5, 3, 5, 7, 7, 5, 5, 5, 4, 4, 3, 4, 3, 3, 6, 6, 6, 3, 4, 6, 6, 3, 3, 4, 6, 6, 6, 3, 2, 3, 3, 2, 3], [3, 3, 3, 3, 5, 3, 5, 3, 7, 3, 5, 5, 7, 3, 5, 7, 3, 5, 5, 7, 4, 3, 6, 4, 3, 6, 6, 4, 4, 4, 3, 6, 6, 3, 3, 6, 3, 3, 6, 6, 3, 2, 2, 4, 3], [3, 7, 5, 5, 7, 5, 7, 3, 3, 5, 5, 3, 5, 3, 5, 3, 3, 7, 3, 3, 3, 4, 4, 6, 6, 6, 3, 6, 6, 4, 3, 6, 6, 6, 6, 4, 3, 3, 3, 6, 3, 4, 4, 4, 2], [5, 7, 3, 3, 7, 5, 7, 5, 3, 3, 5, 5, 7, 3, 3, 7, 7, 3, 5, 5, 6, 3, 6, 6, 6, 3, 6, 6, 4, 3, 6, 3, 3, 3, 3, 3, 4, 6, 3, 3, 2, 2, 4, 2, 3], [3, 7, 5, 5, 5, 3, 7, 5, 7, 5, 3, 3, 5, 3, 3, 7, 3, 7, 3, 5, 3, 4, 3, 6, 4, 3, 3, 4, 4, 6, 6, 3, 3, 3, 6, 6, 4, 4, 3, 6, 4, 4, 4, 3, 4], [5, 3, 5, 3, 5, 3, 7, 3, 3, 5, 5, 3, 5, 7, 5, 7, 7, 5, 3, 7, 4, 4, 6, 3, 3, 6, 3, 3, 3, 3, 4, 4, 3, 6, 4, 3, 6, 3, 3, 3, 4, 3, 3, 2, 2], [7, 7, 5, 3, 7, 7, 3, 7, 5, 5, 7, 3, 3, 5, 7, 7, 5, 5, 5, 3, 4, 3, 4, 6, 3, 4, 6, 3, 3, 6, 3, 6, 3, 4, 3, 3, 6, 4, 3, 3, 3, 2, 4, 2, 2]], 'f_emb': [tensor([-0., -0., -0.,  ..., -0., -0., -0.]), tensor([-0., -0., -0.,  ..., -0., -0., -0.]), tensor([1226.8495,   -0.0000,   -0.0000,  ...,   -0.0000,   -0.0000,\n",
      "          -0.0000]), tensor([-0., -0., -0.,  ..., -0., -0., -0.]), tensor([188.3607,  -0.0000,  -0.0000,  ...,  -0.0000,  -0.0000, 213.2732]), tensor([-0., -0., -0.,  ..., -0., -0., -0.]), tensor([-0., -0., -0.,  ..., -0., -0., -0.]), tensor([-0.0000, -0.0000, -0.0000,  ..., -0.0000, -0.0000, 9.9611]), tensor([38.6843, -0.0000, -0.0000,  ..., -0.0000, -0.0000, -0.0000]), tensor([ 0.5262, -0.3664,  0.4536,  ..., -0.3597, -0.2121, -0.3281]), tensor([-0., -0., -0.,  ..., -0., -0., -0.]), tensor([-0.0000, -0.0000, -0.0000,  ..., 30.1783, -0.0000,  3.6916]), tensor([-0., -0., -0.,  ..., -0., -0., -0.]), tensor([-0., -0., -0.,  ..., -0., -0., -0.]), tensor([18.3999, -0.0000, -0.0000,  ..., -0.0000, -0.0000, 45.3672]), tensor([ 0.2349,  0.1743,  0.1660,  ...,  0.3616,  0.0957, -0.3534]), tensor([-0.2793, -0.3249, -0.3683,  ..., -0.0000, -0.0000, -0.3627]), tensor([ 0.0759, -0.3346, -0.2591,  ...,  0.4824, -0.2551, -0.1757]), tensor([ 0.4264, -0.1865, -0.1025,  ..., -0.1637,  0.7777, -0.3373]), tensor([ 0.4347, -0.2336, -0.2793,  ..., -0.3347, -0.3469, -0.1162]), tensor([ 0.0104,  0.4655, -0.3177,  ..., -0.1076,  0.8267, -0.3667]), tensor([ 0.0873,  0.1475, -0.3670,  ..., -0.1698,  0.0327, -0.3572]), tensor([322.7029,  -0.0000,  83.4842,  ...,  -0.0000,  -0.0000,  -0.0000]), tensor([-0.3365, -0.0309, -0.3139,  ...,  0.1455, -0.3260, -0.3622]), tensor([-0.0000, -0.0000, -0.0000,  ..., -0.0000, -0.0000, 3.1642]), tensor([    -0.0000,     -0.0000, 159417.2812,  ...,     -0.0000,\n",
      "            -0.0000, 179515.1562]), tensor([-0.0014, -0.3527, -0.0000,  ..., -0.0000, -0.0000, -0.0000]), tensor([6770305.5000,      -0.0000,      -0.0000,  ...,      -0.0000,\n",
      "             -0.0000,      -0.0000]), tensor([1609.9169,   -0.0000,   -0.0000,  ...,   -0.0000,   -0.0000,\n"
     ]
    },
    {
     "name": "stderr",
     "output_type": "stream",
     "text": [
      "Using cache found in /root/.cache/torch/hub/mit-han-lab_once-for-all_master\n"
     ]
    },
    {
     "name": "stdout",
     "output_type": "stream",
     "text": [
      "          -0.0000]), tensor([-0., -0., -0.,  ..., -0., -0., -0.]), tensor([-0.0067, -0.3482, -0.3706,  ..., -0.3683, -0.0611,  0.0504]), tensor([ 1.4714, -0.0000, -0.0945,  ..., -0.2832, -0.0000, -0.3679]), tensor([ 1.7539, 21.7252, -0.0000,  ..., -0.0000, -0.0000, 13.5089]), tensor([-0.3179, -0.3455, -0.3743,  ..., -0.2527,  0.1497, -0.0043]), tensor([-0.3241, -0.2744, -0.1231,  ..., -0.1582, -0.2237, -0.0000]), tensor([-0.1600,  3.9948, -0.0000,  ..., -0.0000, -0.0000,  8.6842]), tensor([-0.1209,  0.0394, -0.3112,  ..., -0.2695, -0.1538, -0.1348]), tensor([255.8073,  -0.0000, 140.1278,  ...,  -0.0000,  -0.0000,  -0.0000]), tensor([-0., -0., -0.,  ..., -0., -0., -0.]), tensor([-0.0667, -0.2547, -0.3669,  ...,  0.1411, -0.0529, -0.0764]), tensor([ 0.0093, -0.3176, -0.3739,  ..., -0.1065,  0.4898, -0.3551]), tensor([-0.3701, -0.1757, -0.3706,  ..., -0.3319, -0.2591,  0.1290]), tensor([-0.3745, -0.1032, -0.1967,  ..., -0.0000, -0.0000, -0.0593]), tensor([-0.3677, -0.2142, -0.0000,  ..., -0.0000, -0.0000, -0.3277]), tensor([-0., -0., -0.,  ..., -0., -0., -0.])], 'acc': [99.51923076923077, 99.03846153846153, 99.51923076923077, 99.51923076923077, 99.51923076923077, 99.51923076923077, 98.38709677419355, 96.7741935483871, 98.38709677419355, 98.38709677419355, 8.064516129032258, 96.7741935483871, 77.08333333333333, 76.4423076923077, 78.68589743589743, 77.40384615384616, 77.24358974358974, 78.36538461538461, 94.23076923076923, 75.64102564102564, 90.7051282051282, 94.23076923076923, 91.34615384615384, 94.23076923076923, 99.52978056426332, 99.3730407523511, 99.68652037617555, 99.68652037617555, 100.0, 99.3730407523511, 84.88700564971751, 87.99435028248588, 86.7231638418079, 85.73446327683615, 87.99435028248588, 86.44067796610169, 96.6740576496674, 97.11751662971176, 97.00665188470066, 97.22838137472284, 96.6740576496674, 95.56541019955654, 94.0, 94.6, 94.0], 'n_params': [6228442, 5625114, 6570290, 5347354, 5825218, 4821626, 4711646, 4554646, 6688342, 4317614, 5203934, 5550702, 5717244, 5151700, 5773028, 5059684, 6364428, 4930308, 5608818, 4493962, 4318938, 4537954, 5514050, 3861938, 5155304, 6005320, 4798208, 6420784, 4792312, 3845304, 4249220, 3881348, 5982340, 3517428, 5327428, 6367692, 5599490, 4745802, 5815994, 5362738, 5007786, 4598522, 5921562, 4126858, 4121234]}\n",
      "\n",
      "=====> Generating 4th network  <=====\n",
      "\n",
      "\n",
      "=====>Generating sub_net<=====\n",
      "\n",
      "\n",
      "=====> Training started <=====\n",
      "\n",
      "Starting Training for:khu-deep-learning-competition_0_10 with model topology:[3, 7, 5, 3, 7, 7, 7, 5, 3, 3, 7, 7, 7, 5, 7, 5, 5, 5, 7, 5, 6, 3, 6, 4, 3, 3, 4, 6, 3, 4, 3, 6, 3, 4, 3, 3, 4, 3, 4, 4, 3, 3, 4, 4, 4]\n"
     ]
    },
    {
     "name": "stderr",
     "output_type": "stream",
     "text": [
      "125it [00:20,  5.98it/s]\n",
      "16it [00:01, 14.28it/s]\n"
     ]
    },
    {
     "name": "stdout",
     "output_type": "stream",
     "text": [
      "\n",
      "Epoch: 1/15, Train Loss: 25.53493880 , Val Loss: 10.18441223, Train Accuracy:81.30000000,  Val Accuracy: 88.80000000, Epoch Time: 22.28814530\n"
     ]
    },
    {
     "name": "stderr",
     "output_type": "stream",
     "text": [
      "125it [00:20,  5.97it/s]\n",
      "16it [00:01, 13.42it/s]\n"
     ]
    },
    {
     "name": "stdout",
     "output_type": "stream",
     "text": [
      "\n",
      "Epoch: 2/15, Train Loss: 5.05702241 , Val Loss: 6.78197974, Train Accuracy:95.22500000,  Val Accuracy: 93.80000000, Epoch Time: 22.38706112\n"
     ]
    },
    {
     "name": "stderr",
     "output_type": "stream",
     "text": [
      "125it [00:20,  5.96it/s]\n",
      "16it [00:01, 15.02it/s]\n"
     ]
    },
    {
     "name": "stdout",
     "output_type": "stream",
     "text": [
      "\n",
      "Epoch: 3/15, Train Loss: 2.41932201 , Val Loss: 5.36292572, Train Accuracy:97.72500000,  Val Accuracy: 94.00000000, Epoch Time: 22.28110027\n"
     ]
    },
    {
     "name": "stderr",
     "output_type": "stream",
     "text": [
      "125it [00:20,  5.96it/s]\n",
      "16it [00:01, 15.31it/s]\n"
     ]
    },
    {
     "name": "stdout",
     "output_type": "stream",
     "text": [
      "\n",
      "Epoch: 4/15, Train Loss: 1.27680989 , Val Loss: 5.70355488, Train Accuracy:98.85000000,  Val Accuracy: 93.80000000, Epoch Time: 22.26177955\n"
     ]
    },
    {
     "name": "stderr",
     "output_type": "stream",
     "text": [
      "125it [00:20,  5.96it/s]\n",
      "16it [00:01, 14.53it/s]\n"
     ]
    },
    {
     "name": "stdout",
     "output_type": "stream",
     "text": [
      "\n",
      "Epoch: 5/15, Train Loss: 0.92423637 , Val Loss: 4.89946407, Train Accuracy:99.40000000,  Val Accuracy: 94.20000000, Epoch Time: 22.32326341\n"
     ]
    },
    {
     "name": "stderr",
     "output_type": "stream",
     "text": [
      "125it [00:20,  5.96it/s]\n",
      "16it [00:01, 15.19it/s]\n"
     ]
    },
    {
     "name": "stdout",
     "output_type": "stream",
     "text": [
      "\n",
      "Epoch: 6/15, Train Loss: 0.49151721 , Val Loss: 4.88291616, Train Accuracy:99.72500000,  Val Accuracy: 94.00000000, Epoch Time: 22.25877500\n"
     ]
    },
    {
     "name": "stderr",
     "output_type": "stream",
     "text": [
      "125it [00:20,  5.96it/s]\n",
      "16it [00:01, 14.51it/s]\n"
     ]
    },
    {
     "name": "stdout",
     "output_type": "stream",
     "text": [
      "\n",
      "Epoch: 7/15, Train Loss: 0.40703771 , Val Loss: 5.10242424, Train Accuracy:99.75000000,  Val Accuracy: 94.60000000, Epoch Time: 22.35721850\n"
     ]
    },
    {
     "name": "stderr",
     "output_type": "stream",
     "text": [
      "125it [00:20,  5.97it/s]\n",
      "16it [00:01, 14.11it/s]\n"
     ]
    },
    {
     "name": "stdout",
     "output_type": "stream",
     "text": [
      "\n",
      "Epoch: 8/15, Train Loss: 0.35595552 , Val Loss: 5.23862386, Train Accuracy:99.77500000,  Val Accuracy: 93.60000000, Epoch Time: 22.29802370\n"
     ]
    },
    {
     "name": "stderr",
     "output_type": "stream",
     "text": [
      "125it [00:20,  5.97it/s]\n",
      "16it [00:01, 14.60it/s]\n"
     ]
    },
    {
     "name": "stdout",
     "output_type": "stream",
     "text": [
      "\n",
      "Epoch: 9/15, Train Loss: 0.19160519 , Val Loss: 5.67662920, Train Accuracy:99.95000000,  Val Accuracy: 93.80000000, Epoch Time: 22.26987076\n"
     ]
    },
    {
     "name": "stderr",
     "output_type": "stream",
     "text": [
      "125it [00:20,  5.95it/s]\n",
      "16it [00:01, 15.26it/s]\n"
     ]
    },
    {
     "name": "stdout",
     "output_type": "stream",
     "text": [
      "\n",
      "Epoch: 10/15, Train Loss: 0.15817301 , Val Loss: 4.62373492, Train Accuracy:99.97500000,  Val Accuracy: 95.00000000, Epoch Time: 22.26819324\n"
     ]
    },
    {
     "name": "stderr",
     "output_type": "stream",
     "text": [
      "125it [00:20,  5.97it/s]\n",
      "16it [00:01, 14.39it/s]\n"
     ]
    },
    {
     "name": "stdout",
     "output_type": "stream",
     "text": [
      "\n",
      "Epoch: 11/15, Train Loss: 0.14185846 , Val Loss: 5.23265413, Train Accuracy:99.92500000,  Val Accuracy: 93.80000000, Epoch Time: 22.32509160\n"
     ]
    },
    {
     "name": "stderr",
     "output_type": "stream",
     "text": [
      "125it [00:20,  5.97it/s]\n",
      "16it [00:01, 15.02it/s]\n"
     ]
    },
    {
     "name": "stdout",
     "output_type": "stream",
     "text": [
      "\n",
      "Epoch: 12/15, Train Loss: 0.11659977 , Val Loss: 6.52849104, Train Accuracy:99.92500000,  Val Accuracy: 93.20000000, Epoch Time: 22.27534628\n"
     ]
    },
    {
     "name": "stderr",
     "output_type": "stream",
     "text": [
      "125it [00:20,  5.97it/s]\n",
      "16it [00:01, 15.06it/s]\n"
     ]
    },
    {
     "name": "stdout",
     "output_type": "stream",
     "text": [
      "\n",
      "Epoch: 13/15, Train Loss: 0.12934636 , Val Loss: 5.79779934, Train Accuracy:99.95000000,  Val Accuracy: 94.40000000, Epoch Time: 22.25272417\n"
     ]
    },
    {
     "name": "stderr",
     "output_type": "stream",
     "text": [
      "125it [00:21,  5.95it/s]\n",
      "16it [00:01, 15.00it/s]\n"
     ]
    },
    {
     "name": "stdout",
     "output_type": "stream",
     "text": [
      "\n",
      "Epoch: 14/15, Train Loss: 0.09091792 , Val Loss: 5.85897493, Train Accuracy:99.97500000,  Val Accuracy: 94.20000000, Epoch Time: 22.30612707\n"
     ]
    },
    {
     "name": "stderr",
     "output_type": "stream",
     "text": [
      "125it [00:20,  5.96it/s]\n",
      "16it [00:01, 14.19it/s]\n"
     ]
    },
    {
     "name": "stdout",
     "output_type": "stream",
     "text": [
      "\n",
      "Epoch: 15/15, Train Loss: 0.07333665 , Val Loss: 5.81556068, Train Accuracy:100.00000000,  Val Accuracy: 95.00000000, Epoch Time: 22.40010333\n",
      "Early stopping on, 14th, epoch\n",
      "\n",
      "=====>Generating f_emb<=====\n",
      "\n",
      "torch.Size([1536])\n",
      "{'dataset': ['sldc_0_10', 'sldc_0_10', 'sldc_0_10', 'sldc_0_10', 'sldc_0_10', 'sldc_0_10', 'corales_0_14', 'corales_0_14', 'corales_0_14', 'corales_0_14', 'corales_0_14', 'corales_0_14', '6000-store-items-images-classified-by-color_imoore_0_12', '6000-store-items-images-classified-by-color_imoore_0_12', '6000-store-items-images-classified-by-color_imoore_0_12', '6000-store-items-images-classified-by-color_imoore_0_12', '6000-store-items-images-classified-by-color_imoore_0_12', '6000-store-items-images-classified-by-color_imoore_0_12', 'fcis-sc-deeplearning-competition_0_10', 'fcis-sc-deeplearning-competition_0_10', 'fcis-sc-deeplearning-competition_0_10', 'fcis-sc-deeplearning-competition_0_10', 'fcis-sc-deeplearning-competition_0_10', 'fcis-sc-deeplearning-competition_0_10', 'lego-brick-images_joosthazelzet_0_16', 'lego-brick-images_joosthazelzet_0_16', 'lego-brick-images_joosthazelzet_0_16', 'lego-brick-images_joosthazelzet_0_16', 'lego-brick-images_joosthazelzet_0_16', 'lego-brick-images_joosthazelzet_0_16', 'oregon-wildlife_virtualdvid_0_20', 'oregon-wildlife_virtualdvid_0_20', 'oregon-wildlife_virtualdvid_0_20', 'oregon-wildlife_virtualdvid_0_20', 'oregon-wildlife_virtualdvid_0_20', 'oregon-wildlife_virtualdvid_0_20', 'perritos_0_10', 'perritos_0_10', 'perritos_0_10', 'perritos_0_10', 'perritos_0_10', 'perritos_0_10', 'khu-deep-learning-competition_0_10', 'khu-deep-learning-competition_0_10', 'khu-deep-learning-competition_0_10', 'khu-deep-learning-competition_0_10'], 'topol': [[3, 5, 5, 5, 7, 5, 5, 7, 3, 5, 7, 7, 7, 5, 7, 5, 3, 3, 7, 3, 4, 3, 6, 3, 6, 6, 4, 4, 6, 4, 3, 6, 6, 3, 4, 6, 3, 4, 6, 3, 3, 4, 2, 4, 4], [3, 7, 7, 7, 5, 7, 5, 3, 7, 5, 3, 3, 5, 5, 3, 7, 7, 5, 3, 5, 3, 4, 6, 3, 6, 4, 6, 4, 4, 3, 3, 3, 3, 6, 6, 3, 3, 4, 6, 4, 4, 3, 2, 2, 4], [3, 7, 5, 5, 3, 7, 7, 5, 5, 5, 5, 5, 5, 7, 7, 7, 7, 7, 5, 7, 6, 6, 6, 3, 6, 3, 4, 4, 6, 6, 6, 4, 3, 6, 4, 6, 6, 4, 6, 4, 2, 3, 3, 3, 4], [7, 5, 3, 3, 5, 3, 5, 5, 5, 5, 3, 7, 7, 5, 7, 3, 3, 5, 3, 5, 3, 4, 6, 6, 6, 3, 6, 3, 6, 3, 6, 4, 4, 6, 6, 4, 6, 6, 6, 4, 2, 2, 2, 3, 2], [3, 5, 5, 7, 5, 5, 7, 3, 7, 5, 5, 5, 3, 5, 3, 7, 5, 7, 7, 3, 3, 6, 3, 3, 6, 3, 6, 6, 4, 4, 3, 4, 4, 3, 6, 6, 4, 3, 4, 3, 4, 3, 4, 4, 4], [3, 3, 5, 5, 7, 5, 5, 5, 5, 5, 3, 3, 3, 3, 3, 7, 7, 3, 5, 5, 6, 4, 3, 4, 4, 4, 3, 6, 4, 3, 6, 4, 4, 4, 6, 6, 4, 4, 3, 6, 4, 2, 4, 3, 3], [7, 7, 5, 5, 5, 5, 3, 3, 3, 5, 7, 5, 5, 3, 3, 5, 5, 5, 7, 5, 3, 4, 3, 6, 6, 4, 3, 4, 6, 6, 4, 4, 6, 4, 4, 3, 6, 4, 3, 6, 2, 4, 4, 3, 2], [3, 3, 3, 7, 7, 5, 5, 7, 7, 5, 7, 7, 7, 7, 3, 5, 7, 7, 7, 3, 6, 4, 6, 3, 3, 4, 6, 6, 3, 3, 4, 4, 4, 4, 6, 6, 3, 4, 4, 3, 2, 4, 4, 2, 3], [5, 5, 3, 5, 7, 3, 5, 7, 7, 5, 3, 7, 7, 3, 3, 7, 3, 3, 7, 3, 4, 4, 6, 6, 3, 6, 3, 6, 3, 4, 4, 6, 3, 4, 6, 3, 6, 6, 4, 4, 4, 2, 4, 4, 4], [3, 5, 3, 5, 3, 3, 7, 7, 3, 3, 5, 7, 5, 3, 7, 7, 3, 3, 3, 7, 3, 4, 6, 6, 4, 4, 6, 6, 3, 3, 3, 6, 3, 6, 3, 4, 3, 4, 6, 6, 4, 4, 4, 3, 2], [3, 7, 7, 5, 7, 3, 7, 5, 7, 7, 7, 5, 7, 5, 3, 7, 5, 5, 5, 5, 6, 3, 6, 6, 4, 6, 6, 4, 6, 6, 6, 3, 3, 3, 3, 3, 6, 6, 4, 4, 3, 4, 2, 2, 3], [7, 7, 3, 3, 5, 7, 3, 5, 5, 3, 3, 3, 5, 7, 3, 7, 7, 5, 7, 7, 6, 3, 4, 3, 3, 3, 4, 3, 3, 4, 6, 6, 6, 4, 4, 6, 6, 4, 3, 4, 2, 2, 3, 4, 3], [7, 3, 3, 3, 3, 3, 5, 7, 5, 3, 5, 5, 3, 7, 7, 7, 5, 3, 7, 5, 3, 6, 3, 6, 6, 3, 4, 3, 6, 6, 3, 4, 3, 4, 4, 3, 4, 6, 6, 4, 3, 3, 2, 3, 3], [3, 3, 7, 5, 7, 3, 5, 7, 3, 5, 3, 5, 5, 5, 5, 3, 5, 5, 3, 3, 3, 6, 6, 6, 6, 6, 4, 3, 4, 4, 6, 4, 3, 6, 3, 6, 3, 6, 4, 6, 2, 2, 2, 3, 3], [5, 3, 5, 5, 5, 5, 7, 7, 3, 7, 7, 7, 3, 3, 7, 3, 7, 5, 5, 3, 3, 3, 6, 4, 6, 4, 4, 3, 6, 4, 6, 6, 3, 6, 4, 4, 3, 4, 3, 4, 3, 3, 4, 4, 4], [5, 5, 7, 5, 5, 5, 5, 7, 3, 3, 7, 3, 7, 5, 3, 3, 5, 7, 3, 3, 4, 4, 4, 4, 3, 4, 6, 3, 4, 6, 6, 3, 6, 3, 4, 6, 6, 4, 4, 6, 2, 4, 2, 3, 3], [7, 5, 3, 3, 7, 7, 7, 7, 5, 7, 5, 3, 7, 3, 5, 7, 3, 5, 7, 5, 4, 4, 4, 6, 4, 3, 3, 6, 3, 6, 4, 6, 6, 6, 6, 6, 3, 4, 6, 4, 2, 2, 2, 4, 3], [3, 3, 3, 7, 7, 3, 3, 7, 7, 7, 7, 5, 5, 7, 7, 3, 7, 7, 5, 7, 3, 4, 3, 3, 6, 3, 6, 3, 6, 3, 6, 3, 4, 3, 3, 6, 4, 4, 3, 6, 4, 4, 2, 4, 3], [3, 7, 7, 7, 3, 5, 3, 7, 5, 3, 5, 5, 7, 3, 5, 5, 3, 7, 5, 5, 4, 3, 4, 4, 3, 4, 6, 4, 6, 4, 3, 3, 3, 3, 6, 3, 4, 6, 4, 3, 4, 2, 4, 4, 3], [7, 7, 3, 5, 5, 5, 7, 3, 3, 5, 3, 3, 5, 7, 7, 3, 3, 7, 3, 3, 3, 3, 4, 6, 4, 6, 6, 6, 4, 3, 3, 6, 6, 4, 3, 4, 6, 4, 4, 4, 2, 4, 2, 3, 2], [3, 7, 7, 3, 5, 7, 7, 5, 7, 3, 5, 7, 7, 3, 5, 5, 5, 3, 3, 5, 3, 4, 3, 4, 3, 4, 6, 3, 6, 3, 4, 3, 4, 4, 4, 6, 3, 3, 4, 3, 3, 3, 2, 4, 2], [3, 7, 5, 3, 3, 5, 5, 7, 5, 7, 3, 5, 3, 7, 7, 5, 5, 7, 3, 3, 3, 3, 4, 6, 3, 6, 4, 3, 6, 4, 6, 4, 6, 6, 6, 6, 3, 4, 3, 6, 4, 4, 2, 2, 3], [3, 7, 3, 3, 5, 7, 5, 7, 5, 7, 7, 7, 7, 3, 3, 3, 7, 3, 3, 3, 6, 4, 4, 3, 4, 6, 4, 6, 4, 6, 6, 4, 4, 3, 3, 3, 6, 4, 3, 3, 2, 4, 4, 4, 4], [5, 5, 7, 5, 7, 3, 7, 7, 7, 5, 7, 3, 5, 3, 5, 7, 3, 7, 7, 5, 4, 3, 6, 6, 6, 3, 6, 3, 6, 3, 3, 6, 4, 4, 3, 3, 3, 3, 3, 3, 3, 2, 3, 4, 2], [7, 3, 7, 3, 5, 5, 3, 3, 7, 3, 7, 7, 7, 5, 5, 5, 5, 7, 5, 5, 6, 4, 3, 3, 4, 3, 3, 4, 4, 3, 6, 6, 3, 4, 4, 6, 6, 4, 6, 3, 3, 4, 4, 4, 2], [5, 5, 3, 7, 3, 7, 7, 5, 3, 7, 7, 5, 5, 7, 7, 7, 5, 7, 5, 3, 4, 4, 3, 3, 4, 3, 4, 6, 3, 3, 3, 4, 6, 6, 4, 6, 6, 4, 3, 4, 4, 4, 4, 3, 4], [5, 5, 3, 5, 7, 3, 5, 5, 3, 5, 7, 3, 5, 3, 3, 5, 7, 7, 5, 5, 4, 3, 6, 4, 6, 6, 6, 4, 3, 6, 6, 6, 4, 4, 4, 4, 3, 4, 3, 6, 2, 4, 2, 4, 3], [5, 3, 5, 3, 5, 3, 3, 3, 7, 3, 5, 7, 5, 7, 3, 7, 7, 5, 5, 3, 6, 3, 6, 6, 3, 4, 3, 4, 6, 3, 4, 6, 3, 3, 4, 4, 6, 6, 6, 4, 3, 4, 4, 4, 3], [7, 5, 3, 7, 3, 5, 3, 5, 3, 5, 7, 3, 7, 7, 5, 7, 7, 3, 3, 3, 3, 3, 6, 4, 3, 4, 4, 3, 3, 3, 3, 4, 3, 3, 3, 3, 6, 6, 4, 4, 2, 4, 2, 4, 2], [5, 7, 7, 5, 5, 5, 7, 7, 7, 3, 5, 5, 5, 5, 3, 3, 5, 7, 3, 5, 3, 4, 4, 3, 3, 6, 6, 4, 4, 3, 4, 3, 3, 6, 4, 6, 4, 3, 3, 3, 2, 2, 4, 2, 2], [5, 5, 7, 3, 3, 3, 5, 3, 5, 5, 3, 3, 5, 7, 5, 3, 5, 3, 7, 7, 3, 3, 4, 4, 3, 3, 3, 3, 4, 6, 6, 4, 3, 4, 6, 4, 4, 4, 3, 3, 4, 4, 3, 2, 3], [3, 5, 5, 5, 7, 5, 7, 7, 5, 5, 5, 5, 5, 7, 3, 5, 7, 7, 3, 5, 6, 6, 4, 6, 3, 3, 3, 4, 4, 3, 6, 4, 4, 3, 3, 6, 6, 3, 3, 6, 3, 4, 3, 2, 2], [3, 3, 7, 5, 5, 5, 7, 7, 7, 5, 3, 3, 3, 3, 7, 5, 5, 5, 3, 3, 3, 3, 3, 6, 4, 4, 6, 4, 3, 6, 4, 3, 6, 4, 3, 6, 6, 3, 4, 6, 2, 4, 2, 3, 4], [5, 3, 3, 3, 7, 5, 7, 3, 5, 5, 3, 3, 3, 5, 3, 5, 7, 3, 5, 3, 6, 3, 4, 6, 3, 6, 4, 3, 4, 3, 4, 4, 6, 3, 4, 4, 3, 3, 6, 6, 2, 3, 3, 2, 2], [3, 7, 3, 5, 3, 7, 5, 3, 7, 7, 3, 5, 5, 3, 7, 5, 5, 7, 7, 7, 4, 6, 6, 3, 6, 6, 4, 4, 3, 6, 6, 6, 3, 3, 3, 4, 4, 6, 3, 3, 2, 4, 3, 4, 3], [3, 3, 3, 5, 3, 3, 3, 5, 7, 3, 7, 5, 3, 7, 5, 3, 7, 7, 3, 7, 6, 3, 3, 6, 3, 6, 6, 3, 6, 6, 4, 4, 4, 3, 6, 3, 6, 3, 3, 6, 2, 3, 4, 4, 4], [5, 7, 3, 7, 3, 7, 5, 5, 5, 7, 7, 3, 3, 3, 7, 3, 5, 5, 3, 5, 6, 4, 6, 6, 6, 4, 6, 3, 4, 4, 3, 3, 6, 6, 4, 3, 4, 3, 6, 4, 2, 2, 3, 4, 3], [3, 3, 3, 3, 5, 7, 5, 3, 3, 7, 3, 3, 5, 3, 3, 3, 3, 3, 3, 3, 6, 3, 6, 4, 4, 3, 6, 6, 3, 6, 6, 3, 6, 6, 6, 3, 4, 3, 3, 4, 4, 3, 2, 4, 2], [5, 5, 7, 3, 3, 3, 7, 5, 7, 7, 3, 7, 5, 3, 5, 7, 7, 5, 5, 5, 4, 4, 3, 4, 3, 3, 6, 6, 6, 3, 4, 6, 6, 3, 3, 4, 6, 6, 6, 3, 2, 3, 3, 2, 3], [3, 3, 3, 3, 5, 3, 5, 3, 7, 3, 5, 5, 7, 3, 5, 7, 3, 5, 5, 7, 4, 3, 6, 4, 3, 6, 6, 4, 4, 4, 3, 6, 6, 3, 3, 6, 3, 3, 6, 6, 3, 2, 2, 4, 3], [3, 7, 5, 5, 7, 5, 7, 3, 3, 5, 5, 3, 5, 3, 5, 3, 3, 7, 3, 3, 3, 4, 4, 6, 6, 6, 3, 6, 6, 4, 3, 6, 6, 6, 6, 4, 3, 3, 3, 6, 3, 4, 4, 4, 2], [5, 7, 3, 3, 7, 5, 7, 5, 3, 3, 5, 5, 7, 3, 3, 7, 7, 3, 5, 5, 6, 3, 6, 6, 6, 3, 6, 6, 4, 3, 6, 3, 3, 3, 3, 3, 4, 6, 3, 3, 2, 2, 4, 2, 3], [3, 7, 5, 5, 5, 3, 7, 5, 7, 5, 3, 3, 5, 3, 3, 7, 3, 7, 3, 5, 3, 4, 3, 6, 4, 3, 3, 4, 4, 6, 6, 3, 3, 3, 6, 6, 4, 4, 3, 6, 4, 4, 4, 3, 4], [5, 3, 5, 3, 5, 3, 7, 3, 3, 5, 5, 3, 5, 7, 5, 7, 7, 5, 3, 7, 4, 4, 6, 3, 3, 6, 3, 3, 3, 3, 4, 4, 3, 6, 4, 3, 6, 3, 3, 3, 4, 3, 3, 2, 2], [7, 7, 5, 3, 7, 7, 3, 7, 5, 5, 7, 3, 3, 5, 7, 7, 5, 5, 5, 3, 4, 3, 4, 6, 3, 4, 6, 3, 3, 6, 3, 6, 3, 4, 3, 3, 6, 4, 3, 3, 3, 2, 4, 2, 2], [3, 7, 5, 3, 7, 7, 7, 5, 3, 3, 7, 7, 7, 5, 7, 5, 5, 5, 7, 5, 6, 3, 6, 4, 3, 3, 4, 6, 3, 4, 3, 6, 3, 4, 3, 3, 4, 3, 4, 4, 3, 3, 4, 4, 4]], 'f_emb': [tensor([-0., -0., -0.,  ..., -0., -0., -0.]), tensor([-0., -0., -0.,  ..., -0., -0., -0.]), tensor([1226.8495,   -0.0000,   -0.0000,  ...,   -0.0000,   -0.0000,\n",
      "          -0.0000]), tensor([-0., -0., -0.,  ..., -0., -0., -0.]), tensor([188.3607,  -0.0000,  -0.0000,  ...,  -0.0000,  -0.0000, 213.2732]), tensor([-0., -0., -0.,  ..., -0., -0., -0.]), tensor([-0., -0., -0.,  ..., -0., -0., -0.]), tensor([-0.0000, -0.0000, -0.0000,  ..., -0.0000, -0.0000, 9.9611]), tensor([38.6843, -0.0000, -0.0000,  ..., -0.0000, -0.0000, -0.0000]), tensor([ 0.5262, -0.3664,  0.4536,  ..., -0.3597, -0.2121, -0.3281]), tensor([-0., -0., -0.,  ..., -0., -0., -0.]), tensor([-0.0000, -0.0000, -0.0000,  ..., 30.1783, -0.0000,  3.6916]), tensor([-0., -0., -0.,  ..., -0., -0., -0.]), tensor([-0., -0., -0.,  ..., -0., -0., -0.]), tensor([18.3999, -0.0000, -0.0000,  ..., -0.0000, -0.0000, 45.3672]), tensor([ 0.2349,  0.1743,  0.1660,  ...,  0.3616,  0.0957, -0.3534]), tensor([-0.2793, -0.3249, -0.3683,  ..., -0.0000, -0.0000, -0.3627]), tensor([ 0.0759, -0.3346, -0.2591,  ...,  0.4824, -0.2551, -0.1757]), tensor([ 0.4264, -0.1865, -0.1025,  ..., -0.1637,  0.7777, -0.3373]), tensor([ 0.4347, -0.2336, -0.2793,  ..., -0.3347, -0.3469, -0.1162]), tensor([ 0.0104,  0.4655, -0.3177,  ..., -0.1076,  0.8267, -0.3667]), tensor([ 0.0873,  0.1475, -0.3670,  ..., -0.1698,  0.0327, -0.3572]), tensor([322.7029,  -0.0000,  83.4842,  ...,  -0.0000,  -0.0000,  -0.0000]), tensor([-0.3365, -0.0309, -0.3139,  ...,  0.1455, -0.3260, -0.3622]), tensor([-0.0000, -0.0000, -0.0000,  ..., -0.0000, -0.0000, 3.1642]), tensor([    -0.0000,     -0.0000, 159417.2812,  ...,     -0.0000,\n",
      "            -0.0000, 179515.1562]), tensor([-0.0014, -0.3527, -0.0000,  ..., -0.0000, -0.0000, -0.0000]), tensor([6770305.5000,      -0.0000,      -0.0000,  ...,      -0.0000,\n",
      "             -0.0000,      -0.0000]), tensor([1609.9169,   -0.0000,   -0.0000,  ...,   -0.0000,   -0.0000,\n"
     ]
    },
    {
     "name": "stderr",
     "output_type": "stream",
     "text": [
      "Using cache found in /root/.cache/torch/hub/mit-han-lab_once-for-all_master\n"
     ]
    },
    {
     "name": "stdout",
     "output_type": "stream",
     "text": [
      "          -0.0000]), tensor([-0., -0., -0.,  ..., -0., -0., -0.]), tensor([-0.0067, -0.3482, -0.3706,  ..., -0.3683, -0.0611,  0.0504]), tensor([ 1.4714, -0.0000, -0.0945,  ..., -0.2832, -0.0000, -0.3679]), tensor([ 1.7539, 21.7252, -0.0000,  ..., -0.0000, -0.0000, 13.5089]), tensor([-0.3179, -0.3455, -0.3743,  ..., -0.2527,  0.1497, -0.0043]), tensor([-0.3241, -0.2744, -0.1231,  ..., -0.1582, -0.2237, -0.0000]), tensor([-0.1600,  3.9948, -0.0000,  ..., -0.0000, -0.0000,  8.6842]), tensor([-0.1209,  0.0394, -0.3112,  ..., -0.2695, -0.1538, -0.1348]), tensor([255.8073,  -0.0000, 140.1278,  ...,  -0.0000,  -0.0000,  -0.0000]), tensor([-0., -0., -0.,  ..., -0., -0., -0.]), tensor([-0.0667, -0.2547, -0.3669,  ...,  0.1411, -0.0529, -0.0764]), tensor([ 0.0093, -0.3176, -0.3739,  ..., -0.1065,  0.4898, -0.3551]), tensor([-0.3701, -0.1757, -0.3706,  ..., -0.3319, -0.2591,  0.1290]), tensor([-0.3745, -0.1032, -0.1967,  ..., -0.0000, -0.0000, -0.0593]), tensor([-0.3677, -0.2142, -0.0000,  ..., -0.0000, -0.0000, -0.3277]), tensor([-0., -0., -0.,  ..., -0., -0., -0.]), tensor([3.1169, -0.0000, -0.0000,  ..., -0.0000, -0.0000, 8.0993])], 'acc': [99.51923076923077, 99.03846153846153, 99.51923076923077, 99.51923076923077, 99.51923076923077, 99.51923076923077, 98.38709677419355, 96.7741935483871, 98.38709677419355, 98.38709677419355, 8.064516129032258, 96.7741935483871, 77.08333333333333, 76.4423076923077, 78.68589743589743, 77.40384615384616, 77.24358974358974, 78.36538461538461, 94.23076923076923, 75.64102564102564, 90.7051282051282, 94.23076923076923, 91.34615384615384, 94.23076923076923, 99.52978056426332, 99.3730407523511, 99.68652037617555, 99.68652037617555, 100.0, 99.3730407523511, 84.88700564971751, 87.99435028248588, 86.7231638418079, 85.73446327683615, 87.99435028248588, 86.44067796610169, 96.6740576496674, 97.11751662971176, 97.00665188470066, 97.22838137472284, 96.6740576496674, 95.56541019955654, 94.0, 94.6, 94.0, 95.0], 'n_params': [6228442, 5625114, 6570290, 5347354, 5825218, 4821626, 4711646, 4554646, 6688342, 4317614, 5203934, 5550702, 5717244, 5151700, 5773028, 5059684, 6364428, 4930308, 5608818, 4493962, 4318938, 4537954, 5514050, 3861938, 5155304, 6005320, 4798208, 6420784, 4792312, 3845304, 4249220, 3881348, 5982340, 3517428, 5327428, 6367692, 5599490, 4745802, 5815994, 5362738, 5007786, 4598522, 5921562, 4126858, 4121234, 5318114]}\n",
      "\n",
      "=====> Generating 5th network  <=====\n",
      "\n",
      "\n",
      "=====>Generating sub_net<=====\n",
      "\n",
      "\n",
      "=====> Training started <=====\n",
      "\n",
      "Starting Training for:khu-deep-learning-competition_0_10 with model topology:[5, 7, 7, 7, 7, 5, 5, 7, 7, 5, 7, 5, 5, 7, 7, 5, 7, 3, 3, 3, 6, 3, 6, 3, 4, 4, 4, 4, 6, 6, 4, 3, 4, 3, 6, 3, 3, 3, 4, 4, 4, 4, 4, 4, 3]\n"
     ]
    },
    {
     "name": "stderr",
     "output_type": "stream",
     "text": [
      "125it [00:26,  4.64it/s]\n",
      "16it [00:01, 13.10it/s]\n"
     ]
    },
    {
     "name": "stdout",
     "output_type": "stream",
     "text": [
      "\n",
      "Epoch: 1/15, Train Loss: 25.43803671 , Val Loss: 8.94642630, Train Accuracy:81.60000000,  Val Accuracy: 91.40000000, Epoch Time: 28.46352220\n"
     ]
    },
    {
     "name": "stderr",
     "output_type": "stream",
     "text": [
      "125it [00:27,  4.61it/s]\n",
      "16it [00:01, 12.65it/s]\n"
     ]
    },
    {
     "name": "stdout",
     "output_type": "stream",
     "text": [
      "\n",
      "Epoch: 2/15, Train Loss: 4.97347044 , Val Loss: 6.39166363, Train Accuracy:95.22500000,  Val Accuracy: 93.00000000, Epoch Time: 28.63187265\n"
     ]
    },
    {
     "name": "stderr",
     "output_type": "stream",
     "text": [
      "125it [00:27,  4.62it/s]\n",
      "16it [00:01, 13.40it/s]\n"
     ]
    },
    {
     "name": "stdout",
     "output_type": "stream",
     "text": [
      "\n",
      "Epoch: 3/15, Train Loss: 2.27126640 , Val Loss: 4.39682549, Train Accuracy:98.07500000,  Val Accuracy: 95.00000000, Epoch Time: 28.48472667\n"
     ]
    },
    {
     "name": "stderr",
     "output_type": "stream",
     "text": [
      "125it [00:27,  4.62it/s]\n",
      "16it [00:01,  9.24it/s]\n"
     ]
    },
    {
     "name": "stdout",
     "output_type": "stream",
     "text": [
      "\n",
      "Epoch: 4/15, Train Loss: 1.12452179 , Val Loss: 4.51915213, Train Accuracy:99.22500000,  Val Accuracy: 95.60000000, Epoch Time: 29.01365304\n"
     ]
    },
    {
     "name": "stderr",
     "output_type": "stream",
     "text": [
      "125it [00:27,  4.60it/s]\n",
      "16it [00:01, 13.00it/s]\n"
     ]
    },
    {
     "name": "stdout",
     "output_type": "stream",
     "text": [
      "\n",
      "Epoch: 5/15, Train Loss: 0.60156738 , Val Loss: 4.74331216, Train Accuracy:99.72500000,  Val Accuracy: 94.80000000, Epoch Time: 28.63222384\n"
     ]
    },
    {
     "name": "stderr",
     "output_type": "stream",
     "text": [
      "125it [00:27,  4.62it/s]\n",
      "16it [00:01, 13.18it/s]\n"
     ]
    },
    {
     "name": "stdout",
     "output_type": "stream",
     "text": [
      "\n",
      "Epoch: 6/15, Train Loss: 0.54478550 , Val Loss: 4.31287078, Train Accuracy:99.70000000,  Val Accuracy: 95.00000000, Epoch Time: 28.57198834\n"
     ]
    },
    {
     "name": "stderr",
     "output_type": "stream",
     "text": [
      "125it [00:27,  4.62it/s]\n",
      "16it [00:01, 12.84it/s]\n"
     ]
    },
    {
     "name": "stdout",
     "output_type": "stream",
     "text": [
      "\n",
      "Epoch: 7/15, Train Loss: 0.38184359 , Val Loss: 4.84750031, Train Accuracy:99.72500000,  Val Accuracy: 95.40000000, Epoch Time: 28.60365725\n"
     ]
    },
    {
     "name": "stderr",
     "output_type": "stream",
     "text": [
      "125it [00:27,  4.62it/s]\n",
      "16it [00:01, 12.75it/s]\n"
     ]
    },
    {
     "name": "stdout",
     "output_type": "stream",
     "text": [
      "\n",
      "Epoch: 8/15, Train Loss: 0.25727411 , Val Loss: 5.24959462, Train Accuracy:99.92500000,  Val Accuracy: 95.40000000, Epoch Time: 28.56630945\n"
     ]
    },
    {
     "name": "stderr",
     "output_type": "stream",
     "text": [
      "125it [00:27,  4.63it/s]\n",
      "16it [00:01, 12.56it/s]\n"
     ]
    },
    {
     "name": "stdout",
     "output_type": "stream",
     "text": [
      "\n",
      "Epoch: 9/15, Train Loss: 0.25622622 , Val Loss: 5.12109374, Train Accuracy:99.82500000,  Val Accuracy: 95.40000000, Epoch Time: 28.55845308\n"
     ]
    },
    {
     "name": "stderr",
     "output_type": "stream",
     "text": [
      "125it [00:27,  4.62it/s]\n",
      "16it [00:01, 13.08it/s]\n"
     ]
    },
    {
     "name": "stdout",
     "output_type": "stream",
     "text": [
      "\n",
      "Epoch: 10/15, Train Loss: 0.20030420 , Val Loss: 5.21235366, Train Accuracy:99.90000000,  Val Accuracy: 95.40000000, Epoch Time: 28.48145270\n"
     ]
    },
    {
     "name": "stderr",
     "output_type": "stream",
     "text": [
      "125it [00:27,  4.62it/s]\n",
      "16it [00:01, 11.86it/s]\n"
     ]
    },
    {
     "name": "stdout",
     "output_type": "stream",
     "text": [
      "\n",
      "Epoch: 11/15, Train Loss: 0.18787813 , Val Loss: 5.38533650, Train Accuracy:99.90000000,  Val Accuracy: 95.20000000, Epoch Time: 28.64396930\n",
      "Early stopping on, 10th, epoch\n",
      "\n",
      "=====>Generating f_emb<=====\n",
      "\n",
      "torch.Size([1536])\n",
      "{'dataset': ['sldc_0_10', 'sldc_0_10', 'sldc_0_10', 'sldc_0_10', 'sldc_0_10', 'sldc_0_10', 'corales_0_14', 'corales_0_14', 'corales_0_14', 'corales_0_14', 'corales_0_14', 'corales_0_14', '6000-store-items-images-classified-by-color_imoore_0_12', '6000-store-items-images-classified-by-color_imoore_0_12', '6000-store-items-images-classified-by-color_imoore_0_12', '6000-store-items-images-classified-by-color_imoore_0_12', '6000-store-items-images-classified-by-color_imoore_0_12', '6000-store-items-images-classified-by-color_imoore_0_12', 'fcis-sc-deeplearning-competition_0_10', 'fcis-sc-deeplearning-competition_0_10', 'fcis-sc-deeplearning-competition_0_10', 'fcis-sc-deeplearning-competition_0_10', 'fcis-sc-deeplearning-competition_0_10', 'fcis-sc-deeplearning-competition_0_10', 'lego-brick-images_joosthazelzet_0_16', 'lego-brick-images_joosthazelzet_0_16', 'lego-brick-images_joosthazelzet_0_16', 'lego-brick-images_joosthazelzet_0_16', 'lego-brick-images_joosthazelzet_0_16', 'lego-brick-images_joosthazelzet_0_16', 'oregon-wildlife_virtualdvid_0_20', 'oregon-wildlife_virtualdvid_0_20', 'oregon-wildlife_virtualdvid_0_20', 'oregon-wildlife_virtualdvid_0_20', 'oregon-wildlife_virtualdvid_0_20', 'oregon-wildlife_virtualdvid_0_20', 'perritos_0_10', 'perritos_0_10', 'perritos_0_10', 'perritos_0_10', 'perritos_0_10', 'perritos_0_10', 'khu-deep-learning-competition_0_10', 'khu-deep-learning-competition_0_10', 'khu-deep-learning-competition_0_10', 'khu-deep-learning-competition_0_10', 'khu-deep-learning-competition_0_10'], 'topol': [[3, 5, 5, 5, 7, 5, 5, 7, 3, 5, 7, 7, 7, 5, 7, 5, 3, 3, 7, 3, 4, 3, 6, 3, 6, 6, 4, 4, 6, 4, 3, 6, 6, 3, 4, 6, 3, 4, 6, 3, 3, 4, 2, 4, 4], [3, 7, 7, 7, 5, 7, 5, 3, 7, 5, 3, 3, 5, 5, 3, 7, 7, 5, 3, 5, 3, 4, 6, 3, 6, 4, 6, 4, 4, 3, 3, 3, 3, 6, 6, 3, 3, 4, 6, 4, 4, 3, 2, 2, 4], [3, 7, 5, 5, 3, 7, 7, 5, 5, 5, 5, 5, 5, 7, 7, 7, 7, 7, 5, 7, 6, 6, 6, 3, 6, 3, 4, 4, 6, 6, 6, 4, 3, 6, 4, 6, 6, 4, 6, 4, 2, 3, 3, 3, 4], [7, 5, 3, 3, 5, 3, 5, 5, 5, 5, 3, 7, 7, 5, 7, 3, 3, 5, 3, 5, 3, 4, 6, 6, 6, 3, 6, 3, 6, 3, 6, 4, 4, 6, 6, 4, 6, 6, 6, 4, 2, 2, 2, 3, 2], [3, 5, 5, 7, 5, 5, 7, 3, 7, 5, 5, 5, 3, 5, 3, 7, 5, 7, 7, 3, 3, 6, 3, 3, 6, 3, 6, 6, 4, 4, 3, 4, 4, 3, 6, 6, 4, 3, 4, 3, 4, 3, 4, 4, 4], [3, 3, 5, 5, 7, 5, 5, 5, 5, 5, 3, 3, 3, 3, 3, 7, 7, 3, 5, 5, 6, 4, 3, 4, 4, 4, 3, 6, 4, 3, 6, 4, 4, 4, 6, 6, 4, 4, 3, 6, 4, 2, 4, 3, 3], [7, 7, 5, 5, 5, 5, 3, 3, 3, 5, 7, 5, 5, 3, 3, 5, 5, 5, 7, 5, 3, 4, 3, 6, 6, 4, 3, 4, 6, 6, 4, 4, 6, 4, 4, 3, 6, 4, 3, 6, 2, 4, 4, 3, 2], [3, 3, 3, 7, 7, 5, 5, 7, 7, 5, 7, 7, 7, 7, 3, 5, 7, 7, 7, 3, 6, 4, 6, 3, 3, 4, 6, 6, 3, 3, 4, 4, 4, 4, 6, 6, 3, 4, 4, 3, 2, 4, 4, 2, 3], [5, 5, 3, 5, 7, 3, 5, 7, 7, 5, 3, 7, 7, 3, 3, 7, 3, 3, 7, 3, 4, 4, 6, 6, 3, 6, 3, 6, 3, 4, 4, 6, 3, 4, 6, 3, 6, 6, 4, 4, 4, 2, 4, 4, 4], [3, 5, 3, 5, 3, 3, 7, 7, 3, 3, 5, 7, 5, 3, 7, 7, 3, 3, 3, 7, 3, 4, 6, 6, 4, 4, 6, 6, 3, 3, 3, 6, 3, 6, 3, 4, 3, 4, 6, 6, 4, 4, 4, 3, 2], [3, 7, 7, 5, 7, 3, 7, 5, 7, 7, 7, 5, 7, 5, 3, 7, 5, 5, 5, 5, 6, 3, 6, 6, 4, 6, 6, 4, 6, 6, 6, 3, 3, 3, 3, 3, 6, 6, 4, 4, 3, 4, 2, 2, 3], [7, 7, 3, 3, 5, 7, 3, 5, 5, 3, 3, 3, 5, 7, 3, 7, 7, 5, 7, 7, 6, 3, 4, 3, 3, 3, 4, 3, 3, 4, 6, 6, 6, 4, 4, 6, 6, 4, 3, 4, 2, 2, 3, 4, 3], [7, 3, 3, 3, 3, 3, 5, 7, 5, 3, 5, 5, 3, 7, 7, 7, 5, 3, 7, 5, 3, 6, 3, 6, 6, 3, 4, 3, 6, 6, 3, 4, 3, 4, 4, 3, 4, 6, 6, 4, 3, 3, 2, 3, 3], [3, 3, 7, 5, 7, 3, 5, 7, 3, 5, 3, 5, 5, 5, 5, 3, 5, 5, 3, 3, 3, 6, 6, 6, 6, 6, 4, 3, 4, 4, 6, 4, 3, 6, 3, 6, 3, 6, 4, 6, 2, 2, 2, 3, 3], [5, 3, 5, 5, 5, 5, 7, 7, 3, 7, 7, 7, 3, 3, 7, 3, 7, 5, 5, 3, 3, 3, 6, 4, 6, 4, 4, 3, 6, 4, 6, 6, 3, 6, 4, 4, 3, 4, 3, 4, 3, 3, 4, 4, 4], [5, 5, 7, 5, 5, 5, 5, 7, 3, 3, 7, 3, 7, 5, 3, 3, 5, 7, 3, 3, 4, 4, 4, 4, 3, 4, 6, 3, 4, 6, 6, 3, 6, 3, 4, 6, 6, 4, 4, 6, 2, 4, 2, 3, 3], [7, 5, 3, 3, 7, 7, 7, 7, 5, 7, 5, 3, 7, 3, 5, 7, 3, 5, 7, 5, 4, 4, 4, 6, 4, 3, 3, 6, 3, 6, 4, 6, 6, 6, 6, 6, 3, 4, 6, 4, 2, 2, 2, 4, 3], [3, 3, 3, 7, 7, 3, 3, 7, 7, 7, 7, 5, 5, 7, 7, 3, 7, 7, 5, 7, 3, 4, 3, 3, 6, 3, 6, 3, 6, 3, 6, 3, 4, 3, 3, 6, 4, 4, 3, 6, 4, 4, 2, 4, 3], [3, 7, 7, 7, 3, 5, 3, 7, 5, 3, 5, 5, 7, 3, 5, 5, 3, 7, 5, 5, 4, 3, 4, 4, 3, 4, 6, 4, 6, 4, 3, 3, 3, 3, 6, 3, 4, 6, 4, 3, 4, 2, 4, 4, 3], [7, 7, 3, 5, 5, 5, 7, 3, 3, 5, 3, 3, 5, 7, 7, 3, 3, 7, 3, 3, 3, 3, 4, 6, 4, 6, 6, 6, 4, 3, 3, 6, 6, 4, 3, 4, 6, 4, 4, 4, 2, 4, 2, 3, 2], [3, 7, 7, 3, 5, 7, 7, 5, 7, 3, 5, 7, 7, 3, 5, 5, 5, 3, 3, 5, 3, 4, 3, 4, 3, 4, 6, 3, 6, 3, 4, 3, 4, 4, 4, 6, 3, 3, 4, 3, 3, 3, 2, 4, 2], [3, 7, 5, 3, 3, 5, 5, 7, 5, 7, 3, 5, 3, 7, 7, 5, 5, 7, 3, 3, 3, 3, 4, 6, 3, 6, 4, 3, 6, 4, 6, 4, 6, 6, 6, 6, 3, 4, 3, 6, 4, 4, 2, 2, 3], [3, 7, 3, 3, 5, 7, 5, 7, 5, 7, 7, 7, 7, 3, 3, 3, 7, 3, 3, 3, 6, 4, 4, 3, 4, 6, 4, 6, 4, 6, 6, 4, 4, 3, 3, 3, 6, 4, 3, 3, 2, 4, 4, 4, 4], [5, 5, 7, 5, 7, 3, 7, 7, 7, 5, 7, 3, 5, 3, 5, 7, 3, 7, 7, 5, 4, 3, 6, 6, 6, 3, 6, 3, 6, 3, 3, 6, 4, 4, 3, 3, 3, 3, 3, 3, 3, 2, 3, 4, 2], [7, 3, 7, 3, 5, 5, 3, 3, 7, 3, 7, 7, 7, 5, 5, 5, 5, 7, 5, 5, 6, 4, 3, 3, 4, 3, 3, 4, 4, 3, 6, 6, 3, 4, 4, 6, 6, 4, 6, 3, 3, 4, 4, 4, 2], [5, 5, 3, 7, 3, 7, 7, 5, 3, 7, 7, 5, 5, 7, 7, 7, 5, 7, 5, 3, 4, 4, 3, 3, 4, 3, 4, 6, 3, 3, 3, 4, 6, 6, 4, 6, 6, 4, 3, 4, 4, 4, 4, 3, 4], [5, 5, 3, 5, 7, 3, 5, 5, 3, 5, 7, 3, 5, 3, 3, 5, 7, 7, 5, 5, 4, 3, 6, 4, 6, 6, 6, 4, 3, 6, 6, 6, 4, 4, 4, 4, 3, 4, 3, 6, 2, 4, 2, 4, 3], [5, 3, 5, 3, 5, 3, 3, 3, 7, 3, 5, 7, 5, 7, 3, 7, 7, 5, 5, 3, 6, 3, 6, 6, 3, 4, 3, 4, 6, 3, 4, 6, 3, 3, 4, 4, 6, 6, 6, 4, 3, 4, 4, 4, 3], [7, 5, 3, 7, 3, 5, 3, 5, 3, 5, 7, 3, 7, 7, 5, 7, 7, 3, 3, 3, 3, 3, 6, 4, 3, 4, 4, 3, 3, 3, 3, 4, 3, 3, 3, 3, 6, 6, 4, 4, 2, 4, 2, 4, 2], [5, 7, 7, 5, 5, 5, 7, 7, 7, 3, 5, 5, 5, 5, 3, 3, 5, 7, 3, 5, 3, 4, 4, 3, 3, 6, 6, 4, 4, 3, 4, 3, 3, 6, 4, 6, 4, 3, 3, 3, 2, 2, 4, 2, 2], [5, 5, 7, 3, 3, 3, 5, 3, 5, 5, 3, 3, 5, 7, 5, 3, 5, 3, 7, 7, 3, 3, 4, 4, 3, 3, 3, 3, 4, 6, 6, 4, 3, 4, 6, 4, 4, 4, 3, 3, 4, 4, 3, 2, 3], [3, 5, 5, 5, 7, 5, 7, 7, 5, 5, 5, 5, 5, 7, 3, 5, 7, 7, 3, 5, 6, 6, 4, 6, 3, 3, 3, 4, 4, 3, 6, 4, 4, 3, 3, 6, 6, 3, 3, 6, 3, 4, 3, 2, 2], [3, 3, 7, 5, 5, 5, 7, 7, 7, 5, 3, 3, 3, 3, 7, 5, 5, 5, 3, 3, 3, 3, 3, 6, 4, 4, 6, 4, 3, 6, 4, 3, 6, 4, 3, 6, 6, 3, 4, 6, 2, 4, 2, 3, 4], [5, 3, 3, 3, 7, 5, 7, 3, 5, 5, 3, 3, 3, 5, 3, 5, 7, 3, 5, 3, 6, 3, 4, 6, 3, 6, 4, 3, 4, 3, 4, 4, 6, 3, 4, 4, 3, 3, 6, 6, 2, 3, 3, 2, 2], [3, 7, 3, 5, 3, 7, 5, 3, 7, 7, 3, 5, 5, 3, 7, 5, 5, 7, 7, 7, 4, 6, 6, 3, 6, 6, 4, 4, 3, 6, 6, 6, 3, 3, 3, 4, 4, 6, 3, 3, 2, 4, 3, 4, 3], [3, 3, 3, 5, 3, 3, 3, 5, 7, 3, 7, 5, 3, 7, 5, 3, 7, 7, 3, 7, 6, 3, 3, 6, 3, 6, 6, 3, 6, 6, 4, 4, 4, 3, 6, 3, 6, 3, 3, 6, 2, 3, 4, 4, 4], [5, 7, 3, 7, 3, 7, 5, 5, 5, 7, 7, 3, 3, 3, 7, 3, 5, 5, 3, 5, 6, 4, 6, 6, 6, 4, 6, 3, 4, 4, 3, 3, 6, 6, 4, 3, 4, 3, 6, 4, 2, 2, 3, 4, 3], [3, 3, 3, 3, 5, 7, 5, 3, 3, 7, 3, 3, 5, 3, 3, 3, 3, 3, 3, 3, 6, 3, 6, 4, 4, 3, 6, 6, 3, 6, 6, 3, 6, 6, 6, 3, 4, 3, 3, 4, 4, 3, 2, 4, 2], [5, 5, 7, 3, 3, 3, 7, 5, 7, 7, 3, 7, 5, 3, 5, 7, 7, 5, 5, 5, 4, 4, 3, 4, 3, 3, 6, 6, 6, 3, 4, 6, 6, 3, 3, 4, 6, 6, 6, 3, 2, 3, 3, 2, 3], [3, 3, 3, 3, 5, 3, 5, 3, 7, 3, 5, 5, 7, 3, 5, 7, 3, 5, 5, 7, 4, 3, 6, 4, 3, 6, 6, 4, 4, 4, 3, 6, 6, 3, 3, 6, 3, 3, 6, 6, 3, 2, 2, 4, 3], [3, 7, 5, 5, 7, 5, 7, 3, 3, 5, 5, 3, 5, 3, 5, 3, 3, 7, 3, 3, 3, 4, 4, 6, 6, 6, 3, 6, 6, 4, 3, 6, 6, 6, 6, 4, 3, 3, 3, 6, 3, 4, 4, 4, 2], [5, 7, 3, 3, 7, 5, 7, 5, 3, 3, 5, 5, 7, 3, 3, 7, 7, 3, 5, 5, 6, 3, 6, 6, 6, 3, 6, 6, 4, 3, 6, 3, 3, 3, 3, 3, 4, 6, 3, 3, 2, 2, 4, 2, 3], [3, 7, 5, 5, 5, 3, 7, 5, 7, 5, 3, 3, 5, 3, 3, 7, 3, 7, 3, 5, 3, 4, 3, 6, 4, 3, 3, 4, 4, 6, 6, 3, 3, 3, 6, 6, 4, 4, 3, 6, 4, 4, 4, 3, 4], [5, 3, 5, 3, 5, 3, 7, 3, 3, 5, 5, 3, 5, 7, 5, 7, 7, 5, 3, 7, 4, 4, 6, 3, 3, 6, 3, 3, 3, 3, 4, 4, 3, 6, 4, 3, 6, 3, 3, 3, 4, 3, 3, 2, 2], [7, 7, 5, 3, 7, 7, 3, 7, 5, 5, 7, 3, 3, 5, 7, 7, 5, 5, 5, 3, 4, 3, 4, 6, 3, 4, 6, 3, 3, 6, 3, 6, 3, 4, 3, 3, 6, 4, 3, 3, 3, 2, 4, 2, 2], [3, 7, 5, 3, 7, 7, 7, 5, 3, 3, 7, 7, 7, 5, 7, 5, 5, 5, 7, 5, 6, 3, 6, 4, 3, 3, 4, 6, 3, 4, 3, 6, 3, 4, 3, 3, 4, 3, 4, 4, 3, 3, 4, 4, 4], [5, 7, 7, 7, 7, 5, 5, 7, 7, 5, 7, 5, 5, 7, 7, 5, 7, 3, 3, 3, 6, 3, 6, 3, 4, 4, 4, 4, 6, 6, 4, 3, 4, 3, 6, 3, 3, 3, 4, 4, 4, 4, 4, 4, 3]], 'f_emb': [tensor([-0., -0., -0.,  ..., -0., -0., -0.]), tensor([-0., -0., -0.,  ..., -0., -0., -0.]), tensor([1226.8495,   -0.0000,   -0.0000,  ...,   -0.0000,   -0.0000,\n",
      "          -0.0000]), tensor([-0., -0., -0.,  ..., -0., -0., -0.]), tensor([188.3607,  -0.0000,  -0.0000,  ...,  -0.0000,  -0.0000, 213.2732]), tensor([-0., -0., -0.,  ..., -0., -0., -0.]), tensor([-0., -0., -0.,  ..., -0., -0., -0.]), tensor([-0.0000, -0.0000, -0.0000,  ..., -0.0000, -0.0000, 9.9611]), tensor([38.6843, -0.0000, -0.0000,  ..., -0.0000, -0.0000, -0.0000]), tensor([ 0.5262, -0.3664,  0.4536,  ..., -0.3597, -0.2121, -0.3281]), tensor([-0., -0., -0.,  ..., -0., -0., -0.]), tensor([-0.0000, -0.0000, -0.0000,  ..., 30.1783, -0.0000,  3.6916]), tensor([-0., -0., -0.,  ..., -0., -0., -0.]), tensor([-0., -0., -0.,  ..., -0., -0., -0.]), tensor([18.3999, -0.0000, -0.0000,  ..., -0.0000, -0.0000, 45.3672]), tensor([ 0.2349,  0.1743,  0.1660,  ...,  0.3616,  0.0957, -0.3534]), tensor([-0.2793, -0.3249, -0.3683,  ..., -0.0000, -0.0000, -0.3627]), tensor([ 0.0759, -0.3346, -0.2591,  ...,  0.4824, -0.2551, -0.1757]), tensor([ 0.4264, -0.1865, -0.1025,  ..., -0.1637,  0.7777, -0.3373]), tensor([ 0.4347, -0.2336, -0.2793,  ..., -0.3347, -0.3469, -0.1162]), tensor([ 0.0104,  0.4655, -0.3177,  ..., -0.1076,  0.8267, -0.3667]), tensor([ 0.0873,  0.1475, -0.3670,  ..., -0.1698,  0.0327, -0.3572]), tensor([322.7029,  -0.0000,  83.4842,  ...,  -0.0000,  -0.0000,  -0.0000]), tensor([-0.3365, -0.0309, -0.3139,  ...,  0.1455, -0.3260, -0.3622]), tensor([-0.0000, -0.0000, -0.0000,  ..., -0.0000, -0.0000, 3.1642]), tensor([    -0.0000,     -0.0000, 159417.2812,  ...,     -0.0000,\n",
      "            -0.0000, 179515.1562]), tensor([-0.0014, -0.3527, -0.0000,  ..., -0.0000, -0.0000, -0.0000]), tensor([6770305.5000,      -0.0000,      -0.0000,  ...,      -0.0000,\n",
      "             -0.0000,      -0.0000]), tensor([1609.9169,   -0.0000,   -0.0000,  ...,   -0.0000,   -0.0000,\n"
     ]
    },
    {
     "name": "stderr",
     "output_type": "stream",
     "text": [
      "Using cache found in /root/.cache/torch/hub/mit-han-lab_once-for-all_master\n"
     ]
    },
    {
     "name": "stdout",
     "output_type": "stream",
     "text": [
      "          -0.0000]), tensor([-0., -0., -0.,  ..., -0., -0., -0.]), tensor([-0.0067, -0.3482, -0.3706,  ..., -0.3683, -0.0611,  0.0504]), tensor([ 1.4714, -0.0000, -0.0945,  ..., -0.2832, -0.0000, -0.3679]), tensor([ 1.7539, 21.7252, -0.0000,  ..., -0.0000, -0.0000, 13.5089]), tensor([-0.3179, -0.3455, -0.3743,  ..., -0.2527,  0.1497, -0.0043]), tensor([-0.3241, -0.2744, -0.1231,  ..., -0.1582, -0.2237, -0.0000]), tensor([-0.1600,  3.9948, -0.0000,  ..., -0.0000, -0.0000,  8.6842]), tensor([-0.1209,  0.0394, -0.3112,  ..., -0.2695, -0.1538, -0.1348]), tensor([255.8073,  -0.0000, 140.1278,  ...,  -0.0000,  -0.0000,  -0.0000]), tensor([-0., -0., -0.,  ..., -0., -0., -0.]), tensor([-0.0667, -0.2547, -0.3669,  ...,  0.1411, -0.0529, -0.0764]), tensor([ 0.0093, -0.3176, -0.3739,  ..., -0.1065,  0.4898, -0.3551]), tensor([-0.3701, -0.1757, -0.3706,  ..., -0.3319, -0.2591,  0.1290]), tensor([-0.3745, -0.1032, -0.1967,  ..., -0.0000, -0.0000, -0.0593]), tensor([-0.3677, -0.2142, -0.0000,  ..., -0.0000, -0.0000, -0.3277]), tensor([-0., -0., -0.,  ..., -0., -0., -0.]), tensor([3.1169, -0.0000, -0.0000,  ..., -0.0000, -0.0000, 8.0993]), tensor([-0.2472, -0.3239, -0.2829,  ..., -0.3483, -0.2882, -0.2494])], 'acc': [99.51923076923077, 99.03846153846153, 99.51923076923077, 99.51923076923077, 99.51923076923077, 99.51923076923077, 98.38709677419355, 96.7741935483871, 98.38709677419355, 98.38709677419355, 8.064516129032258, 96.7741935483871, 77.08333333333333, 76.4423076923077, 78.68589743589743, 77.40384615384616, 77.24358974358974, 78.36538461538461, 94.23076923076923, 75.64102564102564, 90.7051282051282, 94.23076923076923, 91.34615384615384, 94.23076923076923, 99.52978056426332, 99.3730407523511, 99.68652037617555, 99.68652037617555, 100.0, 99.3730407523511, 84.88700564971751, 87.99435028248588, 86.7231638418079, 85.73446327683615, 87.99435028248588, 86.44067796610169, 96.6740576496674, 97.11751662971176, 97.00665188470066, 97.22838137472284, 96.6740576496674, 95.56541019955654, 94.0, 94.6, 94.0, 95.0, 95.2], 'n_params': [6228442, 5625114, 6570290, 5347354, 5825218, 4821626, 4711646, 4554646, 6688342, 4317614, 5203934, 5550702, 5717244, 5151700, 5773028, 5059684, 6364428, 4930308, 5608818, 4493962, 4318938, 4537954, 5514050, 3861938, 5155304, 6005320, 4798208, 6420784, 4792312, 3845304, 4249220, 3881348, 5982340, 3517428, 5327428, 6367692, 5599490, 4745802, 5815994, 5362738, 5007786, 4598522, 5921562, 4126858, 4121234, 5318114, 5013634]}\n",
      "\n",
      "=====> Generating 6th network  <=====\n",
      "\n",
      "\n",
      "=====>Generating sub_net<=====\n",
      "\n",
      "\n",
      "=====> Training started <=====\n",
      "\n",
      "Starting Training for:khu-deep-learning-competition_0_10 with model topology:[5, 5, 3, 3, 3, 7, 3, 3, 3, 7, 3, 5, 7, 5, 5, 7, 7, 3, 5, 7, 6, 3, 4, 3, 3, 4, 3, 3, 3, 3, 4, 3, 3, 6, 4, 6, 6, 4, 6, 3, 2, 3, 4, 3, 3]\n"
     ]
    },
    {
     "name": "stderr",
     "output_type": "stream",
     "text": [
      "125it [00:17,  7.09it/s]\n",
      "16it [00:00, 17.52it/s]\n"
     ]
    },
    {
     "name": "stdout",
     "output_type": "stream",
     "text": [
      "\n",
      "Epoch: 1/15, Train Loss: 26.63178869 , Val Loss: 9.57206877, Train Accuracy:79.57500000,  Val Accuracy: 90.40000000, Epoch Time: 18.81952786\n"
     ]
    },
    {
     "name": "stderr",
     "output_type": "stream",
     "text": [
      "125it [00:17,  7.17it/s]\n",
      "16it [00:00, 16.01it/s]\n"
     ]
    },
    {
     "name": "stdout",
     "output_type": "stream",
     "text": [
      "\n",
      "Epoch: 2/15, Train Loss: 5.32807302 , Val Loss: 7.33907205, Train Accuracy:94.97500000,  Val Accuracy: 92.80000000, Epoch Time: 18.68103218\n"
     ]
    },
    {
     "name": "stderr",
     "output_type": "stream",
     "text": [
      "125it [00:17,  7.17it/s]\n",
      "16it [00:00, 17.51it/s]\n"
     ]
    },
    {
     "name": "stdout",
     "output_type": "stream",
     "text": [
      "\n",
      "Epoch: 3/15, Train Loss: 2.65849774 , Val Loss: 5.92437639, Train Accuracy:97.55000000,  Val Accuracy: 94.20000000, Epoch Time: 18.57195544\n"
     ]
    },
    {
     "name": "stderr",
     "output_type": "stream",
     "text": [
      "125it [00:17,  7.18it/s]\n",
      "16it [00:01, 15.74it/s]\n"
     ]
    },
    {
     "name": "stdout",
     "output_type": "stream",
     "text": [
      "\n",
      "Epoch: 4/15, Train Loss: 1.42555579 , Val Loss: 5.42046947, Train Accuracy:98.75000000,  Val Accuracy: 94.40000000, Epoch Time: 18.68170238\n"
     ]
    },
    {
     "name": "stderr",
     "output_type": "stream",
     "text": [
      "125it [00:17,  7.15it/s]\n",
      "16it [00:00, 16.73it/s]\n"
     ]
    },
    {
     "name": "stdout",
     "output_type": "stream",
     "text": [
      "\n",
      "Epoch: 5/15, Train Loss: 0.73886575 , Val Loss: 5.79201849, Train Accuracy:99.42500000,  Val Accuracy: 94.20000000, Epoch Time: 18.66455364\n"
     ]
    },
    {
     "name": "stderr",
     "output_type": "stream",
     "text": [
      "125it [00:17,  7.16it/s]\n",
      "16it [00:00, 16.61it/s]\n"
     ]
    },
    {
     "name": "stdout",
     "output_type": "stream",
     "text": [
      "\n",
      "Epoch: 6/15, Train Loss: 0.71300169 , Val Loss: 4.96102030, Train Accuracy:99.60000000,  Val Accuracy: 96.20000000, Epoch Time: 18.68832684\n"
     ]
    },
    {
     "name": "stderr",
     "output_type": "stream",
     "text": [
      "125it [00:17,  7.13it/s]\n",
      "16it [00:00, 16.91it/s]\n"
     ]
    },
    {
     "name": "stdout",
     "output_type": "stream",
     "text": [
      "\n",
      "Epoch: 7/15, Train Loss: 0.42801580 , Val Loss: 6.40491072, Train Accuracy:99.75000000,  Val Accuracy: 94.40000000, Epoch Time: 18.69059396\n"
     ]
    },
    {
     "name": "stderr",
     "output_type": "stream",
     "text": [
      "125it [00:17,  7.16it/s]\n",
      "16it [00:00, 16.02it/s]\n"
     ]
    },
    {
     "name": "stdout",
     "output_type": "stream",
     "text": [
      "\n",
      "Epoch: 8/15, Train Loss: 0.30289438 , Val Loss: 5.76126240, Train Accuracy:99.77500000,  Val Accuracy: 95.00000000, Epoch Time: 18.70879149\n"
     ]
    },
    {
     "name": "stderr",
     "output_type": "stream",
     "text": [
      "125it [00:17,  7.15it/s]\n",
      "16it [00:00, 17.59it/s]\n"
     ]
    },
    {
     "name": "stdout",
     "output_type": "stream",
     "text": [
      "\n",
      "Epoch: 9/15, Train Loss: 0.26681004 , Val Loss: 6.34806998, Train Accuracy:99.80000000,  Val Accuracy: 95.20000000, Epoch Time: 18.63001370\n"
     ]
    },
    {
     "name": "stderr",
     "output_type": "stream",
     "text": [
      "125it [00:17,  7.15it/s]\n",
      "16it [00:01, 13.24it/s]\n"
     ]
    },
    {
     "name": "stdout",
     "output_type": "stream",
     "text": [
      "\n",
      "Epoch: 10/15, Train Loss: 0.20008722 , Val Loss: 5.79671841, Train Accuracy:99.95000000,  Val Accuracy: 95.40000000, Epoch Time: 18.93964696\n"
     ]
    },
    {
     "name": "stderr",
     "output_type": "stream",
     "text": [
      "125it [00:17,  7.11it/s]\n",
      "16it [00:00, 17.18it/s]\n"
     ]
    },
    {
     "name": "stdout",
     "output_type": "stream",
     "text": [
      "\n",
      "Epoch: 11/15, Train Loss: 0.18040505 , Val Loss: 5.88931371, Train Accuracy:99.87500000,  Val Accuracy: 95.00000000, Epoch Time: 18.74110007\n",
      "Early stopping on, 10th, epoch\n",
      "\n",
      "=====>Generating f_emb<=====\n",
      "\n",
      "torch.Size([1536])\n",
      "{'dataset': ['sldc_0_10', 'sldc_0_10', 'sldc_0_10', 'sldc_0_10', 'sldc_0_10', 'sldc_0_10', 'corales_0_14', 'corales_0_14', 'corales_0_14', 'corales_0_14', 'corales_0_14', 'corales_0_14', '6000-store-items-images-classified-by-color_imoore_0_12', '6000-store-items-images-classified-by-color_imoore_0_12', '6000-store-items-images-classified-by-color_imoore_0_12', '6000-store-items-images-classified-by-color_imoore_0_12', '6000-store-items-images-classified-by-color_imoore_0_12', '6000-store-items-images-classified-by-color_imoore_0_12', 'fcis-sc-deeplearning-competition_0_10', 'fcis-sc-deeplearning-competition_0_10', 'fcis-sc-deeplearning-competition_0_10', 'fcis-sc-deeplearning-competition_0_10', 'fcis-sc-deeplearning-competition_0_10', 'fcis-sc-deeplearning-competition_0_10', 'lego-brick-images_joosthazelzet_0_16', 'lego-brick-images_joosthazelzet_0_16', 'lego-brick-images_joosthazelzet_0_16', 'lego-brick-images_joosthazelzet_0_16', 'lego-brick-images_joosthazelzet_0_16', 'lego-brick-images_joosthazelzet_0_16', 'oregon-wildlife_virtualdvid_0_20', 'oregon-wildlife_virtualdvid_0_20', 'oregon-wildlife_virtualdvid_0_20', 'oregon-wildlife_virtualdvid_0_20', 'oregon-wildlife_virtualdvid_0_20', 'oregon-wildlife_virtualdvid_0_20', 'perritos_0_10', 'perritos_0_10', 'perritos_0_10', 'perritos_0_10', 'perritos_0_10', 'perritos_0_10', 'khu-deep-learning-competition_0_10', 'khu-deep-learning-competition_0_10', 'khu-deep-learning-competition_0_10', 'khu-deep-learning-competition_0_10', 'khu-deep-learning-competition_0_10', 'khu-deep-learning-competition_0_10'], 'topol': [[3, 5, 5, 5, 7, 5, 5, 7, 3, 5, 7, 7, 7, 5, 7, 5, 3, 3, 7, 3, 4, 3, 6, 3, 6, 6, 4, 4, 6, 4, 3, 6, 6, 3, 4, 6, 3, 4, 6, 3, 3, 4, 2, 4, 4], [3, 7, 7, 7, 5, 7, 5, 3, 7, 5, 3, 3, 5, 5, 3, 7, 7, 5, 3, 5, 3, 4, 6, 3, 6, 4, 6, 4, 4, 3, 3, 3, 3, 6, 6, 3, 3, 4, 6, 4, 4, 3, 2, 2, 4], [3, 7, 5, 5, 3, 7, 7, 5, 5, 5, 5, 5, 5, 7, 7, 7, 7, 7, 5, 7, 6, 6, 6, 3, 6, 3, 4, 4, 6, 6, 6, 4, 3, 6, 4, 6, 6, 4, 6, 4, 2, 3, 3, 3, 4], [7, 5, 3, 3, 5, 3, 5, 5, 5, 5, 3, 7, 7, 5, 7, 3, 3, 5, 3, 5, 3, 4, 6, 6, 6, 3, 6, 3, 6, 3, 6, 4, 4, 6, 6, 4, 6, 6, 6, 4, 2, 2, 2, 3, 2], [3, 5, 5, 7, 5, 5, 7, 3, 7, 5, 5, 5, 3, 5, 3, 7, 5, 7, 7, 3, 3, 6, 3, 3, 6, 3, 6, 6, 4, 4, 3, 4, 4, 3, 6, 6, 4, 3, 4, 3, 4, 3, 4, 4, 4], [3, 3, 5, 5, 7, 5, 5, 5, 5, 5, 3, 3, 3, 3, 3, 7, 7, 3, 5, 5, 6, 4, 3, 4, 4, 4, 3, 6, 4, 3, 6, 4, 4, 4, 6, 6, 4, 4, 3, 6, 4, 2, 4, 3, 3], [7, 7, 5, 5, 5, 5, 3, 3, 3, 5, 7, 5, 5, 3, 3, 5, 5, 5, 7, 5, 3, 4, 3, 6, 6, 4, 3, 4, 6, 6, 4, 4, 6, 4, 4, 3, 6, 4, 3, 6, 2, 4, 4, 3, 2], [3, 3, 3, 7, 7, 5, 5, 7, 7, 5, 7, 7, 7, 7, 3, 5, 7, 7, 7, 3, 6, 4, 6, 3, 3, 4, 6, 6, 3, 3, 4, 4, 4, 4, 6, 6, 3, 4, 4, 3, 2, 4, 4, 2, 3], [5, 5, 3, 5, 7, 3, 5, 7, 7, 5, 3, 7, 7, 3, 3, 7, 3, 3, 7, 3, 4, 4, 6, 6, 3, 6, 3, 6, 3, 4, 4, 6, 3, 4, 6, 3, 6, 6, 4, 4, 4, 2, 4, 4, 4], [3, 5, 3, 5, 3, 3, 7, 7, 3, 3, 5, 7, 5, 3, 7, 7, 3, 3, 3, 7, 3, 4, 6, 6, 4, 4, 6, 6, 3, 3, 3, 6, 3, 6, 3, 4, 3, 4, 6, 6, 4, 4, 4, 3, 2], [3, 7, 7, 5, 7, 3, 7, 5, 7, 7, 7, 5, 7, 5, 3, 7, 5, 5, 5, 5, 6, 3, 6, 6, 4, 6, 6, 4, 6, 6, 6, 3, 3, 3, 3, 3, 6, 6, 4, 4, 3, 4, 2, 2, 3], [7, 7, 3, 3, 5, 7, 3, 5, 5, 3, 3, 3, 5, 7, 3, 7, 7, 5, 7, 7, 6, 3, 4, 3, 3, 3, 4, 3, 3, 4, 6, 6, 6, 4, 4, 6, 6, 4, 3, 4, 2, 2, 3, 4, 3], [7, 3, 3, 3, 3, 3, 5, 7, 5, 3, 5, 5, 3, 7, 7, 7, 5, 3, 7, 5, 3, 6, 3, 6, 6, 3, 4, 3, 6, 6, 3, 4, 3, 4, 4, 3, 4, 6, 6, 4, 3, 3, 2, 3, 3], [3, 3, 7, 5, 7, 3, 5, 7, 3, 5, 3, 5, 5, 5, 5, 3, 5, 5, 3, 3, 3, 6, 6, 6, 6, 6, 4, 3, 4, 4, 6, 4, 3, 6, 3, 6, 3, 6, 4, 6, 2, 2, 2, 3, 3], [5, 3, 5, 5, 5, 5, 7, 7, 3, 7, 7, 7, 3, 3, 7, 3, 7, 5, 5, 3, 3, 3, 6, 4, 6, 4, 4, 3, 6, 4, 6, 6, 3, 6, 4, 4, 3, 4, 3, 4, 3, 3, 4, 4, 4], [5, 5, 7, 5, 5, 5, 5, 7, 3, 3, 7, 3, 7, 5, 3, 3, 5, 7, 3, 3, 4, 4, 4, 4, 3, 4, 6, 3, 4, 6, 6, 3, 6, 3, 4, 6, 6, 4, 4, 6, 2, 4, 2, 3, 3], [7, 5, 3, 3, 7, 7, 7, 7, 5, 7, 5, 3, 7, 3, 5, 7, 3, 5, 7, 5, 4, 4, 4, 6, 4, 3, 3, 6, 3, 6, 4, 6, 6, 6, 6, 6, 3, 4, 6, 4, 2, 2, 2, 4, 3], [3, 3, 3, 7, 7, 3, 3, 7, 7, 7, 7, 5, 5, 7, 7, 3, 7, 7, 5, 7, 3, 4, 3, 3, 6, 3, 6, 3, 6, 3, 6, 3, 4, 3, 3, 6, 4, 4, 3, 6, 4, 4, 2, 4, 3], [3, 7, 7, 7, 3, 5, 3, 7, 5, 3, 5, 5, 7, 3, 5, 5, 3, 7, 5, 5, 4, 3, 4, 4, 3, 4, 6, 4, 6, 4, 3, 3, 3, 3, 6, 3, 4, 6, 4, 3, 4, 2, 4, 4, 3], [7, 7, 3, 5, 5, 5, 7, 3, 3, 5, 3, 3, 5, 7, 7, 3, 3, 7, 3, 3, 3, 3, 4, 6, 4, 6, 6, 6, 4, 3, 3, 6, 6, 4, 3, 4, 6, 4, 4, 4, 2, 4, 2, 3, 2], [3, 7, 7, 3, 5, 7, 7, 5, 7, 3, 5, 7, 7, 3, 5, 5, 5, 3, 3, 5, 3, 4, 3, 4, 3, 4, 6, 3, 6, 3, 4, 3, 4, 4, 4, 6, 3, 3, 4, 3, 3, 3, 2, 4, 2], [3, 7, 5, 3, 3, 5, 5, 7, 5, 7, 3, 5, 3, 7, 7, 5, 5, 7, 3, 3, 3, 3, 4, 6, 3, 6, 4, 3, 6, 4, 6, 4, 6, 6, 6, 6, 3, 4, 3, 6, 4, 4, 2, 2, 3], [3, 7, 3, 3, 5, 7, 5, 7, 5, 7, 7, 7, 7, 3, 3, 3, 7, 3, 3, 3, 6, 4, 4, 3, 4, 6, 4, 6, 4, 6, 6, 4, 4, 3, 3, 3, 6, 4, 3, 3, 2, 4, 4, 4, 4], [5, 5, 7, 5, 7, 3, 7, 7, 7, 5, 7, 3, 5, 3, 5, 7, 3, 7, 7, 5, 4, 3, 6, 6, 6, 3, 6, 3, 6, 3, 3, 6, 4, 4, 3, 3, 3, 3, 3, 3, 3, 2, 3, 4, 2], [7, 3, 7, 3, 5, 5, 3, 3, 7, 3, 7, 7, 7, 5, 5, 5, 5, 7, 5, 5, 6, 4, 3, 3, 4, 3, 3, 4, 4, 3, 6, 6, 3, 4, 4, 6, 6, 4, 6, 3, 3, 4, 4, 4, 2], [5, 5, 3, 7, 3, 7, 7, 5, 3, 7, 7, 5, 5, 7, 7, 7, 5, 7, 5, 3, 4, 4, 3, 3, 4, 3, 4, 6, 3, 3, 3, 4, 6, 6, 4, 6, 6, 4, 3, 4, 4, 4, 4, 3, 4], [5, 5, 3, 5, 7, 3, 5, 5, 3, 5, 7, 3, 5, 3, 3, 5, 7, 7, 5, 5, 4, 3, 6, 4, 6, 6, 6, 4, 3, 6, 6, 6, 4, 4, 4, 4, 3, 4, 3, 6, 2, 4, 2, 4, 3], [5, 3, 5, 3, 5, 3, 3, 3, 7, 3, 5, 7, 5, 7, 3, 7, 7, 5, 5, 3, 6, 3, 6, 6, 3, 4, 3, 4, 6, 3, 4, 6, 3, 3, 4, 4, 6, 6, 6, 4, 3, 4, 4, 4, 3], [7, 5, 3, 7, 3, 5, 3, 5, 3, 5, 7, 3, 7, 7, 5, 7, 7, 3, 3, 3, 3, 3, 6, 4, 3, 4, 4, 3, 3, 3, 3, 4, 3, 3, 3, 3, 6, 6, 4, 4, 2, 4, 2, 4, 2], [5, 7, 7, 5, 5, 5, 7, 7, 7, 3, 5, 5, 5, 5, 3, 3, 5, 7, 3, 5, 3, 4, 4, 3, 3, 6, 6, 4, 4, 3, 4, 3, 3, 6, 4, 6, 4, 3, 3, 3, 2, 2, 4, 2, 2], [5, 5, 7, 3, 3, 3, 5, 3, 5, 5, 3, 3, 5, 7, 5, 3, 5, 3, 7, 7, 3, 3, 4, 4, 3, 3, 3, 3, 4, 6, 6, 4, 3, 4, 6, 4, 4, 4, 3, 3, 4, 4, 3, 2, 3], [3, 5, 5, 5, 7, 5, 7, 7, 5, 5, 5, 5, 5, 7, 3, 5, 7, 7, 3, 5, 6, 6, 4, 6, 3, 3, 3, 4, 4, 3, 6, 4, 4, 3, 3, 6, 6, 3, 3, 6, 3, 4, 3, 2, 2], [3, 3, 7, 5, 5, 5, 7, 7, 7, 5, 3, 3, 3, 3, 7, 5, 5, 5, 3, 3, 3, 3, 3, 6, 4, 4, 6, 4, 3, 6, 4, 3, 6, 4, 3, 6, 6, 3, 4, 6, 2, 4, 2, 3, 4], [5, 3, 3, 3, 7, 5, 7, 3, 5, 5, 3, 3, 3, 5, 3, 5, 7, 3, 5, 3, 6, 3, 4, 6, 3, 6, 4, 3, 4, 3, 4, 4, 6, 3, 4, 4, 3, 3, 6, 6, 2, 3, 3, 2, 2], [3, 7, 3, 5, 3, 7, 5, 3, 7, 7, 3, 5, 5, 3, 7, 5, 5, 7, 7, 7, 4, 6, 6, 3, 6, 6, 4, 4, 3, 6, 6, 6, 3, 3, 3, 4, 4, 6, 3, 3, 2, 4, 3, 4, 3], [3, 3, 3, 5, 3, 3, 3, 5, 7, 3, 7, 5, 3, 7, 5, 3, 7, 7, 3, 7, 6, 3, 3, 6, 3, 6, 6, 3, 6, 6, 4, 4, 4, 3, 6, 3, 6, 3, 3, 6, 2, 3, 4, 4, 4], [5, 7, 3, 7, 3, 7, 5, 5, 5, 7, 7, 3, 3, 3, 7, 3, 5, 5, 3, 5, 6, 4, 6, 6, 6, 4, 6, 3, 4, 4, 3, 3, 6, 6, 4, 3, 4, 3, 6, 4, 2, 2, 3, 4, 3], [3, 3, 3, 3, 5, 7, 5, 3, 3, 7, 3, 3, 5, 3, 3, 3, 3, 3, 3, 3, 6, 3, 6, 4, 4, 3, 6, 6, 3, 6, 6, 3, 6, 6, 6, 3, 4, 3, 3, 4, 4, 3, 2, 4, 2], [5, 5, 7, 3, 3, 3, 7, 5, 7, 7, 3, 7, 5, 3, 5, 7, 7, 5, 5, 5, 4, 4, 3, 4, 3, 3, 6, 6, 6, 3, 4, 6, 6, 3, 3, 4, 6, 6, 6, 3, 2, 3, 3, 2, 3], [3, 3, 3, 3, 5, 3, 5, 3, 7, 3, 5, 5, 7, 3, 5, 7, 3, 5, 5, 7, 4, 3, 6, 4, 3, 6, 6, 4, 4, 4, 3, 6, 6, 3, 3, 6, 3, 3, 6, 6, 3, 2, 2, 4, 3], [3, 7, 5, 5, 7, 5, 7, 3, 3, 5, 5, 3, 5, 3, 5, 3, 3, 7, 3, 3, 3, 4, 4, 6, 6, 6, 3, 6, 6, 4, 3, 6, 6, 6, 6, 4, 3, 3, 3, 6, 3, 4, 4, 4, 2], [5, 7, 3, 3, 7, 5, 7, 5, 3, 3, 5, 5, 7, 3, 3, 7, 7, 3, 5, 5, 6, 3, 6, 6, 6, 3, 6, 6, 4, 3, 6, 3, 3, 3, 3, 3, 4, 6, 3, 3, 2, 2, 4, 2, 3], [3, 7, 5, 5, 5, 3, 7, 5, 7, 5, 3, 3, 5, 3, 3, 7, 3, 7, 3, 5, 3, 4, 3, 6, 4, 3, 3, 4, 4, 6, 6, 3, 3, 3, 6, 6, 4, 4, 3, 6, 4, 4, 4, 3, 4], [5, 3, 5, 3, 5, 3, 7, 3, 3, 5, 5, 3, 5, 7, 5, 7, 7, 5, 3, 7, 4, 4, 6, 3, 3, 6, 3, 3, 3, 3, 4, 4, 3, 6, 4, 3, 6, 3, 3, 3, 4, 3, 3, 2, 2], [7, 7, 5, 3, 7, 7, 3, 7, 5, 5, 7, 3, 3, 5, 7, 7, 5, 5, 5, 3, 4, 3, 4, 6, 3, 4, 6, 3, 3, 6, 3, 6, 3, 4, 3, 3, 6, 4, 3, 3, 3, 2, 4, 2, 2], [3, 7, 5, 3, 7, 7, 7, 5, 3, 3, 7, 7, 7, 5, 7, 5, 5, 5, 7, 5, 6, 3, 6, 4, 3, 3, 4, 6, 3, 4, 3, 6, 3, 4, 3, 3, 4, 3, 4, 4, 3, 3, 4, 4, 4], [5, 7, 7, 7, 7, 5, 5, 7, 7, 5, 7, 5, 5, 7, 7, 5, 7, 3, 3, 3, 6, 3, 6, 3, 4, 4, 4, 4, 6, 6, 4, 3, 4, 3, 6, 3, 3, 3, 4, 4, 4, 4, 4, 4, 3], [5, 5, 3, 3, 3, 7, 3, 3, 3, 7, 3, 5, 7, 5, 5, 7, 7, 3, 5, 7, 6, 3, 4, 3, 3, 4, 3, 3, 3, 3, 4, 3, 3, 6, 4, 6, 6, 4, 6, 3, 2, 3, 4, 3, 3]], 'f_emb': [tensor([-0., -0., -0.,  ..., -0., -0., -0.]), tensor([-0., -0., -0.,  ..., -0., -0., -0.]), tensor([1226.8495,   -0.0000,   -0.0000,  ...,   -0.0000,   -0.0000,\n",
      "          -0.0000]), tensor([-0., -0., -0.,  ..., -0., -0., -0.]), tensor([188.3607,  -0.0000,  -0.0000,  ...,  -0.0000,  -0.0000, 213.2732]), tensor([-0., -0., -0.,  ..., -0., -0., -0.]), tensor([-0., -0., -0.,  ..., -0., -0., -0.]), tensor([-0.0000, -0.0000, -0.0000,  ..., -0.0000, -0.0000, 9.9611]), tensor([38.6843, -0.0000, -0.0000,  ..., -0.0000, -0.0000, -0.0000]), tensor([ 0.5262, -0.3664,  0.4536,  ..., -0.3597, -0.2121, -0.3281]), tensor([-0., -0., -0.,  ..., -0., -0., -0.]), tensor([-0.0000, -0.0000, -0.0000,  ..., 30.1783, -0.0000,  3.6916]), tensor([-0., -0., -0.,  ..., -0., -0., -0.]), tensor([-0., -0., -0.,  ..., -0., -0., -0.]), tensor([18.3999, -0.0000, -0.0000,  ..., -0.0000, -0.0000, 45.3672]), tensor([ 0.2349,  0.1743,  0.1660,  ...,  0.3616,  0.0957, -0.3534]), tensor([-0.2793, -0.3249, -0.3683,  ..., -0.0000, -0.0000, -0.3627]), tensor([ 0.0759, -0.3346, -0.2591,  ...,  0.4824, -0.2551, -0.1757]), tensor([ 0.4264, -0.1865, -0.1025,  ..., -0.1637,  0.7777, -0.3373]), tensor([ 0.4347, -0.2336, -0.2793,  ..., -0.3347, -0.3469, -0.1162]), tensor([ 0.0104,  0.4655, -0.3177,  ..., -0.1076,  0.8267, -0.3667]), tensor([ 0.0873,  0.1475, -0.3670,  ..., -0.1698,  0.0327, -0.3572]), tensor([322.7029,  -0.0000,  83.4842,  ...,  -0.0000,  -0.0000,  -0.0000]), tensor([-0.3365, -0.0309, -0.3139,  ...,  0.1455, -0.3260, -0.3622]), tensor([-0.0000, -0.0000, -0.0000,  ..., -0.0000, -0.0000, 3.1642]), tensor([    -0.0000,     -0.0000, 159417.2812,  ...,     -0.0000,\n",
      "            -0.0000, 179515.1562]), tensor([-0.0014, -0.3527, -0.0000,  ..., -0.0000, -0.0000, -0.0000]), tensor([6770305.5000,      -0.0000,      -0.0000,  ...,      -0.0000,\n",
      "             -0.0000,      -0.0000]), tensor([1609.9169,   -0.0000,   -0.0000,  ...,   -0.0000,   -0.0000,\n",
      "          -0.0000]), tensor([-0., -0., -0.,  ..., -0., -0., -0.]), tensor([-0.0067, -0.3482, -0.3706,  ..., -0.3683, -0.0611,  0.0504]), tensor([ 1.4714, -0.0000, -0.0945,  ..., -0.2832, -0.0000, -0.3679]), tensor([ 1.7539, 21.7252, -0.0000,  ..., -0.0000, -0.0000, 13.5089]), tensor([-0.3179, -0.3455, -0.3743,  ..., -0.2527,  0.1497, -0.0043]), tensor([-0.3241, -0.2744, -0.1231,  ..., -0.1582, -0.2237, -0.0000]), tensor([-0.1600,  3.9948, -0.0000,  ..., -0.0000, -0.0000,  8.6842]), tensor([-0.1209,  0.0394, -0.3112,  ..., -0.2695, -0.1538, -0.1348]), tensor([255.8073,  -0.0000, 140.1278,  ...,  -0.0000,  -0.0000,  -0.0000]), tensor([-0., -0., -0.,  ..., -0., -0., -0.]), tensor([-0.0667, -0.2547, -0.3669,  ...,  0.1411, -0.0529, -0.0764]), tensor([ 0.0093, -0.3176, -0.3739,  ..., -0.1065,  0.4898, -0.3551]), tensor([-0.3701, -0.1757, -0.3706,  ..., -0.3319, -0.2591,  0.1290]), tensor([-0.3745, -0.1032, -0.1967,  ..., -0.0000, -0.0000, -0.0593]), tensor([-0.3677, -0.2142, -0.0000,  ..., -0.0000, -0.0000, -0.3277]), tensor([-0., -0., -0.,  ..., -0., -0., -0.]), tensor([3.1169, -0.0000, -0.0000,  ..., -0.0000, -0.0000, 8.0993]), tensor([-0.2472, -0.3239, -0.2829,  ..., -0.3483, -0.2882, -0.2494]), tensor([-0.3634, -0.3321, -0.1018,  ..., -0.3687, -0.3750, -0.2305])], 'acc': [99.51923076923077, 99.03846153846153, 99.51923076923077, 99.51923076923077, 99.51923076923077, 99.51923076923077, 98.38709677419355, 96.7741935483871, 98.38709677419355, 98.38709677419355, 8.064516129032258, 96.7741935483871, 77.08333333333333, 76.4423076923077, 78.68589743589743, 77.40384615384616, 77.24358974358974, 78.36538461538461, 94.23076923076923, 75.64102564102564, 90.7051282051282, 94.23076923076923, 91.34615384615384, 94.23076923076923, 99.52978056426332, 99.3730407523511, 99.68652037617555, 99.68652037617555, 100.0, 99.3730407523511, 84.88700564971751, 87.99435028248588, 86.7231638418079, 85.73446327683615, 87.99435028248588, 86.44067796610169, 96.6740576496674, 97.11751662971176, 97.00665188470066, 97.22838137472284, 96.6740576496674, 95.56541019955654, 94.0, 94.6, 94.0, 95.0, 95.2, 95.0], 'n_params': [6228442, 5625114, 6570290, 5347354, 5825218, 4821626, 4711646, 4554646, 6688342, 4317614, 5203934, 5550702, 5717244, 5151700, 5773028, 5059684, 6364428, 4930308, 5608818, 4493962, 4318938, 4537954, 5514050, 3861938, 5155304, 6005320, 4798208, 6420784, 4792312, 3845304, 4249220, 3881348, 5982340, 3517428, 5327428, 6367692, 5599490, 4745802, 5815994, 5362738, 5007786, 4598522, 5921562, 4126858, 4121234, 5318114, 5013634, 5773418]}\n",
      "\n",
      "=====> GENERATING QUERIES <=====\n",
      "\n",
      "query_shape_train: 32, each tensor:torch.Size([512])\n"
     ]
    },
    {
     "name": "stderr",
     "output_type": "stream",
     "text": [
      "Using cache found in /root/.cache/torch/hub/mit-han-lab_once-for-all_master\n"
     ]
    },
    {
     "name": "stdout",
     "output_type": "stream",
     "text": [
      "query_shape_test: 32, each tensor:torch.Size([512])\n",
      "x_query:32, x_query-test :32\n",
      "\n",
      "=====>SAVING khu-deep-learning-competition_0_10 in m_train.pt <=====\n",
      "\n",
      "quesry_dataset plant-seedlings-classification_0_12\n",
      "\n",
      "Dataset : plant-seedlings-classification_0_12, nclss:12\n",
      "\n",
      "\n",
      "=====> Generating 1th network  <=====\n",
      "\n",
      "\n",
      "=====>Generating sub_net<=====\n",
      "\n",
      "\n",
      "=====> Training started <=====\n",
      "\n",
      "Starting Training for:plant-seedlings-classification_0_12 with model topology:[3, 5, 3, 5, 3, 3, 5, 7, 3, 7, 3, 3, 3, 5, 3, 7, 7, 7, 5, 7, 3, 4, 3, 6, 3, 4, 3, 4, 4, 4, 3, 4, 3, 4, 6, 4, 4, 3, 3, 4, 3, 4, 3, 4, 2]\n"
     ]
    },
    {
     "name": "stderr",
     "output_type": "stream",
     "text": [
      "119it [00:16,  7.43it/s]\n",
      "15it [00:01,  7.85it/s]\n"
     ]
    },
    {
     "name": "stdout",
     "output_type": "stream",
     "text": [
      "\n",
      "Epoch: 1/15, Train Loss: 44.28715916 , Val Loss: 13.59238780, Train Accuracy:58.43881857,  Val Accuracy: 86.91983122, Epoch Time: 18.19721293\n"
     ]
    },
    {
     "name": "stderr",
     "output_type": "stream",
     "text": [
      "119it [00:15,  7.57it/s]\n",
      "15it [00:01, 11.01it/s]\n"
     ]
    },
    {
     "name": "stdout",
     "output_type": "stream",
     "text": [
      "\n",
      "Epoch: 2/15, Train Loss: 12.01272790 , Val Loss: 6.51033264, Train Accuracy:88.34388186,  Val Accuracy: 93.45991561, Epoch Time: 17.30074453\n"
     ]
    },
    {
     "name": "stderr",
     "output_type": "stream",
     "text": [
      "119it [00:15,  7.52it/s]\n",
      "15it [00:01, 11.92it/s]\n"
     ]
    },
    {
     "name": "stdout",
     "output_type": "stream",
     "text": [
      "\n",
      "Epoch: 3/15, Train Loss: 5.37275031 , Val Loss: 4.92992556, Train Accuracy:94.51476793,  Val Accuracy: 94.51476793, Epoch Time: 17.38399887\n"
     ]
    },
    {
     "name": "stderr",
     "output_type": "stream",
     "text": [
      "119it [00:15,  7.56it/s]\n",
      "15it [00:01, 12.03it/s]\n"
     ]
    },
    {
     "name": "stdout",
     "output_type": "stream",
     "text": [
      "\n",
      "Epoch: 4/15, Train Loss: 3.72281735 , Val Loss: 5.00544795, Train Accuracy:96.51898734,  Val Accuracy: 94.72573840, Epoch Time: 17.21719790\n"
     ]
    },
    {
     "name": "stderr",
     "output_type": "stream",
     "text": [
      "119it [00:15,  7.48it/s]\n",
      "15it [00:01, 11.95it/s]\n"
     ]
    },
    {
     "name": "stdout",
     "output_type": "stream",
     "text": [
      "\n",
      "Epoch: 5/15, Train Loss: 2.53192739 , Val Loss: 4.18964431, Train Accuracy:97.81118143,  Val Accuracy: 95.99156118, Epoch Time: 17.41242695\n"
     ]
    },
    {
     "name": "stderr",
     "output_type": "stream",
     "text": [
      "119it [00:15,  7.57it/s]\n",
      "15it [00:01, 12.30it/s]\n"
     ]
    },
    {
     "name": "stdout",
     "output_type": "stream",
     "text": [
      "\n",
      "Epoch: 6/15, Train Loss: 1.52874622 , Val Loss: 3.86574205, Train Accuracy:98.78691983,  Val Accuracy: 96.20253165, Epoch Time: 17.17465854\n"
     ]
    },
    {
     "name": "stderr",
     "output_type": "stream",
     "text": [
      "119it [00:15,  7.55it/s]\n",
      "15it [00:01, 11.60it/s]\n"
     ]
    },
    {
     "name": "stdout",
     "output_type": "stream",
     "text": [
      "\n",
      "Epoch: 7/15, Train Loss: 1.11623287 , Val Loss: 3.89768260, Train Accuracy:99.18248945,  Val Accuracy: 95.56962025, Epoch Time: 17.31701493\n"
     ]
    },
    {
     "name": "stderr",
     "output_type": "stream",
     "text": [
      "119it [00:15,  7.56it/s]\n",
      "15it [00:01,  7.98it/s]\n"
     ]
    },
    {
     "name": "stdout",
     "output_type": "stream",
     "text": [
      "\n",
      "Epoch: 8/15, Train Loss: 0.78412380 , Val Loss: 3.66376174, Train Accuracy:99.47257384,  Val Accuracy: 96.62447257, Epoch Time: 17.83276415\n"
     ]
    },
    {
     "name": "stderr",
     "output_type": "stream",
     "text": [
      "119it [00:15,  7.55it/s]\n",
      "15it [00:01,  7.86it/s]\n"
     ]
    },
    {
     "name": "stdout",
     "output_type": "stream",
     "text": [
      "\n",
      "Epoch: 9/15, Train Loss: 0.64683998 , Val Loss: 3.65347631, Train Accuracy:99.55168776,  Val Accuracy: 96.62447257, Epoch Time: 17.89840484\n"
     ]
    },
    {
     "name": "stderr",
     "output_type": "stream",
     "text": [
      "119it [00:16,  7.43it/s]\n",
      "15it [00:01,  8.39it/s]\n"
     ]
    },
    {
     "name": "stdout",
     "output_type": "stream",
     "text": [
      "\n",
      "Epoch: 10/15, Train Loss: 0.46885982 , Val Loss: 3.65475629, Train Accuracy:99.78902954,  Val Accuracy: 97.25738397, Epoch Time: 18.02024770\n"
     ]
    },
    {
     "name": "stderr",
     "output_type": "stream",
     "text": [
      "119it [00:15,  7.50it/s]\n",
      "15it [00:01, 11.85it/s]\n"
     ]
    },
    {
     "name": "stdout",
     "output_type": "stream",
     "text": [
      "\n",
      "Epoch: 11/15, Train Loss: 0.32653703 , Val Loss: 3.71889436, Train Accuracy:99.86814346,  Val Accuracy: 97.04641350, Epoch Time: 17.40996337\n"
     ]
    },
    {
     "name": "stderr",
     "output_type": "stream",
     "text": [
      "119it [00:16,  7.43it/s]\n",
      "15it [00:01, 12.85it/s]\n"
     ]
    },
    {
     "name": "stdout",
     "output_type": "stream",
     "text": [
      "\n",
      "Epoch: 12/15, Train Loss: 0.20291334 , Val Loss: 3.64929015, Train Accuracy:99.97362869,  Val Accuracy: 97.25738397, Epoch Time: 17.42908263\n"
     ]
    },
    {
     "name": "stderr",
     "output_type": "stream",
     "text": [
      "119it [00:15,  7.54it/s]\n",
      "15it [00:01, 11.76it/s]\n"
     ]
    },
    {
     "name": "stdout",
     "output_type": "stream",
     "text": [
      "\n",
      "Epoch: 13/15, Train Loss: 0.19451225 , Val Loss: 3.72117231, Train Accuracy:99.94725738,  Val Accuracy: 96.62447257, Epoch Time: 17.32187819\n"
     ]
    },
    {
     "name": "stderr",
     "output_type": "stream",
     "text": [
      "119it [00:15,  7.59it/s]\n",
      "15it [00:01, 12.61it/s]\n"
     ]
    },
    {
     "name": "stdout",
     "output_type": "stream",
     "text": [
      "\n",
      "Epoch: 14/15, Train Loss: 0.18780032 , Val Loss: 3.71830395, Train Accuracy:99.92088608,  Val Accuracy: 96.62447257, Epoch Time: 17.10688949\n"
     ]
    },
    {
     "name": "stderr",
     "output_type": "stream",
     "text": [
      "119it [00:15,  7.53it/s]\n",
      "15it [00:01, 11.45it/s]\n"
     ]
    },
    {
     "name": "stdout",
     "output_type": "stream",
     "text": [
      "\n",
      "Epoch: 15/15, Train Loss: 0.18246591 , Val Loss: 3.60912372, Train Accuracy:99.89451477,  Val Accuracy: 97.46835443, Epoch Time: 17.36181688\n",
      "\n",
      "=====>Generating f_emb<=====\n",
      "\n",
      "torch.Size([1536])\n",
      "{'dataset': ['sldc_0_10', 'sldc_0_10', 'sldc_0_10', 'sldc_0_10', 'sldc_0_10', 'sldc_0_10', 'corales_0_14', 'corales_0_14', 'corales_0_14', 'corales_0_14', 'corales_0_14', 'corales_0_14', '6000-store-items-images-classified-by-color_imoore_0_12', '6000-store-items-images-classified-by-color_imoore_0_12', '6000-store-items-images-classified-by-color_imoore_0_12', '6000-store-items-images-classified-by-color_imoore_0_12', '6000-store-items-images-classified-by-color_imoore_0_12', '6000-store-items-images-classified-by-color_imoore_0_12', 'fcis-sc-deeplearning-competition_0_10', 'fcis-sc-deeplearning-competition_0_10', 'fcis-sc-deeplearning-competition_0_10', 'fcis-sc-deeplearning-competition_0_10', 'fcis-sc-deeplearning-competition_0_10', 'fcis-sc-deeplearning-competition_0_10', 'lego-brick-images_joosthazelzet_0_16', 'lego-brick-images_joosthazelzet_0_16', 'lego-brick-images_joosthazelzet_0_16', 'lego-brick-images_joosthazelzet_0_16', 'lego-brick-images_joosthazelzet_0_16', 'lego-brick-images_joosthazelzet_0_16', 'oregon-wildlife_virtualdvid_0_20', 'oregon-wildlife_virtualdvid_0_20', 'oregon-wildlife_virtualdvid_0_20', 'oregon-wildlife_virtualdvid_0_20', 'oregon-wildlife_virtualdvid_0_20', 'oregon-wildlife_virtualdvid_0_20', 'perritos_0_10', 'perritos_0_10', 'perritos_0_10', 'perritos_0_10', 'perritos_0_10', 'perritos_0_10', 'khu-deep-learning-competition_0_10', 'khu-deep-learning-competition_0_10', 'khu-deep-learning-competition_0_10', 'khu-deep-learning-competition_0_10', 'khu-deep-learning-competition_0_10', 'khu-deep-learning-competition_0_10', 'plant-seedlings-classification_0_12'], 'topol': [[3, 5, 5, 5, 7, 5, 5, 7, 3, 5, 7, 7, 7, 5, 7, 5, 3, 3, 7, 3, 4, 3, 6, 3, 6, 6, 4, 4, 6, 4, 3, 6, 6, 3, 4, 6, 3, 4, 6, 3, 3, 4, 2, 4, 4], [3, 7, 7, 7, 5, 7, 5, 3, 7, 5, 3, 3, 5, 5, 3, 7, 7, 5, 3, 5, 3, 4, 6, 3, 6, 4, 6, 4, 4, 3, 3, 3, 3, 6, 6, 3, 3, 4, 6, 4, 4, 3, 2, 2, 4], [3, 7, 5, 5, 3, 7, 7, 5, 5, 5, 5, 5, 5, 7, 7, 7, 7, 7, 5, 7, 6, 6, 6, 3, 6, 3, 4, 4, 6, 6, 6, 4, 3, 6, 4, 6, 6, 4, 6, 4, 2, 3, 3, 3, 4], [7, 5, 3, 3, 5, 3, 5, 5, 5, 5, 3, 7, 7, 5, 7, 3, 3, 5, 3, 5, 3, 4, 6, 6, 6, 3, 6, 3, 6, 3, 6, 4, 4, 6, 6, 4, 6, 6, 6, 4, 2, 2, 2, 3, 2], [3, 5, 5, 7, 5, 5, 7, 3, 7, 5, 5, 5, 3, 5, 3, 7, 5, 7, 7, 3, 3, 6, 3, 3, 6, 3, 6, 6, 4, 4, 3, 4, 4, 3, 6, 6, 4, 3, 4, 3, 4, 3, 4, 4, 4], [3, 3, 5, 5, 7, 5, 5, 5, 5, 5, 3, 3, 3, 3, 3, 7, 7, 3, 5, 5, 6, 4, 3, 4, 4, 4, 3, 6, 4, 3, 6, 4, 4, 4, 6, 6, 4, 4, 3, 6, 4, 2, 4, 3, 3], [7, 7, 5, 5, 5, 5, 3, 3, 3, 5, 7, 5, 5, 3, 3, 5, 5, 5, 7, 5, 3, 4, 3, 6, 6, 4, 3, 4, 6, 6, 4, 4, 6, 4, 4, 3, 6, 4, 3, 6, 2, 4, 4, 3, 2], [3, 3, 3, 7, 7, 5, 5, 7, 7, 5, 7, 7, 7, 7, 3, 5, 7, 7, 7, 3, 6, 4, 6, 3, 3, 4, 6, 6, 3, 3, 4, 4, 4, 4, 6, 6, 3, 4, 4, 3, 2, 4, 4, 2, 3], [5, 5, 3, 5, 7, 3, 5, 7, 7, 5, 3, 7, 7, 3, 3, 7, 3, 3, 7, 3, 4, 4, 6, 6, 3, 6, 3, 6, 3, 4, 4, 6, 3, 4, 6, 3, 6, 6, 4, 4, 4, 2, 4, 4, 4], [3, 5, 3, 5, 3, 3, 7, 7, 3, 3, 5, 7, 5, 3, 7, 7, 3, 3, 3, 7, 3, 4, 6, 6, 4, 4, 6, 6, 3, 3, 3, 6, 3, 6, 3, 4, 3, 4, 6, 6, 4, 4, 4, 3, 2], [3, 7, 7, 5, 7, 3, 7, 5, 7, 7, 7, 5, 7, 5, 3, 7, 5, 5, 5, 5, 6, 3, 6, 6, 4, 6, 6, 4, 6, 6, 6, 3, 3, 3, 3, 3, 6, 6, 4, 4, 3, 4, 2, 2, 3], [7, 7, 3, 3, 5, 7, 3, 5, 5, 3, 3, 3, 5, 7, 3, 7, 7, 5, 7, 7, 6, 3, 4, 3, 3, 3, 4, 3, 3, 4, 6, 6, 6, 4, 4, 6, 6, 4, 3, 4, 2, 2, 3, 4, 3], [7, 3, 3, 3, 3, 3, 5, 7, 5, 3, 5, 5, 3, 7, 7, 7, 5, 3, 7, 5, 3, 6, 3, 6, 6, 3, 4, 3, 6, 6, 3, 4, 3, 4, 4, 3, 4, 6, 6, 4, 3, 3, 2, 3, 3], [3, 3, 7, 5, 7, 3, 5, 7, 3, 5, 3, 5, 5, 5, 5, 3, 5, 5, 3, 3, 3, 6, 6, 6, 6, 6, 4, 3, 4, 4, 6, 4, 3, 6, 3, 6, 3, 6, 4, 6, 2, 2, 2, 3, 3], [5, 3, 5, 5, 5, 5, 7, 7, 3, 7, 7, 7, 3, 3, 7, 3, 7, 5, 5, 3, 3, 3, 6, 4, 6, 4, 4, 3, 6, 4, 6, 6, 3, 6, 4, 4, 3, 4, 3, 4, 3, 3, 4, 4, 4], [5, 5, 7, 5, 5, 5, 5, 7, 3, 3, 7, 3, 7, 5, 3, 3, 5, 7, 3, 3, 4, 4, 4, 4, 3, 4, 6, 3, 4, 6, 6, 3, 6, 3, 4, 6, 6, 4, 4, 6, 2, 4, 2, 3, 3], [7, 5, 3, 3, 7, 7, 7, 7, 5, 7, 5, 3, 7, 3, 5, 7, 3, 5, 7, 5, 4, 4, 4, 6, 4, 3, 3, 6, 3, 6, 4, 6, 6, 6, 6, 6, 3, 4, 6, 4, 2, 2, 2, 4, 3], [3, 3, 3, 7, 7, 3, 3, 7, 7, 7, 7, 5, 5, 7, 7, 3, 7, 7, 5, 7, 3, 4, 3, 3, 6, 3, 6, 3, 6, 3, 6, 3, 4, 3, 3, 6, 4, 4, 3, 6, 4, 4, 2, 4, 3], [3, 7, 7, 7, 3, 5, 3, 7, 5, 3, 5, 5, 7, 3, 5, 5, 3, 7, 5, 5, 4, 3, 4, 4, 3, 4, 6, 4, 6, 4, 3, 3, 3, 3, 6, 3, 4, 6, 4, 3, 4, 2, 4, 4, 3], [7, 7, 3, 5, 5, 5, 7, 3, 3, 5, 3, 3, 5, 7, 7, 3, 3, 7, 3, 3, 3, 3, 4, 6, 4, 6, 6, 6, 4, 3, 3, 6, 6, 4, 3, 4, 6, 4, 4, 4, 2, 4, 2, 3, 2], [3, 7, 7, 3, 5, 7, 7, 5, 7, 3, 5, 7, 7, 3, 5, 5, 5, 3, 3, 5, 3, 4, 3, 4, 3, 4, 6, 3, 6, 3, 4, 3, 4, 4, 4, 6, 3, 3, 4, 3, 3, 3, 2, 4, 2], [3, 7, 5, 3, 3, 5, 5, 7, 5, 7, 3, 5, 3, 7, 7, 5, 5, 7, 3, 3, 3, 3, 4, 6, 3, 6, 4, 3, 6, 4, 6, 4, 6, 6, 6, 6, 3, 4, 3, 6, 4, 4, 2, 2, 3], [3, 7, 3, 3, 5, 7, 5, 7, 5, 7, 7, 7, 7, 3, 3, 3, 7, 3, 3, 3, 6, 4, 4, 3, 4, 6, 4, 6, 4, 6, 6, 4, 4, 3, 3, 3, 6, 4, 3, 3, 2, 4, 4, 4, 4], [5, 5, 7, 5, 7, 3, 7, 7, 7, 5, 7, 3, 5, 3, 5, 7, 3, 7, 7, 5, 4, 3, 6, 6, 6, 3, 6, 3, 6, 3, 3, 6, 4, 4, 3, 3, 3, 3, 3, 3, 3, 2, 3, 4, 2], [7, 3, 7, 3, 5, 5, 3, 3, 7, 3, 7, 7, 7, 5, 5, 5, 5, 7, 5, 5, 6, 4, 3, 3, 4, 3, 3, 4, 4, 3, 6, 6, 3, 4, 4, 6, 6, 4, 6, 3, 3, 4, 4, 4, 2], [5, 5, 3, 7, 3, 7, 7, 5, 3, 7, 7, 5, 5, 7, 7, 7, 5, 7, 5, 3, 4, 4, 3, 3, 4, 3, 4, 6, 3, 3, 3, 4, 6, 6, 4, 6, 6, 4, 3, 4, 4, 4, 4, 3, 4], [5, 5, 3, 5, 7, 3, 5, 5, 3, 5, 7, 3, 5, 3, 3, 5, 7, 7, 5, 5, 4, 3, 6, 4, 6, 6, 6, 4, 3, 6, 6, 6, 4, 4, 4, 4, 3, 4, 3, 6, 2, 4, 2, 4, 3], [5, 3, 5, 3, 5, 3, 3, 3, 7, 3, 5, 7, 5, 7, 3, 7, 7, 5, 5, 3, 6, 3, 6, 6, 3, 4, 3, 4, 6, 3, 4, 6, 3, 3, 4, 4, 6, 6, 6, 4, 3, 4, 4, 4, 3], [7, 5, 3, 7, 3, 5, 3, 5, 3, 5, 7, 3, 7, 7, 5, 7, 7, 3, 3, 3, 3, 3, 6, 4, 3, 4, 4, 3, 3, 3, 3, 4, 3, 3, 3, 3, 6, 6, 4, 4, 2, 4, 2, 4, 2], [5, 7, 7, 5, 5, 5, 7, 7, 7, 3, 5, 5, 5, 5, 3, 3, 5, 7, 3, 5, 3, 4, 4, 3, 3, 6, 6, 4, 4, 3, 4, 3, 3, 6, 4, 6, 4, 3, 3, 3, 2, 2, 4, 2, 2], [5, 5, 7, 3, 3, 3, 5, 3, 5, 5, 3, 3, 5, 7, 5, 3, 5, 3, 7, 7, 3, 3, 4, 4, 3, 3, 3, 3, 4, 6, 6, 4, 3, 4, 6, 4, 4, 4, 3, 3, 4, 4, 3, 2, 3], [3, 5, 5, 5, 7, 5, 7, 7, 5, 5, 5, 5, 5, 7, 3, 5, 7, 7, 3, 5, 6, 6, 4, 6, 3, 3, 3, 4, 4, 3, 6, 4, 4, 3, 3, 6, 6, 3, 3, 6, 3, 4, 3, 2, 2], [3, 3, 7, 5, 5, 5, 7, 7, 7, 5, 3, 3, 3, 3, 7, 5, 5, 5, 3, 3, 3, 3, 3, 6, 4, 4, 6, 4, 3, 6, 4, 3, 6, 4, 3, 6, 6, 3, 4, 6, 2, 4, 2, 3, 4], [5, 3, 3, 3, 7, 5, 7, 3, 5, 5, 3, 3, 3, 5, 3, 5, 7, 3, 5, 3, 6, 3, 4, 6, 3, 6, 4, 3, 4, 3, 4, 4, 6, 3, 4, 4, 3, 3, 6, 6, 2, 3, 3, 2, 2], [3, 7, 3, 5, 3, 7, 5, 3, 7, 7, 3, 5, 5, 3, 7, 5, 5, 7, 7, 7, 4, 6, 6, 3, 6, 6, 4, 4, 3, 6, 6, 6, 3, 3, 3, 4, 4, 6, 3, 3, 2, 4, 3, 4, 3], [3, 3, 3, 5, 3, 3, 3, 5, 7, 3, 7, 5, 3, 7, 5, 3, 7, 7, 3, 7, 6, 3, 3, 6, 3, 6, 6, 3, 6, 6, 4, 4, 4, 3, 6, 3, 6, 3, 3, 6, 2, 3, 4, 4, 4], [5, 7, 3, 7, 3, 7, 5, 5, 5, 7, 7, 3, 3, 3, 7, 3, 5, 5, 3, 5, 6, 4, 6, 6, 6, 4, 6, 3, 4, 4, 3, 3, 6, 6, 4, 3, 4, 3, 6, 4, 2, 2, 3, 4, 3], [3, 3, 3, 3, 5, 7, 5, 3, 3, 7, 3, 3, 5, 3, 3, 3, 3, 3, 3, 3, 6, 3, 6, 4, 4, 3, 6, 6, 3, 6, 6, 3, 6, 6, 6, 3, 4, 3, 3, 4, 4, 3, 2, 4, 2], [5, 5, 7, 3, 3, 3, 7, 5, 7, 7, 3, 7, 5, 3, 5, 7, 7, 5, 5, 5, 4, 4, 3, 4, 3, 3, 6, 6, 6, 3, 4, 6, 6, 3, 3, 4, 6, 6, 6, 3, 2, 3, 3, 2, 3], [3, 3, 3, 3, 5, 3, 5, 3, 7, 3, 5, 5, 7, 3, 5, 7, 3, 5, 5, 7, 4, 3, 6, 4, 3, 6, 6, 4, 4, 4, 3, 6, 6, 3, 3, 6, 3, 3, 6, 6, 3, 2, 2, 4, 3], [3, 7, 5, 5, 7, 5, 7, 3, 3, 5, 5, 3, 5, 3, 5, 3, 3, 7, 3, 3, 3, 4, 4, 6, 6, 6, 3, 6, 6, 4, 3, 6, 6, 6, 6, 4, 3, 3, 3, 6, 3, 4, 4, 4, 2], [5, 7, 3, 3, 7, 5, 7, 5, 3, 3, 5, 5, 7, 3, 3, 7, 7, 3, 5, 5, 6, 3, 6, 6, 6, 3, 6, 6, 4, 3, 6, 3, 3, 3, 3, 3, 4, 6, 3, 3, 2, 2, 4, 2, 3], [3, 7, 5, 5, 5, 3, 7, 5, 7, 5, 3, 3, 5, 3, 3, 7, 3, 7, 3, 5, 3, 4, 3, 6, 4, 3, 3, 4, 4, 6, 6, 3, 3, 3, 6, 6, 4, 4, 3, 6, 4, 4, 4, 3, 4], [5, 3, 5, 3, 5, 3, 7, 3, 3, 5, 5, 3, 5, 7, 5, 7, 7, 5, 3, 7, 4, 4, 6, 3, 3, 6, 3, 3, 3, 3, 4, 4, 3, 6, 4, 3, 6, 3, 3, 3, 4, 3, 3, 2, 2], [7, 7, 5, 3, 7, 7, 3, 7, 5, 5, 7, 3, 3, 5, 7, 7, 5, 5, 5, 3, 4, 3, 4, 6, 3, 4, 6, 3, 3, 6, 3, 6, 3, 4, 3, 3, 6, 4, 3, 3, 3, 2, 4, 2, 2], [3, 7, 5, 3, 7, 7, 7, 5, 3, 3, 7, 7, 7, 5, 7, 5, 5, 5, 7, 5, 6, 3, 6, 4, 3, 3, 4, 6, 3, 4, 3, 6, 3, 4, 3, 3, 4, 3, 4, 4, 3, 3, 4, 4, 4], [5, 7, 7, 7, 7, 5, 5, 7, 7, 5, 7, 5, 5, 7, 7, 5, 7, 3, 3, 3, 6, 3, 6, 3, 4, 4, 4, 4, 6, 6, 4, 3, 4, 3, 6, 3, 3, 3, 4, 4, 4, 4, 4, 4, 3], [5, 5, 3, 3, 3, 7, 3, 3, 3, 7, 3, 5, 7, 5, 5, 7, 7, 3, 5, 7, 6, 3, 4, 3, 3, 4, 3, 3, 3, 3, 4, 3, 3, 6, 4, 6, 6, 4, 6, 3, 2, 3, 4, 3, 3], [3, 5, 3, 5, 3, 3, 5, 7, 3, 7, 3, 3, 3, 5, 3, 7, 7, 7, 5, 7, 3, 4, 3, 6, 3, 4, 3, 4, 4, 4, 3, 4, 3, 4, 6, 4, 4, 3, 3, 4, 3, 4, 3, 4, 2]], 'f_emb': [tensor([-0., -0., -0.,  ..., -0., -0., -0.]), tensor([-0., -0., -0.,  ..., -0., -0., -0.]), tensor([1226.8495,   -0.0000,   -0.0000,  ...,   -0.0000,   -0.0000,\n",
      "          -0.0000]), tensor([-0., -0., -0.,  ..., -0., -0., -0.]), tensor([188.3607,  -0.0000,  -0.0000,  ...,  -0.0000,  -0.0000, 213.2732]), tensor([-0., -0., -0.,  ..., -0., -0., -0.]), tensor([-0., -0., -0.,  ..., -0., -0., -0.]), tensor([-0.0000, -0.0000, -0.0000,  ..., -0.0000, -0.0000, 9.9611]), tensor([38.6843, -0.0000, -0.0000,  ..., -0.0000, -0.0000, -0.0000]), tensor([ 0.5262, -0.3664,  0.4536,  ..., -0.3597, -0.2121, -0.3281]), tensor([-0., -0., -0.,  ..., -0., -0., -0.]), tensor([-0.0000, -0.0000, -0.0000,  ..., 30.1783, -0.0000,  3.6916]), tensor([-0., -0., -0.,  ..., -0., -0., -0.]), tensor([-0., -0., -0.,  ..., -0., -0., -0.]), tensor([18.3999, -0.0000, -0.0000,  ..., -0.0000, -0.0000, 45.3672]), tensor([ 0.2349,  0.1743,  0.1660,  ...,  0.3616,  0.0957, -0.3534]), tensor([-0.2793, -0.3249, -0.3683,  ..., -0.0000, -0.0000, -0.3627]), tensor([ 0.0759, -0.3346, -0.2591,  ...,  0.4824, -0.2551, -0.1757]), tensor([ 0.4264, -0.1865, -0.1025,  ..., -0.1637,  0.7777, -0.3373]), tensor([ 0.4347, -0.2336, -0.2793,  ..., -0.3347, -0.3469, -0.1162]), tensor([ 0.0104,  0.4655, -0.3177,  ..., -0.1076,  0.8267, -0.3667]), tensor([ 0.0873,  0.1475, -0.3670,  ..., -0.1698,  0.0327, -0.3572]), tensor([322.7029,  -0.0000,  83.4842,  ...,  -0.0000,  -0.0000,  -0.0000]), tensor([-0.3365, -0.0309, -0.3139,  ...,  0.1455, -0.3260, -0.3622]), tensor([-0.0000, -0.0000, -0.0000,  ..., -0.0000, -0.0000, 3.1642]), tensor([    -0.0000,     -0.0000, 159417.2812,  ...,     -0.0000,\n",
      "            -0.0000, 179515.1562]), tensor([-0.0014, -0.3527, -0.0000,  ..., -0.0000, -0.0000, -0.0000]), tensor([6770305.5000,      -0.0000,      -0.0000,  ...,      -0.0000,\n",
      "             -0.0000,      -0.0000]), tensor([1609.9169,   -0.0000,   -0.0000,  ...,   -0.0000,   -0.0000,\n"
     ]
    },
    {
     "name": "stderr",
     "output_type": "stream",
     "text": [
      "Using cache found in /root/.cache/torch/hub/mit-han-lab_once-for-all_master\n"
     ]
    },
    {
     "name": "stdout",
     "output_type": "stream",
     "text": [
      "          -0.0000]), tensor([-0., -0., -0.,  ..., -0., -0., -0.]), tensor([-0.0067, -0.3482, -0.3706,  ..., -0.3683, -0.0611,  0.0504]), tensor([ 1.4714, -0.0000, -0.0945,  ..., -0.2832, -0.0000, -0.3679]), tensor([ 1.7539, 21.7252, -0.0000,  ..., -0.0000, -0.0000, 13.5089]), tensor([-0.3179, -0.3455, -0.3743,  ..., -0.2527,  0.1497, -0.0043]), tensor([-0.3241, -0.2744, -0.1231,  ..., -0.1582, -0.2237, -0.0000]), tensor([-0.1600,  3.9948, -0.0000,  ..., -0.0000, -0.0000,  8.6842]), tensor([-0.1209,  0.0394, -0.3112,  ..., -0.2695, -0.1538, -0.1348]), tensor([255.8073,  -0.0000, 140.1278,  ...,  -0.0000,  -0.0000,  -0.0000]), tensor([-0., -0., -0.,  ..., -0., -0., -0.]), tensor([-0.0667, -0.2547, -0.3669,  ...,  0.1411, -0.0529, -0.0764]), tensor([ 0.0093, -0.3176, -0.3739,  ..., -0.1065,  0.4898, -0.3551]), tensor([-0.3701, -0.1757, -0.3706,  ..., -0.3319, -0.2591,  0.1290]), tensor([-0.3745, -0.1032, -0.1967,  ..., -0.0000, -0.0000, -0.0593]), tensor([-0.3677, -0.2142, -0.0000,  ..., -0.0000, -0.0000, -0.3277]), tensor([-0., -0., -0.,  ..., -0., -0., -0.]), tensor([3.1169, -0.0000, -0.0000,  ..., -0.0000, -0.0000, 8.0993]), tensor([-0.2472, -0.3239, -0.2829,  ..., -0.3483, -0.2882, -0.2494]), tensor([-0.3634, -0.3321, -0.1018,  ..., -0.3687, -0.3750, -0.2305]), tensor([-0.1774, -0.3653, -0.2880,  ..., -0.3545, -0.3617, -0.3650])], 'acc': [99.51923076923077, 99.03846153846153, 99.51923076923077, 99.51923076923077, 99.51923076923077, 99.51923076923077, 98.38709677419355, 96.7741935483871, 98.38709677419355, 98.38709677419355, 8.064516129032258, 96.7741935483871, 77.08333333333333, 76.4423076923077, 78.68589743589743, 77.40384615384616, 77.24358974358974, 78.36538461538461, 94.23076923076923, 75.64102564102564, 90.7051282051282, 94.23076923076923, 91.34615384615384, 94.23076923076923, 99.52978056426332, 99.3730407523511, 99.68652037617555, 99.68652037617555, 100.0, 99.3730407523511, 84.88700564971751, 87.99435028248588, 86.7231638418079, 85.73446327683615, 87.99435028248588, 86.44067796610169, 96.6740576496674, 97.11751662971176, 97.00665188470066, 97.22838137472284, 96.6740576496674, 95.56541019955654, 94.0, 94.6, 94.0, 95.0, 95.2, 95.0, 97.46835443037975], 'n_params': [6228442, 5625114, 6570290, 5347354, 5825218, 4821626, 4711646, 4554646, 6688342, 4317614, 5203934, 5550702, 5717244, 5151700, 5773028, 5059684, 6364428, 4930308, 5608818, 4493962, 4318938, 4537954, 5514050, 3861938, 5155304, 6005320, 4798208, 6420784, 4792312, 3845304, 4249220, 3881348, 5982340, 3517428, 5327428, 6367692, 5599490, 4745802, 5815994, 5362738, 5007786, 4598522, 5921562, 4126858, 4121234, 5318114, 5013634, 5773418, 4451268]}\n",
      "\n",
      "=====> Generating 2th network  <=====\n",
      "\n",
      "\n",
      "=====>Generating sub_net<=====\n",
      "\n",
      "\n",
      "=====> Training started <=====\n",
      "\n",
      "Starting Training for:plant-seedlings-classification_0_12 with model topology:[3, 5, 3, 3, 5, 7, 3, 5, 3, 7, 7, 3, 7, 5, 7, 3, 7, 5, 5, 3, 4, 4, 4, 4, 3, 4, 4, 4, 3, 6, 6, 6, 4, 6, 3, 4, 6, 6, 6, 4, 2, 2, 4, 3, 4]\n"
     ]
    },
    {
     "name": "stderr",
     "output_type": "stream",
     "text": [
      "119it [00:16,  7.03it/s]\n",
      "15it [00:01, 12.16it/s]\n"
     ]
    },
    {
     "name": "stdout",
     "output_type": "stream",
     "text": [
      "\n",
      "Epoch: 1/15, Train Loss: 45.17568108 , Val Loss: 16.66477640, Train Accuracy:56.96202532,  Val Accuracy: 86.49789030, Epoch Time: 18.42699170\n"
     ]
    },
    {
     "name": "stderr",
     "output_type": "stream",
     "text": [
      "119it [00:16,  7.05it/s]\n",
      "15it [00:01, 11.59it/s]\n"
     ]
    },
    {
     "name": "stdout",
     "output_type": "stream",
     "text": [
      "\n",
      "Epoch: 2/15, Train Loss: 9.00229433 , Val Loss: 7.74742649, Train Accuracy:91.37658228,  Val Accuracy: 91.98312236, Epoch Time: 18.43941092\n"
     ]
    },
    {
     "name": "stderr",
     "output_type": "stream",
     "text": [
      "119it [00:16,  7.07it/s]\n",
      "15it [00:01, 11.93it/s]\n"
     ]
    },
    {
     "name": "stdout",
     "output_type": "stream",
     "text": [
      "\n",
      "Epoch: 3/15, Train Loss: 4.71423091 , Val Loss: 5.45875826, Train Accuracy:95.22679325,  Val Accuracy: 95.35864979, Epoch Time: 18.30046010\n"
     ]
    },
    {
     "name": "stderr",
     "output_type": "stream",
     "text": [
      "119it [00:16,  7.02it/s]\n",
      "15it [00:01, 11.66it/s]\n"
     ]
    },
    {
     "name": "stdout",
     "output_type": "stream",
     "text": [
      "\n",
      "Epoch: 4/15, Train Loss: 3.03069826 , Val Loss: 5.56526868, Train Accuracy:97.09915612,  Val Accuracy: 93.88185654, Epoch Time: 18.47513747\n"
     ]
    },
    {
     "name": "stderr",
     "output_type": "stream",
     "text": [
      "119it [00:16,  7.01it/s]\n",
      "15it [00:01, 12.65it/s]\n"
     ]
    },
    {
     "name": "stdout",
     "output_type": "stream",
     "text": [
      "\n",
      "Epoch: 5/15, Train Loss: 2.22664500 , Val Loss: 6.90694742, Train Accuracy:98.39135021,  Val Accuracy: 96.20253165, Epoch Time: 18.38984442\n"
     ]
    },
    {
     "name": "stderr",
     "output_type": "stream",
     "text": [
      "119it [00:16,  7.04it/s]\n",
      "15it [00:01, 11.48it/s]\n"
     ]
    },
    {
     "name": "stdout",
     "output_type": "stream",
     "text": [
      "\n",
      "Epoch: 6/15, Train Loss: 1.41061897 , Val Loss: 8.20916762, Train Accuracy:98.81329114,  Val Accuracy: 94.93670886, Epoch Time: 18.44133902\n"
     ]
    },
    {
     "name": "stderr",
     "output_type": "stream",
     "text": [
      "119it [00:16,  7.04it/s]\n",
      "15it [00:01, 11.90it/s]\n"
     ]
    },
    {
     "name": "stdout",
     "output_type": "stream",
     "text": [
      "\n",
      "Epoch: 7/15, Train Loss: 0.85718541 , Val Loss: 4.74143089, Train Accuracy:99.20886076,  Val Accuracy: 95.56962025, Epoch Time: 18.39367938\n"
     ]
    },
    {
     "name": "stderr",
     "output_type": "stream",
     "text": [
      "119it [00:16,  7.03it/s]\n",
      "15it [00:01, 11.46it/s]\n"
     ]
    },
    {
     "name": "stdout",
     "output_type": "stream",
     "text": [
      "\n",
      "Epoch: 8/15, Train Loss: 0.68248910 , Val Loss: 4.11005601, Train Accuracy:99.52531646,  Val Accuracy: 96.41350211, Epoch Time: 18.49969292\n"
     ]
    },
    {
     "name": "stderr",
     "output_type": "stream",
     "text": [
      "119it [00:16,  7.01it/s]\n",
      "15it [00:01, 12.71it/s]\n"
     ]
    },
    {
     "name": "stdout",
     "output_type": "stream",
     "text": [
      "\n",
      "Epoch: 9/15, Train Loss: 0.62605060 , Val Loss: 5.53450438, Train Accuracy:99.60443038,  Val Accuracy: 95.99156118, Epoch Time: 18.38795590\n"
     ]
    },
    {
     "name": "stderr",
     "output_type": "stream",
     "text": [
      "119it [00:16,  7.09it/s]\n",
      "15it [00:01,  9.16it/s]\n"
     ]
    },
    {
     "name": "stdout",
     "output_type": "stream",
     "text": [
      "\n",
      "Epoch: 10/15, Train Loss: 0.28362914 , Val Loss: 3.95503013, Train Accuracy:99.84177215,  Val Accuracy: 97.04641350, Epoch Time: 18.68185973\n"
     ]
    },
    {
     "name": "stderr",
     "output_type": "stream",
     "text": [
      "119it [00:16,  7.04it/s]\n",
      "15it [00:01, 12.82it/s]\n"
     ]
    },
    {
     "name": "stdout",
     "output_type": "stream",
     "text": [
      "\n",
      "Epoch: 11/15, Train Loss: 0.47961579 , Val Loss: 6.77358213, Train Accuracy:99.63080169,  Val Accuracy: 94.51476793, Epoch Time: 18.30522537\n"
     ]
    },
    {
     "name": "stderr",
     "output_type": "stream",
     "text": [
      "119it [00:16,  7.06it/s]\n",
      "15it [00:01, 11.66it/s]\n"
     ]
    },
    {
     "name": "stdout",
     "output_type": "stream",
     "text": [
      "\n",
      "Epoch: 12/15, Train Loss: 0.39513109 , Val Loss: 4.68248539, Train Accuracy:99.78902954,  Val Accuracy: 95.56962025, Epoch Time: 18.41821933\n"
     ]
    },
    {
     "name": "stderr",
     "output_type": "stream",
     "text": [
      "119it [00:16,  7.05it/s]\n",
      "15it [00:01, 12.18it/s]\n"
     ]
    },
    {
     "name": "stdout",
     "output_type": "stream",
     "text": [
      "\n",
      "Epoch: 13/15, Train Loss: 0.18853010 , Val Loss: 4.17043338, Train Accuracy:99.92088608,  Val Accuracy: 96.20253165, Epoch Time: 18.34129119\n"
     ]
    },
    {
     "name": "stderr",
     "output_type": "stream",
     "text": [
      "119it [00:17,  6.99it/s]\n",
      "15it [00:01, 11.51it/s]\n"
     ]
    },
    {
     "name": "stdout",
     "output_type": "stream",
     "text": [
      "\n",
      "Epoch: 14/15, Train Loss: 0.24852048 , Val Loss: 7.81879164, Train Accuracy:99.76265823,  Val Accuracy: 94.93670886, Epoch Time: 18.58256006\n"
     ]
    },
    {
     "name": "stderr",
     "output_type": "stream",
     "text": [
      "119it [00:16,  7.05it/s]\n",
      "15it [00:01, 12.64it/s]\n"
     ]
    },
    {
     "name": "stdout",
     "output_type": "stream",
     "text": [
      "\n",
      "Epoch: 15/15, Train Loss: 0.22811534 , Val Loss: 4.98452466, Train Accuracy:99.81540084,  Val Accuracy: 95.78059072, Epoch Time: 18.30182076\n",
      "Early stopping on, 14th, epoch\n",
      "\n",
      "=====>Generating f_emb<=====\n",
      "\n",
      "torch.Size([1536])\n",
      "{'dataset': ['sldc_0_10', 'sldc_0_10', 'sldc_0_10', 'sldc_0_10', 'sldc_0_10', 'sldc_0_10', 'corales_0_14', 'corales_0_14', 'corales_0_14', 'corales_0_14', 'corales_0_14', 'corales_0_14', '6000-store-items-images-classified-by-color_imoore_0_12', '6000-store-items-images-classified-by-color_imoore_0_12', '6000-store-items-images-classified-by-color_imoore_0_12', '6000-store-items-images-classified-by-color_imoore_0_12', '6000-store-items-images-classified-by-color_imoore_0_12', '6000-store-items-images-classified-by-color_imoore_0_12', 'fcis-sc-deeplearning-competition_0_10', 'fcis-sc-deeplearning-competition_0_10', 'fcis-sc-deeplearning-competition_0_10', 'fcis-sc-deeplearning-competition_0_10', 'fcis-sc-deeplearning-competition_0_10', 'fcis-sc-deeplearning-competition_0_10', 'lego-brick-images_joosthazelzet_0_16', 'lego-brick-images_joosthazelzet_0_16', 'lego-brick-images_joosthazelzet_0_16', 'lego-brick-images_joosthazelzet_0_16', 'lego-brick-images_joosthazelzet_0_16', 'lego-brick-images_joosthazelzet_0_16', 'oregon-wildlife_virtualdvid_0_20', 'oregon-wildlife_virtualdvid_0_20', 'oregon-wildlife_virtualdvid_0_20', 'oregon-wildlife_virtualdvid_0_20', 'oregon-wildlife_virtualdvid_0_20', 'oregon-wildlife_virtualdvid_0_20', 'perritos_0_10', 'perritos_0_10', 'perritos_0_10', 'perritos_0_10', 'perritos_0_10', 'perritos_0_10', 'khu-deep-learning-competition_0_10', 'khu-deep-learning-competition_0_10', 'khu-deep-learning-competition_0_10', 'khu-deep-learning-competition_0_10', 'khu-deep-learning-competition_0_10', 'khu-deep-learning-competition_0_10', 'plant-seedlings-classification_0_12', 'plant-seedlings-classification_0_12'], 'topol': [[3, 5, 5, 5, 7, 5, 5, 7, 3, 5, 7, 7, 7, 5, 7, 5, 3, 3, 7, 3, 4, 3, 6, 3, 6, 6, 4, 4, 6, 4, 3, 6, 6, 3, 4, 6, 3, 4, 6, 3, 3, 4, 2, 4, 4], [3, 7, 7, 7, 5, 7, 5, 3, 7, 5, 3, 3, 5, 5, 3, 7, 7, 5, 3, 5, 3, 4, 6, 3, 6, 4, 6, 4, 4, 3, 3, 3, 3, 6, 6, 3, 3, 4, 6, 4, 4, 3, 2, 2, 4], [3, 7, 5, 5, 3, 7, 7, 5, 5, 5, 5, 5, 5, 7, 7, 7, 7, 7, 5, 7, 6, 6, 6, 3, 6, 3, 4, 4, 6, 6, 6, 4, 3, 6, 4, 6, 6, 4, 6, 4, 2, 3, 3, 3, 4], [7, 5, 3, 3, 5, 3, 5, 5, 5, 5, 3, 7, 7, 5, 7, 3, 3, 5, 3, 5, 3, 4, 6, 6, 6, 3, 6, 3, 6, 3, 6, 4, 4, 6, 6, 4, 6, 6, 6, 4, 2, 2, 2, 3, 2], [3, 5, 5, 7, 5, 5, 7, 3, 7, 5, 5, 5, 3, 5, 3, 7, 5, 7, 7, 3, 3, 6, 3, 3, 6, 3, 6, 6, 4, 4, 3, 4, 4, 3, 6, 6, 4, 3, 4, 3, 4, 3, 4, 4, 4], [3, 3, 5, 5, 7, 5, 5, 5, 5, 5, 3, 3, 3, 3, 3, 7, 7, 3, 5, 5, 6, 4, 3, 4, 4, 4, 3, 6, 4, 3, 6, 4, 4, 4, 6, 6, 4, 4, 3, 6, 4, 2, 4, 3, 3], [7, 7, 5, 5, 5, 5, 3, 3, 3, 5, 7, 5, 5, 3, 3, 5, 5, 5, 7, 5, 3, 4, 3, 6, 6, 4, 3, 4, 6, 6, 4, 4, 6, 4, 4, 3, 6, 4, 3, 6, 2, 4, 4, 3, 2], [3, 3, 3, 7, 7, 5, 5, 7, 7, 5, 7, 7, 7, 7, 3, 5, 7, 7, 7, 3, 6, 4, 6, 3, 3, 4, 6, 6, 3, 3, 4, 4, 4, 4, 6, 6, 3, 4, 4, 3, 2, 4, 4, 2, 3], [5, 5, 3, 5, 7, 3, 5, 7, 7, 5, 3, 7, 7, 3, 3, 7, 3, 3, 7, 3, 4, 4, 6, 6, 3, 6, 3, 6, 3, 4, 4, 6, 3, 4, 6, 3, 6, 6, 4, 4, 4, 2, 4, 4, 4], [3, 5, 3, 5, 3, 3, 7, 7, 3, 3, 5, 7, 5, 3, 7, 7, 3, 3, 3, 7, 3, 4, 6, 6, 4, 4, 6, 6, 3, 3, 3, 6, 3, 6, 3, 4, 3, 4, 6, 6, 4, 4, 4, 3, 2], [3, 7, 7, 5, 7, 3, 7, 5, 7, 7, 7, 5, 7, 5, 3, 7, 5, 5, 5, 5, 6, 3, 6, 6, 4, 6, 6, 4, 6, 6, 6, 3, 3, 3, 3, 3, 6, 6, 4, 4, 3, 4, 2, 2, 3], [7, 7, 3, 3, 5, 7, 3, 5, 5, 3, 3, 3, 5, 7, 3, 7, 7, 5, 7, 7, 6, 3, 4, 3, 3, 3, 4, 3, 3, 4, 6, 6, 6, 4, 4, 6, 6, 4, 3, 4, 2, 2, 3, 4, 3], [7, 3, 3, 3, 3, 3, 5, 7, 5, 3, 5, 5, 3, 7, 7, 7, 5, 3, 7, 5, 3, 6, 3, 6, 6, 3, 4, 3, 6, 6, 3, 4, 3, 4, 4, 3, 4, 6, 6, 4, 3, 3, 2, 3, 3], [3, 3, 7, 5, 7, 3, 5, 7, 3, 5, 3, 5, 5, 5, 5, 3, 5, 5, 3, 3, 3, 6, 6, 6, 6, 6, 4, 3, 4, 4, 6, 4, 3, 6, 3, 6, 3, 6, 4, 6, 2, 2, 2, 3, 3], [5, 3, 5, 5, 5, 5, 7, 7, 3, 7, 7, 7, 3, 3, 7, 3, 7, 5, 5, 3, 3, 3, 6, 4, 6, 4, 4, 3, 6, 4, 6, 6, 3, 6, 4, 4, 3, 4, 3, 4, 3, 3, 4, 4, 4], [5, 5, 7, 5, 5, 5, 5, 7, 3, 3, 7, 3, 7, 5, 3, 3, 5, 7, 3, 3, 4, 4, 4, 4, 3, 4, 6, 3, 4, 6, 6, 3, 6, 3, 4, 6, 6, 4, 4, 6, 2, 4, 2, 3, 3], [7, 5, 3, 3, 7, 7, 7, 7, 5, 7, 5, 3, 7, 3, 5, 7, 3, 5, 7, 5, 4, 4, 4, 6, 4, 3, 3, 6, 3, 6, 4, 6, 6, 6, 6, 6, 3, 4, 6, 4, 2, 2, 2, 4, 3], [3, 3, 3, 7, 7, 3, 3, 7, 7, 7, 7, 5, 5, 7, 7, 3, 7, 7, 5, 7, 3, 4, 3, 3, 6, 3, 6, 3, 6, 3, 6, 3, 4, 3, 3, 6, 4, 4, 3, 6, 4, 4, 2, 4, 3], [3, 7, 7, 7, 3, 5, 3, 7, 5, 3, 5, 5, 7, 3, 5, 5, 3, 7, 5, 5, 4, 3, 4, 4, 3, 4, 6, 4, 6, 4, 3, 3, 3, 3, 6, 3, 4, 6, 4, 3, 4, 2, 4, 4, 3], [7, 7, 3, 5, 5, 5, 7, 3, 3, 5, 3, 3, 5, 7, 7, 3, 3, 7, 3, 3, 3, 3, 4, 6, 4, 6, 6, 6, 4, 3, 3, 6, 6, 4, 3, 4, 6, 4, 4, 4, 2, 4, 2, 3, 2], [3, 7, 7, 3, 5, 7, 7, 5, 7, 3, 5, 7, 7, 3, 5, 5, 5, 3, 3, 5, 3, 4, 3, 4, 3, 4, 6, 3, 6, 3, 4, 3, 4, 4, 4, 6, 3, 3, 4, 3, 3, 3, 2, 4, 2], [3, 7, 5, 3, 3, 5, 5, 7, 5, 7, 3, 5, 3, 7, 7, 5, 5, 7, 3, 3, 3, 3, 4, 6, 3, 6, 4, 3, 6, 4, 6, 4, 6, 6, 6, 6, 3, 4, 3, 6, 4, 4, 2, 2, 3], [3, 7, 3, 3, 5, 7, 5, 7, 5, 7, 7, 7, 7, 3, 3, 3, 7, 3, 3, 3, 6, 4, 4, 3, 4, 6, 4, 6, 4, 6, 6, 4, 4, 3, 3, 3, 6, 4, 3, 3, 2, 4, 4, 4, 4], [5, 5, 7, 5, 7, 3, 7, 7, 7, 5, 7, 3, 5, 3, 5, 7, 3, 7, 7, 5, 4, 3, 6, 6, 6, 3, 6, 3, 6, 3, 3, 6, 4, 4, 3, 3, 3, 3, 3, 3, 3, 2, 3, 4, 2], [7, 3, 7, 3, 5, 5, 3, 3, 7, 3, 7, 7, 7, 5, 5, 5, 5, 7, 5, 5, 6, 4, 3, 3, 4, 3, 3, 4, 4, 3, 6, 6, 3, 4, 4, 6, 6, 4, 6, 3, 3, 4, 4, 4, 2], [5, 5, 3, 7, 3, 7, 7, 5, 3, 7, 7, 5, 5, 7, 7, 7, 5, 7, 5, 3, 4, 4, 3, 3, 4, 3, 4, 6, 3, 3, 3, 4, 6, 6, 4, 6, 6, 4, 3, 4, 4, 4, 4, 3, 4], [5, 5, 3, 5, 7, 3, 5, 5, 3, 5, 7, 3, 5, 3, 3, 5, 7, 7, 5, 5, 4, 3, 6, 4, 6, 6, 6, 4, 3, 6, 6, 6, 4, 4, 4, 4, 3, 4, 3, 6, 2, 4, 2, 4, 3], [5, 3, 5, 3, 5, 3, 3, 3, 7, 3, 5, 7, 5, 7, 3, 7, 7, 5, 5, 3, 6, 3, 6, 6, 3, 4, 3, 4, 6, 3, 4, 6, 3, 3, 4, 4, 6, 6, 6, 4, 3, 4, 4, 4, 3], [7, 5, 3, 7, 3, 5, 3, 5, 3, 5, 7, 3, 7, 7, 5, 7, 7, 3, 3, 3, 3, 3, 6, 4, 3, 4, 4, 3, 3, 3, 3, 4, 3, 3, 3, 3, 6, 6, 4, 4, 2, 4, 2, 4, 2], [5, 7, 7, 5, 5, 5, 7, 7, 7, 3, 5, 5, 5, 5, 3, 3, 5, 7, 3, 5, 3, 4, 4, 3, 3, 6, 6, 4, 4, 3, 4, 3, 3, 6, 4, 6, 4, 3, 3, 3, 2, 2, 4, 2, 2], [5, 5, 7, 3, 3, 3, 5, 3, 5, 5, 3, 3, 5, 7, 5, 3, 5, 3, 7, 7, 3, 3, 4, 4, 3, 3, 3, 3, 4, 6, 6, 4, 3, 4, 6, 4, 4, 4, 3, 3, 4, 4, 3, 2, 3], [3, 5, 5, 5, 7, 5, 7, 7, 5, 5, 5, 5, 5, 7, 3, 5, 7, 7, 3, 5, 6, 6, 4, 6, 3, 3, 3, 4, 4, 3, 6, 4, 4, 3, 3, 6, 6, 3, 3, 6, 3, 4, 3, 2, 2], [3, 3, 7, 5, 5, 5, 7, 7, 7, 5, 3, 3, 3, 3, 7, 5, 5, 5, 3, 3, 3, 3, 3, 6, 4, 4, 6, 4, 3, 6, 4, 3, 6, 4, 3, 6, 6, 3, 4, 6, 2, 4, 2, 3, 4], [5, 3, 3, 3, 7, 5, 7, 3, 5, 5, 3, 3, 3, 5, 3, 5, 7, 3, 5, 3, 6, 3, 4, 6, 3, 6, 4, 3, 4, 3, 4, 4, 6, 3, 4, 4, 3, 3, 6, 6, 2, 3, 3, 2, 2], [3, 7, 3, 5, 3, 7, 5, 3, 7, 7, 3, 5, 5, 3, 7, 5, 5, 7, 7, 7, 4, 6, 6, 3, 6, 6, 4, 4, 3, 6, 6, 6, 3, 3, 3, 4, 4, 6, 3, 3, 2, 4, 3, 4, 3], [3, 3, 3, 5, 3, 3, 3, 5, 7, 3, 7, 5, 3, 7, 5, 3, 7, 7, 3, 7, 6, 3, 3, 6, 3, 6, 6, 3, 6, 6, 4, 4, 4, 3, 6, 3, 6, 3, 3, 6, 2, 3, 4, 4, 4], [5, 7, 3, 7, 3, 7, 5, 5, 5, 7, 7, 3, 3, 3, 7, 3, 5, 5, 3, 5, 6, 4, 6, 6, 6, 4, 6, 3, 4, 4, 3, 3, 6, 6, 4, 3, 4, 3, 6, 4, 2, 2, 3, 4, 3], [3, 3, 3, 3, 5, 7, 5, 3, 3, 7, 3, 3, 5, 3, 3, 3, 3, 3, 3, 3, 6, 3, 6, 4, 4, 3, 6, 6, 3, 6, 6, 3, 6, 6, 6, 3, 4, 3, 3, 4, 4, 3, 2, 4, 2], [5, 5, 7, 3, 3, 3, 7, 5, 7, 7, 3, 7, 5, 3, 5, 7, 7, 5, 5, 5, 4, 4, 3, 4, 3, 3, 6, 6, 6, 3, 4, 6, 6, 3, 3, 4, 6, 6, 6, 3, 2, 3, 3, 2, 3], [3, 3, 3, 3, 5, 3, 5, 3, 7, 3, 5, 5, 7, 3, 5, 7, 3, 5, 5, 7, 4, 3, 6, 4, 3, 6, 6, 4, 4, 4, 3, 6, 6, 3, 3, 6, 3, 3, 6, 6, 3, 2, 2, 4, 3], [3, 7, 5, 5, 7, 5, 7, 3, 3, 5, 5, 3, 5, 3, 5, 3, 3, 7, 3, 3, 3, 4, 4, 6, 6, 6, 3, 6, 6, 4, 3, 6, 6, 6, 6, 4, 3, 3, 3, 6, 3, 4, 4, 4, 2], [5, 7, 3, 3, 7, 5, 7, 5, 3, 3, 5, 5, 7, 3, 3, 7, 7, 3, 5, 5, 6, 3, 6, 6, 6, 3, 6, 6, 4, 3, 6, 3, 3, 3, 3, 3, 4, 6, 3, 3, 2, 2, 4, 2, 3], [3, 7, 5, 5, 5, 3, 7, 5, 7, 5, 3, 3, 5, 3, 3, 7, 3, 7, 3, 5, 3, 4, 3, 6, 4, 3, 3, 4, 4, 6, 6, 3, 3, 3, 6, 6, 4, 4, 3, 6, 4, 4, 4, 3, 4], [5, 3, 5, 3, 5, 3, 7, 3, 3, 5, 5, 3, 5, 7, 5, 7, 7, 5, 3, 7, 4, 4, 6, 3, 3, 6, 3, 3, 3, 3, 4, 4, 3, 6, 4, 3, 6, 3, 3, 3, 4, 3, 3, 2, 2], [7, 7, 5, 3, 7, 7, 3, 7, 5, 5, 7, 3, 3, 5, 7, 7, 5, 5, 5, 3, 4, 3, 4, 6, 3, 4, 6, 3, 3, 6, 3, 6, 3, 4, 3, 3, 6, 4, 3, 3, 3, 2, 4, 2, 2], [3, 7, 5, 3, 7, 7, 7, 5, 3, 3, 7, 7, 7, 5, 7, 5, 5, 5, 7, 5, 6, 3, 6, 4, 3, 3, 4, 6, 3, 4, 3, 6, 3, 4, 3, 3, 4, 3, 4, 4, 3, 3, 4, 4, 4], [5, 7, 7, 7, 7, 5, 5, 7, 7, 5, 7, 5, 5, 7, 7, 5, 7, 3, 3, 3, 6, 3, 6, 3, 4, 4, 4, 4, 6, 6, 4, 3, 4, 3, 6, 3, 3, 3, 4, 4, 4, 4, 4, 4, 3], [5, 5, 3, 3, 3, 7, 3, 3, 3, 7, 3, 5, 7, 5, 5, 7, 7, 3, 5, 7, 6, 3, 4, 3, 3, 4, 3, 3, 3, 3, 4, 3, 3, 6, 4, 6, 6, 4, 6, 3, 2, 3, 4, 3, 3], [3, 5, 3, 5, 3, 3, 5, 7, 3, 7, 3, 3, 3, 5, 3, 7, 7, 7, 5, 7, 3, 4, 3, 6, 3, 4, 3, 4, 4, 4, 3, 4, 3, 4, 6, 4, 4, 3, 3, 4, 3, 4, 3, 4, 2], [3, 5, 3, 3, 5, 7, 3, 5, 3, 7, 7, 3, 7, 5, 7, 3, 7, 5, 5, 3, 4, 4, 4, 4, 3, 4, 4, 4, 3, 6, 6, 6, 4, 6, 3, 4, 6, 6, 6, 4, 2, 2, 4, 3, 4]], 'f_emb': [tensor([-0., -0., -0.,  ..., -0., -0., -0.]), tensor([-0., -0., -0.,  ..., -0., -0., -0.]), tensor([1226.8495,   -0.0000,   -0.0000,  ...,   -0.0000,   -0.0000,\n",
      "          -0.0000]), tensor([-0., -0., -0.,  ..., -0., -0., -0.]), tensor([188.3607,  -0.0000,  -0.0000,  ...,  -0.0000,  -0.0000, 213.2732]), tensor([-0., -0., -0.,  ..., -0., -0., -0.]), tensor([-0., -0., -0.,  ..., -0., -0., -0.]), tensor([-0.0000, -0.0000, -0.0000,  ..., -0.0000, -0.0000, 9.9611]), tensor([38.6843, -0.0000, -0.0000,  ..., -0.0000, -0.0000, -0.0000]), tensor([ 0.5262, -0.3664,  0.4536,  ..., -0.3597, -0.2121, -0.3281]), tensor([-0., -0., -0.,  ..., -0., -0., -0.]), tensor([-0.0000, -0.0000, -0.0000,  ..., 30.1783, -0.0000,  3.6916]), tensor([-0., -0., -0.,  ..., -0., -0., -0.]), tensor([-0., -0., -0.,  ..., -0., -0., -0.]), tensor([18.3999, -0.0000, -0.0000,  ..., -0.0000, -0.0000, 45.3672]), tensor([ 0.2349,  0.1743,  0.1660,  ...,  0.3616,  0.0957, -0.3534]), tensor([-0.2793, -0.3249, -0.3683,  ..., -0.0000, -0.0000, -0.3627]), tensor([ 0.0759, -0.3346, -0.2591,  ...,  0.4824, -0.2551, -0.1757]), tensor([ 0.4264, -0.1865, -0.1025,  ..., -0.1637,  0.7777, -0.3373]), tensor([ 0.4347, -0.2336, -0.2793,  ..., -0.3347, -0.3469, -0.1162]), tensor([ 0.0104,  0.4655, -0.3177,  ..., -0.1076,  0.8267, -0.3667]), tensor([ 0.0873,  0.1475, -0.3670,  ..., -0.1698,  0.0327, -0.3572]), tensor([322.7029,  -0.0000,  83.4842,  ...,  -0.0000,  -0.0000,  -0.0000]), tensor([-0.3365, -0.0309, -0.3139,  ...,  0.1455, -0.3260, -0.3622]), tensor([-0.0000, -0.0000, -0.0000,  ..., -0.0000, -0.0000, 3.1642]), tensor([    -0.0000,     -0.0000, 159417.2812,  ...,     -0.0000,\n",
      "            -0.0000, 179515.1562]), tensor([-0.0014, -0.3527, -0.0000,  ..., -0.0000, -0.0000, -0.0000]), tensor([6770305.5000,      -0.0000,      -0.0000,  ...,      -0.0000,\n",
      "             -0.0000,      -0.0000]), tensor([1609.9169,   -0.0000,   -0.0000,  ...,   -0.0000,   -0.0000,\n",
      "          -0.0000]), tensor([-0., -0., -0.,  ..., -0., -0., -0.]), tensor([-0.0067, -0.3482, -0.3706,  ..., -0.3683, -0.0611,  0.0504]), tensor([ 1.4714, -0.0000, -0.0945,  ..., -0.2832, -0.0000, -0.3679]), tensor([ 1.7539, 21.7252, -0.0000,  ..., -0.0000, -0.0000, 13.5089]), tensor([-0.3179, -0.3455, -0.3743,  ..., -0.2527,  0.1497, -0.0043]), tensor([-0.3241, -0.2744, -0.1231,  ..., -0.1582, -0.2237, -0.0000]), tensor([-0.1600,  3.9948, -0.0000,  ..., -0.0000, -0.0000,  8.6842]), tensor([-0.1209,  0.0394, -0.3112,  ..., -0.2695, -0.1538, -0.1348]), tensor([255.8073,  -0.0000, 140.1278,  ...,  -0.0000,  -0.0000,  -0.0000]), tensor([-0., -0., -0.,  ..., -0., -0., -0.]), tensor([-0.0667, -0.2547, -0.3669,  ...,  0.1411, -0.0529, -0.0764]), tensor([ 0.0093, -0.3176, -0.3739,  ..., -0.1065,  0.4898, -0.3551]), tensor([-0.3701, -0.1757, -0.3706,  ..., -0.3319, -0.2591,  0.1290]), tensor([-0.3745, -0.1032, -0.1967,  ..., -0.0000, -0.0000, -0.0593]), tensor([-0.3677, -0.2142, -0.0000,  ..., -0.0000, -0.0000, -0.3277]), tensor([-0., -0., -0.,  ..., -0., -0., -0.]), tensor([3.1169, -0.0000, -0.0000,  ..., -0.0000, -0.0000, 8.0993]), tensor([-0.2472, -0.3239, -0.2829,  ..., -0.3483, -0.2882, -0.2494]), tensor([-0.3634, -0.3321, -0.1018,  ..., -0.3687, -0.3750, -0.2305]), tensor([-0.1774, -0.3653, -0.2880,  ..., -0.3545, -0.3617, -0.3650]), tensor([8691.3945,   -0.0000,   -0.0000,  ...,   -0.0000,   -0.0000,\n"
     ]
    },
    {
     "name": "stderr",
     "output_type": "stream",
     "text": [
      "Using cache found in /root/.cache/torch/hub/mit-han-lab_once-for-all_master\n"
     ]
    },
    {
     "name": "stdout",
     "output_type": "stream",
     "text": [
      "        8597.5059])], 'acc': [99.51923076923077, 99.03846153846153, 99.51923076923077, 99.51923076923077, 99.51923076923077, 99.51923076923077, 98.38709677419355, 96.7741935483871, 98.38709677419355, 98.38709677419355, 8.064516129032258, 96.7741935483871, 77.08333333333333, 76.4423076923077, 78.68589743589743, 77.40384615384616, 77.24358974358974, 78.36538461538461, 94.23076923076923, 75.64102564102564, 90.7051282051282, 94.23076923076923, 91.34615384615384, 94.23076923076923, 99.52978056426332, 99.3730407523511, 99.68652037617555, 99.68652037617555, 100.0, 99.3730407523511, 84.88700564971751, 87.99435028248588, 86.7231638418079, 85.73446327683615, 87.99435028248588, 86.44067796610169, 96.6740576496674, 97.11751662971176, 97.00665188470066, 97.22838137472284, 96.6740576496674, 95.56541019955654, 94.0, 94.6, 94.0, 95.0, 95.2, 95.0, 97.46835443037975, 95.78059071729957], 'n_params': [6228442, 5625114, 6570290, 5347354, 5825218, 4821626, 4711646, 4554646, 6688342, 4317614, 5203934, 5550702, 5717244, 5151700, 5773028, 5059684, 6364428, 4930308, 5608818, 4493962, 4318938, 4537954, 5514050, 3861938, 5155304, 6005320, 4798208, 6420784, 4792312, 3845304, 4249220, 3881348, 5982340, 3517428, 5327428, 6367692, 5599490, 4745802, 5815994, 5362738, 5007786, 4598522, 5921562, 4126858, 4121234, 5318114, 5013634, 5773418, 4451268, 7041756]}\n",
      "\n",
      "=====> Generating 3th network  <=====\n",
      "\n",
      "\n",
      "=====>Generating sub_net<=====\n",
      "\n",
      "\n",
      "=====> Training started <=====\n",
      "\n",
      "Starting Training for:plant-seedlings-classification_0_12 with model topology:[3, 3, 7, 7, 5, 5, 3, 3, 3, 5, 5, 7, 7, 5, 7, 3, 5, 3, 3, 5, 4, 6, 6, 3, 6, 3, 3, 4, 6, 3, 4, 6, 4, 3, 6, 4, 6, 4, 4, 3, 4, 3, 2, 2, 2]\n"
     ]
    },
    {
     "name": "stderr",
     "output_type": "stream",
     "text": [
      "119it [00:17,  6.64it/s]\n",
      "15it [00:01, 11.60it/s]\n"
     ]
    },
    {
     "name": "stdout",
     "output_type": "stream",
     "text": [
      "\n",
      "Epoch: 1/15, Train Loss: 53.60107286 , Val Loss: 66.72235457, Train Accuracy:47.81118143,  Val Accuracy: 26.37130802, Epoch Time: 19.49079251\n"
     ]
    },
    {
     "name": "stderr",
     "output_type": "stream",
     "text": [
      "119it [00:17,  6.61it/s]\n",
      "15it [00:01, 12.46it/s]\n"
     ]
    },
    {
     "name": "stdout",
     "output_type": "stream",
     "text": [
      "\n",
      "Epoch: 2/15, Train Loss: 24.03064509 , Val Loss: 15.78466334, Train Accuracy:76.05485232,  Val Accuracy: 80.59071730, Epoch Time: 19.42365503\n"
     ]
    },
    {
     "name": "stderr",
     "output_type": "stream",
     "text": [
      "119it [00:17,  6.64it/s]\n",
      "15it [00:01, 11.38it/s]\n"
     ]
    },
    {
     "name": "stdout",
     "output_type": "stream",
     "text": [
      "\n",
      "Epoch: 3/15, Train Loss: 11.68281644 , Val Loss: 8.08267664, Train Accuracy:87.57911392,  Val Accuracy: 91.98312236, Epoch Time: 19.54107141\n"
     ]
    },
    {
     "name": "stderr",
     "output_type": "stream",
     "text": [
      "119it [00:17,  6.63it/s]\n",
      "15it [00:01, 12.50it/s]\n"
     ]
    },
    {
     "name": "stdout",
     "output_type": "stream",
     "text": [
      "\n",
      "Epoch: 4/15, Train Loss: 7.52247055 , Val Loss: 6.20559502, Train Accuracy:91.53481013,  Val Accuracy: 93.45991561, Epoch Time: 19.37045074\n"
     ]
    },
    {
     "name": "stderr",
     "output_type": "stream",
     "text": [
      "119it [00:17,  6.61it/s]\n",
      "15it [00:01,  9.06it/s]\n"
     ]
    },
    {
     "name": "stdout",
     "output_type": "stream",
     "text": [
      "\n",
      "Epoch: 5/15, Train Loss: 5.67369202 , Val Loss: 6.04161176, Train Accuracy:94.14556962,  Val Accuracy: 92.61603376, Epoch Time: 19.90972114\n"
     ]
    },
    {
     "name": "stderr",
     "output_type": "stream",
     "text": [
      "119it [00:17,  6.63it/s]\n",
      "15it [00:01, 12.40it/s]\n"
     ]
    },
    {
     "name": "stdout",
     "output_type": "stream",
     "text": [
      "\n",
      "Epoch: 6/15, Train Loss: 4.27764465 , Val Loss: 5.09351322, Train Accuracy:95.09493671,  Val Accuracy: 95.35864979, Epoch Time: 19.42843771\n"
     ]
    },
    {
     "name": "stderr",
     "output_type": "stream",
     "text": [
      "119it [00:17,  6.64it/s]\n",
      "15it [00:01, 11.60it/s]\n"
     ]
    },
    {
     "name": "stdout",
     "output_type": "stream",
     "text": [
      "\n",
      "Epoch: 7/15, Train Loss: 3.69933694 , Val Loss: 4.56240775, Train Accuracy:95.93881857,  Val Accuracy: 95.56962025, Epoch Time: 19.47753191\n"
     ]
    },
    {
     "name": "stderr",
     "output_type": "stream",
     "text": [
      "119it [00:18,  6.60it/s]\n",
      "15it [00:01, 12.53it/s]\n"
     ]
    },
    {
     "name": "stdout",
     "output_type": "stream",
     "text": [
      "\n",
      "Epoch: 8/15, Train Loss: 2.83318638 , Val Loss: 4.59037457, Train Accuracy:97.31012658,  Val Accuracy: 95.35864979, Epoch Time: 19.49182296\n"
     ]
    },
    {
     "name": "stderr",
     "output_type": "stream",
     "text": [
      "119it [00:17,  6.65it/s]\n",
      "15it [00:01, 11.48it/s]\n"
     ]
    },
    {
     "name": "stdout",
     "output_type": "stream",
     "text": [
      "\n",
      "Epoch: 9/15, Train Loss: 2.34988083 , Val Loss: 5.68964840, Train Accuracy:97.81118143,  Val Accuracy: 94.51476793, Epoch Time: 19.46213436\n"
     ]
    },
    {
     "name": "stderr",
     "output_type": "stream",
     "text": [
      "119it [00:18,  6.61it/s]\n",
      "15it [00:01, 11.03it/s]\n"
     ]
    },
    {
     "name": "stdout",
     "output_type": "stream",
     "text": [
      "\n",
      "Epoch: 10/15, Train Loss: 1.37143634 , Val Loss: 4.26036985, Train Accuracy:98.97151899,  Val Accuracy: 95.56962025, Epoch Time: 19.61428118\n"
     ]
    },
    {
     "name": "stderr",
     "output_type": "stream",
     "text": [
      "119it [00:17,  6.64it/s]\n",
      "15it [00:01, 11.37it/s]\n"
     ]
    },
    {
     "name": "stdout",
     "output_type": "stream",
     "text": [
      "\n",
      "Epoch: 11/15, Train Loss: 1.22475327 , Val Loss: 4.25376370, Train Accuracy:99.07700422,  Val Accuracy: 96.41350211, Epoch Time: 19.47192073\n"
     ]
    },
    {
     "name": "stderr",
     "output_type": "stream",
     "text": [
      "119it [00:18,  6.57it/s]\n",
      "15it [00:01, 12.35it/s]\n"
     ]
    },
    {
     "name": "stdout",
     "output_type": "stream",
     "text": [
      "\n",
      "Epoch: 12/15, Train Loss: 0.90959172 , Val Loss: 4.81802118, Train Accuracy:99.28797468,  Val Accuracy: 95.35864979, Epoch Time: 19.57318974\n"
     ]
    },
    {
     "name": "stderr",
     "output_type": "stream",
     "text": [
      "119it [00:17,  6.62it/s]\n",
      "15it [00:01, 11.19it/s]\n"
     ]
    },
    {
     "name": "stdout",
     "output_type": "stream",
     "text": [
      "\n",
      "Epoch: 13/15, Train Loss: 0.61204292 , Val Loss: 4.28337253, Train Accuracy:99.76265823,  Val Accuracy: 95.99156118, Epoch Time: 19.55058384\n"
     ]
    },
    {
     "name": "stderr",
     "output_type": "stream",
     "text": [
      "119it [00:18,  6.60it/s]\n",
      "15it [00:01, 12.20it/s]\n"
     ]
    },
    {
     "name": "stdout",
     "output_type": "stream",
     "text": [
      "\n",
      "Epoch: 14/15, Train Loss: 0.60332323 , Val Loss: 4.86135813, Train Accuracy:99.55168776,  Val Accuracy: 95.14767932, Epoch Time: 19.47312641\n"
     ]
    },
    {
     "name": "stderr",
     "output_type": "stream",
     "text": [
      "119it [00:17,  6.66it/s]\n",
      "15it [00:01, 11.71it/s]\n"
     ]
    },
    {
     "name": "stdout",
     "output_type": "stream",
     "text": [
      "\n",
      "Epoch: 15/15, Train Loss: 0.54826662 , Val Loss: 4.16347058, Train Accuracy:99.63080169,  Val Accuracy: 95.78059072, Epoch Time: 19.44693255\n",
      "\n",
      "=====>Generating f_emb<=====\n",
      "\n",
      "torch.Size([1536])\n",
      "{'dataset': ['sldc_0_10', 'sldc_0_10', 'sldc_0_10', 'sldc_0_10', 'sldc_0_10', 'sldc_0_10', 'corales_0_14', 'corales_0_14', 'corales_0_14', 'corales_0_14', 'corales_0_14', 'corales_0_14', '6000-store-items-images-classified-by-color_imoore_0_12', '6000-store-items-images-classified-by-color_imoore_0_12', '6000-store-items-images-classified-by-color_imoore_0_12', '6000-store-items-images-classified-by-color_imoore_0_12', '6000-store-items-images-classified-by-color_imoore_0_12', '6000-store-items-images-classified-by-color_imoore_0_12', 'fcis-sc-deeplearning-competition_0_10', 'fcis-sc-deeplearning-competition_0_10', 'fcis-sc-deeplearning-competition_0_10', 'fcis-sc-deeplearning-competition_0_10', 'fcis-sc-deeplearning-competition_0_10', 'fcis-sc-deeplearning-competition_0_10', 'lego-brick-images_joosthazelzet_0_16', 'lego-brick-images_joosthazelzet_0_16', 'lego-brick-images_joosthazelzet_0_16', 'lego-brick-images_joosthazelzet_0_16', 'lego-brick-images_joosthazelzet_0_16', 'lego-brick-images_joosthazelzet_0_16', 'oregon-wildlife_virtualdvid_0_20', 'oregon-wildlife_virtualdvid_0_20', 'oregon-wildlife_virtualdvid_0_20', 'oregon-wildlife_virtualdvid_0_20', 'oregon-wildlife_virtualdvid_0_20', 'oregon-wildlife_virtualdvid_0_20', 'perritos_0_10', 'perritos_0_10', 'perritos_0_10', 'perritos_0_10', 'perritos_0_10', 'perritos_0_10', 'khu-deep-learning-competition_0_10', 'khu-deep-learning-competition_0_10', 'khu-deep-learning-competition_0_10', 'khu-deep-learning-competition_0_10', 'khu-deep-learning-competition_0_10', 'khu-deep-learning-competition_0_10', 'plant-seedlings-classification_0_12', 'plant-seedlings-classification_0_12', 'plant-seedlings-classification_0_12'], 'topol': [[3, 5, 5, 5, 7, 5, 5, 7, 3, 5, 7, 7, 7, 5, 7, 5, 3, 3, 7, 3, 4, 3, 6, 3, 6, 6, 4, 4, 6, 4, 3, 6, 6, 3, 4, 6, 3, 4, 6, 3, 3, 4, 2, 4, 4], [3, 7, 7, 7, 5, 7, 5, 3, 7, 5, 3, 3, 5, 5, 3, 7, 7, 5, 3, 5, 3, 4, 6, 3, 6, 4, 6, 4, 4, 3, 3, 3, 3, 6, 6, 3, 3, 4, 6, 4, 4, 3, 2, 2, 4], [3, 7, 5, 5, 3, 7, 7, 5, 5, 5, 5, 5, 5, 7, 7, 7, 7, 7, 5, 7, 6, 6, 6, 3, 6, 3, 4, 4, 6, 6, 6, 4, 3, 6, 4, 6, 6, 4, 6, 4, 2, 3, 3, 3, 4], [7, 5, 3, 3, 5, 3, 5, 5, 5, 5, 3, 7, 7, 5, 7, 3, 3, 5, 3, 5, 3, 4, 6, 6, 6, 3, 6, 3, 6, 3, 6, 4, 4, 6, 6, 4, 6, 6, 6, 4, 2, 2, 2, 3, 2], [3, 5, 5, 7, 5, 5, 7, 3, 7, 5, 5, 5, 3, 5, 3, 7, 5, 7, 7, 3, 3, 6, 3, 3, 6, 3, 6, 6, 4, 4, 3, 4, 4, 3, 6, 6, 4, 3, 4, 3, 4, 3, 4, 4, 4], [3, 3, 5, 5, 7, 5, 5, 5, 5, 5, 3, 3, 3, 3, 3, 7, 7, 3, 5, 5, 6, 4, 3, 4, 4, 4, 3, 6, 4, 3, 6, 4, 4, 4, 6, 6, 4, 4, 3, 6, 4, 2, 4, 3, 3], [7, 7, 5, 5, 5, 5, 3, 3, 3, 5, 7, 5, 5, 3, 3, 5, 5, 5, 7, 5, 3, 4, 3, 6, 6, 4, 3, 4, 6, 6, 4, 4, 6, 4, 4, 3, 6, 4, 3, 6, 2, 4, 4, 3, 2], [3, 3, 3, 7, 7, 5, 5, 7, 7, 5, 7, 7, 7, 7, 3, 5, 7, 7, 7, 3, 6, 4, 6, 3, 3, 4, 6, 6, 3, 3, 4, 4, 4, 4, 6, 6, 3, 4, 4, 3, 2, 4, 4, 2, 3], [5, 5, 3, 5, 7, 3, 5, 7, 7, 5, 3, 7, 7, 3, 3, 7, 3, 3, 7, 3, 4, 4, 6, 6, 3, 6, 3, 6, 3, 4, 4, 6, 3, 4, 6, 3, 6, 6, 4, 4, 4, 2, 4, 4, 4], [3, 5, 3, 5, 3, 3, 7, 7, 3, 3, 5, 7, 5, 3, 7, 7, 3, 3, 3, 7, 3, 4, 6, 6, 4, 4, 6, 6, 3, 3, 3, 6, 3, 6, 3, 4, 3, 4, 6, 6, 4, 4, 4, 3, 2], [3, 7, 7, 5, 7, 3, 7, 5, 7, 7, 7, 5, 7, 5, 3, 7, 5, 5, 5, 5, 6, 3, 6, 6, 4, 6, 6, 4, 6, 6, 6, 3, 3, 3, 3, 3, 6, 6, 4, 4, 3, 4, 2, 2, 3], [7, 7, 3, 3, 5, 7, 3, 5, 5, 3, 3, 3, 5, 7, 3, 7, 7, 5, 7, 7, 6, 3, 4, 3, 3, 3, 4, 3, 3, 4, 6, 6, 6, 4, 4, 6, 6, 4, 3, 4, 2, 2, 3, 4, 3], [7, 3, 3, 3, 3, 3, 5, 7, 5, 3, 5, 5, 3, 7, 7, 7, 5, 3, 7, 5, 3, 6, 3, 6, 6, 3, 4, 3, 6, 6, 3, 4, 3, 4, 4, 3, 4, 6, 6, 4, 3, 3, 2, 3, 3], [3, 3, 7, 5, 7, 3, 5, 7, 3, 5, 3, 5, 5, 5, 5, 3, 5, 5, 3, 3, 3, 6, 6, 6, 6, 6, 4, 3, 4, 4, 6, 4, 3, 6, 3, 6, 3, 6, 4, 6, 2, 2, 2, 3, 3], [5, 3, 5, 5, 5, 5, 7, 7, 3, 7, 7, 7, 3, 3, 7, 3, 7, 5, 5, 3, 3, 3, 6, 4, 6, 4, 4, 3, 6, 4, 6, 6, 3, 6, 4, 4, 3, 4, 3, 4, 3, 3, 4, 4, 4], [5, 5, 7, 5, 5, 5, 5, 7, 3, 3, 7, 3, 7, 5, 3, 3, 5, 7, 3, 3, 4, 4, 4, 4, 3, 4, 6, 3, 4, 6, 6, 3, 6, 3, 4, 6, 6, 4, 4, 6, 2, 4, 2, 3, 3], [7, 5, 3, 3, 7, 7, 7, 7, 5, 7, 5, 3, 7, 3, 5, 7, 3, 5, 7, 5, 4, 4, 4, 6, 4, 3, 3, 6, 3, 6, 4, 6, 6, 6, 6, 6, 3, 4, 6, 4, 2, 2, 2, 4, 3], [3, 3, 3, 7, 7, 3, 3, 7, 7, 7, 7, 5, 5, 7, 7, 3, 7, 7, 5, 7, 3, 4, 3, 3, 6, 3, 6, 3, 6, 3, 6, 3, 4, 3, 3, 6, 4, 4, 3, 6, 4, 4, 2, 4, 3], [3, 7, 7, 7, 3, 5, 3, 7, 5, 3, 5, 5, 7, 3, 5, 5, 3, 7, 5, 5, 4, 3, 4, 4, 3, 4, 6, 4, 6, 4, 3, 3, 3, 3, 6, 3, 4, 6, 4, 3, 4, 2, 4, 4, 3], [7, 7, 3, 5, 5, 5, 7, 3, 3, 5, 3, 3, 5, 7, 7, 3, 3, 7, 3, 3, 3, 3, 4, 6, 4, 6, 6, 6, 4, 3, 3, 6, 6, 4, 3, 4, 6, 4, 4, 4, 2, 4, 2, 3, 2], [3, 7, 7, 3, 5, 7, 7, 5, 7, 3, 5, 7, 7, 3, 5, 5, 5, 3, 3, 5, 3, 4, 3, 4, 3, 4, 6, 3, 6, 3, 4, 3, 4, 4, 4, 6, 3, 3, 4, 3, 3, 3, 2, 4, 2], [3, 7, 5, 3, 3, 5, 5, 7, 5, 7, 3, 5, 3, 7, 7, 5, 5, 7, 3, 3, 3, 3, 4, 6, 3, 6, 4, 3, 6, 4, 6, 4, 6, 6, 6, 6, 3, 4, 3, 6, 4, 4, 2, 2, 3], [3, 7, 3, 3, 5, 7, 5, 7, 5, 7, 7, 7, 7, 3, 3, 3, 7, 3, 3, 3, 6, 4, 4, 3, 4, 6, 4, 6, 4, 6, 6, 4, 4, 3, 3, 3, 6, 4, 3, 3, 2, 4, 4, 4, 4], [5, 5, 7, 5, 7, 3, 7, 7, 7, 5, 7, 3, 5, 3, 5, 7, 3, 7, 7, 5, 4, 3, 6, 6, 6, 3, 6, 3, 6, 3, 3, 6, 4, 4, 3, 3, 3, 3, 3, 3, 3, 2, 3, 4, 2], [7, 3, 7, 3, 5, 5, 3, 3, 7, 3, 7, 7, 7, 5, 5, 5, 5, 7, 5, 5, 6, 4, 3, 3, 4, 3, 3, 4, 4, 3, 6, 6, 3, 4, 4, 6, 6, 4, 6, 3, 3, 4, 4, 4, 2], [5, 5, 3, 7, 3, 7, 7, 5, 3, 7, 7, 5, 5, 7, 7, 7, 5, 7, 5, 3, 4, 4, 3, 3, 4, 3, 4, 6, 3, 3, 3, 4, 6, 6, 4, 6, 6, 4, 3, 4, 4, 4, 4, 3, 4], [5, 5, 3, 5, 7, 3, 5, 5, 3, 5, 7, 3, 5, 3, 3, 5, 7, 7, 5, 5, 4, 3, 6, 4, 6, 6, 6, 4, 3, 6, 6, 6, 4, 4, 4, 4, 3, 4, 3, 6, 2, 4, 2, 4, 3], [5, 3, 5, 3, 5, 3, 3, 3, 7, 3, 5, 7, 5, 7, 3, 7, 7, 5, 5, 3, 6, 3, 6, 6, 3, 4, 3, 4, 6, 3, 4, 6, 3, 3, 4, 4, 6, 6, 6, 4, 3, 4, 4, 4, 3], [7, 5, 3, 7, 3, 5, 3, 5, 3, 5, 7, 3, 7, 7, 5, 7, 7, 3, 3, 3, 3, 3, 6, 4, 3, 4, 4, 3, 3, 3, 3, 4, 3, 3, 3, 3, 6, 6, 4, 4, 2, 4, 2, 4, 2], [5, 7, 7, 5, 5, 5, 7, 7, 7, 3, 5, 5, 5, 5, 3, 3, 5, 7, 3, 5, 3, 4, 4, 3, 3, 6, 6, 4, 4, 3, 4, 3, 3, 6, 4, 6, 4, 3, 3, 3, 2, 2, 4, 2, 2], [5, 5, 7, 3, 3, 3, 5, 3, 5, 5, 3, 3, 5, 7, 5, 3, 5, 3, 7, 7, 3, 3, 4, 4, 3, 3, 3, 3, 4, 6, 6, 4, 3, 4, 6, 4, 4, 4, 3, 3, 4, 4, 3, 2, 3], [3, 5, 5, 5, 7, 5, 7, 7, 5, 5, 5, 5, 5, 7, 3, 5, 7, 7, 3, 5, 6, 6, 4, 6, 3, 3, 3, 4, 4, 3, 6, 4, 4, 3, 3, 6, 6, 3, 3, 6, 3, 4, 3, 2, 2], [3, 3, 7, 5, 5, 5, 7, 7, 7, 5, 3, 3, 3, 3, 7, 5, 5, 5, 3, 3, 3, 3, 3, 6, 4, 4, 6, 4, 3, 6, 4, 3, 6, 4, 3, 6, 6, 3, 4, 6, 2, 4, 2, 3, 4], [5, 3, 3, 3, 7, 5, 7, 3, 5, 5, 3, 3, 3, 5, 3, 5, 7, 3, 5, 3, 6, 3, 4, 6, 3, 6, 4, 3, 4, 3, 4, 4, 6, 3, 4, 4, 3, 3, 6, 6, 2, 3, 3, 2, 2], [3, 7, 3, 5, 3, 7, 5, 3, 7, 7, 3, 5, 5, 3, 7, 5, 5, 7, 7, 7, 4, 6, 6, 3, 6, 6, 4, 4, 3, 6, 6, 6, 3, 3, 3, 4, 4, 6, 3, 3, 2, 4, 3, 4, 3], [3, 3, 3, 5, 3, 3, 3, 5, 7, 3, 7, 5, 3, 7, 5, 3, 7, 7, 3, 7, 6, 3, 3, 6, 3, 6, 6, 3, 6, 6, 4, 4, 4, 3, 6, 3, 6, 3, 3, 6, 2, 3, 4, 4, 4], [5, 7, 3, 7, 3, 7, 5, 5, 5, 7, 7, 3, 3, 3, 7, 3, 5, 5, 3, 5, 6, 4, 6, 6, 6, 4, 6, 3, 4, 4, 3, 3, 6, 6, 4, 3, 4, 3, 6, 4, 2, 2, 3, 4, 3], [3, 3, 3, 3, 5, 7, 5, 3, 3, 7, 3, 3, 5, 3, 3, 3, 3, 3, 3, 3, 6, 3, 6, 4, 4, 3, 6, 6, 3, 6, 6, 3, 6, 6, 6, 3, 4, 3, 3, 4, 4, 3, 2, 4, 2], [5, 5, 7, 3, 3, 3, 7, 5, 7, 7, 3, 7, 5, 3, 5, 7, 7, 5, 5, 5, 4, 4, 3, 4, 3, 3, 6, 6, 6, 3, 4, 6, 6, 3, 3, 4, 6, 6, 6, 3, 2, 3, 3, 2, 3], [3, 3, 3, 3, 5, 3, 5, 3, 7, 3, 5, 5, 7, 3, 5, 7, 3, 5, 5, 7, 4, 3, 6, 4, 3, 6, 6, 4, 4, 4, 3, 6, 6, 3, 3, 6, 3, 3, 6, 6, 3, 2, 2, 4, 3], [3, 7, 5, 5, 7, 5, 7, 3, 3, 5, 5, 3, 5, 3, 5, 3, 3, 7, 3, 3, 3, 4, 4, 6, 6, 6, 3, 6, 6, 4, 3, 6, 6, 6, 6, 4, 3, 3, 3, 6, 3, 4, 4, 4, 2], [5, 7, 3, 3, 7, 5, 7, 5, 3, 3, 5, 5, 7, 3, 3, 7, 7, 3, 5, 5, 6, 3, 6, 6, 6, 3, 6, 6, 4, 3, 6, 3, 3, 3, 3, 3, 4, 6, 3, 3, 2, 2, 4, 2, 3], [3, 7, 5, 5, 5, 3, 7, 5, 7, 5, 3, 3, 5, 3, 3, 7, 3, 7, 3, 5, 3, 4, 3, 6, 4, 3, 3, 4, 4, 6, 6, 3, 3, 3, 6, 6, 4, 4, 3, 6, 4, 4, 4, 3, 4], [5, 3, 5, 3, 5, 3, 7, 3, 3, 5, 5, 3, 5, 7, 5, 7, 7, 5, 3, 7, 4, 4, 6, 3, 3, 6, 3, 3, 3, 3, 4, 4, 3, 6, 4, 3, 6, 3, 3, 3, 4, 3, 3, 2, 2], [7, 7, 5, 3, 7, 7, 3, 7, 5, 5, 7, 3, 3, 5, 7, 7, 5, 5, 5, 3, 4, 3, 4, 6, 3, 4, 6, 3, 3, 6, 3, 6, 3, 4, 3, 3, 6, 4, 3, 3, 3, 2, 4, 2, 2], [3, 7, 5, 3, 7, 7, 7, 5, 3, 3, 7, 7, 7, 5, 7, 5, 5, 5, 7, 5, 6, 3, 6, 4, 3, 3, 4, 6, 3, 4, 3, 6, 3, 4, 3, 3, 4, 3, 4, 4, 3, 3, 4, 4, 4], [5, 7, 7, 7, 7, 5, 5, 7, 7, 5, 7, 5, 5, 7, 7, 5, 7, 3, 3, 3, 6, 3, 6, 3, 4, 4, 4, 4, 6, 6, 4, 3, 4, 3, 6, 3, 3, 3, 4, 4, 4, 4, 4, 4, 3], [5, 5, 3, 3, 3, 7, 3, 3, 3, 7, 3, 5, 7, 5, 5, 7, 7, 3, 5, 7, 6, 3, 4, 3, 3, 4, 3, 3, 3, 3, 4, 3, 3, 6, 4, 6, 6, 4, 6, 3, 2, 3, 4, 3, 3], [3, 5, 3, 5, 3, 3, 5, 7, 3, 7, 3, 3, 3, 5, 3, 7, 7, 7, 5, 7, 3, 4, 3, 6, 3, 4, 3, 4, 4, 4, 3, 4, 3, 4, 6, 4, 4, 3, 3, 4, 3, 4, 3, 4, 2], [3, 5, 3, 3, 5, 7, 3, 5, 3, 7, 7, 3, 7, 5, 7, 3, 7, 5, 5, 3, 4, 4, 4, 4, 3, 4, 4, 4, 3, 6, 6, 6, 4, 6, 3, 4, 6, 6, 6, 4, 2, 2, 4, 3, 4], [3, 3, 7, 7, 5, 5, 3, 3, 3, 5, 5, 7, 7, 5, 7, 3, 5, 3, 3, 5, 4, 6, 6, 3, 6, 3, 3, 4, 6, 3, 4, 6, 4, 3, 6, 4, 6, 4, 4, 3, 4, 3, 2, 2, 2]], 'f_emb': [tensor([-0., -0., -0.,  ..., -0., -0., -0.]), tensor([-0., -0., -0.,  ..., -0., -0., -0.]), tensor([1226.8495,   -0.0000,   -0.0000,  ...,   -0.0000,   -0.0000,\n",
      "          -0.0000]), tensor([-0., -0., -0.,  ..., -0., -0., -0.]), tensor([188.3607,  -0.0000,  -0.0000,  ...,  -0.0000,  -0.0000, 213.2732]), tensor([-0., -0., -0.,  ..., -0., -0., -0.]), tensor([-0., -0., -0.,  ..., -0., -0., -0.]), tensor([-0.0000, -0.0000, -0.0000,  ..., -0.0000, -0.0000, 9.9611]), tensor([38.6843, -0.0000, -0.0000,  ..., -0.0000, -0.0000, -0.0000]), tensor([ 0.5262, -0.3664,  0.4536,  ..., -0.3597, -0.2121, -0.3281]), tensor([-0., -0., -0.,  ..., -0., -0., -0.]), tensor([-0.0000, -0.0000, -0.0000,  ..., 30.1783, -0.0000,  3.6916]), tensor([-0., -0., -0.,  ..., -0., -0., -0.]), tensor([-0., -0., -0.,  ..., -0., -0., -0.]), tensor([18.3999, -0.0000, -0.0000,  ..., -0.0000, -0.0000, 45.3672]), tensor([ 0.2349,  0.1743,  0.1660,  ...,  0.3616,  0.0957, -0.3534]), tensor([-0.2793, -0.3249, -0.3683,  ..., -0.0000, -0.0000, -0.3627]), tensor([ 0.0759, -0.3346, -0.2591,  ...,  0.4824, -0.2551, -0.1757]), tensor([ 0.4264, -0.1865, -0.1025,  ..., -0.1637,  0.7777, -0.3373]), tensor([ 0.4347, -0.2336, -0.2793,  ..., -0.3347, -0.3469, -0.1162]), tensor([ 0.0104,  0.4655, -0.3177,  ..., -0.1076,  0.8267, -0.3667]), tensor([ 0.0873,  0.1475, -0.3670,  ..., -0.1698,  0.0327, -0.3572]), tensor([322.7029,  -0.0000,  83.4842,  ...,  -0.0000,  -0.0000,  -0.0000]), tensor([-0.3365, -0.0309, -0.3139,  ...,  0.1455, -0.3260, -0.3622]), tensor([-0.0000, -0.0000, -0.0000,  ..., -0.0000, -0.0000, 3.1642]), tensor([    -0.0000,     -0.0000, 159417.2812,  ...,     -0.0000,\n",
      "            -0.0000, 179515.1562]), tensor([-0.0014, -0.3527, -0.0000,  ..., -0.0000, -0.0000, -0.0000]), tensor([6770305.5000,      -0.0000,      -0.0000,  ...,      -0.0000,\n",
      "             -0.0000,      -0.0000]), tensor([1609.9169,   -0.0000,   -0.0000,  ...,   -0.0000,   -0.0000,\n",
      "          -0.0000]), tensor([-0., -0., -0.,  ..., -0., -0., -0.]), tensor([-0.0067, -0.3482, -0.3706,  ..., -0.3683, -0.0611,  0.0504]), tensor([ 1.4714, -0.0000, -0.0945,  ..., -0.2832, -0.0000, -0.3679]), tensor([ 1.7539, 21.7252, -0.0000,  ..., -0.0000, -0.0000, 13.5089]), tensor([-0.3179, -0.3455, -0.3743,  ..., -0.2527,  0.1497, -0.0043]), tensor([-0.3241, -0.2744, -0.1231,  ..., -0.1582, -0.2237, -0.0000]), tensor([-0.1600,  3.9948, -0.0000,  ..., -0.0000, -0.0000,  8.6842]), tensor([-0.1209,  0.0394, -0.3112,  ..., -0.2695, -0.1538, -0.1348]), tensor([255.8073,  -0.0000, 140.1278,  ...,  -0.0000,  -0.0000,  -0.0000]), tensor([-0., -0., -0.,  ..., -0., -0., -0.]), tensor([-0.0667, -0.2547, -0.3669,  ...,  0.1411, -0.0529, -0.0764]), tensor([ 0.0093, -0.3176, -0.3739,  ..., -0.1065,  0.4898, -0.3551]), tensor([-0.3701, -0.1757, -0.3706,  ..., -0.3319, -0.2591,  0.1290]), tensor([-0.3745, -0.1032, -0.1967,  ..., -0.0000, -0.0000, -0.0593]), tensor([-0.3677, -0.2142, -0.0000,  ..., -0.0000, -0.0000, -0.3277]), tensor([-0., -0., -0.,  ..., -0., -0., -0.]), tensor([3.1169, -0.0000, -0.0000,  ..., -0.0000, -0.0000, 8.0993]), tensor([-0.2472, -0.3239, -0.2829,  ..., -0.3483, -0.2882, -0.2494]), tensor([-0.3634, -0.3321, -0.1018,  ..., -0.3687, -0.3750, -0.2305]), tensor([-0.1774, -0.3653, -0.2880,  ..., -0.3545, -0.3617, -0.3650]), tensor([8691.3945,   -0.0000,   -0.0000,  ...,   -0.0000,   -0.0000,\n"
     ]
    },
    {
     "name": "stderr",
     "output_type": "stream",
     "text": [
      "Using cache found in /root/.cache/torch/hub/mit-han-lab_once-for-all_master\n"
     ]
    },
    {
     "name": "stdout",
     "output_type": "stream",
     "text": [
      "        8597.5059]), tensor([9.0331, -0.0000, -0.0000,  ..., -0.0000, -0.0000, -0.0000])], 'acc': [99.51923076923077, 99.03846153846153, 99.51923076923077, 99.51923076923077, 99.51923076923077, 99.51923076923077, 98.38709677419355, 96.7741935483871, 98.38709677419355, 98.38709677419355, 8.064516129032258, 96.7741935483871, 77.08333333333333, 76.4423076923077, 78.68589743589743, 77.40384615384616, 77.24358974358974, 78.36538461538461, 94.23076923076923, 75.64102564102564, 90.7051282051282, 94.23076923076923, 91.34615384615384, 94.23076923076923, 99.52978056426332, 99.3730407523511, 99.68652037617555, 99.68652037617555, 100.0, 99.3730407523511, 84.88700564971751, 87.99435028248588, 86.7231638418079, 85.73446327683615, 87.99435028248588, 86.44067796610169, 96.6740576496674, 97.11751662971176, 97.00665188470066, 97.22838137472284, 96.6740576496674, 95.56541019955654, 94.0, 94.6, 94.0, 95.0, 95.2, 95.0, 97.46835443037975, 95.78059071729957, 95.78059071729957], 'n_params': [6228442, 5625114, 6570290, 5347354, 5825218, 4821626, 4711646, 4554646, 6688342, 4317614, 5203934, 5550702, 5717244, 5151700, 5773028, 5059684, 6364428, 4930308, 5608818, 4493962, 4318938, 4537954, 5514050, 3861938, 5155304, 6005320, 4798208, 6420784, 4792312, 3845304, 4249220, 3881348, 5982340, 3517428, 5327428, 6367692, 5599490, 4745802, 5815994, 5362738, 5007786, 4598522, 5921562, 4126858, 4121234, 5318114, 5013634, 5773418, 4451268, 7041756, 3900292]}\n",
      "\n",
      "=====> Generating 4th network  <=====\n",
      "\n",
      "\n",
      "=====>Generating sub_net<=====\n",
      "\n",
      "\n",
      "=====> Training started <=====\n",
      "\n",
      "Starting Training for:plant-seedlings-classification_0_12 with model topology:[3, 3, 7, 5, 7, 5, 3, 5, 3, 5, 7, 3, 5, 3, 7, 3, 7, 5, 7, 7, 6, 4, 6, 6, 6, 3, 3, 3, 6, 4, 3, 6, 3, 3, 3, 4, 4, 6, 3, 3, 2, 2, 2, 4, 4]\n"
     ]
    },
    {
     "name": "stderr",
     "output_type": "stream",
     "text": [
      "119it [00:15,  7.75it/s]\n",
      "15it [00:01, 12.80it/s]\n"
     ]
    },
    {
     "name": "stdout",
     "output_type": "stream",
     "text": [
      "\n",
      "Epoch: 1/15, Train Loss: 46.90414559 , Val Loss: 15.81214576, Train Accuracy:54.61497890,  Val Accuracy: 82.70042194, Epoch Time: 16.78294015\n"
     ]
    },
    {
     "name": "stderr",
     "output_type": "stream",
     "text": [
      "119it [00:15,  7.68it/s]\n",
      "15it [00:01, 11.27it/s]\n"
     ]
    },
    {
     "name": "stdout",
     "output_type": "stream",
     "text": [
      "\n",
      "Epoch: 2/15, Train Loss: 10.14427074 , Val Loss: 8.11560385, Train Accuracy:90.08438819,  Val Accuracy: 91.77215190, Epoch Time: 17.08509707\n"
     ]
    },
    {
     "name": "stderr",
     "output_type": "stream",
     "text": [
      "119it [00:15,  7.73it/s]\n",
      "15it [00:01, 12.34it/s]\n"
     ]
    },
    {
     "name": "stdout",
     "output_type": "stream",
     "text": [
      "\n",
      "Epoch: 3/15, Train Loss: 5.25520619 , Val Loss: 5.64148623, Train Accuracy:95.14767932,  Val Accuracy: 94.09282700, Epoch Time: 16.83251405\n"
     ]
    },
    {
     "name": "stderr",
     "output_type": "stream",
     "text": [
      "119it [00:15,  7.58it/s]\n",
      "15it [00:01, 11.67it/s]\n"
     ]
    },
    {
     "name": "stdout",
     "output_type": "stream",
     "text": [
      "\n",
      "Epoch: 4/15, Train Loss: 3.47401905 , Val Loss: 3.95000144, Train Accuracy:96.62447257,  Val Accuracy: 96.20253165, Epoch Time: 17.20834756\n"
     ]
    },
    {
     "name": "stderr",
     "output_type": "stream",
     "text": [
      "119it [00:15,  7.76it/s]\n",
      "15it [00:01, 12.58it/s]\n"
     ]
    },
    {
     "name": "stdout",
     "output_type": "stream",
     "text": [
      "\n",
      "Epoch: 5/15, Train Loss: 1.96394171 , Val Loss: 4.21554084, Train Accuracy:98.33860759,  Val Accuracy: 96.62447257, Epoch Time: 16.80580473\n"
     ]
    },
    {
     "name": "stderr",
     "output_type": "stream",
     "text": [
      "119it [00:15,  7.71it/s]\n",
      "15it [00:01, 11.75it/s]\n"
     ]
    },
    {
     "name": "stdout",
     "output_type": "stream",
     "text": [
      "\n",
      "Epoch: 6/15, Train Loss: 1.35327200 , Val Loss: 4.36606211, Train Accuracy:98.94514768,  Val Accuracy: 95.14767932, Epoch Time: 16.97663212\n"
     ]
    },
    {
     "name": "stderr",
     "output_type": "stream",
     "text": [
      "119it [00:15,  7.72it/s]\n",
      "15it [00:01, 12.48it/s]\n"
     ]
    },
    {
     "name": "stdout",
     "output_type": "stream",
     "text": [
      "\n",
      "Epoch: 7/15, Train Loss: 0.87508649 , Val Loss: 4.05635054, Train Accuracy:99.41983122,  Val Accuracy: 95.78059072, Epoch Time: 16.86482882\n"
     ]
    },
    {
     "name": "stderr",
     "output_type": "stream",
     "text": [
      "119it [00:15,  7.67it/s]\n",
      "15it [00:01, 12.16it/s]\n"
     ]
    },
    {
     "name": "stdout",
     "output_type": "stream",
     "text": [
      "\n",
      "Epoch: 8/15, Train Loss: 0.80024450 , Val Loss: 4.59407797, Train Accuracy:99.41983122,  Val Accuracy: 95.56962025, Epoch Time: 17.02374601\n"
     ]
    },
    {
     "name": "stderr",
     "output_type": "stream",
     "text": [
      "119it [00:15,  7.72it/s]\n",
      "15it [00:01,  9.99it/s]\n"
     ]
    },
    {
     "name": "stdout",
     "output_type": "stream",
     "text": [
      "\n",
      "Epoch: 9/15, Train Loss: 0.58581633 , Val Loss: 4.10170792, Train Accuracy:99.68354430,  Val Accuracy: 95.78059072, Epoch Time: 17.17630792\n",
      "Early stopping on, 8th, epoch\n",
      "\n",
      "=====>Generating f_emb<=====\n",
      "\n",
      "torch.Size([1536])\n",
      "{'dataset': ['sldc_0_10', 'sldc_0_10', 'sldc_0_10', 'sldc_0_10', 'sldc_0_10', 'sldc_0_10', 'corales_0_14', 'corales_0_14', 'corales_0_14', 'corales_0_14', 'corales_0_14', 'corales_0_14', '6000-store-items-images-classified-by-color_imoore_0_12', '6000-store-items-images-classified-by-color_imoore_0_12', '6000-store-items-images-classified-by-color_imoore_0_12', '6000-store-items-images-classified-by-color_imoore_0_12', '6000-store-items-images-classified-by-color_imoore_0_12', '6000-store-items-images-classified-by-color_imoore_0_12', 'fcis-sc-deeplearning-competition_0_10', 'fcis-sc-deeplearning-competition_0_10', 'fcis-sc-deeplearning-competition_0_10', 'fcis-sc-deeplearning-competition_0_10', 'fcis-sc-deeplearning-competition_0_10', 'fcis-sc-deeplearning-competition_0_10', 'lego-brick-images_joosthazelzet_0_16', 'lego-brick-images_joosthazelzet_0_16', 'lego-brick-images_joosthazelzet_0_16', 'lego-brick-images_joosthazelzet_0_16', 'lego-brick-images_joosthazelzet_0_16', 'lego-brick-images_joosthazelzet_0_16', 'oregon-wildlife_virtualdvid_0_20', 'oregon-wildlife_virtualdvid_0_20', 'oregon-wildlife_virtualdvid_0_20', 'oregon-wildlife_virtualdvid_0_20', 'oregon-wildlife_virtualdvid_0_20', 'oregon-wildlife_virtualdvid_0_20', 'perritos_0_10', 'perritos_0_10', 'perritos_0_10', 'perritos_0_10', 'perritos_0_10', 'perritos_0_10', 'khu-deep-learning-competition_0_10', 'khu-deep-learning-competition_0_10', 'khu-deep-learning-competition_0_10', 'khu-deep-learning-competition_0_10', 'khu-deep-learning-competition_0_10', 'khu-deep-learning-competition_0_10', 'plant-seedlings-classification_0_12', 'plant-seedlings-classification_0_12', 'plant-seedlings-classification_0_12', 'plant-seedlings-classification_0_12'], 'topol': [[3, 5, 5, 5, 7, 5, 5, 7, 3, 5, 7, 7, 7, 5, 7, 5, 3, 3, 7, 3, 4, 3, 6, 3, 6, 6, 4, 4, 6, 4, 3, 6, 6, 3, 4, 6, 3, 4, 6, 3, 3, 4, 2, 4, 4], [3, 7, 7, 7, 5, 7, 5, 3, 7, 5, 3, 3, 5, 5, 3, 7, 7, 5, 3, 5, 3, 4, 6, 3, 6, 4, 6, 4, 4, 3, 3, 3, 3, 6, 6, 3, 3, 4, 6, 4, 4, 3, 2, 2, 4], [3, 7, 5, 5, 3, 7, 7, 5, 5, 5, 5, 5, 5, 7, 7, 7, 7, 7, 5, 7, 6, 6, 6, 3, 6, 3, 4, 4, 6, 6, 6, 4, 3, 6, 4, 6, 6, 4, 6, 4, 2, 3, 3, 3, 4], [7, 5, 3, 3, 5, 3, 5, 5, 5, 5, 3, 7, 7, 5, 7, 3, 3, 5, 3, 5, 3, 4, 6, 6, 6, 3, 6, 3, 6, 3, 6, 4, 4, 6, 6, 4, 6, 6, 6, 4, 2, 2, 2, 3, 2], [3, 5, 5, 7, 5, 5, 7, 3, 7, 5, 5, 5, 3, 5, 3, 7, 5, 7, 7, 3, 3, 6, 3, 3, 6, 3, 6, 6, 4, 4, 3, 4, 4, 3, 6, 6, 4, 3, 4, 3, 4, 3, 4, 4, 4], [3, 3, 5, 5, 7, 5, 5, 5, 5, 5, 3, 3, 3, 3, 3, 7, 7, 3, 5, 5, 6, 4, 3, 4, 4, 4, 3, 6, 4, 3, 6, 4, 4, 4, 6, 6, 4, 4, 3, 6, 4, 2, 4, 3, 3], [7, 7, 5, 5, 5, 5, 3, 3, 3, 5, 7, 5, 5, 3, 3, 5, 5, 5, 7, 5, 3, 4, 3, 6, 6, 4, 3, 4, 6, 6, 4, 4, 6, 4, 4, 3, 6, 4, 3, 6, 2, 4, 4, 3, 2], [3, 3, 3, 7, 7, 5, 5, 7, 7, 5, 7, 7, 7, 7, 3, 5, 7, 7, 7, 3, 6, 4, 6, 3, 3, 4, 6, 6, 3, 3, 4, 4, 4, 4, 6, 6, 3, 4, 4, 3, 2, 4, 4, 2, 3], [5, 5, 3, 5, 7, 3, 5, 7, 7, 5, 3, 7, 7, 3, 3, 7, 3, 3, 7, 3, 4, 4, 6, 6, 3, 6, 3, 6, 3, 4, 4, 6, 3, 4, 6, 3, 6, 6, 4, 4, 4, 2, 4, 4, 4], [3, 5, 3, 5, 3, 3, 7, 7, 3, 3, 5, 7, 5, 3, 7, 7, 3, 3, 3, 7, 3, 4, 6, 6, 4, 4, 6, 6, 3, 3, 3, 6, 3, 6, 3, 4, 3, 4, 6, 6, 4, 4, 4, 3, 2], [3, 7, 7, 5, 7, 3, 7, 5, 7, 7, 7, 5, 7, 5, 3, 7, 5, 5, 5, 5, 6, 3, 6, 6, 4, 6, 6, 4, 6, 6, 6, 3, 3, 3, 3, 3, 6, 6, 4, 4, 3, 4, 2, 2, 3], [7, 7, 3, 3, 5, 7, 3, 5, 5, 3, 3, 3, 5, 7, 3, 7, 7, 5, 7, 7, 6, 3, 4, 3, 3, 3, 4, 3, 3, 4, 6, 6, 6, 4, 4, 6, 6, 4, 3, 4, 2, 2, 3, 4, 3], [7, 3, 3, 3, 3, 3, 5, 7, 5, 3, 5, 5, 3, 7, 7, 7, 5, 3, 7, 5, 3, 6, 3, 6, 6, 3, 4, 3, 6, 6, 3, 4, 3, 4, 4, 3, 4, 6, 6, 4, 3, 3, 2, 3, 3], [3, 3, 7, 5, 7, 3, 5, 7, 3, 5, 3, 5, 5, 5, 5, 3, 5, 5, 3, 3, 3, 6, 6, 6, 6, 6, 4, 3, 4, 4, 6, 4, 3, 6, 3, 6, 3, 6, 4, 6, 2, 2, 2, 3, 3], [5, 3, 5, 5, 5, 5, 7, 7, 3, 7, 7, 7, 3, 3, 7, 3, 7, 5, 5, 3, 3, 3, 6, 4, 6, 4, 4, 3, 6, 4, 6, 6, 3, 6, 4, 4, 3, 4, 3, 4, 3, 3, 4, 4, 4], [5, 5, 7, 5, 5, 5, 5, 7, 3, 3, 7, 3, 7, 5, 3, 3, 5, 7, 3, 3, 4, 4, 4, 4, 3, 4, 6, 3, 4, 6, 6, 3, 6, 3, 4, 6, 6, 4, 4, 6, 2, 4, 2, 3, 3], [7, 5, 3, 3, 7, 7, 7, 7, 5, 7, 5, 3, 7, 3, 5, 7, 3, 5, 7, 5, 4, 4, 4, 6, 4, 3, 3, 6, 3, 6, 4, 6, 6, 6, 6, 6, 3, 4, 6, 4, 2, 2, 2, 4, 3], [3, 3, 3, 7, 7, 3, 3, 7, 7, 7, 7, 5, 5, 7, 7, 3, 7, 7, 5, 7, 3, 4, 3, 3, 6, 3, 6, 3, 6, 3, 6, 3, 4, 3, 3, 6, 4, 4, 3, 6, 4, 4, 2, 4, 3], [3, 7, 7, 7, 3, 5, 3, 7, 5, 3, 5, 5, 7, 3, 5, 5, 3, 7, 5, 5, 4, 3, 4, 4, 3, 4, 6, 4, 6, 4, 3, 3, 3, 3, 6, 3, 4, 6, 4, 3, 4, 2, 4, 4, 3], [7, 7, 3, 5, 5, 5, 7, 3, 3, 5, 3, 3, 5, 7, 7, 3, 3, 7, 3, 3, 3, 3, 4, 6, 4, 6, 6, 6, 4, 3, 3, 6, 6, 4, 3, 4, 6, 4, 4, 4, 2, 4, 2, 3, 2], [3, 7, 7, 3, 5, 7, 7, 5, 7, 3, 5, 7, 7, 3, 5, 5, 5, 3, 3, 5, 3, 4, 3, 4, 3, 4, 6, 3, 6, 3, 4, 3, 4, 4, 4, 6, 3, 3, 4, 3, 3, 3, 2, 4, 2], [3, 7, 5, 3, 3, 5, 5, 7, 5, 7, 3, 5, 3, 7, 7, 5, 5, 7, 3, 3, 3, 3, 4, 6, 3, 6, 4, 3, 6, 4, 6, 4, 6, 6, 6, 6, 3, 4, 3, 6, 4, 4, 2, 2, 3], [3, 7, 3, 3, 5, 7, 5, 7, 5, 7, 7, 7, 7, 3, 3, 3, 7, 3, 3, 3, 6, 4, 4, 3, 4, 6, 4, 6, 4, 6, 6, 4, 4, 3, 3, 3, 6, 4, 3, 3, 2, 4, 4, 4, 4], [5, 5, 7, 5, 7, 3, 7, 7, 7, 5, 7, 3, 5, 3, 5, 7, 3, 7, 7, 5, 4, 3, 6, 6, 6, 3, 6, 3, 6, 3, 3, 6, 4, 4, 3, 3, 3, 3, 3, 3, 3, 2, 3, 4, 2], [7, 3, 7, 3, 5, 5, 3, 3, 7, 3, 7, 7, 7, 5, 5, 5, 5, 7, 5, 5, 6, 4, 3, 3, 4, 3, 3, 4, 4, 3, 6, 6, 3, 4, 4, 6, 6, 4, 6, 3, 3, 4, 4, 4, 2], [5, 5, 3, 7, 3, 7, 7, 5, 3, 7, 7, 5, 5, 7, 7, 7, 5, 7, 5, 3, 4, 4, 3, 3, 4, 3, 4, 6, 3, 3, 3, 4, 6, 6, 4, 6, 6, 4, 3, 4, 4, 4, 4, 3, 4], [5, 5, 3, 5, 7, 3, 5, 5, 3, 5, 7, 3, 5, 3, 3, 5, 7, 7, 5, 5, 4, 3, 6, 4, 6, 6, 6, 4, 3, 6, 6, 6, 4, 4, 4, 4, 3, 4, 3, 6, 2, 4, 2, 4, 3], [5, 3, 5, 3, 5, 3, 3, 3, 7, 3, 5, 7, 5, 7, 3, 7, 7, 5, 5, 3, 6, 3, 6, 6, 3, 4, 3, 4, 6, 3, 4, 6, 3, 3, 4, 4, 6, 6, 6, 4, 3, 4, 4, 4, 3], [7, 5, 3, 7, 3, 5, 3, 5, 3, 5, 7, 3, 7, 7, 5, 7, 7, 3, 3, 3, 3, 3, 6, 4, 3, 4, 4, 3, 3, 3, 3, 4, 3, 3, 3, 3, 6, 6, 4, 4, 2, 4, 2, 4, 2], [5, 7, 7, 5, 5, 5, 7, 7, 7, 3, 5, 5, 5, 5, 3, 3, 5, 7, 3, 5, 3, 4, 4, 3, 3, 6, 6, 4, 4, 3, 4, 3, 3, 6, 4, 6, 4, 3, 3, 3, 2, 2, 4, 2, 2], [5, 5, 7, 3, 3, 3, 5, 3, 5, 5, 3, 3, 5, 7, 5, 3, 5, 3, 7, 7, 3, 3, 4, 4, 3, 3, 3, 3, 4, 6, 6, 4, 3, 4, 6, 4, 4, 4, 3, 3, 4, 4, 3, 2, 3], [3, 5, 5, 5, 7, 5, 7, 7, 5, 5, 5, 5, 5, 7, 3, 5, 7, 7, 3, 5, 6, 6, 4, 6, 3, 3, 3, 4, 4, 3, 6, 4, 4, 3, 3, 6, 6, 3, 3, 6, 3, 4, 3, 2, 2], [3, 3, 7, 5, 5, 5, 7, 7, 7, 5, 3, 3, 3, 3, 7, 5, 5, 5, 3, 3, 3, 3, 3, 6, 4, 4, 6, 4, 3, 6, 4, 3, 6, 4, 3, 6, 6, 3, 4, 6, 2, 4, 2, 3, 4], [5, 3, 3, 3, 7, 5, 7, 3, 5, 5, 3, 3, 3, 5, 3, 5, 7, 3, 5, 3, 6, 3, 4, 6, 3, 6, 4, 3, 4, 3, 4, 4, 6, 3, 4, 4, 3, 3, 6, 6, 2, 3, 3, 2, 2], [3, 7, 3, 5, 3, 7, 5, 3, 7, 7, 3, 5, 5, 3, 7, 5, 5, 7, 7, 7, 4, 6, 6, 3, 6, 6, 4, 4, 3, 6, 6, 6, 3, 3, 3, 4, 4, 6, 3, 3, 2, 4, 3, 4, 3], [3, 3, 3, 5, 3, 3, 3, 5, 7, 3, 7, 5, 3, 7, 5, 3, 7, 7, 3, 7, 6, 3, 3, 6, 3, 6, 6, 3, 6, 6, 4, 4, 4, 3, 6, 3, 6, 3, 3, 6, 2, 3, 4, 4, 4], [5, 7, 3, 7, 3, 7, 5, 5, 5, 7, 7, 3, 3, 3, 7, 3, 5, 5, 3, 5, 6, 4, 6, 6, 6, 4, 6, 3, 4, 4, 3, 3, 6, 6, 4, 3, 4, 3, 6, 4, 2, 2, 3, 4, 3], [3, 3, 3, 3, 5, 7, 5, 3, 3, 7, 3, 3, 5, 3, 3, 3, 3, 3, 3, 3, 6, 3, 6, 4, 4, 3, 6, 6, 3, 6, 6, 3, 6, 6, 6, 3, 4, 3, 3, 4, 4, 3, 2, 4, 2], [5, 5, 7, 3, 3, 3, 7, 5, 7, 7, 3, 7, 5, 3, 5, 7, 7, 5, 5, 5, 4, 4, 3, 4, 3, 3, 6, 6, 6, 3, 4, 6, 6, 3, 3, 4, 6, 6, 6, 3, 2, 3, 3, 2, 3], [3, 3, 3, 3, 5, 3, 5, 3, 7, 3, 5, 5, 7, 3, 5, 7, 3, 5, 5, 7, 4, 3, 6, 4, 3, 6, 6, 4, 4, 4, 3, 6, 6, 3, 3, 6, 3, 3, 6, 6, 3, 2, 2, 4, 3], [3, 7, 5, 5, 7, 5, 7, 3, 3, 5, 5, 3, 5, 3, 5, 3, 3, 7, 3, 3, 3, 4, 4, 6, 6, 6, 3, 6, 6, 4, 3, 6, 6, 6, 6, 4, 3, 3, 3, 6, 3, 4, 4, 4, 2], [5, 7, 3, 3, 7, 5, 7, 5, 3, 3, 5, 5, 7, 3, 3, 7, 7, 3, 5, 5, 6, 3, 6, 6, 6, 3, 6, 6, 4, 3, 6, 3, 3, 3, 3, 3, 4, 6, 3, 3, 2, 2, 4, 2, 3], [3, 7, 5, 5, 5, 3, 7, 5, 7, 5, 3, 3, 5, 3, 3, 7, 3, 7, 3, 5, 3, 4, 3, 6, 4, 3, 3, 4, 4, 6, 6, 3, 3, 3, 6, 6, 4, 4, 3, 6, 4, 4, 4, 3, 4], [5, 3, 5, 3, 5, 3, 7, 3, 3, 5, 5, 3, 5, 7, 5, 7, 7, 5, 3, 7, 4, 4, 6, 3, 3, 6, 3, 3, 3, 3, 4, 4, 3, 6, 4, 3, 6, 3, 3, 3, 4, 3, 3, 2, 2], [7, 7, 5, 3, 7, 7, 3, 7, 5, 5, 7, 3, 3, 5, 7, 7, 5, 5, 5, 3, 4, 3, 4, 6, 3, 4, 6, 3, 3, 6, 3, 6, 3, 4, 3, 3, 6, 4, 3, 3, 3, 2, 4, 2, 2], [3, 7, 5, 3, 7, 7, 7, 5, 3, 3, 7, 7, 7, 5, 7, 5, 5, 5, 7, 5, 6, 3, 6, 4, 3, 3, 4, 6, 3, 4, 3, 6, 3, 4, 3, 3, 4, 3, 4, 4, 3, 3, 4, 4, 4], [5, 7, 7, 7, 7, 5, 5, 7, 7, 5, 7, 5, 5, 7, 7, 5, 7, 3, 3, 3, 6, 3, 6, 3, 4, 4, 4, 4, 6, 6, 4, 3, 4, 3, 6, 3, 3, 3, 4, 4, 4, 4, 4, 4, 3], [5, 5, 3, 3, 3, 7, 3, 3, 3, 7, 3, 5, 7, 5, 5, 7, 7, 3, 5, 7, 6, 3, 4, 3, 3, 4, 3, 3, 3, 3, 4, 3, 3, 6, 4, 6, 6, 4, 6, 3, 2, 3, 4, 3, 3], [3, 5, 3, 5, 3, 3, 5, 7, 3, 7, 3, 3, 3, 5, 3, 7, 7, 7, 5, 7, 3, 4, 3, 6, 3, 4, 3, 4, 4, 4, 3, 4, 3, 4, 6, 4, 4, 3, 3, 4, 3, 4, 3, 4, 2], [3, 5, 3, 3, 5, 7, 3, 5, 3, 7, 7, 3, 7, 5, 7, 3, 7, 5, 5, 3, 4, 4, 4, 4, 3, 4, 4, 4, 3, 6, 6, 6, 4, 6, 3, 4, 6, 6, 6, 4, 2, 2, 4, 3, 4], [3, 3, 7, 7, 5, 5, 3, 3, 3, 5, 5, 7, 7, 5, 7, 3, 5, 3, 3, 5, 4, 6, 6, 3, 6, 3, 3, 4, 6, 3, 4, 6, 4, 3, 6, 4, 6, 4, 4, 3, 4, 3, 2, 2, 2], [3, 3, 7, 5, 7, 5, 3, 5, 3, 5, 7, 3, 5, 3, 7, 3, 7, 5, 7, 7, 6, 4, 6, 6, 6, 3, 3, 3, 6, 4, 3, 6, 3, 3, 3, 4, 4, 6, 3, 3, 2, 2, 2, 4, 4]], 'f_emb': [tensor([-0., -0., -0.,  ..., -0., -0., -0.]), tensor([-0., -0., -0.,  ..., -0., -0., -0.]), tensor([1226.8495,   -0.0000,   -0.0000,  ...,   -0.0000,   -0.0000,\n",
      "          -0.0000]), tensor([-0., -0., -0.,  ..., -0., -0., -0.]), tensor([188.3607,  -0.0000,  -0.0000,  ...,  -0.0000,  -0.0000, 213.2732]), tensor([-0., -0., -0.,  ..., -0., -0., -0.]), tensor([-0., -0., -0.,  ..., -0., -0., -0.]), tensor([-0.0000, -0.0000, -0.0000,  ..., -0.0000, -0.0000, 9.9611]), tensor([38.6843, -0.0000, -0.0000,  ..., -0.0000, -0.0000, -0.0000]), tensor([ 0.5262, -0.3664,  0.4536,  ..., -0.3597, -0.2121, -0.3281]), tensor([-0., -0., -0.,  ..., -0., -0., -0.]), tensor([-0.0000, -0.0000, -0.0000,  ..., 30.1783, -0.0000,  3.6916]), tensor([-0., -0., -0.,  ..., -0., -0., -0.]), tensor([-0., -0., -0.,  ..., -0., -0., -0.]), tensor([18.3999, -0.0000, -0.0000,  ..., -0.0000, -0.0000, 45.3672]), tensor([ 0.2349,  0.1743,  0.1660,  ...,  0.3616,  0.0957, -0.3534]), tensor([-0.2793, -0.3249, -0.3683,  ..., -0.0000, -0.0000, -0.3627]), tensor([ 0.0759, -0.3346, -0.2591,  ...,  0.4824, -0.2551, -0.1757]), tensor([ 0.4264, -0.1865, -0.1025,  ..., -0.1637,  0.7777, -0.3373]), tensor([ 0.4347, -0.2336, -0.2793,  ..., -0.3347, -0.3469, -0.1162]), tensor([ 0.0104,  0.4655, -0.3177,  ..., -0.1076,  0.8267, -0.3667]), tensor([ 0.0873,  0.1475, -0.3670,  ..., -0.1698,  0.0327, -0.3572]), tensor([322.7029,  -0.0000,  83.4842,  ...,  -0.0000,  -0.0000,  -0.0000]), tensor([-0.3365, -0.0309, -0.3139,  ...,  0.1455, -0.3260, -0.3622]), tensor([-0.0000, -0.0000, -0.0000,  ..., -0.0000, -0.0000, 3.1642]), tensor([    -0.0000,     -0.0000, 159417.2812,  ...,     -0.0000,\n",
      "            -0.0000, 179515.1562]), tensor([-0.0014, -0.3527, -0.0000,  ..., -0.0000, -0.0000, -0.0000]), tensor([6770305.5000,      -0.0000,      -0.0000,  ...,      -0.0000,\n",
      "             -0.0000,      -0.0000]), tensor([1609.9169,   -0.0000,   -0.0000,  ...,   -0.0000,   -0.0000,\n",
      "          -0.0000]), tensor([-0., -0., -0.,  ..., -0., -0., -0.]), tensor([-0.0067, -0.3482, -0.3706,  ..., -0.3683, -0.0611,  0.0504]), tensor([ 1.4714, -0.0000, -0.0945,  ..., -0.2832, -0.0000, -0.3679]), tensor([ 1.7539, 21.7252, -0.0000,  ..., -0.0000, -0.0000, 13.5089]), tensor([-0.3179, -0.3455, -0.3743,  ..., -0.2527,  0.1497, -0.0043]), tensor([-0.3241, -0.2744, -0.1231,  ..., -0.1582, -0.2237, -0.0000]), tensor([-0.1600,  3.9948, -0.0000,  ..., -0.0000, -0.0000,  8.6842]), tensor([-0.1209,  0.0394, -0.3112,  ..., -0.2695, -0.1538, -0.1348]), tensor([255.8073,  -0.0000, 140.1278,  ...,  -0.0000,  -0.0000,  -0.0000]), tensor([-0., -0., -0.,  ..., -0., -0., -0.]), tensor([-0.0667, -0.2547, -0.3669,  ...,  0.1411, -0.0529, -0.0764]), tensor([ 0.0093, -0.3176, -0.3739,  ..., -0.1065,  0.4898, -0.3551]), tensor([-0.3701, -0.1757, -0.3706,  ..., -0.3319, -0.2591,  0.1290]), tensor([-0.3745, -0.1032, -0.1967,  ..., -0.0000, -0.0000, -0.0593]), tensor([-0.3677, -0.2142, -0.0000,  ..., -0.0000, -0.0000, -0.3277]), tensor([-0., -0., -0.,  ..., -0., -0., -0.]), tensor([3.1169, -0.0000, -0.0000,  ..., -0.0000, -0.0000, 8.0993]), tensor([-0.2472, -0.3239, -0.2829,  ..., -0.3483, -0.2882, -0.2494]), tensor([-0.3634, -0.3321, -0.1018,  ..., -0.3687, -0.3750, -0.2305]), tensor([-0.1774, -0.3653, -0.2880,  ..., -0.3545, -0.3617, -0.3650]), tensor([8691.3945,   -0.0000,   -0.0000,  ...,   -0.0000,   -0.0000,\n"
     ]
    },
    {
     "name": "stderr",
     "output_type": "stream",
     "text": [
      "Using cache found in /root/.cache/torch/hub/mit-han-lab_once-for-all_master\n"
     ]
    },
    {
     "name": "stdout",
     "output_type": "stream",
     "text": [
      "        8597.5059]), tensor([9.0331, -0.0000, -0.0000,  ..., -0.0000, -0.0000, -0.0000]), tensor([42.5141, -0.0000, -0.0000,  ..., -0.0000, -0.0000, -0.0000])], 'acc': [99.51923076923077, 99.03846153846153, 99.51923076923077, 99.51923076923077, 99.51923076923077, 99.51923076923077, 98.38709677419355, 96.7741935483871, 98.38709677419355, 98.38709677419355, 8.064516129032258, 96.7741935483871, 77.08333333333333, 76.4423076923077, 78.68589743589743, 77.40384615384616, 77.24358974358974, 78.36538461538461, 94.23076923076923, 75.64102564102564, 90.7051282051282, 94.23076923076923, 91.34615384615384, 94.23076923076923, 99.52978056426332, 99.3730407523511, 99.68652037617555, 99.68652037617555, 100.0, 99.3730407523511, 84.88700564971751, 87.99435028248588, 86.7231638418079, 85.73446327683615, 87.99435028248588, 86.44067796610169, 96.6740576496674, 97.11751662971176, 97.00665188470066, 97.22838137472284, 96.6740576496674, 95.56541019955654, 94.0, 94.6, 94.0, 95.0, 95.2, 95.0, 97.46835443037975, 95.78059071729957, 95.78059071729957, 95.78059071729957], 'n_params': [6228442, 5625114, 6570290, 5347354, 5825218, 4821626, 4711646, 4554646, 6688342, 4317614, 5203934, 5550702, 5717244, 5151700, 5773028, 5059684, 6364428, 4930308, 5608818, 4493962, 4318938, 4537954, 5514050, 3861938, 5155304, 6005320, 4798208, 6420784, 4792312, 3845304, 4249220, 3881348, 5982340, 3517428, 5327428, 6367692, 5599490, 4745802, 5815994, 5362738, 5007786, 4598522, 5921562, 4126858, 4121234, 5318114, 5013634, 5773418, 4451268, 7041756, 3900292, 5413740]}\n",
      "\n",
      "=====> Generating 5th network  <=====\n",
      "\n",
      "\n",
      "=====>Generating sub_net<=====\n",
      "\n",
      "\n",
      "=====> Training started <=====\n",
      "\n",
      "Starting Training for:plant-seedlings-classification_0_12 with model topology:[5, 5, 3, 7, 5, 5, 7, 7, 3, 5, 3, 7, 5, 5, 5, 5, 3, 7, 5, 3, 3, 3, 4, 6, 6, 3, 4, 6, 6, 4, 3, 6, 3, 4, 4, 4, 4, 3, 4, 3, 2, 3, 4, 3, 3]\n"
     ]
    },
    {
     "name": "stderr",
     "output_type": "stream",
     "text": [
      "119it [00:15,  7.60it/s]\n",
      "15it [00:01, 11.70it/s]\n"
     ]
    },
    {
     "name": "stdout",
     "output_type": "stream",
     "text": [
      "\n",
      "Epoch: 1/15, Train Loss: 46.03208278 , Val Loss: 14.68143403, Train Accuracy:55.56434599,  Val Accuracy: 85.44303797, Epoch Time: 17.20844817\n"
     ]
    },
    {
     "name": "stderr",
     "output_type": "stream",
     "text": [
      "119it [00:15,  7.60it/s]\n",
      "15it [00:01, 12.47it/s]\n"
     ]
    },
    {
     "name": "stdout",
     "output_type": "stream",
     "text": [
      "\n",
      "Epoch: 2/15, Train Loss: 10.71311832 , Val Loss: 6.69204229, Train Accuracy:89.63607595,  Val Accuracy: 92.19409283, Epoch Time: 17.09260678\n"
     ]
    },
    {
     "name": "stderr",
     "output_type": "stream",
     "text": [
      "119it [00:15,  7.60it/s]\n",
      "15it [00:01, 11.76it/s]\n"
     ]
    },
    {
     "name": "stdout",
     "output_type": "stream",
     "text": [
      "\n",
      "Epoch: 3/15, Train Loss: 5.60918517 , Val Loss: 4.23845193, Train Accuracy:94.54113924,  Val Accuracy: 95.78059072, Epoch Time: 17.18725634\n"
     ]
    },
    {
     "name": "stderr",
     "output_type": "stream",
     "text": [
      "119it [00:15,  7.57it/s]\n",
      "15it [00:01, 12.71it/s]\n"
     ]
    },
    {
     "name": "stdout",
     "output_type": "stream",
     "text": [
      "\n",
      "Epoch: 4/15, Train Loss: 3.75622283 , Val Loss: 4.32281179, Train Accuracy:96.51898734,  Val Accuracy: 95.35864979, Epoch Time: 17.12769055\n"
     ]
    },
    {
     "name": "stderr",
     "output_type": "stream",
     "text": [
      "119it [00:15,  7.64it/s]\n",
      "15it [00:01, 11.33it/s]\n"
     ]
    },
    {
     "name": "stdout",
     "output_type": "stream",
     "text": [
      "\n",
      "Epoch: 5/15, Train Loss: 2.54900257 , Val Loss: 3.99536980, Train Accuracy:97.78481013,  Val Accuracy: 95.56962025, Epoch Time: 17.17698836\n"
     ]
    },
    {
     "name": "stderr",
     "output_type": "stream",
     "text": [
      "119it [00:15,  7.53it/s]\n",
      "15it [00:01, 12.75it/s]\n"
     ]
    },
    {
     "name": "stdout",
     "output_type": "stream",
     "text": [
      "\n",
      "Epoch: 6/15, Train Loss: 1.71775878 , Val Loss: 3.15893756, Train Accuracy:98.44409283,  Val Accuracy: 96.62447257, Epoch Time: 17.23253322\n"
     ]
    },
    {
     "name": "stderr",
     "output_type": "stream",
     "text": [
      "119it [00:15,  7.55it/s]\n",
      "15it [00:01, 11.78it/s]\n"
     ]
    },
    {
     "name": "stdout",
     "output_type": "stream",
     "text": [
      "\n",
      "Epoch: 7/15, Train Loss: 1.09875131 , Val Loss: 3.28769151, Train Accuracy:99.23523207,  Val Accuracy: 97.25738397, Epoch Time: 17.28489971\n"
     ]
    },
    {
     "name": "stderr",
     "output_type": "stream",
     "text": [
      "119it [00:15,  7.60it/s]\n",
      "15it [00:01, 12.35it/s]\n"
     ]
    },
    {
     "name": "stdout",
     "output_type": "stream",
     "text": [
      "\n",
      "Epoch: 8/15, Train Loss: 0.75258924 , Val Loss: 3.25407577, Train Accuracy:99.44620253,  Val Accuracy: 96.62447257, Epoch Time: 17.10092616\n"
     ]
    },
    {
     "name": "stderr",
     "output_type": "stream",
     "text": [
      "119it [00:15,  7.61it/s]\n",
      "15it [00:01, 11.38it/s]\n"
     ]
    },
    {
     "name": "stdout",
     "output_type": "stream",
     "text": [
      "\n",
      "Epoch: 9/15, Train Loss: 0.64789732 , Val Loss: 3.13327250, Train Accuracy:99.63080169,  Val Accuracy: 97.25738397, Epoch Time: 17.20131207\n"
     ]
    },
    {
     "name": "stderr",
     "output_type": "stream",
     "text": [
      "119it [00:15,  7.59it/s]\n",
      "15it [00:01, 12.69it/s]\n"
     ]
    },
    {
     "name": "stdout",
     "output_type": "stream",
     "text": [
      "\n",
      "Epoch: 10/15, Train Loss: 0.48777153 , Val Loss: 3.80177225, Train Accuracy:99.65717300,  Val Accuracy: 96.20253165, Epoch Time: 17.13161540\n"
     ]
    },
    {
     "name": "stderr",
     "output_type": "stream",
     "text": [
      "119it [00:15,  7.60it/s]\n",
      "15it [00:01, 10.29it/s]\n"
     ]
    },
    {
     "name": "stdout",
     "output_type": "stream",
     "text": [
      "\n",
      "Epoch: 11/15, Train Loss: 0.35132644 , Val Loss: 3.21557299, Train Accuracy:99.81540084,  Val Accuracy: 97.46835443, Epoch Time: 17.37687588\n"
     ]
    },
    {
     "name": "stderr",
     "output_type": "stream",
     "text": [
      "119it [00:15,  7.53it/s]\n",
      "15it [00:01, 12.67it/s]\n"
     ]
    },
    {
     "name": "stdout",
     "output_type": "stream",
     "text": [
      "\n",
      "Epoch: 12/15, Train Loss: 0.27031799 , Val Loss: 3.31104722, Train Accuracy:99.89451477,  Val Accuracy: 97.25738397, Epoch Time: 17.23029017\n"
     ]
    },
    {
     "name": "stderr",
     "output_type": "stream",
     "text": [
      "119it [00:15,  7.58it/s]\n",
      "15it [00:01, 11.70it/s]\n"
     ]
    },
    {
     "name": "stdout",
     "output_type": "stream",
     "text": [
      "\n",
      "Epoch: 13/15, Train Loss: 0.17594156 , Val Loss: 3.43572450, Train Accuracy:99.94725738,  Val Accuracy: 96.62447257, Epoch Time: 17.26067042\n"
     ]
    },
    {
     "name": "stderr",
     "output_type": "stream",
     "text": [
      "119it [00:15,  7.56it/s]\n",
      "15it [00:01, 12.59it/s]\n"
     ]
    },
    {
     "name": "stdout",
     "output_type": "stream",
     "text": [
      "\n",
      "Epoch: 14/15, Train Loss: 0.20754392 , Val Loss: 3.48444332, Train Accuracy:99.92088608,  Val Accuracy: 97.04641350, Epoch Time: 17.18596792\n",
      "Early stopping on, 13th, epoch\n",
      "\n",
      "=====>Generating f_emb<=====\n",
      "\n",
      "torch.Size([1536])\n",
      "{'dataset': ['sldc_0_10', 'sldc_0_10', 'sldc_0_10', 'sldc_0_10', 'sldc_0_10', 'sldc_0_10', 'corales_0_14', 'corales_0_14', 'corales_0_14', 'corales_0_14', 'corales_0_14', 'corales_0_14', '6000-store-items-images-classified-by-color_imoore_0_12', '6000-store-items-images-classified-by-color_imoore_0_12', '6000-store-items-images-classified-by-color_imoore_0_12', '6000-store-items-images-classified-by-color_imoore_0_12', '6000-store-items-images-classified-by-color_imoore_0_12', '6000-store-items-images-classified-by-color_imoore_0_12', 'fcis-sc-deeplearning-competition_0_10', 'fcis-sc-deeplearning-competition_0_10', 'fcis-sc-deeplearning-competition_0_10', 'fcis-sc-deeplearning-competition_0_10', 'fcis-sc-deeplearning-competition_0_10', 'fcis-sc-deeplearning-competition_0_10', 'lego-brick-images_joosthazelzet_0_16', 'lego-brick-images_joosthazelzet_0_16', 'lego-brick-images_joosthazelzet_0_16', 'lego-brick-images_joosthazelzet_0_16', 'lego-brick-images_joosthazelzet_0_16', 'lego-brick-images_joosthazelzet_0_16', 'oregon-wildlife_virtualdvid_0_20', 'oregon-wildlife_virtualdvid_0_20', 'oregon-wildlife_virtualdvid_0_20', 'oregon-wildlife_virtualdvid_0_20', 'oregon-wildlife_virtualdvid_0_20', 'oregon-wildlife_virtualdvid_0_20', 'perritos_0_10', 'perritos_0_10', 'perritos_0_10', 'perritos_0_10', 'perritos_0_10', 'perritos_0_10', 'khu-deep-learning-competition_0_10', 'khu-deep-learning-competition_0_10', 'khu-deep-learning-competition_0_10', 'khu-deep-learning-competition_0_10', 'khu-deep-learning-competition_0_10', 'khu-deep-learning-competition_0_10', 'plant-seedlings-classification_0_12', 'plant-seedlings-classification_0_12', 'plant-seedlings-classification_0_12', 'plant-seedlings-classification_0_12', 'plant-seedlings-classification_0_12'], 'topol': [[3, 5, 5, 5, 7, 5, 5, 7, 3, 5, 7, 7, 7, 5, 7, 5, 3, 3, 7, 3, 4, 3, 6, 3, 6, 6, 4, 4, 6, 4, 3, 6, 6, 3, 4, 6, 3, 4, 6, 3, 3, 4, 2, 4, 4], [3, 7, 7, 7, 5, 7, 5, 3, 7, 5, 3, 3, 5, 5, 3, 7, 7, 5, 3, 5, 3, 4, 6, 3, 6, 4, 6, 4, 4, 3, 3, 3, 3, 6, 6, 3, 3, 4, 6, 4, 4, 3, 2, 2, 4], [3, 7, 5, 5, 3, 7, 7, 5, 5, 5, 5, 5, 5, 7, 7, 7, 7, 7, 5, 7, 6, 6, 6, 3, 6, 3, 4, 4, 6, 6, 6, 4, 3, 6, 4, 6, 6, 4, 6, 4, 2, 3, 3, 3, 4], [7, 5, 3, 3, 5, 3, 5, 5, 5, 5, 3, 7, 7, 5, 7, 3, 3, 5, 3, 5, 3, 4, 6, 6, 6, 3, 6, 3, 6, 3, 6, 4, 4, 6, 6, 4, 6, 6, 6, 4, 2, 2, 2, 3, 2], [3, 5, 5, 7, 5, 5, 7, 3, 7, 5, 5, 5, 3, 5, 3, 7, 5, 7, 7, 3, 3, 6, 3, 3, 6, 3, 6, 6, 4, 4, 3, 4, 4, 3, 6, 6, 4, 3, 4, 3, 4, 3, 4, 4, 4], [3, 3, 5, 5, 7, 5, 5, 5, 5, 5, 3, 3, 3, 3, 3, 7, 7, 3, 5, 5, 6, 4, 3, 4, 4, 4, 3, 6, 4, 3, 6, 4, 4, 4, 6, 6, 4, 4, 3, 6, 4, 2, 4, 3, 3], [7, 7, 5, 5, 5, 5, 3, 3, 3, 5, 7, 5, 5, 3, 3, 5, 5, 5, 7, 5, 3, 4, 3, 6, 6, 4, 3, 4, 6, 6, 4, 4, 6, 4, 4, 3, 6, 4, 3, 6, 2, 4, 4, 3, 2], [3, 3, 3, 7, 7, 5, 5, 7, 7, 5, 7, 7, 7, 7, 3, 5, 7, 7, 7, 3, 6, 4, 6, 3, 3, 4, 6, 6, 3, 3, 4, 4, 4, 4, 6, 6, 3, 4, 4, 3, 2, 4, 4, 2, 3], [5, 5, 3, 5, 7, 3, 5, 7, 7, 5, 3, 7, 7, 3, 3, 7, 3, 3, 7, 3, 4, 4, 6, 6, 3, 6, 3, 6, 3, 4, 4, 6, 3, 4, 6, 3, 6, 6, 4, 4, 4, 2, 4, 4, 4], [3, 5, 3, 5, 3, 3, 7, 7, 3, 3, 5, 7, 5, 3, 7, 7, 3, 3, 3, 7, 3, 4, 6, 6, 4, 4, 6, 6, 3, 3, 3, 6, 3, 6, 3, 4, 3, 4, 6, 6, 4, 4, 4, 3, 2], [3, 7, 7, 5, 7, 3, 7, 5, 7, 7, 7, 5, 7, 5, 3, 7, 5, 5, 5, 5, 6, 3, 6, 6, 4, 6, 6, 4, 6, 6, 6, 3, 3, 3, 3, 3, 6, 6, 4, 4, 3, 4, 2, 2, 3], [7, 7, 3, 3, 5, 7, 3, 5, 5, 3, 3, 3, 5, 7, 3, 7, 7, 5, 7, 7, 6, 3, 4, 3, 3, 3, 4, 3, 3, 4, 6, 6, 6, 4, 4, 6, 6, 4, 3, 4, 2, 2, 3, 4, 3], [7, 3, 3, 3, 3, 3, 5, 7, 5, 3, 5, 5, 3, 7, 7, 7, 5, 3, 7, 5, 3, 6, 3, 6, 6, 3, 4, 3, 6, 6, 3, 4, 3, 4, 4, 3, 4, 6, 6, 4, 3, 3, 2, 3, 3], [3, 3, 7, 5, 7, 3, 5, 7, 3, 5, 3, 5, 5, 5, 5, 3, 5, 5, 3, 3, 3, 6, 6, 6, 6, 6, 4, 3, 4, 4, 6, 4, 3, 6, 3, 6, 3, 6, 4, 6, 2, 2, 2, 3, 3], [5, 3, 5, 5, 5, 5, 7, 7, 3, 7, 7, 7, 3, 3, 7, 3, 7, 5, 5, 3, 3, 3, 6, 4, 6, 4, 4, 3, 6, 4, 6, 6, 3, 6, 4, 4, 3, 4, 3, 4, 3, 3, 4, 4, 4], [5, 5, 7, 5, 5, 5, 5, 7, 3, 3, 7, 3, 7, 5, 3, 3, 5, 7, 3, 3, 4, 4, 4, 4, 3, 4, 6, 3, 4, 6, 6, 3, 6, 3, 4, 6, 6, 4, 4, 6, 2, 4, 2, 3, 3], [7, 5, 3, 3, 7, 7, 7, 7, 5, 7, 5, 3, 7, 3, 5, 7, 3, 5, 7, 5, 4, 4, 4, 6, 4, 3, 3, 6, 3, 6, 4, 6, 6, 6, 6, 6, 3, 4, 6, 4, 2, 2, 2, 4, 3], [3, 3, 3, 7, 7, 3, 3, 7, 7, 7, 7, 5, 5, 7, 7, 3, 7, 7, 5, 7, 3, 4, 3, 3, 6, 3, 6, 3, 6, 3, 6, 3, 4, 3, 3, 6, 4, 4, 3, 6, 4, 4, 2, 4, 3], [3, 7, 7, 7, 3, 5, 3, 7, 5, 3, 5, 5, 7, 3, 5, 5, 3, 7, 5, 5, 4, 3, 4, 4, 3, 4, 6, 4, 6, 4, 3, 3, 3, 3, 6, 3, 4, 6, 4, 3, 4, 2, 4, 4, 3], [7, 7, 3, 5, 5, 5, 7, 3, 3, 5, 3, 3, 5, 7, 7, 3, 3, 7, 3, 3, 3, 3, 4, 6, 4, 6, 6, 6, 4, 3, 3, 6, 6, 4, 3, 4, 6, 4, 4, 4, 2, 4, 2, 3, 2], [3, 7, 7, 3, 5, 7, 7, 5, 7, 3, 5, 7, 7, 3, 5, 5, 5, 3, 3, 5, 3, 4, 3, 4, 3, 4, 6, 3, 6, 3, 4, 3, 4, 4, 4, 6, 3, 3, 4, 3, 3, 3, 2, 4, 2], [3, 7, 5, 3, 3, 5, 5, 7, 5, 7, 3, 5, 3, 7, 7, 5, 5, 7, 3, 3, 3, 3, 4, 6, 3, 6, 4, 3, 6, 4, 6, 4, 6, 6, 6, 6, 3, 4, 3, 6, 4, 4, 2, 2, 3], [3, 7, 3, 3, 5, 7, 5, 7, 5, 7, 7, 7, 7, 3, 3, 3, 7, 3, 3, 3, 6, 4, 4, 3, 4, 6, 4, 6, 4, 6, 6, 4, 4, 3, 3, 3, 6, 4, 3, 3, 2, 4, 4, 4, 4], [5, 5, 7, 5, 7, 3, 7, 7, 7, 5, 7, 3, 5, 3, 5, 7, 3, 7, 7, 5, 4, 3, 6, 6, 6, 3, 6, 3, 6, 3, 3, 6, 4, 4, 3, 3, 3, 3, 3, 3, 3, 2, 3, 4, 2], [7, 3, 7, 3, 5, 5, 3, 3, 7, 3, 7, 7, 7, 5, 5, 5, 5, 7, 5, 5, 6, 4, 3, 3, 4, 3, 3, 4, 4, 3, 6, 6, 3, 4, 4, 6, 6, 4, 6, 3, 3, 4, 4, 4, 2], [5, 5, 3, 7, 3, 7, 7, 5, 3, 7, 7, 5, 5, 7, 7, 7, 5, 7, 5, 3, 4, 4, 3, 3, 4, 3, 4, 6, 3, 3, 3, 4, 6, 6, 4, 6, 6, 4, 3, 4, 4, 4, 4, 3, 4], [5, 5, 3, 5, 7, 3, 5, 5, 3, 5, 7, 3, 5, 3, 3, 5, 7, 7, 5, 5, 4, 3, 6, 4, 6, 6, 6, 4, 3, 6, 6, 6, 4, 4, 4, 4, 3, 4, 3, 6, 2, 4, 2, 4, 3], [5, 3, 5, 3, 5, 3, 3, 3, 7, 3, 5, 7, 5, 7, 3, 7, 7, 5, 5, 3, 6, 3, 6, 6, 3, 4, 3, 4, 6, 3, 4, 6, 3, 3, 4, 4, 6, 6, 6, 4, 3, 4, 4, 4, 3], [7, 5, 3, 7, 3, 5, 3, 5, 3, 5, 7, 3, 7, 7, 5, 7, 7, 3, 3, 3, 3, 3, 6, 4, 3, 4, 4, 3, 3, 3, 3, 4, 3, 3, 3, 3, 6, 6, 4, 4, 2, 4, 2, 4, 2], [5, 7, 7, 5, 5, 5, 7, 7, 7, 3, 5, 5, 5, 5, 3, 3, 5, 7, 3, 5, 3, 4, 4, 3, 3, 6, 6, 4, 4, 3, 4, 3, 3, 6, 4, 6, 4, 3, 3, 3, 2, 2, 4, 2, 2], [5, 5, 7, 3, 3, 3, 5, 3, 5, 5, 3, 3, 5, 7, 5, 3, 5, 3, 7, 7, 3, 3, 4, 4, 3, 3, 3, 3, 4, 6, 6, 4, 3, 4, 6, 4, 4, 4, 3, 3, 4, 4, 3, 2, 3], [3, 5, 5, 5, 7, 5, 7, 7, 5, 5, 5, 5, 5, 7, 3, 5, 7, 7, 3, 5, 6, 6, 4, 6, 3, 3, 3, 4, 4, 3, 6, 4, 4, 3, 3, 6, 6, 3, 3, 6, 3, 4, 3, 2, 2], [3, 3, 7, 5, 5, 5, 7, 7, 7, 5, 3, 3, 3, 3, 7, 5, 5, 5, 3, 3, 3, 3, 3, 6, 4, 4, 6, 4, 3, 6, 4, 3, 6, 4, 3, 6, 6, 3, 4, 6, 2, 4, 2, 3, 4], [5, 3, 3, 3, 7, 5, 7, 3, 5, 5, 3, 3, 3, 5, 3, 5, 7, 3, 5, 3, 6, 3, 4, 6, 3, 6, 4, 3, 4, 3, 4, 4, 6, 3, 4, 4, 3, 3, 6, 6, 2, 3, 3, 2, 2], [3, 7, 3, 5, 3, 7, 5, 3, 7, 7, 3, 5, 5, 3, 7, 5, 5, 7, 7, 7, 4, 6, 6, 3, 6, 6, 4, 4, 3, 6, 6, 6, 3, 3, 3, 4, 4, 6, 3, 3, 2, 4, 3, 4, 3], [3, 3, 3, 5, 3, 3, 3, 5, 7, 3, 7, 5, 3, 7, 5, 3, 7, 7, 3, 7, 6, 3, 3, 6, 3, 6, 6, 3, 6, 6, 4, 4, 4, 3, 6, 3, 6, 3, 3, 6, 2, 3, 4, 4, 4], [5, 7, 3, 7, 3, 7, 5, 5, 5, 7, 7, 3, 3, 3, 7, 3, 5, 5, 3, 5, 6, 4, 6, 6, 6, 4, 6, 3, 4, 4, 3, 3, 6, 6, 4, 3, 4, 3, 6, 4, 2, 2, 3, 4, 3], [3, 3, 3, 3, 5, 7, 5, 3, 3, 7, 3, 3, 5, 3, 3, 3, 3, 3, 3, 3, 6, 3, 6, 4, 4, 3, 6, 6, 3, 6, 6, 3, 6, 6, 6, 3, 4, 3, 3, 4, 4, 3, 2, 4, 2], [5, 5, 7, 3, 3, 3, 7, 5, 7, 7, 3, 7, 5, 3, 5, 7, 7, 5, 5, 5, 4, 4, 3, 4, 3, 3, 6, 6, 6, 3, 4, 6, 6, 3, 3, 4, 6, 6, 6, 3, 2, 3, 3, 2, 3], [3, 3, 3, 3, 5, 3, 5, 3, 7, 3, 5, 5, 7, 3, 5, 7, 3, 5, 5, 7, 4, 3, 6, 4, 3, 6, 6, 4, 4, 4, 3, 6, 6, 3, 3, 6, 3, 3, 6, 6, 3, 2, 2, 4, 3], [3, 7, 5, 5, 7, 5, 7, 3, 3, 5, 5, 3, 5, 3, 5, 3, 3, 7, 3, 3, 3, 4, 4, 6, 6, 6, 3, 6, 6, 4, 3, 6, 6, 6, 6, 4, 3, 3, 3, 6, 3, 4, 4, 4, 2], [5, 7, 3, 3, 7, 5, 7, 5, 3, 3, 5, 5, 7, 3, 3, 7, 7, 3, 5, 5, 6, 3, 6, 6, 6, 3, 6, 6, 4, 3, 6, 3, 3, 3, 3, 3, 4, 6, 3, 3, 2, 2, 4, 2, 3], [3, 7, 5, 5, 5, 3, 7, 5, 7, 5, 3, 3, 5, 3, 3, 7, 3, 7, 3, 5, 3, 4, 3, 6, 4, 3, 3, 4, 4, 6, 6, 3, 3, 3, 6, 6, 4, 4, 3, 6, 4, 4, 4, 3, 4], [5, 3, 5, 3, 5, 3, 7, 3, 3, 5, 5, 3, 5, 7, 5, 7, 7, 5, 3, 7, 4, 4, 6, 3, 3, 6, 3, 3, 3, 3, 4, 4, 3, 6, 4, 3, 6, 3, 3, 3, 4, 3, 3, 2, 2], [7, 7, 5, 3, 7, 7, 3, 7, 5, 5, 7, 3, 3, 5, 7, 7, 5, 5, 5, 3, 4, 3, 4, 6, 3, 4, 6, 3, 3, 6, 3, 6, 3, 4, 3, 3, 6, 4, 3, 3, 3, 2, 4, 2, 2], [3, 7, 5, 3, 7, 7, 7, 5, 3, 3, 7, 7, 7, 5, 7, 5, 5, 5, 7, 5, 6, 3, 6, 4, 3, 3, 4, 6, 3, 4, 3, 6, 3, 4, 3, 3, 4, 3, 4, 4, 3, 3, 4, 4, 4], [5, 7, 7, 7, 7, 5, 5, 7, 7, 5, 7, 5, 5, 7, 7, 5, 7, 3, 3, 3, 6, 3, 6, 3, 4, 4, 4, 4, 6, 6, 4, 3, 4, 3, 6, 3, 3, 3, 4, 4, 4, 4, 4, 4, 3], [5, 5, 3, 3, 3, 7, 3, 3, 3, 7, 3, 5, 7, 5, 5, 7, 7, 3, 5, 7, 6, 3, 4, 3, 3, 4, 3, 3, 3, 3, 4, 3, 3, 6, 4, 6, 6, 4, 6, 3, 2, 3, 4, 3, 3], [3, 5, 3, 5, 3, 3, 5, 7, 3, 7, 3, 3, 3, 5, 3, 7, 7, 7, 5, 7, 3, 4, 3, 6, 3, 4, 3, 4, 4, 4, 3, 4, 3, 4, 6, 4, 4, 3, 3, 4, 3, 4, 3, 4, 2], [3, 5, 3, 3, 5, 7, 3, 5, 3, 7, 7, 3, 7, 5, 7, 3, 7, 5, 5, 3, 4, 4, 4, 4, 3, 4, 4, 4, 3, 6, 6, 6, 4, 6, 3, 4, 6, 6, 6, 4, 2, 2, 4, 3, 4], [3, 3, 7, 7, 5, 5, 3, 3, 3, 5, 5, 7, 7, 5, 7, 3, 5, 3, 3, 5, 4, 6, 6, 3, 6, 3, 3, 4, 6, 3, 4, 6, 4, 3, 6, 4, 6, 4, 4, 3, 4, 3, 2, 2, 2], [3, 3, 7, 5, 7, 5, 3, 5, 3, 5, 7, 3, 5, 3, 7, 3, 7, 5, 7, 7, 6, 4, 6, 6, 6, 3, 3, 3, 6, 4, 3, 6, 3, 3, 3, 4, 4, 6, 3, 3, 2, 2, 2, 4, 4], [5, 5, 3, 7, 5, 5, 7, 7, 3, 5, 3, 7, 5, 5, 5, 5, 3, 7, 5, 3, 3, 3, 4, 6, 6, 3, 4, 6, 6, 4, 3, 6, 3, 4, 4, 4, 4, 3, 4, 3, 2, 3, 4, 3, 3]], 'f_emb': [tensor([-0., -0., -0.,  ..., -0., -0., -0.]), tensor([-0., -0., -0.,  ..., -0., -0., -0.]), tensor([1226.8495,   -0.0000,   -0.0000,  ...,   -0.0000,   -0.0000,\n",
      "          -0.0000]), tensor([-0., -0., -0.,  ..., -0., -0., -0.]), tensor([188.3607,  -0.0000,  -0.0000,  ...,  -0.0000,  -0.0000, 213.2732]), tensor([-0., -0., -0.,  ..., -0., -0., -0.]), tensor([-0., -0., -0.,  ..., -0., -0., -0.]), tensor([-0.0000, -0.0000, -0.0000,  ..., -0.0000, -0.0000, 9.9611]), tensor([38.6843, -0.0000, -0.0000,  ..., -0.0000, -0.0000, -0.0000]), tensor([ 0.5262, -0.3664,  0.4536,  ..., -0.3597, -0.2121, -0.3281]), tensor([-0., -0., -0.,  ..., -0., -0., -0.]), tensor([-0.0000, -0.0000, -0.0000,  ..., 30.1783, -0.0000,  3.6916]), tensor([-0., -0., -0.,  ..., -0., -0., -0.]), tensor([-0., -0., -0.,  ..., -0., -0., -0.]), tensor([18.3999, -0.0000, -0.0000,  ..., -0.0000, -0.0000, 45.3672]), tensor([ 0.2349,  0.1743,  0.1660,  ...,  0.3616,  0.0957, -0.3534]), tensor([-0.2793, -0.3249, -0.3683,  ..., -0.0000, -0.0000, -0.3627]), tensor([ 0.0759, -0.3346, -0.2591,  ...,  0.4824, -0.2551, -0.1757]), tensor([ 0.4264, -0.1865, -0.1025,  ..., -0.1637,  0.7777, -0.3373]), tensor([ 0.4347, -0.2336, -0.2793,  ..., -0.3347, -0.3469, -0.1162]), tensor([ 0.0104,  0.4655, -0.3177,  ..., -0.1076,  0.8267, -0.3667]), tensor([ 0.0873,  0.1475, -0.3670,  ..., -0.1698,  0.0327, -0.3572]), tensor([322.7029,  -0.0000,  83.4842,  ...,  -0.0000,  -0.0000,  -0.0000]), tensor([-0.3365, -0.0309, -0.3139,  ...,  0.1455, -0.3260, -0.3622]), tensor([-0.0000, -0.0000, -0.0000,  ..., -0.0000, -0.0000, 3.1642]), tensor([    -0.0000,     -0.0000, 159417.2812,  ...,     -0.0000,\n",
      "            -0.0000, 179515.1562]), tensor([-0.0014, -0.3527, -0.0000,  ..., -0.0000, -0.0000, -0.0000]), tensor([6770305.5000,      -0.0000,      -0.0000,  ...,      -0.0000,\n",
      "             -0.0000,      -0.0000]), tensor([1609.9169,   -0.0000,   -0.0000,  ...,   -0.0000,   -0.0000,\n",
      "          -0.0000]), tensor([-0., -0., -0.,  ..., -0., -0., -0.]), tensor([-0.0067, -0.3482, -0.3706,  ..., -0.3683, -0.0611,  0.0504]), tensor([ 1.4714, -0.0000, -0.0945,  ..., -0.2832, -0.0000, -0.3679]), tensor([ 1.7539, 21.7252, -0.0000,  ..., -0.0000, -0.0000, 13.5089]), tensor([-0.3179, -0.3455, -0.3743,  ..., -0.2527,  0.1497, -0.0043]), tensor([-0.3241, -0.2744, -0.1231,  ..., -0.1582, -0.2237, -0.0000]), tensor([-0.1600,  3.9948, -0.0000,  ..., -0.0000, -0.0000,  8.6842]), tensor([-0.1209,  0.0394, -0.3112,  ..., -0.2695, -0.1538, -0.1348]), tensor([255.8073,  -0.0000, 140.1278,  ...,  -0.0000,  -0.0000,  -0.0000]), tensor([-0., -0., -0.,  ..., -0., -0., -0.]), tensor([-0.0667, -0.2547, -0.3669,  ...,  0.1411, -0.0529, -0.0764]), tensor([ 0.0093, -0.3176, -0.3739,  ..., -0.1065,  0.4898, -0.3551]), tensor([-0.3701, -0.1757, -0.3706,  ..., -0.3319, -0.2591,  0.1290]), tensor([-0.3745, -0.1032, -0.1967,  ..., -0.0000, -0.0000, -0.0593]), tensor([-0.3677, -0.2142, -0.0000,  ..., -0.0000, -0.0000, -0.3277]), tensor([-0., -0., -0.,  ..., -0., -0., -0.]), tensor([3.1169, -0.0000, -0.0000,  ..., -0.0000, -0.0000, 8.0993]), tensor([-0.2472, -0.3239, -0.2829,  ..., -0.3483, -0.2882, -0.2494]), tensor([-0.3634, -0.3321, -0.1018,  ..., -0.3687, -0.3750, -0.2305]), tensor([-0.1774, -0.3653, -0.2880,  ..., -0.3545, -0.3617, -0.3650]), tensor([8691.3945,   -0.0000,   -0.0000,  ...,   -0.0000,   -0.0000,\n"
     ]
    },
    {
     "name": "stderr",
     "output_type": "stream",
     "text": [
      "Using cache found in /root/.cache/torch/hub/mit-han-lab_once-for-all_master\n"
     ]
    },
    {
     "name": "stdout",
     "output_type": "stream",
     "text": [
      "        8597.5059]), tensor([9.0331, -0.0000, -0.0000,  ..., -0.0000, -0.0000, -0.0000]), tensor([42.5141, -0.0000, -0.0000,  ..., -0.0000, -0.0000, -0.0000]), tensor([65.9789, -0.0000, -0.0000,  ..., -0.0000, -0.0000, -0.0000])], 'acc': [99.51923076923077, 99.03846153846153, 99.51923076923077, 99.51923076923077, 99.51923076923077, 99.51923076923077, 98.38709677419355, 96.7741935483871, 98.38709677419355, 98.38709677419355, 8.064516129032258, 96.7741935483871, 77.08333333333333, 76.4423076923077, 78.68589743589743, 77.40384615384616, 77.24358974358974, 78.36538461538461, 94.23076923076923, 75.64102564102564, 90.7051282051282, 94.23076923076923, 91.34615384615384, 94.23076923076923, 99.52978056426332, 99.3730407523511, 99.68652037617555, 99.68652037617555, 100.0, 99.3730407523511, 84.88700564971751, 87.99435028248588, 86.7231638418079, 85.73446327683615, 87.99435028248588, 86.44067796610169, 96.6740576496674, 97.11751662971176, 97.00665188470066, 97.22838137472284, 96.6740576496674, 95.56541019955654, 94.0, 94.6, 94.0, 95.0, 95.2, 95.0, 97.46835443037975, 95.78059071729957, 95.78059071729957, 95.78059071729957, 97.0464135021097], 'n_params': [6228442, 5625114, 6570290, 5347354, 5825218, 4821626, 4711646, 4554646, 6688342, 4317614, 5203934, 5550702, 5717244, 5151700, 5773028, 5059684, 6364428, 4930308, 5608818, 4493962, 4318938, 4537954, 5514050, 3861938, 5155304, 6005320, 4798208, 6420784, 4792312, 3845304, 4249220, 3881348, 5982340, 3517428, 5327428, 6367692, 5599490, 4745802, 5815994, 5362738, 5007786, 4598522, 5921562, 4126858, 4121234, 5318114, 5013634, 5773418, 4451268, 7041756, 3900292, 5413740, 4585324]}\n",
      "\n",
      "=====> Generating 6th network  <=====\n",
      "\n",
      "\n",
      "=====>Generating sub_net<=====\n",
      "\n",
      "\n",
      "=====> Training started <=====\n",
      "\n",
      "Starting Training for:plant-seedlings-classification_0_12 with model topology:[5, 3, 5, 7, 3, 7, 7, 3, 3, 7, 7, 3, 5, 3, 7, 7, 3, 5, 5, 3, 6, 6, 4, 4, 3, 6, 3, 4, 6, 4, 3, 6, 3, 6, 6, 4, 4, 4, 4, 3, 4, 2, 2, 2, 2]\n"
     ]
    },
    {
     "name": "stderr",
     "output_type": "stream",
     "text": [
      "119it [00:18,  6.45it/s]\n",
      "15it [00:01, 11.70it/s]\n"
     ]
    },
    {
     "name": "stdout",
     "output_type": "stream",
     "text": [
      "\n",
      "Epoch: 1/15, Train Loss: 44.51523581 , Val Loss: 15.61548401, Train Accuracy:58.30696203,  Val Accuracy: 85.86497890, Epoch Time: 20.00344372\n"
     ]
    },
    {
     "name": "stderr",
     "output_type": "stream",
     "text": [
      "119it [00:18,  6.50it/s]\n",
      "15it [00:01, 12.52it/s]\n"
     ]
    },
    {
     "name": "stdout",
     "output_type": "stream",
     "text": [
      "\n",
      "Epoch: 2/15, Train Loss: 10.59473779 , Val Loss: 7.34014992, Train Accuracy:90.00527426,  Val Accuracy: 92.82700422, Epoch Time: 19.79048681\n"
     ]
    },
    {
     "name": "stderr",
     "output_type": "stream",
     "text": [
      "119it [00:18,  6.45it/s]\n",
      "15it [00:01, 11.53it/s]\n"
     ]
    },
    {
     "name": "stdout",
     "output_type": "stream",
     "text": [
      "\n",
      "Epoch: 3/15, Train Loss: 5.72848060 , Val Loss: 4.97185571, Train Accuracy:94.54113924,  Val Accuracy: 95.56962025, Epoch Time: 20.00964856\n"
     ]
    },
    {
     "name": "stderr",
     "output_type": "stream",
     "text": [
      "119it [00:18,  6.49it/s]\n",
      "15it [00:01, 12.69it/s]\n"
     ]
    },
    {
     "name": "stdout",
     "output_type": "stream",
     "text": [
      "\n",
      "Epoch: 4/15, Train Loss: 3.61954790 , Val Loss: 4.11994445, Train Accuracy:97.07278481,  Val Accuracy: 95.56962025, Epoch Time: 19.78021407\n"
     ]
    },
    {
     "name": "stderr",
     "output_type": "stream",
     "text": [
      "119it [00:18,  6.47it/s]\n",
      "15it [00:01, 11.25it/s]\n"
     ]
    },
    {
     "name": "stdout",
     "output_type": "stream",
     "text": [
      "\n",
      "Epoch: 5/15, Train Loss: 2.71454042 , Val Loss: 4.90956146, Train Accuracy:97.62658228,  Val Accuracy: 93.88185654, Epoch Time: 19.96840501\n"
     ]
    },
    {
     "name": "stderr",
     "output_type": "stream",
     "text": [
      "119it [00:18,  6.46it/s]\n",
      "15it [00:01, 12.10it/s]\n"
     ]
    },
    {
     "name": "stdout",
     "output_type": "stream",
     "text": [
      "\n",
      "Epoch: 6/15, Train Loss: 1.73379237 , Val Loss: 4.07904173, Train Accuracy:98.62869198,  Val Accuracy: 95.78059072, Epoch Time: 19.89658093\n"
     ]
    },
    {
     "name": "stderr",
     "output_type": "stream",
     "text": [
      "119it [00:18,  6.48it/s]\n",
      "15it [00:01, 11.14it/s]\n"
     ]
    },
    {
     "name": "stdout",
     "output_type": "stream",
     "text": [
      "\n",
      "Epoch: 7/15, Train Loss: 1.40297998 , Val Loss: 4.18792496, Train Accuracy:98.97151899,  Val Accuracy: 95.14767932, Epoch Time: 19.99311233\n"
     ]
    },
    {
     "name": "stderr",
     "output_type": "stream",
     "text": [
      "119it [00:18,  6.42it/s]\n",
      "15it [00:01, 11.92it/s]\n"
     ]
    },
    {
     "name": "stdout",
     "output_type": "stream",
     "text": [
      "\n",
      "Epoch: 8/15, Train Loss: 0.82899930 , Val Loss: 3.78488733, Train Accuracy:99.65717300,  Val Accuracy: 96.41350211, Epoch Time: 20.01752520\n"
     ]
    },
    {
     "name": "stderr",
     "output_type": "stream",
     "text": [
      "119it [00:18,  6.49it/s]\n",
      "15it [00:01, 11.78it/s]\n"
     ]
    },
    {
     "name": "stdout",
     "output_type": "stream",
     "text": [
      "\n",
      "Epoch: 9/15, Train Loss: 0.64996806 , Val Loss: 4.24819669, Train Accuracy:99.57805907,  Val Accuracy: 96.20253165, Epoch Time: 19.89638352\n"
     ]
    },
    {
     "name": "stderr",
     "output_type": "stream",
     "text": [
      "119it [00:18,  6.48it/s]\n",
      "15it [00:01, 12.65it/s]\n"
     ]
    },
    {
     "name": "stdout",
     "output_type": "stream",
     "text": [
      "\n",
      "Epoch: 10/15, Train Loss: 0.61831219 , Val Loss: 4.45776622, Train Accuracy:99.63080169,  Val Accuracy: 95.56962025, Epoch Time: 19.76322794\n"
     ]
    },
    {
     "name": "stderr",
     "output_type": "stream",
     "text": [
      "119it [00:18,  6.48it/s]\n",
      "15it [00:01, 11.42it/s]\n"
     ]
    },
    {
     "name": "stdout",
     "output_type": "stream",
     "text": [
      "\n",
      "Epoch: 11/15, Train Loss: 0.37706918 , Val Loss: 4.05240181, Train Accuracy:99.84177215,  Val Accuracy: 95.56962025, Epoch Time: 19.90908742\n"
     ]
    },
    {
     "name": "stderr",
     "output_type": "stream",
     "text": [
      "119it [00:18,  6.48it/s]\n",
      "15it [00:01, 12.09it/s]\n"
     ]
    },
    {
     "name": "stdout",
     "output_type": "stream",
     "text": [
      "\n",
      "Epoch: 12/15, Train Loss: 0.42840710 , Val Loss: 4.49214859, Train Accuracy:99.81540084,  Val Accuracy: 95.78059072, Epoch Time: 19.83736825\n"
     ]
    },
    {
     "name": "stderr",
     "output_type": "stream",
     "text": [
      "119it [00:18,  6.48it/s]\n",
      "15it [00:01, 11.49it/s]\n"
     ]
    },
    {
     "name": "stdout",
     "output_type": "stream",
     "text": [
      "\n",
      "Epoch: 13/15, Train Loss: 0.36470670 , Val Loss: 3.99206315, Train Accuracy:99.86814346,  Val Accuracy: 95.99156118, Epoch Time: 19.95143223\n",
      "Early stopping on, 12th, epoch\n",
      "\n",
      "=====>Generating f_emb<=====\n",
      "\n",
      "torch.Size([1536])\n",
      "{'dataset': ['sldc_0_10', 'sldc_0_10', 'sldc_0_10', 'sldc_0_10', 'sldc_0_10', 'sldc_0_10', 'corales_0_14', 'corales_0_14', 'corales_0_14', 'corales_0_14', 'corales_0_14', 'corales_0_14', '6000-store-items-images-classified-by-color_imoore_0_12', '6000-store-items-images-classified-by-color_imoore_0_12', '6000-store-items-images-classified-by-color_imoore_0_12', '6000-store-items-images-classified-by-color_imoore_0_12', '6000-store-items-images-classified-by-color_imoore_0_12', '6000-store-items-images-classified-by-color_imoore_0_12', 'fcis-sc-deeplearning-competition_0_10', 'fcis-sc-deeplearning-competition_0_10', 'fcis-sc-deeplearning-competition_0_10', 'fcis-sc-deeplearning-competition_0_10', 'fcis-sc-deeplearning-competition_0_10', 'fcis-sc-deeplearning-competition_0_10', 'lego-brick-images_joosthazelzet_0_16', 'lego-brick-images_joosthazelzet_0_16', 'lego-brick-images_joosthazelzet_0_16', 'lego-brick-images_joosthazelzet_0_16', 'lego-brick-images_joosthazelzet_0_16', 'lego-brick-images_joosthazelzet_0_16', 'oregon-wildlife_virtualdvid_0_20', 'oregon-wildlife_virtualdvid_0_20', 'oregon-wildlife_virtualdvid_0_20', 'oregon-wildlife_virtualdvid_0_20', 'oregon-wildlife_virtualdvid_0_20', 'oregon-wildlife_virtualdvid_0_20', 'perritos_0_10', 'perritos_0_10', 'perritos_0_10', 'perritos_0_10', 'perritos_0_10', 'perritos_0_10', 'khu-deep-learning-competition_0_10', 'khu-deep-learning-competition_0_10', 'khu-deep-learning-competition_0_10', 'khu-deep-learning-competition_0_10', 'khu-deep-learning-competition_0_10', 'khu-deep-learning-competition_0_10', 'plant-seedlings-classification_0_12', 'plant-seedlings-classification_0_12', 'plant-seedlings-classification_0_12', 'plant-seedlings-classification_0_12', 'plant-seedlings-classification_0_12', 'plant-seedlings-classification_0_12'], 'topol': [[3, 5, 5, 5, 7, 5, 5, 7, 3, 5, 7, 7, 7, 5, 7, 5, 3, 3, 7, 3, 4, 3, 6, 3, 6, 6, 4, 4, 6, 4, 3, 6, 6, 3, 4, 6, 3, 4, 6, 3, 3, 4, 2, 4, 4], [3, 7, 7, 7, 5, 7, 5, 3, 7, 5, 3, 3, 5, 5, 3, 7, 7, 5, 3, 5, 3, 4, 6, 3, 6, 4, 6, 4, 4, 3, 3, 3, 3, 6, 6, 3, 3, 4, 6, 4, 4, 3, 2, 2, 4], [3, 7, 5, 5, 3, 7, 7, 5, 5, 5, 5, 5, 5, 7, 7, 7, 7, 7, 5, 7, 6, 6, 6, 3, 6, 3, 4, 4, 6, 6, 6, 4, 3, 6, 4, 6, 6, 4, 6, 4, 2, 3, 3, 3, 4], [7, 5, 3, 3, 5, 3, 5, 5, 5, 5, 3, 7, 7, 5, 7, 3, 3, 5, 3, 5, 3, 4, 6, 6, 6, 3, 6, 3, 6, 3, 6, 4, 4, 6, 6, 4, 6, 6, 6, 4, 2, 2, 2, 3, 2], [3, 5, 5, 7, 5, 5, 7, 3, 7, 5, 5, 5, 3, 5, 3, 7, 5, 7, 7, 3, 3, 6, 3, 3, 6, 3, 6, 6, 4, 4, 3, 4, 4, 3, 6, 6, 4, 3, 4, 3, 4, 3, 4, 4, 4], [3, 3, 5, 5, 7, 5, 5, 5, 5, 5, 3, 3, 3, 3, 3, 7, 7, 3, 5, 5, 6, 4, 3, 4, 4, 4, 3, 6, 4, 3, 6, 4, 4, 4, 6, 6, 4, 4, 3, 6, 4, 2, 4, 3, 3], [7, 7, 5, 5, 5, 5, 3, 3, 3, 5, 7, 5, 5, 3, 3, 5, 5, 5, 7, 5, 3, 4, 3, 6, 6, 4, 3, 4, 6, 6, 4, 4, 6, 4, 4, 3, 6, 4, 3, 6, 2, 4, 4, 3, 2], [3, 3, 3, 7, 7, 5, 5, 7, 7, 5, 7, 7, 7, 7, 3, 5, 7, 7, 7, 3, 6, 4, 6, 3, 3, 4, 6, 6, 3, 3, 4, 4, 4, 4, 6, 6, 3, 4, 4, 3, 2, 4, 4, 2, 3], [5, 5, 3, 5, 7, 3, 5, 7, 7, 5, 3, 7, 7, 3, 3, 7, 3, 3, 7, 3, 4, 4, 6, 6, 3, 6, 3, 6, 3, 4, 4, 6, 3, 4, 6, 3, 6, 6, 4, 4, 4, 2, 4, 4, 4], [3, 5, 3, 5, 3, 3, 7, 7, 3, 3, 5, 7, 5, 3, 7, 7, 3, 3, 3, 7, 3, 4, 6, 6, 4, 4, 6, 6, 3, 3, 3, 6, 3, 6, 3, 4, 3, 4, 6, 6, 4, 4, 4, 3, 2], [3, 7, 7, 5, 7, 3, 7, 5, 7, 7, 7, 5, 7, 5, 3, 7, 5, 5, 5, 5, 6, 3, 6, 6, 4, 6, 6, 4, 6, 6, 6, 3, 3, 3, 3, 3, 6, 6, 4, 4, 3, 4, 2, 2, 3], [7, 7, 3, 3, 5, 7, 3, 5, 5, 3, 3, 3, 5, 7, 3, 7, 7, 5, 7, 7, 6, 3, 4, 3, 3, 3, 4, 3, 3, 4, 6, 6, 6, 4, 4, 6, 6, 4, 3, 4, 2, 2, 3, 4, 3], [7, 3, 3, 3, 3, 3, 5, 7, 5, 3, 5, 5, 3, 7, 7, 7, 5, 3, 7, 5, 3, 6, 3, 6, 6, 3, 4, 3, 6, 6, 3, 4, 3, 4, 4, 3, 4, 6, 6, 4, 3, 3, 2, 3, 3], [3, 3, 7, 5, 7, 3, 5, 7, 3, 5, 3, 5, 5, 5, 5, 3, 5, 5, 3, 3, 3, 6, 6, 6, 6, 6, 4, 3, 4, 4, 6, 4, 3, 6, 3, 6, 3, 6, 4, 6, 2, 2, 2, 3, 3], [5, 3, 5, 5, 5, 5, 7, 7, 3, 7, 7, 7, 3, 3, 7, 3, 7, 5, 5, 3, 3, 3, 6, 4, 6, 4, 4, 3, 6, 4, 6, 6, 3, 6, 4, 4, 3, 4, 3, 4, 3, 3, 4, 4, 4], [5, 5, 7, 5, 5, 5, 5, 7, 3, 3, 7, 3, 7, 5, 3, 3, 5, 7, 3, 3, 4, 4, 4, 4, 3, 4, 6, 3, 4, 6, 6, 3, 6, 3, 4, 6, 6, 4, 4, 6, 2, 4, 2, 3, 3], [7, 5, 3, 3, 7, 7, 7, 7, 5, 7, 5, 3, 7, 3, 5, 7, 3, 5, 7, 5, 4, 4, 4, 6, 4, 3, 3, 6, 3, 6, 4, 6, 6, 6, 6, 6, 3, 4, 6, 4, 2, 2, 2, 4, 3], [3, 3, 3, 7, 7, 3, 3, 7, 7, 7, 7, 5, 5, 7, 7, 3, 7, 7, 5, 7, 3, 4, 3, 3, 6, 3, 6, 3, 6, 3, 6, 3, 4, 3, 3, 6, 4, 4, 3, 6, 4, 4, 2, 4, 3], [3, 7, 7, 7, 3, 5, 3, 7, 5, 3, 5, 5, 7, 3, 5, 5, 3, 7, 5, 5, 4, 3, 4, 4, 3, 4, 6, 4, 6, 4, 3, 3, 3, 3, 6, 3, 4, 6, 4, 3, 4, 2, 4, 4, 3], [7, 7, 3, 5, 5, 5, 7, 3, 3, 5, 3, 3, 5, 7, 7, 3, 3, 7, 3, 3, 3, 3, 4, 6, 4, 6, 6, 6, 4, 3, 3, 6, 6, 4, 3, 4, 6, 4, 4, 4, 2, 4, 2, 3, 2], [3, 7, 7, 3, 5, 7, 7, 5, 7, 3, 5, 7, 7, 3, 5, 5, 5, 3, 3, 5, 3, 4, 3, 4, 3, 4, 6, 3, 6, 3, 4, 3, 4, 4, 4, 6, 3, 3, 4, 3, 3, 3, 2, 4, 2], [3, 7, 5, 3, 3, 5, 5, 7, 5, 7, 3, 5, 3, 7, 7, 5, 5, 7, 3, 3, 3, 3, 4, 6, 3, 6, 4, 3, 6, 4, 6, 4, 6, 6, 6, 6, 3, 4, 3, 6, 4, 4, 2, 2, 3], [3, 7, 3, 3, 5, 7, 5, 7, 5, 7, 7, 7, 7, 3, 3, 3, 7, 3, 3, 3, 6, 4, 4, 3, 4, 6, 4, 6, 4, 6, 6, 4, 4, 3, 3, 3, 6, 4, 3, 3, 2, 4, 4, 4, 4], [5, 5, 7, 5, 7, 3, 7, 7, 7, 5, 7, 3, 5, 3, 5, 7, 3, 7, 7, 5, 4, 3, 6, 6, 6, 3, 6, 3, 6, 3, 3, 6, 4, 4, 3, 3, 3, 3, 3, 3, 3, 2, 3, 4, 2], [7, 3, 7, 3, 5, 5, 3, 3, 7, 3, 7, 7, 7, 5, 5, 5, 5, 7, 5, 5, 6, 4, 3, 3, 4, 3, 3, 4, 4, 3, 6, 6, 3, 4, 4, 6, 6, 4, 6, 3, 3, 4, 4, 4, 2], [5, 5, 3, 7, 3, 7, 7, 5, 3, 7, 7, 5, 5, 7, 7, 7, 5, 7, 5, 3, 4, 4, 3, 3, 4, 3, 4, 6, 3, 3, 3, 4, 6, 6, 4, 6, 6, 4, 3, 4, 4, 4, 4, 3, 4], [5, 5, 3, 5, 7, 3, 5, 5, 3, 5, 7, 3, 5, 3, 3, 5, 7, 7, 5, 5, 4, 3, 6, 4, 6, 6, 6, 4, 3, 6, 6, 6, 4, 4, 4, 4, 3, 4, 3, 6, 2, 4, 2, 4, 3], [5, 3, 5, 3, 5, 3, 3, 3, 7, 3, 5, 7, 5, 7, 3, 7, 7, 5, 5, 3, 6, 3, 6, 6, 3, 4, 3, 4, 6, 3, 4, 6, 3, 3, 4, 4, 6, 6, 6, 4, 3, 4, 4, 4, 3], [7, 5, 3, 7, 3, 5, 3, 5, 3, 5, 7, 3, 7, 7, 5, 7, 7, 3, 3, 3, 3, 3, 6, 4, 3, 4, 4, 3, 3, 3, 3, 4, 3, 3, 3, 3, 6, 6, 4, 4, 2, 4, 2, 4, 2], [5, 7, 7, 5, 5, 5, 7, 7, 7, 3, 5, 5, 5, 5, 3, 3, 5, 7, 3, 5, 3, 4, 4, 3, 3, 6, 6, 4, 4, 3, 4, 3, 3, 6, 4, 6, 4, 3, 3, 3, 2, 2, 4, 2, 2], [5, 5, 7, 3, 3, 3, 5, 3, 5, 5, 3, 3, 5, 7, 5, 3, 5, 3, 7, 7, 3, 3, 4, 4, 3, 3, 3, 3, 4, 6, 6, 4, 3, 4, 6, 4, 4, 4, 3, 3, 4, 4, 3, 2, 3], [3, 5, 5, 5, 7, 5, 7, 7, 5, 5, 5, 5, 5, 7, 3, 5, 7, 7, 3, 5, 6, 6, 4, 6, 3, 3, 3, 4, 4, 3, 6, 4, 4, 3, 3, 6, 6, 3, 3, 6, 3, 4, 3, 2, 2], [3, 3, 7, 5, 5, 5, 7, 7, 7, 5, 3, 3, 3, 3, 7, 5, 5, 5, 3, 3, 3, 3, 3, 6, 4, 4, 6, 4, 3, 6, 4, 3, 6, 4, 3, 6, 6, 3, 4, 6, 2, 4, 2, 3, 4], [5, 3, 3, 3, 7, 5, 7, 3, 5, 5, 3, 3, 3, 5, 3, 5, 7, 3, 5, 3, 6, 3, 4, 6, 3, 6, 4, 3, 4, 3, 4, 4, 6, 3, 4, 4, 3, 3, 6, 6, 2, 3, 3, 2, 2], [3, 7, 3, 5, 3, 7, 5, 3, 7, 7, 3, 5, 5, 3, 7, 5, 5, 7, 7, 7, 4, 6, 6, 3, 6, 6, 4, 4, 3, 6, 6, 6, 3, 3, 3, 4, 4, 6, 3, 3, 2, 4, 3, 4, 3], [3, 3, 3, 5, 3, 3, 3, 5, 7, 3, 7, 5, 3, 7, 5, 3, 7, 7, 3, 7, 6, 3, 3, 6, 3, 6, 6, 3, 6, 6, 4, 4, 4, 3, 6, 3, 6, 3, 3, 6, 2, 3, 4, 4, 4], [5, 7, 3, 7, 3, 7, 5, 5, 5, 7, 7, 3, 3, 3, 7, 3, 5, 5, 3, 5, 6, 4, 6, 6, 6, 4, 6, 3, 4, 4, 3, 3, 6, 6, 4, 3, 4, 3, 6, 4, 2, 2, 3, 4, 3], [3, 3, 3, 3, 5, 7, 5, 3, 3, 7, 3, 3, 5, 3, 3, 3, 3, 3, 3, 3, 6, 3, 6, 4, 4, 3, 6, 6, 3, 6, 6, 3, 6, 6, 6, 3, 4, 3, 3, 4, 4, 3, 2, 4, 2], [5, 5, 7, 3, 3, 3, 7, 5, 7, 7, 3, 7, 5, 3, 5, 7, 7, 5, 5, 5, 4, 4, 3, 4, 3, 3, 6, 6, 6, 3, 4, 6, 6, 3, 3, 4, 6, 6, 6, 3, 2, 3, 3, 2, 3], [3, 3, 3, 3, 5, 3, 5, 3, 7, 3, 5, 5, 7, 3, 5, 7, 3, 5, 5, 7, 4, 3, 6, 4, 3, 6, 6, 4, 4, 4, 3, 6, 6, 3, 3, 6, 3, 3, 6, 6, 3, 2, 2, 4, 3], [3, 7, 5, 5, 7, 5, 7, 3, 3, 5, 5, 3, 5, 3, 5, 3, 3, 7, 3, 3, 3, 4, 4, 6, 6, 6, 3, 6, 6, 4, 3, 6, 6, 6, 6, 4, 3, 3, 3, 6, 3, 4, 4, 4, 2], [5, 7, 3, 3, 7, 5, 7, 5, 3, 3, 5, 5, 7, 3, 3, 7, 7, 3, 5, 5, 6, 3, 6, 6, 6, 3, 6, 6, 4, 3, 6, 3, 3, 3, 3, 3, 4, 6, 3, 3, 2, 2, 4, 2, 3], [3, 7, 5, 5, 5, 3, 7, 5, 7, 5, 3, 3, 5, 3, 3, 7, 3, 7, 3, 5, 3, 4, 3, 6, 4, 3, 3, 4, 4, 6, 6, 3, 3, 3, 6, 6, 4, 4, 3, 6, 4, 4, 4, 3, 4], [5, 3, 5, 3, 5, 3, 7, 3, 3, 5, 5, 3, 5, 7, 5, 7, 7, 5, 3, 7, 4, 4, 6, 3, 3, 6, 3, 3, 3, 3, 4, 4, 3, 6, 4, 3, 6, 3, 3, 3, 4, 3, 3, 2, 2], [7, 7, 5, 3, 7, 7, 3, 7, 5, 5, 7, 3, 3, 5, 7, 7, 5, 5, 5, 3, 4, 3, 4, 6, 3, 4, 6, 3, 3, 6, 3, 6, 3, 4, 3, 3, 6, 4, 3, 3, 3, 2, 4, 2, 2], [3, 7, 5, 3, 7, 7, 7, 5, 3, 3, 7, 7, 7, 5, 7, 5, 5, 5, 7, 5, 6, 3, 6, 4, 3, 3, 4, 6, 3, 4, 3, 6, 3, 4, 3, 3, 4, 3, 4, 4, 3, 3, 4, 4, 4], [5, 7, 7, 7, 7, 5, 5, 7, 7, 5, 7, 5, 5, 7, 7, 5, 7, 3, 3, 3, 6, 3, 6, 3, 4, 4, 4, 4, 6, 6, 4, 3, 4, 3, 6, 3, 3, 3, 4, 4, 4, 4, 4, 4, 3], [5, 5, 3, 3, 3, 7, 3, 3, 3, 7, 3, 5, 7, 5, 5, 7, 7, 3, 5, 7, 6, 3, 4, 3, 3, 4, 3, 3, 3, 3, 4, 3, 3, 6, 4, 6, 6, 4, 6, 3, 2, 3, 4, 3, 3], [3, 5, 3, 5, 3, 3, 5, 7, 3, 7, 3, 3, 3, 5, 3, 7, 7, 7, 5, 7, 3, 4, 3, 6, 3, 4, 3, 4, 4, 4, 3, 4, 3, 4, 6, 4, 4, 3, 3, 4, 3, 4, 3, 4, 2], [3, 5, 3, 3, 5, 7, 3, 5, 3, 7, 7, 3, 7, 5, 7, 3, 7, 5, 5, 3, 4, 4, 4, 4, 3, 4, 4, 4, 3, 6, 6, 6, 4, 6, 3, 4, 6, 6, 6, 4, 2, 2, 4, 3, 4], [3, 3, 7, 7, 5, 5, 3, 3, 3, 5, 5, 7, 7, 5, 7, 3, 5, 3, 3, 5, 4, 6, 6, 3, 6, 3, 3, 4, 6, 3, 4, 6, 4, 3, 6, 4, 6, 4, 4, 3, 4, 3, 2, 2, 2], [3, 3, 7, 5, 7, 5, 3, 5, 3, 5, 7, 3, 5, 3, 7, 3, 7, 5, 7, 7, 6, 4, 6, 6, 6, 3, 3, 3, 6, 4, 3, 6, 3, 3, 3, 4, 4, 6, 3, 3, 2, 2, 2, 4, 4], [5, 5, 3, 7, 5, 5, 7, 7, 3, 5, 3, 7, 5, 5, 5, 5, 3, 7, 5, 3, 3, 3, 4, 6, 6, 3, 4, 6, 6, 4, 3, 6, 3, 4, 4, 4, 4, 3, 4, 3, 2, 3, 4, 3, 3], [5, 3, 5, 7, 3, 7, 7, 3, 3, 7, 7, 3, 5, 3, 7, 7, 3, 5, 5, 3, 6, 6, 4, 4, 3, 6, 3, 4, 6, 4, 3, 6, 3, 6, 6, 4, 4, 4, 4, 3, 4, 2, 2, 2, 2]], 'f_emb': [tensor([-0., -0., -0.,  ..., -0., -0., -0.]), tensor([-0., -0., -0.,  ..., -0., -0., -0.]), tensor([1226.8495,   -0.0000,   -0.0000,  ...,   -0.0000,   -0.0000,\n",
      "          -0.0000]), tensor([-0., -0., -0.,  ..., -0., -0., -0.]), tensor([188.3607,  -0.0000,  -0.0000,  ...,  -0.0000,  -0.0000, 213.2732]), tensor([-0., -0., -0.,  ..., -0., -0., -0.]), tensor([-0., -0., -0.,  ..., -0., -0., -0.]), tensor([-0.0000, -0.0000, -0.0000,  ..., -0.0000, -0.0000, 9.9611]), tensor([38.6843, -0.0000, -0.0000,  ..., -0.0000, -0.0000, -0.0000]), tensor([ 0.5262, -0.3664,  0.4536,  ..., -0.3597, -0.2121, -0.3281]), tensor([-0., -0., -0.,  ..., -0., -0., -0.]), tensor([-0.0000, -0.0000, -0.0000,  ..., 30.1783, -0.0000,  3.6916]), tensor([-0., -0., -0.,  ..., -0., -0., -0.]), tensor([-0., -0., -0.,  ..., -0., -0., -0.]), tensor([18.3999, -0.0000, -0.0000,  ..., -0.0000, -0.0000, 45.3672]), tensor([ 0.2349,  0.1743,  0.1660,  ...,  0.3616,  0.0957, -0.3534]), tensor([-0.2793, -0.3249, -0.3683,  ..., -0.0000, -0.0000, -0.3627]), tensor([ 0.0759, -0.3346, -0.2591,  ...,  0.4824, -0.2551, -0.1757]), tensor([ 0.4264, -0.1865, -0.1025,  ..., -0.1637,  0.7777, -0.3373]), tensor([ 0.4347, -0.2336, -0.2793,  ..., -0.3347, -0.3469, -0.1162]), tensor([ 0.0104,  0.4655, -0.3177,  ..., -0.1076,  0.8267, -0.3667]), tensor([ 0.0873,  0.1475, -0.3670,  ..., -0.1698,  0.0327, -0.3572]), tensor([322.7029,  -0.0000,  83.4842,  ...,  -0.0000,  -0.0000,  -0.0000]), tensor([-0.3365, -0.0309, -0.3139,  ...,  0.1455, -0.3260, -0.3622]), tensor([-0.0000, -0.0000, -0.0000,  ..., -0.0000, -0.0000, 3.1642]), tensor([    -0.0000,     -0.0000, 159417.2812,  ...,     -0.0000,\n",
      "            -0.0000, 179515.1562]), tensor([-0.0014, -0.3527, -0.0000,  ..., -0.0000, -0.0000, -0.0000]), tensor([6770305.5000,      -0.0000,      -0.0000,  ...,      -0.0000,\n",
      "             -0.0000,      -0.0000]), tensor([1609.9169,   -0.0000,   -0.0000,  ...,   -0.0000,   -0.0000,\n",
      "          -0.0000]), tensor([-0., -0., -0.,  ..., -0., -0., -0.]), tensor([-0.0067, -0.3482, -0.3706,  ..., -0.3683, -0.0611,  0.0504]), tensor([ 1.4714, -0.0000, -0.0945,  ..., -0.2832, -0.0000, -0.3679]), tensor([ 1.7539, 21.7252, -0.0000,  ..., -0.0000, -0.0000, 13.5089]), tensor([-0.3179, -0.3455, -0.3743,  ..., -0.2527,  0.1497, -0.0043]), tensor([-0.3241, -0.2744, -0.1231,  ..., -0.1582, -0.2237, -0.0000]), tensor([-0.1600,  3.9948, -0.0000,  ..., -0.0000, -0.0000,  8.6842]), tensor([-0.1209,  0.0394, -0.3112,  ..., -0.2695, -0.1538, -0.1348]), tensor([255.8073,  -0.0000, 140.1278,  ...,  -0.0000,  -0.0000,  -0.0000]), tensor([-0., -0., -0.,  ..., -0., -0., -0.]), tensor([-0.0667, -0.2547, -0.3669,  ...,  0.1411, -0.0529, -0.0764]), tensor([ 0.0093, -0.3176, -0.3739,  ..., -0.1065,  0.4898, -0.3551]), tensor([-0.3701, -0.1757, -0.3706,  ..., -0.3319, -0.2591,  0.1290]), tensor([-0.3745, -0.1032, -0.1967,  ..., -0.0000, -0.0000, -0.0593]), tensor([-0.3677, -0.2142, -0.0000,  ..., -0.0000, -0.0000, -0.3277]), tensor([-0., -0., -0.,  ..., -0., -0., -0.]), tensor([3.1169, -0.0000, -0.0000,  ..., -0.0000, -0.0000, 8.0993]), tensor([-0.2472, -0.3239, -0.2829,  ..., -0.3483, -0.2882, -0.2494]), tensor([-0.3634, -0.3321, -0.1018,  ..., -0.3687, -0.3750, -0.2305]), tensor([-0.1774, -0.3653, -0.2880,  ..., -0.3545, -0.3617, -0.3650]), tensor([8691.3945,   -0.0000,   -0.0000,  ...,   -0.0000,   -0.0000,\n",
      "        8597.5059]), tensor([9.0331, -0.0000, -0.0000,  ..., -0.0000, -0.0000, -0.0000]), tensor([42.5141, -0.0000, -0.0000,  ..., -0.0000, -0.0000, -0.0000]), tensor([65.9789, -0.0000, -0.0000,  ..., -0.0000, -0.0000, -0.0000]), tensor([-0., -0., -0.,  ..., -0., -0., -0.])], 'acc': [99.51923076923077, 99.03846153846153, 99.51923076923077, 99.51923076923077, 99.51923076923077, 99.51923076923077, 98.38709677419355, 96.7741935483871, 98.38709677419355, 98.38709677419355, 8.064516129032258, 96.7741935483871, 77.08333333333333, 76.4423076923077, 78.68589743589743, 77.40384615384616, 77.24358974358974, 78.36538461538461, 94.23076923076923, 75.64102564102564, 90.7051282051282, 94.23076923076923, 91.34615384615384, 94.23076923076923, 99.52978056426332, 99.3730407523511, 99.68652037617555, 99.68652037617555, 100.0, 99.3730407523511, 84.88700564971751, 87.99435028248588, 86.7231638418079, 85.73446327683615, 87.99435028248588, 86.44067796610169, 96.6740576496674, 97.11751662971176, 97.00665188470066, 97.22838137472284, 96.6740576496674, 95.56541019955654, 94.0, 94.6, 94.0, 95.0, 95.2, 95.0, 97.46835443037975, 95.78059071729957, 95.78059071729957, 95.78059071729957, 97.0464135021097, 95.9915611814346], 'n_params': [6228442, 5625114, 6570290, 5347354, 5825218, 4821626, 4711646, 4554646, 6688342, 4317614, 5203934, 5550702, 5717244, 5151700, 5773028, 5059684, 6364428, 4930308, 5608818, 4493962, 4318938, 4537954, 5514050, 3861938, 5155304, 6005320, 4798208, 6420784, 4792312, 3845304, 4249220, 3881348, 5982340, 3517428, 5327428, 6367692, 5599490, 4745802, 5815994, 5362738, 5007786, 4598522, 5921562, 4126858, 4121234, 5318114, 5013634, 5773418, 4451268, 7041756, 3900292, 5413740, 4585324, 3943980]}\n",
      "\n",
      "=====> GENERATING QUERIES <=====\n",
      "\n",
      "query_shape_train: 32, each tensor:torch.Size([512])\n"
     ]
    },
    {
     "name": "stderr",
     "output_type": "stream",
     "text": [
      "Using cache found in /root/.cache/torch/hub/mit-han-lab_once-for-all_master\n"
     ]
    },
    {
     "name": "stdout",
     "output_type": "stream",
     "text": [
      "query_shape_test: 32, each tensor:torch.Size([512])\n",
      "x_query:32, x_query-test :32\n",
      "\n",
      "=====>SAVING plant-seedlings-classification_0_12 in m_train.pt <=====\n",
      "\n",
      "quesry_dataset skin-cancer9-classesisic_nodoubttome_0_9\n",
      "\n",
      "Dataset : skin-cancer9-classesisic_nodoubttome_0_9, nclss:9\n",
      "\n",
      "\n",
      "=====> Generating 1th network  <=====\n",
      "\n",
      "\n",
      "=====>Generating sub_net<=====\n",
      "\n",
      "\n",
      "=====> Training started <=====\n",
      "\n",
      "Starting Training for:skin-cancer9-classesisic_nodoubttome_0_9 with model topology:[5, 3, 7, 5, 5, 3, 3, 3, 7, 7, 3, 7, 3, 3, 7, 7, 7, 7, 3, 5, 4, 3, 3, 6, 6, 3, 3, 6, 6, 4, 3, 4, 3, 4, 4, 6, 6, 3, 4, 6, 2, 2, 3, 3, 4]\n"
     ]
    },
    {
     "name": "stderr",
     "output_type": "stream",
     "text": [
      "56it [00:11,  5.01it/s]\n",
      "7it [00:01,  4.31it/s]\n"
     ]
    },
    {
     "name": "stdout",
     "output_type": "stream",
     "text": [
      "\n",
      "Epoch: 1/15, Train Loss: 54.04613129 , Val Loss: 48.43043954, Train Accuracy:44.20168067,  Val Accuracy: 48.66071429, Epoch Time: 13.04484296\n"
     ]
    },
    {
     "name": "stderr",
     "output_type": "stream",
     "text": [
      "56it [00:09,  6.01it/s]\n",
      "7it [00:01,  5.42it/s]\n"
     ]
    },
    {
     "name": "stdout",
     "output_type": "stream",
     "text": [
      "\n",
      "Epoch: 2/15, Train Loss: 30.81326874 , Val Loss: 35.37366431, Train Accuracy:68.51540616,  Val Accuracy: 62.05357143, Epoch Time: 10.84304261\n"
     ]
    },
    {
     "name": "stderr",
     "output_type": "stream",
     "text": [
      "56it [00:09,  5.71it/s]\n",
      "7it [00:01,  5.50it/s]\n"
     ]
    },
    {
     "name": "stdout",
     "output_type": "stream",
     "text": [
      "\n",
      "Epoch: 3/15, Train Loss: 26.98588309 , Val Loss: 51.96859550, Train Accuracy:70.36414566,  Val Accuracy: 40.17857143, Epoch Time: 11.36399841\n"
     ]
    },
    {
     "name": "stderr",
     "output_type": "stream",
     "text": [
      "56it [00:09,  6.13it/s]\n",
      "7it [00:01,  5.41it/s]\n"
     ]
    },
    {
     "name": "stdout",
     "output_type": "stream",
     "text": [
      "\n",
      "Epoch: 4/15, Train Loss: 29.20182764 , Val Loss: 31.16012028, Train Accuracy:67.00280112,  Val Accuracy: 60.71428571, Epoch Time: 10.68657541\n"
     ]
    },
    {
     "name": "stderr",
     "output_type": "stream",
     "text": [
      "56it [00:09,  6.03it/s]\n",
      "7it [00:01,  5.01it/s]\n"
     ]
    },
    {
     "name": "stdout",
     "output_type": "stream",
     "text": [
      "\n",
      "Epoch: 5/15, Train Loss: 19.37453356 , Val Loss: 35.09157263, Train Accuracy:77.59103641,  Val Accuracy: 57.58928571, Epoch Time: 10.93682384\n"
     ]
    },
    {
     "name": "stderr",
     "output_type": "stream",
     "text": [
      "56it [00:09,  5.75it/s]\n",
      "7it [00:01,  5.33it/s]\n"
     ]
    },
    {
     "name": "stdout",
     "output_type": "stream",
     "text": [
      "\n",
      "Epoch: 6/15, Train Loss: 14.07559188 , Val Loss: 29.39879744, Train Accuracy:84.03361345,  Val Accuracy: 63.83928571, Epoch Time: 11.27431345\n"
     ]
    },
    {
     "name": "stderr",
     "output_type": "stream",
     "text": [
      "56it [00:09,  5.98it/s]\n",
      "7it [00:01,  5.39it/s]\n"
     ]
    },
    {
     "name": "stdout",
     "output_type": "stream",
     "text": [
      "\n",
      "Epoch: 7/15, Train Loss: 9.70339115 , Val Loss: 29.43006679, Train Accuracy:88.62745098,  Val Accuracy: 66.51785714, Epoch Time: 10.89637733\n"
     ]
    },
    {
     "name": "stderr",
     "output_type": "stream",
     "text": [
      "56it [00:09,  6.18it/s]\n",
      "7it [00:01,  5.09it/s]\n"
     ]
    },
    {
     "name": "stdout",
     "output_type": "stream",
     "text": [
      "\n",
      "Epoch: 8/15, Train Loss: 7.19355688 , Val Loss: 31.39131246, Train Accuracy:91.14845938,  Val Accuracy: 63.39285714, Epoch Time: 10.69586992\n"
     ]
    },
    {
     "name": "stderr",
     "output_type": "stream",
     "text": [
      "56it [00:09,  5.75it/s]\n",
      "7it [00:01,  5.48it/s]\n"
     ]
    },
    {
     "name": "stdout",
     "output_type": "stream",
     "text": [
      "\n",
      "Epoch: 9/15, Train Loss: 6.67755777 , Val Loss: 29.58133670, Train Accuracy:91.70868347,  Val Accuracy: 66.51785714, Epoch Time: 11.25167871\n"
     ]
    },
    {
     "name": "stderr",
     "output_type": "stream",
     "text": [
      "56it [00:09,  6.01it/s]\n",
      "7it [00:01,  5.31it/s]\n"
     ]
    },
    {
     "name": "stdout",
     "output_type": "stream",
     "text": [
      "\n",
      "Epoch: 10/15, Train Loss: 6.06862333 , Val Loss: 32.00364195, Train Accuracy:90.98039216,  Val Accuracy: 65.17857143, Epoch Time: 10.89949584\n"
     ]
    },
    {
     "name": "stderr",
     "output_type": "stream",
     "text": [
      "56it [00:09,  6.03it/s]\n",
      "7it [00:01,  5.21it/s]\n"
     ]
    },
    {
     "name": "stdout",
     "output_type": "stream",
     "text": [
      "\n",
      "Epoch: 11/15, Train Loss: 5.90647423 , Val Loss: 32.72616277, Train Accuracy:92.60504202,  Val Accuracy: 67.41071429, Epoch Time: 10.87113476\n",
      "Early stopping on, 10th, epoch\n",
      "\n",
      "=====>Generating f_emb<=====\n",
      "\n",
      "torch.Size([1536])\n",
      "{'dataset': ['sldc_0_10', 'sldc_0_10', 'sldc_0_10', 'sldc_0_10', 'sldc_0_10', 'sldc_0_10', 'corales_0_14', 'corales_0_14', 'corales_0_14', 'corales_0_14', 'corales_0_14', 'corales_0_14', '6000-store-items-images-classified-by-color_imoore_0_12', '6000-store-items-images-classified-by-color_imoore_0_12', '6000-store-items-images-classified-by-color_imoore_0_12', '6000-store-items-images-classified-by-color_imoore_0_12', '6000-store-items-images-classified-by-color_imoore_0_12', '6000-store-items-images-classified-by-color_imoore_0_12', 'fcis-sc-deeplearning-competition_0_10', 'fcis-sc-deeplearning-competition_0_10', 'fcis-sc-deeplearning-competition_0_10', 'fcis-sc-deeplearning-competition_0_10', 'fcis-sc-deeplearning-competition_0_10', 'fcis-sc-deeplearning-competition_0_10', 'lego-brick-images_joosthazelzet_0_16', 'lego-brick-images_joosthazelzet_0_16', 'lego-brick-images_joosthazelzet_0_16', 'lego-brick-images_joosthazelzet_0_16', 'lego-brick-images_joosthazelzet_0_16', 'lego-brick-images_joosthazelzet_0_16', 'oregon-wildlife_virtualdvid_0_20', 'oregon-wildlife_virtualdvid_0_20', 'oregon-wildlife_virtualdvid_0_20', 'oregon-wildlife_virtualdvid_0_20', 'oregon-wildlife_virtualdvid_0_20', 'oregon-wildlife_virtualdvid_0_20', 'perritos_0_10', 'perritos_0_10', 'perritos_0_10', 'perritos_0_10', 'perritos_0_10', 'perritos_0_10', 'khu-deep-learning-competition_0_10', 'khu-deep-learning-competition_0_10', 'khu-deep-learning-competition_0_10', 'khu-deep-learning-competition_0_10', 'khu-deep-learning-competition_0_10', 'khu-deep-learning-competition_0_10', 'plant-seedlings-classification_0_12', 'plant-seedlings-classification_0_12', 'plant-seedlings-classification_0_12', 'plant-seedlings-classification_0_12', 'plant-seedlings-classification_0_12', 'plant-seedlings-classification_0_12', 'skin-cancer9-classesisic_nodoubttome_0_9'], 'topol': [[3, 5, 5, 5, 7, 5, 5, 7, 3, 5, 7, 7, 7, 5, 7, 5, 3, 3, 7, 3, 4, 3, 6, 3, 6, 6, 4, 4, 6, 4, 3, 6, 6, 3, 4, 6, 3, 4, 6, 3, 3, 4, 2, 4, 4], [3, 7, 7, 7, 5, 7, 5, 3, 7, 5, 3, 3, 5, 5, 3, 7, 7, 5, 3, 5, 3, 4, 6, 3, 6, 4, 6, 4, 4, 3, 3, 3, 3, 6, 6, 3, 3, 4, 6, 4, 4, 3, 2, 2, 4], [3, 7, 5, 5, 3, 7, 7, 5, 5, 5, 5, 5, 5, 7, 7, 7, 7, 7, 5, 7, 6, 6, 6, 3, 6, 3, 4, 4, 6, 6, 6, 4, 3, 6, 4, 6, 6, 4, 6, 4, 2, 3, 3, 3, 4], [7, 5, 3, 3, 5, 3, 5, 5, 5, 5, 3, 7, 7, 5, 7, 3, 3, 5, 3, 5, 3, 4, 6, 6, 6, 3, 6, 3, 6, 3, 6, 4, 4, 6, 6, 4, 6, 6, 6, 4, 2, 2, 2, 3, 2], [3, 5, 5, 7, 5, 5, 7, 3, 7, 5, 5, 5, 3, 5, 3, 7, 5, 7, 7, 3, 3, 6, 3, 3, 6, 3, 6, 6, 4, 4, 3, 4, 4, 3, 6, 6, 4, 3, 4, 3, 4, 3, 4, 4, 4], [3, 3, 5, 5, 7, 5, 5, 5, 5, 5, 3, 3, 3, 3, 3, 7, 7, 3, 5, 5, 6, 4, 3, 4, 4, 4, 3, 6, 4, 3, 6, 4, 4, 4, 6, 6, 4, 4, 3, 6, 4, 2, 4, 3, 3], [7, 7, 5, 5, 5, 5, 3, 3, 3, 5, 7, 5, 5, 3, 3, 5, 5, 5, 7, 5, 3, 4, 3, 6, 6, 4, 3, 4, 6, 6, 4, 4, 6, 4, 4, 3, 6, 4, 3, 6, 2, 4, 4, 3, 2], [3, 3, 3, 7, 7, 5, 5, 7, 7, 5, 7, 7, 7, 7, 3, 5, 7, 7, 7, 3, 6, 4, 6, 3, 3, 4, 6, 6, 3, 3, 4, 4, 4, 4, 6, 6, 3, 4, 4, 3, 2, 4, 4, 2, 3], [5, 5, 3, 5, 7, 3, 5, 7, 7, 5, 3, 7, 7, 3, 3, 7, 3, 3, 7, 3, 4, 4, 6, 6, 3, 6, 3, 6, 3, 4, 4, 6, 3, 4, 6, 3, 6, 6, 4, 4, 4, 2, 4, 4, 4], [3, 5, 3, 5, 3, 3, 7, 7, 3, 3, 5, 7, 5, 3, 7, 7, 3, 3, 3, 7, 3, 4, 6, 6, 4, 4, 6, 6, 3, 3, 3, 6, 3, 6, 3, 4, 3, 4, 6, 6, 4, 4, 4, 3, 2], [3, 7, 7, 5, 7, 3, 7, 5, 7, 7, 7, 5, 7, 5, 3, 7, 5, 5, 5, 5, 6, 3, 6, 6, 4, 6, 6, 4, 6, 6, 6, 3, 3, 3, 3, 3, 6, 6, 4, 4, 3, 4, 2, 2, 3], [7, 7, 3, 3, 5, 7, 3, 5, 5, 3, 3, 3, 5, 7, 3, 7, 7, 5, 7, 7, 6, 3, 4, 3, 3, 3, 4, 3, 3, 4, 6, 6, 6, 4, 4, 6, 6, 4, 3, 4, 2, 2, 3, 4, 3], [7, 3, 3, 3, 3, 3, 5, 7, 5, 3, 5, 5, 3, 7, 7, 7, 5, 3, 7, 5, 3, 6, 3, 6, 6, 3, 4, 3, 6, 6, 3, 4, 3, 4, 4, 3, 4, 6, 6, 4, 3, 3, 2, 3, 3], [3, 3, 7, 5, 7, 3, 5, 7, 3, 5, 3, 5, 5, 5, 5, 3, 5, 5, 3, 3, 3, 6, 6, 6, 6, 6, 4, 3, 4, 4, 6, 4, 3, 6, 3, 6, 3, 6, 4, 6, 2, 2, 2, 3, 3], [5, 3, 5, 5, 5, 5, 7, 7, 3, 7, 7, 7, 3, 3, 7, 3, 7, 5, 5, 3, 3, 3, 6, 4, 6, 4, 4, 3, 6, 4, 6, 6, 3, 6, 4, 4, 3, 4, 3, 4, 3, 3, 4, 4, 4], [5, 5, 7, 5, 5, 5, 5, 7, 3, 3, 7, 3, 7, 5, 3, 3, 5, 7, 3, 3, 4, 4, 4, 4, 3, 4, 6, 3, 4, 6, 6, 3, 6, 3, 4, 6, 6, 4, 4, 6, 2, 4, 2, 3, 3], [7, 5, 3, 3, 7, 7, 7, 7, 5, 7, 5, 3, 7, 3, 5, 7, 3, 5, 7, 5, 4, 4, 4, 6, 4, 3, 3, 6, 3, 6, 4, 6, 6, 6, 6, 6, 3, 4, 6, 4, 2, 2, 2, 4, 3], [3, 3, 3, 7, 7, 3, 3, 7, 7, 7, 7, 5, 5, 7, 7, 3, 7, 7, 5, 7, 3, 4, 3, 3, 6, 3, 6, 3, 6, 3, 6, 3, 4, 3, 3, 6, 4, 4, 3, 6, 4, 4, 2, 4, 3], [3, 7, 7, 7, 3, 5, 3, 7, 5, 3, 5, 5, 7, 3, 5, 5, 3, 7, 5, 5, 4, 3, 4, 4, 3, 4, 6, 4, 6, 4, 3, 3, 3, 3, 6, 3, 4, 6, 4, 3, 4, 2, 4, 4, 3], [7, 7, 3, 5, 5, 5, 7, 3, 3, 5, 3, 3, 5, 7, 7, 3, 3, 7, 3, 3, 3, 3, 4, 6, 4, 6, 6, 6, 4, 3, 3, 6, 6, 4, 3, 4, 6, 4, 4, 4, 2, 4, 2, 3, 2], [3, 7, 7, 3, 5, 7, 7, 5, 7, 3, 5, 7, 7, 3, 5, 5, 5, 3, 3, 5, 3, 4, 3, 4, 3, 4, 6, 3, 6, 3, 4, 3, 4, 4, 4, 6, 3, 3, 4, 3, 3, 3, 2, 4, 2], [3, 7, 5, 3, 3, 5, 5, 7, 5, 7, 3, 5, 3, 7, 7, 5, 5, 7, 3, 3, 3, 3, 4, 6, 3, 6, 4, 3, 6, 4, 6, 4, 6, 6, 6, 6, 3, 4, 3, 6, 4, 4, 2, 2, 3], [3, 7, 3, 3, 5, 7, 5, 7, 5, 7, 7, 7, 7, 3, 3, 3, 7, 3, 3, 3, 6, 4, 4, 3, 4, 6, 4, 6, 4, 6, 6, 4, 4, 3, 3, 3, 6, 4, 3, 3, 2, 4, 4, 4, 4], [5, 5, 7, 5, 7, 3, 7, 7, 7, 5, 7, 3, 5, 3, 5, 7, 3, 7, 7, 5, 4, 3, 6, 6, 6, 3, 6, 3, 6, 3, 3, 6, 4, 4, 3, 3, 3, 3, 3, 3, 3, 2, 3, 4, 2], [7, 3, 7, 3, 5, 5, 3, 3, 7, 3, 7, 7, 7, 5, 5, 5, 5, 7, 5, 5, 6, 4, 3, 3, 4, 3, 3, 4, 4, 3, 6, 6, 3, 4, 4, 6, 6, 4, 6, 3, 3, 4, 4, 4, 2], [5, 5, 3, 7, 3, 7, 7, 5, 3, 7, 7, 5, 5, 7, 7, 7, 5, 7, 5, 3, 4, 4, 3, 3, 4, 3, 4, 6, 3, 3, 3, 4, 6, 6, 4, 6, 6, 4, 3, 4, 4, 4, 4, 3, 4], [5, 5, 3, 5, 7, 3, 5, 5, 3, 5, 7, 3, 5, 3, 3, 5, 7, 7, 5, 5, 4, 3, 6, 4, 6, 6, 6, 4, 3, 6, 6, 6, 4, 4, 4, 4, 3, 4, 3, 6, 2, 4, 2, 4, 3], [5, 3, 5, 3, 5, 3, 3, 3, 7, 3, 5, 7, 5, 7, 3, 7, 7, 5, 5, 3, 6, 3, 6, 6, 3, 4, 3, 4, 6, 3, 4, 6, 3, 3, 4, 4, 6, 6, 6, 4, 3, 4, 4, 4, 3], [7, 5, 3, 7, 3, 5, 3, 5, 3, 5, 7, 3, 7, 7, 5, 7, 7, 3, 3, 3, 3, 3, 6, 4, 3, 4, 4, 3, 3, 3, 3, 4, 3, 3, 3, 3, 6, 6, 4, 4, 2, 4, 2, 4, 2], [5, 7, 7, 5, 5, 5, 7, 7, 7, 3, 5, 5, 5, 5, 3, 3, 5, 7, 3, 5, 3, 4, 4, 3, 3, 6, 6, 4, 4, 3, 4, 3, 3, 6, 4, 6, 4, 3, 3, 3, 2, 2, 4, 2, 2], [5, 5, 7, 3, 3, 3, 5, 3, 5, 5, 3, 3, 5, 7, 5, 3, 5, 3, 7, 7, 3, 3, 4, 4, 3, 3, 3, 3, 4, 6, 6, 4, 3, 4, 6, 4, 4, 4, 3, 3, 4, 4, 3, 2, 3], [3, 5, 5, 5, 7, 5, 7, 7, 5, 5, 5, 5, 5, 7, 3, 5, 7, 7, 3, 5, 6, 6, 4, 6, 3, 3, 3, 4, 4, 3, 6, 4, 4, 3, 3, 6, 6, 3, 3, 6, 3, 4, 3, 2, 2], [3, 3, 7, 5, 5, 5, 7, 7, 7, 5, 3, 3, 3, 3, 7, 5, 5, 5, 3, 3, 3, 3, 3, 6, 4, 4, 6, 4, 3, 6, 4, 3, 6, 4, 3, 6, 6, 3, 4, 6, 2, 4, 2, 3, 4], [5, 3, 3, 3, 7, 5, 7, 3, 5, 5, 3, 3, 3, 5, 3, 5, 7, 3, 5, 3, 6, 3, 4, 6, 3, 6, 4, 3, 4, 3, 4, 4, 6, 3, 4, 4, 3, 3, 6, 6, 2, 3, 3, 2, 2], [3, 7, 3, 5, 3, 7, 5, 3, 7, 7, 3, 5, 5, 3, 7, 5, 5, 7, 7, 7, 4, 6, 6, 3, 6, 6, 4, 4, 3, 6, 6, 6, 3, 3, 3, 4, 4, 6, 3, 3, 2, 4, 3, 4, 3], [3, 3, 3, 5, 3, 3, 3, 5, 7, 3, 7, 5, 3, 7, 5, 3, 7, 7, 3, 7, 6, 3, 3, 6, 3, 6, 6, 3, 6, 6, 4, 4, 4, 3, 6, 3, 6, 3, 3, 6, 2, 3, 4, 4, 4], [5, 7, 3, 7, 3, 7, 5, 5, 5, 7, 7, 3, 3, 3, 7, 3, 5, 5, 3, 5, 6, 4, 6, 6, 6, 4, 6, 3, 4, 4, 3, 3, 6, 6, 4, 3, 4, 3, 6, 4, 2, 2, 3, 4, 3], [3, 3, 3, 3, 5, 7, 5, 3, 3, 7, 3, 3, 5, 3, 3, 3, 3, 3, 3, 3, 6, 3, 6, 4, 4, 3, 6, 6, 3, 6, 6, 3, 6, 6, 6, 3, 4, 3, 3, 4, 4, 3, 2, 4, 2], [5, 5, 7, 3, 3, 3, 7, 5, 7, 7, 3, 7, 5, 3, 5, 7, 7, 5, 5, 5, 4, 4, 3, 4, 3, 3, 6, 6, 6, 3, 4, 6, 6, 3, 3, 4, 6, 6, 6, 3, 2, 3, 3, 2, 3], [3, 3, 3, 3, 5, 3, 5, 3, 7, 3, 5, 5, 7, 3, 5, 7, 3, 5, 5, 7, 4, 3, 6, 4, 3, 6, 6, 4, 4, 4, 3, 6, 6, 3, 3, 6, 3, 3, 6, 6, 3, 2, 2, 4, 3], [3, 7, 5, 5, 7, 5, 7, 3, 3, 5, 5, 3, 5, 3, 5, 3, 3, 7, 3, 3, 3, 4, 4, 6, 6, 6, 3, 6, 6, 4, 3, 6, 6, 6, 6, 4, 3, 3, 3, 6, 3, 4, 4, 4, 2], [5, 7, 3, 3, 7, 5, 7, 5, 3, 3, 5, 5, 7, 3, 3, 7, 7, 3, 5, 5, 6, 3, 6, 6, 6, 3, 6, 6, 4, 3, 6, 3, 3, 3, 3, 3, 4, 6, 3, 3, 2, 2, 4, 2, 3], [3, 7, 5, 5, 5, 3, 7, 5, 7, 5, 3, 3, 5, 3, 3, 7, 3, 7, 3, 5, 3, 4, 3, 6, 4, 3, 3, 4, 4, 6, 6, 3, 3, 3, 6, 6, 4, 4, 3, 6, 4, 4, 4, 3, 4], [5, 3, 5, 3, 5, 3, 7, 3, 3, 5, 5, 3, 5, 7, 5, 7, 7, 5, 3, 7, 4, 4, 6, 3, 3, 6, 3, 3, 3, 3, 4, 4, 3, 6, 4, 3, 6, 3, 3, 3, 4, 3, 3, 2, 2], [7, 7, 5, 3, 7, 7, 3, 7, 5, 5, 7, 3, 3, 5, 7, 7, 5, 5, 5, 3, 4, 3, 4, 6, 3, 4, 6, 3, 3, 6, 3, 6, 3, 4, 3, 3, 6, 4, 3, 3, 3, 2, 4, 2, 2], [3, 7, 5, 3, 7, 7, 7, 5, 3, 3, 7, 7, 7, 5, 7, 5, 5, 5, 7, 5, 6, 3, 6, 4, 3, 3, 4, 6, 3, 4, 3, 6, 3, 4, 3, 3, 4, 3, 4, 4, 3, 3, 4, 4, 4], [5, 7, 7, 7, 7, 5, 5, 7, 7, 5, 7, 5, 5, 7, 7, 5, 7, 3, 3, 3, 6, 3, 6, 3, 4, 4, 4, 4, 6, 6, 4, 3, 4, 3, 6, 3, 3, 3, 4, 4, 4, 4, 4, 4, 3], [5, 5, 3, 3, 3, 7, 3, 3, 3, 7, 3, 5, 7, 5, 5, 7, 7, 3, 5, 7, 6, 3, 4, 3, 3, 4, 3, 3, 3, 3, 4, 3, 3, 6, 4, 6, 6, 4, 6, 3, 2, 3, 4, 3, 3], [3, 5, 3, 5, 3, 3, 5, 7, 3, 7, 3, 3, 3, 5, 3, 7, 7, 7, 5, 7, 3, 4, 3, 6, 3, 4, 3, 4, 4, 4, 3, 4, 3, 4, 6, 4, 4, 3, 3, 4, 3, 4, 3, 4, 2], [3, 5, 3, 3, 5, 7, 3, 5, 3, 7, 7, 3, 7, 5, 7, 3, 7, 5, 5, 3, 4, 4, 4, 4, 3, 4, 4, 4, 3, 6, 6, 6, 4, 6, 3, 4, 6, 6, 6, 4, 2, 2, 4, 3, 4], [3, 3, 7, 7, 5, 5, 3, 3, 3, 5, 5, 7, 7, 5, 7, 3, 5, 3, 3, 5, 4, 6, 6, 3, 6, 3, 3, 4, 6, 3, 4, 6, 4, 3, 6, 4, 6, 4, 4, 3, 4, 3, 2, 2, 2], [3, 3, 7, 5, 7, 5, 3, 5, 3, 5, 7, 3, 5, 3, 7, 3, 7, 5, 7, 7, 6, 4, 6, 6, 6, 3, 3, 3, 6, 4, 3, 6, 3, 3, 3, 4, 4, 6, 3, 3, 2, 2, 2, 4, 4], [5, 5, 3, 7, 5, 5, 7, 7, 3, 5, 3, 7, 5, 5, 5, 5, 3, 7, 5, 3, 3, 3, 4, 6, 6, 3, 4, 6, 6, 4, 3, 6, 3, 4, 4, 4, 4, 3, 4, 3, 2, 3, 4, 3, 3], [5, 3, 5, 7, 3, 7, 7, 3, 3, 7, 7, 3, 5, 3, 7, 7, 3, 5, 5, 3, 6, 6, 4, 4, 3, 6, 3, 4, 6, 4, 3, 6, 3, 6, 6, 4, 4, 4, 4, 3, 4, 2, 2, 2, 2], [5, 3, 7, 5, 5, 3, 3, 3, 7, 7, 3, 7, 3, 3, 7, 7, 7, 7, 3, 5, 4, 3, 3, 6, 6, 3, 3, 6, 6, 4, 3, 4, 3, 4, 4, 6, 6, 3, 4, 6, 2, 2, 3, 3, 4]], 'f_emb': [tensor([-0., -0., -0.,  ..., -0., -0., -0.]), tensor([-0., -0., -0.,  ..., -0., -0., -0.]), tensor([1226.8495,   -0.0000,   -0.0000,  ...,   -0.0000,   -0.0000,\n",
      "          -0.0000]), tensor([-0., -0., -0.,  ..., -0., -0., -0.]), tensor([188.3607,  -0.0000,  -0.0000,  ...,  -0.0000,  -0.0000, 213.2732]), tensor([-0., -0., -0.,  ..., -0., -0., -0.]), tensor([-0., -0., -0.,  ..., -0., -0., -0.]), tensor([-0.0000, -0.0000, -0.0000,  ..., -0.0000, -0.0000, 9.9611]), tensor([38.6843, -0.0000, -0.0000,  ..., -0.0000, -0.0000, -0.0000]), tensor([ 0.5262, -0.3664,  0.4536,  ..., -0.3597, -0.2121, -0.3281]), tensor([-0., -0., -0.,  ..., -0., -0., -0.]), tensor([-0.0000, -0.0000, -0.0000,  ..., 30.1783, -0.0000,  3.6916]), tensor([-0., -0., -0.,  ..., -0., -0., -0.]), tensor([-0., -0., -0.,  ..., -0., -0., -0.]), tensor([18.3999, -0.0000, -0.0000,  ..., -0.0000, -0.0000, 45.3672]), tensor([ 0.2349,  0.1743,  0.1660,  ...,  0.3616,  0.0957, -0.3534]), tensor([-0.2793, -0.3249, -0.3683,  ..., -0.0000, -0.0000, -0.3627]), tensor([ 0.0759, -0.3346, -0.2591,  ...,  0.4824, -0.2551, -0.1757]), tensor([ 0.4264, -0.1865, -0.1025,  ..., -0.1637,  0.7777, -0.3373]), tensor([ 0.4347, -0.2336, -0.2793,  ..., -0.3347, -0.3469, -0.1162]), tensor([ 0.0104,  0.4655, -0.3177,  ..., -0.1076,  0.8267, -0.3667]), tensor([ 0.0873,  0.1475, -0.3670,  ..., -0.1698,  0.0327, -0.3572]), tensor([322.7029,  -0.0000,  83.4842,  ...,  -0.0000,  -0.0000,  -0.0000]), tensor([-0.3365, -0.0309, -0.3139,  ...,  0.1455, -0.3260, -0.3622]), tensor([-0.0000, -0.0000, -0.0000,  ..., -0.0000, -0.0000, 3.1642]), tensor([    -0.0000,     -0.0000, 159417.2812,  ...,     -0.0000,\n",
      "            -0.0000, 179515.1562]), tensor([-0.0014, -0.3527, -0.0000,  ..., -0.0000, -0.0000, -0.0000]), tensor([6770305.5000,      -0.0000,      -0.0000,  ...,      -0.0000,\n",
      "             -0.0000,      -0.0000]), tensor([1609.9169,   -0.0000,   -0.0000,  ...,   -0.0000,   -0.0000,\n",
      "          -0.0000]), tensor([-0., -0., -0.,  ..., -0., -0., -0.]), tensor([-0.0067, -0.3482, -0.3706,  ..., -0.3683, -0.0611,  0.0504]), tensor([ 1.4714, -0.0000, -0.0945,  ..., -0.2832, -0.0000, -0.3679]), tensor([ 1.7539, 21.7252, -0.0000,  ..., -0.0000, -0.0000, 13.5089]), tensor([-0.3179, -0.3455, -0.3743,  ..., -0.2527,  0.1497, -0.0043]), tensor([-0.3241, -0.2744, -0.1231,  ..., -0.1582, -0.2237, -0.0000]), tensor([-0.1600,  3.9948, -0.0000,  ..., -0.0000, -0.0000,  8.6842]), tensor([-0.1209,  0.0394, -0.3112,  ..., -0.2695, -0.1538, -0.1348]), tensor([255.8073,  -0.0000, 140.1278,  ...,  -0.0000,  -0.0000,  -0.0000]), tensor([-0., -0., -0.,  ..., -0., -0., -0.]), tensor([-0.0667, -0.2547, -0.3669,  ...,  0.1411, -0.0529, -0.0764]), tensor([ 0.0093, -0.3176, -0.3739,  ..., -0.1065,  0.4898, -0.3551]), tensor([-0.3701, -0.1757, -0.3706,  ..., -0.3319, -0.2591,  0.1290]), tensor([-0.3745, -0.1032, -0.1967,  ..., -0.0000, -0.0000, -0.0593]), tensor([-0.3677, -0.2142, -0.0000,  ..., -0.0000, -0.0000, -0.3277]), tensor([-0., -0., -0.,  ..., -0., -0., -0.]), tensor([3.1169, -0.0000, -0.0000,  ..., -0.0000, -0.0000, 8.0993]), tensor([-0.2472, -0.3239, -0.2829,  ..., -0.3483, -0.2882, -0.2494]), tensor([-0.3634, -0.3321, -0.1018,  ..., -0.3687, -0.3750, -0.2305]), tensor([-0.1774, -0.3653, -0.2880,  ..., -0.3545, -0.3617, -0.3650]), tensor([8691.3945,   -0.0000,   -0.0000,  ...,   -0.0000,   -0.0000,\n"
     ]
    },
    {
     "name": "stderr",
     "output_type": "stream",
     "text": [
      "Using cache found in /root/.cache/torch/hub/mit-han-lab_once-for-all_master\n"
     ]
    },
    {
     "name": "stdout",
     "output_type": "stream",
     "text": [
      "        8597.5059]), tensor([9.0331, -0.0000, -0.0000,  ..., -0.0000, -0.0000, -0.0000]), tensor([42.5141, -0.0000, -0.0000,  ..., -0.0000, -0.0000, -0.0000]), tensor([65.9789, -0.0000, -0.0000,  ..., -0.0000, -0.0000, -0.0000]), tensor([-0., -0., -0.,  ..., -0., -0., -0.]), tensor([722.0713,  -0.0000,  35.6799,  ...,  -0.0000, 312.9419,  70.5834])], 'acc': [99.51923076923077, 99.03846153846153, 99.51923076923077, 99.51923076923077, 99.51923076923077, 99.51923076923077, 98.38709677419355, 96.7741935483871, 98.38709677419355, 98.38709677419355, 8.064516129032258, 96.7741935483871, 77.08333333333333, 76.4423076923077, 78.68589743589743, 77.40384615384616, 77.24358974358974, 78.36538461538461, 94.23076923076923, 75.64102564102564, 90.7051282051282, 94.23076923076923, 91.34615384615384, 94.23076923076923, 99.52978056426332, 99.3730407523511, 99.68652037617555, 99.68652037617555, 100.0, 99.3730407523511, 84.88700564971751, 87.99435028248588, 86.7231638418079, 85.73446327683615, 87.99435028248588, 86.44067796610169, 96.6740576496674, 97.11751662971176, 97.00665188470066, 97.22838137472284, 96.6740576496674, 95.56541019955654, 94.0, 94.6, 94.0, 95.0, 95.2, 95.0, 97.46835443037975, 95.78059071729957, 95.78059071729957, 95.78059071729957, 97.0464135021097, 95.9915611814346, 67.41071428571429], 'n_params': [6228442, 5625114, 6570290, 5347354, 5825218, 4821626, 4711646, 4554646, 6688342, 4317614, 5203934, 5550702, 5717244, 5151700, 5773028, 5059684, 6364428, 4930308, 5608818, 4493962, 4318938, 4537954, 5514050, 3861938, 5155304, 6005320, 4798208, 6420784, 4792312, 3845304, 4249220, 3881348, 5982340, 3517428, 5327428, 6367692, 5599490, 4745802, 5815994, 5362738, 5007786, 4598522, 5921562, 4126858, 4121234, 5318114, 5013634, 5773418, 4451268, 7041756, 3900292, 5413740, 4585324, 3943980, 5856793]}\n",
      "\n",
      "=====> Generating 2th network  <=====\n",
      "\n",
      "\n",
      "=====>Generating sub_net<=====\n",
      "\n",
      "\n",
      "=====> Training started <=====\n",
      "\n",
      "Starting Training for:skin-cancer9-classesisic_nodoubttome_0_9 with model topology:[3, 7, 3, 5, 5, 3, 7, 3, 7, 5, 5, 5, 7, 5, 3, 3, 5, 3, 3, 3, 3, 6, 3, 4, 6, 6, 3, 4, 3, 3, 4, 6, 6, 6, 6, 3, 6, 6, 3, 3, 3, 4, 4, 2, 3]\n"
     ]
    },
    {
     "name": "stderr",
     "output_type": "stream",
     "text": [
      "56it [00:10,  5.45it/s]\n",
      "7it [00:01,  5.39it/s]\n"
     ]
    },
    {
     "name": "stdout",
     "output_type": "stream",
     "text": [
      "\n",
      "Epoch: 1/15, Train Loss: 53.06494231 , Val Loss: 43.80699757, Train Accuracy:43.58543417,  Val Accuracy: 54.01785714, Epoch Time: 11.83524394\n"
     ]
    },
    {
     "name": "stderr",
     "output_type": "stream",
     "text": [
      "56it [00:09,  5.62it/s]\n",
      "7it [00:01,  5.36it/s]\n"
     ]
    },
    {
     "name": "stdout",
     "output_type": "stream",
     "text": [
      "\n",
      "Epoch: 2/15, Train Loss: 29.93802952 , Val Loss: 31.85706711, Train Accuracy:70.08403361,  Val Accuracy: 63.39285714, Epoch Time: 11.50175261\n"
     ]
    },
    {
     "name": "stderr",
     "output_type": "stream",
     "text": [
      "56it [00:09,  5.64it/s]\n",
      "7it [00:01,  4.15it/s]\n"
     ]
    },
    {
     "name": "stdout",
     "output_type": "stream",
     "text": [
      "\n",
      "Epoch: 3/15, Train Loss: 20.21739123 , Val Loss: 27.88360432, Train Accuracy:78.03921569,  Val Accuracy: 68.75000000, Epoch Time: 11.86920714\n"
     ]
    },
    {
     "name": "stderr",
     "output_type": "stream",
     "text": [
      "56it [00:10,  5.58it/s]\n",
      "7it [00:01,  5.28it/s]\n"
     ]
    },
    {
     "name": "stdout",
     "output_type": "stream",
     "text": [
      "\n",
      "Epoch: 4/15, Train Loss: 14.70850119 , Val Loss: 30.50593567, Train Accuracy:83.52941176,  Val Accuracy: 65.17857143, Epoch Time: 11.59304237\n"
     ]
    },
    {
     "name": "stderr",
     "output_type": "stream",
     "text": [
      "56it [00:09,  5.71it/s]\n",
      "7it [00:01,  5.14it/s]\n"
     ]
    },
    {
     "name": "stdout",
     "output_type": "stream",
     "text": [
      "\n",
      "Epoch: 5/15, Train Loss: 10.97686789 , Val Loss: 35.01945632, Train Accuracy:88.01120448,  Val Accuracy: 62.05357143, Epoch Time: 11.40833688\n"
     ]
    },
    {
     "name": "stderr",
     "output_type": "stream",
     "text": [
      "56it [00:09,  5.66it/s]\n",
      "7it [00:01,  5.05it/s]\n"
     ]
    },
    {
     "name": "stdout",
     "output_type": "stream",
     "text": [
      "\n",
      "Epoch: 6/15, Train Loss: 8.44840237 , Val Loss: 32.73149954, Train Accuracy:90.47619048,  Val Accuracy: 65.17857143, Epoch Time: 11.53250146\n"
     ]
    },
    {
     "name": "stderr",
     "output_type": "stream",
     "text": [
      "56it [00:09,  5.70it/s]\n",
      "7it [00:01,  5.41it/s]\n"
     ]
    },
    {
     "name": "stdout",
     "output_type": "stream",
     "text": [
      "\n",
      "Epoch: 7/15, Train Loss: 6.55193409 , Val Loss: 53.94731985, Train Accuracy:92.04481793,  Val Accuracy: 50.44642857, Epoch Time: 11.36992478\n"
     ]
    },
    {
     "name": "stderr",
     "output_type": "stream",
     "text": [
      "56it [00:09,  5.75it/s]\n",
      "7it [00:01,  5.26it/s]\n"
     ]
    },
    {
     "name": "stdout",
     "output_type": "stream",
     "text": [
      "\n",
      "Epoch: 8/15, Train Loss: 5.41240011 , Val Loss: 32.65874645, Train Accuracy:93.10924370,  Val Accuracy: 66.96428571, Epoch Time: 11.29943776\n",
      "Early stopping on, 7th, epoch\n",
      "\n",
      "=====>Generating f_emb<=====\n",
      "\n",
      "torch.Size([1536])\n",
      "{'dataset': ['sldc_0_10', 'sldc_0_10', 'sldc_0_10', 'sldc_0_10', 'sldc_0_10', 'sldc_0_10', 'corales_0_14', 'corales_0_14', 'corales_0_14', 'corales_0_14', 'corales_0_14', 'corales_0_14', '6000-store-items-images-classified-by-color_imoore_0_12', '6000-store-items-images-classified-by-color_imoore_0_12', '6000-store-items-images-classified-by-color_imoore_0_12', '6000-store-items-images-classified-by-color_imoore_0_12', '6000-store-items-images-classified-by-color_imoore_0_12', '6000-store-items-images-classified-by-color_imoore_0_12', 'fcis-sc-deeplearning-competition_0_10', 'fcis-sc-deeplearning-competition_0_10', 'fcis-sc-deeplearning-competition_0_10', 'fcis-sc-deeplearning-competition_0_10', 'fcis-sc-deeplearning-competition_0_10', 'fcis-sc-deeplearning-competition_0_10', 'lego-brick-images_joosthazelzet_0_16', 'lego-brick-images_joosthazelzet_0_16', 'lego-brick-images_joosthazelzet_0_16', 'lego-brick-images_joosthazelzet_0_16', 'lego-brick-images_joosthazelzet_0_16', 'lego-brick-images_joosthazelzet_0_16', 'oregon-wildlife_virtualdvid_0_20', 'oregon-wildlife_virtualdvid_0_20', 'oregon-wildlife_virtualdvid_0_20', 'oregon-wildlife_virtualdvid_0_20', 'oregon-wildlife_virtualdvid_0_20', 'oregon-wildlife_virtualdvid_0_20', 'perritos_0_10', 'perritos_0_10', 'perritos_0_10', 'perritos_0_10', 'perritos_0_10', 'perritos_0_10', 'khu-deep-learning-competition_0_10', 'khu-deep-learning-competition_0_10', 'khu-deep-learning-competition_0_10', 'khu-deep-learning-competition_0_10', 'khu-deep-learning-competition_0_10', 'khu-deep-learning-competition_0_10', 'plant-seedlings-classification_0_12', 'plant-seedlings-classification_0_12', 'plant-seedlings-classification_0_12', 'plant-seedlings-classification_0_12', 'plant-seedlings-classification_0_12', 'plant-seedlings-classification_0_12', 'skin-cancer9-classesisic_nodoubttome_0_9', 'skin-cancer9-classesisic_nodoubttome_0_9'], 'topol': [[3, 5, 5, 5, 7, 5, 5, 7, 3, 5, 7, 7, 7, 5, 7, 5, 3, 3, 7, 3, 4, 3, 6, 3, 6, 6, 4, 4, 6, 4, 3, 6, 6, 3, 4, 6, 3, 4, 6, 3, 3, 4, 2, 4, 4], [3, 7, 7, 7, 5, 7, 5, 3, 7, 5, 3, 3, 5, 5, 3, 7, 7, 5, 3, 5, 3, 4, 6, 3, 6, 4, 6, 4, 4, 3, 3, 3, 3, 6, 6, 3, 3, 4, 6, 4, 4, 3, 2, 2, 4], [3, 7, 5, 5, 3, 7, 7, 5, 5, 5, 5, 5, 5, 7, 7, 7, 7, 7, 5, 7, 6, 6, 6, 3, 6, 3, 4, 4, 6, 6, 6, 4, 3, 6, 4, 6, 6, 4, 6, 4, 2, 3, 3, 3, 4], [7, 5, 3, 3, 5, 3, 5, 5, 5, 5, 3, 7, 7, 5, 7, 3, 3, 5, 3, 5, 3, 4, 6, 6, 6, 3, 6, 3, 6, 3, 6, 4, 4, 6, 6, 4, 6, 6, 6, 4, 2, 2, 2, 3, 2], [3, 5, 5, 7, 5, 5, 7, 3, 7, 5, 5, 5, 3, 5, 3, 7, 5, 7, 7, 3, 3, 6, 3, 3, 6, 3, 6, 6, 4, 4, 3, 4, 4, 3, 6, 6, 4, 3, 4, 3, 4, 3, 4, 4, 4], [3, 3, 5, 5, 7, 5, 5, 5, 5, 5, 3, 3, 3, 3, 3, 7, 7, 3, 5, 5, 6, 4, 3, 4, 4, 4, 3, 6, 4, 3, 6, 4, 4, 4, 6, 6, 4, 4, 3, 6, 4, 2, 4, 3, 3], [7, 7, 5, 5, 5, 5, 3, 3, 3, 5, 7, 5, 5, 3, 3, 5, 5, 5, 7, 5, 3, 4, 3, 6, 6, 4, 3, 4, 6, 6, 4, 4, 6, 4, 4, 3, 6, 4, 3, 6, 2, 4, 4, 3, 2], [3, 3, 3, 7, 7, 5, 5, 7, 7, 5, 7, 7, 7, 7, 3, 5, 7, 7, 7, 3, 6, 4, 6, 3, 3, 4, 6, 6, 3, 3, 4, 4, 4, 4, 6, 6, 3, 4, 4, 3, 2, 4, 4, 2, 3], [5, 5, 3, 5, 7, 3, 5, 7, 7, 5, 3, 7, 7, 3, 3, 7, 3, 3, 7, 3, 4, 4, 6, 6, 3, 6, 3, 6, 3, 4, 4, 6, 3, 4, 6, 3, 6, 6, 4, 4, 4, 2, 4, 4, 4], [3, 5, 3, 5, 3, 3, 7, 7, 3, 3, 5, 7, 5, 3, 7, 7, 3, 3, 3, 7, 3, 4, 6, 6, 4, 4, 6, 6, 3, 3, 3, 6, 3, 6, 3, 4, 3, 4, 6, 6, 4, 4, 4, 3, 2], [3, 7, 7, 5, 7, 3, 7, 5, 7, 7, 7, 5, 7, 5, 3, 7, 5, 5, 5, 5, 6, 3, 6, 6, 4, 6, 6, 4, 6, 6, 6, 3, 3, 3, 3, 3, 6, 6, 4, 4, 3, 4, 2, 2, 3], [7, 7, 3, 3, 5, 7, 3, 5, 5, 3, 3, 3, 5, 7, 3, 7, 7, 5, 7, 7, 6, 3, 4, 3, 3, 3, 4, 3, 3, 4, 6, 6, 6, 4, 4, 6, 6, 4, 3, 4, 2, 2, 3, 4, 3], [7, 3, 3, 3, 3, 3, 5, 7, 5, 3, 5, 5, 3, 7, 7, 7, 5, 3, 7, 5, 3, 6, 3, 6, 6, 3, 4, 3, 6, 6, 3, 4, 3, 4, 4, 3, 4, 6, 6, 4, 3, 3, 2, 3, 3], [3, 3, 7, 5, 7, 3, 5, 7, 3, 5, 3, 5, 5, 5, 5, 3, 5, 5, 3, 3, 3, 6, 6, 6, 6, 6, 4, 3, 4, 4, 6, 4, 3, 6, 3, 6, 3, 6, 4, 6, 2, 2, 2, 3, 3], [5, 3, 5, 5, 5, 5, 7, 7, 3, 7, 7, 7, 3, 3, 7, 3, 7, 5, 5, 3, 3, 3, 6, 4, 6, 4, 4, 3, 6, 4, 6, 6, 3, 6, 4, 4, 3, 4, 3, 4, 3, 3, 4, 4, 4], [5, 5, 7, 5, 5, 5, 5, 7, 3, 3, 7, 3, 7, 5, 3, 3, 5, 7, 3, 3, 4, 4, 4, 4, 3, 4, 6, 3, 4, 6, 6, 3, 6, 3, 4, 6, 6, 4, 4, 6, 2, 4, 2, 3, 3], [7, 5, 3, 3, 7, 7, 7, 7, 5, 7, 5, 3, 7, 3, 5, 7, 3, 5, 7, 5, 4, 4, 4, 6, 4, 3, 3, 6, 3, 6, 4, 6, 6, 6, 6, 6, 3, 4, 6, 4, 2, 2, 2, 4, 3], [3, 3, 3, 7, 7, 3, 3, 7, 7, 7, 7, 5, 5, 7, 7, 3, 7, 7, 5, 7, 3, 4, 3, 3, 6, 3, 6, 3, 6, 3, 6, 3, 4, 3, 3, 6, 4, 4, 3, 6, 4, 4, 2, 4, 3], [3, 7, 7, 7, 3, 5, 3, 7, 5, 3, 5, 5, 7, 3, 5, 5, 3, 7, 5, 5, 4, 3, 4, 4, 3, 4, 6, 4, 6, 4, 3, 3, 3, 3, 6, 3, 4, 6, 4, 3, 4, 2, 4, 4, 3], [7, 7, 3, 5, 5, 5, 7, 3, 3, 5, 3, 3, 5, 7, 7, 3, 3, 7, 3, 3, 3, 3, 4, 6, 4, 6, 6, 6, 4, 3, 3, 6, 6, 4, 3, 4, 6, 4, 4, 4, 2, 4, 2, 3, 2], [3, 7, 7, 3, 5, 7, 7, 5, 7, 3, 5, 7, 7, 3, 5, 5, 5, 3, 3, 5, 3, 4, 3, 4, 3, 4, 6, 3, 6, 3, 4, 3, 4, 4, 4, 6, 3, 3, 4, 3, 3, 3, 2, 4, 2], [3, 7, 5, 3, 3, 5, 5, 7, 5, 7, 3, 5, 3, 7, 7, 5, 5, 7, 3, 3, 3, 3, 4, 6, 3, 6, 4, 3, 6, 4, 6, 4, 6, 6, 6, 6, 3, 4, 3, 6, 4, 4, 2, 2, 3], [3, 7, 3, 3, 5, 7, 5, 7, 5, 7, 7, 7, 7, 3, 3, 3, 7, 3, 3, 3, 6, 4, 4, 3, 4, 6, 4, 6, 4, 6, 6, 4, 4, 3, 3, 3, 6, 4, 3, 3, 2, 4, 4, 4, 4], [5, 5, 7, 5, 7, 3, 7, 7, 7, 5, 7, 3, 5, 3, 5, 7, 3, 7, 7, 5, 4, 3, 6, 6, 6, 3, 6, 3, 6, 3, 3, 6, 4, 4, 3, 3, 3, 3, 3, 3, 3, 2, 3, 4, 2], [7, 3, 7, 3, 5, 5, 3, 3, 7, 3, 7, 7, 7, 5, 5, 5, 5, 7, 5, 5, 6, 4, 3, 3, 4, 3, 3, 4, 4, 3, 6, 6, 3, 4, 4, 6, 6, 4, 6, 3, 3, 4, 4, 4, 2], [5, 5, 3, 7, 3, 7, 7, 5, 3, 7, 7, 5, 5, 7, 7, 7, 5, 7, 5, 3, 4, 4, 3, 3, 4, 3, 4, 6, 3, 3, 3, 4, 6, 6, 4, 6, 6, 4, 3, 4, 4, 4, 4, 3, 4], [5, 5, 3, 5, 7, 3, 5, 5, 3, 5, 7, 3, 5, 3, 3, 5, 7, 7, 5, 5, 4, 3, 6, 4, 6, 6, 6, 4, 3, 6, 6, 6, 4, 4, 4, 4, 3, 4, 3, 6, 2, 4, 2, 4, 3], [5, 3, 5, 3, 5, 3, 3, 3, 7, 3, 5, 7, 5, 7, 3, 7, 7, 5, 5, 3, 6, 3, 6, 6, 3, 4, 3, 4, 6, 3, 4, 6, 3, 3, 4, 4, 6, 6, 6, 4, 3, 4, 4, 4, 3], [7, 5, 3, 7, 3, 5, 3, 5, 3, 5, 7, 3, 7, 7, 5, 7, 7, 3, 3, 3, 3, 3, 6, 4, 3, 4, 4, 3, 3, 3, 3, 4, 3, 3, 3, 3, 6, 6, 4, 4, 2, 4, 2, 4, 2], [5, 7, 7, 5, 5, 5, 7, 7, 7, 3, 5, 5, 5, 5, 3, 3, 5, 7, 3, 5, 3, 4, 4, 3, 3, 6, 6, 4, 4, 3, 4, 3, 3, 6, 4, 6, 4, 3, 3, 3, 2, 2, 4, 2, 2], [5, 5, 7, 3, 3, 3, 5, 3, 5, 5, 3, 3, 5, 7, 5, 3, 5, 3, 7, 7, 3, 3, 4, 4, 3, 3, 3, 3, 4, 6, 6, 4, 3, 4, 6, 4, 4, 4, 3, 3, 4, 4, 3, 2, 3], [3, 5, 5, 5, 7, 5, 7, 7, 5, 5, 5, 5, 5, 7, 3, 5, 7, 7, 3, 5, 6, 6, 4, 6, 3, 3, 3, 4, 4, 3, 6, 4, 4, 3, 3, 6, 6, 3, 3, 6, 3, 4, 3, 2, 2], [3, 3, 7, 5, 5, 5, 7, 7, 7, 5, 3, 3, 3, 3, 7, 5, 5, 5, 3, 3, 3, 3, 3, 6, 4, 4, 6, 4, 3, 6, 4, 3, 6, 4, 3, 6, 6, 3, 4, 6, 2, 4, 2, 3, 4], [5, 3, 3, 3, 7, 5, 7, 3, 5, 5, 3, 3, 3, 5, 3, 5, 7, 3, 5, 3, 6, 3, 4, 6, 3, 6, 4, 3, 4, 3, 4, 4, 6, 3, 4, 4, 3, 3, 6, 6, 2, 3, 3, 2, 2], [3, 7, 3, 5, 3, 7, 5, 3, 7, 7, 3, 5, 5, 3, 7, 5, 5, 7, 7, 7, 4, 6, 6, 3, 6, 6, 4, 4, 3, 6, 6, 6, 3, 3, 3, 4, 4, 6, 3, 3, 2, 4, 3, 4, 3], [3, 3, 3, 5, 3, 3, 3, 5, 7, 3, 7, 5, 3, 7, 5, 3, 7, 7, 3, 7, 6, 3, 3, 6, 3, 6, 6, 3, 6, 6, 4, 4, 4, 3, 6, 3, 6, 3, 3, 6, 2, 3, 4, 4, 4], [5, 7, 3, 7, 3, 7, 5, 5, 5, 7, 7, 3, 3, 3, 7, 3, 5, 5, 3, 5, 6, 4, 6, 6, 6, 4, 6, 3, 4, 4, 3, 3, 6, 6, 4, 3, 4, 3, 6, 4, 2, 2, 3, 4, 3], [3, 3, 3, 3, 5, 7, 5, 3, 3, 7, 3, 3, 5, 3, 3, 3, 3, 3, 3, 3, 6, 3, 6, 4, 4, 3, 6, 6, 3, 6, 6, 3, 6, 6, 6, 3, 4, 3, 3, 4, 4, 3, 2, 4, 2], [5, 5, 7, 3, 3, 3, 7, 5, 7, 7, 3, 7, 5, 3, 5, 7, 7, 5, 5, 5, 4, 4, 3, 4, 3, 3, 6, 6, 6, 3, 4, 6, 6, 3, 3, 4, 6, 6, 6, 3, 2, 3, 3, 2, 3], [3, 3, 3, 3, 5, 3, 5, 3, 7, 3, 5, 5, 7, 3, 5, 7, 3, 5, 5, 7, 4, 3, 6, 4, 3, 6, 6, 4, 4, 4, 3, 6, 6, 3, 3, 6, 3, 3, 6, 6, 3, 2, 2, 4, 3], [3, 7, 5, 5, 7, 5, 7, 3, 3, 5, 5, 3, 5, 3, 5, 3, 3, 7, 3, 3, 3, 4, 4, 6, 6, 6, 3, 6, 6, 4, 3, 6, 6, 6, 6, 4, 3, 3, 3, 6, 3, 4, 4, 4, 2], [5, 7, 3, 3, 7, 5, 7, 5, 3, 3, 5, 5, 7, 3, 3, 7, 7, 3, 5, 5, 6, 3, 6, 6, 6, 3, 6, 6, 4, 3, 6, 3, 3, 3, 3, 3, 4, 6, 3, 3, 2, 2, 4, 2, 3], [3, 7, 5, 5, 5, 3, 7, 5, 7, 5, 3, 3, 5, 3, 3, 7, 3, 7, 3, 5, 3, 4, 3, 6, 4, 3, 3, 4, 4, 6, 6, 3, 3, 3, 6, 6, 4, 4, 3, 6, 4, 4, 4, 3, 4], [5, 3, 5, 3, 5, 3, 7, 3, 3, 5, 5, 3, 5, 7, 5, 7, 7, 5, 3, 7, 4, 4, 6, 3, 3, 6, 3, 3, 3, 3, 4, 4, 3, 6, 4, 3, 6, 3, 3, 3, 4, 3, 3, 2, 2], [7, 7, 5, 3, 7, 7, 3, 7, 5, 5, 7, 3, 3, 5, 7, 7, 5, 5, 5, 3, 4, 3, 4, 6, 3, 4, 6, 3, 3, 6, 3, 6, 3, 4, 3, 3, 6, 4, 3, 3, 3, 2, 4, 2, 2], [3, 7, 5, 3, 7, 7, 7, 5, 3, 3, 7, 7, 7, 5, 7, 5, 5, 5, 7, 5, 6, 3, 6, 4, 3, 3, 4, 6, 3, 4, 3, 6, 3, 4, 3, 3, 4, 3, 4, 4, 3, 3, 4, 4, 4], [5, 7, 7, 7, 7, 5, 5, 7, 7, 5, 7, 5, 5, 7, 7, 5, 7, 3, 3, 3, 6, 3, 6, 3, 4, 4, 4, 4, 6, 6, 4, 3, 4, 3, 6, 3, 3, 3, 4, 4, 4, 4, 4, 4, 3], [5, 5, 3, 3, 3, 7, 3, 3, 3, 7, 3, 5, 7, 5, 5, 7, 7, 3, 5, 7, 6, 3, 4, 3, 3, 4, 3, 3, 3, 3, 4, 3, 3, 6, 4, 6, 6, 4, 6, 3, 2, 3, 4, 3, 3], [3, 5, 3, 5, 3, 3, 5, 7, 3, 7, 3, 3, 3, 5, 3, 7, 7, 7, 5, 7, 3, 4, 3, 6, 3, 4, 3, 4, 4, 4, 3, 4, 3, 4, 6, 4, 4, 3, 3, 4, 3, 4, 3, 4, 2], [3, 5, 3, 3, 5, 7, 3, 5, 3, 7, 7, 3, 7, 5, 7, 3, 7, 5, 5, 3, 4, 4, 4, 4, 3, 4, 4, 4, 3, 6, 6, 6, 4, 6, 3, 4, 6, 6, 6, 4, 2, 2, 4, 3, 4], [3, 3, 7, 7, 5, 5, 3, 3, 3, 5, 5, 7, 7, 5, 7, 3, 5, 3, 3, 5, 4, 6, 6, 3, 6, 3, 3, 4, 6, 3, 4, 6, 4, 3, 6, 4, 6, 4, 4, 3, 4, 3, 2, 2, 2], [3, 3, 7, 5, 7, 5, 3, 5, 3, 5, 7, 3, 5, 3, 7, 3, 7, 5, 7, 7, 6, 4, 6, 6, 6, 3, 3, 3, 6, 4, 3, 6, 3, 3, 3, 4, 4, 6, 3, 3, 2, 2, 2, 4, 4], [5, 5, 3, 7, 5, 5, 7, 7, 3, 5, 3, 7, 5, 5, 5, 5, 3, 7, 5, 3, 3, 3, 4, 6, 6, 3, 4, 6, 6, 4, 3, 6, 3, 4, 4, 4, 4, 3, 4, 3, 2, 3, 4, 3, 3], [5, 3, 5, 7, 3, 7, 7, 3, 3, 7, 7, 3, 5, 3, 7, 7, 3, 5, 5, 3, 6, 6, 4, 4, 3, 6, 3, 4, 6, 4, 3, 6, 3, 6, 6, 4, 4, 4, 4, 3, 4, 2, 2, 2, 2], [5, 3, 7, 5, 5, 3, 3, 3, 7, 7, 3, 7, 3, 3, 7, 7, 7, 7, 3, 5, 4, 3, 3, 6, 6, 3, 3, 6, 6, 4, 3, 4, 3, 4, 4, 6, 6, 3, 4, 6, 2, 2, 3, 3, 4], [3, 7, 3, 5, 5, 3, 7, 3, 7, 5, 5, 5, 7, 5, 3, 3, 5, 3, 3, 3, 3, 6, 3, 4, 6, 6, 3, 4, 3, 3, 4, 6, 6, 6, 6, 3, 6, 6, 3, 3, 3, 4, 4, 2, 3]], 'f_emb': [tensor([-0., -0., -0.,  ..., -0., -0., -0.]), tensor([-0., -0., -0.,  ..., -0., -0., -0.]), tensor([1226.8495,   -0.0000,   -0.0000,  ...,   -0.0000,   -0.0000,\n",
      "          -0.0000]), tensor([-0., -0., -0.,  ..., -0., -0., -0.]), tensor([188.3607,  -0.0000,  -0.0000,  ...,  -0.0000,  -0.0000, 213.2732]), tensor([-0., -0., -0.,  ..., -0., -0., -0.]), tensor([-0., -0., -0.,  ..., -0., -0., -0.]), tensor([-0.0000, -0.0000, -0.0000,  ..., -0.0000, -0.0000, 9.9611]), tensor([38.6843, -0.0000, -0.0000,  ..., -0.0000, -0.0000, -0.0000]), tensor([ 0.5262, -0.3664,  0.4536,  ..., -0.3597, -0.2121, -0.3281]), tensor([-0., -0., -0.,  ..., -0., -0., -0.]), tensor([-0.0000, -0.0000, -0.0000,  ..., 30.1783, -0.0000,  3.6916]), tensor([-0., -0., -0.,  ..., -0., -0., -0.]), tensor([-0., -0., -0.,  ..., -0., -0., -0.]), tensor([18.3999, -0.0000, -0.0000,  ..., -0.0000, -0.0000, 45.3672]), tensor([ 0.2349,  0.1743,  0.1660,  ...,  0.3616,  0.0957, -0.3534]), tensor([-0.2793, -0.3249, -0.3683,  ..., -0.0000, -0.0000, -0.3627]), tensor([ 0.0759, -0.3346, -0.2591,  ...,  0.4824, -0.2551, -0.1757]), tensor([ 0.4264, -0.1865, -0.1025,  ..., -0.1637,  0.7777, -0.3373]), tensor([ 0.4347, -0.2336, -0.2793,  ..., -0.3347, -0.3469, -0.1162]), tensor([ 0.0104,  0.4655, -0.3177,  ..., -0.1076,  0.8267, -0.3667]), tensor([ 0.0873,  0.1475, -0.3670,  ..., -0.1698,  0.0327, -0.3572]), tensor([322.7029,  -0.0000,  83.4842,  ...,  -0.0000,  -0.0000,  -0.0000]), tensor([-0.3365, -0.0309, -0.3139,  ...,  0.1455, -0.3260, -0.3622]), tensor([-0.0000, -0.0000, -0.0000,  ..., -0.0000, -0.0000, 3.1642]), tensor([    -0.0000,     -0.0000, 159417.2812,  ...,     -0.0000,\n",
      "            -0.0000, 179515.1562]), tensor([-0.0014, -0.3527, -0.0000,  ..., -0.0000, -0.0000, -0.0000]), tensor([6770305.5000,      -0.0000,      -0.0000,  ...,      -0.0000,\n",
      "             -0.0000,      -0.0000]), tensor([1609.9169,   -0.0000,   -0.0000,  ...,   -0.0000,   -0.0000,\n",
      "          -0.0000]), tensor([-0., -0., -0.,  ..., -0., -0., -0.]), tensor([-0.0067, -0.3482, -0.3706,  ..., -0.3683, -0.0611,  0.0504]), tensor([ 1.4714, -0.0000, -0.0945,  ..., -0.2832, -0.0000, -0.3679]), tensor([ 1.7539, 21.7252, -0.0000,  ..., -0.0000, -0.0000, 13.5089]), tensor([-0.3179, -0.3455, -0.3743,  ..., -0.2527,  0.1497, -0.0043]), tensor([-0.3241, -0.2744, -0.1231,  ..., -0.1582, -0.2237, -0.0000]), tensor([-0.1600,  3.9948, -0.0000,  ..., -0.0000, -0.0000,  8.6842]), tensor([-0.1209,  0.0394, -0.3112,  ..., -0.2695, -0.1538, -0.1348]), tensor([255.8073,  -0.0000, 140.1278,  ...,  -0.0000,  -0.0000,  -0.0000]), tensor([-0., -0., -0.,  ..., -0., -0., -0.]), tensor([-0.0667, -0.2547, -0.3669,  ...,  0.1411, -0.0529, -0.0764]), tensor([ 0.0093, -0.3176, -0.3739,  ..., -0.1065,  0.4898, -0.3551]), tensor([-0.3701, -0.1757, -0.3706,  ..., -0.3319, -0.2591,  0.1290]), tensor([-0.3745, -0.1032, -0.1967,  ..., -0.0000, -0.0000, -0.0593]), tensor([-0.3677, -0.2142, -0.0000,  ..., -0.0000, -0.0000, -0.3277]), tensor([-0., -0., -0.,  ..., -0., -0., -0.]), tensor([3.1169, -0.0000, -0.0000,  ..., -0.0000, -0.0000, 8.0993]), tensor([-0.2472, -0.3239, -0.2829,  ..., -0.3483, -0.2882, -0.2494]), tensor([-0.3634, -0.3321, -0.1018,  ..., -0.3687, -0.3750, -0.2305]), tensor([-0.1774, -0.3653, -0.2880,  ..., -0.3545, -0.3617, -0.3650]), tensor([8691.3945,   -0.0000,   -0.0000,  ...,   -0.0000,   -0.0000,\n"
     ]
    },
    {
     "name": "stderr",
     "output_type": "stream",
     "text": [
      "Using cache found in /root/.cache/torch/hub/mit-han-lab_once-for-all_master\n"
     ]
    },
    {
     "name": "stdout",
     "output_type": "stream",
     "text": [
      "        8597.5059]), tensor([9.0331, -0.0000, -0.0000,  ..., -0.0000, -0.0000, -0.0000]), tensor([42.5141, -0.0000, -0.0000,  ..., -0.0000, -0.0000, -0.0000]), tensor([65.9789, -0.0000, -0.0000,  ..., -0.0000, -0.0000, -0.0000]), tensor([-0., -0., -0.,  ..., -0., -0., -0.]), tensor([722.0713,  -0.0000,  35.6799,  ...,  -0.0000, 312.9419,  70.5834]), tensor([-0., -0., -0.,  ..., -0., -0., -0.])], 'acc': [99.51923076923077, 99.03846153846153, 99.51923076923077, 99.51923076923077, 99.51923076923077, 99.51923076923077, 98.38709677419355, 96.7741935483871, 98.38709677419355, 98.38709677419355, 8.064516129032258, 96.7741935483871, 77.08333333333333, 76.4423076923077, 78.68589743589743, 77.40384615384616, 77.24358974358974, 78.36538461538461, 94.23076923076923, 75.64102564102564, 90.7051282051282, 94.23076923076923, 91.34615384615384, 94.23076923076923, 99.52978056426332, 99.3730407523511, 99.68652037617555, 99.68652037617555, 100.0, 99.3730407523511, 84.88700564971751, 87.99435028248588, 86.7231638418079, 85.73446327683615, 87.99435028248588, 86.44067796610169, 96.6740576496674, 97.11751662971176, 97.00665188470066, 97.22838137472284, 96.6740576496674, 95.56541019955654, 94.0, 94.6, 94.0, 95.0, 95.2, 95.0, 97.46835443037975, 95.78059071729957, 95.78059071729957, 95.78059071729957, 97.0464135021097, 95.9915611814346, 67.41071428571429, 66.96428571428571], 'n_params': [6228442, 5625114, 6570290, 5347354, 5825218, 4821626, 4711646, 4554646, 6688342, 4317614, 5203934, 5550702, 5717244, 5151700, 5773028, 5059684, 6364428, 4930308, 5608818, 4493962, 4318938, 4537954, 5514050, 3861938, 5155304, 6005320, 4798208, 6420784, 4792312, 3845304, 4249220, 3881348, 5982340, 3517428, 5327428, 6367692, 5599490, 4745802, 5815994, 5362738, 5007786, 4598522, 5921562, 4126858, 4121234, 5318114, 5013634, 5773418, 4451268, 7041756, 3900292, 5413740, 4585324, 3943980, 5856793, 5602273]}\n",
      "\n",
      "=====> Generating 3th network  <=====\n",
      "\n",
      "\n",
      "=====>Generating sub_net<=====\n",
      "\n",
      "\n",
      "=====> Training started <=====\n",
      "\n",
      "Starting Training for:skin-cancer9-classesisic_nodoubttome_0_9 with model topology:[5, 3, 5, 3, 5, 5, 3, 5, 7, 5, 7, 5, 5, 7, 7, 5, 7, 7, 5, 7, 6, 6, 6, 4, 6, 4, 6, 6, 3, 3, 3, 6, 3, 6, 4, 4, 3, 3, 6, 4, 3, 2, 4, 2, 4]\n"
     ]
    },
    {
     "name": "stderr",
     "output_type": "stream",
     "text": [
      "56it [00:10,  5.32it/s]\n",
      "7it [00:01,  4.89it/s]\n"
     ]
    },
    {
     "name": "stdout",
     "output_type": "stream",
     "text": [
      "\n",
      "Epoch: 1/15, Train Loss: 53.52716928 , Val Loss: 45.71945245, Train Accuracy:46.21848739,  Val Accuracy: 50.44642857, Epoch Time: 12.22006416\n"
     ]
    },
    {
     "name": "stderr",
     "output_type": "stream",
     "text": [
      "56it [00:10,  5.41it/s]\n",
      "7it [00:01,  5.36it/s]\n"
     ]
    },
    {
     "name": "stdout",
     "output_type": "stream",
     "text": [
      "\n",
      "Epoch: 2/15, Train Loss: 29.64788995 , Val Loss: 32.28352438, Train Accuracy:70.58823529,  Val Accuracy: 64.28571429, Epoch Time: 11.91403413\n"
     ]
    },
    {
     "name": "stderr",
     "output_type": "stream",
     "text": [
      "56it [00:10,  5.59it/s]\n",
      "7it [00:01,  5.37it/s]\n"
     ]
    },
    {
     "name": "stdout",
     "output_type": "stream",
     "text": [
      "\n",
      "Epoch: 3/15, Train Loss: 20.23800738 , Val Loss: 29.79133551, Train Accuracy:78.43137255,  Val Accuracy: 62.50000000, Epoch Time: 11.54376268\n"
     ]
    },
    {
     "name": "stderr",
     "output_type": "stream",
     "text": [
      "56it [00:10,  5.35it/s]\n",
      "7it [00:01,  5.04it/s]\n"
     ]
    },
    {
     "name": "stdout",
     "output_type": "stream",
     "text": [
      "\n",
      "Epoch: 4/15, Train Loss: 14.07000479 , Val Loss: 29.87450109, Train Accuracy:84.14565826,  Val Accuracy: 63.83928571, Epoch Time: 12.10385132\n"
     ]
    },
    {
     "name": "stderr",
     "output_type": "stream",
     "text": [
      "56it [00:10,  5.56it/s]\n",
      "7it [00:01,  5.34it/s]\n"
     ]
    },
    {
     "name": "stdout",
     "output_type": "stream",
     "text": [
      "\n",
      "Epoch: 5/15, Train Loss: 10.89175103 , Val Loss: 29.01574462, Train Accuracy:87.39495798,  Val Accuracy: 66.07142857, Epoch Time: 11.62269616\n"
     ]
    },
    {
     "name": "stderr",
     "output_type": "stream",
     "text": [
      "56it [00:10,  5.46it/s]\n",
      "7it [00:01,  5.26it/s]\n"
     ]
    },
    {
     "name": "stdout",
     "output_type": "stream",
     "text": [
      "\n",
      "Epoch: 6/15, Train Loss: 7.74502112 , Val Loss: 34.60593796, Train Accuracy:90.47619048,  Val Accuracy: 63.39285714, Epoch Time: 11.81713367\n"
     ]
    },
    {
     "name": "stderr",
     "output_type": "stream",
     "text": [
      "56it [00:10,  5.49it/s]\n",
      "7it [00:01,  4.98it/s]\n"
     ]
    },
    {
     "name": "stdout",
     "output_type": "stream",
     "text": [
      "\n",
      "Epoch: 7/15, Train Loss: 5.97102875 , Val Loss: 35.61143167, Train Accuracy:92.54901961,  Val Accuracy: 60.71428571, Epoch Time: 11.85694790\n"
     ]
    },
    {
     "name": "stderr",
     "output_type": "stream",
     "text": [
      "56it [00:10,  5.55it/s]\n",
      "7it [00:01,  5.30it/s]\n"
     ]
    },
    {
     "name": "stdout",
     "output_type": "stream",
     "text": [
      "\n",
      "Epoch: 8/15, Train Loss: 5.49861172 , Val Loss: 41.57236453, Train Accuracy:92.60504202,  Val Accuracy: 57.58928571, Epoch Time: 11.64304256\n"
     ]
    },
    {
     "name": "stderr",
     "output_type": "stream",
     "text": [
      "56it [00:10,  5.41it/s]\n",
      "7it [00:01,  5.22it/s]\n"
     ]
    },
    {
     "name": "stdout",
     "output_type": "stream",
     "text": [
      "\n",
      "Epoch: 9/15, Train Loss: 5.13106943 , Val Loss: 31.81641143, Train Accuracy:93.05322129,  Val Accuracy: 67.41071429, Epoch Time: 11.95360613\n"
     ]
    },
    {
     "name": "stderr",
     "output_type": "stream",
     "text": [
      "56it [00:10,  5.52it/s]\n",
      "7it [00:01,  5.00it/s]\n"
     ]
    },
    {
     "name": "stdout",
     "output_type": "stream",
     "text": [
      "\n",
      "Epoch: 10/15, Train Loss: 5.13668418 , Val Loss: 34.56467356, Train Accuracy:92.77310924,  Val Accuracy: 69.19642857, Epoch Time: 11.80806422\n",
      "Early stopping on, 9th, epoch\n",
      "\n",
      "=====>Generating f_emb<=====\n",
      "\n",
      "torch.Size([1536])\n",
      "{'dataset': ['sldc_0_10', 'sldc_0_10', 'sldc_0_10', 'sldc_0_10', 'sldc_0_10', 'sldc_0_10', 'corales_0_14', 'corales_0_14', 'corales_0_14', 'corales_0_14', 'corales_0_14', 'corales_0_14', '6000-store-items-images-classified-by-color_imoore_0_12', '6000-store-items-images-classified-by-color_imoore_0_12', '6000-store-items-images-classified-by-color_imoore_0_12', '6000-store-items-images-classified-by-color_imoore_0_12', '6000-store-items-images-classified-by-color_imoore_0_12', '6000-store-items-images-classified-by-color_imoore_0_12', 'fcis-sc-deeplearning-competition_0_10', 'fcis-sc-deeplearning-competition_0_10', 'fcis-sc-deeplearning-competition_0_10', 'fcis-sc-deeplearning-competition_0_10', 'fcis-sc-deeplearning-competition_0_10', 'fcis-sc-deeplearning-competition_0_10', 'lego-brick-images_joosthazelzet_0_16', 'lego-brick-images_joosthazelzet_0_16', 'lego-brick-images_joosthazelzet_0_16', 'lego-brick-images_joosthazelzet_0_16', 'lego-brick-images_joosthazelzet_0_16', 'lego-brick-images_joosthazelzet_0_16', 'oregon-wildlife_virtualdvid_0_20', 'oregon-wildlife_virtualdvid_0_20', 'oregon-wildlife_virtualdvid_0_20', 'oregon-wildlife_virtualdvid_0_20', 'oregon-wildlife_virtualdvid_0_20', 'oregon-wildlife_virtualdvid_0_20', 'perritos_0_10', 'perritos_0_10', 'perritos_0_10', 'perritos_0_10', 'perritos_0_10', 'perritos_0_10', 'khu-deep-learning-competition_0_10', 'khu-deep-learning-competition_0_10', 'khu-deep-learning-competition_0_10', 'khu-deep-learning-competition_0_10', 'khu-deep-learning-competition_0_10', 'khu-deep-learning-competition_0_10', 'plant-seedlings-classification_0_12', 'plant-seedlings-classification_0_12', 'plant-seedlings-classification_0_12', 'plant-seedlings-classification_0_12', 'plant-seedlings-classification_0_12', 'plant-seedlings-classification_0_12', 'skin-cancer9-classesisic_nodoubttome_0_9', 'skin-cancer9-classesisic_nodoubttome_0_9', 'skin-cancer9-classesisic_nodoubttome_0_9'], 'topol': [[3, 5, 5, 5, 7, 5, 5, 7, 3, 5, 7, 7, 7, 5, 7, 5, 3, 3, 7, 3, 4, 3, 6, 3, 6, 6, 4, 4, 6, 4, 3, 6, 6, 3, 4, 6, 3, 4, 6, 3, 3, 4, 2, 4, 4], [3, 7, 7, 7, 5, 7, 5, 3, 7, 5, 3, 3, 5, 5, 3, 7, 7, 5, 3, 5, 3, 4, 6, 3, 6, 4, 6, 4, 4, 3, 3, 3, 3, 6, 6, 3, 3, 4, 6, 4, 4, 3, 2, 2, 4], [3, 7, 5, 5, 3, 7, 7, 5, 5, 5, 5, 5, 5, 7, 7, 7, 7, 7, 5, 7, 6, 6, 6, 3, 6, 3, 4, 4, 6, 6, 6, 4, 3, 6, 4, 6, 6, 4, 6, 4, 2, 3, 3, 3, 4], [7, 5, 3, 3, 5, 3, 5, 5, 5, 5, 3, 7, 7, 5, 7, 3, 3, 5, 3, 5, 3, 4, 6, 6, 6, 3, 6, 3, 6, 3, 6, 4, 4, 6, 6, 4, 6, 6, 6, 4, 2, 2, 2, 3, 2], [3, 5, 5, 7, 5, 5, 7, 3, 7, 5, 5, 5, 3, 5, 3, 7, 5, 7, 7, 3, 3, 6, 3, 3, 6, 3, 6, 6, 4, 4, 3, 4, 4, 3, 6, 6, 4, 3, 4, 3, 4, 3, 4, 4, 4], [3, 3, 5, 5, 7, 5, 5, 5, 5, 5, 3, 3, 3, 3, 3, 7, 7, 3, 5, 5, 6, 4, 3, 4, 4, 4, 3, 6, 4, 3, 6, 4, 4, 4, 6, 6, 4, 4, 3, 6, 4, 2, 4, 3, 3], [7, 7, 5, 5, 5, 5, 3, 3, 3, 5, 7, 5, 5, 3, 3, 5, 5, 5, 7, 5, 3, 4, 3, 6, 6, 4, 3, 4, 6, 6, 4, 4, 6, 4, 4, 3, 6, 4, 3, 6, 2, 4, 4, 3, 2], [3, 3, 3, 7, 7, 5, 5, 7, 7, 5, 7, 7, 7, 7, 3, 5, 7, 7, 7, 3, 6, 4, 6, 3, 3, 4, 6, 6, 3, 3, 4, 4, 4, 4, 6, 6, 3, 4, 4, 3, 2, 4, 4, 2, 3], [5, 5, 3, 5, 7, 3, 5, 7, 7, 5, 3, 7, 7, 3, 3, 7, 3, 3, 7, 3, 4, 4, 6, 6, 3, 6, 3, 6, 3, 4, 4, 6, 3, 4, 6, 3, 6, 6, 4, 4, 4, 2, 4, 4, 4], [3, 5, 3, 5, 3, 3, 7, 7, 3, 3, 5, 7, 5, 3, 7, 7, 3, 3, 3, 7, 3, 4, 6, 6, 4, 4, 6, 6, 3, 3, 3, 6, 3, 6, 3, 4, 3, 4, 6, 6, 4, 4, 4, 3, 2], [3, 7, 7, 5, 7, 3, 7, 5, 7, 7, 7, 5, 7, 5, 3, 7, 5, 5, 5, 5, 6, 3, 6, 6, 4, 6, 6, 4, 6, 6, 6, 3, 3, 3, 3, 3, 6, 6, 4, 4, 3, 4, 2, 2, 3], [7, 7, 3, 3, 5, 7, 3, 5, 5, 3, 3, 3, 5, 7, 3, 7, 7, 5, 7, 7, 6, 3, 4, 3, 3, 3, 4, 3, 3, 4, 6, 6, 6, 4, 4, 6, 6, 4, 3, 4, 2, 2, 3, 4, 3], [7, 3, 3, 3, 3, 3, 5, 7, 5, 3, 5, 5, 3, 7, 7, 7, 5, 3, 7, 5, 3, 6, 3, 6, 6, 3, 4, 3, 6, 6, 3, 4, 3, 4, 4, 3, 4, 6, 6, 4, 3, 3, 2, 3, 3], [3, 3, 7, 5, 7, 3, 5, 7, 3, 5, 3, 5, 5, 5, 5, 3, 5, 5, 3, 3, 3, 6, 6, 6, 6, 6, 4, 3, 4, 4, 6, 4, 3, 6, 3, 6, 3, 6, 4, 6, 2, 2, 2, 3, 3], [5, 3, 5, 5, 5, 5, 7, 7, 3, 7, 7, 7, 3, 3, 7, 3, 7, 5, 5, 3, 3, 3, 6, 4, 6, 4, 4, 3, 6, 4, 6, 6, 3, 6, 4, 4, 3, 4, 3, 4, 3, 3, 4, 4, 4], [5, 5, 7, 5, 5, 5, 5, 7, 3, 3, 7, 3, 7, 5, 3, 3, 5, 7, 3, 3, 4, 4, 4, 4, 3, 4, 6, 3, 4, 6, 6, 3, 6, 3, 4, 6, 6, 4, 4, 6, 2, 4, 2, 3, 3], [7, 5, 3, 3, 7, 7, 7, 7, 5, 7, 5, 3, 7, 3, 5, 7, 3, 5, 7, 5, 4, 4, 4, 6, 4, 3, 3, 6, 3, 6, 4, 6, 6, 6, 6, 6, 3, 4, 6, 4, 2, 2, 2, 4, 3], [3, 3, 3, 7, 7, 3, 3, 7, 7, 7, 7, 5, 5, 7, 7, 3, 7, 7, 5, 7, 3, 4, 3, 3, 6, 3, 6, 3, 6, 3, 6, 3, 4, 3, 3, 6, 4, 4, 3, 6, 4, 4, 2, 4, 3], [3, 7, 7, 7, 3, 5, 3, 7, 5, 3, 5, 5, 7, 3, 5, 5, 3, 7, 5, 5, 4, 3, 4, 4, 3, 4, 6, 4, 6, 4, 3, 3, 3, 3, 6, 3, 4, 6, 4, 3, 4, 2, 4, 4, 3], [7, 7, 3, 5, 5, 5, 7, 3, 3, 5, 3, 3, 5, 7, 7, 3, 3, 7, 3, 3, 3, 3, 4, 6, 4, 6, 6, 6, 4, 3, 3, 6, 6, 4, 3, 4, 6, 4, 4, 4, 2, 4, 2, 3, 2], [3, 7, 7, 3, 5, 7, 7, 5, 7, 3, 5, 7, 7, 3, 5, 5, 5, 3, 3, 5, 3, 4, 3, 4, 3, 4, 6, 3, 6, 3, 4, 3, 4, 4, 4, 6, 3, 3, 4, 3, 3, 3, 2, 4, 2], [3, 7, 5, 3, 3, 5, 5, 7, 5, 7, 3, 5, 3, 7, 7, 5, 5, 7, 3, 3, 3, 3, 4, 6, 3, 6, 4, 3, 6, 4, 6, 4, 6, 6, 6, 6, 3, 4, 3, 6, 4, 4, 2, 2, 3], [3, 7, 3, 3, 5, 7, 5, 7, 5, 7, 7, 7, 7, 3, 3, 3, 7, 3, 3, 3, 6, 4, 4, 3, 4, 6, 4, 6, 4, 6, 6, 4, 4, 3, 3, 3, 6, 4, 3, 3, 2, 4, 4, 4, 4], [5, 5, 7, 5, 7, 3, 7, 7, 7, 5, 7, 3, 5, 3, 5, 7, 3, 7, 7, 5, 4, 3, 6, 6, 6, 3, 6, 3, 6, 3, 3, 6, 4, 4, 3, 3, 3, 3, 3, 3, 3, 2, 3, 4, 2], [7, 3, 7, 3, 5, 5, 3, 3, 7, 3, 7, 7, 7, 5, 5, 5, 5, 7, 5, 5, 6, 4, 3, 3, 4, 3, 3, 4, 4, 3, 6, 6, 3, 4, 4, 6, 6, 4, 6, 3, 3, 4, 4, 4, 2], [5, 5, 3, 7, 3, 7, 7, 5, 3, 7, 7, 5, 5, 7, 7, 7, 5, 7, 5, 3, 4, 4, 3, 3, 4, 3, 4, 6, 3, 3, 3, 4, 6, 6, 4, 6, 6, 4, 3, 4, 4, 4, 4, 3, 4], [5, 5, 3, 5, 7, 3, 5, 5, 3, 5, 7, 3, 5, 3, 3, 5, 7, 7, 5, 5, 4, 3, 6, 4, 6, 6, 6, 4, 3, 6, 6, 6, 4, 4, 4, 4, 3, 4, 3, 6, 2, 4, 2, 4, 3], [5, 3, 5, 3, 5, 3, 3, 3, 7, 3, 5, 7, 5, 7, 3, 7, 7, 5, 5, 3, 6, 3, 6, 6, 3, 4, 3, 4, 6, 3, 4, 6, 3, 3, 4, 4, 6, 6, 6, 4, 3, 4, 4, 4, 3], [7, 5, 3, 7, 3, 5, 3, 5, 3, 5, 7, 3, 7, 7, 5, 7, 7, 3, 3, 3, 3, 3, 6, 4, 3, 4, 4, 3, 3, 3, 3, 4, 3, 3, 3, 3, 6, 6, 4, 4, 2, 4, 2, 4, 2], [5, 7, 7, 5, 5, 5, 7, 7, 7, 3, 5, 5, 5, 5, 3, 3, 5, 7, 3, 5, 3, 4, 4, 3, 3, 6, 6, 4, 4, 3, 4, 3, 3, 6, 4, 6, 4, 3, 3, 3, 2, 2, 4, 2, 2], [5, 5, 7, 3, 3, 3, 5, 3, 5, 5, 3, 3, 5, 7, 5, 3, 5, 3, 7, 7, 3, 3, 4, 4, 3, 3, 3, 3, 4, 6, 6, 4, 3, 4, 6, 4, 4, 4, 3, 3, 4, 4, 3, 2, 3], [3, 5, 5, 5, 7, 5, 7, 7, 5, 5, 5, 5, 5, 7, 3, 5, 7, 7, 3, 5, 6, 6, 4, 6, 3, 3, 3, 4, 4, 3, 6, 4, 4, 3, 3, 6, 6, 3, 3, 6, 3, 4, 3, 2, 2], [3, 3, 7, 5, 5, 5, 7, 7, 7, 5, 3, 3, 3, 3, 7, 5, 5, 5, 3, 3, 3, 3, 3, 6, 4, 4, 6, 4, 3, 6, 4, 3, 6, 4, 3, 6, 6, 3, 4, 6, 2, 4, 2, 3, 4], [5, 3, 3, 3, 7, 5, 7, 3, 5, 5, 3, 3, 3, 5, 3, 5, 7, 3, 5, 3, 6, 3, 4, 6, 3, 6, 4, 3, 4, 3, 4, 4, 6, 3, 4, 4, 3, 3, 6, 6, 2, 3, 3, 2, 2], [3, 7, 3, 5, 3, 7, 5, 3, 7, 7, 3, 5, 5, 3, 7, 5, 5, 7, 7, 7, 4, 6, 6, 3, 6, 6, 4, 4, 3, 6, 6, 6, 3, 3, 3, 4, 4, 6, 3, 3, 2, 4, 3, 4, 3], [3, 3, 3, 5, 3, 3, 3, 5, 7, 3, 7, 5, 3, 7, 5, 3, 7, 7, 3, 7, 6, 3, 3, 6, 3, 6, 6, 3, 6, 6, 4, 4, 4, 3, 6, 3, 6, 3, 3, 6, 2, 3, 4, 4, 4], [5, 7, 3, 7, 3, 7, 5, 5, 5, 7, 7, 3, 3, 3, 7, 3, 5, 5, 3, 5, 6, 4, 6, 6, 6, 4, 6, 3, 4, 4, 3, 3, 6, 6, 4, 3, 4, 3, 6, 4, 2, 2, 3, 4, 3], [3, 3, 3, 3, 5, 7, 5, 3, 3, 7, 3, 3, 5, 3, 3, 3, 3, 3, 3, 3, 6, 3, 6, 4, 4, 3, 6, 6, 3, 6, 6, 3, 6, 6, 6, 3, 4, 3, 3, 4, 4, 3, 2, 4, 2], [5, 5, 7, 3, 3, 3, 7, 5, 7, 7, 3, 7, 5, 3, 5, 7, 7, 5, 5, 5, 4, 4, 3, 4, 3, 3, 6, 6, 6, 3, 4, 6, 6, 3, 3, 4, 6, 6, 6, 3, 2, 3, 3, 2, 3], [3, 3, 3, 3, 5, 3, 5, 3, 7, 3, 5, 5, 7, 3, 5, 7, 3, 5, 5, 7, 4, 3, 6, 4, 3, 6, 6, 4, 4, 4, 3, 6, 6, 3, 3, 6, 3, 3, 6, 6, 3, 2, 2, 4, 3], [3, 7, 5, 5, 7, 5, 7, 3, 3, 5, 5, 3, 5, 3, 5, 3, 3, 7, 3, 3, 3, 4, 4, 6, 6, 6, 3, 6, 6, 4, 3, 6, 6, 6, 6, 4, 3, 3, 3, 6, 3, 4, 4, 4, 2], [5, 7, 3, 3, 7, 5, 7, 5, 3, 3, 5, 5, 7, 3, 3, 7, 7, 3, 5, 5, 6, 3, 6, 6, 6, 3, 6, 6, 4, 3, 6, 3, 3, 3, 3, 3, 4, 6, 3, 3, 2, 2, 4, 2, 3], [3, 7, 5, 5, 5, 3, 7, 5, 7, 5, 3, 3, 5, 3, 3, 7, 3, 7, 3, 5, 3, 4, 3, 6, 4, 3, 3, 4, 4, 6, 6, 3, 3, 3, 6, 6, 4, 4, 3, 6, 4, 4, 4, 3, 4], [5, 3, 5, 3, 5, 3, 7, 3, 3, 5, 5, 3, 5, 7, 5, 7, 7, 5, 3, 7, 4, 4, 6, 3, 3, 6, 3, 3, 3, 3, 4, 4, 3, 6, 4, 3, 6, 3, 3, 3, 4, 3, 3, 2, 2], [7, 7, 5, 3, 7, 7, 3, 7, 5, 5, 7, 3, 3, 5, 7, 7, 5, 5, 5, 3, 4, 3, 4, 6, 3, 4, 6, 3, 3, 6, 3, 6, 3, 4, 3, 3, 6, 4, 3, 3, 3, 2, 4, 2, 2], [3, 7, 5, 3, 7, 7, 7, 5, 3, 3, 7, 7, 7, 5, 7, 5, 5, 5, 7, 5, 6, 3, 6, 4, 3, 3, 4, 6, 3, 4, 3, 6, 3, 4, 3, 3, 4, 3, 4, 4, 3, 3, 4, 4, 4], [5, 7, 7, 7, 7, 5, 5, 7, 7, 5, 7, 5, 5, 7, 7, 5, 7, 3, 3, 3, 6, 3, 6, 3, 4, 4, 4, 4, 6, 6, 4, 3, 4, 3, 6, 3, 3, 3, 4, 4, 4, 4, 4, 4, 3], [5, 5, 3, 3, 3, 7, 3, 3, 3, 7, 3, 5, 7, 5, 5, 7, 7, 3, 5, 7, 6, 3, 4, 3, 3, 4, 3, 3, 3, 3, 4, 3, 3, 6, 4, 6, 6, 4, 6, 3, 2, 3, 4, 3, 3], [3, 5, 3, 5, 3, 3, 5, 7, 3, 7, 3, 3, 3, 5, 3, 7, 7, 7, 5, 7, 3, 4, 3, 6, 3, 4, 3, 4, 4, 4, 3, 4, 3, 4, 6, 4, 4, 3, 3, 4, 3, 4, 3, 4, 2], [3, 5, 3, 3, 5, 7, 3, 5, 3, 7, 7, 3, 7, 5, 7, 3, 7, 5, 5, 3, 4, 4, 4, 4, 3, 4, 4, 4, 3, 6, 6, 6, 4, 6, 3, 4, 6, 6, 6, 4, 2, 2, 4, 3, 4], [3, 3, 7, 7, 5, 5, 3, 3, 3, 5, 5, 7, 7, 5, 7, 3, 5, 3, 3, 5, 4, 6, 6, 3, 6, 3, 3, 4, 6, 3, 4, 6, 4, 3, 6, 4, 6, 4, 4, 3, 4, 3, 2, 2, 2], [3, 3, 7, 5, 7, 5, 3, 5, 3, 5, 7, 3, 5, 3, 7, 3, 7, 5, 7, 7, 6, 4, 6, 6, 6, 3, 3, 3, 6, 4, 3, 6, 3, 3, 3, 4, 4, 6, 3, 3, 2, 2, 2, 4, 4], [5, 5, 3, 7, 5, 5, 7, 7, 3, 5, 3, 7, 5, 5, 5, 5, 3, 7, 5, 3, 3, 3, 4, 6, 6, 3, 4, 6, 6, 4, 3, 6, 3, 4, 4, 4, 4, 3, 4, 3, 2, 3, 4, 3, 3], [5, 3, 5, 7, 3, 7, 7, 3, 3, 7, 7, 3, 5, 3, 7, 7, 3, 5, 5, 3, 6, 6, 4, 4, 3, 6, 3, 4, 6, 4, 3, 6, 3, 6, 6, 4, 4, 4, 4, 3, 4, 2, 2, 2, 2], [5, 3, 7, 5, 5, 3, 3, 3, 7, 7, 3, 7, 3, 3, 7, 7, 7, 7, 3, 5, 4, 3, 3, 6, 6, 3, 3, 6, 6, 4, 3, 4, 3, 4, 4, 6, 6, 3, 4, 6, 2, 2, 3, 3, 4], [3, 7, 3, 5, 5, 3, 7, 3, 7, 5, 5, 5, 7, 5, 3, 3, 5, 3, 3, 3, 3, 6, 3, 4, 6, 6, 3, 4, 3, 3, 4, 6, 6, 6, 6, 3, 6, 6, 3, 3, 3, 4, 4, 2, 3], [5, 3, 5, 3, 5, 5, 3, 5, 7, 5, 7, 5, 5, 7, 7, 5, 7, 7, 5, 7, 6, 6, 6, 4, 6, 4, 6, 6, 3, 3, 3, 6, 3, 6, 4, 4, 3, 3, 6, 4, 3, 2, 4, 2, 4]], 'f_emb': [tensor([-0., -0., -0.,  ..., -0., -0., -0.]), tensor([-0., -0., -0.,  ..., -0., -0., -0.]), tensor([1226.8495,   -0.0000,   -0.0000,  ...,   -0.0000,   -0.0000,\n",
      "          -0.0000]), tensor([-0., -0., -0.,  ..., -0., -0., -0.]), tensor([188.3607,  -0.0000,  -0.0000,  ...,  -0.0000,  -0.0000, 213.2732]), tensor([-0., -0., -0.,  ..., -0., -0., -0.]), tensor([-0., -0., -0.,  ..., -0., -0., -0.]), tensor([-0.0000, -0.0000, -0.0000,  ..., -0.0000, -0.0000, 9.9611]), tensor([38.6843, -0.0000, -0.0000,  ..., -0.0000, -0.0000, -0.0000]), tensor([ 0.5262, -0.3664,  0.4536,  ..., -0.3597, -0.2121, -0.3281]), tensor([-0., -0., -0.,  ..., -0., -0., -0.]), tensor([-0.0000, -0.0000, -0.0000,  ..., 30.1783, -0.0000,  3.6916]), tensor([-0., -0., -0.,  ..., -0., -0., -0.]), tensor([-0., -0., -0.,  ..., -0., -0., -0.]), tensor([18.3999, -0.0000, -0.0000,  ..., -0.0000, -0.0000, 45.3672]), tensor([ 0.2349,  0.1743,  0.1660,  ...,  0.3616,  0.0957, -0.3534]), tensor([-0.2793, -0.3249, -0.3683,  ..., -0.0000, -0.0000, -0.3627]), tensor([ 0.0759, -0.3346, -0.2591,  ...,  0.4824, -0.2551, -0.1757]), tensor([ 0.4264, -0.1865, -0.1025,  ..., -0.1637,  0.7777, -0.3373]), tensor([ 0.4347, -0.2336, -0.2793,  ..., -0.3347, -0.3469, -0.1162]), tensor([ 0.0104,  0.4655, -0.3177,  ..., -0.1076,  0.8267, -0.3667]), tensor([ 0.0873,  0.1475, -0.3670,  ..., -0.1698,  0.0327, -0.3572]), tensor([322.7029,  -0.0000,  83.4842,  ...,  -0.0000,  -0.0000,  -0.0000]), tensor([-0.3365, -0.0309, -0.3139,  ...,  0.1455, -0.3260, -0.3622]), tensor([-0.0000, -0.0000, -0.0000,  ..., -0.0000, -0.0000, 3.1642]), tensor([    -0.0000,     -0.0000, 159417.2812,  ...,     -0.0000,\n",
      "            -0.0000, 179515.1562]), tensor([-0.0014, -0.3527, -0.0000,  ..., -0.0000, -0.0000, -0.0000]), tensor([6770305.5000,      -0.0000,      -0.0000,  ...,      -0.0000,\n",
      "             -0.0000,      -0.0000]), tensor([1609.9169,   -0.0000,   -0.0000,  ...,   -0.0000,   -0.0000,\n",
      "          -0.0000]), tensor([-0., -0., -0.,  ..., -0., -0., -0.]), tensor([-0.0067, -0.3482, -0.3706,  ..., -0.3683, -0.0611,  0.0504]), tensor([ 1.4714, -0.0000, -0.0945,  ..., -0.2832, -0.0000, -0.3679]), tensor([ 1.7539, 21.7252, -0.0000,  ..., -0.0000, -0.0000, 13.5089]), tensor([-0.3179, -0.3455, -0.3743,  ..., -0.2527,  0.1497, -0.0043]), tensor([-0.3241, -0.2744, -0.1231,  ..., -0.1582, -0.2237, -0.0000]), tensor([-0.1600,  3.9948, -0.0000,  ..., -0.0000, -0.0000,  8.6842]), tensor([-0.1209,  0.0394, -0.3112,  ..., -0.2695, -0.1538, -0.1348]), tensor([255.8073,  -0.0000, 140.1278,  ...,  -0.0000,  -0.0000,  -0.0000]), tensor([-0., -0., -0.,  ..., -0., -0., -0.]), tensor([-0.0667, -0.2547, -0.3669,  ...,  0.1411, -0.0529, -0.0764]), tensor([ 0.0093, -0.3176, -0.3739,  ..., -0.1065,  0.4898, -0.3551]), tensor([-0.3701, -0.1757, -0.3706,  ..., -0.3319, -0.2591,  0.1290]), tensor([-0.3745, -0.1032, -0.1967,  ..., -0.0000, -0.0000, -0.0593]), tensor([-0.3677, -0.2142, -0.0000,  ..., -0.0000, -0.0000, -0.3277]), tensor([-0., -0., -0.,  ..., -0., -0., -0.]), tensor([3.1169, -0.0000, -0.0000,  ..., -0.0000, -0.0000, 8.0993]), tensor([-0.2472, -0.3239, -0.2829,  ..., -0.3483, -0.2882, -0.2494]), tensor([-0.3634, -0.3321, -0.1018,  ..., -0.3687, -0.3750, -0.2305]), tensor([-0.1774, -0.3653, -0.2880,  ..., -0.3545, -0.3617, -0.3650]), tensor([8691.3945,   -0.0000,   -0.0000,  ...,   -0.0000,   -0.0000,\n"
     ]
    },
    {
     "name": "stderr",
     "output_type": "stream",
     "text": [
      "Using cache found in /root/.cache/torch/hub/mit-han-lab_once-for-all_master\n"
     ]
    },
    {
     "name": "stdout",
     "output_type": "stream",
     "text": [
      "        8597.5059]), tensor([9.0331, -0.0000, -0.0000,  ..., -0.0000, -0.0000, -0.0000]), tensor([42.5141, -0.0000, -0.0000,  ..., -0.0000, -0.0000, -0.0000]), tensor([65.9789, -0.0000, -0.0000,  ..., -0.0000, -0.0000, -0.0000]), tensor([-0., -0., -0.,  ..., -0., -0., -0.]), tensor([722.0713,  -0.0000,  35.6799,  ...,  -0.0000, 312.9419,  70.5834]), tensor([-0., -0., -0.,  ..., -0., -0., -0.]), tensor([-0.1471, -0.2599, -0.3613,  ..., -0.1913, -0.1905, -0.0606])], 'acc': [99.51923076923077, 99.03846153846153, 99.51923076923077, 99.51923076923077, 99.51923076923077, 99.51923076923077, 98.38709677419355, 96.7741935483871, 98.38709677419355, 98.38709677419355, 8.064516129032258, 96.7741935483871, 77.08333333333333, 76.4423076923077, 78.68589743589743, 77.40384615384616, 77.24358974358974, 78.36538461538461, 94.23076923076923, 75.64102564102564, 90.7051282051282, 94.23076923076923, 91.34615384615384, 94.23076923076923, 99.52978056426332, 99.3730407523511, 99.68652037617555, 99.68652037617555, 100.0, 99.3730407523511, 84.88700564971751, 87.99435028248588, 86.7231638418079, 85.73446327683615, 87.99435028248588, 86.44067796610169, 96.6740576496674, 97.11751662971176, 97.00665188470066, 97.22838137472284, 96.6740576496674, 95.56541019955654, 94.0, 94.6, 94.0, 95.0, 95.2, 95.0, 97.46835443037975, 95.78059071729957, 95.78059071729957, 95.78059071729957, 97.0464135021097, 95.9915611814346, 67.41071428571429, 66.96428571428571, 69.19642857142857], 'n_params': [6228442, 5625114, 6570290, 5347354, 5825218, 4821626, 4711646, 4554646, 6688342, 4317614, 5203934, 5550702, 5717244, 5151700, 5773028, 5059684, 6364428, 4930308, 5608818, 4493962, 4318938, 4537954, 5514050, 3861938, 5155304, 6005320, 4798208, 6420784, 4792312, 3845304, 4249220, 3881348, 5982340, 3517428, 5327428, 6367692, 5599490, 4745802, 5815994, 5362738, 5007786, 4598522, 5921562, 4126858, 4121234, 5318114, 5013634, 5773418, 4451268, 7041756, 3900292, 5413740, 4585324, 3943980, 5856793, 5602273, 5582713]}\n",
      "\n",
      "=====> Generating 4th network  <=====\n",
      "\n",
      "\n",
      "=====>Generating sub_net<=====\n",
      "\n",
      "\n",
      "=====> Training started <=====\n",
      "\n",
      "Starting Training for:skin-cancer9-classesisic_nodoubttome_0_9 with model topology:[3, 3, 3, 7, 3, 7, 7, 7, 5, 3, 5, 7, 3, 7, 7, 7, 7, 3, 7, 3, 3, 3, 3, 4, 3, 3, 3, 4, 3, 6, 6, 3, 6, 3, 3, 6, 6, 6, 6, 4, 2, 2, 3, 4, 2]\n"
     ]
    },
    {
     "name": "stderr",
     "output_type": "stream",
     "text": [
      "56it [00:09,  6.08it/s]\n",
      "7it [00:01,  5.45it/s]\n"
     ]
    },
    {
     "name": "stdout",
     "output_type": "stream",
     "text": [
      "\n",
      "Epoch: 1/15, Train Loss: 53.22741384 , Val Loss: 46.72872979, Train Accuracy:43.64145658,  Val Accuracy: 50.44642857, Epoch Time: 10.75759649\n"
     ]
    },
    {
     "name": "stderr",
     "output_type": "stream",
     "text": [
      "56it [00:09,  5.85it/s]\n",
      "7it [00:01,  5.46it/s]\n"
     ]
    },
    {
     "name": "stdout",
     "output_type": "stream",
     "text": [
      "\n",
      "Epoch: 2/15, Train Loss: 29.55789845 , Val Loss: 32.48418563, Train Accuracy:69.80392157,  Val Accuracy: 65.17857143, Epoch Time: 11.07608414\n"
     ]
    },
    {
     "name": "stderr",
     "output_type": "stream",
     "text": [
      "56it [00:09,  6.07it/s]\n",
      "7it [00:01,  5.21it/s]\n"
     ]
    },
    {
     "name": "stdout",
     "output_type": "stream",
     "text": [
      "\n",
      "Epoch: 3/15, Train Loss: 23.53493353 , Val Loss: 34.25029237, Train Accuracy:75.68627451,  Val Accuracy: 61.60714286, Epoch Time: 10.82329464\n"
     ]
    },
    {
     "name": "stderr",
     "output_type": "stream",
     "text": [
      "56it [00:09,  6.09it/s]\n",
      "7it [00:01,  5.30it/s]\n"
     ]
    },
    {
     "name": "stdout",
     "output_type": "stream",
     "text": [
      "\n",
      "Epoch: 4/15, Train Loss: 16.88415938 , Val Loss: 31.37724904, Train Accuracy:80.61624650,  Val Accuracy: 64.28571429, Epoch Time: 10.74515629\n"
     ]
    },
    {
     "name": "stderr",
     "output_type": "stream",
     "text": [
      "56it [00:09,  5.76it/s]\n",
      "7it [00:01,  5.65it/s]\n"
     ]
    },
    {
     "name": "stdout",
     "output_type": "stream",
     "text": [
      "\n",
      "Epoch: 5/15, Train Loss: 12.44359007 , Val Loss: 32.00991821, Train Accuracy:86.27450980,  Val Accuracy: 61.60714286, Epoch Time: 11.19250727\n"
     ]
    },
    {
     "name": "stderr",
     "output_type": "stream",
     "text": [
      "56it [00:09,  6.11it/s]\n",
      "7it [00:01,  5.02it/s]\n"
     ]
    },
    {
     "name": "stdout",
     "output_type": "stream",
     "text": [
      "\n",
      "Epoch: 6/15, Train Loss: 8.77481272 , Val Loss: 31.95089831, Train Accuracy:89.80392157,  Val Accuracy: 62.50000000, Epoch Time: 10.81989479\n"
     ]
    },
    {
     "name": "stderr",
     "output_type": "stream",
     "text": [
      "56it [00:09,  6.18it/s]\n",
      "7it [00:01,  5.31it/s]\n"
     ]
    },
    {
     "name": "stdout",
     "output_type": "stream",
     "text": [
      "\n",
      "Epoch: 7/15, Train Loss: 7.06110999 , Val Loss: 31.38071741, Train Accuracy:91.82072829,  Val Accuracy: 64.73214286, Epoch Time: 10.61699486\n"
     ]
    },
    {
     "name": "stderr",
     "output_type": "stream",
     "text": [
      "56it [00:09,  5.89it/s]\n",
      "7it [00:01,  5.49it/s]\n"
     ]
    },
    {
     "name": "stdout",
     "output_type": "stream",
     "text": [
      "\n",
      "Epoch: 8/15, Train Loss: 5.94881768 , Val Loss: 26.94835200, Train Accuracy:92.88515406,  Val Accuracy: 70.98214286, Epoch Time: 11.01727962\n"
     ]
    },
    {
     "name": "stderr",
     "output_type": "stream",
     "text": [
      "56it [00:09,  6.13it/s]\n",
      "7it [00:01,  5.23it/s]\n"
     ]
    },
    {
     "name": "stdout",
     "output_type": "stream",
     "text": [
      "\n",
      "Epoch: 9/15, Train Loss: 5.31175632 , Val Loss: 28.99309921, Train Accuracy:92.71708683,  Val Accuracy: 69.64285714, Epoch Time: 10.73024774\n"
     ]
    },
    {
     "name": "stderr",
     "output_type": "stream",
     "text": [
      "56it [00:09,  6.13it/s]\n",
      "7it [00:01,  5.10it/s]\n"
     ]
    },
    {
     "name": "stdout",
     "output_type": "stream",
     "text": [
      "\n",
      "Epoch: 10/15, Train Loss: 4.90381380 , Val Loss: 29.65203558, Train Accuracy:93.38935574,  Val Accuracy: 70.08928571, Epoch Time: 10.73583841\n"
     ]
    },
    {
     "name": "stderr",
     "output_type": "stream",
     "text": [
      "56it [00:09,  6.09it/s]\n",
      "7it [00:01,  5.45it/s]\n"
     ]
    },
    {
     "name": "stdout",
     "output_type": "stream",
     "text": [
      "\n",
      "Epoch: 11/15, Train Loss: 4.76935704 , Val Loss: 29.89011083, Train Accuracy:92.99719888,  Val Accuracy: 69.19642857, Epoch Time: 10.77238417\n"
     ]
    },
    {
     "name": "stderr",
     "output_type": "stream",
     "text": [
      "56it [00:09,  6.14it/s]\n",
      "7it [00:01,  5.13it/s]\n"
     ]
    },
    {
     "name": "stdout",
     "output_type": "stream",
     "text": [
      "\n",
      "Epoch: 12/15, Train Loss: 4.47670021 , Val Loss: 32.31390490, Train Accuracy:94.34173669,  Val Accuracy: 68.30357143, Epoch Time: 10.75427866\n"
     ]
    },
    {
     "name": "stderr",
     "output_type": "stream",
     "text": [
      "56it [00:09,  6.15it/s]\n",
      "7it [00:01,  4.49it/s]\n"
     ]
    },
    {
     "name": "stdout",
     "output_type": "stream",
     "text": [
      "\n",
      "Epoch: 13/15, Train Loss: 4.22567547 , Val Loss: 32.54940578, Train Accuracy:93.66946779,  Val Accuracy: 67.85714286, Epoch Time: 10.90564370\n",
      "Early stopping on, 12th, epoch\n",
      "\n",
      "=====>Generating f_emb<=====\n",
      "\n",
      "torch.Size([1536])\n",
      "{'dataset': ['sldc_0_10', 'sldc_0_10', 'sldc_0_10', 'sldc_0_10', 'sldc_0_10', 'sldc_0_10', 'corales_0_14', 'corales_0_14', 'corales_0_14', 'corales_0_14', 'corales_0_14', 'corales_0_14', '6000-store-items-images-classified-by-color_imoore_0_12', '6000-store-items-images-classified-by-color_imoore_0_12', '6000-store-items-images-classified-by-color_imoore_0_12', '6000-store-items-images-classified-by-color_imoore_0_12', '6000-store-items-images-classified-by-color_imoore_0_12', '6000-store-items-images-classified-by-color_imoore_0_12', 'fcis-sc-deeplearning-competition_0_10', 'fcis-sc-deeplearning-competition_0_10', 'fcis-sc-deeplearning-competition_0_10', 'fcis-sc-deeplearning-competition_0_10', 'fcis-sc-deeplearning-competition_0_10', 'fcis-sc-deeplearning-competition_0_10', 'lego-brick-images_joosthazelzet_0_16', 'lego-brick-images_joosthazelzet_0_16', 'lego-brick-images_joosthazelzet_0_16', 'lego-brick-images_joosthazelzet_0_16', 'lego-brick-images_joosthazelzet_0_16', 'lego-brick-images_joosthazelzet_0_16', 'oregon-wildlife_virtualdvid_0_20', 'oregon-wildlife_virtualdvid_0_20', 'oregon-wildlife_virtualdvid_0_20', 'oregon-wildlife_virtualdvid_0_20', 'oregon-wildlife_virtualdvid_0_20', 'oregon-wildlife_virtualdvid_0_20', 'perritos_0_10', 'perritos_0_10', 'perritos_0_10', 'perritos_0_10', 'perritos_0_10', 'perritos_0_10', 'khu-deep-learning-competition_0_10', 'khu-deep-learning-competition_0_10', 'khu-deep-learning-competition_0_10', 'khu-deep-learning-competition_0_10', 'khu-deep-learning-competition_0_10', 'khu-deep-learning-competition_0_10', 'plant-seedlings-classification_0_12', 'plant-seedlings-classification_0_12', 'plant-seedlings-classification_0_12', 'plant-seedlings-classification_0_12', 'plant-seedlings-classification_0_12', 'plant-seedlings-classification_0_12', 'skin-cancer9-classesisic_nodoubttome_0_9', 'skin-cancer9-classesisic_nodoubttome_0_9', 'skin-cancer9-classesisic_nodoubttome_0_9', 'skin-cancer9-classesisic_nodoubttome_0_9'], 'topol': [[3, 5, 5, 5, 7, 5, 5, 7, 3, 5, 7, 7, 7, 5, 7, 5, 3, 3, 7, 3, 4, 3, 6, 3, 6, 6, 4, 4, 6, 4, 3, 6, 6, 3, 4, 6, 3, 4, 6, 3, 3, 4, 2, 4, 4], [3, 7, 7, 7, 5, 7, 5, 3, 7, 5, 3, 3, 5, 5, 3, 7, 7, 5, 3, 5, 3, 4, 6, 3, 6, 4, 6, 4, 4, 3, 3, 3, 3, 6, 6, 3, 3, 4, 6, 4, 4, 3, 2, 2, 4], [3, 7, 5, 5, 3, 7, 7, 5, 5, 5, 5, 5, 5, 7, 7, 7, 7, 7, 5, 7, 6, 6, 6, 3, 6, 3, 4, 4, 6, 6, 6, 4, 3, 6, 4, 6, 6, 4, 6, 4, 2, 3, 3, 3, 4], [7, 5, 3, 3, 5, 3, 5, 5, 5, 5, 3, 7, 7, 5, 7, 3, 3, 5, 3, 5, 3, 4, 6, 6, 6, 3, 6, 3, 6, 3, 6, 4, 4, 6, 6, 4, 6, 6, 6, 4, 2, 2, 2, 3, 2], [3, 5, 5, 7, 5, 5, 7, 3, 7, 5, 5, 5, 3, 5, 3, 7, 5, 7, 7, 3, 3, 6, 3, 3, 6, 3, 6, 6, 4, 4, 3, 4, 4, 3, 6, 6, 4, 3, 4, 3, 4, 3, 4, 4, 4], [3, 3, 5, 5, 7, 5, 5, 5, 5, 5, 3, 3, 3, 3, 3, 7, 7, 3, 5, 5, 6, 4, 3, 4, 4, 4, 3, 6, 4, 3, 6, 4, 4, 4, 6, 6, 4, 4, 3, 6, 4, 2, 4, 3, 3], [7, 7, 5, 5, 5, 5, 3, 3, 3, 5, 7, 5, 5, 3, 3, 5, 5, 5, 7, 5, 3, 4, 3, 6, 6, 4, 3, 4, 6, 6, 4, 4, 6, 4, 4, 3, 6, 4, 3, 6, 2, 4, 4, 3, 2], [3, 3, 3, 7, 7, 5, 5, 7, 7, 5, 7, 7, 7, 7, 3, 5, 7, 7, 7, 3, 6, 4, 6, 3, 3, 4, 6, 6, 3, 3, 4, 4, 4, 4, 6, 6, 3, 4, 4, 3, 2, 4, 4, 2, 3], [5, 5, 3, 5, 7, 3, 5, 7, 7, 5, 3, 7, 7, 3, 3, 7, 3, 3, 7, 3, 4, 4, 6, 6, 3, 6, 3, 6, 3, 4, 4, 6, 3, 4, 6, 3, 6, 6, 4, 4, 4, 2, 4, 4, 4], [3, 5, 3, 5, 3, 3, 7, 7, 3, 3, 5, 7, 5, 3, 7, 7, 3, 3, 3, 7, 3, 4, 6, 6, 4, 4, 6, 6, 3, 3, 3, 6, 3, 6, 3, 4, 3, 4, 6, 6, 4, 4, 4, 3, 2], [3, 7, 7, 5, 7, 3, 7, 5, 7, 7, 7, 5, 7, 5, 3, 7, 5, 5, 5, 5, 6, 3, 6, 6, 4, 6, 6, 4, 6, 6, 6, 3, 3, 3, 3, 3, 6, 6, 4, 4, 3, 4, 2, 2, 3], [7, 7, 3, 3, 5, 7, 3, 5, 5, 3, 3, 3, 5, 7, 3, 7, 7, 5, 7, 7, 6, 3, 4, 3, 3, 3, 4, 3, 3, 4, 6, 6, 6, 4, 4, 6, 6, 4, 3, 4, 2, 2, 3, 4, 3], [7, 3, 3, 3, 3, 3, 5, 7, 5, 3, 5, 5, 3, 7, 7, 7, 5, 3, 7, 5, 3, 6, 3, 6, 6, 3, 4, 3, 6, 6, 3, 4, 3, 4, 4, 3, 4, 6, 6, 4, 3, 3, 2, 3, 3], [3, 3, 7, 5, 7, 3, 5, 7, 3, 5, 3, 5, 5, 5, 5, 3, 5, 5, 3, 3, 3, 6, 6, 6, 6, 6, 4, 3, 4, 4, 6, 4, 3, 6, 3, 6, 3, 6, 4, 6, 2, 2, 2, 3, 3], [5, 3, 5, 5, 5, 5, 7, 7, 3, 7, 7, 7, 3, 3, 7, 3, 7, 5, 5, 3, 3, 3, 6, 4, 6, 4, 4, 3, 6, 4, 6, 6, 3, 6, 4, 4, 3, 4, 3, 4, 3, 3, 4, 4, 4], [5, 5, 7, 5, 5, 5, 5, 7, 3, 3, 7, 3, 7, 5, 3, 3, 5, 7, 3, 3, 4, 4, 4, 4, 3, 4, 6, 3, 4, 6, 6, 3, 6, 3, 4, 6, 6, 4, 4, 6, 2, 4, 2, 3, 3], [7, 5, 3, 3, 7, 7, 7, 7, 5, 7, 5, 3, 7, 3, 5, 7, 3, 5, 7, 5, 4, 4, 4, 6, 4, 3, 3, 6, 3, 6, 4, 6, 6, 6, 6, 6, 3, 4, 6, 4, 2, 2, 2, 4, 3], [3, 3, 3, 7, 7, 3, 3, 7, 7, 7, 7, 5, 5, 7, 7, 3, 7, 7, 5, 7, 3, 4, 3, 3, 6, 3, 6, 3, 6, 3, 6, 3, 4, 3, 3, 6, 4, 4, 3, 6, 4, 4, 2, 4, 3], [3, 7, 7, 7, 3, 5, 3, 7, 5, 3, 5, 5, 7, 3, 5, 5, 3, 7, 5, 5, 4, 3, 4, 4, 3, 4, 6, 4, 6, 4, 3, 3, 3, 3, 6, 3, 4, 6, 4, 3, 4, 2, 4, 4, 3], [7, 7, 3, 5, 5, 5, 7, 3, 3, 5, 3, 3, 5, 7, 7, 3, 3, 7, 3, 3, 3, 3, 4, 6, 4, 6, 6, 6, 4, 3, 3, 6, 6, 4, 3, 4, 6, 4, 4, 4, 2, 4, 2, 3, 2], [3, 7, 7, 3, 5, 7, 7, 5, 7, 3, 5, 7, 7, 3, 5, 5, 5, 3, 3, 5, 3, 4, 3, 4, 3, 4, 6, 3, 6, 3, 4, 3, 4, 4, 4, 6, 3, 3, 4, 3, 3, 3, 2, 4, 2], [3, 7, 5, 3, 3, 5, 5, 7, 5, 7, 3, 5, 3, 7, 7, 5, 5, 7, 3, 3, 3, 3, 4, 6, 3, 6, 4, 3, 6, 4, 6, 4, 6, 6, 6, 6, 3, 4, 3, 6, 4, 4, 2, 2, 3], [3, 7, 3, 3, 5, 7, 5, 7, 5, 7, 7, 7, 7, 3, 3, 3, 7, 3, 3, 3, 6, 4, 4, 3, 4, 6, 4, 6, 4, 6, 6, 4, 4, 3, 3, 3, 6, 4, 3, 3, 2, 4, 4, 4, 4], [5, 5, 7, 5, 7, 3, 7, 7, 7, 5, 7, 3, 5, 3, 5, 7, 3, 7, 7, 5, 4, 3, 6, 6, 6, 3, 6, 3, 6, 3, 3, 6, 4, 4, 3, 3, 3, 3, 3, 3, 3, 2, 3, 4, 2], [7, 3, 7, 3, 5, 5, 3, 3, 7, 3, 7, 7, 7, 5, 5, 5, 5, 7, 5, 5, 6, 4, 3, 3, 4, 3, 3, 4, 4, 3, 6, 6, 3, 4, 4, 6, 6, 4, 6, 3, 3, 4, 4, 4, 2], [5, 5, 3, 7, 3, 7, 7, 5, 3, 7, 7, 5, 5, 7, 7, 7, 5, 7, 5, 3, 4, 4, 3, 3, 4, 3, 4, 6, 3, 3, 3, 4, 6, 6, 4, 6, 6, 4, 3, 4, 4, 4, 4, 3, 4], [5, 5, 3, 5, 7, 3, 5, 5, 3, 5, 7, 3, 5, 3, 3, 5, 7, 7, 5, 5, 4, 3, 6, 4, 6, 6, 6, 4, 3, 6, 6, 6, 4, 4, 4, 4, 3, 4, 3, 6, 2, 4, 2, 4, 3], [5, 3, 5, 3, 5, 3, 3, 3, 7, 3, 5, 7, 5, 7, 3, 7, 7, 5, 5, 3, 6, 3, 6, 6, 3, 4, 3, 4, 6, 3, 4, 6, 3, 3, 4, 4, 6, 6, 6, 4, 3, 4, 4, 4, 3], [7, 5, 3, 7, 3, 5, 3, 5, 3, 5, 7, 3, 7, 7, 5, 7, 7, 3, 3, 3, 3, 3, 6, 4, 3, 4, 4, 3, 3, 3, 3, 4, 3, 3, 3, 3, 6, 6, 4, 4, 2, 4, 2, 4, 2], [5, 7, 7, 5, 5, 5, 7, 7, 7, 3, 5, 5, 5, 5, 3, 3, 5, 7, 3, 5, 3, 4, 4, 3, 3, 6, 6, 4, 4, 3, 4, 3, 3, 6, 4, 6, 4, 3, 3, 3, 2, 2, 4, 2, 2], [5, 5, 7, 3, 3, 3, 5, 3, 5, 5, 3, 3, 5, 7, 5, 3, 5, 3, 7, 7, 3, 3, 4, 4, 3, 3, 3, 3, 4, 6, 6, 4, 3, 4, 6, 4, 4, 4, 3, 3, 4, 4, 3, 2, 3], [3, 5, 5, 5, 7, 5, 7, 7, 5, 5, 5, 5, 5, 7, 3, 5, 7, 7, 3, 5, 6, 6, 4, 6, 3, 3, 3, 4, 4, 3, 6, 4, 4, 3, 3, 6, 6, 3, 3, 6, 3, 4, 3, 2, 2], [3, 3, 7, 5, 5, 5, 7, 7, 7, 5, 3, 3, 3, 3, 7, 5, 5, 5, 3, 3, 3, 3, 3, 6, 4, 4, 6, 4, 3, 6, 4, 3, 6, 4, 3, 6, 6, 3, 4, 6, 2, 4, 2, 3, 4], [5, 3, 3, 3, 7, 5, 7, 3, 5, 5, 3, 3, 3, 5, 3, 5, 7, 3, 5, 3, 6, 3, 4, 6, 3, 6, 4, 3, 4, 3, 4, 4, 6, 3, 4, 4, 3, 3, 6, 6, 2, 3, 3, 2, 2], [3, 7, 3, 5, 3, 7, 5, 3, 7, 7, 3, 5, 5, 3, 7, 5, 5, 7, 7, 7, 4, 6, 6, 3, 6, 6, 4, 4, 3, 6, 6, 6, 3, 3, 3, 4, 4, 6, 3, 3, 2, 4, 3, 4, 3], [3, 3, 3, 5, 3, 3, 3, 5, 7, 3, 7, 5, 3, 7, 5, 3, 7, 7, 3, 7, 6, 3, 3, 6, 3, 6, 6, 3, 6, 6, 4, 4, 4, 3, 6, 3, 6, 3, 3, 6, 2, 3, 4, 4, 4], [5, 7, 3, 7, 3, 7, 5, 5, 5, 7, 7, 3, 3, 3, 7, 3, 5, 5, 3, 5, 6, 4, 6, 6, 6, 4, 6, 3, 4, 4, 3, 3, 6, 6, 4, 3, 4, 3, 6, 4, 2, 2, 3, 4, 3], [3, 3, 3, 3, 5, 7, 5, 3, 3, 7, 3, 3, 5, 3, 3, 3, 3, 3, 3, 3, 6, 3, 6, 4, 4, 3, 6, 6, 3, 6, 6, 3, 6, 6, 6, 3, 4, 3, 3, 4, 4, 3, 2, 4, 2], [5, 5, 7, 3, 3, 3, 7, 5, 7, 7, 3, 7, 5, 3, 5, 7, 7, 5, 5, 5, 4, 4, 3, 4, 3, 3, 6, 6, 6, 3, 4, 6, 6, 3, 3, 4, 6, 6, 6, 3, 2, 3, 3, 2, 3], [3, 3, 3, 3, 5, 3, 5, 3, 7, 3, 5, 5, 7, 3, 5, 7, 3, 5, 5, 7, 4, 3, 6, 4, 3, 6, 6, 4, 4, 4, 3, 6, 6, 3, 3, 6, 3, 3, 6, 6, 3, 2, 2, 4, 3], [3, 7, 5, 5, 7, 5, 7, 3, 3, 5, 5, 3, 5, 3, 5, 3, 3, 7, 3, 3, 3, 4, 4, 6, 6, 6, 3, 6, 6, 4, 3, 6, 6, 6, 6, 4, 3, 3, 3, 6, 3, 4, 4, 4, 2], [5, 7, 3, 3, 7, 5, 7, 5, 3, 3, 5, 5, 7, 3, 3, 7, 7, 3, 5, 5, 6, 3, 6, 6, 6, 3, 6, 6, 4, 3, 6, 3, 3, 3, 3, 3, 4, 6, 3, 3, 2, 2, 4, 2, 3], [3, 7, 5, 5, 5, 3, 7, 5, 7, 5, 3, 3, 5, 3, 3, 7, 3, 7, 3, 5, 3, 4, 3, 6, 4, 3, 3, 4, 4, 6, 6, 3, 3, 3, 6, 6, 4, 4, 3, 6, 4, 4, 4, 3, 4], [5, 3, 5, 3, 5, 3, 7, 3, 3, 5, 5, 3, 5, 7, 5, 7, 7, 5, 3, 7, 4, 4, 6, 3, 3, 6, 3, 3, 3, 3, 4, 4, 3, 6, 4, 3, 6, 3, 3, 3, 4, 3, 3, 2, 2], [7, 7, 5, 3, 7, 7, 3, 7, 5, 5, 7, 3, 3, 5, 7, 7, 5, 5, 5, 3, 4, 3, 4, 6, 3, 4, 6, 3, 3, 6, 3, 6, 3, 4, 3, 3, 6, 4, 3, 3, 3, 2, 4, 2, 2], [3, 7, 5, 3, 7, 7, 7, 5, 3, 3, 7, 7, 7, 5, 7, 5, 5, 5, 7, 5, 6, 3, 6, 4, 3, 3, 4, 6, 3, 4, 3, 6, 3, 4, 3, 3, 4, 3, 4, 4, 3, 3, 4, 4, 4], [5, 7, 7, 7, 7, 5, 5, 7, 7, 5, 7, 5, 5, 7, 7, 5, 7, 3, 3, 3, 6, 3, 6, 3, 4, 4, 4, 4, 6, 6, 4, 3, 4, 3, 6, 3, 3, 3, 4, 4, 4, 4, 4, 4, 3], [5, 5, 3, 3, 3, 7, 3, 3, 3, 7, 3, 5, 7, 5, 5, 7, 7, 3, 5, 7, 6, 3, 4, 3, 3, 4, 3, 3, 3, 3, 4, 3, 3, 6, 4, 6, 6, 4, 6, 3, 2, 3, 4, 3, 3], [3, 5, 3, 5, 3, 3, 5, 7, 3, 7, 3, 3, 3, 5, 3, 7, 7, 7, 5, 7, 3, 4, 3, 6, 3, 4, 3, 4, 4, 4, 3, 4, 3, 4, 6, 4, 4, 3, 3, 4, 3, 4, 3, 4, 2], [3, 5, 3, 3, 5, 7, 3, 5, 3, 7, 7, 3, 7, 5, 7, 3, 7, 5, 5, 3, 4, 4, 4, 4, 3, 4, 4, 4, 3, 6, 6, 6, 4, 6, 3, 4, 6, 6, 6, 4, 2, 2, 4, 3, 4], [3, 3, 7, 7, 5, 5, 3, 3, 3, 5, 5, 7, 7, 5, 7, 3, 5, 3, 3, 5, 4, 6, 6, 3, 6, 3, 3, 4, 6, 3, 4, 6, 4, 3, 6, 4, 6, 4, 4, 3, 4, 3, 2, 2, 2], [3, 3, 7, 5, 7, 5, 3, 5, 3, 5, 7, 3, 5, 3, 7, 3, 7, 5, 7, 7, 6, 4, 6, 6, 6, 3, 3, 3, 6, 4, 3, 6, 3, 3, 3, 4, 4, 6, 3, 3, 2, 2, 2, 4, 4], [5, 5, 3, 7, 5, 5, 7, 7, 3, 5, 3, 7, 5, 5, 5, 5, 3, 7, 5, 3, 3, 3, 4, 6, 6, 3, 4, 6, 6, 4, 3, 6, 3, 4, 4, 4, 4, 3, 4, 3, 2, 3, 4, 3, 3], [5, 3, 5, 7, 3, 7, 7, 3, 3, 7, 7, 3, 5, 3, 7, 7, 3, 5, 5, 3, 6, 6, 4, 4, 3, 6, 3, 4, 6, 4, 3, 6, 3, 6, 6, 4, 4, 4, 4, 3, 4, 2, 2, 2, 2], [5, 3, 7, 5, 5, 3, 3, 3, 7, 7, 3, 7, 3, 3, 7, 7, 7, 7, 3, 5, 4, 3, 3, 6, 6, 3, 3, 6, 6, 4, 3, 4, 3, 4, 4, 6, 6, 3, 4, 6, 2, 2, 3, 3, 4], [3, 7, 3, 5, 5, 3, 7, 3, 7, 5, 5, 5, 7, 5, 3, 3, 5, 3, 3, 3, 3, 6, 3, 4, 6, 6, 3, 4, 3, 3, 4, 6, 6, 6, 6, 3, 6, 6, 3, 3, 3, 4, 4, 2, 3], [5, 3, 5, 3, 5, 5, 3, 5, 7, 5, 7, 5, 5, 7, 7, 5, 7, 7, 5, 7, 6, 6, 6, 4, 6, 4, 6, 6, 3, 3, 3, 6, 3, 6, 4, 4, 3, 3, 6, 4, 3, 2, 4, 2, 4], [3, 3, 3, 7, 3, 7, 7, 7, 5, 3, 5, 7, 3, 7, 7, 7, 7, 3, 7, 3, 3, 3, 3, 4, 3, 3, 3, 4, 3, 6, 6, 3, 6, 3, 3, 6, 6, 6, 6, 4, 2, 2, 3, 4, 2]], 'f_emb': [tensor([-0., -0., -0.,  ..., -0., -0., -0.]), tensor([-0., -0., -0.,  ..., -0., -0., -0.]), tensor([1226.8495,   -0.0000,   -0.0000,  ...,   -0.0000,   -0.0000,\n",
      "          -0.0000]), tensor([-0., -0., -0.,  ..., -0., -0., -0.]), tensor([188.3607,  -0.0000,  -0.0000,  ...,  -0.0000,  -0.0000, 213.2732]), tensor([-0., -0., -0.,  ..., -0., -0., -0.]), tensor([-0., -0., -0.,  ..., -0., -0., -0.]), tensor([-0.0000, -0.0000, -0.0000,  ..., -0.0000, -0.0000, 9.9611]), tensor([38.6843, -0.0000, -0.0000,  ..., -0.0000, -0.0000, -0.0000]), tensor([ 0.5262, -0.3664,  0.4536,  ..., -0.3597, -0.2121, -0.3281]), tensor([-0., -0., -0.,  ..., -0., -0., -0.]), tensor([-0.0000, -0.0000, -0.0000,  ..., 30.1783, -0.0000,  3.6916]), tensor([-0., -0., -0.,  ..., -0., -0., -0.]), tensor([-0., -0., -0.,  ..., -0., -0., -0.]), tensor([18.3999, -0.0000, -0.0000,  ..., -0.0000, -0.0000, 45.3672]), tensor([ 0.2349,  0.1743,  0.1660,  ...,  0.3616,  0.0957, -0.3534]), tensor([-0.2793, -0.3249, -0.3683,  ..., -0.0000, -0.0000, -0.3627]), tensor([ 0.0759, -0.3346, -0.2591,  ...,  0.4824, -0.2551, -0.1757]), tensor([ 0.4264, -0.1865, -0.1025,  ..., -0.1637,  0.7777, -0.3373]), tensor([ 0.4347, -0.2336, -0.2793,  ..., -0.3347, -0.3469, -0.1162]), tensor([ 0.0104,  0.4655, -0.3177,  ..., -0.1076,  0.8267, -0.3667]), tensor([ 0.0873,  0.1475, -0.3670,  ..., -0.1698,  0.0327, -0.3572]), tensor([322.7029,  -0.0000,  83.4842,  ...,  -0.0000,  -0.0000,  -0.0000]), tensor([-0.3365, -0.0309, -0.3139,  ...,  0.1455, -0.3260, -0.3622]), tensor([-0.0000, -0.0000, -0.0000,  ..., -0.0000, -0.0000, 3.1642]), tensor([    -0.0000,     -0.0000, 159417.2812,  ...,     -0.0000,\n",
      "            -0.0000, 179515.1562]), tensor([-0.0014, -0.3527, -0.0000,  ..., -0.0000, -0.0000, -0.0000]), tensor([6770305.5000,      -0.0000,      -0.0000,  ...,      -0.0000,\n",
      "             -0.0000,      -0.0000]), tensor([1609.9169,   -0.0000,   -0.0000,  ...,   -0.0000,   -0.0000,\n",
      "          -0.0000]), tensor([-0., -0., -0.,  ..., -0., -0., -0.]), tensor([-0.0067, -0.3482, -0.3706,  ..., -0.3683, -0.0611,  0.0504]), tensor([ 1.4714, -0.0000, -0.0945,  ..., -0.2832, -0.0000, -0.3679]), tensor([ 1.7539, 21.7252, -0.0000,  ..., -0.0000, -0.0000, 13.5089]), tensor([-0.3179, -0.3455, -0.3743,  ..., -0.2527,  0.1497, -0.0043]), tensor([-0.3241, -0.2744, -0.1231,  ..., -0.1582, -0.2237, -0.0000]), tensor([-0.1600,  3.9948, -0.0000,  ..., -0.0000, -0.0000,  8.6842]), tensor([-0.1209,  0.0394, -0.3112,  ..., -0.2695, -0.1538, -0.1348]), tensor([255.8073,  -0.0000, 140.1278,  ...,  -0.0000,  -0.0000,  -0.0000]), tensor([-0., -0., -0.,  ..., -0., -0., -0.]), tensor([-0.0667, -0.2547, -0.3669,  ...,  0.1411, -0.0529, -0.0764]), tensor([ 0.0093, -0.3176, -0.3739,  ..., -0.1065,  0.4898, -0.3551]), tensor([-0.3701, -0.1757, -0.3706,  ..., -0.3319, -0.2591,  0.1290]), tensor([-0.3745, -0.1032, -0.1967,  ..., -0.0000, -0.0000, -0.0593]), tensor([-0.3677, -0.2142, -0.0000,  ..., -0.0000, -0.0000, -0.3277]), tensor([-0., -0., -0.,  ..., -0., -0., -0.]), tensor([3.1169, -0.0000, -0.0000,  ..., -0.0000, -0.0000, 8.0993]), tensor([-0.2472, -0.3239, -0.2829,  ..., -0.3483, -0.2882, -0.2494]), tensor([-0.3634, -0.3321, -0.1018,  ..., -0.3687, -0.3750, -0.2305]), tensor([-0.1774, -0.3653, -0.2880,  ..., -0.3545, -0.3617, -0.3650]), tensor([8691.3945,   -0.0000,   -0.0000,  ...,   -0.0000,   -0.0000,\n"
     ]
    },
    {
     "name": "stderr",
     "output_type": "stream",
     "text": [
      "Using cache found in /root/.cache/torch/hub/mit-han-lab_once-for-all_master\n"
     ]
    },
    {
     "name": "stdout",
     "output_type": "stream",
     "text": [
      "        8597.5059]), tensor([9.0331, -0.0000, -0.0000,  ..., -0.0000, -0.0000, -0.0000]), tensor([42.5141, -0.0000, -0.0000,  ..., -0.0000, -0.0000, -0.0000]), tensor([65.9789, -0.0000, -0.0000,  ..., -0.0000, -0.0000, -0.0000]), tensor([-0., -0., -0.,  ..., -0., -0., -0.]), tensor([722.0713,  -0.0000,  35.6799,  ...,  -0.0000, 312.9419,  70.5834]), tensor([-0., -0., -0.,  ..., -0., -0., -0.]), tensor([-0.1471, -0.2599, -0.3613,  ..., -0.1913, -0.1905, -0.0606]), tensor([22.6140, -0.0000, -0.0000,  ..., -0.0000, -0.0000, -0.0000])], 'acc': [99.51923076923077, 99.03846153846153, 99.51923076923077, 99.51923076923077, 99.51923076923077, 99.51923076923077, 98.38709677419355, 96.7741935483871, 98.38709677419355, 98.38709677419355, 8.064516129032258, 96.7741935483871, 77.08333333333333, 76.4423076923077, 78.68589743589743, 77.40384615384616, 77.24358974358974, 78.36538461538461, 94.23076923076923, 75.64102564102564, 90.7051282051282, 94.23076923076923, 91.34615384615384, 94.23076923076923, 99.52978056426332, 99.3730407523511, 99.68652037617555, 99.68652037617555, 100.0, 99.3730407523511, 84.88700564971751, 87.99435028248588, 86.7231638418079, 85.73446327683615, 87.99435028248588, 86.44067796610169, 96.6740576496674, 97.11751662971176, 97.00665188470066, 97.22838137472284, 96.6740576496674, 95.56541019955654, 94.0, 94.6, 94.0, 95.0, 95.2, 95.0, 97.46835443037975, 95.78059071729957, 95.78059071729957, 95.78059071729957, 97.0464135021097, 95.9915611814346, 67.41071428571429, 66.96428571428571, 69.19642857142857, 67.85714285714286], 'n_params': [6228442, 5625114, 6570290, 5347354, 5825218, 4821626, 4711646, 4554646, 6688342, 4317614, 5203934, 5550702, 5717244, 5151700, 5773028, 5059684, 6364428, 4930308, 5608818, 4493962, 4318938, 4537954, 5514050, 3861938, 5155304, 6005320, 4798208, 6420784, 4792312, 3845304, 4249220, 3881348, 5982340, 3517428, 5327428, 6367692, 5599490, 4745802, 5815994, 5362738, 5007786, 4598522, 5921562, 4126858, 4121234, 5318114, 5013634, 5773418, 4451268, 7041756, 3900292, 5413740, 4585324, 3943980, 5856793, 5602273, 5582713, 5463665]}\n",
      "\n",
      "=====> Generating 5th network  <=====\n",
      "\n",
      "\n",
      "=====>Generating sub_net<=====\n",
      "\n",
      "\n",
      "=====> Training started <=====\n",
      "\n",
      "Starting Training for:skin-cancer9-classesisic_nodoubttome_0_9 with model topology:[7, 5, 3, 3, 7, 3, 3, 5, 3, 7, 7, 7, 7, 7, 7, 3, 7, 7, 3, 7, 4, 6, 4, 3, 4, 6, 3, 3, 6, 6, 3, 3, 3, 6, 6, 6, 3, 3, 4, 4, 3, 4, 2, 3, 2]\n"
     ]
    },
    {
     "name": "stderr",
     "output_type": "stream",
     "text": [
      "56it [00:10,  5.51it/s]\n",
      "7it [00:01,  5.22it/s]\n"
     ]
    },
    {
     "name": "stdout",
     "output_type": "stream",
     "text": [
      "\n",
      "Epoch: 1/15, Train Loss: 54.30245518 , Val Loss: 42.83349609, Train Accuracy:42.91316527,  Val Accuracy: 57.14285714, Epoch Time: 11.73576331\n"
     ]
    },
    {
     "name": "stderr",
     "output_type": "stream",
     "text": [
      "56it [00:10,  5.58it/s]\n",
      "7it [00:01,  4.99it/s]\n"
     ]
    },
    {
     "name": "stdout",
     "output_type": "stream",
     "text": [
      "\n",
      "Epoch: 2/15, Train Loss: 30.80604594 , Val Loss: 32.33773150, Train Accuracy:68.01120448,  Val Accuracy: 65.17857143, Epoch Time: 11.71196270\n"
     ]
    },
    {
     "name": "stderr",
     "output_type": "stream",
     "text": [
      "56it [00:10,  5.50it/s]\n",
      "7it [00:01,  5.28it/s]\n"
     ]
    },
    {
     "name": "stdout",
     "output_type": "stream",
     "text": [
      "\n",
      "Epoch: 3/15, Train Loss: 21.58838451 , Val Loss: 30.48840468, Train Accuracy:78.48739496,  Val Accuracy: 64.73214286, Epoch Time: 11.74457049\n"
     ]
    },
    {
     "name": "stderr",
     "output_type": "stream",
     "text": [
      "56it [00:10,  5.50it/s]\n",
      "7it [00:01,  5.28it/s]\n"
     ]
    },
    {
     "name": "stdout",
     "output_type": "stream",
     "text": [
      "\n",
      "Epoch: 4/15, Train Loss: 16.79961349 , Val Loss: 29.50311743, Train Accuracy:81.40056022,  Val Accuracy: 67.85714286, Epoch Time: 11.74470210\n"
     ]
    },
    {
     "name": "stderr",
     "output_type": "stream",
     "text": [
      "56it [00:10,  5.41it/s]\n",
      "7it [00:01,  5.00it/s]\n"
     ]
    },
    {
     "name": "stdout",
     "output_type": "stream",
     "text": [
      "\n",
      "Epoch: 5/15, Train Loss: 12.39448273 , Val Loss: 33.16423907, Train Accuracy:86.44257703,  Val Accuracy: 62.94642857, Epoch Time: 12.01356006\n"
     ]
    },
    {
     "name": "stderr",
     "output_type": "stream",
     "text": [
      "56it [00:10,  5.38it/s]\n",
      "7it [00:01,  5.25it/s]\n"
     ]
    },
    {
     "name": "stdout",
     "output_type": "stream",
     "text": [
      "\n",
      "Epoch: 6/15, Train Loss: 9.15011081 , Val Loss: 30.45205579, Train Accuracy:89.74789916,  Val Accuracy: 69.19642857, Epoch Time: 11.96432209\n"
     ]
    },
    {
     "name": "stderr",
     "output_type": "stream",
     "text": [
      "56it [00:10,  5.46it/s]\n",
      "7it [00:01,  5.21it/s]\n"
     ]
    },
    {
     "name": "stdout",
     "output_type": "stream",
     "text": [
      "\n",
      "Epoch: 7/15, Train Loss: 7.16498172 , Val Loss: 32.79583577, Train Accuracy:91.42857143,  Val Accuracy: 66.96428571, Epoch Time: 11.84473085\n"
     ]
    },
    {
     "name": "stderr",
     "output_type": "stream",
     "text": [
      "56it [00:10,  5.36it/s]\n",
      "7it [00:01,  4.12it/s]\n"
     ]
    },
    {
     "name": "stdout",
     "output_type": "stream",
     "text": [
      "\n",
      "Epoch: 8/15, Train Loss: 6.16313902 , Val Loss: 28.17644991, Train Accuracy:92.60504202,  Val Accuracy: 70.53571429, Epoch Time: 12.39793634\n"
     ]
    },
    {
     "name": "stderr",
     "output_type": "stream",
     "text": [
      "56it [00:10,  5.46it/s]\n",
      "7it [00:01,  5.34it/s]\n"
     ]
    },
    {
     "name": "stdout",
     "output_type": "stream",
     "text": [
      "\n",
      "Epoch: 9/15, Train Loss: 5.18076549 , Val Loss: 30.07284410, Train Accuracy:93.94957983,  Val Accuracy: 70.08928571, Epoch Time: 11.79487991\n"
     ]
    },
    {
     "name": "stderr",
     "output_type": "stream",
     "text": [
      "56it [00:10,  5.43it/s]\n",
      "7it [00:01,  5.31it/s]\n"
     ]
    },
    {
     "name": "stdout",
     "output_type": "stream",
     "text": [
      "\n",
      "Epoch: 10/15, Train Loss: 5.24061716 , Val Loss: 30.32313674, Train Accuracy:92.66106443,  Val Accuracy: 69.64285714, Epoch Time: 11.86986947\n"
     ]
    },
    {
     "name": "stderr",
     "output_type": "stream",
     "text": [
      "56it [00:10,  5.35it/s]\n",
      "7it [00:01,  4.89it/s]\n"
     ]
    },
    {
     "name": "stdout",
     "output_type": "stream",
     "text": [
      "\n",
      "Epoch: 11/15, Train Loss: 4.16959374 , Val Loss: 32.32076100, Train Accuracy:93.27731092,  Val Accuracy: 69.64285714, Epoch Time: 12.16802979\n"
     ]
    },
    {
     "name": "stderr",
     "output_type": "stream",
     "text": [
      "56it [00:10,  5.43it/s]\n",
      "7it [00:01,  5.09it/s]\n"
     ]
    },
    {
     "name": "stdout",
     "output_type": "stream",
     "text": [
      "\n",
      "Epoch: 12/15, Train Loss: 4.41489668 , Val Loss: 34.35686466, Train Accuracy:93.50140056,  Val Accuracy: 67.41071429, Epoch Time: 11.92031097\n"
     ]
    },
    {
     "name": "stderr",
     "output_type": "stream",
     "text": [
      "56it [00:10,  5.57it/s]\n",
      "7it [00:01,  5.29it/s]\n"
     ]
    },
    {
     "name": "stdout",
     "output_type": "stream",
     "text": [
      "\n",
      "Epoch: 13/15, Train Loss: 4.37242535 , Val Loss: 32.66047859, Train Accuracy:93.44537815,  Val Accuracy: 71.42857143, Epoch Time: 11.62499189\n",
      "Early stopping on, 12th, epoch\n",
      "\n",
      "=====>Generating f_emb<=====\n",
      "\n",
      "torch.Size([1536])\n",
      "{'dataset': ['sldc_0_10', 'sldc_0_10', 'sldc_0_10', 'sldc_0_10', 'sldc_0_10', 'sldc_0_10', 'corales_0_14', 'corales_0_14', 'corales_0_14', 'corales_0_14', 'corales_0_14', 'corales_0_14', '6000-store-items-images-classified-by-color_imoore_0_12', '6000-store-items-images-classified-by-color_imoore_0_12', '6000-store-items-images-classified-by-color_imoore_0_12', '6000-store-items-images-classified-by-color_imoore_0_12', '6000-store-items-images-classified-by-color_imoore_0_12', '6000-store-items-images-classified-by-color_imoore_0_12', 'fcis-sc-deeplearning-competition_0_10', 'fcis-sc-deeplearning-competition_0_10', 'fcis-sc-deeplearning-competition_0_10', 'fcis-sc-deeplearning-competition_0_10', 'fcis-sc-deeplearning-competition_0_10', 'fcis-sc-deeplearning-competition_0_10', 'lego-brick-images_joosthazelzet_0_16', 'lego-brick-images_joosthazelzet_0_16', 'lego-brick-images_joosthazelzet_0_16', 'lego-brick-images_joosthazelzet_0_16', 'lego-brick-images_joosthazelzet_0_16', 'lego-brick-images_joosthazelzet_0_16', 'oregon-wildlife_virtualdvid_0_20', 'oregon-wildlife_virtualdvid_0_20', 'oregon-wildlife_virtualdvid_0_20', 'oregon-wildlife_virtualdvid_0_20', 'oregon-wildlife_virtualdvid_0_20', 'oregon-wildlife_virtualdvid_0_20', 'perritos_0_10', 'perritos_0_10', 'perritos_0_10', 'perritos_0_10', 'perritos_0_10', 'perritos_0_10', 'khu-deep-learning-competition_0_10', 'khu-deep-learning-competition_0_10', 'khu-deep-learning-competition_0_10', 'khu-deep-learning-competition_0_10', 'khu-deep-learning-competition_0_10', 'khu-deep-learning-competition_0_10', 'plant-seedlings-classification_0_12', 'plant-seedlings-classification_0_12', 'plant-seedlings-classification_0_12', 'plant-seedlings-classification_0_12', 'plant-seedlings-classification_0_12', 'plant-seedlings-classification_0_12', 'skin-cancer9-classesisic_nodoubttome_0_9', 'skin-cancer9-classesisic_nodoubttome_0_9', 'skin-cancer9-classesisic_nodoubttome_0_9', 'skin-cancer9-classesisic_nodoubttome_0_9', 'skin-cancer9-classesisic_nodoubttome_0_9'], 'topol': [[3, 5, 5, 5, 7, 5, 5, 7, 3, 5, 7, 7, 7, 5, 7, 5, 3, 3, 7, 3, 4, 3, 6, 3, 6, 6, 4, 4, 6, 4, 3, 6, 6, 3, 4, 6, 3, 4, 6, 3, 3, 4, 2, 4, 4], [3, 7, 7, 7, 5, 7, 5, 3, 7, 5, 3, 3, 5, 5, 3, 7, 7, 5, 3, 5, 3, 4, 6, 3, 6, 4, 6, 4, 4, 3, 3, 3, 3, 6, 6, 3, 3, 4, 6, 4, 4, 3, 2, 2, 4], [3, 7, 5, 5, 3, 7, 7, 5, 5, 5, 5, 5, 5, 7, 7, 7, 7, 7, 5, 7, 6, 6, 6, 3, 6, 3, 4, 4, 6, 6, 6, 4, 3, 6, 4, 6, 6, 4, 6, 4, 2, 3, 3, 3, 4], [7, 5, 3, 3, 5, 3, 5, 5, 5, 5, 3, 7, 7, 5, 7, 3, 3, 5, 3, 5, 3, 4, 6, 6, 6, 3, 6, 3, 6, 3, 6, 4, 4, 6, 6, 4, 6, 6, 6, 4, 2, 2, 2, 3, 2], [3, 5, 5, 7, 5, 5, 7, 3, 7, 5, 5, 5, 3, 5, 3, 7, 5, 7, 7, 3, 3, 6, 3, 3, 6, 3, 6, 6, 4, 4, 3, 4, 4, 3, 6, 6, 4, 3, 4, 3, 4, 3, 4, 4, 4], [3, 3, 5, 5, 7, 5, 5, 5, 5, 5, 3, 3, 3, 3, 3, 7, 7, 3, 5, 5, 6, 4, 3, 4, 4, 4, 3, 6, 4, 3, 6, 4, 4, 4, 6, 6, 4, 4, 3, 6, 4, 2, 4, 3, 3], [7, 7, 5, 5, 5, 5, 3, 3, 3, 5, 7, 5, 5, 3, 3, 5, 5, 5, 7, 5, 3, 4, 3, 6, 6, 4, 3, 4, 6, 6, 4, 4, 6, 4, 4, 3, 6, 4, 3, 6, 2, 4, 4, 3, 2], [3, 3, 3, 7, 7, 5, 5, 7, 7, 5, 7, 7, 7, 7, 3, 5, 7, 7, 7, 3, 6, 4, 6, 3, 3, 4, 6, 6, 3, 3, 4, 4, 4, 4, 6, 6, 3, 4, 4, 3, 2, 4, 4, 2, 3], [5, 5, 3, 5, 7, 3, 5, 7, 7, 5, 3, 7, 7, 3, 3, 7, 3, 3, 7, 3, 4, 4, 6, 6, 3, 6, 3, 6, 3, 4, 4, 6, 3, 4, 6, 3, 6, 6, 4, 4, 4, 2, 4, 4, 4], [3, 5, 3, 5, 3, 3, 7, 7, 3, 3, 5, 7, 5, 3, 7, 7, 3, 3, 3, 7, 3, 4, 6, 6, 4, 4, 6, 6, 3, 3, 3, 6, 3, 6, 3, 4, 3, 4, 6, 6, 4, 4, 4, 3, 2], [3, 7, 7, 5, 7, 3, 7, 5, 7, 7, 7, 5, 7, 5, 3, 7, 5, 5, 5, 5, 6, 3, 6, 6, 4, 6, 6, 4, 6, 6, 6, 3, 3, 3, 3, 3, 6, 6, 4, 4, 3, 4, 2, 2, 3], [7, 7, 3, 3, 5, 7, 3, 5, 5, 3, 3, 3, 5, 7, 3, 7, 7, 5, 7, 7, 6, 3, 4, 3, 3, 3, 4, 3, 3, 4, 6, 6, 6, 4, 4, 6, 6, 4, 3, 4, 2, 2, 3, 4, 3], [7, 3, 3, 3, 3, 3, 5, 7, 5, 3, 5, 5, 3, 7, 7, 7, 5, 3, 7, 5, 3, 6, 3, 6, 6, 3, 4, 3, 6, 6, 3, 4, 3, 4, 4, 3, 4, 6, 6, 4, 3, 3, 2, 3, 3], [3, 3, 7, 5, 7, 3, 5, 7, 3, 5, 3, 5, 5, 5, 5, 3, 5, 5, 3, 3, 3, 6, 6, 6, 6, 6, 4, 3, 4, 4, 6, 4, 3, 6, 3, 6, 3, 6, 4, 6, 2, 2, 2, 3, 3], [5, 3, 5, 5, 5, 5, 7, 7, 3, 7, 7, 7, 3, 3, 7, 3, 7, 5, 5, 3, 3, 3, 6, 4, 6, 4, 4, 3, 6, 4, 6, 6, 3, 6, 4, 4, 3, 4, 3, 4, 3, 3, 4, 4, 4], [5, 5, 7, 5, 5, 5, 5, 7, 3, 3, 7, 3, 7, 5, 3, 3, 5, 7, 3, 3, 4, 4, 4, 4, 3, 4, 6, 3, 4, 6, 6, 3, 6, 3, 4, 6, 6, 4, 4, 6, 2, 4, 2, 3, 3], [7, 5, 3, 3, 7, 7, 7, 7, 5, 7, 5, 3, 7, 3, 5, 7, 3, 5, 7, 5, 4, 4, 4, 6, 4, 3, 3, 6, 3, 6, 4, 6, 6, 6, 6, 6, 3, 4, 6, 4, 2, 2, 2, 4, 3], [3, 3, 3, 7, 7, 3, 3, 7, 7, 7, 7, 5, 5, 7, 7, 3, 7, 7, 5, 7, 3, 4, 3, 3, 6, 3, 6, 3, 6, 3, 6, 3, 4, 3, 3, 6, 4, 4, 3, 6, 4, 4, 2, 4, 3], [3, 7, 7, 7, 3, 5, 3, 7, 5, 3, 5, 5, 7, 3, 5, 5, 3, 7, 5, 5, 4, 3, 4, 4, 3, 4, 6, 4, 6, 4, 3, 3, 3, 3, 6, 3, 4, 6, 4, 3, 4, 2, 4, 4, 3], [7, 7, 3, 5, 5, 5, 7, 3, 3, 5, 3, 3, 5, 7, 7, 3, 3, 7, 3, 3, 3, 3, 4, 6, 4, 6, 6, 6, 4, 3, 3, 6, 6, 4, 3, 4, 6, 4, 4, 4, 2, 4, 2, 3, 2], [3, 7, 7, 3, 5, 7, 7, 5, 7, 3, 5, 7, 7, 3, 5, 5, 5, 3, 3, 5, 3, 4, 3, 4, 3, 4, 6, 3, 6, 3, 4, 3, 4, 4, 4, 6, 3, 3, 4, 3, 3, 3, 2, 4, 2], [3, 7, 5, 3, 3, 5, 5, 7, 5, 7, 3, 5, 3, 7, 7, 5, 5, 7, 3, 3, 3, 3, 4, 6, 3, 6, 4, 3, 6, 4, 6, 4, 6, 6, 6, 6, 3, 4, 3, 6, 4, 4, 2, 2, 3], [3, 7, 3, 3, 5, 7, 5, 7, 5, 7, 7, 7, 7, 3, 3, 3, 7, 3, 3, 3, 6, 4, 4, 3, 4, 6, 4, 6, 4, 6, 6, 4, 4, 3, 3, 3, 6, 4, 3, 3, 2, 4, 4, 4, 4], [5, 5, 7, 5, 7, 3, 7, 7, 7, 5, 7, 3, 5, 3, 5, 7, 3, 7, 7, 5, 4, 3, 6, 6, 6, 3, 6, 3, 6, 3, 3, 6, 4, 4, 3, 3, 3, 3, 3, 3, 3, 2, 3, 4, 2], [7, 3, 7, 3, 5, 5, 3, 3, 7, 3, 7, 7, 7, 5, 5, 5, 5, 7, 5, 5, 6, 4, 3, 3, 4, 3, 3, 4, 4, 3, 6, 6, 3, 4, 4, 6, 6, 4, 6, 3, 3, 4, 4, 4, 2], [5, 5, 3, 7, 3, 7, 7, 5, 3, 7, 7, 5, 5, 7, 7, 7, 5, 7, 5, 3, 4, 4, 3, 3, 4, 3, 4, 6, 3, 3, 3, 4, 6, 6, 4, 6, 6, 4, 3, 4, 4, 4, 4, 3, 4], [5, 5, 3, 5, 7, 3, 5, 5, 3, 5, 7, 3, 5, 3, 3, 5, 7, 7, 5, 5, 4, 3, 6, 4, 6, 6, 6, 4, 3, 6, 6, 6, 4, 4, 4, 4, 3, 4, 3, 6, 2, 4, 2, 4, 3], [5, 3, 5, 3, 5, 3, 3, 3, 7, 3, 5, 7, 5, 7, 3, 7, 7, 5, 5, 3, 6, 3, 6, 6, 3, 4, 3, 4, 6, 3, 4, 6, 3, 3, 4, 4, 6, 6, 6, 4, 3, 4, 4, 4, 3], [7, 5, 3, 7, 3, 5, 3, 5, 3, 5, 7, 3, 7, 7, 5, 7, 7, 3, 3, 3, 3, 3, 6, 4, 3, 4, 4, 3, 3, 3, 3, 4, 3, 3, 3, 3, 6, 6, 4, 4, 2, 4, 2, 4, 2], [5, 7, 7, 5, 5, 5, 7, 7, 7, 3, 5, 5, 5, 5, 3, 3, 5, 7, 3, 5, 3, 4, 4, 3, 3, 6, 6, 4, 4, 3, 4, 3, 3, 6, 4, 6, 4, 3, 3, 3, 2, 2, 4, 2, 2], [5, 5, 7, 3, 3, 3, 5, 3, 5, 5, 3, 3, 5, 7, 5, 3, 5, 3, 7, 7, 3, 3, 4, 4, 3, 3, 3, 3, 4, 6, 6, 4, 3, 4, 6, 4, 4, 4, 3, 3, 4, 4, 3, 2, 3], [3, 5, 5, 5, 7, 5, 7, 7, 5, 5, 5, 5, 5, 7, 3, 5, 7, 7, 3, 5, 6, 6, 4, 6, 3, 3, 3, 4, 4, 3, 6, 4, 4, 3, 3, 6, 6, 3, 3, 6, 3, 4, 3, 2, 2], [3, 3, 7, 5, 5, 5, 7, 7, 7, 5, 3, 3, 3, 3, 7, 5, 5, 5, 3, 3, 3, 3, 3, 6, 4, 4, 6, 4, 3, 6, 4, 3, 6, 4, 3, 6, 6, 3, 4, 6, 2, 4, 2, 3, 4], [5, 3, 3, 3, 7, 5, 7, 3, 5, 5, 3, 3, 3, 5, 3, 5, 7, 3, 5, 3, 6, 3, 4, 6, 3, 6, 4, 3, 4, 3, 4, 4, 6, 3, 4, 4, 3, 3, 6, 6, 2, 3, 3, 2, 2], [3, 7, 3, 5, 3, 7, 5, 3, 7, 7, 3, 5, 5, 3, 7, 5, 5, 7, 7, 7, 4, 6, 6, 3, 6, 6, 4, 4, 3, 6, 6, 6, 3, 3, 3, 4, 4, 6, 3, 3, 2, 4, 3, 4, 3], [3, 3, 3, 5, 3, 3, 3, 5, 7, 3, 7, 5, 3, 7, 5, 3, 7, 7, 3, 7, 6, 3, 3, 6, 3, 6, 6, 3, 6, 6, 4, 4, 4, 3, 6, 3, 6, 3, 3, 6, 2, 3, 4, 4, 4], [5, 7, 3, 7, 3, 7, 5, 5, 5, 7, 7, 3, 3, 3, 7, 3, 5, 5, 3, 5, 6, 4, 6, 6, 6, 4, 6, 3, 4, 4, 3, 3, 6, 6, 4, 3, 4, 3, 6, 4, 2, 2, 3, 4, 3], [3, 3, 3, 3, 5, 7, 5, 3, 3, 7, 3, 3, 5, 3, 3, 3, 3, 3, 3, 3, 6, 3, 6, 4, 4, 3, 6, 6, 3, 6, 6, 3, 6, 6, 6, 3, 4, 3, 3, 4, 4, 3, 2, 4, 2], [5, 5, 7, 3, 3, 3, 7, 5, 7, 7, 3, 7, 5, 3, 5, 7, 7, 5, 5, 5, 4, 4, 3, 4, 3, 3, 6, 6, 6, 3, 4, 6, 6, 3, 3, 4, 6, 6, 6, 3, 2, 3, 3, 2, 3], [3, 3, 3, 3, 5, 3, 5, 3, 7, 3, 5, 5, 7, 3, 5, 7, 3, 5, 5, 7, 4, 3, 6, 4, 3, 6, 6, 4, 4, 4, 3, 6, 6, 3, 3, 6, 3, 3, 6, 6, 3, 2, 2, 4, 3], [3, 7, 5, 5, 7, 5, 7, 3, 3, 5, 5, 3, 5, 3, 5, 3, 3, 7, 3, 3, 3, 4, 4, 6, 6, 6, 3, 6, 6, 4, 3, 6, 6, 6, 6, 4, 3, 3, 3, 6, 3, 4, 4, 4, 2], [5, 7, 3, 3, 7, 5, 7, 5, 3, 3, 5, 5, 7, 3, 3, 7, 7, 3, 5, 5, 6, 3, 6, 6, 6, 3, 6, 6, 4, 3, 6, 3, 3, 3, 3, 3, 4, 6, 3, 3, 2, 2, 4, 2, 3], [3, 7, 5, 5, 5, 3, 7, 5, 7, 5, 3, 3, 5, 3, 3, 7, 3, 7, 3, 5, 3, 4, 3, 6, 4, 3, 3, 4, 4, 6, 6, 3, 3, 3, 6, 6, 4, 4, 3, 6, 4, 4, 4, 3, 4], [5, 3, 5, 3, 5, 3, 7, 3, 3, 5, 5, 3, 5, 7, 5, 7, 7, 5, 3, 7, 4, 4, 6, 3, 3, 6, 3, 3, 3, 3, 4, 4, 3, 6, 4, 3, 6, 3, 3, 3, 4, 3, 3, 2, 2], [7, 7, 5, 3, 7, 7, 3, 7, 5, 5, 7, 3, 3, 5, 7, 7, 5, 5, 5, 3, 4, 3, 4, 6, 3, 4, 6, 3, 3, 6, 3, 6, 3, 4, 3, 3, 6, 4, 3, 3, 3, 2, 4, 2, 2], [3, 7, 5, 3, 7, 7, 7, 5, 3, 3, 7, 7, 7, 5, 7, 5, 5, 5, 7, 5, 6, 3, 6, 4, 3, 3, 4, 6, 3, 4, 3, 6, 3, 4, 3, 3, 4, 3, 4, 4, 3, 3, 4, 4, 4], [5, 7, 7, 7, 7, 5, 5, 7, 7, 5, 7, 5, 5, 7, 7, 5, 7, 3, 3, 3, 6, 3, 6, 3, 4, 4, 4, 4, 6, 6, 4, 3, 4, 3, 6, 3, 3, 3, 4, 4, 4, 4, 4, 4, 3], [5, 5, 3, 3, 3, 7, 3, 3, 3, 7, 3, 5, 7, 5, 5, 7, 7, 3, 5, 7, 6, 3, 4, 3, 3, 4, 3, 3, 3, 3, 4, 3, 3, 6, 4, 6, 6, 4, 6, 3, 2, 3, 4, 3, 3], [3, 5, 3, 5, 3, 3, 5, 7, 3, 7, 3, 3, 3, 5, 3, 7, 7, 7, 5, 7, 3, 4, 3, 6, 3, 4, 3, 4, 4, 4, 3, 4, 3, 4, 6, 4, 4, 3, 3, 4, 3, 4, 3, 4, 2], [3, 5, 3, 3, 5, 7, 3, 5, 3, 7, 7, 3, 7, 5, 7, 3, 7, 5, 5, 3, 4, 4, 4, 4, 3, 4, 4, 4, 3, 6, 6, 6, 4, 6, 3, 4, 6, 6, 6, 4, 2, 2, 4, 3, 4], [3, 3, 7, 7, 5, 5, 3, 3, 3, 5, 5, 7, 7, 5, 7, 3, 5, 3, 3, 5, 4, 6, 6, 3, 6, 3, 3, 4, 6, 3, 4, 6, 4, 3, 6, 4, 6, 4, 4, 3, 4, 3, 2, 2, 2], [3, 3, 7, 5, 7, 5, 3, 5, 3, 5, 7, 3, 5, 3, 7, 3, 7, 5, 7, 7, 6, 4, 6, 6, 6, 3, 3, 3, 6, 4, 3, 6, 3, 3, 3, 4, 4, 6, 3, 3, 2, 2, 2, 4, 4], [5, 5, 3, 7, 5, 5, 7, 7, 3, 5, 3, 7, 5, 5, 5, 5, 3, 7, 5, 3, 3, 3, 4, 6, 6, 3, 4, 6, 6, 4, 3, 6, 3, 4, 4, 4, 4, 3, 4, 3, 2, 3, 4, 3, 3], [5, 3, 5, 7, 3, 7, 7, 3, 3, 7, 7, 3, 5, 3, 7, 7, 3, 5, 5, 3, 6, 6, 4, 4, 3, 6, 3, 4, 6, 4, 3, 6, 3, 6, 6, 4, 4, 4, 4, 3, 4, 2, 2, 2, 2], [5, 3, 7, 5, 5, 3, 3, 3, 7, 7, 3, 7, 3, 3, 7, 7, 7, 7, 3, 5, 4, 3, 3, 6, 6, 3, 3, 6, 6, 4, 3, 4, 3, 4, 4, 6, 6, 3, 4, 6, 2, 2, 3, 3, 4], [3, 7, 3, 5, 5, 3, 7, 3, 7, 5, 5, 5, 7, 5, 3, 3, 5, 3, 3, 3, 3, 6, 3, 4, 6, 6, 3, 4, 3, 3, 4, 6, 6, 6, 6, 3, 6, 6, 3, 3, 3, 4, 4, 2, 3], [5, 3, 5, 3, 5, 5, 3, 5, 7, 5, 7, 5, 5, 7, 7, 5, 7, 7, 5, 7, 6, 6, 6, 4, 6, 4, 6, 6, 3, 3, 3, 6, 3, 6, 4, 4, 3, 3, 6, 4, 3, 2, 4, 2, 4], [3, 3, 3, 7, 3, 7, 7, 7, 5, 3, 5, 7, 3, 7, 7, 7, 7, 3, 7, 3, 3, 3, 3, 4, 3, 3, 3, 4, 3, 6, 6, 3, 6, 3, 3, 6, 6, 6, 6, 4, 2, 2, 3, 4, 2], [7, 5, 3, 3, 7, 3, 3, 5, 3, 7, 7, 7, 7, 7, 7, 3, 7, 7, 3, 7, 4, 6, 4, 3, 4, 6, 3, 3, 6, 6, 3, 3, 3, 6, 6, 6, 3, 3, 4, 4, 3, 4, 2, 3, 2]], 'f_emb': [tensor([-0., -0., -0.,  ..., -0., -0., -0.]), tensor([-0., -0., -0.,  ..., -0., -0., -0.]), tensor([1226.8495,   -0.0000,   -0.0000,  ...,   -0.0000,   -0.0000,\n",
      "          -0.0000]), tensor([-0., -0., -0.,  ..., -0., -0., -0.]), tensor([188.3607,  -0.0000,  -0.0000,  ...,  -0.0000,  -0.0000, 213.2732]), tensor([-0., -0., -0.,  ..., -0., -0., -0.]), tensor([-0., -0., -0.,  ..., -0., -0., -0.]), tensor([-0.0000, -0.0000, -0.0000,  ..., -0.0000, -0.0000, 9.9611]), tensor([38.6843, -0.0000, -0.0000,  ..., -0.0000, -0.0000, -0.0000]), tensor([ 0.5262, -0.3664,  0.4536,  ..., -0.3597, -0.2121, -0.3281]), tensor([-0., -0., -0.,  ..., -0., -0., -0.]), tensor([-0.0000, -0.0000, -0.0000,  ..., 30.1783, -0.0000,  3.6916]), tensor([-0., -0., -0.,  ..., -0., -0., -0.]), tensor([-0., -0., -0.,  ..., -0., -0., -0.]), tensor([18.3999, -0.0000, -0.0000,  ..., -0.0000, -0.0000, 45.3672]), tensor([ 0.2349,  0.1743,  0.1660,  ...,  0.3616,  0.0957, -0.3534]), tensor([-0.2793, -0.3249, -0.3683,  ..., -0.0000, -0.0000, -0.3627]), tensor([ 0.0759, -0.3346, -0.2591,  ...,  0.4824, -0.2551, -0.1757]), tensor([ 0.4264, -0.1865, -0.1025,  ..., -0.1637,  0.7777, -0.3373]), tensor([ 0.4347, -0.2336, -0.2793,  ..., -0.3347, -0.3469, -0.1162]), tensor([ 0.0104,  0.4655, -0.3177,  ..., -0.1076,  0.8267, -0.3667]), tensor([ 0.0873,  0.1475, -0.3670,  ..., -0.1698,  0.0327, -0.3572]), tensor([322.7029,  -0.0000,  83.4842,  ...,  -0.0000,  -0.0000,  -0.0000]), tensor([-0.3365, -0.0309, -0.3139,  ...,  0.1455, -0.3260, -0.3622]), tensor([-0.0000, -0.0000, -0.0000,  ..., -0.0000, -0.0000, 3.1642]), tensor([    -0.0000,     -0.0000, 159417.2812,  ...,     -0.0000,\n",
      "            -0.0000, 179515.1562]), tensor([-0.0014, -0.3527, -0.0000,  ..., -0.0000, -0.0000, -0.0000]), tensor([6770305.5000,      -0.0000,      -0.0000,  ...,      -0.0000,\n",
      "             -0.0000,      -0.0000]), tensor([1609.9169,   -0.0000,   -0.0000,  ...,   -0.0000,   -0.0000,\n",
      "          -0.0000]), tensor([-0., -0., -0.,  ..., -0., -0., -0.]), tensor([-0.0067, -0.3482, -0.3706,  ..., -0.3683, -0.0611,  0.0504]), tensor([ 1.4714, -0.0000, -0.0945,  ..., -0.2832, -0.0000, -0.3679]), tensor([ 1.7539, 21.7252, -0.0000,  ..., -0.0000, -0.0000, 13.5089]), tensor([-0.3179, -0.3455, -0.3743,  ..., -0.2527,  0.1497, -0.0043]), tensor([-0.3241, -0.2744, -0.1231,  ..., -0.1582, -0.2237, -0.0000]), tensor([-0.1600,  3.9948, -0.0000,  ..., -0.0000, -0.0000,  8.6842]), tensor([-0.1209,  0.0394, -0.3112,  ..., -0.2695, -0.1538, -0.1348]), tensor([255.8073,  -0.0000, 140.1278,  ...,  -0.0000,  -0.0000,  -0.0000]), tensor([-0., -0., -0.,  ..., -0., -0., -0.]), tensor([-0.0667, -0.2547, -0.3669,  ...,  0.1411, -0.0529, -0.0764]), tensor([ 0.0093, -0.3176, -0.3739,  ..., -0.1065,  0.4898, -0.3551]), tensor([-0.3701, -0.1757, -0.3706,  ..., -0.3319, -0.2591,  0.1290]), tensor([-0.3745, -0.1032, -0.1967,  ..., -0.0000, -0.0000, -0.0593]), tensor([-0.3677, -0.2142, -0.0000,  ..., -0.0000, -0.0000, -0.3277]), tensor([-0., -0., -0.,  ..., -0., -0., -0.]), tensor([3.1169, -0.0000, -0.0000,  ..., -0.0000, -0.0000, 8.0993]), tensor([-0.2472, -0.3239, -0.2829,  ..., -0.3483, -0.2882, -0.2494]), tensor([-0.3634, -0.3321, -0.1018,  ..., -0.3687, -0.3750, -0.2305]), tensor([-0.1774, -0.3653, -0.2880,  ..., -0.3545, -0.3617, -0.3650]), tensor([8691.3945,   -0.0000,   -0.0000,  ...,   -0.0000,   -0.0000,\n"
     ]
    },
    {
     "name": "stderr",
     "output_type": "stream",
     "text": [
      "Using cache found in /root/.cache/torch/hub/mit-han-lab_once-for-all_master\n"
     ]
    },
    {
     "name": "stdout",
     "output_type": "stream",
     "text": [
      "        8597.5059]), tensor([9.0331, -0.0000, -0.0000,  ..., -0.0000, -0.0000, -0.0000]), tensor([42.5141, -0.0000, -0.0000,  ..., -0.0000, -0.0000, -0.0000]), tensor([65.9789, -0.0000, -0.0000,  ..., -0.0000, -0.0000, -0.0000]), tensor([-0., -0., -0.,  ..., -0., -0., -0.]), tensor([722.0713,  -0.0000,  35.6799,  ...,  -0.0000, 312.9419,  70.5834]), tensor([-0., -0., -0.,  ..., -0., -0., -0.]), tensor([-0.1471, -0.2599, -0.3613,  ..., -0.1913, -0.1905, -0.0606]), tensor([22.6140, -0.0000, -0.0000,  ..., -0.0000, -0.0000, -0.0000]), tensor([-0.3726, -0.0000, -0.1174,  ..., -0.2874, -0.2048,  0.0823])], 'acc': [99.51923076923077, 99.03846153846153, 99.51923076923077, 99.51923076923077, 99.51923076923077, 99.51923076923077, 98.38709677419355, 96.7741935483871, 98.38709677419355, 98.38709677419355, 8.064516129032258, 96.7741935483871, 77.08333333333333, 76.4423076923077, 78.68589743589743, 77.40384615384616, 77.24358974358974, 78.36538461538461, 94.23076923076923, 75.64102564102564, 90.7051282051282, 94.23076923076923, 91.34615384615384, 94.23076923076923, 99.52978056426332, 99.3730407523511, 99.68652037617555, 99.68652037617555, 100.0, 99.3730407523511, 84.88700564971751, 87.99435028248588, 86.7231638418079, 85.73446327683615, 87.99435028248588, 86.44067796610169, 96.6740576496674, 97.11751662971176, 97.00665188470066, 97.22838137472284, 96.6740576496674, 95.56541019955654, 94.0, 94.6, 94.0, 95.0, 95.2, 95.0, 97.46835443037975, 95.78059071729957, 95.78059071729957, 95.78059071729957, 97.0464135021097, 95.9915611814346, 67.41071428571429, 66.96428571428571, 69.19642857142857, 67.85714285714286, 71.42857142857143], 'n_params': [6228442, 5625114, 6570290, 5347354, 5825218, 4821626, 4711646, 4554646, 6688342, 4317614, 5203934, 5550702, 5717244, 5151700, 5773028, 5059684, 6364428, 4930308, 5608818, 4493962, 4318938, 4537954, 5514050, 3861938, 5155304, 6005320, 4798208, 6420784, 4792312, 3845304, 4249220, 3881348, 5982340, 3517428, 5327428, 6367692, 5599490, 4745802, 5815994, 5362738, 5007786, 4598522, 5921562, 4126858, 4121234, 5318114, 5013634, 5773418, 4451268, 7041756, 3900292, 5413740, 4585324, 3943980, 5856793, 5602273, 5582713, 5463665, 4385553]}\n",
      "\n",
      "=====> Generating 6th network  <=====\n",
      "\n",
      "\n",
      "=====>Generating sub_net<=====\n",
      "\n",
      "\n",
      "=====> Training started <=====\n",
      "\n",
      "Starting Training for:skin-cancer9-classesisic_nodoubttome_0_9 with model topology:[5, 7, 5, 5, 5, 7, 7, 5, 5, 3, 3, 5, 5, 3, 7, 5, 5, 7, 7, 7, 4, 3, 4, 6, 4, 6, 6, 3, 4, 4, 6, 4, 6, 4, 3, 3, 3, 6, 6, 6, 3, 3, 4, 4, 2]\n"
     ]
    },
    {
     "name": "stderr",
     "output_type": "stream",
     "text": [
      "56it [00:10,  5.20it/s]\n",
      "7it [00:01,  4.99it/s]\n"
     ]
    },
    {
     "name": "stdout",
     "output_type": "stream",
     "text": [
      "\n",
      "Epoch: 1/15, Train Loss: 53.26085977 , Val Loss: 49.75460597, Train Accuracy:46.05042017,  Val Accuracy: 45.53571429, Epoch Time: 12.46742821\n"
     ]
    },
    {
     "name": "stderr",
     "output_type": "stream",
     "text": [
      "56it [00:10,  5.51it/s]\n",
      "7it [00:01,  5.46it/s]\n"
     ]
    },
    {
     "name": "stdout",
     "output_type": "stream",
     "text": [
      "\n",
      "Epoch: 2/15, Train Loss: 32.09370518 , Val Loss: 35.25210544, Train Accuracy:66.55462185,  Val Accuracy: 61.16071429, Epoch Time: 11.69012737\n"
     ]
    },
    {
     "name": "stderr",
     "output_type": "stream",
     "text": [
      "56it [00:10,  5.52it/s]\n",
      "7it [00:01,  4.86it/s]\n"
     ]
    },
    {
     "name": "stdout",
     "output_type": "stream",
     "text": [
      "\n",
      "Epoch: 3/15, Train Loss: 23.02497498 , Val Loss: 29.22006716, Train Accuracy:74.28571429,  Val Accuracy: 67.41071429, Epoch Time: 11.86945462\n"
     ]
    },
    {
     "name": "stderr",
     "output_type": "stream",
     "text": [
      "56it [00:10,  5.58it/s]\n",
      "7it [00:01,  4.70it/s]\n"
     ]
    },
    {
     "name": "stdout",
     "output_type": "stream",
     "text": [
      "\n",
      "Epoch: 4/15, Train Loss: 16.76073176 , Val Loss: 28.45660346, Train Accuracy:81.51260504,  Val Accuracy: 64.73214286, Epoch Time: 11.82400918\n"
     ]
    },
    {
     "name": "stderr",
     "output_type": "stream",
     "text": [
      "56it [00:10,  5.45it/s]\n",
      "7it [00:01,  5.30it/s]\n"
     ]
    },
    {
     "name": "stdout",
     "output_type": "stream",
     "text": [
      "\n",
      "Epoch: 5/15, Train Loss: 12.42954147 , Val Loss: 28.31740025, Train Accuracy:86.05042017,  Val Accuracy: 64.28571429, Epoch Time: 11.84178495\n"
     ]
    },
    {
     "name": "stderr",
     "output_type": "stream",
     "text": [
      "56it [00:10,  5.37it/s]\n",
      "7it [00:01,  5.21it/s]\n"
     ]
    },
    {
     "name": "stdout",
     "output_type": "stream",
     "text": [
      "\n",
      "Epoch: 6/15, Train Loss: 9.64197243 , Val Loss: 27.98342923, Train Accuracy:88.45938375,  Val Accuracy: 64.73214286, Epoch Time: 12.00110078\n"
     ]
    },
    {
     "name": "stderr",
     "output_type": "stream",
     "text": [
      "56it [00:10,  5.46it/s]\n",
      "7it [00:01,  4.88it/s]\n"
     ]
    },
    {
     "name": "stdout",
     "output_type": "stream",
     "text": [
      "\n",
      "Epoch: 7/15, Train Loss: 7.15959860 , Val Loss: 32.26613344, Train Accuracy:91.82072829,  Val Accuracy: 62.50000000, Epoch Time: 11.93456864\n"
     ]
    },
    {
     "name": "stderr",
     "output_type": "stream",
     "text": [
      "56it [00:10,  5.40it/s]\n",
      "7it [00:01,  5.22it/s]\n"
     ]
    },
    {
     "name": "stdout",
     "output_type": "stream",
     "text": [
      "\n",
      "Epoch: 8/15, Train Loss: 6.08277887 , Val Loss: 30.13455582, Train Accuracy:92.82913165,  Val Accuracy: 68.30357143, Epoch Time: 11.92981815\n"
     ]
    },
    {
     "name": "stderr",
     "output_type": "stream",
     "text": [
      "56it [00:10,  5.29it/s]\n",
      "7it [00:01,  5.15it/s]\n"
     ]
    },
    {
     "name": "stdout",
     "output_type": "stream",
     "text": [
      "\n",
      "Epoch: 9/15, Train Loss: 5.25156841 , Val Loss: 30.74409131, Train Accuracy:92.60504202,  Val Accuracy: 68.75000000, Epoch Time: 12.17794871\n"
     ]
    },
    {
     "name": "stderr",
     "output_type": "stream",
     "text": [
      "56it [00:09,  5.61it/s]\n",
      "7it [00:01,  4.88it/s]\n"
     ]
    },
    {
     "name": "stdout",
     "output_type": "stream",
     "text": [
      "\n",
      "Epoch: 10/15, Train Loss: 4.73894858 , Val Loss: 34.38598851, Train Accuracy:93.55742297,  Val Accuracy: 66.96428571, Epoch Time: 11.70600343\n"
     ]
    },
    {
     "name": "stderr",
     "output_type": "stream",
     "text": [
      "56it [00:10,  5.47it/s]\n",
      "7it [00:01,  4.83it/s]\n"
     ]
    },
    {
     "name": "stdout",
     "output_type": "stream",
     "text": [
      "\n",
      "Epoch: 11/15, Train Loss: 4.56184496 , Val Loss: 31.23223468, Train Accuracy:93.72549020,  Val Accuracy: 70.98214286, Epoch Time: 11.95153260\n",
      "Early stopping on, 10th, epoch\n",
      "\n",
      "=====>Generating f_emb<=====\n",
      "\n",
      "torch.Size([1536])\n",
      "{'dataset': ['sldc_0_10', 'sldc_0_10', 'sldc_0_10', 'sldc_0_10', 'sldc_0_10', 'sldc_0_10', 'corales_0_14', 'corales_0_14', 'corales_0_14', 'corales_0_14', 'corales_0_14', 'corales_0_14', '6000-store-items-images-classified-by-color_imoore_0_12', '6000-store-items-images-classified-by-color_imoore_0_12', '6000-store-items-images-classified-by-color_imoore_0_12', '6000-store-items-images-classified-by-color_imoore_0_12', '6000-store-items-images-classified-by-color_imoore_0_12', '6000-store-items-images-classified-by-color_imoore_0_12', 'fcis-sc-deeplearning-competition_0_10', 'fcis-sc-deeplearning-competition_0_10', 'fcis-sc-deeplearning-competition_0_10', 'fcis-sc-deeplearning-competition_0_10', 'fcis-sc-deeplearning-competition_0_10', 'fcis-sc-deeplearning-competition_0_10', 'lego-brick-images_joosthazelzet_0_16', 'lego-brick-images_joosthazelzet_0_16', 'lego-brick-images_joosthazelzet_0_16', 'lego-brick-images_joosthazelzet_0_16', 'lego-brick-images_joosthazelzet_0_16', 'lego-brick-images_joosthazelzet_0_16', 'oregon-wildlife_virtualdvid_0_20', 'oregon-wildlife_virtualdvid_0_20', 'oregon-wildlife_virtualdvid_0_20', 'oregon-wildlife_virtualdvid_0_20', 'oregon-wildlife_virtualdvid_0_20', 'oregon-wildlife_virtualdvid_0_20', 'perritos_0_10', 'perritos_0_10', 'perritos_0_10', 'perritos_0_10', 'perritos_0_10', 'perritos_0_10', 'khu-deep-learning-competition_0_10', 'khu-deep-learning-competition_0_10', 'khu-deep-learning-competition_0_10', 'khu-deep-learning-competition_0_10', 'khu-deep-learning-competition_0_10', 'khu-deep-learning-competition_0_10', 'plant-seedlings-classification_0_12', 'plant-seedlings-classification_0_12', 'plant-seedlings-classification_0_12', 'plant-seedlings-classification_0_12', 'plant-seedlings-classification_0_12', 'plant-seedlings-classification_0_12', 'skin-cancer9-classesisic_nodoubttome_0_9', 'skin-cancer9-classesisic_nodoubttome_0_9', 'skin-cancer9-classesisic_nodoubttome_0_9', 'skin-cancer9-classesisic_nodoubttome_0_9', 'skin-cancer9-classesisic_nodoubttome_0_9', 'skin-cancer9-classesisic_nodoubttome_0_9'], 'topol': [[3, 5, 5, 5, 7, 5, 5, 7, 3, 5, 7, 7, 7, 5, 7, 5, 3, 3, 7, 3, 4, 3, 6, 3, 6, 6, 4, 4, 6, 4, 3, 6, 6, 3, 4, 6, 3, 4, 6, 3, 3, 4, 2, 4, 4], [3, 7, 7, 7, 5, 7, 5, 3, 7, 5, 3, 3, 5, 5, 3, 7, 7, 5, 3, 5, 3, 4, 6, 3, 6, 4, 6, 4, 4, 3, 3, 3, 3, 6, 6, 3, 3, 4, 6, 4, 4, 3, 2, 2, 4], [3, 7, 5, 5, 3, 7, 7, 5, 5, 5, 5, 5, 5, 7, 7, 7, 7, 7, 5, 7, 6, 6, 6, 3, 6, 3, 4, 4, 6, 6, 6, 4, 3, 6, 4, 6, 6, 4, 6, 4, 2, 3, 3, 3, 4], [7, 5, 3, 3, 5, 3, 5, 5, 5, 5, 3, 7, 7, 5, 7, 3, 3, 5, 3, 5, 3, 4, 6, 6, 6, 3, 6, 3, 6, 3, 6, 4, 4, 6, 6, 4, 6, 6, 6, 4, 2, 2, 2, 3, 2], [3, 5, 5, 7, 5, 5, 7, 3, 7, 5, 5, 5, 3, 5, 3, 7, 5, 7, 7, 3, 3, 6, 3, 3, 6, 3, 6, 6, 4, 4, 3, 4, 4, 3, 6, 6, 4, 3, 4, 3, 4, 3, 4, 4, 4], [3, 3, 5, 5, 7, 5, 5, 5, 5, 5, 3, 3, 3, 3, 3, 7, 7, 3, 5, 5, 6, 4, 3, 4, 4, 4, 3, 6, 4, 3, 6, 4, 4, 4, 6, 6, 4, 4, 3, 6, 4, 2, 4, 3, 3], [7, 7, 5, 5, 5, 5, 3, 3, 3, 5, 7, 5, 5, 3, 3, 5, 5, 5, 7, 5, 3, 4, 3, 6, 6, 4, 3, 4, 6, 6, 4, 4, 6, 4, 4, 3, 6, 4, 3, 6, 2, 4, 4, 3, 2], [3, 3, 3, 7, 7, 5, 5, 7, 7, 5, 7, 7, 7, 7, 3, 5, 7, 7, 7, 3, 6, 4, 6, 3, 3, 4, 6, 6, 3, 3, 4, 4, 4, 4, 6, 6, 3, 4, 4, 3, 2, 4, 4, 2, 3], [5, 5, 3, 5, 7, 3, 5, 7, 7, 5, 3, 7, 7, 3, 3, 7, 3, 3, 7, 3, 4, 4, 6, 6, 3, 6, 3, 6, 3, 4, 4, 6, 3, 4, 6, 3, 6, 6, 4, 4, 4, 2, 4, 4, 4], [3, 5, 3, 5, 3, 3, 7, 7, 3, 3, 5, 7, 5, 3, 7, 7, 3, 3, 3, 7, 3, 4, 6, 6, 4, 4, 6, 6, 3, 3, 3, 6, 3, 6, 3, 4, 3, 4, 6, 6, 4, 4, 4, 3, 2], [3, 7, 7, 5, 7, 3, 7, 5, 7, 7, 7, 5, 7, 5, 3, 7, 5, 5, 5, 5, 6, 3, 6, 6, 4, 6, 6, 4, 6, 6, 6, 3, 3, 3, 3, 3, 6, 6, 4, 4, 3, 4, 2, 2, 3], [7, 7, 3, 3, 5, 7, 3, 5, 5, 3, 3, 3, 5, 7, 3, 7, 7, 5, 7, 7, 6, 3, 4, 3, 3, 3, 4, 3, 3, 4, 6, 6, 6, 4, 4, 6, 6, 4, 3, 4, 2, 2, 3, 4, 3], [7, 3, 3, 3, 3, 3, 5, 7, 5, 3, 5, 5, 3, 7, 7, 7, 5, 3, 7, 5, 3, 6, 3, 6, 6, 3, 4, 3, 6, 6, 3, 4, 3, 4, 4, 3, 4, 6, 6, 4, 3, 3, 2, 3, 3], [3, 3, 7, 5, 7, 3, 5, 7, 3, 5, 3, 5, 5, 5, 5, 3, 5, 5, 3, 3, 3, 6, 6, 6, 6, 6, 4, 3, 4, 4, 6, 4, 3, 6, 3, 6, 3, 6, 4, 6, 2, 2, 2, 3, 3], [5, 3, 5, 5, 5, 5, 7, 7, 3, 7, 7, 7, 3, 3, 7, 3, 7, 5, 5, 3, 3, 3, 6, 4, 6, 4, 4, 3, 6, 4, 6, 6, 3, 6, 4, 4, 3, 4, 3, 4, 3, 3, 4, 4, 4], [5, 5, 7, 5, 5, 5, 5, 7, 3, 3, 7, 3, 7, 5, 3, 3, 5, 7, 3, 3, 4, 4, 4, 4, 3, 4, 6, 3, 4, 6, 6, 3, 6, 3, 4, 6, 6, 4, 4, 6, 2, 4, 2, 3, 3], [7, 5, 3, 3, 7, 7, 7, 7, 5, 7, 5, 3, 7, 3, 5, 7, 3, 5, 7, 5, 4, 4, 4, 6, 4, 3, 3, 6, 3, 6, 4, 6, 6, 6, 6, 6, 3, 4, 6, 4, 2, 2, 2, 4, 3], [3, 3, 3, 7, 7, 3, 3, 7, 7, 7, 7, 5, 5, 7, 7, 3, 7, 7, 5, 7, 3, 4, 3, 3, 6, 3, 6, 3, 6, 3, 6, 3, 4, 3, 3, 6, 4, 4, 3, 6, 4, 4, 2, 4, 3], [3, 7, 7, 7, 3, 5, 3, 7, 5, 3, 5, 5, 7, 3, 5, 5, 3, 7, 5, 5, 4, 3, 4, 4, 3, 4, 6, 4, 6, 4, 3, 3, 3, 3, 6, 3, 4, 6, 4, 3, 4, 2, 4, 4, 3], [7, 7, 3, 5, 5, 5, 7, 3, 3, 5, 3, 3, 5, 7, 7, 3, 3, 7, 3, 3, 3, 3, 4, 6, 4, 6, 6, 6, 4, 3, 3, 6, 6, 4, 3, 4, 6, 4, 4, 4, 2, 4, 2, 3, 2], [3, 7, 7, 3, 5, 7, 7, 5, 7, 3, 5, 7, 7, 3, 5, 5, 5, 3, 3, 5, 3, 4, 3, 4, 3, 4, 6, 3, 6, 3, 4, 3, 4, 4, 4, 6, 3, 3, 4, 3, 3, 3, 2, 4, 2], [3, 7, 5, 3, 3, 5, 5, 7, 5, 7, 3, 5, 3, 7, 7, 5, 5, 7, 3, 3, 3, 3, 4, 6, 3, 6, 4, 3, 6, 4, 6, 4, 6, 6, 6, 6, 3, 4, 3, 6, 4, 4, 2, 2, 3], [3, 7, 3, 3, 5, 7, 5, 7, 5, 7, 7, 7, 7, 3, 3, 3, 7, 3, 3, 3, 6, 4, 4, 3, 4, 6, 4, 6, 4, 6, 6, 4, 4, 3, 3, 3, 6, 4, 3, 3, 2, 4, 4, 4, 4], [5, 5, 7, 5, 7, 3, 7, 7, 7, 5, 7, 3, 5, 3, 5, 7, 3, 7, 7, 5, 4, 3, 6, 6, 6, 3, 6, 3, 6, 3, 3, 6, 4, 4, 3, 3, 3, 3, 3, 3, 3, 2, 3, 4, 2], [7, 3, 7, 3, 5, 5, 3, 3, 7, 3, 7, 7, 7, 5, 5, 5, 5, 7, 5, 5, 6, 4, 3, 3, 4, 3, 3, 4, 4, 3, 6, 6, 3, 4, 4, 6, 6, 4, 6, 3, 3, 4, 4, 4, 2], [5, 5, 3, 7, 3, 7, 7, 5, 3, 7, 7, 5, 5, 7, 7, 7, 5, 7, 5, 3, 4, 4, 3, 3, 4, 3, 4, 6, 3, 3, 3, 4, 6, 6, 4, 6, 6, 4, 3, 4, 4, 4, 4, 3, 4], [5, 5, 3, 5, 7, 3, 5, 5, 3, 5, 7, 3, 5, 3, 3, 5, 7, 7, 5, 5, 4, 3, 6, 4, 6, 6, 6, 4, 3, 6, 6, 6, 4, 4, 4, 4, 3, 4, 3, 6, 2, 4, 2, 4, 3], [5, 3, 5, 3, 5, 3, 3, 3, 7, 3, 5, 7, 5, 7, 3, 7, 7, 5, 5, 3, 6, 3, 6, 6, 3, 4, 3, 4, 6, 3, 4, 6, 3, 3, 4, 4, 6, 6, 6, 4, 3, 4, 4, 4, 3], [7, 5, 3, 7, 3, 5, 3, 5, 3, 5, 7, 3, 7, 7, 5, 7, 7, 3, 3, 3, 3, 3, 6, 4, 3, 4, 4, 3, 3, 3, 3, 4, 3, 3, 3, 3, 6, 6, 4, 4, 2, 4, 2, 4, 2], [5, 7, 7, 5, 5, 5, 7, 7, 7, 3, 5, 5, 5, 5, 3, 3, 5, 7, 3, 5, 3, 4, 4, 3, 3, 6, 6, 4, 4, 3, 4, 3, 3, 6, 4, 6, 4, 3, 3, 3, 2, 2, 4, 2, 2], [5, 5, 7, 3, 3, 3, 5, 3, 5, 5, 3, 3, 5, 7, 5, 3, 5, 3, 7, 7, 3, 3, 4, 4, 3, 3, 3, 3, 4, 6, 6, 4, 3, 4, 6, 4, 4, 4, 3, 3, 4, 4, 3, 2, 3], [3, 5, 5, 5, 7, 5, 7, 7, 5, 5, 5, 5, 5, 7, 3, 5, 7, 7, 3, 5, 6, 6, 4, 6, 3, 3, 3, 4, 4, 3, 6, 4, 4, 3, 3, 6, 6, 3, 3, 6, 3, 4, 3, 2, 2], [3, 3, 7, 5, 5, 5, 7, 7, 7, 5, 3, 3, 3, 3, 7, 5, 5, 5, 3, 3, 3, 3, 3, 6, 4, 4, 6, 4, 3, 6, 4, 3, 6, 4, 3, 6, 6, 3, 4, 6, 2, 4, 2, 3, 4], [5, 3, 3, 3, 7, 5, 7, 3, 5, 5, 3, 3, 3, 5, 3, 5, 7, 3, 5, 3, 6, 3, 4, 6, 3, 6, 4, 3, 4, 3, 4, 4, 6, 3, 4, 4, 3, 3, 6, 6, 2, 3, 3, 2, 2], [3, 7, 3, 5, 3, 7, 5, 3, 7, 7, 3, 5, 5, 3, 7, 5, 5, 7, 7, 7, 4, 6, 6, 3, 6, 6, 4, 4, 3, 6, 6, 6, 3, 3, 3, 4, 4, 6, 3, 3, 2, 4, 3, 4, 3], [3, 3, 3, 5, 3, 3, 3, 5, 7, 3, 7, 5, 3, 7, 5, 3, 7, 7, 3, 7, 6, 3, 3, 6, 3, 6, 6, 3, 6, 6, 4, 4, 4, 3, 6, 3, 6, 3, 3, 6, 2, 3, 4, 4, 4], [5, 7, 3, 7, 3, 7, 5, 5, 5, 7, 7, 3, 3, 3, 7, 3, 5, 5, 3, 5, 6, 4, 6, 6, 6, 4, 6, 3, 4, 4, 3, 3, 6, 6, 4, 3, 4, 3, 6, 4, 2, 2, 3, 4, 3], [3, 3, 3, 3, 5, 7, 5, 3, 3, 7, 3, 3, 5, 3, 3, 3, 3, 3, 3, 3, 6, 3, 6, 4, 4, 3, 6, 6, 3, 6, 6, 3, 6, 6, 6, 3, 4, 3, 3, 4, 4, 3, 2, 4, 2], [5, 5, 7, 3, 3, 3, 7, 5, 7, 7, 3, 7, 5, 3, 5, 7, 7, 5, 5, 5, 4, 4, 3, 4, 3, 3, 6, 6, 6, 3, 4, 6, 6, 3, 3, 4, 6, 6, 6, 3, 2, 3, 3, 2, 3], [3, 3, 3, 3, 5, 3, 5, 3, 7, 3, 5, 5, 7, 3, 5, 7, 3, 5, 5, 7, 4, 3, 6, 4, 3, 6, 6, 4, 4, 4, 3, 6, 6, 3, 3, 6, 3, 3, 6, 6, 3, 2, 2, 4, 3], [3, 7, 5, 5, 7, 5, 7, 3, 3, 5, 5, 3, 5, 3, 5, 3, 3, 7, 3, 3, 3, 4, 4, 6, 6, 6, 3, 6, 6, 4, 3, 6, 6, 6, 6, 4, 3, 3, 3, 6, 3, 4, 4, 4, 2], [5, 7, 3, 3, 7, 5, 7, 5, 3, 3, 5, 5, 7, 3, 3, 7, 7, 3, 5, 5, 6, 3, 6, 6, 6, 3, 6, 6, 4, 3, 6, 3, 3, 3, 3, 3, 4, 6, 3, 3, 2, 2, 4, 2, 3], [3, 7, 5, 5, 5, 3, 7, 5, 7, 5, 3, 3, 5, 3, 3, 7, 3, 7, 3, 5, 3, 4, 3, 6, 4, 3, 3, 4, 4, 6, 6, 3, 3, 3, 6, 6, 4, 4, 3, 6, 4, 4, 4, 3, 4], [5, 3, 5, 3, 5, 3, 7, 3, 3, 5, 5, 3, 5, 7, 5, 7, 7, 5, 3, 7, 4, 4, 6, 3, 3, 6, 3, 3, 3, 3, 4, 4, 3, 6, 4, 3, 6, 3, 3, 3, 4, 3, 3, 2, 2], [7, 7, 5, 3, 7, 7, 3, 7, 5, 5, 7, 3, 3, 5, 7, 7, 5, 5, 5, 3, 4, 3, 4, 6, 3, 4, 6, 3, 3, 6, 3, 6, 3, 4, 3, 3, 6, 4, 3, 3, 3, 2, 4, 2, 2], [3, 7, 5, 3, 7, 7, 7, 5, 3, 3, 7, 7, 7, 5, 7, 5, 5, 5, 7, 5, 6, 3, 6, 4, 3, 3, 4, 6, 3, 4, 3, 6, 3, 4, 3, 3, 4, 3, 4, 4, 3, 3, 4, 4, 4], [5, 7, 7, 7, 7, 5, 5, 7, 7, 5, 7, 5, 5, 7, 7, 5, 7, 3, 3, 3, 6, 3, 6, 3, 4, 4, 4, 4, 6, 6, 4, 3, 4, 3, 6, 3, 3, 3, 4, 4, 4, 4, 4, 4, 3], [5, 5, 3, 3, 3, 7, 3, 3, 3, 7, 3, 5, 7, 5, 5, 7, 7, 3, 5, 7, 6, 3, 4, 3, 3, 4, 3, 3, 3, 3, 4, 3, 3, 6, 4, 6, 6, 4, 6, 3, 2, 3, 4, 3, 3], [3, 5, 3, 5, 3, 3, 5, 7, 3, 7, 3, 3, 3, 5, 3, 7, 7, 7, 5, 7, 3, 4, 3, 6, 3, 4, 3, 4, 4, 4, 3, 4, 3, 4, 6, 4, 4, 3, 3, 4, 3, 4, 3, 4, 2], [3, 5, 3, 3, 5, 7, 3, 5, 3, 7, 7, 3, 7, 5, 7, 3, 7, 5, 5, 3, 4, 4, 4, 4, 3, 4, 4, 4, 3, 6, 6, 6, 4, 6, 3, 4, 6, 6, 6, 4, 2, 2, 4, 3, 4], [3, 3, 7, 7, 5, 5, 3, 3, 3, 5, 5, 7, 7, 5, 7, 3, 5, 3, 3, 5, 4, 6, 6, 3, 6, 3, 3, 4, 6, 3, 4, 6, 4, 3, 6, 4, 6, 4, 4, 3, 4, 3, 2, 2, 2], [3, 3, 7, 5, 7, 5, 3, 5, 3, 5, 7, 3, 5, 3, 7, 3, 7, 5, 7, 7, 6, 4, 6, 6, 6, 3, 3, 3, 6, 4, 3, 6, 3, 3, 3, 4, 4, 6, 3, 3, 2, 2, 2, 4, 4], [5, 5, 3, 7, 5, 5, 7, 7, 3, 5, 3, 7, 5, 5, 5, 5, 3, 7, 5, 3, 3, 3, 4, 6, 6, 3, 4, 6, 6, 4, 3, 6, 3, 4, 4, 4, 4, 3, 4, 3, 2, 3, 4, 3, 3], [5, 3, 5, 7, 3, 7, 7, 3, 3, 7, 7, 3, 5, 3, 7, 7, 3, 5, 5, 3, 6, 6, 4, 4, 3, 6, 3, 4, 6, 4, 3, 6, 3, 6, 6, 4, 4, 4, 4, 3, 4, 2, 2, 2, 2], [5, 3, 7, 5, 5, 3, 3, 3, 7, 7, 3, 7, 3, 3, 7, 7, 7, 7, 3, 5, 4, 3, 3, 6, 6, 3, 3, 6, 6, 4, 3, 4, 3, 4, 4, 6, 6, 3, 4, 6, 2, 2, 3, 3, 4], [3, 7, 3, 5, 5, 3, 7, 3, 7, 5, 5, 5, 7, 5, 3, 3, 5, 3, 3, 3, 3, 6, 3, 4, 6, 6, 3, 4, 3, 3, 4, 6, 6, 6, 6, 3, 6, 6, 3, 3, 3, 4, 4, 2, 3], [5, 3, 5, 3, 5, 5, 3, 5, 7, 5, 7, 5, 5, 7, 7, 5, 7, 7, 5, 7, 6, 6, 6, 4, 6, 4, 6, 6, 3, 3, 3, 6, 3, 6, 4, 4, 3, 3, 6, 4, 3, 2, 4, 2, 4], [3, 3, 3, 7, 3, 7, 7, 7, 5, 3, 5, 7, 3, 7, 7, 7, 7, 3, 7, 3, 3, 3, 3, 4, 3, 3, 3, 4, 3, 6, 6, 3, 6, 3, 3, 6, 6, 6, 6, 4, 2, 2, 3, 4, 2], [7, 5, 3, 3, 7, 3, 3, 5, 3, 7, 7, 7, 7, 7, 7, 3, 7, 7, 3, 7, 4, 6, 4, 3, 4, 6, 3, 3, 6, 6, 3, 3, 3, 6, 6, 6, 3, 3, 4, 4, 3, 4, 2, 3, 2], [5, 7, 5, 5, 5, 7, 7, 5, 5, 3, 3, 5, 5, 3, 7, 5, 5, 7, 7, 7, 4, 3, 4, 6, 4, 6, 6, 3, 4, 4, 6, 4, 6, 4, 3, 3, 3, 6, 6, 6, 3, 3, 4, 4, 2]], 'f_emb': [tensor([-0., -0., -0.,  ..., -0., -0., -0.]), tensor([-0., -0., -0.,  ..., -0., -0., -0.]), tensor([1226.8495,   -0.0000,   -0.0000,  ...,   -0.0000,   -0.0000,\n",
      "          -0.0000]), tensor([-0., -0., -0.,  ..., -0., -0., -0.]), tensor([188.3607,  -0.0000,  -0.0000,  ...,  -0.0000,  -0.0000, 213.2732]), tensor([-0., -0., -0.,  ..., -0., -0., -0.]), tensor([-0., -0., -0.,  ..., -0., -0., -0.]), tensor([-0.0000, -0.0000, -0.0000,  ..., -0.0000, -0.0000, 9.9611]), tensor([38.6843, -0.0000, -0.0000,  ..., -0.0000, -0.0000, -0.0000]), tensor([ 0.5262, -0.3664,  0.4536,  ..., -0.3597, -0.2121, -0.3281]), tensor([-0., -0., -0.,  ..., -0., -0., -0.]), tensor([-0.0000, -0.0000, -0.0000,  ..., 30.1783, -0.0000,  3.6916]), tensor([-0., -0., -0.,  ..., -0., -0., -0.]), tensor([-0., -0., -0.,  ..., -0., -0., -0.]), tensor([18.3999, -0.0000, -0.0000,  ..., -0.0000, -0.0000, 45.3672]), tensor([ 0.2349,  0.1743,  0.1660,  ...,  0.3616,  0.0957, -0.3534]), tensor([-0.2793, -0.3249, -0.3683,  ..., -0.0000, -0.0000, -0.3627]), tensor([ 0.0759, -0.3346, -0.2591,  ...,  0.4824, -0.2551, -0.1757]), tensor([ 0.4264, -0.1865, -0.1025,  ..., -0.1637,  0.7777, -0.3373]), tensor([ 0.4347, -0.2336, -0.2793,  ..., -0.3347, -0.3469, -0.1162]), tensor([ 0.0104,  0.4655, -0.3177,  ..., -0.1076,  0.8267, -0.3667]), tensor([ 0.0873,  0.1475, -0.3670,  ..., -0.1698,  0.0327, -0.3572]), tensor([322.7029,  -0.0000,  83.4842,  ...,  -0.0000,  -0.0000,  -0.0000]), tensor([-0.3365, -0.0309, -0.3139,  ...,  0.1455, -0.3260, -0.3622]), tensor([-0.0000, -0.0000, -0.0000,  ..., -0.0000, -0.0000, 3.1642]), tensor([    -0.0000,     -0.0000, 159417.2812,  ...,     -0.0000,\n",
      "            -0.0000, 179515.1562]), tensor([-0.0014, -0.3527, -0.0000,  ..., -0.0000, -0.0000, -0.0000]), tensor([6770305.5000,      -0.0000,      -0.0000,  ...,      -0.0000,\n",
      "             -0.0000,      -0.0000]), tensor([1609.9169,   -0.0000,   -0.0000,  ...,   -0.0000,   -0.0000,\n",
      "          -0.0000]), tensor([-0., -0., -0.,  ..., -0., -0., -0.]), tensor([-0.0067, -0.3482, -0.3706,  ..., -0.3683, -0.0611,  0.0504]), tensor([ 1.4714, -0.0000, -0.0945,  ..., -0.2832, -0.0000, -0.3679]), tensor([ 1.7539, 21.7252, -0.0000,  ..., -0.0000, -0.0000, 13.5089]), tensor([-0.3179, -0.3455, -0.3743,  ..., -0.2527,  0.1497, -0.0043]), tensor([-0.3241, -0.2744, -0.1231,  ..., -0.1582, -0.2237, -0.0000]), tensor([-0.1600,  3.9948, -0.0000,  ..., -0.0000, -0.0000,  8.6842]), tensor([-0.1209,  0.0394, -0.3112,  ..., -0.2695, -0.1538, -0.1348]), tensor([255.8073,  -0.0000, 140.1278,  ...,  -0.0000,  -0.0000,  -0.0000]), tensor([-0., -0., -0.,  ..., -0., -0., -0.]), tensor([-0.0667, -0.2547, -0.3669,  ...,  0.1411, -0.0529, -0.0764]), tensor([ 0.0093, -0.3176, -0.3739,  ..., -0.1065,  0.4898, -0.3551]), tensor([-0.3701, -0.1757, -0.3706,  ..., -0.3319, -0.2591,  0.1290]), tensor([-0.3745, -0.1032, -0.1967,  ..., -0.0000, -0.0000, -0.0593]), tensor([-0.3677, -0.2142, -0.0000,  ..., -0.0000, -0.0000, -0.3277]), tensor([-0., -0., -0.,  ..., -0., -0., -0.]), tensor([3.1169, -0.0000, -0.0000,  ..., -0.0000, -0.0000, 8.0993]), tensor([-0.2472, -0.3239, -0.2829,  ..., -0.3483, -0.2882, -0.2494]), tensor([-0.3634, -0.3321, -0.1018,  ..., -0.3687, -0.3750, -0.2305]), tensor([-0.1774, -0.3653, -0.2880,  ..., -0.3545, -0.3617, -0.3650]), tensor([8691.3945,   -0.0000,   -0.0000,  ...,   -0.0000,   -0.0000,\n",
      "        8597.5059]), tensor([9.0331, -0.0000, -0.0000,  ..., -0.0000, -0.0000, -0.0000]), tensor([42.5141, -0.0000, -0.0000,  ..., -0.0000, -0.0000, -0.0000]), tensor([65.9789, -0.0000, -0.0000,  ..., -0.0000, -0.0000, -0.0000]), tensor([-0., -0., -0.,  ..., -0., -0., -0.]), tensor([722.0713,  -0.0000,  35.6799,  ...,  -0.0000, 312.9419,  70.5834]), tensor([-0., -0., -0.,  ..., -0., -0., -0.]), tensor([-0.1471, -0.2599, -0.3613,  ..., -0.1913, -0.1905, -0.0606]), tensor([22.6140, -0.0000, -0.0000,  ..., -0.0000, -0.0000, -0.0000]), tensor([-0.3726, -0.0000, -0.1174,  ..., -0.2874, -0.2048,  0.0823]), tensor([ 0.1614, -0.3211,  0.1441,  ..., -0.2685,  0.8395, -0.2161])], 'acc': [99.51923076923077, 99.03846153846153, 99.51923076923077, 99.51923076923077, 99.51923076923077, 99.51923076923077, 98.38709677419355, 96.7741935483871, 98.38709677419355, 98.38709677419355, 8.064516129032258, 96.7741935483871, 77.08333333333333, 76.4423076923077, 78.68589743589743, 77.40384615384616, 77.24358974358974, 78.36538461538461, 94.23076923076923, 75.64102564102564, 90.7051282051282, 94.23076923076923, 91.34615384615384, 94.23076923076923, 99.52978056426332, 99.3730407523511, 99.68652037617555, 99.68652037617555, 100.0, 99.3730407523511, 84.88700564971751, 87.99435028248588, 86.7231638418079, 85.73446327683615, 87.99435028248588, 86.44067796610169, 96.6740576496674, 97.11751662971176, 97.00665188470066, 97.22838137472284, 96.6740576496674, 95.56541019955654, 94.0, 94.6, 94.0, 95.0, 95.2, 95.0, 97.46835443037975, 95.78059071729957, 95.78059071729957, 95.78059071729957, 97.0464135021097, 95.9915611814346, 67.41071428571429, 66.96428571428571, 69.19642857142857, 67.85714285714286, 71.42857142857143, 70.98214285714286], 'n_params': [6228442, 5625114, 6570290, 5347354, 5825218, 4821626, 4711646, 4554646, 6688342, 4317614, 5203934, 5550702, 5717244, 5151700, 5773028, 5059684, 6364428, 4930308, 5608818, 4493962, 4318938, 4537954, 5514050, 3861938, 5155304, 6005320, 4798208, 6420784, 4792312, 3845304, 4249220, 3881348, 5982340, 3517428, 5327428, 6367692, 5599490, 4745802, 5815994, 5362738, 5007786, 4598522, 5921562, 4126858, 4121234, 5318114, 5013634, 5773418, 4451268, 7041756, 3900292, 5413740, 4585324, 3943980, 5856793, 5602273, 5582713, 5463665, 4385553, 4995689]}\n",
      "\n",
      "=====> GENERATING QUERIES <=====\n",
      "\n",
      "query_shape_train: 32, each tensor:torch.Size([512])\n",
      "query_shape_test: 32, each tensor:torch.Size([512])\n",
      "x_query:32, x_query-test :32\n",
      "\n",
      "=====>SAVING skin-cancer9-classesisic_nodoubttome_0_9 in m_train.pt <=====\n",
      "\n",
      "\n",
      "=====>SAVING {'dataset': ['sldc_0_10', 'sldc_0_10', 'sldc_0_10', 'sldc_0_10', 'sldc_0_10', 'sldc_0_10', 'corales_0_14', 'corales_0_14', 'corales_0_14', 'corales_0_14', 'corales_0_14', 'corales_0_14', '6000-store-items-images-classified-by-color_imoore_0_12', '6000-store-items-images-classified-by-color_imoore_0_12', '6000-store-items-images-classified-by-color_imoore_0_12', '6000-store-items-images-classified-by-color_imoore_0_12', '6000-store-items-images-classified-by-color_imoore_0_12', '6000-store-items-images-classified-by-color_imoore_0_12', 'fcis-sc-deeplearning-competition_0_10', 'fcis-sc-deeplearning-competition_0_10', 'fcis-sc-deeplearning-competition_0_10', 'fcis-sc-deeplearning-competition_0_10', 'fcis-sc-deeplearning-competition_0_10', 'fcis-sc-deeplearning-competition_0_10', 'lego-brick-images_joosthazelzet_0_16', 'lego-brick-images_joosthazelzet_0_16', 'lego-brick-images_joosthazelzet_0_16', 'lego-brick-images_joosthazelzet_0_16', 'lego-brick-images_joosthazelzet_0_16', 'lego-brick-images_joosthazelzet_0_16', 'oregon-wildlife_virtualdvid_0_20', 'oregon-wildlife_virtualdvid_0_20', 'oregon-wildlife_virtualdvid_0_20', 'oregon-wildlife_virtualdvid_0_20', 'oregon-wildlife_virtualdvid_0_20', 'oregon-wildlife_virtualdvid_0_20', 'perritos_0_10', 'perritos_0_10', 'perritos_0_10', 'perritos_0_10', 'perritos_0_10', 'perritos_0_10', 'khu-deep-learning-competition_0_10', 'khu-deep-learning-competition_0_10', 'khu-deep-learning-competition_0_10', 'khu-deep-learning-competition_0_10', 'khu-deep-learning-competition_0_10', 'khu-deep-learning-competition_0_10', 'plant-seedlings-classification_0_12', 'plant-seedlings-classification_0_12', 'plant-seedlings-classification_0_12', 'plant-seedlings-classification_0_12', 'plant-seedlings-classification_0_12', 'plant-seedlings-classification_0_12', 'skin-cancer9-classesisic_nodoubttome_0_9', 'skin-cancer9-classesisic_nodoubttome_0_9', 'skin-cancer9-classesisic_nodoubttome_0_9', 'skin-cancer9-classesisic_nodoubttome_0_9', 'skin-cancer9-classesisic_nodoubttome_0_9', 'skin-cancer9-classesisic_nodoubttome_0_9'], 'topol': [[3, 5, 5, 5, 7, 5, 5, 7, 3, 5, 7, 7, 7, 5, 7, 5, 3, 3, 7, 3, 4, 3, 6, 3, 6, 6, 4, 4, 6, 4, 3, 6, 6, 3, 4, 6, 3, 4, 6, 3, 3, 4, 2, 4, 4], [3, 7, 7, 7, 5, 7, 5, 3, 7, 5, 3, 3, 5, 5, 3, 7, 7, 5, 3, 5, 3, 4, 6, 3, 6, 4, 6, 4, 4, 3, 3, 3, 3, 6, 6, 3, 3, 4, 6, 4, 4, 3, 2, 2, 4], [3, 7, 5, 5, 3, 7, 7, 5, 5, 5, 5, 5, 5, 7, 7, 7, 7, 7, 5, 7, 6, 6, 6, 3, 6, 3, 4, 4, 6, 6, 6, 4, 3, 6, 4, 6, 6, 4, 6, 4, 2, 3, 3, 3, 4], [7, 5, 3, 3, 5, 3, 5, 5, 5, 5, 3, 7, 7, 5, 7, 3, 3, 5, 3, 5, 3, 4, 6, 6, 6, 3, 6, 3, 6, 3, 6, 4, 4, 6, 6, 4, 6, 6, 6, 4, 2, 2, 2, 3, 2], [3, 5, 5, 7, 5, 5, 7, 3, 7, 5, 5, 5, 3, 5, 3, 7, 5, 7, 7, 3, 3, 6, 3, 3, 6, 3, 6, 6, 4, 4, 3, 4, 4, 3, 6, 6, 4, 3, 4, 3, 4, 3, 4, 4, 4], [3, 3, 5, 5, 7, 5, 5, 5, 5, 5, 3, 3, 3, 3, 3, 7, 7, 3, 5, 5, 6, 4, 3, 4, 4, 4, 3, 6, 4, 3, 6, 4, 4, 4, 6, 6, 4, 4, 3, 6, 4, 2, 4, 3, 3], [7, 7, 5, 5, 5, 5, 3, 3, 3, 5, 7, 5, 5, 3, 3, 5, 5, 5, 7, 5, 3, 4, 3, 6, 6, 4, 3, 4, 6, 6, 4, 4, 6, 4, 4, 3, 6, 4, 3, 6, 2, 4, 4, 3, 2], [3, 3, 3, 7, 7, 5, 5, 7, 7, 5, 7, 7, 7, 7, 3, 5, 7, 7, 7, 3, 6, 4, 6, 3, 3, 4, 6, 6, 3, 3, 4, 4, 4, 4, 6, 6, 3, 4, 4, 3, 2, 4, 4, 2, 3], [5, 5, 3, 5, 7, 3, 5, 7, 7, 5, 3, 7, 7, 3, 3, 7, 3, 3, 7, 3, 4, 4, 6, 6, 3, 6, 3, 6, 3, 4, 4, 6, 3, 4, 6, 3, 6, 6, 4, 4, 4, 2, 4, 4, 4], [3, 5, 3, 5, 3, 3, 7, 7, 3, 3, 5, 7, 5, 3, 7, 7, 3, 3, 3, 7, 3, 4, 6, 6, 4, 4, 6, 6, 3, 3, 3, 6, 3, 6, 3, 4, 3, 4, 6, 6, 4, 4, 4, 3, 2], [3, 7, 7, 5, 7, 3, 7, 5, 7, 7, 7, 5, 7, 5, 3, 7, 5, 5, 5, 5, 6, 3, 6, 6, 4, 6, 6, 4, 6, 6, 6, 3, 3, 3, 3, 3, 6, 6, 4, 4, 3, 4, 2, 2, 3], [7, 7, 3, 3, 5, 7, 3, 5, 5, 3, 3, 3, 5, 7, 3, 7, 7, 5, 7, 7, 6, 3, 4, 3, 3, 3, 4, 3, 3, 4, 6, 6, 6, 4, 4, 6, 6, 4, 3, 4, 2, 2, 3, 4, 3], [7, 3, 3, 3, 3, 3, 5, 7, 5, 3, 5, 5, 3, 7, 7, 7, 5, 3, 7, 5, 3, 6, 3, 6, 6, 3, 4, 3, 6, 6, 3, 4, 3, 4, 4, 3, 4, 6, 6, 4, 3, 3, 2, 3, 3], [3, 3, 7, 5, 7, 3, 5, 7, 3, 5, 3, 5, 5, 5, 5, 3, 5, 5, 3, 3, 3, 6, 6, 6, 6, 6, 4, 3, 4, 4, 6, 4, 3, 6, 3, 6, 3, 6, 4, 6, 2, 2, 2, 3, 3], [5, 3, 5, 5, 5, 5, 7, 7, 3, 7, 7, 7, 3, 3, 7, 3, 7, 5, 5, 3, 3, 3, 6, 4, 6, 4, 4, 3, 6, 4, 6, 6, 3, 6, 4, 4, 3, 4, 3, 4, 3, 3, 4, 4, 4], [5, 5, 7, 5, 5, 5, 5, 7, 3, 3, 7, 3, 7, 5, 3, 3, 5, 7, 3, 3, 4, 4, 4, 4, 3, 4, 6, 3, 4, 6, 6, 3, 6, 3, 4, 6, 6, 4, 4, 6, 2, 4, 2, 3, 3], [7, 5, 3, 3, 7, 7, 7, 7, 5, 7, 5, 3, 7, 3, 5, 7, 3, 5, 7, 5, 4, 4, 4, 6, 4, 3, 3, 6, 3, 6, 4, 6, 6, 6, 6, 6, 3, 4, 6, 4, 2, 2, 2, 4, 3], [3, 3, 3, 7, 7, 3, 3, 7, 7, 7, 7, 5, 5, 7, 7, 3, 7, 7, 5, 7, 3, 4, 3, 3, 6, 3, 6, 3, 6, 3, 6, 3, 4, 3, 3, 6, 4, 4, 3, 6, 4, 4, 2, 4, 3], [3, 7, 7, 7, 3, 5, 3, 7, 5, 3, 5, 5, 7, 3, 5, 5, 3, 7, 5, 5, 4, 3, 4, 4, 3, 4, 6, 4, 6, 4, 3, 3, 3, 3, 6, 3, 4, 6, 4, 3, 4, 2, 4, 4, 3], [7, 7, 3, 5, 5, 5, 7, 3, 3, 5, 3, 3, 5, 7, 7, 3, 3, 7, 3, 3, 3, 3, 4, 6, 4, 6, 6, 6, 4, 3, 3, 6, 6, 4, 3, 4, 6, 4, 4, 4, 2, 4, 2, 3, 2], [3, 7, 7, 3, 5, 7, 7, 5, 7, 3, 5, 7, 7, 3, 5, 5, 5, 3, 3, 5, 3, 4, 3, 4, 3, 4, 6, 3, 6, 3, 4, 3, 4, 4, 4, 6, 3, 3, 4, 3, 3, 3, 2, 4, 2], [3, 7, 5, 3, 3, 5, 5, 7, 5, 7, 3, 5, 3, 7, 7, 5, 5, 7, 3, 3, 3, 3, 4, 6, 3, 6, 4, 3, 6, 4, 6, 4, 6, 6, 6, 6, 3, 4, 3, 6, 4, 4, 2, 2, 3], [3, 7, 3, 3, 5, 7, 5, 7, 5, 7, 7, 7, 7, 3, 3, 3, 7, 3, 3, 3, 6, 4, 4, 3, 4, 6, 4, 6, 4, 6, 6, 4, 4, 3, 3, 3, 6, 4, 3, 3, 2, 4, 4, 4, 4], [5, 5, 7, 5, 7, 3, 7, 7, 7, 5, 7, 3, 5, 3, 5, 7, 3, 7, 7, 5, 4, 3, 6, 6, 6, 3, 6, 3, 6, 3, 3, 6, 4, 4, 3, 3, 3, 3, 3, 3, 3, 2, 3, 4, 2], [7, 3, 7, 3, 5, 5, 3, 3, 7, 3, 7, 7, 7, 5, 5, 5, 5, 7, 5, 5, 6, 4, 3, 3, 4, 3, 3, 4, 4, 3, 6, 6, 3, 4, 4, 6, 6, 4, 6, 3, 3, 4, 4, 4, 2], [5, 5, 3, 7, 3, 7, 7, 5, 3, 7, 7, 5, 5, 7, 7, 7, 5, 7, 5, 3, 4, 4, 3, 3, 4, 3, 4, 6, 3, 3, 3, 4, 6, 6, 4, 6, 6, 4, 3, 4, 4, 4, 4, 3, 4], [5, 5, 3, 5, 7, 3, 5, 5, 3, 5, 7, 3, 5, 3, 3, 5, 7, 7, 5, 5, 4, 3, 6, 4, 6, 6, 6, 4, 3, 6, 6, 6, 4, 4, 4, 4, 3, 4, 3, 6, 2, 4, 2, 4, 3], [5, 3, 5, 3, 5, 3, 3, 3, 7, 3, 5, 7, 5, 7, 3, 7, 7, 5, 5, 3, 6, 3, 6, 6, 3, 4, 3, 4, 6, 3, 4, 6, 3, 3, 4, 4, 6, 6, 6, 4, 3, 4, 4, 4, 3], [7, 5, 3, 7, 3, 5, 3, 5, 3, 5, 7, 3, 7, 7, 5, 7, 7, 3, 3, 3, 3, 3, 6, 4, 3, 4, 4, 3, 3, 3, 3, 4, 3, 3, 3, 3, 6, 6, 4, 4, 2, 4, 2, 4, 2], [5, 7, 7, 5, 5, 5, 7, 7, 7, 3, 5, 5, 5, 5, 3, 3, 5, 7, 3, 5, 3, 4, 4, 3, 3, 6, 6, 4, 4, 3, 4, 3, 3, 6, 4, 6, 4, 3, 3, 3, 2, 2, 4, 2, 2], [5, 5, 7, 3, 3, 3, 5, 3, 5, 5, 3, 3, 5, 7, 5, 3, 5, 3, 7, 7, 3, 3, 4, 4, 3, 3, 3, 3, 4, 6, 6, 4, 3, 4, 6, 4, 4, 4, 3, 3, 4, 4, 3, 2, 3], [3, 5, 5, 5, 7, 5, 7, 7, 5, 5, 5, 5, 5, 7, 3, 5, 7, 7, 3, 5, 6, 6, 4, 6, 3, 3, 3, 4, 4, 3, 6, 4, 4, 3, 3, 6, 6, 3, 3, 6, 3, 4, 3, 2, 2], [3, 3, 7, 5, 5, 5, 7, 7, 7, 5, 3, 3, 3, 3, 7, 5, 5, 5, 3, 3, 3, 3, 3, 6, 4, 4, 6, 4, 3, 6, 4, 3, 6, 4, 3, 6, 6, 3, 4, 6, 2, 4, 2, 3, 4], [5, 3, 3, 3, 7, 5, 7, 3, 5, 5, 3, 3, 3, 5, 3, 5, 7, 3, 5, 3, 6, 3, 4, 6, 3, 6, 4, 3, 4, 3, 4, 4, 6, 3, 4, 4, 3, 3, 6, 6, 2, 3, 3, 2, 2], [3, 7, 3, 5, 3, 7, 5, 3, 7, 7, 3, 5, 5, 3, 7, 5, 5, 7, 7, 7, 4, 6, 6, 3, 6, 6, 4, 4, 3, 6, 6, 6, 3, 3, 3, 4, 4, 6, 3, 3, 2, 4, 3, 4, 3], [3, 3, 3, 5, 3, 3, 3, 5, 7, 3, 7, 5, 3, 7, 5, 3, 7, 7, 3, 7, 6, 3, 3, 6, 3, 6, 6, 3, 6, 6, 4, 4, 4, 3, 6, 3, 6, 3, 3, 6, 2, 3, 4, 4, 4], [5, 7, 3, 7, 3, 7, 5, 5, 5, 7, 7, 3, 3, 3, 7, 3, 5, 5, 3, 5, 6, 4, 6, 6, 6, 4, 6, 3, 4, 4, 3, 3, 6, 6, 4, 3, 4, 3, 6, 4, 2, 2, 3, 4, 3], [3, 3, 3, 3, 5, 7, 5, 3, 3, 7, 3, 3, 5, 3, 3, 3, 3, 3, 3, 3, 6, 3, 6, 4, 4, 3, 6, 6, 3, 6, 6, 3, 6, 6, 6, 3, 4, 3, 3, 4, 4, 3, 2, 4, 2], [5, 5, 7, 3, 3, 3, 7, 5, 7, 7, 3, 7, 5, 3, 5, 7, 7, 5, 5, 5, 4, 4, 3, 4, 3, 3, 6, 6, 6, 3, 4, 6, 6, 3, 3, 4, 6, 6, 6, 3, 2, 3, 3, 2, 3], [3, 3, 3, 3, 5, 3, 5, 3, 7, 3, 5, 5, 7, 3, 5, 7, 3, 5, 5, 7, 4, 3, 6, 4, 3, 6, 6, 4, 4, 4, 3, 6, 6, 3, 3, 6, 3, 3, 6, 6, 3, 2, 2, 4, 3], [3, 7, 5, 5, 7, 5, 7, 3, 3, 5, 5, 3, 5, 3, 5, 3, 3, 7, 3, 3, 3, 4, 4, 6, 6, 6, 3, 6, 6, 4, 3, 6, 6, 6, 6, 4, 3, 3, 3, 6, 3, 4, 4, 4, 2], [5, 7, 3, 3, 7, 5, 7, 5, 3, 3, 5, 5, 7, 3, 3, 7, 7, 3, 5, 5, 6, 3, 6, 6, 6, 3, 6, 6, 4, 3, 6, 3, 3, 3, 3, 3, 4, 6, 3, 3, 2, 2, 4, 2, 3], [3, 7, 5, 5, 5, 3, 7, 5, 7, 5, 3, 3, 5, 3, 3, 7, 3, 7, 3, 5, 3, 4, 3, 6, 4, 3, 3, 4, 4, 6, 6, 3, 3, 3, 6, 6, 4, 4, 3, 6, 4, 4, 4, 3, 4], [5, 3, 5, 3, 5, 3, 7, 3, 3, 5, 5, 3, 5, 7, 5, 7, 7, 5, 3, 7, 4, 4, 6, 3, 3, 6, 3, 3, 3, 3, 4, 4, 3, 6, 4, 3, 6, 3, 3, 3, 4, 3, 3, 2, 2], [7, 7, 5, 3, 7, 7, 3, 7, 5, 5, 7, 3, 3, 5, 7, 7, 5, 5, 5, 3, 4, 3, 4, 6, 3, 4, 6, 3, 3, 6, 3, 6, 3, 4, 3, 3, 6, 4, 3, 3, 3, 2, 4, 2, 2], [3, 7, 5, 3, 7, 7, 7, 5, 3, 3, 7, 7, 7, 5, 7, 5, 5, 5, 7, 5, 6, 3, 6, 4, 3, 3, 4, 6, 3, 4, 3, 6, 3, 4, 3, 3, 4, 3, 4, 4, 3, 3, 4, 4, 4], [5, 7, 7, 7, 7, 5, 5, 7, 7, 5, 7, 5, 5, 7, 7, 5, 7, 3, 3, 3, 6, 3, 6, 3, 4, 4, 4, 4, 6, 6, 4, 3, 4, 3, 6, 3, 3, 3, 4, 4, 4, 4, 4, 4, 3], [5, 5, 3, 3, 3, 7, 3, 3, 3, 7, 3, 5, 7, 5, 5, 7, 7, 3, 5, 7, 6, 3, 4, 3, 3, 4, 3, 3, 3, 3, 4, 3, 3, 6, 4, 6, 6, 4, 6, 3, 2, 3, 4, 3, 3], [3, 5, 3, 5, 3, 3, 5, 7, 3, 7, 3, 3, 3, 5, 3, 7, 7, 7, 5, 7, 3, 4, 3, 6, 3, 4, 3, 4, 4, 4, 3, 4, 3, 4, 6, 4, 4, 3, 3, 4, 3, 4, 3, 4, 2], [3, 5, 3, 3, 5, 7, 3, 5, 3, 7, 7, 3, 7, 5, 7, 3, 7, 5, 5, 3, 4, 4, 4, 4, 3, 4, 4, 4, 3, 6, 6, 6, 4, 6, 3, 4, 6, 6, 6, 4, 2, 2, 4, 3, 4], [3, 3, 7, 7, 5, 5, 3, 3, 3, 5, 5, 7, 7, 5, 7, 3, 5, 3, 3, 5, 4, 6, 6, 3, 6, 3, 3, 4, 6, 3, 4, 6, 4, 3, 6, 4, 6, 4, 4, 3, 4, 3, 2, 2, 2], [3, 3, 7, 5, 7, 5, 3, 5, 3, 5, 7, 3, 5, 3, 7, 3, 7, 5, 7, 7, 6, 4, 6, 6, 6, 3, 3, 3, 6, 4, 3, 6, 3, 3, 3, 4, 4, 6, 3, 3, 2, 2, 2, 4, 4], [5, 5, 3, 7, 5, 5, 7, 7, 3, 5, 3, 7, 5, 5, 5, 5, 3, 7, 5, 3, 3, 3, 4, 6, 6, 3, 4, 6, 6, 4, 3, 6, 3, 4, 4, 4, 4, 3, 4, 3, 2, 3, 4, 3, 3], [5, 3, 5, 7, 3, 7, 7, 3, 3, 7, 7, 3, 5, 3, 7, 7, 3, 5, 5, 3, 6, 6, 4, 4, 3, 6, 3, 4, 6, 4, 3, 6, 3, 6, 6, 4, 4, 4, 4, 3, 4, 2, 2, 2, 2], [5, 3, 7, 5, 5, 3, 3, 3, 7, 7, 3, 7, 3, 3, 7, 7, 7, 7, 3, 5, 4, 3, 3, 6, 6, 3, 3, 6, 6, 4, 3, 4, 3, 4, 4, 6, 6, 3, 4, 6, 2, 2, 3, 3, 4], [3, 7, 3, 5, 5, 3, 7, 3, 7, 5, 5, 5, 7, 5, 3, 3, 5, 3, 3, 3, 3, 6, 3, 4, 6, 6, 3, 4, 3, 3, 4, 6, 6, 6, 6, 3, 6, 6, 3, 3, 3, 4, 4, 2, 3], [5, 3, 5, 3, 5, 5, 3, 5, 7, 5, 7, 5, 5, 7, 7, 5, 7, 7, 5, 7, 6, 6, 6, 4, 6, 4, 6, 6, 3, 3, 3, 6, 3, 6, 4, 4, 3, 3, 6, 4, 3, 2, 4, 2, 4], [3, 3, 3, 7, 3, 7, 7, 7, 5, 3, 5, 7, 3, 7, 7, 7, 7, 3, 7, 3, 3, 3, 3, 4, 3, 3, 3, 4, 3, 6, 6, 3, 6, 3, 3, 6, 6, 6, 6, 4, 2, 2, 3, 4, 2], [7, 5, 3, 3, 7, 3, 3, 5, 3, 7, 7, 7, 7, 7, 7, 3, 7, 7, 3, 7, 4, 6, 4, 3, 4, 6, 3, 3, 6, 6, 3, 3, 3, 6, 6, 6, 3, 3, 4, 4, 3, 4, 2, 3, 2], [5, 7, 5, 5, 5, 7, 7, 5, 5, 3, 3, 5, 5, 3, 7, 5, 5, 7, 7, 7, 4, 3, 4, 6, 4, 6, 6, 3, 4, 4, 6, 4, 6, 4, 3, 3, 3, 6, 6, 6, 3, 3, 4, 4, 2]], 'f_emb': [tensor([-0., -0., -0.,  ..., -0., -0., -0.]), tensor([-0., -0., -0.,  ..., -0., -0., -0.]), tensor([1226.8495,   -0.0000,   -0.0000,  ...,   -0.0000,   -0.0000,\n",
      "          -0.0000]), tensor([-0., -0., -0.,  ..., -0., -0., -0.]), tensor([188.3607,  -0.0000,  -0.0000,  ...,  -0.0000,  -0.0000, 213.2732]), tensor([-0., -0., -0.,  ..., -0., -0., -0.]), tensor([-0., -0., -0.,  ..., -0., -0., -0.]), tensor([-0.0000, -0.0000, -0.0000,  ..., -0.0000, -0.0000, 9.9611]), tensor([38.6843, -0.0000, -0.0000,  ..., -0.0000, -0.0000, -0.0000]), tensor([ 0.5262, -0.3664,  0.4536,  ..., -0.3597, -0.2121, -0.3281]), tensor([-0., -0., -0.,  ..., -0., -0., -0.]), tensor([-0.0000, -0.0000, -0.0000,  ..., 30.1783, -0.0000,  3.6916]), tensor([-0., -0., -0.,  ..., -0., -0., -0.]), tensor([-0., -0., -0.,  ..., -0., -0., -0.]), tensor([18.3999, -0.0000, -0.0000,  ..., -0.0000, -0.0000, 45.3672]), tensor([ 0.2349,  0.1743,  0.1660,  ...,  0.3616,  0.0957, -0.3534]), tensor([-0.2793, -0.3249, -0.3683,  ..., -0.0000, -0.0000, -0.3627]), tensor([ 0.0759, -0.3346, -0.2591,  ...,  0.4824, -0.2551, -0.1757]), tensor([ 0.4264, -0.1865, -0.1025,  ..., -0.1637,  0.7777, -0.3373]), tensor([ 0.4347, -0.2336, -0.2793,  ..., -0.3347, -0.3469, -0.1162]), tensor([ 0.0104,  0.4655, -0.3177,  ..., -0.1076,  0.8267, -0.3667]), tensor([ 0.0873,  0.1475, -0.3670,  ..., -0.1698,  0.0327, -0.3572]), tensor([322.7029,  -0.0000,  83.4842,  ...,  -0.0000,  -0.0000,  -0.0000]), tensor([-0.3365, -0.0309, -0.3139,  ...,  0.1455, -0.3260, -0.3622]), tensor([-0.0000, -0.0000, -0.0000,  ..., -0.0000, -0.0000, 3.1642]), tensor([    -0.0000,     -0.0000, 159417.2812,  ...,     -0.0000,\n",
      "            -0.0000, 179515.1562]), tensor([-0.0014, -0.3527, -0.0000,  ..., -0.0000, -0.0000, -0.0000]), tensor([6770305.5000,      -0.0000,      -0.0000,  ...,      -0.0000,\n",
      "             -0.0000,      -0.0000]), tensor([1609.9169,   -0.0000,   -0.0000,  ...,   -0.0000,   -0.0000,\n",
      "          -0.0000]), tensor([-0., -0., -0.,  ..., -0., -0., -0.]), tensor([-0.0067, -0.3482, -0.3706,  ..., -0.3683, -0.0611,  0.0504]), tensor([ 1.4714, -0.0000, -0.0945,  ..., -0.2832, -0.0000, -0.3679]), tensor([ 1.7539, 21.7252, -0.0000,  ..., -0.0000, -0.0000, 13.5089]), tensor([-0.3179, -0.3455, -0.3743,  ..., -0.2527,  0.1497, -0.0043]), tensor([-0.3241, -0.2744, -0.1231,  ..., -0.1582, -0.2237, -0.0000]), tensor([-0.1600,  3.9948, -0.0000,  ..., -0.0000, -0.0000,  8.6842]), tensor([-0.1209,  0.0394, -0.3112,  ..., -0.2695, -0.1538, -0.1348]), tensor([255.8073,  -0.0000, 140.1278,  ...,  -0.0000,  -0.0000,  -0.0000]), tensor([-0., -0., -0.,  ..., -0., -0., -0.]), tensor([-0.0667, -0.2547, -0.3669,  ...,  0.1411, -0.0529, -0.0764]), tensor([ 0.0093, -0.3176, -0.3739,  ..., -0.1065,  0.4898, -0.3551]), tensor([-0.3701, -0.1757, -0.3706,  ..., -0.3319, -0.2591,  0.1290]), tensor([-0.3745, -0.1032, -0.1967,  ..., -0.0000, -0.0000, -0.0593]), tensor([-0.3677, -0.2142, -0.0000,  ..., -0.0000, -0.0000, -0.3277]), tensor([-0., -0., -0.,  ..., -0., -0., -0.]), tensor([3.1169, -0.0000, -0.0000,  ..., -0.0000, -0.0000, 8.0993]), tensor([-0.2472, -0.3239, -0.2829,  ..., -0.3483, -0.2882, -0.2494]), tensor([-0.3634, -0.3321, -0.1018,  ..., -0.3687, -0.3750, -0.2305]), tensor([-0.1774, -0.3653, -0.2880,  ..., -0.3545, -0.3617, -0.3650]), tensor([8691.3945,   -0.0000,   -0.0000,  ...,   -0.0000,   -0.0000,\n",
      "        8597.5059]), tensor([9.0331, -0.0000, -0.0000,  ..., -0.0000, -0.0000, -0.0000]), tensor([42.5141, -0.0000, -0.0000,  ..., -0.0000, -0.0000, -0.0000]), tensor([65.9789, -0.0000, -0.0000,  ..., -0.0000, -0.0000, -0.0000]), tensor([-0., -0., -0.,  ..., -0., -0., -0.]), tensor([722.0713,  -0.0000,  35.6799,  ...,  -0.0000, 312.9419,  70.5834]), tensor([-0., -0., -0.,  ..., -0., -0., -0.]), tensor([-0.1471, -0.2599, -0.3613,  ..., -0.1913, -0.1905, -0.0606]), tensor([22.6140, -0.0000, -0.0000,  ..., -0.0000, -0.0000, -0.0000]), tensor([-0.3726, -0.0000, -0.1174,  ..., -0.2874, -0.2048,  0.0823]), tensor([ 0.1614, -0.3211,  0.1441,  ..., -0.2685,  0.8395, -0.2161])], 'acc': [99.51923076923077, 99.03846153846153, 99.51923076923077, 99.51923076923077, 99.51923076923077, 99.51923076923077, 98.38709677419355, 96.7741935483871, 98.38709677419355, 98.38709677419355, 8.064516129032258, 96.7741935483871, 77.08333333333333, 76.4423076923077, 78.68589743589743, 77.40384615384616, 77.24358974358974, 78.36538461538461, 94.23076923076923, 75.64102564102564, 90.7051282051282, 94.23076923076923, 91.34615384615384, 94.23076923076923, 99.52978056426332, 99.3730407523511, 99.68652037617555, 99.68652037617555, 100.0, 99.3730407523511, 84.88700564971751, 87.99435028248588, 86.7231638418079, 85.73446327683615, 87.99435028248588, 86.44067796610169, 96.6740576496674, 97.11751662971176, 97.00665188470066, 97.22838137472284, 96.6740576496674, 95.56541019955654, 94.0, 94.6, 94.0, 95.0, 95.2, 95.0, 97.46835443037975, 95.78059071729957, 95.78059071729957, 95.78059071729957, 97.0464135021097, 95.9915611814346, 67.41071428571429, 66.96428571428571, 69.19642857142857, 67.85714285714286, 71.42857142857143, 70.98214285714286], 'n_params': [6228442, 5625114, 6570290, 5347354, 5825218, 4821626, 4711646, 4554646, 6688342, 4317614, 5203934, 5550702, 5717244, 5151700, 5773028, 5059684, 6364428, 4930308, 5608818, 4493962, 4318938, 4537954, 5514050, 3861938, 5155304, 6005320, 4798208, 6420784, 4792312, 3845304, 4249220, 3881348, 5982340, 3517428, 5327428, 6367692, 5599490, 4745802, 5815994, 5362738, 5007786, 4598522, 5921562, 4126858, 4121234, 5318114, 5013634, 5773418, 4451268, 7041756, 3900292, 5413740, 4585324, 3943980, 5856793, 5602273, 5582713, 5463665, 4385553, 4995689]} in model_zoo.pt <=====\n",
      "\n"
     ]
    }
   ],
   "source": [
    "%%bash\n",
    "cd /kaggle/working/TANS_trial/IE643\n",
    "python3 create_model_zoo.py --noise_path '/kaggle/input/noise-tans/noise.pt' --learn 0.01 --patience 5 --epochs 15 --model_zoo_path '/kaggle/working/' --m_train_path '/kaggle/working/' --batch_size 32 --dataset_path '/kaggle/input/model-zoo-tans/v14/geon/final_data/MetaTrain' --n_nets 6 --gpu 0 --seed 777"
   ]
  },
  {
   "cell_type": "markdown",
   "id": "4ee6b185",
   "metadata": {
    "papermill": {
     "duration": 0.419016,
     "end_time": "2023-11-28T03:40:01.751288",
     "exception": false,
     "start_time": "2023-11-28T03:40:01.332272",
     "status": "completed"
    },
    "tags": []
   },
   "source": [
    "# Learning Cross Modal Space"
   ]
  },
  {
   "cell_type": "code",
   "execution_count": 5,
   "id": "283ca46d",
   "metadata": {
    "execution": {
     "iopub.execute_input": "2023-11-28T03:40:02.574986Z",
     "iopub.status.busy": "2023-11-28T03:40:02.574588Z",
     "iopub.status.idle": "2023-11-28T03:40:02.582456Z",
     "shell.execute_reply": "2023-11-28T03:40:02.581585Z"
    },
    "papermill": {
     "duration": 0.421532,
     "end_time": "2023-11-28T03:40:02.584390",
     "exception": false,
     "start_time": "2023-11-28T03:40:02.162858",
     "status": "completed"
    },
    "tags": []
   },
   "outputs": [
    {
     "data": {
      "text/plain": [
       "'%%bash\\ncd TANS_trial/\\npython3 main.py --gpu 1 --mode train --batch-size 3 --n-epochs 100 --base-path \"/kaggle/working/\" --data-path \"/kaggle/working/\" --model-zoo \"/kaggle/working/model_zoo.pt\" --seed 777'"
      ]
     },
     "execution_count": 5,
     "metadata": {},
     "output_type": "execute_result"
    }
   ],
   "source": [
    "'''%%bash\n",
    "cd TANS_trial/\n",
    "python3 main.py --gpu 1 --mode train --batch-size 3 --n-epochs 100 --base-path \"/kaggle/working/\" --data-path \"/kaggle/working/\" --model-zoo \"/kaggle/working/model_zoo.pt\" --seed 777'''"
   ]
  },
  {
   "cell_type": "markdown",
   "id": "028f7243",
   "metadata": {
    "papermill": {
     "duration": 0.41098,
     "end_time": "2023-11-28T03:40:03.407803",
     "exception": false,
     "start_time": "2023-11-28T03:40:02.996823",
     "status": "completed"
    },
    "tags": []
   },
   "source": [
    "# Generating Processed Meta Test Datasets"
   ]
  },
  {
   "cell_type": "code",
   "execution_count": 6,
   "id": "74d96e2d",
   "metadata": {
    "execution": {
     "iopub.execute_input": "2023-11-28T03:40:04.228803Z",
     "iopub.status.busy": "2023-11-28T03:40:04.228444Z",
     "iopub.status.idle": "2023-11-28T03:40:04.234107Z",
     "shell.execute_reply": "2023-11-28T03:40:04.233256Z"
    },
    "papermill": {
     "duration": 0.419647,
     "end_time": "2023-11-28T03:40:04.236063",
     "exception": false,
     "start_time": "2023-11-28T03:40:03.816416",
     "status": "completed"
    },
    "tags": []
   },
   "outputs": [
    {
     "data": {
      "text/plain": [
       "\"%%bash\\ncd TANS_trial/IE643\\npython create_meta_dataset.py --dataset_path '/kaggle/input/ie-643-tans-meta-test-dataset' --save_path '/kaggle/working/proccessed_datasets' --gpu 0\""
      ]
     },
     "execution_count": 6,
     "metadata": {},
     "output_type": "execute_result"
    }
   ],
   "source": [
    "'''%%bash\n",
    "cd TANS_trial/IE643\n",
    "python create_meta_dataset.py --dataset_path '/kaggle/input/ie-643-tans-meta-test-dataset' --save_path '/kaggle/working/proccessed_datasets' --gpu 0'''"
   ]
  },
  {
   "cell_type": "markdown",
   "id": "499c282b",
   "metadata": {
    "papermill": {
     "duration": 0.412253,
     "end_time": "2023-11-28T03:40:05.059825",
     "exception": false,
     "start_time": "2023-11-28T03:40:04.647572",
     "status": "completed"
    },
    "tags": []
   },
   "source": [
    "# Retrieval"
   ]
  },
  {
   "cell_type": "code",
   "execution_count": 7,
   "id": "fd3d8bad",
   "metadata": {
    "execution": {
     "iopub.execute_input": "2023-11-28T03:40:05.956595Z",
     "iopub.status.busy": "2023-11-28T03:40:05.955727Z",
     "iopub.status.idle": "2023-11-28T03:40:05.961786Z",
     "shell.execute_reply": "2023-11-28T03:40:05.960943Z"
    },
    "papermill": {
     "duration": 0.420431,
     "end_time": "2023-11-28T03:40:05.963666",
     "exception": false,
     "start_time": "2023-11-28T03:40:05.543235",
     "status": "completed"
    },
    "tags": []
   },
   "outputs": [
    {
     "data": {
      "text/plain": [
       "'%%bash\\ncd \\'/kaggle/working/TANS_trial\\'\\npython3 main.py --gpu 0 --mode test --n-retrievals 1 --n-eps-finetuning 2 --batch-size 32 --load-path \"/kaggle/working/\" --data-path \"/kaggle/working/proccessed_datasets\" --model-zoo \"/kaggle/input/model-zoo-try1/model_zoo.pt\" --model-zoo-raw \"/kaggle/input/ie-643-ofa-nets/v14/geon/final_data/trained_ofa_models\" --base-path \"/kaggle/working/\" --seed 777'"
      ]
     },
     "execution_count": 7,
     "metadata": {},
     "output_type": "execute_result"
    }
   ],
   "source": [
    "'''%%bash\n",
    "cd '/kaggle/working/TANS_trial'\n",
    "python3 main.py --gpu 0 --mode test --n-retrievals 1 --n-eps-finetuning 2 --batch-size 32 --load-path \"/kaggle/working/\" --data-path \"/kaggle/working/proccessed_datasets\" --model-zoo \"/kaggle/input/model-zoo-try1/model_zoo.pt\" --model-zoo-raw \"/kaggle/input/ie-643-ofa-nets/v14/geon/final_data/trained_ofa_models\" --base-path \"/kaggle/working/\" --seed 777'''"
   ]
  },
  {
   "cell_type": "code",
   "execution_count": null,
   "id": "806caf6c",
   "metadata": {
    "papermill": {
     "duration": 0.412663,
     "end_time": "2023-11-28T03:40:06.785736",
     "exception": false,
     "start_time": "2023-11-28T03:40:06.373073",
     "status": "completed"
    },
    "tags": []
   },
   "outputs": [],
   "source": []
  }
 ],
 "metadata": {
  "kaggle": {
   "accelerator": "gpu",
   "dataSources": [
    {
     "datasetId": 4054560,
     "sourceId": 7046063,
     "sourceType": "datasetVersion"
    },
    {
     "datasetId": 4064718,
     "sourceId": 7060573,
     "sourceType": "datasetVersion"
    },
    {
     "datasetId": 4064331,
     "sourceId": 7060003,
     "sourceType": "datasetVersion"
    },
    {
     "datasetId": 4064469,
     "sourceId": 7060206,
     "sourceType": "datasetVersion"
    }
   ],
   "dockerImageVersionId": 30587,
   "isGpuEnabled": true,
   "isInternetEnabled": true,
   "language": "python",
   "sourceType": "notebook"
  },
  "kernelspec": {
   "display_name": "Python 3",
   "language": "python",
   "name": "python3"
  },
  "language_info": {
   "codemirror_mode": {
    "name": "ipython",
    "version": 3
   },
   "file_extension": ".py",
   "mimetype": "text/x-python",
   "name": "python",
   "nbconvert_exporter": "python",
   "pygments_lexer": "ipython3",
   "version": "3.10.12"
  },
  "papermill": {
   "default_parameters": {},
   "duration": 13515.164044,
   "end_time": "2023-11-28T03:40:07.442126",
   "environment_variables": {},
   "exception": null,
   "input_path": "__notebook__.ipynb",
   "output_path": "__notebook__.ipynb",
   "parameters": {},
   "start_time": "2023-11-27T23:54:52.278082",
   "version": "2.4.0"
  }
 },
 "nbformat": 4,
 "nbformat_minor": 5
}
